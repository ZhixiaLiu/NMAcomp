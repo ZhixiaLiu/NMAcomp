{
 "cells": [
  {
   "cell_type": "code",
   "execution_count": 1,
   "metadata": {},
   "outputs": [
    {
     "name": "stdout",
     "output_type": "stream",
     "text": [
      "Structure exists: 'PDB/1aba.cif' \n",
      "Structure exists: 'PDB/1aho.cif' \n",
      "Structure exists: 'PDB/1aie.cif' \n",
      "Structure exists: 'PDB/1akg.cif' \n",
      "Structure exists: 'PDB/1atg.cif' \n",
      "Structure exists: 'PDB/1bgf.cif' \n",
      "Structure exists: 'PDB/1bx7.cif' \n",
      "Structure exists: 'PDB/1byi.cif' \n",
      "Structure exists: 'PDB/1ccr.cif' \n",
      "Structure exists: 'PDB/1cyo.cif' \n",
      "Structure exists: 'PDB/1df4.cif' \n",
      "Structure exists: 'PDB/1e5k.cif' \n",
      "Structure exists: 'PDB/1es5.cif' \n",
      "Structure exists: 'PDB/1etl.cif' \n",
      "Structure exists: 'PDB/1etm.cif' \n",
      "Structure exists: 'PDB/1etn.cif' \n",
      "Structure exists: 'PDB/1ew4.cif' \n",
      "Structure exists: 'PDB/1f8r.cif' \n",
      "Structure exists: 'PDB/1ff4.cif' \n",
      "Structure exists: 'PDB/1fk5.cif' \n",
      "Structure exists: 'PDB/1gco.cif' \n",
      "Structure exists: 'PDB/1gk7.cif' \n",
      "Structure exists: 'PDB/1gvd.cif' \n",
      "Structure exists: 'PDB/1gxu.cif' \n",
      "Structure exists: 'PDB/1h6v.cif' \n",
      "Structure exists: 'PDB/1hje.cif' \n",
      "Structure exists: 'PDB/1i71.cif' \n",
      "Structure exists: 'PDB/1idp.cif' \n",
      "Structure exists: 'PDB/1ifr.cif' \n",
      "Structure exists: 'PDB/1k8u.cif' \n",
      "Structure exists: 'PDB/1kmm.cif' \n",
      "Structure exists: 'PDB/1kng.cif' \n",
      "Structure exists: 'PDB/1kr4.cif' \n",
      "Structure exists: 'PDB/1kyc.cif' \n",
      "Structure exists: 'PDB/1lr7.cif' \n",
      "Structure exists: 'PDB/1mf7.cif' \n",
      "Structure exists: 'PDB/1n7e.cif' \n",
      "Structure exists: 'PDB/1nkd.cif' \n",
      "Structure exists: 'PDB/1nko.cif' \n",
      "Structure exists: 'PDB/1nls.cif' \n",
      "Structure exists: 'PDB/1nnx.cif' \n",
      "Structure exists: 'PDB/1noa.cif' \n",
      "Structure exists: 'PDB/1not.cif' \n",
      "Structure exists: 'PDB/1o06.cif' \n",
      "Structure exists: 'PDB/1o08.cif' \n",
      "Structure exists: 'PDB/1ob4.cif' \n",
      "Structure exists: 'PDB/1ob7.cif' \n",
      "Structure exists: 'PDB/1opd.cif' \n",
      "Structure exists: 'PDB/1p9i.cif' \n",
      "Structure exists: 'PDB/2ce0.cif' \n",
      "Structure exists: 'PDB/2cg7.cif' \n",
      "Structure exists: 'PDB/2cov.cif' \n",
      "Structure exists: 'PDB/2cws.cif' \n",
      "Structure exists: 'PDB/2d5w.cif' \n",
      "Structure exists: 'PDB/2dko.cif' \n",
      "Structure exists: 'PDB/2dpl.cif' \n",
      "Structure exists: 'PDB/2dsx.cif' \n",
      "Structure exists: 'PDB/2e10.cif' \n",
      "Structure exists: 'PDB/2e3h.cif' \n",
      "Structure exists: 'PDB/2eaq.cif' \n",
      "Structure exists: 'PDB/2ehp.cif' \n",
      "Structure exists: 'PDB/2ehs.cif' \n",
      "Structure exists: 'PDB/2erw.cif' \n",
      "Structure exists: 'PDB/2etx.cif' \n",
      "Structure exists: 'PDB/2fb6.cif' \n",
      "Structure exists: 'PDB/2fg1.cif' \n",
      "Structure exists: 'PDB/2fn9.cif' \n",
      "Structure exists: 'PDB/2fq3.cif' \n",
      "Structure exists: 'PDB/2g69.cif' \n",
      "Structure exists: 'PDB/2g7o.cif' \n",
      "Structure exists: 'PDB/2g7s.cif' \n",
      "Structure exists: 'PDB/2gkg.cif' \n",
      "Structure exists: 'PDB/2gom.cif' \n",
      "Structure exists: 'PDB/2gxg.cif' \n",
      "Structure exists: 'PDB/2gzq.cif' \n",
      "Structure exists: 'PDB/2hqk.cif' \n",
      "Structure exists: 'PDB/2hyk.cif' \n",
      "Structure exists: 'PDB/2i24.cif' \n",
      "Structure exists: 'PDB/2i49.cif' \n",
      "Structure exists: 'PDB/2ibl.cif' \n",
      "Structure exists: 'PDB/2igd.cif' \n",
      "Structure exists: 'PDB/2imf.cif' \n",
      "Structure exists: 'PDB/2ip6.cif' \n",
      "Structure exists: 'PDB/2ivy.cif' \n",
      "Structure exists: 'PDB/2j32.cif' \n",
      "Structure exists: 'PDB/2j9w.cif' \n",
      "Structure exists: 'PDB/2jku.cif' \n",
      "Structure exists: 'PDB/2jli.cif' \n",
      "Structure exists: 'PDB/2jlj.cif' \n",
      "Structure exists: 'PDB/2mcm.cif' \n",
      "Structure exists: 'PDB/2nls.cif' \n",
      "Structure exists: 'PDB/2nr7.cif' \n",
      "Structure exists: 'PDB/2nuh.cif' \n",
      "Structure exists: 'PDB/2o6x.cif' \n",
      "Structure exists: 'PDB/2oa2.cif' \n",
      "Structure exists: 'PDB/2oct.cif' \n",
      "Structure exists: 'PDB/2ohw.cif' \n",
      "Structure exists: 'PDB/2okt.cif' \n",
      "Structure exists: 'PDB/2ol9.cif' \n",
      "Structure exists: 'PDB/3ba1.cif' \n",
      "Structure exists: 'PDB/3bed.cif' \n",
      "Structure exists: 'PDB/3bqx.cif' \n",
      "Structure exists: 'PDB/3bzq.cif' \n",
      "Structure exists: 'PDB/3bzz.cif' \n",
      "Structure exists: 'PDB/3drf.cif' \n",
      "Structure exists: 'PDB/3dwv.cif' \n",
      "Structure exists: 'PDB/3e5t.cif' \n",
      "Structure exists: 'PDB/3e7r.cif' \n",
      "Structure exists: 'PDB/3eur.cif' \n",
      "Structure exists: 'PDB/3f2z.cif' \n",
      "Structure exists: 'PDB/3f7e.cif' \n",
      "Structure exists: 'PDB/3fcn.cif' \n",
      "Structure exists: 'PDB/3fe7.cif' \n",
      "Structure exists: 'PDB/3fke.cif' \n",
      "Structure exists: 'PDB/3fmy.cif' \n",
      "Structure exists: 'PDB/3fod.cif' \n",
      "Structure exists: 'PDB/3fso.cif' \n",
      "Structure exists: 'PDB/3ftd.cif' \n",
      "Structure exists: 'PDB/3fva.cif' \n",
      "Structure exists: 'PDB/3g1s.cif' \n",
      "Structure exists: 'PDB/3gbw.cif' \n",
      "Structure exists: 'PDB/3ghj.cif' \n",
      "Structure exists: 'PDB/3hfo.cif' \n",
      "Structure exists: 'PDB/3hhp.cif' \n",
      "Structure exists: 'PDB/3hny.cif' \n",
      "Structure exists: 'PDB/3hp4.cif' \n",
      "Structure exists: 'PDB/3hwu.cif' \n",
      "Structure exists: 'PDB/3hyd.cif' \n",
      "Structure exists: 'PDB/3hz8.cif' \n",
      "Structure exists: 'PDB/3i2v.cif' \n",
      "Structure exists: 'PDB/3i2z.cif' \n",
      "Structure exists: 'PDB/3i4o.cif' \n",
      "Structure exists: 'PDB/3i7m.cif' \n",
      "Structure exists: 'PDB/3ihs.cif' \n",
      "Structure exists: 'PDB/3ivv.cif' \n",
      "Structure exists: 'PDB/3k6y.cif' \n",
      "Structure exists: 'PDB/3kbe.cif' \n",
      "Structure exists: 'PDB/3kgk.cif' \n",
      "Structure exists: 'PDB/3kzd.cif' \n",
      "Structure exists: 'PDB/3l41.cif' \n",
      "Structure exists: 'PDB/3laa.cif' \n",
      "Structure exists: 'PDB/3lax.cif' \n",
      "Structure exists: 'PDB/3lg3.cif' \n",
      "Structure exists: 'PDB/3lji.cif' \n",
      "Structure exists: 'PDB/3m3p.cif' \n",
      "Structure exists: 'PDB/3m8j.cif' \n",
      "Structure exists: 'PDB/3m9j.cif' \n",
      "Structure exists: 'PDB/3m9q.cif' \n",
      "Structure exists: 'PDB/3mab.cif' \n",
      "Structure exists: 'PDB/3u6g.cif' \n",
      "Structure exists: 'PDB/3u97.cif' \n",
      "Structure exists: 'PDB/3uci.cif' \n",
      "Structure exists: 'PDB/3ur8.cif' \n",
      "Structure exists: 'PDB/3us6.cif' \n",
      "Structure exists: 'PDB/3v1a.cif' \n",
      "Structure exists: 'PDB/3v75.cif' \n",
      "Structure exists: 'PDB/3vn0.cif' \n",
      "Structure exists: 'PDB/3vor.cif' \n",
      "Structure exists: 'PDB/3vub.cif' \n",
      "Structure exists: 'PDB/3vvv.cif' \n",
      "Structure exists: 'PDB/3vz9.cif' \n",
      "Structure exists: 'PDB/3w4q.cif' \n",
      "Structure exists: 'PDB/3zbd.cif' \n",
      "Structure exists: 'PDB/3zit.cif' \n",
      "Structure exists: 'PDB/3zrx.cif' \n",
      "Structure exists: 'PDB/3zsl.cif' \n",
      "Structure exists: 'PDB/3zzp.cif' \n",
      "Structure exists: 'PDB/3zzy.cif' \n",
      "Structure exists: 'PDB/4a02.cif' \n",
      "Structure exists: 'PDB/4acj.cif' \n",
      "Structure exists: 'PDB/4ae7.cif' \n",
      "Structure exists: 'PDB/4am1.cif' \n",
      "Structure exists: 'PDB/4ann.cif' \n",
      "Structure exists: 'PDB/4avr.cif' \n",
      "Structure exists: 'PDB/4axy.cif' \n",
      "Structure exists: 'PDB/4b6g.cif' \n",
      "Structure exists: 'PDB/4b9g.cif' \n",
      "Structure exists: 'PDB/4dd5.cif' \n",
      "Structure exists: 'PDB/4dkn.cif' \n",
      "Structure exists: 'PDB/4dnd.cif' \n",
      "Structure exists: 'PDB/4dpz.cif' \n",
      "Structure exists: 'PDB/4dq7.cif' \n",
      "Structure exists: 'PDB/1pef.cif' \n",
      "Structure exists: 'PDB/1pen.cif' \n",
      "Structure exists: 'PDB/1pmy.cif' \n",
      "Structure exists: 'PDB/1pz4.cif' \n",
      "Structure exists: 'PDB/1q9b.cif' \n",
      "Structure exists: 'PDB/1qau.cif' \n",
      "Structure exists: 'PDB/1qki.cif' \n",
      "Structure exists: 'PDB/1qto.cif' \n",
      "Structure exists: 'PDB/1r29.cif' \n",
      "Structure exists: 'PDB/1r7j.cif' \n",
      "Structure exists: 'PDB/1rju.cif' \n",
      "Structure exists: 'PDB/1rro.cif' \n",
      "Structure exists: 'PDB/1sau.cif' \n",
      "Structure exists: 'PDB/1tgr.cif' \n",
      "Structure exists: 'PDB/1tzv.cif' \n",
      "Structure exists: 'PDB/1u06.cif' \n",
      "Structure exists: 'PDB/1u7i.cif' \n",
      "Structure exists: 'PDB/1u9c.cif' \n",
      "Structure exists: 'PDB/1uha.cif' \n",
      "Structure exists: 'PDB/1uku.cif' \n",
      "Structure exists: 'PDB/1ulr.cif' \n",
      "Structure exists: 'PDB/1uoy.cif' \n",
      "Structure exists: 'PDB/1use.cif' \n",
      "Structure exists: 'PDB/1usm.cif' \n",
      "Structure exists: 'PDB/1utg.cif' \n",
      "Structure exists: 'PDB/1v05.cif' \n",
      "Structure exists: 'PDB/1v70.cif' \n",
      "Structure exists: 'PDB/1vrz.cif' \n",
      "Structure exists: 'PDB/1w2l.cif' \n",
      "Structure exists: 'PDB/1wbe.cif' \n",
      "Structure exists: 'PDB/1whi.cif' \n",
      "Structure exists: 'PDB/1wly.cif' \n",
      "Structure exists: 'PDB/1wpa.cif' \n",
      "Structure exists: 'PDB/1x3o.cif' \n",
      "Structure exists: 'PDB/1xy1.cif' \n",
      "Structure exists: 'PDB/1xy2.cif' \n",
      "Structure exists: 'PDB/1y6x.cif' \n",
      "Structure exists: 'PDB/1yjo.cif' \n",
      "Structure exists: 'PDB/1yzm.cif' \n",
      "Structure exists: 'PDB/1z21.cif' \n",
      "Structure exists: 'PDB/1zce.cif' \n",
      "Structure exists: 'PDB/1zva.cif' \n",
      "Structure exists: 'PDB/2a50.cif' \n",
      "Structure exists: 'PDB/2agk.cif' \n",
      "Structure exists: 'PDB/2ah1.cif' \n",
      "Structure exists: 'PDB/2b0a.cif' \n",
      "Structure exists: 'PDB/2bcm.cif' \n",
      "Structure exists: 'PDB/2bf9.cif' \n",
      "Structure exists: 'PDB/2brf.cif' \n",
      "Structure exists: 'PDB/2c71.cif' \n",
      "Structure exists: 'PDB/2olx.cif' \n",
      "Structure exists: 'PDB/2pkt.cif' \n",
      "Structure exists: 'PDB/2plt.cif' \n",
      "Structure exists: 'PDB/2pmr.cif' \n",
      "Structure exists: 'PDB/2pof.cif' \n",
      "Structure exists: 'PDB/2ppn.cif' \n",
      "Structure exists: 'PDB/2psf.cif' \n",
      "Structure exists: 'PDB/2pth.cif' \n",
      "Structure exists: 'PDB/2q4n.cif' \n",
      "Structure exists: 'PDB/2q52.cif' \n",
      "Structure exists: 'PDB/2qjl.cif' \n",
      "Structure exists: 'PDB/2r16.cif' \n",
      "Structure exists: 'PDB/2r6q.cif' \n",
      "Structure exists: 'PDB/2rb8.cif' \n",
      "Structure exists: 'PDB/2re2.cif' \n",
      "Structure exists: 'PDB/2rfr.cif' \n",
      "Structure exists: 'PDB/2v9v.cif' \n",
      "Structure exists: 'PDB/2ve8.cif' \n",
      "Structure exists: 'PDB/2vh7.cif' \n",
      "Structure exists: 'PDB/2vim.cif' \n",
      "Structure exists: 'PDB/2vpa.cif' \n",
      "Structure exists: 'PDB/2vq4.cif' \n",
      "Structure exists: 'PDB/2vy8.cif' \n",
      "Structure exists: 'PDB/2vyo.cif' \n",
      "Structure exists: 'PDB/2w1v.cif' \n",
      "Structure exists: 'PDB/2w2a.cif' \n",
      "Structure exists: 'PDB/2w6a.cif' \n",
      "Structure exists: 'PDB/2wj5.cif' \n",
      "Structure exists: 'PDB/2wuj.cif' \n",
      "Structure exists: 'PDB/2ww7.cif' \n",
      "Structure exists: 'PDB/2wwe.cif' \n",
      "Structure exists: 'PDB/2x1q.cif' \n",
      "Structure exists: 'PDB/2x25.cif' \n",
      "Structure exists: 'PDB/2x3m.cif' \n",
      "Structure exists: 'PDB/2x5y.cif' \n",
      "Structure exists: 'PDB/2x9z.cif' \n",
      "Structure exists: 'PDB/2xhf.cif' \n",
      "Structure exists: 'PDB/2y0t.cif' \n",
      "Structure exists: 'PDB/2y72.cif' \n",
      "Structure exists: 'PDB/2y7l.cif' \n",
      "Structure exists: 'PDB/2y9f.cif' \n",
      "Structure exists: 'PDB/2ylb.cif' \n",
      "Structure exists: 'PDB/2yny.cif' \n",
      "Structure exists: 'PDB/2zcm.cif' \n",
      "Structure exists: 'PDB/2zu1.cif' \n",
      "Structure exists: 'PDB/3a0m.cif' \n",
      "Structure exists: 'PDB/3a7l.cif' \n",
      "Structure exists: 'PDB/3amc.cif' \n",
      "Structure exists: 'PDB/3aub.cif' \n",
      "Structure exists: 'PDB/3b5o.cif' \n",
      "Structure exists: 'PDB/3md4.cif' \n",
      "Structure exists: 'PDB/3md5.cif' \n",
      "Structure exists: 'PDB/3mea.cif' \n",
      "Structure exists: 'PDB/3mgn.cif' \n",
      "Structure exists: 'PDB/3mre.cif' \n",
      "Structure exists: 'PDB/3n11.cif' \n",
      "Structure exists: 'PDB/3ne0.cif' \n",
      "Structure exists: 'PDB/3ngg.cif' \n",
      "Structure exists: 'PDB/3npv.cif' \n",
      "Structure exists: 'PDB/3nvg.cif' \n",
      "Structure exists: 'PDB/3nzl.cif' \n",
      "Structure exists: 'PDB/3o0p.cif' \n",
      "Structure exists: 'PDB/3o5p.cif' \n",
      "Structure exists: 'PDB/3obq.cif' \n",
      "Structure exists: 'PDB/3oqy.cif' \n",
      "Structure exists: 'PDB/3p6j.cif' \n",
      "Structure exists: 'PDB/3pd7.cif' \n",
      "Structure exists: 'PDB/3pes.cif' \n",
      "Structure exists: 'PDB/3pid.cif' \n",
      "Structure exists: 'PDB/3piw.cif' \n",
      "Structure exists: 'PDB/3pkv.cif' \n",
      "Structure exists: 'PDB/3psm.cif' \n",
      "Structure exists: 'PDB/3ptl.cif' \n",
      "Structure exists: 'PDB/3pve.cif' \n",
      "Structure exists: 'PDB/3pz9.cif' \n",
      "Structure exists: 'PDB/3pzz.cif' \n",
      "Structure exists: 'PDB/3q2x.cif' \n",
      "Structure exists: 'PDB/3q6l.cif' \n",
      "Structure exists: 'PDB/3qds.cif' \n",
      "Structure exists: 'PDB/3qpa.cif' \n",
      "Structure exists: 'PDB/3r6d.cif' \n",
      "Structure exists: 'PDB/3r87.cif' \n",
      "Structure exists: 'PDB/3rq9.cif' \n",
      "Structure exists: 'PDB/3ry0.cif' \n",
      "Structure exists: 'PDB/3rzy.cif' \n",
      "Structure exists: 'PDB/3s0a.cif' \n",
      "Structure exists: 'PDB/3sd2.cif' \n",
      "Structure exists: 'PDB/3seb.cif' \n",
      "Structure exists: 'PDB/3sed.cif' \n",
      "Structure exists: 'PDB/3so6.cif' \n",
      "Structure exists: 'PDB/3sr3.cif' \n",
      "Structure exists: 'PDB/3suk.cif' \n",
      "Structure exists: 'PDB/3szh.cif' \n",
      "Structure exists: 'PDB/3t0h.cif' \n",
      "Structure exists: 'PDB/3t3k.cif' \n",
      "Structure exists: 'PDB/3t47.cif' \n",
      "Structure exists: 'PDB/3tdn.cif' \n",
      "Structure exists: 'PDB/3tow.cif' \n",
      "Structure exists: 'PDB/3tua.cif' \n",
      "Structure exists: 'PDB/3tys.cif' \n",
      "Structure exists: 'PDB/4dt4.cif' \n",
      "Structure exists: 'PDB/4ek3.cif' \n",
      "Structure exists: 'PDB/4ery.cif' \n",
      "Structure exists: 'PDB/4es1.cif' \n",
      "Structure exists: 'PDB/4eug.cif' \n",
      "Structure exists: 'PDB/4f01.cif' \n",
      "Structure exists: 'PDB/4f3j.cif' \n",
      "Structure exists: 'PDB/4fr9.cif' \n",
      "Structure exists: 'PDB/4g14.cif' \n",
      "Structure exists: 'PDB/4g2e.cif' \n",
      "Structure exists: 'PDB/4g5x.cif' \n",
      "Structure exists: 'PDB/4g6c.cif' \n",
      "Structure exists: 'PDB/4g7x.cif' \n",
      "Structure exists: 'PDB/4ga2.cif' \n",
      "Structure exists: 'PDB/4gmq.cif' \n",
      "Structure exists: 'PDB/4gs3.cif' \n",
      "Structure exists: 'PDB/4h4j.cif' \n",
      "Structure exists: 'PDB/4h89.cif' \n",
      "Structure exists: 'PDB/4hde.cif' \n",
      "Structure exists: 'PDB/4hjp.cif' \n",
      "Structure exists: 'PDB/4hwm.cif' \n",
      "Structure exists: 'PDB/4il7.cif' \n",
      "Structure exists: 'PDB/4j11.cif' \n",
      "Structure exists: 'PDB/4j5o.cif' \n",
      "Structure exists: 'PDB/4j5q.cif' \n",
      "Structure exists: 'PDB/4j78.cif' \n",
      "Structure exists: 'PDB/4jg2.cif' \n",
      "Structure exists: 'PDB/4jvu.cif' \n",
      "Structure exists: 'PDB/4jyp.cif' \n",
      "Structure exists: 'PDB/4kef.cif' \n",
      "Structure exists: 'PDB/5cyt.cif' \n",
      "Structure exists: 'PDB/6rxn.cif' \n"
     ]
    },
    {
     "name": "stderr",
     "output_type": "stream",
     "text": [
      "WARNING: The default download format has changed from PDB to PDBx/mmCif\n",
      "WARNING: The default download format has changed from PDB to PDBx/mmCif\n",
      "WARNING: The default download format has changed from PDB to PDBx/mmCif\n",
      "WARNING: The default download format has changed from PDB to PDBx/mmCif\n",
      "WARNING: The default download format has changed from PDB to PDBx/mmCif\n",
      "WARNING: The default download format has changed from PDB to PDBx/mmCif\n",
      "WARNING: The default download format has changed from PDB to PDBx/mmCif\n",
      "WARNING: The default download format has changed from PDB to PDBx/mmCif\n",
      "WARNING: The default download format has changed from PDB to PDBx/mmCif\n",
      "WARNING: The default download format has changed from PDB to PDBx/mmCif\n",
      "WARNING: The default download format has changed from PDB to PDBx/mmCif\n",
      "WARNING: The default download format has changed from PDB to PDBx/mmCif\n",
      "WARNING: The default download format has changed from PDB to PDBx/mmCif\n",
      "WARNING: The default download format has changed from PDB to PDBx/mmCif\n",
      "WARNING: The default download format has changed from PDB to PDBx/mmCif\n",
      "WARNING: The default download format has changed from PDB to PDBx/mmCif\n",
      "WARNING: The default download format has changed from PDB to PDBx/mmCif\n",
      "WARNING: The default download format has changed from PDB to PDBx/mmCif\n",
      "WARNING: The default download format has changed from PDB to PDBx/mmCif\n",
      "WARNING: The default download format has changed from PDB to PDBx/mmCif\n",
      "WARNING: The default download format has changed from PDB to PDBx/mmCif\n",
      "WARNING: The default download format has changed from PDB to PDBx/mmCif\n",
      "WARNING: The default download format has changed from PDB to PDBx/mmCif\n",
      "WARNING: The default download format has changed from PDB to PDBx/mmCif\n",
      "WARNING: The default download format has changed from PDB to PDBx/mmCif\n",
      "WARNING: The default download format has changed from PDB to PDBx/mmCif\n",
      "WARNING: The default download format has changed from PDB to PDBx/mmCif\n",
      "WARNING: The default download format has changed from PDB to PDBx/mmCif\n",
      "WARNING: The default download format has changed from PDB to PDBx/mmCif\n",
      "WARNING: The default download format has changed from PDB to PDBx/mmCif\n",
      "WARNING: The default download format has changed from PDB to PDBx/mmCif\n",
      "WARNING: The default download format has changed from PDB to PDBx/mmCif\n",
      "WARNING: The default download format has changed from PDB to PDBx/mmCif\n",
      "WARNING: The default download format has changed from PDB to PDBx/mmCif\n",
      "WARNING: The default download format has changed from PDB to PDBx/mmCif\n",
      "WARNING: The default download format has changed from PDB to PDBx/mmCif\n",
      "WARNING: The default download format has changed from PDB to PDBx/mmCif\n",
      "WARNING: The default download format has changed from PDB to PDBx/mmCif\n",
      "WARNING: The default download format has changed from PDB to PDBx/mmCif\n",
      "WARNING: The default download format has changed from PDB to PDBx/mmCif\n",
      "WARNING: The default download format has changed from PDB to PDBx/mmCif\n",
      "WARNING: The default download format has changed from PDB to PDBx/mmCif\n",
      "WARNING: The default download format has changed from PDB to PDBx/mmCif\n",
      "WARNING: The default download format has changed from PDB to PDBx/mmCif\n",
      "WARNING: The default download format has changed from PDB to PDBx/mmCif\n",
      "WARNING: The default download format has changed from PDB to PDBx/mmCif\n",
      "WARNING: The default download format has changed from PDB to PDBx/mmCif\n",
      "WARNING: The default download format has changed from PDB to PDBx/mmCif\n",
      "WARNING: The default download format has changed from PDB to PDBx/mmCif\n",
      "WARNING: The default download format has changed from PDB to PDBx/mmCif\n",
      "WARNING: The default download format has changed from PDB to PDBx/mmCif\n",
      "WARNING: The default download format has changed from PDB to PDBx/mmCif\n",
      "WARNING: The default download format has changed from PDB to PDBx/mmCif\n",
      "WARNING: The default download format has changed from PDB to PDBx/mmCif\n",
      "WARNING: The default download format has changed from PDB to PDBx/mmCif\n",
      "WARNING: The default download format has changed from PDB to PDBx/mmCif\n",
      "WARNING: The default download format has changed from PDB to PDBx/mmCif\n",
      "WARNING: The default download format has changed from PDB to PDBx/mmCif\n",
      "WARNING: The default download format has changed from PDB to PDBx/mmCif\n",
      "WARNING: The default download format has changed from PDB to PDBx/mmCif\n",
      "WARNING: The default download format has changed from PDB to PDBx/mmCif\n",
      "WARNING: The default download format has changed from PDB to PDBx/mmCif\n",
      "WARNING: The default download format has changed from PDB to PDBx/mmCif\n",
      "WARNING: The default download format has changed from PDB to PDBx/mmCif\n",
      "WARNING: The default download format has changed from PDB to PDBx/mmCif\n",
      "WARNING: The default download format has changed from PDB to PDBx/mmCif\n",
      "WARNING: The default download format has changed from PDB to PDBx/mmCif\n",
      "WARNING: The default download format has changed from PDB to PDBx/mmCif\n",
      "WARNING: The default download format has changed from PDB to PDBx/mmCif\n",
      "WARNING: The default download format has changed from PDB to PDBx/mmCif\n",
      "WARNING: The default download format has changed from PDB to PDBx/mmCif\n",
      "WARNING: The default download format has changed from PDB to PDBx/mmCif\n",
      "WARNING: The default download format has changed from PDB to PDBx/mmCif\n",
      "WARNING: The default download format has changed from PDB to PDBx/mmCif\n",
      "WARNING: The default download format has changed from PDB to PDBx/mmCif\n",
      "WARNING: The default download format has changed from PDB to PDBx/mmCif\n",
      "WARNING: The default download format has changed from PDB to PDBx/mmCif\n",
      "WARNING: The default download format has changed from PDB to PDBx/mmCif\n",
      "WARNING: The default download format has changed from PDB to PDBx/mmCif\n",
      "WARNING: The default download format has changed from PDB to PDBx/mmCif\n",
      "WARNING: The default download format has changed from PDB to PDBx/mmCif\n",
      "WARNING: The default download format has changed from PDB to PDBx/mmCif\n",
      "WARNING: The default download format has changed from PDB to PDBx/mmCif\n",
      "WARNING: The default download format has changed from PDB to PDBx/mmCif\n",
      "WARNING: The default download format has changed from PDB to PDBx/mmCif\n",
      "WARNING: The default download format has changed from PDB to PDBx/mmCif\n",
      "WARNING: The default download format has changed from PDB to PDBx/mmCif\n",
      "WARNING: The default download format has changed from PDB to PDBx/mmCif\n",
      "WARNING: The default download format has changed from PDB to PDBx/mmCif\n",
      "WARNING: The default download format has changed from PDB to PDBx/mmCif\n",
      "WARNING: The default download format has changed from PDB to PDBx/mmCif\n",
      "WARNING: The default download format has changed from PDB to PDBx/mmCif\n",
      "WARNING: The default download format has changed from PDB to PDBx/mmCif\n",
      "WARNING: The default download format has changed from PDB to PDBx/mmCif\n",
      "WARNING: The default download format has changed from PDB to PDBx/mmCif\n",
      "WARNING: The default download format has changed from PDB to PDBx/mmCif\n",
      "WARNING: The default download format has changed from PDB to PDBx/mmCif\n",
      "WARNING: The default download format has changed from PDB to PDBx/mmCif\n",
      "WARNING: The default download format has changed from PDB to PDBx/mmCif\n",
      "WARNING: The default download format has changed from PDB to PDBx/mmCif\n",
      "WARNING: The default download format has changed from PDB to PDBx/mmCif\n",
      "WARNING: The default download format has changed from PDB to PDBx/mmCif\n",
      "WARNING: The default download format has changed from PDB to PDBx/mmCif\n",
      "WARNING: The default download format has changed from PDB to PDBx/mmCif\n",
      "WARNING: The default download format has changed from PDB to PDBx/mmCif\n",
      "WARNING: The default download format has changed from PDB to PDBx/mmCif\n",
      "WARNING: The default download format has changed from PDB to PDBx/mmCif\n",
      "WARNING: The default download format has changed from PDB to PDBx/mmCif\n",
      "WARNING: The default download format has changed from PDB to PDBx/mmCif\n",
      "WARNING: The default download format has changed from PDB to PDBx/mmCif\n",
      "WARNING: The default download format has changed from PDB to PDBx/mmCif\n",
      "WARNING: The default download format has changed from PDB to PDBx/mmCif\n",
      "WARNING: The default download format has changed from PDB to PDBx/mmCif\n",
      "WARNING: The default download format has changed from PDB to PDBx/mmCif\n",
      "WARNING: The default download format has changed from PDB to PDBx/mmCif\n",
      "WARNING: The default download format has changed from PDB to PDBx/mmCif\n",
      "WARNING: The default download format has changed from PDB to PDBx/mmCif\n",
      "WARNING: The default download format has changed from PDB to PDBx/mmCif\n",
      "WARNING: The default download format has changed from PDB to PDBx/mmCif\n",
      "WARNING: The default download format has changed from PDB to PDBx/mmCif\n",
      "WARNING: The default download format has changed from PDB to PDBx/mmCif\n",
      "WARNING: The default download format has changed from PDB to PDBx/mmCif\n",
      "WARNING: The default download format has changed from PDB to PDBx/mmCif\n",
      "WARNING: The default download format has changed from PDB to PDBx/mmCif\n",
      "WARNING: The default download format has changed from PDB to PDBx/mmCif\n",
      "WARNING: The default download format has changed from PDB to PDBx/mmCif\n",
      "WARNING: The default download format has changed from PDB to PDBx/mmCif\n",
      "WARNING: The default download format has changed from PDB to PDBx/mmCif\n",
      "WARNING: The default download format has changed from PDB to PDBx/mmCif\n",
      "WARNING: The default download format has changed from PDB to PDBx/mmCif\n",
      "WARNING: The default download format has changed from PDB to PDBx/mmCif\n",
      "WARNING: The default download format has changed from PDB to PDBx/mmCif\n",
      "WARNING: The default download format has changed from PDB to PDBx/mmCif\n",
      "WARNING: The default download format has changed from PDB to PDBx/mmCif\n",
      "WARNING: The default download format has changed from PDB to PDBx/mmCif\n",
      "WARNING: The default download format has changed from PDB to PDBx/mmCif\n",
      "WARNING: The default download format has changed from PDB to PDBx/mmCif\n",
      "WARNING: The default download format has changed from PDB to PDBx/mmCif\n",
      "WARNING: The default download format has changed from PDB to PDBx/mmCif\n",
      "WARNING: The default download format has changed from PDB to PDBx/mmCif\n",
      "WARNING: The default download format has changed from PDB to PDBx/mmCif\n",
      "WARNING: The default download format has changed from PDB to PDBx/mmCif\n",
      "WARNING: The default download format has changed from PDB to PDBx/mmCif\n",
      "WARNING: The default download format has changed from PDB to PDBx/mmCif\n",
      "WARNING: The default download format has changed from PDB to PDBx/mmCif\n",
      "WARNING: The default download format has changed from PDB to PDBx/mmCif\n",
      "WARNING: The default download format has changed from PDB to PDBx/mmCif\n",
      "WARNING: The default download format has changed from PDB to PDBx/mmCif\n",
      "WARNING: The default download format has changed from PDB to PDBx/mmCif\n",
      "WARNING: The default download format has changed from PDB to PDBx/mmCif\n",
      "WARNING: The default download format has changed from PDB to PDBx/mmCif\n",
      "WARNING: The default download format has changed from PDB to PDBx/mmCif\n",
      "WARNING: The default download format has changed from PDB to PDBx/mmCif\n",
      "WARNING: The default download format has changed from PDB to PDBx/mmCif\n",
      "WARNING: The default download format has changed from PDB to PDBx/mmCif\n",
      "WARNING: The default download format has changed from PDB to PDBx/mmCif\n",
      "WARNING: The default download format has changed from PDB to PDBx/mmCif\n",
      "WARNING: The default download format has changed from PDB to PDBx/mmCif\n",
      "WARNING: The default download format has changed from PDB to PDBx/mmCif\n",
      "WARNING: The default download format has changed from PDB to PDBx/mmCif\n",
      "WARNING: The default download format has changed from PDB to PDBx/mmCif\n",
      "WARNING: The default download format has changed from PDB to PDBx/mmCif\n",
      "WARNING: The default download format has changed from PDB to PDBx/mmCif\n",
      "WARNING: The default download format has changed from PDB to PDBx/mmCif\n",
      "WARNING: The default download format has changed from PDB to PDBx/mmCif\n",
      "WARNING: The default download format has changed from PDB to PDBx/mmCif\n",
      "WARNING: The default download format has changed from PDB to PDBx/mmCif\n",
      "WARNING: The default download format has changed from PDB to PDBx/mmCif\n",
      "WARNING: The default download format has changed from PDB to PDBx/mmCif\n",
      "WARNING: The default download format has changed from PDB to PDBx/mmCif\n",
      "WARNING: The default download format has changed from PDB to PDBx/mmCif\n",
      "WARNING: The default download format has changed from PDB to PDBx/mmCif\n",
      "WARNING: The default download format has changed from PDB to PDBx/mmCif\n",
      "WARNING: The default download format has changed from PDB to PDBx/mmCif\n",
      "WARNING: The default download format has changed from PDB to PDBx/mmCif\n",
      "WARNING: The default download format has changed from PDB to PDBx/mmCif\n",
      "WARNING: The default download format has changed from PDB to PDBx/mmCif\n",
      "WARNING: The default download format has changed from PDB to PDBx/mmCif\n",
      "WARNING: The default download format has changed from PDB to PDBx/mmCif\n",
      "WARNING: The default download format has changed from PDB to PDBx/mmCif\n",
      "WARNING: The default download format has changed from PDB to PDBx/mmCif\n",
      "WARNING: The default download format has changed from PDB to PDBx/mmCif\n",
      "WARNING: The default download format has changed from PDB to PDBx/mmCif\n",
      "WARNING: The default download format has changed from PDB to PDBx/mmCif\n",
      "WARNING: The default download format has changed from PDB to PDBx/mmCif\n",
      "WARNING: The default download format has changed from PDB to PDBx/mmCif\n",
      "WARNING: The default download format has changed from PDB to PDBx/mmCif\n",
      "WARNING: The default download format has changed from PDB to PDBx/mmCif\n",
      "WARNING: The default download format has changed from PDB to PDBx/mmCif\n",
      "WARNING: The default download format has changed from PDB to PDBx/mmCif\n",
      "WARNING: The default download format has changed from PDB to PDBx/mmCif\n",
      "WARNING: The default download format has changed from PDB to PDBx/mmCif\n",
      "WARNING: The default download format has changed from PDB to PDBx/mmCif\n",
      "WARNING: The default download format has changed from PDB to PDBx/mmCif\n",
      "WARNING: The default download format has changed from PDB to PDBx/mmCif\n",
      "WARNING: The default download format has changed from PDB to PDBx/mmCif\n",
      "WARNING: The default download format has changed from PDB to PDBx/mmCif\n",
      "WARNING: The default download format has changed from PDB to PDBx/mmCif\n",
      "WARNING: The default download format has changed from PDB to PDBx/mmCif\n",
      "WARNING: The default download format has changed from PDB to PDBx/mmCif\n",
      "WARNING: The default download format has changed from PDB to PDBx/mmCif\n",
      "WARNING: The default download format has changed from PDB to PDBx/mmCif\n",
      "WARNING: The default download format has changed from PDB to PDBx/mmCif\n",
      "WARNING: The default download format has changed from PDB to PDBx/mmCif\n",
      "WARNING: The default download format has changed from PDB to PDBx/mmCif\n",
      "WARNING: The default download format has changed from PDB to PDBx/mmCif\n",
      "WARNING: The default download format has changed from PDB to PDBx/mmCif\n",
      "WARNING: The default download format has changed from PDB to PDBx/mmCif\n",
      "WARNING: The default download format has changed from PDB to PDBx/mmCif\n",
      "WARNING: The default download format has changed from PDB to PDBx/mmCif\n",
      "WARNING: The default download format has changed from PDB to PDBx/mmCif\n",
      "WARNING: The default download format has changed from PDB to PDBx/mmCif\n",
      "WARNING: The default download format has changed from PDB to PDBx/mmCif\n",
      "WARNING: The default download format has changed from PDB to PDBx/mmCif\n",
      "WARNING: The default download format has changed from PDB to PDBx/mmCif\n",
      "WARNING: The default download format has changed from PDB to PDBx/mmCif\n",
      "WARNING: The default download format has changed from PDB to PDBx/mmCif\n",
      "WARNING: The default download format has changed from PDB to PDBx/mmCif\n",
      "WARNING: The default download format has changed from PDB to PDBx/mmCif\n",
      "WARNING: The default download format has changed from PDB to PDBx/mmCif\n",
      "WARNING: The default download format has changed from PDB to PDBx/mmCif\n",
      "WARNING: The default download format has changed from PDB to PDBx/mmCif\n",
      "WARNING: The default download format has changed from PDB to PDBx/mmCif\n",
      "WARNING: The default download format has changed from PDB to PDBx/mmCif\n",
      "WARNING: The default download format has changed from PDB to PDBx/mmCif\n",
      "WARNING: The default download format has changed from PDB to PDBx/mmCif\n",
      "WARNING: The default download format has changed from PDB to PDBx/mmCif\n",
      "WARNING: The default download format has changed from PDB to PDBx/mmCif\n",
      "WARNING: The default download format has changed from PDB to PDBx/mmCif\n",
      "WARNING: The default download format has changed from PDB to PDBx/mmCif\n",
      "WARNING: The default download format has changed from PDB to PDBx/mmCif\n",
      "WARNING: The default download format has changed from PDB to PDBx/mmCif\n",
      "WARNING: The default download format has changed from PDB to PDBx/mmCif\n",
      "WARNING: The default download format has changed from PDB to PDBx/mmCif\n",
      "WARNING: The default download format has changed from PDB to PDBx/mmCif\n",
      "WARNING: The default download format has changed from PDB to PDBx/mmCif\n",
      "WARNING: The default download format has changed from PDB to PDBx/mmCif\n",
      "WARNING: The default download format has changed from PDB to PDBx/mmCif\n",
      "WARNING: The default download format has changed from PDB to PDBx/mmCif\n",
      "WARNING: The default download format has changed from PDB to PDBx/mmCif\n",
      "WARNING: The default download format has changed from PDB to PDBx/mmCif\n",
      "WARNING: The default download format has changed from PDB to PDBx/mmCif\n",
      "WARNING: The default download format has changed from PDB to PDBx/mmCif\n",
      "WARNING: The default download format has changed from PDB to PDBx/mmCif\n",
      "WARNING: The default download format has changed from PDB to PDBx/mmCif\n",
      "WARNING: The default download format has changed from PDB to PDBx/mmCif\n",
      "WARNING: The default download format has changed from PDB to PDBx/mmCif\n",
      "WARNING: The default download format has changed from PDB to PDBx/mmCif\n",
      "WARNING: The default download format has changed from PDB to PDBx/mmCif\n",
      "WARNING: The default download format has changed from PDB to PDBx/mmCif\n",
      "WARNING: The default download format has changed from PDB to PDBx/mmCif\n",
      "WARNING: The default download format has changed from PDB to PDBx/mmCif\n",
      "WARNING: The default download format has changed from PDB to PDBx/mmCif\n",
      "WARNING: The default download format has changed from PDB to PDBx/mmCif\n",
      "WARNING: The default download format has changed from PDB to PDBx/mmCif\n",
      "WARNING: The default download format has changed from PDB to PDBx/mmCif\n",
      "WARNING: The default download format has changed from PDB to PDBx/mmCif\n",
      "WARNING: The default download format has changed from PDB to PDBx/mmCif\n",
      "WARNING: The default download format has changed from PDB to PDBx/mmCif\n",
      "WARNING: The default download format has changed from PDB to PDBx/mmCif\n",
      "WARNING: The default download format has changed from PDB to PDBx/mmCif\n",
      "WARNING: The default download format has changed from PDB to PDBx/mmCif\n",
      "WARNING: The default download format has changed from PDB to PDBx/mmCif\n",
      "WARNING: The default download format has changed from PDB to PDBx/mmCif\n",
      "WARNING: The default download format has changed from PDB to PDBx/mmCif\n",
      "WARNING: The default download format has changed from PDB to PDBx/mmCif\n",
      "WARNING: The default download format has changed from PDB to PDBx/mmCif\n",
      "WARNING: The default download format has changed from PDB to PDBx/mmCif\n",
      "WARNING: The default download format has changed from PDB to PDBx/mmCif\n",
      "WARNING: The default download format has changed from PDB to PDBx/mmCif\n",
      "WARNING: The default download format has changed from PDB to PDBx/mmCif\n",
      "WARNING: The default download format has changed from PDB to PDBx/mmCif\n",
      "WARNING: The default download format has changed from PDB to PDBx/mmCif\n",
      "WARNING: The default download format has changed from PDB to PDBx/mmCif\n",
      "WARNING: The default download format has changed from PDB to PDBx/mmCif\n",
      "WARNING: The default download format has changed from PDB to PDBx/mmCif\n",
      "WARNING: The default download format has changed from PDB to PDBx/mmCif\n",
      "WARNING: The default download format has changed from PDB to PDBx/mmCif\n",
      "WARNING: The default download format has changed from PDB to PDBx/mmCif\n",
      "WARNING: The default download format has changed from PDB to PDBx/mmCif\n",
      "WARNING: The default download format has changed from PDB to PDBx/mmCif\n",
      "WARNING: The default download format has changed from PDB to PDBx/mmCif\n",
      "WARNING: The default download format has changed from PDB to PDBx/mmCif\n",
      "WARNING: The default download format has changed from PDB to PDBx/mmCif\n",
      "WARNING: The default download format has changed from PDB to PDBx/mmCif\n",
      "WARNING: The default download format has changed from PDB to PDBx/mmCif\n",
      "WARNING: The default download format has changed from PDB to PDBx/mmCif\n",
      "WARNING: The default download format has changed from PDB to PDBx/mmCif\n",
      "WARNING: The default download format has changed from PDB to PDBx/mmCif\n",
      "WARNING: The default download format has changed from PDB to PDBx/mmCif\n",
      "WARNING: The default download format has changed from PDB to PDBx/mmCif\n",
      "WARNING: The default download format has changed from PDB to PDBx/mmCif\n",
      "WARNING: The default download format has changed from PDB to PDBx/mmCif\n",
      "WARNING: The default download format has changed from PDB to PDBx/mmCif\n",
      "WARNING: The default download format has changed from PDB to PDBx/mmCif\n",
      "WARNING: The default download format has changed from PDB to PDBx/mmCif\n",
      "WARNING: The default download format has changed from PDB to PDBx/mmCif\n",
      "WARNING: The default download format has changed from PDB to PDBx/mmCif\n",
      "WARNING: The default download format has changed from PDB to PDBx/mmCif\n",
      "WARNING: The default download format has changed from PDB to PDBx/mmCif\n",
      "WARNING: The default download format has changed from PDB to PDBx/mmCif\n",
      "WARNING: The default download format has changed from PDB to PDBx/mmCif\n",
      "WARNING: The default download format has changed from PDB to PDBx/mmCif\n",
      "WARNING: The default download format has changed from PDB to PDBx/mmCif\n",
      "WARNING: The default download format has changed from PDB to PDBx/mmCif\n",
      "WARNING: The default download format has changed from PDB to PDBx/mmCif\n",
      "WARNING: The default download format has changed from PDB to PDBx/mmCif\n",
      "WARNING: The default download format has changed from PDB to PDBx/mmCif\n",
      "WARNING: The default download format has changed from PDB to PDBx/mmCif\n",
      "WARNING: The default download format has changed from PDB to PDBx/mmCif\n",
      "WARNING: The default download format has changed from PDB to PDBx/mmCif\n",
      "WARNING: The default download format has changed from PDB to PDBx/mmCif\n",
      "WARNING: The default download format has changed from PDB to PDBx/mmCif\n",
      "WARNING: The default download format has changed from PDB to PDBx/mmCif\n",
      "WARNING: The default download format has changed from PDB to PDBx/mmCif\n",
      "WARNING: The default download format has changed from PDB to PDBx/mmCif\n",
      "WARNING: The default download format has changed from PDB to PDBx/mmCif\n",
      "WARNING: The default download format has changed from PDB to PDBx/mmCif\n",
      "WARNING: The default download format has changed from PDB to PDBx/mmCif\n",
      "WARNING: The default download format has changed from PDB to PDBx/mmCif\n",
      "WARNING: The default download format has changed from PDB to PDBx/mmCif\n",
      "WARNING: The default download format has changed from PDB to PDBx/mmCif\n",
      "WARNING: The default download format has changed from PDB to PDBx/mmCif\n",
      "WARNING: The default download format has changed from PDB to PDBx/mmCif\n",
      "WARNING: The default download format has changed from PDB to PDBx/mmCif\n",
      "WARNING: The default download format has changed from PDB to PDBx/mmCif\n",
      "WARNING: The default download format has changed from PDB to PDBx/mmCif\n",
      "WARNING: The default download format has changed from PDB to PDBx/mmCif\n",
      "WARNING: The default download format has changed from PDB to PDBx/mmCif\n",
      "WARNING: The default download format has changed from PDB to PDBx/mmCif\n",
      "WARNING: The default download format has changed from PDB to PDBx/mmCif\n",
      "WARNING: The default download format has changed from PDB to PDBx/mmCif\n",
      "WARNING: The default download format has changed from PDB to PDBx/mmCif\n",
      "WARNING: The default download format has changed from PDB to PDBx/mmCif\n",
      "WARNING: The default download format has changed from PDB to PDBx/mmCif\n",
      "WARNING: The default download format has changed from PDB to PDBx/mmCif\n",
      "WARNING: The default download format has changed from PDB to PDBx/mmCif\n",
      "WARNING: The default download format has changed from PDB to PDBx/mmCif\n",
      "WARNING: The default download format has changed from PDB to PDBx/mmCif\n",
      "WARNING: The default download format has changed from PDB to PDBx/mmCif\n",
      "WARNING: The default download format has changed from PDB to PDBx/mmCif\n",
      "WARNING: The default download format has changed from PDB to PDBx/mmCif\n",
      "WARNING: The default download format has changed from PDB to PDBx/mmCif\n",
      "WARNING: The default download format has changed from PDB to PDBx/mmCif\n",
      "WARNING: The default download format has changed from PDB to PDBx/mmCif\n",
      "WARNING: The default download format has changed from PDB to PDBx/mmCif\n",
      "WARNING: The default download format has changed from PDB to PDBx/mmCif\n",
      "WARNING: The default download format has changed from PDB to PDBx/mmCif\n",
      "WARNING: The default download format has changed from PDB to PDBx/mmCif\n",
      "WARNING: The default download format has changed from PDB to PDBx/mmCif\n",
      "WARNING: The default download format has changed from PDB to PDBx/mmCif\n",
      "WARNING: The default download format has changed from PDB to PDBx/mmCif\n",
      "WARNING: The default download format has changed from PDB to PDBx/mmCif\n",
      "WARNING: The default download format has changed from PDB to PDBx/mmCif\n",
      "WARNING: The default download format has changed from PDB to PDBx/mmCif\n",
      "WARNING: The default download format has changed from PDB to PDBx/mmCif\n",
      "WARNING: The default download format has changed from PDB to PDBx/mmCif\n",
      "WARNING: The default download format has changed from PDB to PDBx/mmCif\n",
      "WARNING: The default download format has changed from PDB to PDBx/mmCif\n",
      "WARNING: The default download format has changed from PDB to PDBx/mmCif\n",
      "WARNING: The default download format has changed from PDB to PDBx/mmCif\n",
      "WARNING: The default download format has changed from PDB to PDBx/mmCif\n",
      "WARNING: The default download format has changed from PDB to PDBx/mmCif\n",
      "WARNING: The default download format has changed from PDB to PDBx/mmCif\n"
     ]
    },
    {
     "data": {
      "text/plain": [
       "<matplotlib.pyplot._IonContext at 0x7f58f1e7c7d0>"
      ]
     },
     "execution_count": 1,
     "metadata": {},
     "output_type": "execute_result"
    }
   ],
   "source": [
    "import sys\n",
    "import os\n",
    "from prody import parsePDB,calcTempFactors,parseMMCIF,confProDy\n",
    "from pylab import *\n",
    "import matplotlib.pyplot as plt\n",
    "import numpy as np\n",
    "from Bio.PDB import *\n",
    "from multiscale import MultiscaleGNM,MultiscaleANM,multiscale_gamma\n",
    "from os import listdir\n",
    "from collections import defaultdict\n",
    "import pickle\n",
    "import multiprocessing as mp\n",
    "from functools import partial\n",
    "from testmod import *\n",
    "ion()"
   ]
  },
  {
   "cell_type": "code",
   "execution_count": 2,
   "metadata": {},
   "outputs": [
    {
     "name": "stdout",
     "output_type": "stream",
     "text": [
      "Number of processors:  96\n"
     ]
    }
   ],
   "source": [
    "confProDy(verbosity='none')\n",
    "print(\"Number of processors: \", mp.cpu_count())"
   ]
  },
  {
   "cell_type": "markdown",
   "metadata": {},
   "source": [
    "## Build test engien"
   ]
  },
  {
   "cell_type": "markdown",
   "metadata": {},
   "source": [
    "with open('pdbid.txt','r') as f:\n",
    "    pdblist = f.read().split()"
   ]
  },
  {
   "cell_type": "markdown",
   "metadata": {},
   "source": [
    "pdbl = PDBList()\n",
    "for i in pdblist:\n",
    "    pdbl.retrieve_pdb_file(i,pdir='PDB')"
   ]
  },
  {
   "cell_type": "markdown",
   "metadata": {},
   "source": [
    "f_path = \"./PDB/\"\n",
    "nameset = sort(list(set([l.split(\".\")[0] for l in listdir(f_path)])))"
   ]
  },
  {
   "cell_type": "markdown",
   "metadata": {},
   "source": [
    "def getBfactor(structure):\n",
    "    bfactor = []\n",
    "    for i in structure.get_atoms():\n",
    "        if i.get_name() == 'CA':\n",
    "            bfactor.append(i.get_bfactor())\n",
    "    bfactor = np.array(bfactor)\n",
    "    return bfactor"
   ]
  },
  {
   "cell_type": "markdown",
   "metadata": {},
   "source": [
    "def getMatrix(calpha,init_eta,kernel,model,i):\n",
    "        eta = i+init_eta\n",
    "        if model == 'mGNM': \n",
    "            nm = MultiscaleGNM()\n",
    "            nm.buildKirchhoff(calpha,cutoff=9999, gamma=multiscale_gamma(eta=eta,v=3,kernel=kernel))\n",
    "            return nm.getKirchhoff()\n",
    "        elif model == 'mANM':\n",
    "            nm = MultiscaleANM()\n",
    "            nm.buildHessian(calpha,cutoff=9999, gamma=multiscale_gamma(eta=eta,v=3,kernel=kernel))\n",
    "            return nm.getHessian()"
   ]
  },
  {
   "cell_type": "markdown",
   "metadata": {},
   "source": [
    "def pccFromModel(calpha,bfactor,test_range,init_eta,kernel,model='mGNM'):\n",
    "    pcc_grid = np.zeros((test_range,test_range))\n",
    "    func = partial(getMatrix, calpha,init_eta,kernel,model)\n",
    "    with mp.Pool(min(test_range,mp.cpu_count())) as pool:\n",
    "        pre_build=pool.map(func,range(test_range))       \n",
    "    #print(pre_build[0].shape)\n",
    "    #print(size(bfactor))\n",
    "    for i in range(test_range):\n",
    "        for j in range(i,test_range):\n",
    "            if i != j:\n",
    "                mat = [pre_build[i],pre_build[j]]\n",
    "            else:\n",
    "                mat = [pre_build[i]]\n",
    "            if model=='mGNM':\n",
    "                nm = MultiscaleGNM()\n",
    "                nm.buildMultiscaleKirchhoffFromKernels(mat,bfactor)\n",
    "                nm.calcModes('all')\n",
    "            elif model =='mANM':\n",
    "                nm = MultiscaleANM()\n",
    "                nm.buildMultiscaleHessianFromKernels(mat,bfactor)\n",
    "                nm.calcModes('all')\n",
    "            tempfluc = calcTempFactors(nm,calpha)\n",
    "            pcc_grid[i,j] = pcc_grid[j,i] = np.corrcoef(tempfluc,bfactor)[0,1]\n",
    "    return pcc_grid"
   ]
  },
  {
   "cell_type": "markdown",
   "metadata": {},
   "source": [
    "# parrelization with multiproccess\n",
    "test_range = 30\n",
    "def pcc_pool(name,model,kernel):\n",
    "    #print(name)\n",
    "    parser = MMCIFParser()\n",
    "    structure = parser.get_structure(name,f_path+name+'.cif')\n",
    "    bfactor = getBfactor(structure)\n",
    "    cur_str = parseMMCIF(f_path+name+'.cif')\n",
    "    calpha = cur_str.select('name CA')\n",
    "    if kernel == 'ilf':\n",
    "        init_eta = 5\n",
    "    else:\n",
    "        init_eta = 1\n",
    "    pcc=pccFromModel(calpha,bfactor,test_range=30,init_eta=init_eta,kernel=kernel,model=model)\n",
    "    return pcc\n",
    "\n"
   ]
  },
  {
   "cell_type": "code",
   "execution_count": 3,
   "metadata": {
    "scrolled": false
   },
   "outputs": [],
   "source": [
    "precalc = len(nameset)"
   ]
  },
  {
   "cell_type": "code",
   "execution_count": 4,
   "metadata": {},
   "outputs": [
    {
     "name": "stdout",
     "output_type": "stream",
     "text": [
      "Help on function calc_save in module testmod:\n",
      "\n",
      "calc_save(model, kernel, nameset, logfile='./logfile', exclude_long=1000)\n",
      "    input:\n",
      "        model: name of model, in the set ('mGNM','mANM')\n",
      "        kernel: name of kernel, in the set ('exponential','lorenz','ilf')\n",
      "        nameset: list of pdbid, the pdbid of pre-downloaded proteins\n",
      "        logfile: the saved path of logfile\n",
      "        exclude_long: the cut off size, above which the structure is excluded\n",
      "    putput:\n",
      "        pcc_total: a list of pcc matrices, order is the same as nameset\n",
      "    save_path is the path to save precalculated data.\n",
      "    file_path is the path individual matrix is saved.\n",
      "\n"
     ]
    }
   ],
   "source": [
    "help(calc_save)"
   ]
  },
  {
   "cell_type": "code",
   "execution_count": 5,
   "metadata": {},
   "outputs": [
    {
     "name": "stdout",
     "output_type": "stream",
     "text": [
      "[Errno 17] File exists: './result/mGNM_exponential/'\n",
      "0 1aba\n",
      "1 1agn\n"
     ]
    },
    {
     "name": "stderr",
     "output_type": "stream",
     "text": [
      "/wsu/home/fr/fr15/fr1583/.conda/envs/protein/lib/python3.7/site-packages/Bio/PDB/StructureBuilder.py:92: PDBConstructionWarning: WARNING: Chain A is discontinuous at line 11156.\n",
      "  PDBConstructionWarning,\n",
      "/wsu/home/fr/fr15/fr1583/.conda/envs/protein/lib/python3.7/site-packages/Bio/PDB/StructureBuilder.py:92: PDBConstructionWarning: WARNING: Chain B is discontinuous at line 11215.\n",
      "  PDBConstructionWarning,\n",
      "/wsu/home/fr/fr15/fr1583/.conda/envs/protein/lib/python3.7/site-packages/Bio/PDB/StructureBuilder.py:92: PDBConstructionWarning: WARNING: Chain C is discontinuous at line 11280.\n",
      "  PDBConstructionWarning,\n",
      "/wsu/home/fr/fr15/fr1583/.conda/envs/protein/lib/python3.7/site-packages/Bio/PDB/StructureBuilder.py:92: PDBConstructionWarning: WARNING: Chain D is discontinuous at line 11331.\n",
      "  PDBConstructionWarning,\n",
      "/wsu/home/fr/fr15/fr1583/.conda/envs/protein/lib/python3.7/site-packages/Bio/PDB/StructureBuilder.py:92: PDBConstructionWarning: WARNING: Chain A is discontinuous at line 11388.\n",
      "  PDBConstructionWarning,\n",
      "/wsu/home/fr/fr15/fr1583/.conda/envs/protein/lib/python3.7/site-packages/Bio/PDB/StructureBuilder.py:92: PDBConstructionWarning: WARNING: Chain B is discontinuous at line 11389.\n",
      "  PDBConstructionWarning,\n",
      "/wsu/home/fr/fr15/fr1583/.conda/envs/protein/lib/python3.7/site-packages/Bio/PDB/StructureBuilder.py:92: PDBConstructionWarning: WARNING: Chain C is discontinuous at line 11393.\n",
      "  PDBConstructionWarning,\n",
      "/wsu/home/fr/fr15/fr1583/.conda/envs/protein/lib/python3.7/site-packages/Bio/PDB/StructureBuilder.py:92: PDBConstructionWarning: WARNING: Chain D is discontinuous at line 11394.\n",
      "  PDBConstructionWarning,\n"
     ]
    },
    {
     "name": "stdout",
     "output_type": "stream",
     "text": [
      "skipped\n",
      "2 1aho\n",
      "3 1aie\n",
      "4 1akg\n",
      "5 1atg\n",
      "6 1bgf\n",
      "7 1bx7\n",
      "8 1byi\n",
      "9 1ccr\n",
      "10 1cyo\n",
      "11 1df4\n",
      "12 1e5k\n",
      "13 1es5\n",
      "14 1etl\n",
      "15 1etm\n",
      "16 1etn\n",
      "17 1ew4\n",
      "18 1f8r\n"
     ]
    },
    {
     "name": "stderr",
     "output_type": "stream",
     "text": [
      "/wsu/home/fr/fr15/fr1583/.conda/envs/protein/lib/python3.7/site-packages/Bio/PDB/StructureBuilder.py:92: PDBConstructionWarning: WARNING: Chain A is discontinuous at line 15443.\n",
      "  PDBConstructionWarning,\n",
      "/wsu/home/fr/fr15/fr1583/.conda/envs/protein/lib/python3.7/site-packages/Bio/PDB/StructureBuilder.py:92: PDBConstructionWarning: WARNING: Chain B is discontinuous at line 15523.\n",
      "  PDBConstructionWarning,\n",
      "/wsu/home/fr/fr15/fr1583/.conda/envs/protein/lib/python3.7/site-packages/Bio/PDB/StructureBuilder.py:92: PDBConstructionWarning: WARNING: Chain C is discontinuous at line 15603.\n",
      "  PDBConstructionWarning,\n",
      "/wsu/home/fr/fr15/fr1583/.conda/envs/protein/lib/python3.7/site-packages/Bio/PDB/StructureBuilder.py:92: PDBConstructionWarning: WARNING: Chain D is discontinuous at line 15683.\n",
      "  PDBConstructionWarning,\n",
      "/wsu/home/fr/fr15/fr1583/.conda/envs/protein/lib/python3.7/site-packages/Bio/PDB/StructureBuilder.py:92: PDBConstructionWarning: WARNING: Chain A is discontinuous at line 15763.\n",
      "  PDBConstructionWarning,\n",
      "/wsu/home/fr/fr15/fr1583/.conda/envs/protein/lib/python3.7/site-packages/Bio/PDB/StructureBuilder.py:92: PDBConstructionWarning: WARNING: Chain B is discontinuous at line 16229.\n",
      "  PDBConstructionWarning,\n",
      "/wsu/home/fr/fr15/fr1583/.conda/envs/protein/lib/python3.7/site-packages/Bio/PDB/StructureBuilder.py:92: PDBConstructionWarning: WARNING: Chain C is discontinuous at line 16726.\n",
      "  PDBConstructionWarning,\n",
      "/wsu/home/fr/fr15/fr1583/.conda/envs/protein/lib/python3.7/site-packages/Bio/PDB/StructureBuilder.py:92: PDBConstructionWarning: WARNING: Chain D is discontinuous at line 17187.\n",
      "  PDBConstructionWarning,\n"
     ]
    },
    {
     "name": "stdout",
     "output_type": "stream",
     "text": [
      "skipped\n",
      "19 1ff4\n",
      "20 1fk5\n",
      "21 1gco\n"
     ]
    },
    {
     "name": "stderr",
     "output_type": "stream",
     "text": [
      "/wsu/home/fr/fr15/fr1583/.conda/envs/protein/lib/python3.7/site-packages/Bio/PDB/StructureBuilder.py:92: PDBConstructionWarning: WARNING: Chain A is discontinuous at line 7888.\n",
      "  PDBConstructionWarning,\n",
      "/wsu/home/fr/fr15/fr1583/.conda/envs/protein/lib/python3.7/site-packages/Bio/PDB/StructureBuilder.py:92: PDBConstructionWarning: WARNING: Chain B is discontinuous at line 7932.\n",
      "  PDBConstructionWarning,\n",
      "/wsu/home/fr/fr15/fr1583/.conda/envs/protein/lib/python3.7/site-packages/Bio/PDB/StructureBuilder.py:92: PDBConstructionWarning: WARNING: Chain E is discontinuous at line 7976.\n",
      "  PDBConstructionWarning,\n",
      "/wsu/home/fr/fr15/fr1583/.conda/envs/protein/lib/python3.7/site-packages/Bio/PDB/StructureBuilder.py:92: PDBConstructionWarning: WARNING: Chain F is discontinuous at line 8020.\n",
      "  PDBConstructionWarning,\n",
      "/wsu/home/fr/fr15/fr1583/.conda/envs/protein/lib/python3.7/site-packages/Bio/PDB/StructureBuilder.py:92: PDBConstructionWarning: WARNING: Chain A is discontinuous at line 8064.\n",
      "  PDBConstructionWarning,\n",
      "/wsu/home/fr/fr15/fr1583/.conda/envs/protein/lib/python3.7/site-packages/Bio/PDB/StructureBuilder.py:92: PDBConstructionWarning: WARNING: Chain B is discontinuous at line 8206.\n",
      "  PDBConstructionWarning,\n",
      "/wsu/home/fr/fr15/fr1583/.conda/envs/protein/lib/python3.7/site-packages/Bio/PDB/StructureBuilder.py:92: PDBConstructionWarning: WARNING: Chain E is discontinuous at line 8341.\n",
      "  PDBConstructionWarning,\n",
      "/wsu/home/fr/fr15/fr1583/.conda/envs/protein/lib/python3.7/site-packages/Bio/PDB/StructureBuilder.py:92: PDBConstructionWarning: WARNING: Chain F is discontinuous at line 8486.\n",
      "  PDBConstructionWarning,\n"
     ]
    },
    {
     "name": "stdout",
     "output_type": "stream",
     "text": [
      "skipped\n",
      "22 1gk7\n",
      "23 1gvd\n",
      "24 1gxu\n",
      "25 1h6v\n"
     ]
    },
    {
     "name": "stderr",
     "output_type": "stream",
     "text": [
      "/wsu/home/fr/fr15/fr1583/.conda/envs/protein/lib/python3.7/site-packages/Bio/PDB/StructureBuilder.py:92: PDBConstructionWarning: WARNING: Chain A is discontinuous at line 22514.\n",
      "  PDBConstructionWarning,\n",
      "/wsu/home/fr/fr15/fr1583/.conda/envs/protein/lib/python3.7/site-packages/Bio/PDB/StructureBuilder.py:92: PDBConstructionWarning: WARNING: Chain B is discontinuous at line 22606.\n",
      "  PDBConstructionWarning,\n",
      "/wsu/home/fr/fr15/fr1583/.conda/envs/protein/lib/python3.7/site-packages/Bio/PDB/StructureBuilder.py:92: PDBConstructionWarning: WARNING: Chain C is discontinuous at line 22698.\n",
      "  PDBConstructionWarning,\n",
      "/wsu/home/fr/fr15/fr1583/.conda/envs/protein/lib/python3.7/site-packages/Bio/PDB/StructureBuilder.py:92: PDBConstructionWarning: WARNING: Chain D is discontinuous at line 22790.\n",
      "  PDBConstructionWarning,\n",
      "/wsu/home/fr/fr15/fr1583/.conda/envs/protein/lib/python3.7/site-packages/Bio/PDB/StructureBuilder.py:92: PDBConstructionWarning: WARNING: Chain E is discontinuous at line 22882.\n",
      "  PDBConstructionWarning,\n",
      "/wsu/home/fr/fr15/fr1583/.conda/envs/protein/lib/python3.7/site-packages/Bio/PDB/StructureBuilder.py:92: PDBConstructionWarning: WARNING: Chain F is discontinuous at line 22974.\n",
      "  PDBConstructionWarning,\n",
      "/wsu/home/fr/fr15/fr1583/.conda/envs/protein/lib/python3.7/site-packages/Bio/PDB/StructureBuilder.py:92: PDBConstructionWarning: WARNING: Chain A is discontinuous at line 23066.\n",
      "  PDBConstructionWarning,\n",
      "/wsu/home/fr/fr15/fr1583/.conda/envs/protein/lib/python3.7/site-packages/Bio/PDB/StructureBuilder.py:92: PDBConstructionWarning: WARNING: Chain B is discontinuous at line 23067.\n",
      "  PDBConstructionWarning,\n",
      "/wsu/home/fr/fr15/fr1583/.conda/envs/protein/lib/python3.7/site-packages/Bio/PDB/StructureBuilder.py:92: PDBConstructionWarning: WARNING: Chain C is discontinuous at line 23068.\n",
      "  PDBConstructionWarning,\n",
      "/wsu/home/fr/fr15/fr1583/.conda/envs/protein/lib/python3.7/site-packages/Bio/PDB/StructureBuilder.py:92: PDBConstructionWarning: WARNING: Chain D is discontinuous at line 23071.\n",
      "  PDBConstructionWarning,\n",
      "/wsu/home/fr/fr15/fr1583/.conda/envs/protein/lib/python3.7/site-packages/Bio/PDB/StructureBuilder.py:92: PDBConstructionWarning: WARNING: Chain E is discontinuous at line 23072.\n",
      "  PDBConstructionWarning,\n",
      "/wsu/home/fr/fr15/fr1583/.conda/envs/protein/lib/python3.7/site-packages/Bio/PDB/StructureBuilder.py:92: PDBConstructionWarning: WARNING: Chain F is discontinuous at line 23074.\n",
      "  PDBConstructionWarning,\n"
     ]
    },
    {
     "name": "stdout",
     "output_type": "stream",
     "text": [
      "skipped\n",
      "26 1hje\n",
      "27 1i71\n",
      "28 1idp\n",
      "29 1ifr\n",
      "30 1k8u\n",
      "31 1kmm\n"
     ]
    },
    {
     "name": "stderr",
     "output_type": "stream",
     "text": [
      "/wsu/home/fr/fr15/fr1583/.conda/envs/protein/lib/python3.7/site-packages/Bio/PDB/StructureBuilder.py:92: PDBConstructionWarning: WARNING: Chain A is discontinuous at line 14289.\n",
      "  PDBConstructionWarning,\n",
      "/wsu/home/fr/fr15/fr1583/.conda/envs/protein/lib/python3.7/site-packages/Bio/PDB/StructureBuilder.py:92: PDBConstructionWarning: WARNING: Chain B is discontinuous at line 14329.\n",
      "  PDBConstructionWarning,\n",
      "/wsu/home/fr/fr15/fr1583/.conda/envs/protein/lib/python3.7/site-packages/Bio/PDB/StructureBuilder.py:92: PDBConstructionWarning: WARNING: Chain C is discontinuous at line 14369.\n",
      "  PDBConstructionWarning,\n",
      "/wsu/home/fr/fr15/fr1583/.conda/envs/protein/lib/python3.7/site-packages/Bio/PDB/StructureBuilder.py:92: PDBConstructionWarning: WARNING: Chain D is discontinuous at line 14409.\n",
      "  PDBConstructionWarning,\n",
      "/wsu/home/fr/fr15/fr1583/.conda/envs/protein/lib/python3.7/site-packages/Bio/PDB/StructureBuilder.py:92: PDBConstructionWarning: WARNING: Chain A is discontinuous at line 14449.\n",
      "  PDBConstructionWarning,\n",
      "/wsu/home/fr/fr15/fr1583/.conda/envs/protein/lib/python3.7/site-packages/Bio/PDB/StructureBuilder.py:92: PDBConstructionWarning: WARNING: Chain B is discontinuous at line 14494.\n",
      "  PDBConstructionWarning,\n",
      "/wsu/home/fr/fr15/fr1583/.conda/envs/protein/lib/python3.7/site-packages/Bio/PDB/StructureBuilder.py:92: PDBConstructionWarning: WARNING: Chain C is discontinuous at line 14544.\n",
      "  PDBConstructionWarning,\n",
      "/wsu/home/fr/fr15/fr1583/.conda/envs/protein/lib/python3.7/site-packages/Bio/PDB/StructureBuilder.py:92: PDBConstructionWarning: WARNING: Chain D is discontinuous at line 14599.\n",
      "  PDBConstructionWarning,\n"
     ]
    },
    {
     "name": "stdout",
     "output_type": "stream",
     "text": [
      "skipped\n",
      "32 1kng\n",
      "33 1kr4\n",
      "34 1kyc\n",
      "35 1lr7\n",
      "36 1mf7\n",
      "37 1n7e\n",
      "38 1nkd\n",
      "39 1nko\n"
     ]
    },
    {
     "name": "stderr",
     "output_type": "stream",
     "text": [
      "/wsu/home/fr/fr15/fr1583/K/NMAcomp/multiscale.py:54: RuntimeWarning: divide by zero encountered in true_divide\n",
      "  reg.fit(diag_n.T,1/bfactor)\n"
     ]
    },
    {
     "name": "stdout",
     "output_type": "stream",
     "text": [
      "Input contains NaN, infinity or a value too large for dtype('float64').\n",
      "40 1nls\n",
      "41 1nnx\n",
      "42 1noa\n",
      "43 1not\n",
      "44 1o06\n",
      "45 1o08\n",
      "46 1ob4\n",
      "47 1ob7\n",
      "Found input variables with inconsistent numbers of samples: [16, 17]\n",
      "48 1opd\n",
      "49 1p9i\n",
      "50 1pef\n",
      "51 1pen\n",
      "52 1pmy\n",
      "53 1pz4\n",
      "54 1q9b\n",
      "55 1qau\n",
      "56 1qki\n"
     ]
    },
    {
     "name": "stderr",
     "output_type": "stream",
     "text": [
      "/wsu/home/fr/fr15/fr1583/.conda/envs/protein/lib/python3.7/site-packages/Bio/PDB/StructureBuilder.py:92: PDBConstructionWarning: WARNING: Chain A is discontinuous at line 31154.\n",
      "  PDBConstructionWarning,\n",
      "/wsu/home/fr/fr15/fr1583/.conda/envs/protein/lib/python3.7/site-packages/Bio/PDB/StructureBuilder.py:92: PDBConstructionWarning: WARNING: Chain B is discontinuous at line 31207.\n",
      "  PDBConstructionWarning,\n",
      "/wsu/home/fr/fr15/fr1583/.conda/envs/protein/lib/python3.7/site-packages/Bio/PDB/StructureBuilder.py:92: PDBConstructionWarning: WARNING: Chain C is discontinuous at line 31272.\n",
      "  PDBConstructionWarning,\n",
      "/wsu/home/fr/fr15/fr1583/.conda/envs/protein/lib/python3.7/site-packages/Bio/PDB/StructureBuilder.py:92: PDBConstructionWarning: WARNING: Chain D is discontinuous at line 31331.\n",
      "  PDBConstructionWarning,\n",
      "/wsu/home/fr/fr15/fr1583/.conda/envs/protein/lib/python3.7/site-packages/Bio/PDB/StructureBuilder.py:92: PDBConstructionWarning: WARNING: Chain E is discontinuous at line 31384.\n",
      "  PDBConstructionWarning,\n",
      "/wsu/home/fr/fr15/fr1583/.conda/envs/protein/lib/python3.7/site-packages/Bio/PDB/StructureBuilder.py:92: PDBConstructionWarning: WARNING: Chain F is discontinuous at line 31443.\n",
      "  PDBConstructionWarning,\n",
      "/wsu/home/fr/fr15/fr1583/.conda/envs/protein/lib/python3.7/site-packages/Bio/PDB/StructureBuilder.py:92: PDBConstructionWarning: WARNING: Chain G is discontinuous at line 31496.\n",
      "  PDBConstructionWarning,\n",
      "/wsu/home/fr/fr15/fr1583/.conda/envs/protein/lib/python3.7/site-packages/Bio/PDB/StructureBuilder.py:92: PDBConstructionWarning: WARNING: Chain H is discontinuous at line 31555.\n",
      "  PDBConstructionWarning,\n",
      "/wsu/home/fr/fr15/fr1583/.conda/envs/protein/lib/python3.7/site-packages/Bio/PDB/StructureBuilder.py:92: PDBConstructionWarning: WARNING: Chain A is discontinuous at line 31608.\n",
      "  PDBConstructionWarning,\n",
      "/wsu/home/fr/fr15/fr1583/.conda/envs/protein/lib/python3.7/site-packages/Bio/PDB/StructureBuilder.py:92: PDBConstructionWarning: WARNING: Chain B is discontinuous at line 31621.\n",
      "  PDBConstructionWarning,\n",
      "/wsu/home/fr/fr15/fr1583/.conda/envs/protein/lib/python3.7/site-packages/Bio/PDB/StructureBuilder.py:92: PDBConstructionWarning: WARNING: Chain C is discontinuous at line 31630.\n",
      "  PDBConstructionWarning,\n",
      "/wsu/home/fr/fr15/fr1583/.conda/envs/protein/lib/python3.7/site-packages/Bio/PDB/StructureBuilder.py:92: PDBConstructionWarning: WARNING: Chain D is discontinuous at line 31633.\n",
      "  PDBConstructionWarning,\n",
      "/wsu/home/fr/fr15/fr1583/.conda/envs/protein/lib/python3.7/site-packages/Bio/PDB/StructureBuilder.py:92: PDBConstructionWarning: WARNING: Chain E is discontinuous at line 31641.\n",
      "  PDBConstructionWarning,\n",
      "/wsu/home/fr/fr15/fr1583/.conda/envs/protein/lib/python3.7/site-packages/Bio/PDB/StructureBuilder.py:92: PDBConstructionWarning: WARNING: Chain F is discontinuous at line 31652.\n",
      "  PDBConstructionWarning,\n",
      "/wsu/home/fr/fr15/fr1583/.conda/envs/protein/lib/python3.7/site-packages/Bio/PDB/StructureBuilder.py:92: PDBConstructionWarning: WARNING: Chain H is discontinuous at line 31655.\n",
      "  PDBConstructionWarning,\n"
     ]
    },
    {
     "name": "stdout",
     "output_type": "stream",
     "text": [
      "skipped\n",
      "57 1qto\n",
      "58 1r29\n",
      "59 1r7j\n",
      "60 1rju\n",
      "61 1rro\n",
      "62 1sau\n",
      "63 1tgr\n"
     ]
    },
    {
     "name": "stderr",
     "output_type": "stream",
     "text": [
      "/wsu/home/fr/fr15/fr1583/.conda/envs/protein/lib/python3.7/site-packages/Bio/PDB/StructureBuilder.py:92: PDBConstructionWarning: WARNING: Chain A is discontinuous at line 871.\n",
      "  PDBConstructionWarning,\n",
      "/wsu/home/fr/fr15/fr1583/.conda/envs/protein/lib/python3.7/site-packages/Bio/PDB/StructureBuilder.py:92: PDBConstructionWarning: WARNING: Chain B is discontinuous at line 956.\n",
      "  PDBConstructionWarning,\n"
     ]
    },
    {
     "name": "stdout",
     "output_type": "stream",
     "text": [
      "64 1tzv\n",
      "65 1u06\n",
      "66 1u7i\n"
     ]
    },
    {
     "name": "stderr",
     "output_type": "stream",
     "text": [
      "/wsu/home/fr/fr15/fr1583/.conda/envs/protein/lib/python3.7/site-packages/Bio/PDB/StructureBuilder.py:92: PDBConstructionWarning: WARNING: Chain A is discontinuous at line 2136.\n",
      "  PDBConstructionWarning,\n",
      "/wsu/home/fr/fr15/fr1583/.conda/envs/protein/lib/python3.7/site-packages/Bio/PDB/StructureBuilder.py:92: PDBConstructionWarning: WARNING: Chain B is discontinuous at line 2320.\n",
      "  PDBConstructionWarning,\n"
     ]
    },
    {
     "name": "stdout",
     "output_type": "stream",
     "text": [
      "67 1u9c\n",
      "68 1uha\n",
      "69 1uku\n",
      "70 1ulr\n",
      "71 1uoy\n",
      "72 1use\n",
      "73 1usm\n",
      "74 1utg\n",
      "75 1v05\n",
      "76 1v70\n",
      "77 1vrz\n",
      "78 1w2l\n",
      "79 1wbe\n",
      "80 1whi\n",
      "81 1wly\n",
      "82 1wpa\n",
      "83 1x3o\n",
      "84 1xy1\n",
      "85 1xy2\n",
      "86 1y6x\n"
     ]
    },
    {
     "name": "stderr",
     "output_type": "stream",
     "text": [
      "/wsu/home/fr/fr15/fr1583/.conda/envs/protein/lib/python3.7/site-packages/Bio/PDB/StructureBuilder.py:92: PDBConstructionWarning: WARNING: Chain A is discontinuous at line 266.\n",
      "  PDBConstructionWarning,\n",
      "/wsu/home/fr/fr15/fr1583/.conda/envs/protein/lib/python3.7/site-packages/Bio/PDB/StructureBuilder.py:92: PDBConstructionWarning: WARNING: Chain B is discontinuous at line 272.\n",
      "  PDBConstructionWarning,\n"
     ]
    },
    {
     "name": "stdout",
     "output_type": "stream",
     "text": [
      "87 1yjo\n",
      "88 1yzm\n",
      "89 1z21\n",
      "90 1zce\n",
      "91 1zva\n",
      "92 2a50\n"
     ]
    },
    {
     "name": "stderr",
     "output_type": "stream",
     "text": [
      "/wsu/home/fr/fr15/fr1583/.conda/envs/protein/lib/python3.7/site-packages/Bio/PDB/StructureBuilder.py:92: PDBConstructionWarning: WARNING: Chain A is discontinuous at line 3731.\n",
      "  PDBConstructionWarning,\n",
      "/wsu/home/fr/fr15/fr1583/.conda/envs/protein/lib/python3.7/site-packages/Bio/PDB/StructureBuilder.py:92: PDBConstructionWarning: WARNING: Chain B is discontinuous at line 3840.\n",
      "  PDBConstructionWarning,\n",
      "/wsu/home/fr/fr15/fr1583/.conda/envs/protein/lib/python3.7/site-packages/Bio/PDB/StructureBuilder.py:92: PDBConstructionWarning: WARNING: Chain C is discontinuous at line 4077.\n",
      "  PDBConstructionWarning,\n",
      "/wsu/home/fr/fr15/fr1583/.conda/envs/protein/lib/python3.7/site-packages/Bio/PDB/StructureBuilder.py:92: PDBConstructionWarning: WARNING: Chain D is discontinuous at line 4162.\n",
      "  PDBConstructionWarning,\n"
     ]
    },
    {
     "name": "stdout",
     "output_type": "stream",
     "text": [
      "93 2agk\n",
      "94 2ah1\n"
     ]
    },
    {
     "name": "stderr",
     "output_type": "stream",
     "text": [
      "/wsu/home/fr/fr15/fr1583/.conda/envs/protein/lib/python3.7/site-packages/Bio/PDB/StructureBuilder.py:92: PDBConstructionWarning: WARNING: Chain D is discontinuous at line 7269.\n",
      "  PDBConstructionWarning,\n",
      "/wsu/home/fr/fr15/fr1583/.conda/envs/protein/lib/python3.7/site-packages/Bio/PDB/StructureBuilder.py:92: PDBConstructionWarning: WARNING: Chain H is discontinuous at line 7462.\n",
      "  PDBConstructionWarning,\n",
      "/wsu/home/fr/fr15/fr1583/.conda/envs/protein/lib/python3.7/site-packages/Bio/PDB/StructureBuilder.py:92: PDBConstructionWarning: WARNING: Chain A is discontinuous at line 7664.\n",
      "  PDBConstructionWarning,\n",
      "/wsu/home/fr/fr15/fr1583/.conda/envs/protein/lib/python3.7/site-packages/Bio/PDB/StructureBuilder.py:92: PDBConstructionWarning: WARNING: Chain B is discontinuous at line 8375.\n",
      "  PDBConstructionWarning,\n"
     ]
    },
    {
     "name": "stdout",
     "output_type": "stream",
     "text": [
      "95 2b0a\n",
      "96 2bcm\n"
     ]
    },
    {
     "name": "stderr",
     "output_type": "stream",
     "text": [
      "/wsu/home/fr/fr15/fr1583/.conda/envs/protein/lib/python3.7/site-packages/Bio/PDB/StructureBuilder.py:92: PDBConstructionWarning: WARNING: Chain B is discontinuous at line 3135.\n",
      "  PDBConstructionWarning,\n",
      "/wsu/home/fr/fr15/fr1583/.conda/envs/protein/lib/python3.7/site-packages/Bio/PDB/StructureBuilder.py:92: PDBConstructionWarning: WARNING: Chain A is discontinuous at line 3298.\n",
      "  PDBConstructionWarning,\n",
      "/wsu/home/fr/fr15/fr1583/.conda/envs/protein/lib/python3.7/site-packages/Bio/PDB/StructureBuilder.py:92: PDBConstructionWarning: WARNING: Chain C is discontinuous at line 3452.\n",
      "  PDBConstructionWarning,\n"
     ]
    },
    {
     "name": "stdout",
     "output_type": "stream",
     "text": [
      "97 2bf9\n",
      "98 2brf\n",
      "99 2c71\n",
      "100 2ce0\n",
      "101 2cg7\n",
      "102 2cov\n"
     ]
    },
    {
     "name": "stderr",
     "output_type": "stream",
     "text": [
      "/wsu/home/fr/fr15/fr1583/.conda/envs/protein/lib/python3.7/site-packages/Bio/PDB/StructureBuilder.py:92: PDBConstructionWarning: WARNING: Chain D is discontinuous at line 4366.\n",
      "  PDBConstructionWarning,\n",
      "/wsu/home/fr/fr15/fr1583/.conda/envs/protein/lib/python3.7/site-packages/Bio/PDB/StructureBuilder.py:92: PDBConstructionWarning: WARNING: Chain E is discontinuous at line 4481.\n",
      "  PDBConstructionWarning,\n",
      "/wsu/home/fr/fr15/fr1583/.conda/envs/protein/lib/python3.7/site-packages/Bio/PDB/StructureBuilder.py:92: PDBConstructionWarning: WARNING: Chain F is discontinuous at line 4591.\n",
      "  PDBConstructionWarning,\n",
      "/wsu/home/fr/fr15/fr1583/.conda/envs/protein/lib/python3.7/site-packages/Bio/PDB/StructureBuilder.py:92: PDBConstructionWarning: WARNING: Chain G is discontinuous at line 4676.\n",
      "  PDBConstructionWarning,\n",
      "/wsu/home/fr/fr15/fr1583/.conda/envs/protein/lib/python3.7/site-packages/Bio/PDB/StructureBuilder.py:92: PDBConstructionWarning: WARNING: Chain H is discontinuous at line 4763.\n",
      "  PDBConstructionWarning,\n",
      "/wsu/home/fr/fr15/fr1583/.conda/envs/protein/lib/python3.7/site-packages/Bio/PDB/StructureBuilder.py:92: PDBConstructionWarning: WARNING: Chain I is discontinuous at line 4852.\n",
      "  PDBConstructionWarning,\n"
     ]
    },
    {
     "name": "stdout",
     "output_type": "stream",
     "text": [
      "103 2cws\n",
      "104 2d5w\n"
     ]
    },
    {
     "name": "stderr",
     "output_type": "stream",
     "text": [
      "/wsu/home/fr/fr15/fr1583/.conda/envs/protein/lib/python3.7/site-packages/Bio/PDB/StructureBuilder.py:92: PDBConstructionWarning: WARNING: Chain A is discontinuous at line 9772.\n",
      "  PDBConstructionWarning,\n",
      "/wsu/home/fr/fr15/fr1583/.conda/envs/protein/lib/python3.7/site-packages/Bio/PDB/StructureBuilder.py:92: PDBConstructionWarning: WARNING: Chain B is discontinuous at line 10340.\n",
      "  PDBConstructionWarning,\n",
      "/wsu/home/fr/fr15/fr1583/.conda/envs/protein/lib/python3.7/site-packages/Bio/PDB/StructureBuilder.py:92: PDBConstructionWarning: WARNING: Chain C is discontinuous at line 10839.\n",
      "  PDBConstructionWarning,\n",
      "/wsu/home/fr/fr15/fr1583/.conda/envs/protein/lib/python3.7/site-packages/Bio/PDB/StructureBuilder.py:92: PDBConstructionWarning: WARNING: Chain D is discontinuous at line 10841.\n",
      "  PDBConstructionWarning,\n"
     ]
    },
    {
     "name": "stdout",
     "output_type": "stream",
     "text": [
      "skipped\n",
      "105 2dko\n"
     ]
    },
    {
     "name": "stderr",
     "output_type": "stream",
     "text": [
      "/wsu/home/fr/fr15/fr1583/.conda/envs/protein/lib/python3.7/site-packages/Bio/PDB/StructureBuilder.py:92: PDBConstructionWarning: WARNING: Chain A is discontinuous at line 2092.\n",
      "  PDBConstructionWarning,\n",
      "/wsu/home/fr/fr15/fr1583/.conda/envs/protein/lib/python3.7/site-packages/Bio/PDB/StructureBuilder.py:92: PDBConstructionWarning: WARNING: Chain B is discontinuous at line 2311.\n",
      "  PDBConstructionWarning,\n",
      "/wsu/home/fr/fr15/fr1583/.conda/envs/protein/lib/python3.7/site-packages/Bio/PDB/StructureBuilder.py:92: PDBConstructionWarning: WARNING: Chain I is discontinuous at line 2420.\n",
      "  PDBConstructionWarning,\n"
     ]
    },
    {
     "name": "stdout",
     "output_type": "stream",
     "text": [
      "106 2dpl\n"
     ]
    },
    {
     "name": "stderr",
     "output_type": "stream",
     "text": [
      "/wsu/home/fr/fr15/fr1583/.conda/envs/protein/lib/python3.7/site-packages/Bio/PDB/StructureBuilder.py:92: PDBConstructionWarning: WARNING: Chain A is discontinuous at line 4500.\n",
      "  PDBConstructionWarning,\n",
      "/wsu/home/fr/fr15/fr1583/.conda/envs/protein/lib/python3.7/site-packages/Bio/PDB/StructureBuilder.py:92: PDBConstructionWarning: WARNING: Chain B is discontinuous at line 4993.\n",
      "  PDBConstructionWarning,\n"
     ]
    },
    {
     "name": "stdout",
     "output_type": "stream",
     "text": [
      "107 2dsx\n",
      "108 2e10\n"
     ]
    },
    {
     "name": "stderr",
     "output_type": "stream",
     "text": [
      "/wsu/home/fr/fr15/fr1583/.conda/envs/protein/lib/python3.7/site-packages/Bio/PDB/StructureBuilder.py:92: PDBConstructionWarning: WARNING: Chain A is discontinuous at line 3416.\n",
      "  PDBConstructionWarning,\n",
      "/wsu/home/fr/fr15/fr1583/.conda/envs/protein/lib/python3.7/site-packages/Bio/PDB/StructureBuilder.py:92: PDBConstructionWarning: WARNING: Chain B is discontinuous at line 3697.\n",
      "  PDBConstructionWarning,\n"
     ]
    },
    {
     "name": "stdout",
     "output_type": "stream",
     "text": [
      "109 2e3h\n",
      "110 2eaq\n",
      "111 2ehp\n"
     ]
    },
    {
     "name": "stderr",
     "output_type": "stream",
     "text": [
      "/wsu/home/fr/fr15/fr1583/.conda/envs/protein/lib/python3.7/site-packages/Bio/PDB/StructureBuilder.py:92: PDBConstructionWarning: WARNING: Chain A is discontinuous at line 1891.\n",
      "  PDBConstructionWarning,\n",
      "/wsu/home/fr/fr15/fr1583/.conda/envs/protein/lib/python3.7/site-packages/Bio/PDB/StructureBuilder.py:92: PDBConstructionWarning: WARNING: Chain B is discontinuous at line 1964.\n",
      "  PDBConstructionWarning,\n"
     ]
    },
    {
     "name": "stdout",
     "output_type": "stream",
     "text": [
      "112 2ehs\n",
      "113 2erw\n",
      "114 2etx\n"
     ]
    },
    {
     "name": "stderr",
     "output_type": "stream",
     "text": [
      "/wsu/home/fr/fr15/fr1583/.conda/envs/protein/lib/python3.7/site-packages/Bio/PDB/StructureBuilder.py:92: PDBConstructionWarning: WARNING: Chain A is discontinuous at line 3018.\n",
      "  PDBConstructionWarning,\n",
      "/wsu/home/fr/fr15/fr1583/.conda/envs/protein/lib/python3.7/site-packages/Bio/PDB/StructureBuilder.py:92: PDBConstructionWarning: WARNING: Chain B is discontinuous at line 3222.\n",
      "  PDBConstructionWarning,\n"
     ]
    },
    {
     "name": "stdout",
     "output_type": "stream",
     "text": [
      "115 2fb6\n",
      "116 2fg1\n",
      "117 2fn9\n"
     ]
    },
    {
     "name": "stderr",
     "output_type": "stream",
     "text": [
      "/wsu/home/fr/fr15/fr1583/.conda/envs/protein/lib/python3.7/site-packages/Bio/PDB/StructureBuilder.py:92: PDBConstructionWarning: WARNING: Chain A is discontinuous at line 4362.\n",
      "  PDBConstructionWarning,\n",
      "/wsu/home/fr/fr15/fr1583/.conda/envs/protein/lib/python3.7/site-packages/Bio/PDB/StructureBuilder.py:92: PDBConstructionWarning: WARNING: Chain B is discontinuous at line 4692.\n",
      "  PDBConstructionWarning,\n"
     ]
    },
    {
     "name": "stdout",
     "output_type": "stream",
     "text": [
      "118 2fq3\n",
      "119 2g69\n",
      "120 2g7o\n",
      "121 2g7s\n",
      "122 2gkg\n",
      "123 2gom\n",
      "124 2gxg\n"
     ]
    },
    {
     "name": "stderr",
     "output_type": "stream",
     "text": [
      "/wsu/home/fr/fr15/fr1583/.conda/envs/protein/lib/python3.7/site-packages/Bio/PDB/StructureBuilder.py:92: PDBConstructionWarning: WARNING: Chain A is discontinuous at line 987.\n",
      "  PDBConstructionWarning,\n",
      "/wsu/home/fr/fr15/fr1583/.conda/envs/protein/lib/python3.7/site-packages/Bio/PDB/StructureBuilder.py:92: PDBConstructionWarning: WARNING: Chain B is discontinuous at line 1069.\n",
      "  PDBConstructionWarning,\n"
     ]
    },
    {
     "name": "stdout",
     "output_type": "stream",
     "text": [
      "125 2gzq\n",
      "126 2hqk\n",
      "127 2hyk\n",
      "128 2i24\n",
      "129 2i49\n",
      "130 2ibl\n",
      "131 2igd\n",
      "132 2imf\n",
      "133 2ip6\n",
      "134 2ivy\n",
      "135 2j32\n"
     ]
    },
    {
     "name": "stderr",
     "output_type": "stream",
     "text": [
      "/wsu/home/fr/fr15/fr1583/.conda/envs/protein/lib/python3.7/site-packages/Bio/PDB/StructureBuilder.py:92: PDBConstructionWarning: WARNING: Chain A is discontinuous at line 1971.\n",
      "  PDBConstructionWarning,\n",
      "/wsu/home/fr/fr15/fr1583/.conda/envs/protein/lib/python3.7/site-packages/Bio/PDB/StructureBuilder.py:92: PDBConstructionWarning: WARNING: Chain B is discontinuous at line 2269.\n",
      "  PDBConstructionWarning,\n",
      "/wsu/home/fr/fr15/fr1583/.conda/envs/protein/lib/python3.7/site-packages/Bio/PDB/StructureBuilder.py:92: PDBConstructionWarning: WARNING: Chain A is discontinuous at line 1650.\n",
      "  PDBConstructionWarning,\n",
      "/wsu/home/fr/fr15/fr1583/.conda/envs/protein/lib/python3.7/site-packages/Bio/PDB/StructureBuilder.py:92: PDBConstructionWarning: WARNING: Chain B is discontinuous at line 1722.\n",
      "  PDBConstructionWarning,\n"
     ]
    },
    {
     "name": "stdout",
     "output_type": "stream",
     "text": [
      "136 2j9w\n",
      "137 2jku\n",
      "138 2jli\n",
      "139 2jlj\n",
      "140 2mcm\n",
      "141 2nls\n",
      "142 2nr7\n",
      "143 2nuh\n",
      "144 2o6x\n",
      "145 2oa2\n",
      "146 2oct\n"
     ]
    },
    {
     "name": "stderr",
     "output_type": "stream",
     "text": [
      "/wsu/home/fr/fr15/fr1583/.conda/envs/protein/lib/python3.7/site-packages/Bio/PDB/StructureBuilder.py:92: PDBConstructionWarning: WARNING: Chain A is discontinuous at line 1570.\n",
      "  PDBConstructionWarning,\n",
      "/wsu/home/fr/fr15/fr1583/.conda/envs/protein/lib/python3.7/site-packages/Bio/PDB/StructureBuilder.py:92: PDBConstructionWarning: WARNING: Chain B is discontinuous at line 1656.\n",
      "  PDBConstructionWarning,\n",
      "/wsu/home/fr/fr15/fr1583/.conda/envs/protein/lib/python3.7/site-packages/Bio/PDB/StructureBuilder.py:92: PDBConstructionWarning: WARNING: Chain A is discontinuous at line 1570.\n",
      "  PDBConstructionWarning,\n",
      "/wsu/home/fr/fr15/fr1583/.conda/envs/protein/lib/python3.7/site-packages/Bio/PDB/StructureBuilder.py:92: PDBConstructionWarning: WARNING: Chain B is discontinuous at line 1656.\n",
      "  PDBConstructionWarning,\n",
      "/wsu/home/fr/fr15/fr1583/K/NMAcomp/multiscale.py:54: RuntimeWarning: divide by zero encountered in true_divide\n",
      "  reg.fit(diag_n.T,1/bfactor)\n",
      "/wsu/home/fr/fr15/fr1583/.conda/envs/protein/lib/python3.7/site-packages/Bio/PDB/StructureBuilder.py:92: PDBConstructionWarning: WARNING: Chain A is discontinuous at line 2086.\n",
      "  PDBConstructionWarning,\n",
      "/wsu/home/fr/fr15/fr1583/.conda/envs/protein/lib/python3.7/site-packages/Bio/PDB/StructureBuilder.py:92: PDBConstructionWarning: WARNING: Chain B is discontinuous at line 2146.\n",
      "  PDBConstructionWarning,\n"
     ]
    },
    {
     "name": "stdout",
     "output_type": "stream",
     "text": [
      "Input contains NaN, infinity or a value too large for dtype('float64').\n",
      "147 2ohw\n",
      "148 2okt\n",
      "149 2ol9\n",
      "150 2olx\n",
      "151 2pkt\n",
      "152 2plt\n",
      "153 2pmr\n",
      "154 2pof\n"
     ]
    },
    {
     "name": "stderr",
     "output_type": "stream",
     "text": [
      "/wsu/home/fr/fr15/fr1583/.conda/envs/protein/lib/python3.7/site-packages/Bio/PDB/StructureBuilder.py:92: PDBConstructionWarning: WARNING: Chain A is discontinuous at line 3514.\n",
      "  PDBConstructionWarning,\n",
      "/wsu/home/fr/fr15/fr1583/.conda/envs/protein/lib/python3.7/site-packages/Bio/PDB/StructureBuilder.py:92: PDBConstructionWarning: WARNING: Chain B is discontinuous at line 3676.\n",
      "  PDBConstructionWarning,\n"
     ]
    },
    {
     "name": "stdout",
     "output_type": "stream",
     "text": [
      "155 2ppn\n",
      "156 2psf\n"
     ]
    },
    {
     "name": "stderr",
     "output_type": "stream",
     "text": [
      "/wsu/home/fr/fr15/fr1583/.conda/envs/protein/lib/python3.7/site-packages/Bio/PDB/StructureBuilder.py:92: PDBConstructionWarning: WARNING: Chain A is discontinuous at line 4983.\n",
      "  PDBConstructionWarning,\n",
      "/wsu/home/fr/fr15/fr1583/.conda/envs/protein/lib/python3.7/site-packages/Bio/PDB/StructureBuilder.py:92: PDBConstructionWarning: WARNING: Chain B is discontinuous at line 5408.\n",
      "  PDBConstructionWarning,\n"
     ]
    },
    {
     "name": "stdout",
     "output_type": "stream",
     "text": [
      "157 2pth\n",
      "158 2q4n\n",
      "Found input variables with inconsistent numbers of samples: [181, 1224]\n",
      "159 2q52\n"
     ]
    },
    {
     "name": "stderr",
     "output_type": "stream",
     "text": [
      "/wsu/home/fr/fr15/fr1583/.conda/envs/protein/lib/python3.7/site-packages/Bio/PDB/StructureBuilder.py:92: PDBConstructionWarning: WARNING: Chain A is discontinuous at line 3348.\n",
      "  PDBConstructionWarning,\n",
      "/wsu/home/fr/fr15/fr1583/.conda/envs/protein/lib/python3.7/site-packages/Bio/PDB/StructureBuilder.py:92: PDBConstructionWarning: WARNING: Chain B is discontinuous at line 3549.\n",
      "  PDBConstructionWarning,\n",
      "/wsu/home/fr/fr15/fr1583/.conda/envs/protein/lib/python3.7/site-packages/Bio/PDB/StructureBuilder.py:92: PDBConstructionWarning: WARNING: Chain A is discontinuous at line 7080.\n",
      "  PDBConstructionWarning,\n",
      "/wsu/home/fr/fr15/fr1583/.conda/envs/protein/lib/python3.7/site-packages/Bio/PDB/StructureBuilder.py:92: PDBConstructionWarning: WARNING: Chain B is discontinuous at line 7286.\n",
      "  PDBConstructionWarning,\n",
      "/wsu/home/fr/fr15/fr1583/.conda/envs/protein/lib/python3.7/site-packages/Bio/PDB/StructureBuilder.py:92: PDBConstructionWarning: WARNING: Chain A is discontinuous at line 10812.\n",
      "  PDBConstructionWarning,\n",
      "/wsu/home/fr/fr15/fr1583/.conda/envs/protein/lib/python3.7/site-packages/Bio/PDB/StructureBuilder.py:92: PDBConstructionWarning: WARNING: Chain B is discontinuous at line 11024.\n",
      "  PDBConstructionWarning,\n",
      "/wsu/home/fr/fr15/fr1583/.conda/envs/protein/lib/python3.7/site-packages/Bio/PDB/StructureBuilder.py:92: PDBConstructionWarning: WARNING: Chain A is discontinuous at line 14544.\n",
      "  PDBConstructionWarning,\n",
      "/wsu/home/fr/fr15/fr1583/.conda/envs/protein/lib/python3.7/site-packages/Bio/PDB/StructureBuilder.py:92: PDBConstructionWarning: WARNING: Chain B is discontinuous at line 14746.\n",
      "  PDBConstructionWarning,\n",
      "/wsu/home/fr/fr15/fr1583/.conda/envs/protein/lib/python3.7/site-packages/Bio/PDB/StructureBuilder.py:92: PDBConstructionWarning: WARNING: Chain A is discontinuous at line 18276.\n",
      "  PDBConstructionWarning,\n",
      "/wsu/home/fr/fr15/fr1583/.conda/envs/protein/lib/python3.7/site-packages/Bio/PDB/StructureBuilder.py:92: PDBConstructionWarning: WARNING: Chain B is discontinuous at line 18477.\n",
      "  PDBConstructionWarning,\n",
      "/wsu/home/fr/fr15/fr1583/.conda/envs/protein/lib/python3.7/site-packages/Bio/PDB/StructureBuilder.py:92: PDBConstructionWarning: WARNING: Chain A is discontinuous at line 22008.\n",
      "  PDBConstructionWarning,\n",
      "/wsu/home/fr/fr15/fr1583/.conda/envs/protein/lib/python3.7/site-packages/Bio/PDB/StructureBuilder.py:92: PDBConstructionWarning: WARNING: Chain B is discontinuous at line 22210.\n",
      "  PDBConstructionWarning,\n",
      "/wsu/home/fr/fr15/fr1583/.conda/envs/protein/lib/python3.7/site-packages/Bio/PDB/StructureBuilder.py:92: PDBConstructionWarning: WARNING: Chain A is discontinuous at line 25740.\n",
      "  PDBConstructionWarning,\n",
      "/wsu/home/fr/fr15/fr1583/.conda/envs/protein/lib/python3.7/site-packages/Bio/PDB/StructureBuilder.py:92: PDBConstructionWarning: WARNING: Chain B is discontinuous at line 25944.\n",
      "  PDBConstructionWarning,\n",
      "/wsu/home/fr/fr15/fr1583/.conda/envs/protein/lib/python3.7/site-packages/Bio/PDB/StructureBuilder.py:92: PDBConstructionWarning: WARNING: Chain A is discontinuous at line 29472.\n",
      "  PDBConstructionWarning,\n",
      "/wsu/home/fr/fr15/fr1583/.conda/envs/protein/lib/python3.7/site-packages/Bio/PDB/StructureBuilder.py:92: PDBConstructionWarning: WARNING: Chain B is discontinuous at line 29678.\n",
      "  PDBConstructionWarning,\n",
      "/wsu/home/fr/fr15/fr1583/.conda/envs/protein/lib/python3.7/site-packages/Bio/PDB/StructureBuilder.py:92: PDBConstructionWarning: WARNING: Chain A is discontinuous at line 3348.\n",
      "  PDBConstructionWarning,\n",
      "/wsu/home/fr/fr15/fr1583/.conda/envs/protein/lib/python3.7/site-packages/Bio/PDB/StructureBuilder.py:92: PDBConstructionWarning: WARNING: Chain B is discontinuous at line 3549.\n",
      "  PDBConstructionWarning,\n",
      "/wsu/home/fr/fr15/fr1583/.conda/envs/protein/lib/python3.7/site-packages/Bio/PDB/StructureBuilder.py:92: PDBConstructionWarning: WARNING: Chain A is discontinuous at line 7080.\n",
      "  PDBConstructionWarning,\n",
      "/wsu/home/fr/fr15/fr1583/.conda/envs/protein/lib/python3.7/site-packages/Bio/PDB/StructureBuilder.py:92: PDBConstructionWarning: WARNING: Chain B is discontinuous at line 7286.\n",
      "  PDBConstructionWarning,\n",
      "/wsu/home/fr/fr15/fr1583/.conda/envs/protein/lib/python3.7/site-packages/Bio/PDB/StructureBuilder.py:92: PDBConstructionWarning: WARNING: Chain A is discontinuous at line 10812.\n",
      "  PDBConstructionWarning,\n",
      "/wsu/home/fr/fr15/fr1583/.conda/envs/protein/lib/python3.7/site-packages/Bio/PDB/StructureBuilder.py:92: PDBConstructionWarning: WARNING: Chain B is discontinuous at line 11024.\n",
      "  PDBConstructionWarning,\n",
      "/wsu/home/fr/fr15/fr1583/.conda/envs/protein/lib/python3.7/site-packages/Bio/PDB/StructureBuilder.py:92: PDBConstructionWarning: WARNING: Chain A is discontinuous at line 14544.\n",
      "  PDBConstructionWarning,\n",
      "/wsu/home/fr/fr15/fr1583/.conda/envs/protein/lib/python3.7/site-packages/Bio/PDB/StructureBuilder.py:92: PDBConstructionWarning: WARNING: Chain B is discontinuous at line 14746.\n",
      "  PDBConstructionWarning,\n",
      "/wsu/home/fr/fr15/fr1583/.conda/envs/protein/lib/python3.7/site-packages/Bio/PDB/StructureBuilder.py:92: PDBConstructionWarning: WARNING: Chain A is discontinuous at line 18276.\n",
      "  PDBConstructionWarning,\n",
      "/wsu/home/fr/fr15/fr1583/.conda/envs/protein/lib/python3.7/site-packages/Bio/PDB/StructureBuilder.py:92: PDBConstructionWarning: WARNING: Chain B is discontinuous at line 18477.\n",
      "  PDBConstructionWarning,\n",
      "/wsu/home/fr/fr15/fr1583/.conda/envs/protein/lib/python3.7/site-packages/Bio/PDB/StructureBuilder.py:92: PDBConstructionWarning: WARNING: Chain A is discontinuous at line 22008.\n",
      "  PDBConstructionWarning,\n",
      "/wsu/home/fr/fr15/fr1583/.conda/envs/protein/lib/python3.7/site-packages/Bio/PDB/StructureBuilder.py:92: PDBConstructionWarning: WARNING: Chain B is discontinuous at line 22210.\n",
      "  PDBConstructionWarning,\n",
      "/wsu/home/fr/fr15/fr1583/.conda/envs/protein/lib/python3.7/site-packages/Bio/PDB/StructureBuilder.py:92: PDBConstructionWarning: WARNING: Chain A is discontinuous at line 25740.\n",
      "  PDBConstructionWarning,\n",
      "/wsu/home/fr/fr15/fr1583/.conda/envs/protein/lib/python3.7/site-packages/Bio/PDB/StructureBuilder.py:92: PDBConstructionWarning: WARNING: Chain B is discontinuous at line 25944.\n",
      "  PDBConstructionWarning,\n",
      "/wsu/home/fr/fr15/fr1583/.conda/envs/protein/lib/python3.7/site-packages/Bio/PDB/StructureBuilder.py:92: PDBConstructionWarning: WARNING: Chain A is discontinuous at line 29472.\n",
      "  PDBConstructionWarning,\n",
      "/wsu/home/fr/fr15/fr1583/.conda/envs/protein/lib/python3.7/site-packages/Bio/PDB/StructureBuilder.py:92: PDBConstructionWarning: WARNING: Chain B is discontinuous at line 29678.\n",
      "  PDBConstructionWarning,\n"
     ]
    },
    {
     "name": "stdout",
     "output_type": "stream",
     "text": [
      "Found input variables with inconsistent numbers of samples: [480, 3296]\n",
      "160 2qjl\n",
      "161 2r16\n",
      "162 2r6q\n",
      "163 2rb8\n",
      "164 2re2\n"
     ]
    },
    {
     "name": "stderr",
     "output_type": "stream",
     "text": [
      "/wsu/home/fr/fr15/fr1583/.conda/envs/protein/lib/python3.7/site-packages/Bio/PDB/StructureBuilder.py:92: PDBConstructionWarning: WARNING: Chain A is discontinuous at line 1898.\n",
      "  PDBConstructionWarning,\n",
      "/wsu/home/fr/fr15/fr1583/.conda/envs/protein/lib/python3.7/site-packages/Bio/PDB/StructureBuilder.py:92: PDBConstructionWarning: WARNING: Chain B is discontinuous at line 2061.\n",
      "  PDBConstructionWarning,\n"
     ]
    },
    {
     "name": "stdout",
     "output_type": "stream",
     "text": [
      "165 2rfr\n",
      "166 2v9v\n",
      "167 2ve8\n"
     ]
    },
    {
     "name": "stderr",
     "output_type": "stream",
     "text": [
      "/wsu/home/fr/fr15/fr1583/.conda/envs/protein/lib/python3.7/site-packages/Bio/PDB/StructureBuilder.py:92: PDBConstructionWarning: WARNING: Chain A is discontinuous at line 3972.\n",
      "  PDBConstructionWarning,\n",
      "/wsu/home/fr/fr15/fr1583/.conda/envs/protein/lib/python3.7/site-packages/Bio/PDB/StructureBuilder.py:92: PDBConstructionWarning: WARNING: Chain B is discontinuous at line 4066.\n",
      "  PDBConstructionWarning,\n",
      "/wsu/home/fr/fr15/fr1583/.conda/envs/protein/lib/python3.7/site-packages/Bio/PDB/StructureBuilder.py:92: PDBConstructionWarning: WARNING: Chain C is discontinuous at line 4158.\n",
      "  PDBConstructionWarning,\n",
      "/wsu/home/fr/fr15/fr1583/.conda/envs/protein/lib/python3.7/site-packages/Bio/PDB/StructureBuilder.py:92: PDBConstructionWarning: WARNING: Chain D is discontinuous at line 4247.\n",
      "  PDBConstructionWarning,\n",
      "/wsu/home/fr/fr15/fr1583/.conda/envs/protein/lib/python3.7/site-packages/Bio/PDB/StructureBuilder.py:92: PDBConstructionWarning: WARNING: Chain E is discontinuous at line 4328.\n",
      "  PDBConstructionWarning,\n",
      "/wsu/home/fr/fr15/fr1583/.conda/envs/protein/lib/python3.7/site-packages/Bio/PDB/StructureBuilder.py:92: PDBConstructionWarning: WARNING: Chain F is discontinuous at line 4395.\n",
      "  PDBConstructionWarning,\n",
      "/wsu/home/fr/fr15/fr1583/.conda/envs/protein/lib/python3.7/site-packages/Bio/PDB/StructureBuilder.py:92: PDBConstructionWarning: WARNING: Chain G is discontinuous at line 4462.\n",
      "  PDBConstructionWarning,\n",
      "/wsu/home/fr/fr15/fr1583/.conda/envs/protein/lib/python3.7/site-packages/Bio/PDB/StructureBuilder.py:92: PDBConstructionWarning: WARNING: Chain H is discontinuous at line 4559.\n",
      "  PDBConstructionWarning,\n"
     ]
    },
    {
     "name": "stdout",
     "output_type": "stream",
     "text": [
      "168 2vh7\n",
      "169 2vim\n",
      "170 2vpa\n",
      "171 2vq4\n",
      "172 2vy8\n",
      "173 2vyo\n",
      "174 2w1v\n"
     ]
    },
    {
     "name": "stderr",
     "output_type": "stream",
     "text": [
      "/wsu/home/fr/fr15/fr1583/.conda/envs/protein/lib/python3.7/site-packages/Bio/PDB/StructureBuilder.py:92: PDBConstructionWarning: WARNING: Chain A is discontinuous at line 4273.\n",
      "  PDBConstructionWarning,\n",
      "/wsu/home/fr/fr15/fr1583/.conda/envs/protein/lib/python3.7/site-packages/Bio/PDB/StructureBuilder.py:92: PDBConstructionWarning: WARNING: Chain B is discontinuous at line 4653.\n",
      "  PDBConstructionWarning,\n"
     ]
    },
    {
     "name": "stdout",
     "output_type": "stream",
     "text": [
      "175 2w2a\n",
      "176 2w6a\n"
     ]
    },
    {
     "name": "stderr",
     "output_type": "stream",
     "text": [
      "/wsu/home/fr/fr15/fr1583/.conda/envs/protein/lib/python3.7/site-packages/Bio/PDB/StructureBuilder.py:92: PDBConstructionWarning: WARNING: Chain A is discontinuous at line 2918.\n",
      "  PDBConstructionWarning,\n",
      "/wsu/home/fr/fr15/fr1583/.conda/envs/protein/lib/python3.7/site-packages/Bio/PDB/StructureBuilder.py:92: PDBConstructionWarning: WARNING: Chain B is discontinuous at line 3189.\n",
      "  PDBConstructionWarning,\n",
      "/wsu/home/fr/fr15/fr1583/.conda/envs/protein/lib/python3.7/site-packages/Bio/PDB/StructureBuilder.py:92: PDBConstructionWarning: WARNING: Chain A is discontinuous at line 1040.\n",
      "  PDBConstructionWarning,\n",
      "/wsu/home/fr/fr15/fr1583/.conda/envs/protein/lib/python3.7/site-packages/Bio/PDB/StructureBuilder.py:92: PDBConstructionWarning: WARNING: Chain B is discontinuous at line 1120.\n",
      "  PDBConstructionWarning,\n"
     ]
    },
    {
     "name": "stdout",
     "output_type": "stream",
     "text": [
      "177 2wj5\n",
      "178 2wuj\n"
     ]
    },
    {
     "name": "stderr",
     "output_type": "stream",
     "text": [
      "/wsu/home/fr/fr15/fr1583/.conda/envs/protein/lib/python3.7/site-packages/Bio/PDB/StructureBuilder.py:92: PDBConstructionWarning: WARNING: Chain A is discontinuous at line 856.\n",
      "  PDBConstructionWarning,\n",
      "/wsu/home/fr/fr15/fr1583/.conda/envs/protein/lib/python3.7/site-packages/Bio/PDB/StructureBuilder.py:92: PDBConstructionWarning: WARNING: Chain B is discontinuous at line 973.\n",
      "  PDBConstructionWarning,\n"
     ]
    },
    {
     "name": "stdout",
     "output_type": "stream",
     "text": [
      "179 2ww7\n"
     ]
    },
    {
     "name": "stderr",
     "output_type": "stream",
     "text": [
      "/wsu/home/fr/fr15/fr1583/.conda/envs/protein/lib/python3.7/site-packages/Bio/PDB/StructureBuilder.py:92: PDBConstructionWarning: WARNING: Chain A is discontinuous at line 3173.\n",
      "  PDBConstructionWarning,\n",
      "/wsu/home/fr/fr15/fr1583/.conda/envs/protein/lib/python3.7/site-packages/Bio/PDB/StructureBuilder.py:92: PDBConstructionWarning: WARNING: Chain B is discontinuous at line 3249.\n",
      "  PDBConstructionWarning,\n",
      "/wsu/home/fr/fr15/fr1583/.conda/envs/protein/lib/python3.7/site-packages/Bio/PDB/StructureBuilder.py:92: PDBConstructionWarning: WARNING: Chain C is discontinuous at line 3340.\n",
      "  PDBConstructionWarning,\n",
      "/wsu/home/fr/fr15/fr1583/.conda/envs/protein/lib/python3.7/site-packages/Bio/PDB/StructureBuilder.py:92: PDBConstructionWarning: WARNING: Chain D is discontinuous at line 3416.\n",
      "  PDBConstructionWarning,\n",
      "/wsu/home/fr/fr15/fr1583/.conda/envs/protein/lib/python3.7/site-packages/Bio/PDB/StructureBuilder.py:92: PDBConstructionWarning: WARNING: Chain E is discontinuous at line 3478.\n",
      "  PDBConstructionWarning,\n",
      "/wsu/home/fr/fr15/fr1583/.conda/envs/protein/lib/python3.7/site-packages/Bio/PDB/StructureBuilder.py:92: PDBConstructionWarning: WARNING: Chain F is discontinuous at line 3550.\n",
      "  PDBConstructionWarning,\n"
     ]
    },
    {
     "name": "stdout",
     "output_type": "stream",
     "text": [
      "180 2wwe\n",
      "181 2x1q\n",
      "182 2x25\n"
     ]
    },
    {
     "name": "stderr",
     "output_type": "stream",
     "text": [
      "/wsu/home/fr/fr15/fr1583/.conda/envs/protein/lib/python3.7/site-packages/Bio/PDB/StructureBuilder.py:92: PDBConstructionWarning: WARNING: Chain A is discontinuous at line 1852.\n",
      "  PDBConstructionWarning,\n",
      "/wsu/home/fr/fr15/fr1583/.conda/envs/protein/lib/python3.7/site-packages/Bio/PDB/StructureBuilder.py:92: PDBConstructionWarning: WARNING: Chain B is discontinuous at line 2084.\n",
      "  PDBConstructionWarning,\n"
     ]
    },
    {
     "name": "stdout",
     "output_type": "stream",
     "text": [
      "183 2x3m\n",
      "184 2x5y\n",
      "185 2x9z\n",
      "186 2xhf\n"
     ]
    },
    {
     "name": "stderr",
     "output_type": "stream",
     "text": [
      "/wsu/home/fr/fr15/fr1583/.conda/envs/protein/lib/python3.7/site-packages/Bio/PDB/StructureBuilder.py:92: PDBConstructionWarning: WARNING: Chain A is discontinuous at line 4871.\n",
      "  PDBConstructionWarning,\n",
      "/wsu/home/fr/fr15/fr1583/.conda/envs/protein/lib/python3.7/site-packages/Bio/PDB/StructureBuilder.py:92: PDBConstructionWarning: WARNING: Chain B is discontinuous at line 5041.\n",
      "  PDBConstructionWarning,\n",
      "/wsu/home/fr/fr15/fr1583/.conda/envs/protein/lib/python3.7/site-packages/Bio/PDB/StructureBuilder.py:92: PDBConstructionWarning: WARNING: Chain A is discontinuous at line 838.\n",
      "  PDBConstructionWarning,\n",
      "/wsu/home/fr/fr15/fr1583/.conda/envs/protein/lib/python3.7/site-packages/Bio/PDB/StructureBuilder.py:92: PDBConstructionWarning: WARNING: Chain B is discontinuous at line 900.\n",
      "  PDBConstructionWarning,\n"
     ]
    },
    {
     "name": "stdout",
     "output_type": "stream",
     "text": [
      "187 2y0t\n",
      "188 2y72\n"
     ]
    },
    {
     "name": "stderr",
     "output_type": "stream",
     "text": [
      "/wsu/home/fr/fr15/fr1583/.conda/envs/protein/lib/python3.7/site-packages/Bio/PDB/StructureBuilder.py:92: PDBConstructionWarning: WARNING: Chain A is discontinuous at line 1323.\n",
      "  PDBConstructionWarning,\n",
      "/wsu/home/fr/fr15/fr1583/.conda/envs/protein/lib/python3.7/site-packages/Bio/PDB/StructureBuilder.py:92: PDBConstructionWarning: WARNING: Chain B is discontinuous at line 1499.\n",
      "  PDBConstructionWarning,\n",
      "/wsu/home/fr/fr15/fr1583/.conda/envs/protein/lib/python3.7/site-packages/Bio/PDB/StructureBuilder.py:92: PDBConstructionWarning: WARNING: Chain A is discontinuous at line 2426.\n",
      "  PDBConstructionWarning,\n",
      "/wsu/home/fr/fr15/fr1583/.conda/envs/protein/lib/python3.7/site-packages/Bio/PDB/StructureBuilder.py:92: PDBConstructionWarning: WARNING: Chain B is discontinuous at line 2729.\n",
      "  PDBConstructionWarning,\n"
     ]
    },
    {
     "name": "stdout",
     "output_type": "stream",
     "text": [
      "189 2y7l\n",
      "190 2y9f\n",
      "191 2ylb\n"
     ]
    },
    {
     "name": "stderr",
     "output_type": "stream",
     "text": [
      "/wsu/home/fr/fr15/fr1583/.conda/envs/protein/lib/python3.7/site-packages/Bio/PDB/StructureBuilder.py:92: PDBConstructionWarning: WARNING: Chain A is discontinuous at line 6853.\n",
      "  PDBConstructionWarning,\n",
      "/wsu/home/fr/fr15/fr1583/.conda/envs/protein/lib/python3.7/site-packages/Bio/PDB/StructureBuilder.py:92: PDBConstructionWarning: WARNING: Chain B is discontinuous at line 6921.\n",
      "  PDBConstructionWarning,\n",
      "/wsu/home/fr/fr15/fr1583/.conda/envs/protein/lib/python3.7/site-packages/Bio/PDB/StructureBuilder.py:92: PDBConstructionWarning: WARNING: Chain C is discontinuous at line 6981.\n",
      "  PDBConstructionWarning,\n",
      "/wsu/home/fr/fr15/fr1583/.conda/envs/protein/lib/python3.7/site-packages/Bio/PDB/StructureBuilder.py:92: PDBConstructionWarning: WARNING: Chain D is discontinuous at line 7048.\n",
      "  PDBConstructionWarning,\n",
      "/wsu/home/fr/fr15/fr1583/.conda/envs/protein/lib/python3.7/site-packages/Bio/PDB/StructureBuilder.py:92: PDBConstructionWarning: WARNING: Chain E is discontinuous at line 7113.\n",
      "  PDBConstructionWarning,\n",
      "/wsu/home/fr/fr15/fr1583/.conda/envs/protein/lib/python3.7/site-packages/Bio/PDB/StructureBuilder.py:92: PDBConstructionWarning: WARNING: Chain F is discontinuous at line 7177.\n",
      "  PDBConstructionWarning,\n"
     ]
    },
    {
     "name": "stdout",
     "output_type": "stream",
     "text": [
      "192 2yny\n"
     ]
    },
    {
     "name": "stderr",
     "output_type": "stream",
     "text": [
      "/wsu/home/fr/fr15/fr1583/.conda/envs/protein/lib/python3.7/site-packages/Bio/PDB/StructureBuilder.py:92: PDBConstructionWarning: WARNING: Chain A is discontinuous at line 2464.\n",
      "  PDBConstructionWarning,\n",
      "/wsu/home/fr/fr15/fr1583/.conda/envs/protein/lib/python3.7/site-packages/Bio/PDB/StructureBuilder.py:92: PDBConstructionWarning: WARNING: Chain B is discontinuous at line 2571.\n",
      "  PDBConstructionWarning,\n",
      "/wsu/home/fr/fr15/fr1583/.conda/envs/protein/lib/python3.7/site-packages/Bio/PDB/StructureBuilder.py:92: PDBConstructionWarning: WARNING: Chain C is discontinuous at line 2654.\n",
      "  PDBConstructionWarning,\n"
     ]
    },
    {
     "name": "stdout",
     "output_type": "stream",
     "text": [
      "193 2zcm\n"
     ]
    },
    {
     "name": "stderr",
     "output_type": "stream",
     "text": [
      "/wsu/home/fr/fr15/fr1583/.conda/envs/protein/lib/python3.7/site-packages/Bio/PDB/StructureBuilder.py:92: PDBConstructionWarning: WARNING: Chain A is discontinuous at line 3031.\n",
      "  PDBConstructionWarning,\n",
      "/wsu/home/fr/fr15/fr1583/.conda/envs/protein/lib/python3.7/site-packages/Bio/PDB/StructureBuilder.py:92: PDBConstructionWarning: WARNING: Chain B is discontinuous at line 3493.\n",
      "  PDBConstructionWarning,\n"
     ]
    },
    {
     "name": "stdout",
     "output_type": "stream",
     "text": [
      "194 2zu1\n"
     ]
    },
    {
     "name": "stderr",
     "output_type": "stream",
     "text": [
      "/wsu/home/fr/fr15/fr1583/.conda/envs/protein/lib/python3.7/site-packages/Bio/PDB/StructureBuilder.py:92: PDBConstructionWarning: WARNING: Chain A is discontinuous at line 2794.\n",
      "  PDBConstructionWarning,\n",
      "/wsu/home/fr/fr15/fr1583/.conda/envs/protein/lib/python3.7/site-packages/Bio/PDB/StructureBuilder.py:92: PDBConstructionWarning: WARNING: Chain B is discontinuous at line 3123.\n",
      "  PDBConstructionWarning,\n",
      "/wsu/home/fr/fr15/fr1583/.conda/envs/protein/lib/python3.7/site-packages/Bio/PDB/StructureBuilder.py:130: PDBConstructionWarning: WARNING: Residue (' ', 14, ' ') redefined at line 827.\n",
      "  PDBConstructionWarning,\n",
      "/wsu/home/fr/fr15/fr1583/.conda/envs/protein/lib/python3.7/site-packages/Bio/PDB/StructureBuilder.py:130: PDBConstructionWarning: WARNING: Residue (' ', 17, ' ') redefined at line 864.\n",
      "  PDBConstructionWarning,\n",
      "/wsu/home/fr/fr15/fr1583/.conda/envs/protein/lib/python3.7/site-packages/Bio/PDB/StructureBuilder.py:92: PDBConstructionWarning: WARNING: Chain A is discontinuous at line 929.\n",
      "  PDBConstructionWarning,\n",
      "/wsu/home/fr/fr15/fr1583/.conda/envs/protein/lib/python3.7/site-packages/Bio/PDB/StructureBuilder.py:92: PDBConstructionWarning: WARNING: Chain B is discontinuous at line 976.\n",
      "  PDBConstructionWarning,\n",
      "/wsu/home/fr/fr15/fr1583/.conda/envs/protein/lib/python3.7/site-packages/Bio/PDB/StructureBuilder.py:92: PDBConstructionWarning: WARNING: Chain C is discontinuous at line 1025.\n",
      "  PDBConstructionWarning,\n",
      "/wsu/home/fr/fr15/fr1583/.conda/envs/protein/lib/python3.7/site-packages/Bio/PDB/StructureBuilder.py:92: PDBConstructionWarning: WARNING: Chain D is discontinuous at line 1081.\n",
      "  PDBConstructionWarning,\n",
      "/wsu/home/fr/fr15/fr1583/.conda/envs/protein/lib/python3.7/site-packages/Bio/PDB/StructureBuilder.py:92: PDBConstructionWarning: WARNING: Chain E is discontinuous at line 1118.\n",
      "  PDBConstructionWarning,\n",
      "/wsu/home/fr/fr15/fr1583/.conda/envs/protein/lib/python3.7/site-packages/Bio/PDB/StructureBuilder.py:92: PDBConstructionWarning: WARNING: Chain F is discontinuous at line 1161.\n",
      "  PDBConstructionWarning,\n"
     ]
    },
    {
     "name": "stdout",
     "output_type": "stream",
     "text": [
      "195 3a0m\n"
     ]
    },
    {
     "name": "stderr",
     "output_type": "stream",
     "text": [
      "/wsu/home/fr/fr15/fr1583/.conda/envs/protein/lib/python3.7/site-packages/Bio/PDB/StructureBuilder.py:130: PDBConstructionWarning: WARNING: Residue (' ', 14, ' ') redefined at line 827.\n",
      "  PDBConstructionWarning,\n",
      "/wsu/home/fr/fr15/fr1583/.conda/envs/protein/lib/python3.7/site-packages/Bio/PDB/StructureBuilder.py:130: PDBConstructionWarning: WARNING: Residue (' ', 17, ' ') redefined at line 864.\n",
      "  PDBConstructionWarning,\n",
      "/wsu/home/fr/fr15/fr1583/.conda/envs/protein/lib/python3.7/site-packages/Bio/PDB/StructureBuilder.py:92: PDBConstructionWarning: WARNING: Chain A is discontinuous at line 929.\n",
      "  PDBConstructionWarning,\n",
      "/wsu/home/fr/fr15/fr1583/.conda/envs/protein/lib/python3.7/site-packages/Bio/PDB/StructureBuilder.py:92: PDBConstructionWarning: WARNING: Chain B is discontinuous at line 976.\n",
      "  PDBConstructionWarning,\n",
      "/wsu/home/fr/fr15/fr1583/.conda/envs/protein/lib/python3.7/site-packages/Bio/PDB/StructureBuilder.py:92: PDBConstructionWarning: WARNING: Chain C is discontinuous at line 1025.\n",
      "  PDBConstructionWarning,\n",
      "/wsu/home/fr/fr15/fr1583/.conda/envs/protein/lib/python3.7/site-packages/Bio/PDB/StructureBuilder.py:92: PDBConstructionWarning: WARNING: Chain D is discontinuous at line 1081.\n",
      "  PDBConstructionWarning,\n",
      "/wsu/home/fr/fr15/fr1583/.conda/envs/protein/lib/python3.7/site-packages/Bio/PDB/StructureBuilder.py:92: PDBConstructionWarning: WARNING: Chain E is discontinuous at line 1118.\n",
      "  PDBConstructionWarning,\n",
      "/wsu/home/fr/fr15/fr1583/.conda/envs/protein/lib/python3.7/site-packages/Bio/PDB/StructureBuilder.py:92: PDBConstructionWarning: WARNING: Chain F is discontinuous at line 1161.\n",
      "  PDBConstructionWarning,\n"
     ]
    },
    {
     "name": "stdout",
     "output_type": "stream",
     "text": [
      "Found input variables with inconsistent numbers of samples: [148, 150]\n",
      "196 3a7l\n",
      "197 3amc\n"
     ]
    },
    {
     "name": "stderr",
     "output_type": "stream",
     "text": [
      "/wsu/home/fr/fr15/fr1583/.conda/envs/protein/lib/python3.7/site-packages/Bio/PDB/StructureBuilder.py:92: PDBConstructionWarning: WARNING: Chain A is discontinuous at line 5174.\n",
      "  PDBConstructionWarning,\n",
      "/wsu/home/fr/fr15/fr1583/.conda/envs/protein/lib/python3.7/site-packages/Bio/PDB/StructureBuilder.py:92: PDBConstructionWarning: WARNING: Chain B is discontinuous at line 5546.\n",
      "  PDBConstructionWarning,\n"
     ]
    },
    {
     "name": "stdout",
     "output_type": "stream",
     "text": [
      "198 3aub\n",
      "199 3b5o\n"
     ]
    },
    {
     "name": "stderr",
     "output_type": "stream",
     "text": [
      "/wsu/home/fr/fr15/fr1583/.conda/envs/protein/lib/python3.7/site-packages/Bio/PDB/StructureBuilder.py:92: PDBConstructionWarning: WARNING: Chain A is discontinuous at line 902.\n",
      "  PDBConstructionWarning,\n",
      "/wsu/home/fr/fr15/fr1583/.conda/envs/protein/lib/python3.7/site-packages/Bio/PDB/StructureBuilder.py:92: PDBConstructionWarning: WARNING: Chain B is discontinuous at line 1028.\n",
      "  PDBConstructionWarning,\n"
     ]
    },
    {
     "name": "stdout",
     "output_type": "stream",
     "text": [
      "200 3ba1\n",
      "201 3bed\n"
     ]
    },
    {
     "name": "stderr",
     "output_type": "stream",
     "text": [
      "/wsu/home/fr/fr15/fr1583/.conda/envs/protein/lib/python3.7/site-packages/Bio/PDB/StructureBuilder.py:92: PDBConstructionWarning: WARNING: Chain A is discontinuous at line 2025.\n",
      "  PDBConstructionWarning,\n",
      "/wsu/home/fr/fr15/fr1583/.conda/envs/protein/lib/python3.7/site-packages/Bio/PDB/StructureBuilder.py:92: PDBConstructionWarning: WARNING: Chain B is discontinuous at line 2197.\n",
      "  PDBConstructionWarning,\n"
     ]
    },
    {
     "name": "stdout",
     "output_type": "stream",
     "text": [
      "202 3bqx\n",
      "203 3bzq\n",
      "204 3bzz\n"
     ]
    },
    {
     "name": "stderr",
     "output_type": "stream",
     "text": [
      "/wsu/home/fr/fr15/fr1583/.conda/envs/protein/lib/python3.7/site-packages/Bio/PDB/StructureBuilder.py:92: PDBConstructionWarning: WARNING: Chain A is discontinuous at line 799.\n",
      "  PDBConstructionWarning,\n",
      "/wsu/home/fr/fr15/fr1583/.conda/envs/protein/lib/python3.7/site-packages/Bio/PDB/StructureBuilder.py:92: PDBConstructionWarning: WARNING: Chain B is discontinuous at line 821.\n",
      "  PDBConstructionWarning,\n"
     ]
    },
    {
     "name": "stdout",
     "output_type": "stream",
     "text": [
      "205 3drf\n"
     ]
    },
    {
     "name": "stderr",
     "output_type": "stream",
     "text": [
      "/wsu/home/fr/fr15/fr1583/.conda/envs/protein/lib/python3.7/site-packages/Bio/PDB/StructureBuilder.py:92: PDBConstructionWarning: WARNING: Chain A is discontinuous at line 4397.\n",
      "  PDBConstructionWarning,\n",
      "/wsu/home/fr/fr15/fr1583/.conda/envs/protein/lib/python3.7/site-packages/Bio/PDB/StructureBuilder.py:92: PDBConstructionWarning: WARNING: Chain B is discontinuous at line 5508.\n",
      "  PDBConstructionWarning,\n"
     ]
    },
    {
     "name": "stdout",
     "output_type": "stream",
     "text": [
      "206 3dwv\n"
     ]
    },
    {
     "name": "stderr",
     "output_type": "stream",
     "text": [
      "/wsu/home/fr/fr15/fr1583/.conda/envs/protein/lib/python3.7/site-packages/Bio/PDB/StructureBuilder.py:92: PDBConstructionWarning: WARNING: Chain A is discontinuous at line 2780.\n",
      "  PDBConstructionWarning,\n",
      "/wsu/home/fr/fr15/fr1583/.conda/envs/protein/lib/python3.7/site-packages/Bio/PDB/StructureBuilder.py:92: PDBConstructionWarning: WARNING: Chain B is discontinuous at line 2951.\n",
      "  PDBConstructionWarning,\n",
      "/wsu/home/fr/fr15/fr1583/.conda/envs/protein/lib/python3.7/site-packages/Bio/PDB/StructureBuilder.py:92: PDBConstructionWarning: WARNING: Chain A is discontinuous at line 2780.\n",
      "  PDBConstructionWarning,\n",
      "/wsu/home/fr/fr15/fr1583/.conda/envs/protein/lib/python3.7/site-packages/Bio/PDB/StructureBuilder.py:92: PDBConstructionWarning: WARNING: Chain B is discontinuous at line 2951.\n",
      "  PDBConstructionWarning,\n"
     ]
    },
    {
     "name": "stdout",
     "output_type": "stream",
     "text": [
      "Found input variables with inconsistent numbers of samples: [325, 326]\n",
      "207 3e5t\n",
      "208 3e7r\n",
      "209 3eur\n",
      "210 3f2z\n",
      "211 3f7e\n"
     ]
    },
    {
     "name": "stderr",
     "output_type": "stream",
     "text": [
      "/wsu/home/fr/fr15/fr1583/.conda/envs/protein/lib/python3.7/site-packages/Bio/PDB/StructureBuilder.py:92: PDBConstructionWarning: WARNING: Chain A is discontinuous at line 2148.\n",
      "  PDBConstructionWarning,\n",
      "/wsu/home/fr/fr15/fr1583/.conda/envs/protein/lib/python3.7/site-packages/Bio/PDB/StructureBuilder.py:92: PDBConstructionWarning: WARNING: Chain B is discontinuous at line 2329.\n",
      "  PDBConstructionWarning,\n"
     ]
    },
    {
     "name": "stdout",
     "output_type": "stream",
     "text": [
      "212 3fcn\n",
      "213 3fe7\n",
      "214 3fke\n"
     ]
    },
    {
     "name": "stderr",
     "output_type": "stream",
     "text": [
      "/wsu/home/fr/fr15/fr1583/.conda/envs/protein/lib/python3.7/site-packages/Bio/PDB/StructureBuilder.py:92: PDBConstructionWarning: WARNING: Chain A is discontinuous at line 752.\n",
      "  PDBConstructionWarning,\n",
      "/wsu/home/fr/fr15/fr1583/.conda/envs/protein/lib/python3.7/site-packages/Bio/PDB/StructureBuilder.py:92: PDBConstructionWarning: WARNING: Chain L is discontinuous at line 820.\n",
      "  PDBConstructionWarning,\n",
      "/wsu/home/fr/fr15/fr1583/.conda/envs/protein/lib/python3.7/site-packages/Bio/PDB/StructureBuilder.py:92: PDBConstructionWarning: WARNING: Chain A is discontinuous at line 1938.\n",
      "  PDBConstructionWarning,\n",
      "/wsu/home/fr/fr15/fr1583/.conda/envs/protein/lib/python3.7/site-packages/Bio/PDB/StructureBuilder.py:92: PDBConstructionWarning: WARNING: Chain B is discontinuous at line 2043.\n",
      "  PDBConstructionWarning,\n"
     ]
    },
    {
     "name": "stdout",
     "output_type": "stream",
     "text": [
      "215 3fmy\n",
      "216 3fod\n",
      "217 3fso\n"
     ]
    },
    {
     "name": "stderr",
     "output_type": "stream",
     "text": [
      "/wsu/home/fr/fr15/fr1583/.conda/envs/protein/lib/python3.7/site-packages/Bio/PDB/StructureBuilder.py:92: PDBConstructionWarning: WARNING: Chain A is discontinuous at line 328.\n",
      "  PDBConstructionWarning,\n",
      "/wsu/home/fr/fr15/fr1583/.conda/envs/protein/lib/python3.7/site-packages/Bio/PDB/StructureBuilder.py:92: PDBConstructionWarning: WARNING: Chain B is discontinuous at line 339.\n",
      "  PDBConstructionWarning,\n",
      "/wsu/home/fr/fr15/fr1583/.conda/envs/protein/lib/python3.7/site-packages/Bio/PDB/StructureBuilder.py:92: PDBConstructionWarning: WARNING: Chain C is discontinuous at line 346.\n",
      "  PDBConstructionWarning,\n",
      "/wsu/home/fr/fr15/fr1583/.conda/envs/protein/lib/python3.7/site-packages/Bio/PDB/StructureBuilder.py:92: PDBConstructionWarning: WARNING: Chain D is discontinuous at line 356.\n",
      "  PDBConstructionWarning,\n",
      "/wsu/home/fr/fr15/fr1583/.conda/envs/protein/lib/python3.7/site-packages/Bio/PDB/StructureBuilder.py:92: PDBConstructionWarning: WARNING: Chain E is discontinuous at line 361.\n",
      "  PDBConstructionWarning,\n",
      "/wsu/home/fr/fr15/fr1583/.conda/envs/protein/lib/python3.7/site-packages/Bio/PDB/StructureBuilder.py:92: PDBConstructionWarning: WARNING: Chain F is discontinuous at line 368.\n",
      "  PDBConstructionWarning,\n",
      "/wsu/home/fr/fr15/fr1583/.conda/envs/protein/lib/python3.7/site-packages/Bio/PDB/StructureBuilder.py:92: PDBConstructionWarning: WARNING: Chain G is discontinuous at line 379.\n",
      "  PDBConstructionWarning,\n",
      "/wsu/home/fr/fr15/fr1583/.conda/envs/protein/lib/python3.7/site-packages/Bio/PDB/StructureBuilder.py:92: PDBConstructionWarning: WARNING: Chain H is discontinuous at line 391.\n",
      "  PDBConstructionWarning,\n",
      "/wsu/home/fr/fr15/fr1583/.conda/envs/protein/lib/python3.7/site-packages/Bio/PDB/StructureBuilder.py:92: PDBConstructionWarning: WARNING: Chain A is discontinuous at line 3803.\n",
      "  PDBConstructionWarning,\n",
      "/wsu/home/fr/fr15/fr1583/.conda/envs/protein/lib/python3.7/site-packages/Bio/PDB/StructureBuilder.py:92: PDBConstructionWarning: WARNING: Chain B is discontinuous at line 3945.\n",
      "  PDBConstructionWarning,\n"
     ]
    },
    {
     "name": "stdout",
     "output_type": "stream",
     "text": [
      "218 3ftd\n",
      "219 3fva\n"
     ]
    },
    {
     "name": "stderr",
     "output_type": "stream",
     "text": [
      "/wsu/home/fr/fr15/fr1583/K/NMAcomp/multiscale.py:54: RuntimeWarning: divide by zero encountered in true_divide\n",
      "  reg.fit(diag_n.T,1/bfactor)\n",
      "/wsu/home/fr/fr15/fr1583/.conda/envs/protein/lib/python3.7/site-packages/Bio/PDB/StructureBuilder.py:92: PDBConstructionWarning: WARNING: Chain A is discontinuous at line 3196.\n",
      "  PDBConstructionWarning,\n",
      "/wsu/home/fr/fr15/fr1583/.conda/envs/protein/lib/python3.7/site-packages/Bio/PDB/StructureBuilder.py:92: PDBConstructionWarning: WARNING: Chain B is discontinuous at line 3356.\n",
      "  PDBConstructionWarning,\n"
     ]
    },
    {
     "name": "stdout",
     "output_type": "stream",
     "text": [
      "Input contains NaN, infinity or a value too large for dtype('float64').\n",
      "220 3g1s\n",
      "221 3gbw\n",
      "222 3ghj\n",
      "223 3hfo\n"
     ]
    },
    {
     "name": "stderr",
     "output_type": "stream",
     "text": [
      "/wsu/home/fr/fr15/fr1583/.conda/envs/protein/lib/python3.7/site-packages/Bio/PDB/StructureBuilder.py:92: PDBConstructionWarning: WARNING: Chain A is discontinuous at line 1630.\n",
      "  PDBConstructionWarning,\n",
      "/wsu/home/fr/fr15/fr1583/.conda/envs/protein/lib/python3.7/site-packages/Bio/PDB/StructureBuilder.py:92: PDBConstructionWarning: WARNING: Chain B is discontinuous at line 1730.\n",
      "  PDBConstructionWarning,\n",
      "/wsu/home/fr/fr15/fr1583/.conda/envs/protein/lib/python3.7/site-packages/Bio/PDB/StructureBuilder.py:92: PDBConstructionWarning: WARNING: Chain C is discontinuous at line 1825.\n",
      "  PDBConstructionWarning,\n"
     ]
    },
    {
     "name": "stdout",
     "output_type": "stream",
     "text": [
      "224 3hhp\n"
     ]
    },
    {
     "name": "stderr",
     "output_type": "stream",
     "text": [
      "/wsu/home/fr/fr15/fr1583/.conda/envs/protein/lib/python3.7/site-packages/Bio/PDB/StructureBuilder.py:92: PDBConstructionWarning: WARNING: Chain A is discontinuous at line 9464.\n",
      "  PDBConstructionWarning,\n",
      "/wsu/home/fr/fr15/fr1583/.conda/envs/protein/lib/python3.7/site-packages/Bio/PDB/StructureBuilder.py:92: PDBConstructionWarning: WARNING: Chain B is discontinuous at line 9583.\n",
      "  PDBConstructionWarning,\n",
      "/wsu/home/fr/fr15/fr1583/.conda/envs/protein/lib/python3.7/site-packages/Bio/PDB/StructureBuilder.py:92: PDBConstructionWarning: WARNING: Chain C is discontinuous at line 9714.\n",
      "  PDBConstructionWarning,\n",
      "/wsu/home/fr/fr15/fr1583/.conda/envs/protein/lib/python3.7/site-packages/Bio/PDB/StructureBuilder.py:92: PDBConstructionWarning: WARNING: Chain D is discontinuous at line 9857.\n",
      "  PDBConstructionWarning,\n"
     ]
    },
    {
     "name": "stdout",
     "output_type": "stream",
     "text": [
      "skipped\n",
      "225 3hny\n",
      "226 3hp4\n",
      "227 3hwu\n",
      "228 3hyd\n",
      "229 3hz8\n",
      "230 3i2v\n",
      "231 3i2z\n"
     ]
    },
    {
     "name": "stderr",
     "output_type": "stream",
     "text": [
      "/wsu/home/fr/fr15/fr1583/.conda/envs/protein/lib/python3.7/site-packages/Bio/PDB/StructureBuilder.py:92: PDBConstructionWarning: WARNING: Chain B is discontinuous at line 1073.\n",
      "  PDBConstructionWarning,\n",
      "/wsu/home/fr/fr15/fr1583/.conda/envs/protein/lib/python3.7/site-packages/Bio/PDB/StructureBuilder.py:92: PDBConstructionWarning: WARNING: Chain A is discontinuous at line 1106.\n",
      "  PDBConstructionWarning,\n",
      "/wsu/home/fr/fr15/fr1583/.conda/envs/protein/lib/python3.7/site-packages/Bio/PDB/StructureBuilder.py:92: PDBConstructionWarning: WARNING: Chain A is discontinuous at line 1255.\n",
      "  PDBConstructionWarning,\n",
      "/wsu/home/fr/fr15/fr1583/.conda/envs/protein/lib/python3.7/site-packages/Bio/PDB/StructureBuilder.py:92: PDBConstructionWarning: WARNING: Chain B is discontinuous at line 1352.\n",
      "  PDBConstructionWarning,\n"
     ]
    },
    {
     "name": "stdout",
     "output_type": "stream",
     "text": [
      "232 3i4o\n",
      "233 3i7m\n",
      "234 3ihs\n"
     ]
    },
    {
     "name": "stderr",
     "output_type": "stream",
     "text": [
      "/wsu/home/fr/fr15/fr1583/.conda/envs/protein/lib/python3.7/site-packages/Bio/PDB/StructureBuilder.py:92: PDBConstructionWarning: WARNING: Chain A is discontinuous at line 1363.\n",
      "  PDBConstructionWarning,\n",
      "/wsu/home/fr/fr15/fr1583/.conda/envs/protein/lib/python3.7/site-packages/Bio/PDB/StructureBuilder.py:92: PDBConstructionWarning: WARNING: Chain B is discontinuous at line 1468.\n",
      "  PDBConstructionWarning,\n",
      "/wsu/home/fr/fr15/fr1583/.conda/envs/protein/lib/python3.7/site-packages/Bio/PDB/StructureBuilder.py:92: PDBConstructionWarning: WARNING: Chain A is discontinuous at line 1286.\n",
      "  PDBConstructionWarning,\n",
      "/wsu/home/fr/fr15/fr1583/.conda/envs/protein/lib/python3.7/site-packages/Bio/PDB/StructureBuilder.py:92: PDBConstructionWarning: WARNING: Chain D is discontinuous at line 1487.\n",
      "  PDBConstructionWarning,\n"
     ]
    },
    {
     "name": "stdout",
     "output_type": "stream",
     "text": [
      "235 3ivv\n"
     ]
    },
    {
     "name": "stderr",
     "output_type": "stream",
     "text": [
      "/wsu/home/fr/fr15/fr1583/.conda/envs/protein/lib/python3.7/site-packages/Bio/PDB/StructureBuilder.py:92: PDBConstructionWarning: WARNING: Chain A is discontinuous at line 1286.\n",
      "  PDBConstructionWarning,\n",
      "/wsu/home/fr/fr15/fr1583/.conda/envs/protein/lib/python3.7/site-packages/Bio/PDB/StructureBuilder.py:92: PDBConstructionWarning: WARNING: Chain D is discontinuous at line 1487.\n",
      "  PDBConstructionWarning,\n"
     ]
    },
    {
     "name": "stdout",
     "output_type": "stream",
     "text": [
      "Found input variables with inconsistent numbers of samples: [149, 150]\n",
      "236 3k6y\n",
      "237 3kbe\n",
      "238 3kgk\n",
      "239 3kzd\n"
     ]
    },
    {
     "name": "stderr",
     "output_type": "stream",
     "text": [
      "/wsu/home/fr/fr15/fr1583/.conda/envs/protein/lib/python3.7/site-packages/Bio/PDB/StructureBuilder.py:92: PDBConstructionWarning: WARNING: Chain A is discontinuous at line 1492.\n",
      "  PDBConstructionWarning,\n",
      "/wsu/home/fr/fr15/fr1583/.conda/envs/protein/lib/python3.7/site-packages/Bio/PDB/StructureBuilder.py:92: PDBConstructionWarning: WARNING: Chain B is discontinuous at line 1629.\n",
      "  PDBConstructionWarning,\n"
     ]
    },
    {
     "name": "stdout",
     "output_type": "stream",
     "text": [
      "240 3l41\n"
     ]
    },
    {
     "name": "stderr",
     "output_type": "stream",
     "text": [
      "/wsu/home/fr/fr15/fr1583/.conda/envs/protein/lib/python3.7/site-packages/Bio/PDB/StructureBuilder.py:92: PDBConstructionWarning: WARNING: Chain A is discontinuous at line 1745.\n",
      "  PDBConstructionWarning,\n",
      "/wsu/home/fr/fr15/fr1583/.conda/envs/protein/lib/python3.7/site-packages/Bio/PDB/StructureBuilder.py:92: PDBConstructionWarning: WARNING: Chain B is discontinuous at line 2150.\n",
      "  PDBConstructionWarning,\n"
     ]
    },
    {
     "name": "stdout",
     "output_type": "stream",
     "text": [
      "241 3laa\n",
      "242 3lax\n",
      "243 3lg3\n"
     ]
    },
    {
     "name": "stderr",
     "output_type": "stream",
     "text": [
      "/wsu/home/fr/fr15/fr1583/.conda/envs/protein/lib/python3.7/site-packages/Bio/PDB/StructureBuilder.py:92: PDBConstructionWarning: WARNING: Chain A is discontinuous at line 6699.\n",
      "  PDBConstructionWarning,\n",
      "/wsu/home/fr/fr15/fr1583/.conda/envs/protein/lib/python3.7/site-packages/Bio/PDB/StructureBuilder.py:92: PDBConstructionWarning: WARNING: Chain B is discontinuous at line 7316.\n",
      "  PDBConstructionWarning,\n"
     ]
    },
    {
     "name": "stdout",
     "output_type": "stream",
     "text": [
      "244 3lji\n",
      "245 3m3p\n",
      "246 3m8j\n"
     ]
    },
    {
     "name": "stderr",
     "output_type": "stream",
     "text": [
      "/wsu/home/fr/fr15/fr1583/.conda/envs/protein/lib/python3.7/site-packages/Bio/PDB/StructureBuilder.py:92: PDBConstructionWarning: WARNING: Chain A is discontinuous at line 1396.\n",
      "  PDBConstructionWarning,\n",
      "/wsu/home/fr/fr15/fr1583/.conda/envs/protein/lib/python3.7/site-packages/Bio/PDB/StructureBuilder.py:92: PDBConstructionWarning: WARNING: Chain B is discontinuous at line 1463.\n",
      "  PDBConstructionWarning,\n"
     ]
    },
    {
     "name": "stdout",
     "output_type": "stream",
     "text": [
      "247 3m9j\n"
     ]
    },
    {
     "name": "stderr",
     "output_type": "stream",
     "text": [
      "/wsu/home/fr/fr15/fr1583/.conda/envs/protein/lib/python3.7/site-packages/Bio/PDB/StructureBuilder.py:92: PDBConstructionWarning: WARNING: Chain A is discontinuous at line 1955.\n",
      "  PDBConstructionWarning,\n",
      "/wsu/home/fr/fr15/fr1583/.conda/envs/protein/lib/python3.7/site-packages/Bio/PDB/StructureBuilder.py:92: PDBConstructionWarning: WARNING: Chain B is discontinuous at line 2057.\n",
      "  PDBConstructionWarning,\n"
     ]
    },
    {
     "name": "stdout",
     "output_type": "stream",
     "text": [
      "248 3m9q\n"
     ]
    },
    {
     "name": "stderr",
     "output_type": "stream",
     "text": [
      "/wsu/home/fr/fr15/fr1583/.conda/envs/protein/lib/python3.7/site-packages/Bio/PDB/StructureBuilder.py:92: PDBConstructionWarning: WARNING: Chain A is discontinuous at line 1577.\n",
      "  PDBConstructionWarning,\n",
      "/wsu/home/fr/fr15/fr1583/.conda/envs/protein/lib/python3.7/site-packages/Bio/PDB/StructureBuilder.py:92: PDBConstructionWarning: WARNING: Chain B is discontinuous at line 1849.\n",
      "  PDBConstructionWarning,\n",
      "/wsu/home/fr/fr15/fr1583/.conda/envs/protein/lib/python3.7/site-packages/Bio/PDB/StructureBuilder.py:92: PDBConstructionWarning: WARNING: Chain A is discontinuous at line 1417.\n",
      "  PDBConstructionWarning,\n",
      "/wsu/home/fr/fr15/fr1583/.conda/envs/protein/lib/python3.7/site-packages/Bio/PDB/StructureBuilder.py:92: PDBConstructionWarning: WARNING: Chain B is discontinuous at line 1519.\n",
      "  PDBConstructionWarning,\n"
     ]
    },
    {
     "name": "stdout",
     "output_type": "stream",
     "text": [
      "249 3mab\n",
      "250 3md4\n",
      "251 3md5\n",
      "252 3mea\n"
     ]
    },
    {
     "name": "stderr",
     "output_type": "stream",
     "text": [
      "/wsu/home/fr/fr15/fr1583/.conda/envs/protein/lib/python3.7/site-packages/Bio/PDB/StructureBuilder.py:92: PDBConstructionWarning: WARNING: Chain A is discontinuous at line 91.\n",
      "  PDBConstructionWarning,\n",
      "/wsu/home/fr/fr15/fr1583/.conda/envs/protein/lib/python3.7/site-packages/Bio/PDB/StructureBuilder.py:92: PDBConstructionWarning: WARNING: Chain B is discontinuous at line 97.\n",
      "  PDBConstructionWarning,\n",
      "/wsu/home/fr/fr15/fr1583/.conda/envs/protein/lib/python3.7/site-packages/Bio/PDB/StructureBuilder.py:92: PDBConstructionWarning: WARNING: Chain A is discontinuous at line 93.\n",
      "  PDBConstructionWarning,\n",
      "/wsu/home/fr/fr15/fr1583/.conda/envs/protein/lib/python3.7/site-packages/Bio/PDB/StructureBuilder.py:92: PDBConstructionWarning: WARNING: Chain B is discontinuous at line 96.\n",
      "  PDBConstructionWarning,\n",
      "/wsu/home/fr/fr15/fr1583/.conda/envs/protein/lib/python3.7/site-packages/Bio/PDB/StructureBuilder.py:92: PDBConstructionWarning: WARNING: Chain A is discontinuous at line 1317.\n",
      "  PDBConstructionWarning,\n",
      "/wsu/home/fr/fr15/fr1583/.conda/envs/protein/lib/python3.7/site-packages/Bio/PDB/StructureBuilder.py:92: PDBConstructionWarning: WARNING: Chain B is discontinuous at line 1473.\n",
      "  PDBConstructionWarning,\n",
      "/wsu/home/fr/fr15/fr1583/.conda/envs/protein/lib/python3.7/site-packages/Bio/PDB/StructureBuilder.py:92: PDBConstructionWarning: WARNING: Chain A is discontinuous at line 3038.\n",
      "  PDBConstructionWarning,\n",
      "/wsu/home/fr/fr15/fr1583/.conda/envs/protein/lib/python3.7/site-packages/Bio/PDB/StructureBuilder.py:92: PDBConstructionWarning: WARNING: Chain B is discontinuous at line 3101.\n",
      "  PDBConstructionWarning,\n",
      "/wsu/home/fr/fr15/fr1583/.conda/envs/protein/lib/python3.7/site-packages/Bio/PDB/StructureBuilder.py:92: PDBConstructionWarning: WARNING: Chain C is discontinuous at line 3169.\n",
      "  PDBConstructionWarning,\n",
      "/wsu/home/fr/fr15/fr1583/.conda/envs/protein/lib/python3.7/site-packages/Bio/PDB/StructureBuilder.py:92: PDBConstructionWarning: WARNING: Chain D is discontinuous at line 3215.\n",
      "  PDBConstructionWarning,\n",
      "/wsu/home/fr/fr15/fr1583/.conda/envs/protein/lib/python3.7/site-packages/Bio/PDB/StructureBuilder.py:92: PDBConstructionWarning: WARNING: Chain E is discontinuous at line 3267.\n",
      "  PDBConstructionWarning,\n",
      "/wsu/home/fr/fr15/fr1583/.conda/envs/protein/lib/python3.7/site-packages/Bio/PDB/StructureBuilder.py:92: PDBConstructionWarning: WARNING: Chain F is discontinuous at line 3300.\n",
      "  PDBConstructionWarning,\n",
      "/wsu/home/fr/fr15/fr1583/.conda/envs/protein/lib/python3.7/site-packages/Bio/PDB/StructureBuilder.py:92: PDBConstructionWarning: WARNING: Chain G is discontinuous at line 3326.\n",
      "  PDBConstructionWarning,\n",
      "/wsu/home/fr/fr15/fr1583/.conda/envs/protein/lib/python3.7/site-packages/Bio/PDB/StructureBuilder.py:92: PDBConstructionWarning: WARNING: Chain H is discontinuous at line 3332.\n",
      "  PDBConstructionWarning,\n",
      "/wsu/home/fr/fr15/fr1583/.conda/envs/protein/lib/python3.7/site-packages/Bio/PDB/StructureBuilder.py:92: PDBConstructionWarning: WARNING: Chain I is discontinuous at line 3357.\n",
      "  PDBConstructionWarning,\n",
      "/wsu/home/fr/fr15/fr1583/.conda/envs/protein/lib/python3.7/site-packages/Bio/PDB/StructureBuilder.py:92: PDBConstructionWarning: WARNING: Chain J is discontinuous at line 3367.\n",
      "  PDBConstructionWarning,\n",
      "/wsu/home/fr/fr15/fr1583/.conda/envs/protein/lib/python3.7/site-packages/Bio/PDB/StructureBuilder.py:92: PDBConstructionWarning: WARNING: Chain K is discontinuous at line 3373.\n",
      "  PDBConstructionWarning,\n",
      "/wsu/home/fr/fr15/fr1583/.conda/envs/protein/lib/python3.7/site-packages/Bio/PDB/StructureBuilder.py:92: PDBConstructionWarning: WARNING: Chain L is discontinuous at line 3388.\n",
      "  PDBConstructionWarning,\n"
     ]
    },
    {
     "name": "stdout",
     "output_type": "stream",
     "text": [
      "253 3mgn\n",
      "254 3mre\n"
     ]
    },
    {
     "name": "stderr",
     "output_type": "stream",
     "text": [
      "/wsu/home/fr/fr15/fr1583/.conda/envs/protein/lib/python3.7/site-packages/Bio/PDB/StructureBuilder.py:92: PDBConstructionWarning: WARNING: Chain A is discontinuous at line 3678.\n",
      "  PDBConstructionWarning,\n",
      "/wsu/home/fr/fr15/fr1583/.conda/envs/protein/lib/python3.7/site-packages/Bio/PDB/StructureBuilder.py:92: PDBConstructionWarning: WARNING: Chain B is discontinuous at line 4160.\n",
      "  PDBConstructionWarning,\n",
      "/wsu/home/fr/fr15/fr1583/.conda/envs/protein/lib/python3.7/site-packages/Bio/PDB/StructureBuilder.py:92: PDBConstructionWarning: WARNING: Chain P is discontinuous at line 4348.\n",
      "  PDBConstructionWarning,\n"
     ]
    },
    {
     "name": "stdout",
     "output_type": "stream",
     "text": [
      "255 3n11\n",
      "256 3ne0\n",
      "257 3ngg\n",
      "258 3npv\n"
     ]
    },
    {
     "name": "stderr",
     "output_type": "stream",
     "text": [
      "/wsu/home/fr/fr15/fr1583/.conda/envs/protein/lib/python3.7/site-packages/Bio/PDB/StructureBuilder.py:92: PDBConstructionWarning: WARNING: Chain A is discontinuous at line 732.\n",
      "  PDBConstructionWarning,\n",
      "/wsu/home/fr/fr15/fr1583/.conda/envs/protein/lib/python3.7/site-packages/Bio/PDB/StructureBuilder.py:92: PDBConstructionWarning: WARNING: Chain B is discontinuous at line 797.\n",
      "  PDBConstructionWarning,\n",
      "/wsu/home/fr/fr15/fr1583/.conda/envs/protein/lib/python3.7/site-packages/Bio/PDB/StructureBuilder.py:92: PDBConstructionWarning: WARNING: Chain B is discontinuous at line 3711.\n",
      "  PDBConstructionWarning,\n",
      "/wsu/home/fr/fr15/fr1583/.conda/envs/protein/lib/python3.7/site-packages/Bio/PDB/StructureBuilder.py:92: PDBConstructionWarning: WARNING: Chain A is discontinuous at line 3856.\n",
      "  PDBConstructionWarning,\n"
     ]
    },
    {
     "name": "stdout",
     "output_type": "stream",
     "text": [
      "259 3nvg\n",
      "260 3nzl\n",
      "261 3o0p\n",
      "262 3o5p\n",
      "263 3obq\n"
     ]
    },
    {
     "name": "stderr",
     "output_type": "stream",
     "text": [
      "/wsu/home/fr/fr15/fr1583/.conda/envs/protein/lib/python3.7/site-packages/Bio/PDB/StructureBuilder.py:92: PDBConstructionWarning: WARNING: Chain A is discontinuous at line 1195.\n",
      "  PDBConstructionWarning,\n",
      "/wsu/home/fr/fr15/fr1583/.conda/envs/protein/lib/python3.7/site-packages/Bio/PDB/StructureBuilder.py:92: PDBConstructionWarning: WARNING: Chain B is discontinuous at line 1384.\n",
      "  PDBConstructionWarning,\n",
      "/wsu/home/fr/fr15/fr1583/.conda/envs/protein/lib/python3.7/site-packages/Bio/PDB/StructureBuilder.py:92: PDBConstructionWarning: WARNING: Chain b is discontinuous at line 1848.\n",
      "  PDBConstructionWarning,\n",
      "/wsu/home/fr/fr15/fr1583/.conda/envs/protein/lib/python3.7/site-packages/Bio/PDB/StructureBuilder.py:92: PDBConstructionWarning: WARNING: Chain B is discontinuous at line 1885.\n",
      "  PDBConstructionWarning,\n",
      "/wsu/home/fr/fr15/fr1583/.conda/envs/protein/lib/python3.7/site-packages/Bio/PDB/StructureBuilder.py:92: PDBConstructionWarning: WARNING: Chain a is discontinuous at line 2033.\n",
      "  PDBConstructionWarning,\n",
      "/wsu/home/fr/fr15/fr1583/.conda/envs/protein/lib/python3.7/site-packages/Bio/PDB/StructureBuilder.py:92: PDBConstructionWarning: WARNING: Chain A is discontinuous at line 2063.\n",
      "  PDBConstructionWarning,\n"
     ]
    },
    {
     "name": "stdout",
     "output_type": "stream",
     "text": [
      "264 3oqy\n",
      "265 3p6j\n",
      "266 3pd7\n"
     ]
    },
    {
     "name": "stderr",
     "output_type": "stream",
     "text": [
      "/wsu/home/fr/fr15/fr1583/.conda/envs/protein/lib/python3.7/site-packages/Bio/PDB/StructureBuilder.py:92: PDBConstructionWarning: WARNING: Chain A is discontinuous at line 3408.\n",
      "  PDBConstructionWarning,\n",
      "/wsu/home/fr/fr15/fr1583/.conda/envs/protein/lib/python3.7/site-packages/Bio/PDB/StructureBuilder.py:92: PDBConstructionWarning: WARNING: Chain B is discontinuous at line 3587.\n",
      "  PDBConstructionWarning,\n",
      "/wsu/home/fr/fr15/fr1583/.conda/envs/protein/lib/python3.7/site-packages/Bio/PDB/StructureBuilder.py:92: PDBConstructionWarning: WARNING: Chain A is discontinuous at line 1342.\n",
      "  PDBConstructionWarning,\n",
      "/wsu/home/fr/fr15/fr1583/.conda/envs/protein/lib/python3.7/site-packages/Bio/PDB/StructureBuilder.py:92: PDBConstructionWarning: WARNING: Chain B is discontinuous at line 1505.\n",
      "  PDBConstructionWarning,\n"
     ]
    },
    {
     "name": "stdout",
     "output_type": "stream",
     "text": [
      "267 3pes\n",
      "268 3pid\n",
      "269 3piw\n",
      "270 3pkv\n",
      "271 3psm\n",
      "272 3ptl\n"
     ]
    },
    {
     "name": "stderr",
     "output_type": "stream",
     "text": [
      "/wsu/home/fr/fr15/fr1583/.conda/envs/protein/lib/python3.7/site-packages/Bio/PDB/StructureBuilder.py:92: PDBConstructionWarning: WARNING: Chain A is discontinuous at line 772.\n",
      "  PDBConstructionWarning,\n",
      "/wsu/home/fr/fr15/fr1583/.conda/envs/protein/lib/python3.7/site-packages/Bio/PDB/StructureBuilder.py:92: PDBConstructionWarning: WARNING: Chain B is discontinuous at line 859.\n",
      "  PDBConstructionWarning,\n",
      "/wsu/home/fr/fr15/fr1583/.conda/envs/protein/lib/python3.7/site-packages/Bio/PDB/StructureBuilder.py:92: PDBConstructionWarning: WARNING: Chain A is discontinuous at line 2101.\n",
      "  PDBConstructionWarning,\n",
      "/wsu/home/fr/fr15/fr1583/.conda/envs/protein/lib/python3.7/site-packages/Bio/PDB/StructureBuilder.py:92: PDBConstructionWarning: WARNING: Chain B is discontinuous at line 2532.\n",
      "  PDBConstructionWarning,\n"
     ]
    },
    {
     "name": "stdout",
     "output_type": "stream",
     "text": [
      "273 3pve\n"
     ]
    },
    {
     "name": "stderr",
     "output_type": "stream",
     "text": [
      "/wsu/home/fr/fr15/fr1583/.conda/envs/protein/lib/python3.7/site-packages/Bio/PDB/StructureBuilder.py:92: PDBConstructionWarning: WARNING: Chain A is discontinuous at line 2656.\n",
      "  PDBConstructionWarning,\n",
      "/wsu/home/fr/fr15/fr1583/.conda/envs/protein/lib/python3.7/site-packages/Bio/PDB/StructureBuilder.py:92: PDBConstructionWarning: WARNING: Chain B is discontinuous at line 2788.\n",
      "  PDBConstructionWarning,\n"
     ]
    },
    {
     "name": "stdout",
     "output_type": "stream",
     "text": [
      "274 3pz9\n",
      "275 3pzz\n",
      "276 3q2x\n",
      "277 3q6l\n",
      "278 3qds\n"
     ]
    },
    {
     "name": "stderr",
     "output_type": "stream",
     "text": [
      "/wsu/home/fr/fr15/fr1583/.conda/envs/protein/lib/python3.7/site-packages/Bio/PDB/StructureBuilder.py:92: PDBConstructionWarning: WARNING: Chain A is discontinuous at line 76.\n",
      "  PDBConstructionWarning,\n",
      "/wsu/home/fr/fr15/fr1583/.conda/envs/protein/lib/python3.7/site-packages/Bio/PDB/StructureBuilder.py:92: PDBConstructionWarning: WARNING: Chain B is discontinuous at line 79.\n",
      "  PDBConstructionWarning,\n",
      "/wsu/home/fr/fr15/fr1583/.conda/envs/protein/lib/python3.7/site-packages/Bio/PDB/StructureBuilder.py:92: PDBConstructionWarning: WARNING: Chain A is discontinuous at line 2240.\n",
      "  PDBConstructionWarning,\n",
      "/wsu/home/fr/fr15/fr1583/.conda/envs/protein/lib/python3.7/site-packages/Bio/PDB/StructureBuilder.py:92: PDBConstructionWarning: WARNING: Chain B is discontinuous at line 2352.\n",
      "  PDBConstructionWarning,\n"
     ]
    },
    {
     "name": "stdout",
     "output_type": "stream",
     "text": [
      "279 3qpa\n",
      "280 3r6d\n",
      "281 3r87\n",
      "282 3rq9\n"
     ]
    },
    {
     "name": "stderr",
     "output_type": "stream",
     "text": [
      "/wsu/home/fr/fr15/fr1583/.conda/envs/protein/lib/python3.7/site-packages/Bio/PDB/StructureBuilder.py:92: PDBConstructionWarning: WARNING: Chain A is discontinuous at line 1363.\n",
      "  PDBConstructionWarning,\n",
      "/wsu/home/fr/fr15/fr1583/.conda/envs/protein/lib/python3.7/site-packages/Bio/PDB/StructureBuilder.py:92: PDBConstructionWarning: WARNING: Chain B is discontinuous at line 1459.\n",
      "  PDBConstructionWarning,\n",
      "/wsu/home/fr/fr15/fr1583/.conda/envs/protein/lib/python3.7/site-packages/Bio/PDB/StructureBuilder.py:92: PDBConstructionWarning: WARNING: Chain A is discontinuous at line 964.\n",
      "  PDBConstructionWarning,\n",
      "/wsu/home/fr/fr15/fr1583/.conda/envs/protein/lib/python3.7/site-packages/Bio/PDB/StructureBuilder.py:92: PDBConstructionWarning: WARNING: Chain B is discontinuous at line 1052.\n",
      "  PDBConstructionWarning,\n"
     ]
    },
    {
     "name": "stdout",
     "output_type": "stream",
     "text": [
      "283 3ry0\n",
      "284 3rzy\n",
      "285 3s0a\n",
      "286 3sd2\n",
      "287 3seb\n",
      "288 3sed\n",
      "Found input variables with inconsistent numbers of samples: [124, 125]\n",
      "289 3so6\n",
      "290 3sr3\n"
     ]
    },
    {
     "name": "stderr",
     "output_type": "stream",
     "text": [
      "/wsu/home/fr/fr15/fr1583/.conda/envs/protein/lib/python3.7/site-packages/Bio/PDB/StructureBuilder.py:92: PDBConstructionWarning: WARNING: Chain A is discontinuous at line 1217.\n",
      "  PDBConstructionWarning,\n",
      "/wsu/home/fr/fr15/fr1583/.conda/envs/protein/lib/python3.7/site-packages/Bio/PDB/StructureBuilder.py:92: PDBConstructionWarning: WARNING: Chain Q is discontinuous at line 1383.\n",
      "  PDBConstructionWarning,\n",
      "/wsu/home/fr/fr15/fr1583/.conda/envs/protein/lib/python3.7/site-packages/Bio/PDB/StructureBuilder.py:92: PDBConstructionWarning: WARNING: Chain A is discontinuous at line 5075.\n",
      "  PDBConstructionWarning,\n",
      "/wsu/home/fr/fr15/fr1583/.conda/envs/protein/lib/python3.7/site-packages/Bio/PDB/StructureBuilder.py:92: PDBConstructionWarning: WARNING: Chain B is discontinuous at line 5427.\n",
      "  PDBConstructionWarning,\n"
     ]
    },
    {
     "name": "stdout",
     "output_type": "stream",
     "text": [
      "291 3suk\n",
      "292 3szh\n"
     ]
    },
    {
     "name": "stderr",
     "output_type": "stream",
     "text": [
      "/wsu/home/fr/fr15/fr1583/.conda/envs/protein/lib/python3.7/site-packages/Bio/PDB/StructureBuilder.py:92: PDBConstructionWarning: WARNING: Chain A is discontinuous at line 1803.\n",
      "  PDBConstructionWarning,\n",
      "/wsu/home/fr/fr15/fr1583/.conda/envs/protein/lib/python3.7/site-packages/Bio/PDB/StructureBuilder.py:92: PDBConstructionWarning: WARNING: Chain B is discontinuous at line 1998.\n",
      "  PDBConstructionWarning,\n",
      "/wsu/home/fr/fr15/fr1583/.conda/envs/protein/lib/python3.7/site-packages/Bio/PDB/StructureBuilder.py:92: PDBConstructionWarning: WARNING: Chain A is discontinuous at line 5510.\n",
      "  PDBConstructionWarning,\n",
      "/wsu/home/fr/fr15/fr1583/.conda/envs/protein/lib/python3.7/site-packages/Bio/PDB/StructureBuilder.py:92: PDBConstructionWarning: WARNING: Chain B is discontinuous at line 5665.\n",
      "  PDBConstructionWarning,\n",
      "/wsu/home/fr/fr15/fr1583/.conda/envs/protein/lib/python3.7/site-packages/Bio/PDB/StructureBuilder.py:92: PDBConstructionWarning: WARNING: Chain C is discontinuous at line 5805.\n",
      "  PDBConstructionWarning,\n",
      "/wsu/home/fr/fr15/fr1583/.conda/envs/protein/lib/python3.7/site-packages/Bio/PDB/StructureBuilder.py:92: PDBConstructionWarning: WARNING: Chain D is discontinuous at line 5941.\n",
      "  PDBConstructionWarning,\n",
      "/wsu/home/fr/fr15/fr1583/.conda/envs/protein/lib/python3.7/site-packages/Bio/PDB/StructureBuilder.py:92: PDBConstructionWarning: WARNING: Chain E is discontinuous at line 6078.\n",
      "  PDBConstructionWarning,\n",
      "/wsu/home/fr/fr15/fr1583/.conda/envs/protein/lib/python3.7/site-packages/Bio/PDB/StructureBuilder.py:92: PDBConstructionWarning: WARNING: Chain F is discontinuous at line 6214.\n",
      "  PDBConstructionWarning,\n"
     ]
    },
    {
     "name": "stdout",
     "output_type": "stream",
     "text": [
      "293 3t0h\n",
      "294 3t3k\n",
      "295 3t47\n"
     ]
    },
    {
     "name": "stderr",
     "output_type": "stream",
     "text": [
      "/wsu/home/fr/fr15/fr1583/.conda/envs/protein/lib/python3.7/site-packages/Bio/PDB/StructureBuilder.py:92: PDBConstructionWarning: WARNING: Chain A is discontinuous at line 2374.\n",
      "  PDBConstructionWarning,\n",
      "/wsu/home/fr/fr15/fr1583/.conda/envs/protein/lib/python3.7/site-packages/Bio/PDB/StructureBuilder.py:92: PDBConstructionWarning: WARNING: Chain B is discontinuous at line 2472.\n",
      "  PDBConstructionWarning,\n"
     ]
    },
    {
     "name": "stdout",
     "output_type": "stream",
     "text": [
      "296 3tdn\n"
     ]
    },
    {
     "name": "stderr",
     "output_type": "stream",
     "text": [
      "/wsu/home/fr/fr15/fr1583/.conda/envs/protein/lib/python3.7/site-packages/Bio/PDB/StructureBuilder.py:92: PDBConstructionWarning: WARNING: Chain A is discontinuous at line 2735.\n",
      "  PDBConstructionWarning,\n",
      "/wsu/home/fr/fr15/fr1583/.conda/envs/protein/lib/python3.7/site-packages/Bio/PDB/StructureBuilder.py:92: PDBConstructionWarning: WARNING: Chain B is discontinuous at line 2819.\n",
      "  PDBConstructionWarning,\n"
     ]
    },
    {
     "name": "stdout",
     "output_type": "stream",
     "text": [
      "297 3tow\n",
      "298 3tua\n",
      "299 3tys\n",
      "300 3u6g\n"
     ]
    },
    {
     "name": "stderr",
     "output_type": "stream",
     "text": [
      "/wsu/home/fr/fr15/fr1583/.conda/envs/protein/lib/python3.7/site-packages/Bio/PDB/StructureBuilder.py:92: PDBConstructionWarning: WARNING: Chain A is discontinuous at line 2011.\n",
      "  PDBConstructionWarning,\n",
      "/wsu/home/fr/fr15/fr1583/.conda/envs/protein/lib/python3.7/site-packages/Bio/PDB/StructureBuilder.py:92: PDBConstructionWarning: WARNING: Chain B is discontinuous at line 2112.\n",
      "  PDBConstructionWarning,\n"
     ]
    },
    {
     "name": "stdout",
     "output_type": "stream",
     "text": [
      "301 3u97\n",
      "302 3uci\n",
      "303 3ur8\n"
     ]
    },
    {
     "name": "stderr",
     "output_type": "stream",
     "text": [
      "/wsu/home/fr/fr15/fr1583/.conda/envs/protein/lib/python3.7/site-packages/Bio/PDB/StructureBuilder.py:92: PDBConstructionWarning: WARNING: Chain A is discontinuous at line 5131.\n",
      "  PDBConstructionWarning,\n",
      "/wsu/home/fr/fr15/fr1583/.conda/envs/protein/lib/python3.7/site-packages/Bio/PDB/StructureBuilder.py:92: PDBConstructionWarning: WARNING: Chain B is discontinuous at line 5559.\n",
      "  PDBConstructionWarning,\n"
     ]
    },
    {
     "name": "stdout",
     "output_type": "stream",
     "text": [
      "304 3us6\n",
      "305 3v1a\n",
      "306 3v75\n",
      "307 3vn0\n"
     ]
    },
    {
     "name": "stderr",
     "output_type": "stream",
     "text": [
      "/wsu/home/fr/fr15/fr1583/.conda/envs/protein/lib/python3.7/site-packages/Bio/PDB/StructureBuilder.py:92: PDBConstructionWarning: WARNING: Chain A is discontinuous at line 1690.\n",
      "  PDBConstructionWarning,\n",
      "/wsu/home/fr/fr15/fr1583/.conda/envs/protein/lib/python3.7/site-packages/Bio/PDB/StructureBuilder.py:92: PDBConstructionWarning: WARNING: Chain C is discontinuous at line 1746.\n",
      "  PDBConstructionWarning,\n",
      "/wsu/home/fr/fr15/fr1583/.conda/envs/protein/lib/python3.7/site-packages/Bio/PDB/StructureBuilder.py:92: PDBConstructionWarning: WARNING: Chain B is discontinuous at line 1814.\n",
      "  PDBConstructionWarning,\n",
      "/wsu/home/fr/fr15/fr1583/.conda/envs/protein/lib/python3.7/site-packages/Bio/PDB/StructureBuilder.py:92: PDBConstructionWarning: WARNING: Chain D is discontinuous at line 1878.\n",
      "  PDBConstructionWarning,\n"
     ]
    },
    {
     "name": "stdout",
     "output_type": "stream",
     "text": [
      "308 3vor\n",
      "309 3vub\n",
      "310 3vvv\n",
      "311 3vz9\n"
     ]
    },
    {
     "name": "stderr",
     "output_type": "stream",
     "text": [
      "/wsu/home/fr/fr15/fr1583/.conda/envs/protein/lib/python3.7/site-packages/Bio/PDB/StructureBuilder.py:92: PDBConstructionWarning: WARNING: Chain B is discontinuous at line 1366.\n",
      "  PDBConstructionWarning,\n",
      "/wsu/home/fr/fr15/fr1583/.conda/envs/protein/lib/python3.7/site-packages/Bio/PDB/StructureBuilder.py:92: PDBConstructionWarning: WARNING: Chain D is discontinuous at line 1527.\n",
      "  PDBConstructionWarning,\n"
     ]
    },
    {
     "name": "stdout",
     "output_type": "stream",
     "text": [
      "312 3w4q\n"
     ]
    },
    {
     "name": "stderr",
     "output_type": "stream",
     "text": [
      "/wsu/home/fr/fr15/fr1583/.conda/envs/protein/lib/python3.7/site-packages/Bio/PDB/StructureBuilder.py:92: PDBConstructionWarning: WARNING: Chain A is discontinuous at line 6039.\n",
      "  PDBConstructionWarning,\n",
      "/wsu/home/fr/fr15/fr1583/.conda/envs/protein/lib/python3.7/site-packages/Bio/PDB/StructureBuilder.py:92: PDBConstructionWarning: WARNING: Chain B is discontinuous at line 6338.\n",
      "  PDBConstructionWarning,\n",
      "/wsu/home/fr/fr15/fr1583/.conda/envs/protein/lib/python3.7/site-packages/Bio/PDB/StructureBuilder.py:92: PDBConstructionWarning: WARNING: Chain C is discontinuous at line 6650.\n",
      "  PDBConstructionWarning,\n",
      "/wsu/home/fr/fr15/fr1583/.conda/envs/protein/lib/python3.7/site-packages/Bio/PDB/StructureBuilder.py:92: PDBConstructionWarning: WARNING: Chain A is discontinuous at line 6039.\n",
      "  PDBConstructionWarning,\n",
      "/wsu/home/fr/fr15/fr1583/.conda/envs/protein/lib/python3.7/site-packages/Bio/PDB/StructureBuilder.py:92: PDBConstructionWarning: WARNING: Chain B is discontinuous at line 6338.\n",
      "  PDBConstructionWarning,\n",
      "/wsu/home/fr/fr15/fr1583/.conda/envs/protein/lib/python3.7/site-packages/Bio/PDB/StructureBuilder.py:92: PDBConstructionWarning: WARNING: Chain C is discontinuous at line 6650.\n",
      "  PDBConstructionWarning,\n"
     ]
    },
    {
     "name": "stdout",
     "output_type": "stream",
     "text": [
      "Found input variables with inconsistent numbers of samples: [773, 774]\n",
      "313 3zbd\n"
     ]
    },
    {
     "name": "stderr",
     "output_type": "stream",
     "text": [
      "/wsu/home/fr/fr15/fr1583/.conda/envs/protein/lib/python3.7/site-packages/Bio/PDB/StructureBuilder.py:92: PDBConstructionWarning: WARNING: Chain A is discontinuous at line 1718.\n",
      "  PDBConstructionWarning,\n",
      "/wsu/home/fr/fr15/fr1583/.conda/envs/protein/lib/python3.7/site-packages/Bio/PDB/StructureBuilder.py:92: PDBConstructionWarning: WARNING: Chain B is discontinuous at line 1839.\n",
      "  PDBConstructionWarning,\n"
     ]
    },
    {
     "name": "stdout",
     "output_type": "stream",
     "text": [
      "314 3zit\n"
     ]
    },
    {
     "name": "stderr",
     "output_type": "stream",
     "text": [
      "/wsu/home/fr/fr15/fr1583/.conda/envs/protein/lib/python3.7/site-packages/Bio/PDB/StructureBuilder.py:92: PDBConstructionWarning: WARNING: Chain A is discontinuous at line 1260.\n",
      "  PDBConstructionWarning,\n",
      "/wsu/home/fr/fr15/fr1583/.conda/envs/protein/lib/python3.7/site-packages/Bio/PDB/StructureBuilder.py:92: PDBConstructionWarning: WARNING: Chain B is discontinuous at line 1283.\n",
      "  PDBConstructionWarning,\n"
     ]
    },
    {
     "name": "stdout",
     "output_type": "stream",
     "text": [
      "315 3zrx\n"
     ]
    },
    {
     "name": "stderr",
     "output_type": "stream",
     "text": [
      "/wsu/home/fr/fr15/fr1583/.conda/envs/protein/lib/python3.7/site-packages/Bio/PDB/StructureBuilder.py:92: PDBConstructionWarning: WARNING: Chain A is discontinuous at line 1853.\n",
      "  PDBConstructionWarning,\n",
      "/wsu/home/fr/fr15/fr1583/.conda/envs/protein/lib/python3.7/site-packages/Bio/PDB/StructureBuilder.py:92: PDBConstructionWarning: WARNING: Chain B is discontinuous at line 1983.\n",
      "  PDBConstructionWarning,\n"
     ]
    },
    {
     "name": "stdout",
     "output_type": "stream",
     "text": [
      "316 3zsl\n",
      "317 3zzp\n",
      "318 3zzy\n",
      "319 4a02\n"
     ]
    },
    {
     "name": "stderr",
     "output_type": "stream",
     "text": [
      "/wsu/home/fr/fr15/fr1583/.conda/envs/protein/lib/python3.7/site-packages/Bio/PDB/StructureBuilder.py:92: PDBConstructionWarning: WARNING: Chain A is discontinuous at line 1741.\n",
      "  PDBConstructionWarning,\n",
      "/wsu/home/fr/fr15/fr1583/.conda/envs/protein/lib/python3.7/site-packages/Bio/PDB/StructureBuilder.py:92: PDBConstructionWarning: WARNING: Chain B is discontinuous at line 1846.\n",
      "  PDBConstructionWarning,\n",
      "/wsu/home/fr/fr15/fr1583/.conda/envs/protein/lib/python3.7/site-packages/Bio/PDB/StructureBuilder.py:92: PDBConstructionWarning: WARNING: Chain C is discontinuous at line 1925.\n",
      "  PDBConstructionWarning,\n",
      "/wsu/home/fr/fr15/fr1583/.conda/envs/protein/lib/python3.7/site-packages/Bio/PDB/StructureBuilder.py:92: PDBConstructionWarning: WARNING: Chain D is discontinuous at line 1930.\n",
      "  PDBConstructionWarning,\n"
     ]
    },
    {
     "name": "stdout",
     "output_type": "stream",
     "text": [
      "320 4acj\n",
      "321 4ae7\n",
      "322 4am1\n",
      "323 4ann\n",
      "324 4avr\n"
     ]
    },
    {
     "name": "stderr",
     "output_type": "stream",
     "text": [
      "/wsu/home/fr/fr15/fr1583/.conda/envs/protein/lib/python3.7/site-packages/Bio/PDB/StructureBuilder.py:92: PDBConstructionWarning: WARNING: Chain A is discontinuous at line 1455.\n",
      "  PDBConstructionWarning,\n",
      "/wsu/home/fr/fr15/fr1583/.conda/envs/protein/lib/python3.7/site-packages/Bio/PDB/StructureBuilder.py:92: PDBConstructionWarning: WARNING: Chain B is discontinuous at line 1565.\n",
      "  PDBConstructionWarning,\n",
      "/wsu/home/fr/fr15/fr1583/.conda/envs/protein/lib/python3.7/site-packages/Bio/PDB/StructureBuilder.py:92: PDBConstructionWarning: WARNING: Chain A is discontinuous at line 716.\n",
      "  PDBConstructionWarning,\n",
      "/wsu/home/fr/fr15/fr1583/.conda/envs/protein/lib/python3.7/site-packages/Bio/PDB/StructureBuilder.py:92: PDBConstructionWarning: WARNING: Chain B is discontinuous at line 744.\n",
      "  PDBConstructionWarning,\n",
      "/wsu/home/fr/fr15/fr1583/.conda/envs/protein/lib/python3.7/site-packages/Bio/PDB/StructureBuilder.py:92: PDBConstructionWarning: WARNING: Chain C is discontinuous at line 765.\n",
      "  PDBConstructionWarning,\n"
     ]
    },
    {
     "name": "stdout",
     "output_type": "stream",
     "text": [
      "325 4axy\n",
      "326 4b6g\n"
     ]
    },
    {
     "name": "stderr",
     "output_type": "stream",
     "text": [
      "/wsu/home/fr/fr15/fr1583/.conda/envs/protein/lib/python3.7/site-packages/Bio/PDB/StructureBuilder.py:92: PDBConstructionWarning: WARNING: Chain A is discontinuous at line 8842.\n",
      "  PDBConstructionWarning,\n",
      "/wsu/home/fr/fr15/fr1583/.conda/envs/protein/lib/python3.7/site-packages/Bio/PDB/StructureBuilder.py:92: PDBConstructionWarning: WARNING: Chain B is discontinuous at line 9235.\n",
      "  PDBConstructionWarning,\n"
     ]
    },
    {
     "name": "stdout",
     "output_type": "stream",
     "text": [
      "327 4b9g\n"
     ]
    },
    {
     "name": "stderr",
     "output_type": "stream",
     "text": [
      "/wsu/home/fr/fr15/fr1583/.conda/envs/protein/lib/python3.7/site-packages/Bio/PDB/StructureBuilder.py:92: PDBConstructionWarning: WARNING: Chain A is discontinuous at line 4378.\n",
      "  PDBConstructionWarning,\n",
      "/wsu/home/fr/fr15/fr1583/.conda/envs/protein/lib/python3.7/site-packages/Bio/PDB/StructureBuilder.py:92: PDBConstructionWarning: WARNING: Chain B is discontinuous at line 4632.\n",
      "  PDBConstructionWarning,\n"
     ]
    },
    {
     "name": "stdout",
     "output_type": "stream",
     "text": [
      "328 4dd5\n",
      "329 4dkn\n"
     ]
    },
    {
     "name": "stderr",
     "output_type": "stream",
     "text": [
      "/wsu/home/fr/fr15/fr1583/.conda/envs/protein/lib/python3.7/site-packages/Bio/PDB/StructureBuilder.py:92: PDBConstructionWarning: WARNING: Chain A is discontinuous at line 3394.\n",
      "  PDBConstructionWarning,\n",
      "/wsu/home/fr/fr15/fr1583/.conda/envs/protein/lib/python3.7/site-packages/Bio/PDB/StructureBuilder.py:92: PDBConstructionWarning: WARNING: Chain B is discontinuous at line 3649.\n",
      "  PDBConstructionWarning,\n"
     ]
    },
    {
     "name": "stdout",
     "output_type": "stream",
     "text": [
      "330 4dnd\n",
      "331 4dpz\n",
      "Found input variables with inconsistent numbers of samples: [109, 110]\n",
      "332 4dq7\n"
     ]
    },
    {
     "name": "stderr",
     "output_type": "stream",
     "text": [
      "/wsu/home/fr/fr15/fr1583/.conda/envs/protein/lib/python3.7/site-packages/Bio/PDB/StructureBuilder.py:92: PDBConstructionWarning: WARNING: Chain A is discontinuous at line 5214.\n",
      "  PDBConstructionWarning,\n",
      "/wsu/home/fr/fr15/fr1583/.conda/envs/protein/lib/python3.7/site-packages/Bio/PDB/StructureBuilder.py:92: PDBConstructionWarning: WARNING: Chain B is discontinuous at line 5376.\n",
      "  PDBConstructionWarning,\n"
     ]
    },
    {
     "name": "stdout",
     "output_type": "stream",
     "text": [
      "333 4dt4\n",
      "334 4ek3\n",
      "335 4ery\n",
      "336 4es1\n"
     ]
    },
    {
     "name": "stderr",
     "output_type": "stream",
     "text": [
      "/wsu/home/fr/fr15/fr1583/.conda/envs/protein/lib/python3.7/site-packages/Bio/PDB/StructureBuilder.py:92: PDBConstructionWarning: WARNING: Chain A is discontinuous at line 2457.\n",
      "  PDBConstructionWarning,\n",
      "/wsu/home/fr/fr15/fr1583/.conda/envs/protein/lib/python3.7/site-packages/Bio/PDB/StructureBuilder.py:92: PDBConstructionWarning: WARNING: Chain D is discontinuous at line 2961.\n",
      "  PDBConstructionWarning,\n"
     ]
    },
    {
     "name": "stdout",
     "output_type": "stream",
     "text": [
      "337 4eug\n",
      "338 4f01\n"
     ]
    },
    {
     "name": "stderr",
     "output_type": "stream",
     "text": [
      "/wsu/home/fr/fr15/fr1583/.conda/envs/protein/lib/python3.7/site-packages/Bio/PDB/StructureBuilder.py:92: PDBConstructionWarning: WARNING: Chain A is discontinuous at line 3472.\n",
      "  PDBConstructionWarning,\n",
      "/wsu/home/fr/fr15/fr1583/.conda/envs/protein/lib/python3.7/site-packages/Bio/PDB/StructureBuilder.py:92: PDBConstructionWarning: WARNING: Chain B is discontinuous at line 3727.\n",
      "  PDBConstructionWarning,\n"
     ]
    },
    {
     "name": "stdout",
     "output_type": "stream",
     "text": [
      "339 4f3j\n",
      "340 4fr9\n",
      "341 4g14\n",
      "342 4g2e\n",
      "343 4g5x\n"
     ]
    },
    {
     "name": "stderr",
     "output_type": "stream",
     "text": [
      "/wsu/home/fr/fr15/fr1583/.conda/envs/protein/lib/python3.7/site-packages/Bio/PDB/StructureBuilder.py:92: PDBConstructionWarning: WARNING: Chain A is discontinuous at line 4430.\n",
      "  PDBConstructionWarning,\n",
      "/wsu/home/fr/fr15/fr1583/.conda/envs/protein/lib/python3.7/site-packages/Bio/PDB/StructureBuilder.py:92: PDBConstructionWarning: WARNING: Chain B is discontinuous at line 4890.\n",
      "  PDBConstructionWarning,\n"
     ]
    },
    {
     "name": "stdout",
     "output_type": "stream",
     "text": [
      "344 4g6c\n"
     ]
    },
    {
     "name": "stderr",
     "output_type": "stream",
     "text": [
      "/wsu/home/fr/fr15/fr1583/.conda/envs/protein/lib/python3.7/site-packages/Bio/PDB/StructureBuilder.py:92: PDBConstructionWarning: WARNING: Chain A is discontinuous at line 5008.\n",
      "  PDBConstructionWarning,\n",
      "/wsu/home/fr/fr15/fr1583/.conda/envs/protein/lib/python3.7/site-packages/Bio/PDB/StructureBuilder.py:92: PDBConstructionWarning: WARNING: Chain B is discontinuous at line 5343.\n",
      "  PDBConstructionWarning,\n"
     ]
    },
    {
     "name": "stdout",
     "output_type": "stream",
     "text": [
      "345 4g7x\n",
      "346 4ga2\n"
     ]
    },
    {
     "name": "stderr",
     "output_type": "stream",
     "text": [
      "/wsu/home/fr/fr15/fr1583/.conda/envs/protein/lib/python3.7/site-packages/Bio/PDB/StructureBuilder.py:92: PDBConstructionWarning: WARNING: Chain A is discontinuous at line 1658.\n",
      "  PDBConstructionWarning,\n",
      "/wsu/home/fr/fr15/fr1583/.conda/envs/protein/lib/python3.7/site-packages/Bio/PDB/StructureBuilder.py:92: PDBConstructionWarning: WARNING: Chain B is discontinuous at line 1762.\n",
      "  PDBConstructionWarning,\n"
     ]
    },
    {
     "name": "stdout",
     "output_type": "stream",
     "text": [
      "347 4gmq\n",
      "348 4gs3\n",
      "349 4h4j\n",
      "350 4h89\n",
      "351 4hde\n",
      "352 4hjp\n",
      "353 4hwm\n",
      "354 4il7\n",
      "355 4j11\n"
     ]
    },
    {
     "name": "stderr",
     "output_type": "stream",
     "text": [
      "/wsu/home/fr/fr15/fr1583/.conda/envs/protein/lib/python3.7/site-packages/Bio/PDB/StructureBuilder.py:92: PDBConstructionWarning: WARNING: Chain A is discontinuous at line 2946.\n",
      "  PDBConstructionWarning,\n",
      "/wsu/home/fr/fr15/fr1583/.conda/envs/protein/lib/python3.7/site-packages/Bio/PDB/StructureBuilder.py:92: PDBConstructionWarning: WARNING: Chain B is discontinuous at line 3062.\n",
      "  PDBConstructionWarning,\n",
      "/wsu/home/fr/fr15/fr1583/.conda/envs/protein/lib/python3.7/site-packages/Bio/PDB/StructureBuilder.py:92: PDBConstructionWarning: WARNING: Chain C is discontinuous at line 3200.\n",
      "  PDBConstructionWarning,\n",
      "/wsu/home/fr/fr15/fr1583/.conda/envs/protein/lib/python3.7/site-packages/Bio/PDB/StructureBuilder.py:92: PDBConstructionWarning: WARNING: Chain D is discontinuous at line 3304.\n",
      "  PDBConstructionWarning,\n"
     ]
    },
    {
     "name": "stdout",
     "output_type": "stream",
     "text": [
      "356 4j5o\n"
     ]
    },
    {
     "name": "stderr",
     "output_type": "stream",
     "text": [
      "/wsu/home/fr/fr15/fr1583/.conda/envs/protein/lib/python3.7/site-packages/Bio/PDB/StructureBuilder.py:92: PDBConstructionWarning: WARNING: Chain A is discontinuous at line 1959.\n",
      "  PDBConstructionWarning,\n",
      "/wsu/home/fr/fr15/fr1583/.conda/envs/protein/lib/python3.7/site-packages/Bio/PDB/StructureBuilder.py:92: PDBConstructionWarning: WARNING: Chain B is discontinuous at line 2070.\n",
      "  PDBConstructionWarning,\n"
     ]
    },
    {
     "name": "stdout",
     "output_type": "stream",
     "text": [
      "357 4j5q\n",
      "358 4j78\n"
     ]
    },
    {
     "name": "stderr",
     "output_type": "stream",
     "text": [
      "/wsu/home/fr/fr15/fr1583/.conda/envs/protein/lib/python3.7/site-packages/Bio/PDB/StructureBuilder.py:92: PDBConstructionWarning: WARNING: Chain A is discontinuous at line 2443.\n",
      "  PDBConstructionWarning,\n",
      "/wsu/home/fr/fr15/fr1583/.conda/envs/protein/lib/python3.7/site-packages/Bio/PDB/StructureBuilder.py:92: PDBConstructionWarning: WARNING: Chain B is discontinuous at line 2774.\n",
      "  PDBConstructionWarning,\n"
     ]
    },
    {
     "name": "stdout",
     "output_type": "stream",
     "text": [
      "359 4jg2\n",
      "360 4jvu\n",
      "361 4jyp\n"
     ]
    },
    {
     "name": "stderr",
     "output_type": "stream",
     "text": [
      "/wsu/home/fr/fr15/fr1583/.conda/envs/protein/lib/python3.7/site-packages/Bio/PDB/StructureBuilder.py:92: PDBConstructionWarning: WARNING: Chain A is discontinuous at line 1615.\n",
      "  PDBConstructionWarning,\n",
      "/wsu/home/fr/fr15/fr1583/.conda/envs/protein/lib/python3.7/site-packages/Bio/PDB/StructureBuilder.py:92: PDBConstructionWarning: WARNING: Chain B is discontinuous at line 1775.\n",
      "  PDBConstructionWarning,\n",
      "/wsu/home/fr/fr15/fr1583/.conda/envs/protein/lib/python3.7/site-packages/Bio/PDB/StructureBuilder.py:92: PDBConstructionWarning: WARNING: Chain A is discontinuous at line 4233.\n",
      "  PDBConstructionWarning,\n",
      "/wsu/home/fr/fr15/fr1583/.conda/envs/protein/lib/python3.7/site-packages/Bio/PDB/StructureBuilder.py:92: PDBConstructionWarning: WARNING: Chain B is discontinuous at line 4625.\n",
      "  PDBConstructionWarning,\n"
     ]
    },
    {
     "name": "stdout",
     "output_type": "stream",
     "text": [
      "362 4kef\n",
      "363 5cyt\n",
      "364 6rxn\n"
     ]
    }
   ],
   "source": [
    "model = 'mGNM'\n",
    "kernel = 'exponential'\n",
    "# with mp.Pool(mp.cpu_count()) as pool:\n",
    "#     pcc_total = pool.starmap(pcc_pool, [(pair,model,kernel) for pair in enumerate(nameset)])\n",
    "\n",
    "\n",
    "pcc_total = calc_save(model,kernel,nameset[:precalc],exclude_long = 1000)\n",
    "pcc_acc1=np.average(pcc_total,axis=0)"
   ]
  },
  {
   "cell_type": "markdown",
   "metadata": {
    "scrolled": true
   },
   "source": [
    "model = 'mGNM'\n",
    "kernel = 'exponential'\n",
    "namepair = (9, '1ccr')\n",
    "name = namepair[1]\n",
    "print(namepair)\n",
    "parser = MMCIFParser()\n",
    "structure = parser.get_structure(name,f_path+name+'.cif')\n",
    "bfactor = getBfactor(structure)\n",
    "cur_str = parseMMCIF(f_path+name+'.cif')\n",
    "calpha = cur_str.select('name CA')\n",
    "if kernel == 'ilf':\n",
    "    init_eta = 5\n",
    "else:\n",
    "    init_eta = 1\n",
    "pcc=pccFromModel(calpha,bfactor,test_range=30,init_eta=init_eta,kernel=kernel,model=model)"
   ]
  },
  {
   "cell_type": "code",
   "execution_count": 6,
   "metadata": {},
   "outputs": [
    {
     "data": {
      "image/png": "[encoded data removed]",
      "text/plain": [
       "<Figure size 432x288 with 2 Axes>"
      ]
     },
     "metadata": {
      "needs_background": "light"
     },
     "output_type": "display_data"
    }
   ],
   "source": [
    "\n",
    "plt.imshow(pcc_acc1)\n",
    "plt.colorbar()\n",
    "plt.title(f'{model}, {kernel}')\n",
    "plt.show()"
   ]
  },
  {
   "cell_type": "code",
   "execution_count": 7,
   "metadata": {},
   "outputs": [
    {
     "data": {
      "text/plain": [
       "(4, 15)"
      ]
     },
     "execution_count": 7,
     "metadata": {},
     "output_type": "execute_result"
    }
   ],
   "source": [
    "np.unravel_index(np.argmax(pcc_acc1), pcc_acc1.shape)"
   ]
  },
  {
   "cell_type": "code",
   "execution_count": 8,
   "metadata": {},
   "outputs": [
    {
     "data": {
      "text/plain": [
       "0.6152148736899801"
      ]
     },
     "execution_count": 8,
     "metadata": {},
     "output_type": "execute_result"
    }
   ],
   "source": [
    "np.max(pcc_acc1)"
   ]
  },
  {
   "cell_type": "code",
   "execution_count": 9,
   "metadata": {},
   "outputs": [
    {
     "name": "stdout",
     "output_type": "stream",
     "text": [
      "[Errno 17] File exists: './result/mGNM_lorentz/'\n",
      "0 1aba\n",
      "1 1agn\n"
     ]
    },
    {
     "name": "stderr",
     "output_type": "stream",
     "text": [
      "/wsu/home/fr/fr15/fr1583/.conda/envs/protein/lib/python3.7/site-packages/Bio/PDB/StructureBuilder.py:92: PDBConstructionWarning: WARNING: Chain A is discontinuous at line 11156.\n",
      "  PDBConstructionWarning,\n",
      "/wsu/home/fr/fr15/fr1583/.conda/envs/protein/lib/python3.7/site-packages/Bio/PDB/StructureBuilder.py:92: PDBConstructionWarning: WARNING: Chain B is discontinuous at line 11215.\n",
      "  PDBConstructionWarning,\n",
      "/wsu/home/fr/fr15/fr1583/.conda/envs/protein/lib/python3.7/site-packages/Bio/PDB/StructureBuilder.py:92: PDBConstructionWarning: WARNING: Chain C is discontinuous at line 11280.\n",
      "  PDBConstructionWarning,\n",
      "/wsu/home/fr/fr15/fr1583/.conda/envs/protein/lib/python3.7/site-packages/Bio/PDB/StructureBuilder.py:92: PDBConstructionWarning: WARNING: Chain D is discontinuous at line 11331.\n",
      "  PDBConstructionWarning,\n",
      "/wsu/home/fr/fr15/fr1583/.conda/envs/protein/lib/python3.7/site-packages/Bio/PDB/StructureBuilder.py:92: PDBConstructionWarning: WARNING: Chain A is discontinuous at line 11388.\n",
      "  PDBConstructionWarning,\n",
      "/wsu/home/fr/fr15/fr1583/.conda/envs/protein/lib/python3.7/site-packages/Bio/PDB/StructureBuilder.py:92: PDBConstructionWarning: WARNING: Chain B is discontinuous at line 11389.\n",
      "  PDBConstructionWarning,\n",
      "/wsu/home/fr/fr15/fr1583/.conda/envs/protein/lib/python3.7/site-packages/Bio/PDB/StructureBuilder.py:92: PDBConstructionWarning: WARNING: Chain C is discontinuous at line 11393.\n",
      "  PDBConstructionWarning,\n",
      "/wsu/home/fr/fr15/fr1583/.conda/envs/protein/lib/python3.7/site-packages/Bio/PDB/StructureBuilder.py:92: PDBConstructionWarning: WARNING: Chain D is discontinuous at line 11394.\n",
      "  PDBConstructionWarning,\n"
     ]
    },
    {
     "name": "stdout",
     "output_type": "stream",
     "text": [
      "skipped\n",
      "2 1aho\n",
      "3 1aie\n",
      "4 1akg\n",
      "5 1atg\n",
      "6 1bgf\n",
      "7 1bx7\n",
      "8 1byi\n",
      "9 1ccr\n",
      "10 1cyo\n",
      "11 1df4\n",
      "12 1e5k\n",
      "13 1es5\n",
      "14 1etl\n",
      "15 1etm\n",
      "16 1etn\n",
      "17 1ew4\n",
      "18 1f8r\n"
     ]
    },
    {
     "name": "stderr",
     "output_type": "stream",
     "text": [
      "/wsu/home/fr/fr15/fr1583/.conda/envs/protein/lib/python3.7/site-packages/Bio/PDB/StructureBuilder.py:92: PDBConstructionWarning: WARNING: Chain A is discontinuous at line 15443.\n",
      "  PDBConstructionWarning,\n",
      "/wsu/home/fr/fr15/fr1583/.conda/envs/protein/lib/python3.7/site-packages/Bio/PDB/StructureBuilder.py:92: PDBConstructionWarning: WARNING: Chain B is discontinuous at line 15523.\n",
      "  PDBConstructionWarning,\n",
      "/wsu/home/fr/fr15/fr1583/.conda/envs/protein/lib/python3.7/site-packages/Bio/PDB/StructureBuilder.py:92: PDBConstructionWarning: WARNING: Chain C is discontinuous at line 15603.\n",
      "  PDBConstructionWarning,\n",
      "/wsu/home/fr/fr15/fr1583/.conda/envs/protein/lib/python3.7/site-packages/Bio/PDB/StructureBuilder.py:92: PDBConstructionWarning: WARNING: Chain D is discontinuous at line 15683.\n",
      "  PDBConstructionWarning,\n",
      "/wsu/home/fr/fr15/fr1583/.conda/envs/protein/lib/python3.7/site-packages/Bio/PDB/StructureBuilder.py:92: PDBConstructionWarning: WARNING: Chain A is discontinuous at line 15763.\n",
      "  PDBConstructionWarning,\n",
      "/wsu/home/fr/fr15/fr1583/.conda/envs/protein/lib/python3.7/site-packages/Bio/PDB/StructureBuilder.py:92: PDBConstructionWarning: WARNING: Chain B is discontinuous at line 16229.\n",
      "  PDBConstructionWarning,\n",
      "/wsu/home/fr/fr15/fr1583/.conda/envs/protein/lib/python3.7/site-packages/Bio/PDB/StructureBuilder.py:92: PDBConstructionWarning: WARNING: Chain C is discontinuous at line 16726.\n",
      "  PDBConstructionWarning,\n",
      "/wsu/home/fr/fr15/fr1583/.conda/envs/protein/lib/python3.7/site-packages/Bio/PDB/StructureBuilder.py:92: PDBConstructionWarning: WARNING: Chain D is discontinuous at line 17187.\n",
      "  PDBConstructionWarning,\n"
     ]
    },
    {
     "name": "stdout",
     "output_type": "stream",
     "text": [
      "skipped\n",
      "19 1ff4\n",
      "20 1fk5\n",
      "21 1gco\n"
     ]
    },
    {
     "name": "stderr",
     "output_type": "stream",
     "text": [
      "/wsu/home/fr/fr15/fr1583/.conda/envs/protein/lib/python3.7/site-packages/Bio/PDB/StructureBuilder.py:92: PDBConstructionWarning: WARNING: Chain A is discontinuous at line 7888.\n",
      "  PDBConstructionWarning,\n",
      "/wsu/home/fr/fr15/fr1583/.conda/envs/protein/lib/python3.7/site-packages/Bio/PDB/StructureBuilder.py:92: PDBConstructionWarning: WARNING: Chain B is discontinuous at line 7932.\n",
      "  PDBConstructionWarning,\n",
      "/wsu/home/fr/fr15/fr1583/.conda/envs/protein/lib/python3.7/site-packages/Bio/PDB/StructureBuilder.py:92: PDBConstructionWarning: WARNING: Chain E is discontinuous at line 7976.\n",
      "  PDBConstructionWarning,\n",
      "/wsu/home/fr/fr15/fr1583/.conda/envs/protein/lib/python3.7/site-packages/Bio/PDB/StructureBuilder.py:92: PDBConstructionWarning: WARNING: Chain F is discontinuous at line 8020.\n",
      "  PDBConstructionWarning,\n",
      "/wsu/home/fr/fr15/fr1583/.conda/envs/protein/lib/python3.7/site-packages/Bio/PDB/StructureBuilder.py:92: PDBConstructionWarning: WARNING: Chain A is discontinuous at line 8064.\n",
      "  PDBConstructionWarning,\n",
      "/wsu/home/fr/fr15/fr1583/.conda/envs/protein/lib/python3.7/site-packages/Bio/PDB/StructureBuilder.py:92: PDBConstructionWarning: WARNING: Chain B is discontinuous at line 8206.\n",
      "  PDBConstructionWarning,\n",
      "/wsu/home/fr/fr15/fr1583/.conda/envs/protein/lib/python3.7/site-packages/Bio/PDB/StructureBuilder.py:92: PDBConstructionWarning: WARNING: Chain E is discontinuous at line 8341.\n",
      "  PDBConstructionWarning,\n",
      "/wsu/home/fr/fr15/fr1583/.conda/envs/protein/lib/python3.7/site-packages/Bio/PDB/StructureBuilder.py:92: PDBConstructionWarning: WARNING: Chain F is discontinuous at line 8486.\n",
      "  PDBConstructionWarning,\n"
     ]
    },
    {
     "name": "stdout",
     "output_type": "stream",
     "text": [
      "skipped\n",
      "22 1gk7\n",
      "23 1gvd\n",
      "24 1gxu\n",
      "25 1h6v\n"
     ]
    },
    {
     "name": "stderr",
     "output_type": "stream",
     "text": [
      "/wsu/home/fr/fr15/fr1583/.conda/envs/protein/lib/python3.7/site-packages/Bio/PDB/StructureBuilder.py:92: PDBConstructionWarning: WARNING: Chain A is discontinuous at line 22514.\n",
      "  PDBConstructionWarning,\n",
      "/wsu/home/fr/fr15/fr1583/.conda/envs/protein/lib/python3.7/site-packages/Bio/PDB/StructureBuilder.py:92: PDBConstructionWarning: WARNING: Chain B is discontinuous at line 22606.\n",
      "  PDBConstructionWarning,\n",
      "/wsu/home/fr/fr15/fr1583/.conda/envs/protein/lib/python3.7/site-packages/Bio/PDB/StructureBuilder.py:92: PDBConstructionWarning: WARNING: Chain C is discontinuous at line 22698.\n",
      "  PDBConstructionWarning,\n",
      "/wsu/home/fr/fr15/fr1583/.conda/envs/protein/lib/python3.7/site-packages/Bio/PDB/StructureBuilder.py:92: PDBConstructionWarning: WARNING: Chain D is discontinuous at line 22790.\n",
      "  PDBConstructionWarning,\n",
      "/wsu/home/fr/fr15/fr1583/.conda/envs/protein/lib/python3.7/site-packages/Bio/PDB/StructureBuilder.py:92: PDBConstructionWarning: WARNING: Chain E is discontinuous at line 22882.\n",
      "  PDBConstructionWarning,\n",
      "/wsu/home/fr/fr15/fr1583/.conda/envs/protein/lib/python3.7/site-packages/Bio/PDB/StructureBuilder.py:92: PDBConstructionWarning: WARNING: Chain F is discontinuous at line 22974.\n",
      "  PDBConstructionWarning,\n",
      "/wsu/home/fr/fr15/fr1583/.conda/envs/protein/lib/python3.7/site-packages/Bio/PDB/StructureBuilder.py:92: PDBConstructionWarning: WARNING: Chain A is discontinuous at line 23066.\n",
      "  PDBConstructionWarning,\n",
      "/wsu/home/fr/fr15/fr1583/.conda/envs/protein/lib/python3.7/site-packages/Bio/PDB/StructureBuilder.py:92: PDBConstructionWarning: WARNING: Chain B is discontinuous at line 23067.\n",
      "  PDBConstructionWarning,\n",
      "/wsu/home/fr/fr15/fr1583/.conda/envs/protein/lib/python3.7/site-packages/Bio/PDB/StructureBuilder.py:92: PDBConstructionWarning: WARNING: Chain C is discontinuous at line 23068.\n",
      "  PDBConstructionWarning,\n",
      "/wsu/home/fr/fr15/fr1583/.conda/envs/protein/lib/python3.7/site-packages/Bio/PDB/StructureBuilder.py:92: PDBConstructionWarning: WARNING: Chain D is discontinuous at line 23071.\n",
      "  PDBConstructionWarning,\n",
      "/wsu/home/fr/fr15/fr1583/.conda/envs/protein/lib/python3.7/site-packages/Bio/PDB/StructureBuilder.py:92: PDBConstructionWarning: WARNING: Chain E is discontinuous at line 23072.\n",
      "  PDBConstructionWarning,\n",
      "/wsu/home/fr/fr15/fr1583/.conda/envs/protein/lib/python3.7/site-packages/Bio/PDB/StructureBuilder.py:92: PDBConstructionWarning: WARNING: Chain F is discontinuous at line 23074.\n",
      "  PDBConstructionWarning,\n"
     ]
    },
    {
     "name": "stdout",
     "output_type": "stream",
     "text": [
      "skipped\n",
      "26 1hje\n",
      "27 1i71\n",
      "28 1idp\n",
      "29 1ifr\n",
      "30 1k8u\n",
      "31 1kmm\n"
     ]
    },
    {
     "name": "stderr",
     "output_type": "stream",
     "text": [
      "/wsu/home/fr/fr15/fr1583/.conda/envs/protein/lib/python3.7/site-packages/Bio/PDB/StructureBuilder.py:92: PDBConstructionWarning: WARNING: Chain A is discontinuous at line 14289.\n",
      "  PDBConstructionWarning,\n",
      "/wsu/home/fr/fr15/fr1583/.conda/envs/protein/lib/python3.7/site-packages/Bio/PDB/StructureBuilder.py:92: PDBConstructionWarning: WARNING: Chain B is discontinuous at line 14329.\n",
      "  PDBConstructionWarning,\n",
      "/wsu/home/fr/fr15/fr1583/.conda/envs/protein/lib/python3.7/site-packages/Bio/PDB/StructureBuilder.py:92: PDBConstructionWarning: WARNING: Chain C is discontinuous at line 14369.\n",
      "  PDBConstructionWarning,\n",
      "/wsu/home/fr/fr15/fr1583/.conda/envs/protein/lib/python3.7/site-packages/Bio/PDB/StructureBuilder.py:92: PDBConstructionWarning: WARNING: Chain D is discontinuous at line 14409.\n",
      "  PDBConstructionWarning,\n",
      "/wsu/home/fr/fr15/fr1583/.conda/envs/protein/lib/python3.7/site-packages/Bio/PDB/StructureBuilder.py:92: PDBConstructionWarning: WARNING: Chain A is discontinuous at line 14449.\n",
      "  PDBConstructionWarning,\n",
      "/wsu/home/fr/fr15/fr1583/.conda/envs/protein/lib/python3.7/site-packages/Bio/PDB/StructureBuilder.py:92: PDBConstructionWarning: WARNING: Chain B is discontinuous at line 14494.\n",
      "  PDBConstructionWarning,\n",
      "/wsu/home/fr/fr15/fr1583/.conda/envs/protein/lib/python3.7/site-packages/Bio/PDB/StructureBuilder.py:92: PDBConstructionWarning: WARNING: Chain C is discontinuous at line 14544.\n",
      "  PDBConstructionWarning,\n",
      "/wsu/home/fr/fr15/fr1583/.conda/envs/protein/lib/python3.7/site-packages/Bio/PDB/StructureBuilder.py:92: PDBConstructionWarning: WARNING: Chain D is discontinuous at line 14599.\n",
      "  PDBConstructionWarning,\n"
     ]
    },
    {
     "name": "stdout",
     "output_type": "stream",
     "text": [
      "skipped\n",
      "32 1kng\n",
      "33 1kr4\n",
      "34 1kyc\n",
      "35 1lr7\n",
      "36 1mf7\n",
      "37 1n7e\n",
      "38 1nkd\n",
      "39 1nko\n"
     ]
    },
    {
     "name": "stderr",
     "output_type": "stream",
     "text": [
      "/wsu/home/fr/fr15/fr1583/K/NMAcomp/multiscale.py:54: RuntimeWarning: divide by zero encountered in true_divide\n",
      "  reg.fit(diag_n.T,1/bfactor)\n"
     ]
    },
    {
     "name": "stdout",
     "output_type": "stream",
     "text": [
      "Input contains NaN, infinity or a value too large for dtype('float64').\n",
      "40 1nls\n",
      "41 1nnx\n",
      "42 1noa\n",
      "43 1not\n",
      "44 1o06\n",
      "45 1o08\n",
      "46 1ob4\n",
      "47 1ob7\n",
      "Found input variables with inconsistent numbers of samples: [16, 17]\n",
      "48 1opd\n",
      "49 1p9i\n",
      "50 1pef\n",
      "51 1pen\n",
      "52 1pmy\n",
      "53 1pz4\n",
      "54 1q9b\n",
      "55 1qau\n",
      "56 1qki\n"
     ]
    },
    {
     "name": "stderr",
     "output_type": "stream",
     "text": [
      "/wsu/home/fr/fr15/fr1583/.conda/envs/protein/lib/python3.7/site-packages/Bio/PDB/StructureBuilder.py:92: PDBConstructionWarning: WARNING: Chain A is discontinuous at line 31154.\n",
      "  PDBConstructionWarning,\n",
      "/wsu/home/fr/fr15/fr1583/.conda/envs/protein/lib/python3.7/site-packages/Bio/PDB/StructureBuilder.py:92: PDBConstructionWarning: WARNING: Chain B is discontinuous at line 31207.\n",
      "  PDBConstructionWarning,\n",
      "/wsu/home/fr/fr15/fr1583/.conda/envs/protein/lib/python3.7/site-packages/Bio/PDB/StructureBuilder.py:92: PDBConstructionWarning: WARNING: Chain C is discontinuous at line 31272.\n",
      "  PDBConstructionWarning,\n",
      "/wsu/home/fr/fr15/fr1583/.conda/envs/protein/lib/python3.7/site-packages/Bio/PDB/StructureBuilder.py:92: PDBConstructionWarning: WARNING: Chain D is discontinuous at line 31331.\n",
      "  PDBConstructionWarning,\n",
      "/wsu/home/fr/fr15/fr1583/.conda/envs/protein/lib/python3.7/site-packages/Bio/PDB/StructureBuilder.py:92: PDBConstructionWarning: WARNING: Chain E is discontinuous at line 31384.\n",
      "  PDBConstructionWarning,\n",
      "/wsu/home/fr/fr15/fr1583/.conda/envs/protein/lib/python3.7/site-packages/Bio/PDB/StructureBuilder.py:92: PDBConstructionWarning: WARNING: Chain F is discontinuous at line 31443.\n",
      "  PDBConstructionWarning,\n",
      "/wsu/home/fr/fr15/fr1583/.conda/envs/protein/lib/python3.7/site-packages/Bio/PDB/StructureBuilder.py:92: PDBConstructionWarning: WARNING: Chain G is discontinuous at line 31496.\n",
      "  PDBConstructionWarning,\n",
      "/wsu/home/fr/fr15/fr1583/.conda/envs/protein/lib/python3.7/site-packages/Bio/PDB/StructureBuilder.py:92: PDBConstructionWarning: WARNING: Chain H is discontinuous at line 31555.\n",
      "  PDBConstructionWarning,\n",
      "/wsu/home/fr/fr15/fr1583/.conda/envs/protein/lib/python3.7/site-packages/Bio/PDB/StructureBuilder.py:92: PDBConstructionWarning: WARNING: Chain A is discontinuous at line 31608.\n",
      "  PDBConstructionWarning,\n",
      "/wsu/home/fr/fr15/fr1583/.conda/envs/protein/lib/python3.7/site-packages/Bio/PDB/StructureBuilder.py:92: PDBConstructionWarning: WARNING: Chain B is discontinuous at line 31621.\n",
      "  PDBConstructionWarning,\n",
      "/wsu/home/fr/fr15/fr1583/.conda/envs/protein/lib/python3.7/site-packages/Bio/PDB/StructureBuilder.py:92: PDBConstructionWarning: WARNING: Chain C is discontinuous at line 31630.\n",
      "  PDBConstructionWarning,\n",
      "/wsu/home/fr/fr15/fr1583/.conda/envs/protein/lib/python3.7/site-packages/Bio/PDB/StructureBuilder.py:92: PDBConstructionWarning: WARNING: Chain D is discontinuous at line 31633.\n",
      "  PDBConstructionWarning,\n",
      "/wsu/home/fr/fr15/fr1583/.conda/envs/protein/lib/python3.7/site-packages/Bio/PDB/StructureBuilder.py:92: PDBConstructionWarning: WARNING: Chain E is discontinuous at line 31641.\n",
      "  PDBConstructionWarning,\n",
      "/wsu/home/fr/fr15/fr1583/.conda/envs/protein/lib/python3.7/site-packages/Bio/PDB/StructureBuilder.py:92: PDBConstructionWarning: WARNING: Chain F is discontinuous at line 31652.\n",
      "  PDBConstructionWarning,\n",
      "/wsu/home/fr/fr15/fr1583/.conda/envs/protein/lib/python3.7/site-packages/Bio/PDB/StructureBuilder.py:92: PDBConstructionWarning: WARNING: Chain H is discontinuous at line 31655.\n",
      "  PDBConstructionWarning,\n"
     ]
    },
    {
     "name": "stdout",
     "output_type": "stream",
     "text": [
      "skipped\n",
      "57 1qto\n",
      "58 1r29\n",
      "59 1r7j\n",
      "60 1rju\n",
      "61 1rro\n",
      "62 1sau\n",
      "63 1tgr\n"
     ]
    },
    {
     "name": "stderr",
     "output_type": "stream",
     "text": [
      "/wsu/home/fr/fr15/fr1583/.conda/envs/protein/lib/python3.7/site-packages/Bio/PDB/StructureBuilder.py:92: PDBConstructionWarning: WARNING: Chain A is discontinuous at line 871.\n",
      "  PDBConstructionWarning,\n",
      "/wsu/home/fr/fr15/fr1583/.conda/envs/protein/lib/python3.7/site-packages/Bio/PDB/StructureBuilder.py:92: PDBConstructionWarning: WARNING: Chain B is discontinuous at line 956.\n",
      "  PDBConstructionWarning,\n"
     ]
    },
    {
     "name": "stdout",
     "output_type": "stream",
     "text": [
      "64 1tzv\n",
      "65 1u06\n",
      "66 1u7i\n"
     ]
    },
    {
     "name": "stderr",
     "output_type": "stream",
     "text": [
      "/wsu/home/fr/fr15/fr1583/.conda/envs/protein/lib/python3.7/site-packages/Bio/PDB/StructureBuilder.py:92: PDBConstructionWarning: WARNING: Chain A is discontinuous at line 2136.\n",
      "  PDBConstructionWarning,\n",
      "/wsu/home/fr/fr15/fr1583/.conda/envs/protein/lib/python3.7/site-packages/Bio/PDB/StructureBuilder.py:92: PDBConstructionWarning: WARNING: Chain B is discontinuous at line 2320.\n",
      "  PDBConstructionWarning,\n"
     ]
    },
    {
     "name": "stdout",
     "output_type": "stream",
     "text": [
      "67 1u9c\n",
      "68 1uha\n",
      "69 1uku\n",
      "70 1ulr\n",
      "71 1uoy\n",
      "72 1use\n",
      "73 1usm\n",
      "74 1utg\n",
      "75 1v05\n",
      "76 1v70\n",
      "77 1vrz\n",
      "78 1w2l\n",
      "79 1wbe\n",
      "80 1whi\n",
      "81 1wly\n",
      "82 1wpa\n",
      "83 1x3o\n",
      "84 1xy1\n",
      "85 1xy2\n",
      "86 1y6x\n"
     ]
    },
    {
     "name": "stderr",
     "output_type": "stream",
     "text": [
      "/wsu/home/fr/fr15/fr1583/.conda/envs/protein/lib/python3.7/site-packages/Bio/PDB/StructureBuilder.py:92: PDBConstructionWarning: WARNING: Chain A is discontinuous at line 266.\n",
      "  PDBConstructionWarning,\n",
      "/wsu/home/fr/fr15/fr1583/.conda/envs/protein/lib/python3.7/site-packages/Bio/PDB/StructureBuilder.py:92: PDBConstructionWarning: WARNING: Chain B is discontinuous at line 272.\n",
      "  PDBConstructionWarning,\n"
     ]
    },
    {
     "name": "stdout",
     "output_type": "stream",
     "text": [
      "87 1yjo\n",
      "88 1yzm\n",
      "89 1z21\n",
      "90 1zce\n",
      "91 1zva\n",
      "92 2a50\n"
     ]
    },
    {
     "name": "stderr",
     "output_type": "stream",
     "text": [
      "/wsu/home/fr/fr15/fr1583/.conda/envs/protein/lib/python3.7/site-packages/Bio/PDB/StructureBuilder.py:92: PDBConstructionWarning: WARNING: Chain A is discontinuous at line 3731.\n",
      "  PDBConstructionWarning,\n",
      "/wsu/home/fr/fr15/fr1583/.conda/envs/protein/lib/python3.7/site-packages/Bio/PDB/StructureBuilder.py:92: PDBConstructionWarning: WARNING: Chain B is discontinuous at line 3840.\n",
      "  PDBConstructionWarning,\n",
      "/wsu/home/fr/fr15/fr1583/.conda/envs/protein/lib/python3.7/site-packages/Bio/PDB/StructureBuilder.py:92: PDBConstructionWarning: WARNING: Chain C is discontinuous at line 4077.\n",
      "  PDBConstructionWarning,\n",
      "/wsu/home/fr/fr15/fr1583/.conda/envs/protein/lib/python3.7/site-packages/Bio/PDB/StructureBuilder.py:92: PDBConstructionWarning: WARNING: Chain D is discontinuous at line 4162.\n",
      "  PDBConstructionWarning,\n"
     ]
    },
    {
     "name": "stdout",
     "output_type": "stream",
     "text": [
      "93 2agk\n",
      "94 2ah1\n"
     ]
    },
    {
     "name": "stderr",
     "output_type": "stream",
     "text": [
      "/wsu/home/fr/fr15/fr1583/.conda/envs/protein/lib/python3.7/site-packages/Bio/PDB/StructureBuilder.py:92: PDBConstructionWarning: WARNING: Chain D is discontinuous at line 7269.\n",
      "  PDBConstructionWarning,\n",
      "/wsu/home/fr/fr15/fr1583/.conda/envs/protein/lib/python3.7/site-packages/Bio/PDB/StructureBuilder.py:92: PDBConstructionWarning: WARNING: Chain H is discontinuous at line 7462.\n",
      "  PDBConstructionWarning,\n",
      "/wsu/home/fr/fr15/fr1583/.conda/envs/protein/lib/python3.7/site-packages/Bio/PDB/StructureBuilder.py:92: PDBConstructionWarning: WARNING: Chain A is discontinuous at line 7664.\n",
      "  PDBConstructionWarning,\n",
      "/wsu/home/fr/fr15/fr1583/.conda/envs/protein/lib/python3.7/site-packages/Bio/PDB/StructureBuilder.py:92: PDBConstructionWarning: WARNING: Chain B is discontinuous at line 8375.\n",
      "  PDBConstructionWarning,\n"
     ]
    },
    {
     "name": "stdout",
     "output_type": "stream",
     "text": [
      "95 2b0a\n",
      "96 2bcm\n"
     ]
    },
    {
     "name": "stderr",
     "output_type": "stream",
     "text": [
      "/wsu/home/fr/fr15/fr1583/.conda/envs/protein/lib/python3.7/site-packages/Bio/PDB/StructureBuilder.py:92: PDBConstructionWarning: WARNING: Chain B is discontinuous at line 3135.\n",
      "  PDBConstructionWarning,\n",
      "/wsu/home/fr/fr15/fr1583/.conda/envs/protein/lib/python3.7/site-packages/Bio/PDB/StructureBuilder.py:92: PDBConstructionWarning: WARNING: Chain A is discontinuous at line 3298.\n",
      "  PDBConstructionWarning,\n",
      "/wsu/home/fr/fr15/fr1583/.conda/envs/protein/lib/python3.7/site-packages/Bio/PDB/StructureBuilder.py:92: PDBConstructionWarning: WARNING: Chain C is discontinuous at line 3452.\n",
      "  PDBConstructionWarning,\n"
     ]
    },
    {
     "name": "stdout",
     "output_type": "stream",
     "text": [
      "97 2bf9\n",
      "98 2brf\n",
      "99 2c71\n",
      "100 2ce0\n",
      "101 2cg7\n",
      "102 2cov\n"
     ]
    },
    {
     "name": "stderr",
     "output_type": "stream",
     "text": [
      "/wsu/home/fr/fr15/fr1583/.conda/envs/protein/lib/python3.7/site-packages/Bio/PDB/StructureBuilder.py:92: PDBConstructionWarning: WARNING: Chain D is discontinuous at line 4366.\n",
      "  PDBConstructionWarning,\n",
      "/wsu/home/fr/fr15/fr1583/.conda/envs/protein/lib/python3.7/site-packages/Bio/PDB/StructureBuilder.py:92: PDBConstructionWarning: WARNING: Chain E is discontinuous at line 4481.\n",
      "  PDBConstructionWarning,\n",
      "/wsu/home/fr/fr15/fr1583/.conda/envs/protein/lib/python3.7/site-packages/Bio/PDB/StructureBuilder.py:92: PDBConstructionWarning: WARNING: Chain F is discontinuous at line 4591.\n",
      "  PDBConstructionWarning,\n",
      "/wsu/home/fr/fr15/fr1583/.conda/envs/protein/lib/python3.7/site-packages/Bio/PDB/StructureBuilder.py:92: PDBConstructionWarning: WARNING: Chain G is discontinuous at line 4676.\n",
      "  PDBConstructionWarning,\n",
      "/wsu/home/fr/fr15/fr1583/.conda/envs/protein/lib/python3.7/site-packages/Bio/PDB/StructureBuilder.py:92: PDBConstructionWarning: WARNING: Chain H is discontinuous at line 4763.\n",
      "  PDBConstructionWarning,\n",
      "/wsu/home/fr/fr15/fr1583/.conda/envs/protein/lib/python3.7/site-packages/Bio/PDB/StructureBuilder.py:92: PDBConstructionWarning: WARNING: Chain I is discontinuous at line 4852.\n",
      "  PDBConstructionWarning,\n"
     ]
    },
    {
     "name": "stdout",
     "output_type": "stream",
     "text": [
      "103 2cws\n",
      "104 2d5w\n"
     ]
    },
    {
     "name": "stderr",
     "output_type": "stream",
     "text": [
      "/wsu/home/fr/fr15/fr1583/.conda/envs/protein/lib/python3.7/site-packages/Bio/PDB/StructureBuilder.py:92: PDBConstructionWarning: WARNING: Chain A is discontinuous at line 9772.\n",
      "  PDBConstructionWarning,\n",
      "/wsu/home/fr/fr15/fr1583/.conda/envs/protein/lib/python3.7/site-packages/Bio/PDB/StructureBuilder.py:92: PDBConstructionWarning: WARNING: Chain B is discontinuous at line 10340.\n",
      "  PDBConstructionWarning,\n",
      "/wsu/home/fr/fr15/fr1583/.conda/envs/protein/lib/python3.7/site-packages/Bio/PDB/StructureBuilder.py:92: PDBConstructionWarning: WARNING: Chain C is discontinuous at line 10839.\n",
      "  PDBConstructionWarning,\n",
      "/wsu/home/fr/fr15/fr1583/.conda/envs/protein/lib/python3.7/site-packages/Bio/PDB/StructureBuilder.py:92: PDBConstructionWarning: WARNING: Chain D is discontinuous at line 10841.\n",
      "  PDBConstructionWarning,\n"
     ]
    },
    {
     "name": "stdout",
     "output_type": "stream",
     "text": [
      "skipped\n",
      "105 2dko\n"
     ]
    },
    {
     "name": "stderr",
     "output_type": "stream",
     "text": [
      "/wsu/home/fr/fr15/fr1583/.conda/envs/protein/lib/python3.7/site-packages/Bio/PDB/StructureBuilder.py:92: PDBConstructionWarning: WARNING: Chain A is discontinuous at line 2092.\n",
      "  PDBConstructionWarning,\n",
      "/wsu/home/fr/fr15/fr1583/.conda/envs/protein/lib/python3.7/site-packages/Bio/PDB/StructureBuilder.py:92: PDBConstructionWarning: WARNING: Chain B is discontinuous at line 2311.\n",
      "  PDBConstructionWarning,\n",
      "/wsu/home/fr/fr15/fr1583/.conda/envs/protein/lib/python3.7/site-packages/Bio/PDB/StructureBuilder.py:92: PDBConstructionWarning: WARNING: Chain I is discontinuous at line 2420.\n",
      "  PDBConstructionWarning,\n"
     ]
    },
    {
     "name": "stdout",
     "output_type": "stream",
     "text": [
      "106 2dpl\n"
     ]
    },
    {
     "name": "stderr",
     "output_type": "stream",
     "text": [
      "/wsu/home/fr/fr15/fr1583/.conda/envs/protein/lib/python3.7/site-packages/Bio/PDB/StructureBuilder.py:92: PDBConstructionWarning: WARNING: Chain A is discontinuous at line 4500.\n",
      "  PDBConstructionWarning,\n",
      "/wsu/home/fr/fr15/fr1583/.conda/envs/protein/lib/python3.7/site-packages/Bio/PDB/StructureBuilder.py:92: PDBConstructionWarning: WARNING: Chain B is discontinuous at line 4993.\n",
      "  PDBConstructionWarning,\n"
     ]
    },
    {
     "name": "stdout",
     "output_type": "stream",
     "text": [
      "107 2dsx\n",
      "108 2e10\n"
     ]
    },
    {
     "name": "stderr",
     "output_type": "stream",
     "text": [
      "/wsu/home/fr/fr15/fr1583/.conda/envs/protein/lib/python3.7/site-packages/Bio/PDB/StructureBuilder.py:92: PDBConstructionWarning: WARNING: Chain A is discontinuous at line 3416.\n",
      "  PDBConstructionWarning,\n",
      "/wsu/home/fr/fr15/fr1583/.conda/envs/protein/lib/python3.7/site-packages/Bio/PDB/StructureBuilder.py:92: PDBConstructionWarning: WARNING: Chain B is discontinuous at line 3697.\n",
      "  PDBConstructionWarning,\n"
     ]
    },
    {
     "name": "stdout",
     "output_type": "stream",
     "text": [
      "109 2e3h\n",
      "110 2eaq\n",
      "111 2ehp\n"
     ]
    },
    {
     "name": "stderr",
     "output_type": "stream",
     "text": [
      "/wsu/home/fr/fr15/fr1583/.conda/envs/protein/lib/python3.7/site-packages/Bio/PDB/StructureBuilder.py:92: PDBConstructionWarning: WARNING: Chain A is discontinuous at line 1891.\n",
      "  PDBConstructionWarning,\n",
      "/wsu/home/fr/fr15/fr1583/.conda/envs/protein/lib/python3.7/site-packages/Bio/PDB/StructureBuilder.py:92: PDBConstructionWarning: WARNING: Chain B is discontinuous at line 1964.\n",
      "  PDBConstructionWarning,\n"
     ]
    },
    {
     "name": "stdout",
     "output_type": "stream",
     "text": [
      "112 2ehs\n",
      "113 2erw\n",
      "114 2etx\n"
     ]
    },
    {
     "name": "stderr",
     "output_type": "stream",
     "text": [
      "/wsu/home/fr/fr15/fr1583/.conda/envs/protein/lib/python3.7/site-packages/Bio/PDB/StructureBuilder.py:92: PDBConstructionWarning: WARNING: Chain A is discontinuous at line 3018.\n",
      "  PDBConstructionWarning,\n",
      "/wsu/home/fr/fr15/fr1583/.conda/envs/protein/lib/python3.7/site-packages/Bio/PDB/StructureBuilder.py:92: PDBConstructionWarning: WARNING: Chain B is discontinuous at line 3222.\n",
      "  PDBConstructionWarning,\n"
     ]
    },
    {
     "name": "stdout",
     "output_type": "stream",
     "text": [
      "115 2fb6\n",
      "116 2fg1\n",
      "117 2fn9\n"
     ]
    },
    {
     "name": "stderr",
     "output_type": "stream",
     "text": [
      "/wsu/home/fr/fr15/fr1583/.conda/envs/protein/lib/python3.7/site-packages/Bio/PDB/StructureBuilder.py:92: PDBConstructionWarning: WARNING: Chain A is discontinuous at line 4362.\n",
      "  PDBConstructionWarning,\n",
      "/wsu/home/fr/fr15/fr1583/.conda/envs/protein/lib/python3.7/site-packages/Bio/PDB/StructureBuilder.py:92: PDBConstructionWarning: WARNING: Chain B is discontinuous at line 4692.\n",
      "  PDBConstructionWarning,\n"
     ]
    },
    {
     "name": "stdout",
     "output_type": "stream",
     "text": [
      "118 2fq3\n",
      "119 2g69\n",
      "120 2g7o\n",
      "121 2g7s\n",
      "122 2gkg\n",
      "123 2gom\n",
      "124 2gxg\n"
     ]
    },
    {
     "name": "stderr",
     "output_type": "stream",
     "text": [
      "/wsu/home/fr/fr15/fr1583/.conda/envs/protein/lib/python3.7/site-packages/Bio/PDB/StructureBuilder.py:92: PDBConstructionWarning: WARNING: Chain A is discontinuous at line 987.\n",
      "  PDBConstructionWarning,\n",
      "/wsu/home/fr/fr15/fr1583/.conda/envs/protein/lib/python3.7/site-packages/Bio/PDB/StructureBuilder.py:92: PDBConstructionWarning: WARNING: Chain B is discontinuous at line 1069.\n",
      "  PDBConstructionWarning,\n"
     ]
    },
    {
     "name": "stdout",
     "output_type": "stream",
     "text": [
      "125 2gzq\n",
      "126 2hqk\n",
      "127 2hyk\n",
      "128 2i24\n",
      "129 2i49\n",
      "130 2ibl\n",
      "131 2igd\n",
      "132 2imf\n",
      "133 2ip6\n",
      "134 2ivy\n",
      "135 2j32\n"
     ]
    },
    {
     "name": "stderr",
     "output_type": "stream",
     "text": [
      "/wsu/home/fr/fr15/fr1583/.conda/envs/protein/lib/python3.7/site-packages/Bio/PDB/StructureBuilder.py:92: PDBConstructionWarning: WARNING: Chain A is discontinuous at line 1971.\n",
      "  PDBConstructionWarning,\n",
      "/wsu/home/fr/fr15/fr1583/.conda/envs/protein/lib/python3.7/site-packages/Bio/PDB/StructureBuilder.py:92: PDBConstructionWarning: WARNING: Chain B is discontinuous at line 2269.\n",
      "  PDBConstructionWarning,\n",
      "/wsu/home/fr/fr15/fr1583/.conda/envs/protein/lib/python3.7/site-packages/Bio/PDB/StructureBuilder.py:92: PDBConstructionWarning: WARNING: Chain A is discontinuous at line 1650.\n",
      "  PDBConstructionWarning,\n",
      "/wsu/home/fr/fr15/fr1583/.conda/envs/protein/lib/python3.7/site-packages/Bio/PDB/StructureBuilder.py:92: PDBConstructionWarning: WARNING: Chain B is discontinuous at line 1722.\n",
      "  PDBConstructionWarning,\n"
     ]
    },
    {
     "name": "stdout",
     "output_type": "stream",
     "text": [
      "136 2j9w\n",
      "137 2jku\n",
      "138 2jli\n",
      "139 2jlj\n",
      "140 2mcm\n",
      "141 2nls\n",
      "142 2nr7\n",
      "143 2nuh\n",
      "144 2o6x\n",
      "145 2oa2\n",
      "146 2oct\n"
     ]
    },
    {
     "name": "stderr",
     "output_type": "stream",
     "text": [
      "/wsu/home/fr/fr15/fr1583/.conda/envs/protein/lib/python3.7/site-packages/Bio/PDB/StructureBuilder.py:92: PDBConstructionWarning: WARNING: Chain A is discontinuous at line 1570.\n",
      "  PDBConstructionWarning,\n",
      "/wsu/home/fr/fr15/fr1583/.conda/envs/protein/lib/python3.7/site-packages/Bio/PDB/StructureBuilder.py:92: PDBConstructionWarning: WARNING: Chain B is discontinuous at line 1656.\n",
      "  PDBConstructionWarning,\n",
      "/wsu/home/fr/fr15/fr1583/.conda/envs/protein/lib/python3.7/site-packages/Bio/PDB/StructureBuilder.py:92: PDBConstructionWarning: WARNING: Chain A is discontinuous at line 1570.\n",
      "  PDBConstructionWarning,\n",
      "/wsu/home/fr/fr15/fr1583/.conda/envs/protein/lib/python3.7/site-packages/Bio/PDB/StructureBuilder.py:92: PDBConstructionWarning: WARNING: Chain B is discontinuous at line 1656.\n",
      "  PDBConstructionWarning,\n",
      "/wsu/home/fr/fr15/fr1583/K/NMAcomp/multiscale.py:54: RuntimeWarning: divide by zero encountered in true_divide\n",
      "  reg.fit(diag_n.T,1/bfactor)\n",
      "/wsu/home/fr/fr15/fr1583/.conda/envs/protein/lib/python3.7/site-packages/Bio/PDB/StructureBuilder.py:92: PDBConstructionWarning: WARNING: Chain A is discontinuous at line 2086.\n",
      "  PDBConstructionWarning,\n",
      "/wsu/home/fr/fr15/fr1583/.conda/envs/protein/lib/python3.7/site-packages/Bio/PDB/StructureBuilder.py:92: PDBConstructionWarning: WARNING: Chain B is discontinuous at line 2146.\n",
      "  PDBConstructionWarning,\n"
     ]
    },
    {
     "name": "stdout",
     "output_type": "stream",
     "text": [
      "Input contains NaN, infinity or a value too large for dtype('float64').\n",
      "147 2ohw\n",
      "148 2okt\n",
      "149 2ol9\n",
      "150 2olx\n",
      "151 2pkt\n",
      "152 2plt\n",
      "153 2pmr\n",
      "154 2pof\n"
     ]
    },
    {
     "name": "stderr",
     "output_type": "stream",
     "text": [
      "/wsu/home/fr/fr15/fr1583/.conda/envs/protein/lib/python3.7/site-packages/Bio/PDB/StructureBuilder.py:92: PDBConstructionWarning: WARNING: Chain A is discontinuous at line 3514.\n",
      "  PDBConstructionWarning,\n",
      "/wsu/home/fr/fr15/fr1583/.conda/envs/protein/lib/python3.7/site-packages/Bio/PDB/StructureBuilder.py:92: PDBConstructionWarning: WARNING: Chain B is discontinuous at line 3676.\n",
      "  PDBConstructionWarning,\n"
     ]
    },
    {
     "name": "stdout",
     "output_type": "stream",
     "text": [
      "155 2ppn\n",
      "156 2psf\n"
     ]
    },
    {
     "name": "stderr",
     "output_type": "stream",
     "text": [
      "/wsu/home/fr/fr15/fr1583/.conda/envs/protein/lib/python3.7/site-packages/Bio/PDB/StructureBuilder.py:92: PDBConstructionWarning: WARNING: Chain A is discontinuous at line 4983.\n",
      "  PDBConstructionWarning,\n",
      "/wsu/home/fr/fr15/fr1583/.conda/envs/protein/lib/python3.7/site-packages/Bio/PDB/StructureBuilder.py:92: PDBConstructionWarning: WARNING: Chain B is discontinuous at line 5408.\n",
      "  PDBConstructionWarning,\n"
     ]
    },
    {
     "name": "stdout",
     "output_type": "stream",
     "text": [
      "157 2pth\n",
      "158 2q4n\n",
      "Found input variables with inconsistent numbers of samples: [181, 1224]\n",
      "159 2q52\n"
     ]
    },
    {
     "name": "stderr",
     "output_type": "stream",
     "text": [
      "/wsu/home/fr/fr15/fr1583/.conda/envs/protein/lib/python3.7/site-packages/Bio/PDB/StructureBuilder.py:92: PDBConstructionWarning: WARNING: Chain A is discontinuous at line 3348.\n",
      "  PDBConstructionWarning,\n",
      "/wsu/home/fr/fr15/fr1583/.conda/envs/protein/lib/python3.7/site-packages/Bio/PDB/StructureBuilder.py:92: PDBConstructionWarning: WARNING: Chain B is discontinuous at line 3549.\n",
      "  PDBConstructionWarning,\n",
      "/wsu/home/fr/fr15/fr1583/.conda/envs/protein/lib/python3.7/site-packages/Bio/PDB/StructureBuilder.py:92: PDBConstructionWarning: WARNING: Chain A is discontinuous at line 7080.\n",
      "  PDBConstructionWarning,\n",
      "/wsu/home/fr/fr15/fr1583/.conda/envs/protein/lib/python3.7/site-packages/Bio/PDB/StructureBuilder.py:92: PDBConstructionWarning: WARNING: Chain B is discontinuous at line 7286.\n",
      "  PDBConstructionWarning,\n",
      "/wsu/home/fr/fr15/fr1583/.conda/envs/protein/lib/python3.7/site-packages/Bio/PDB/StructureBuilder.py:92: PDBConstructionWarning: WARNING: Chain A is discontinuous at line 10812.\n",
      "  PDBConstructionWarning,\n",
      "/wsu/home/fr/fr15/fr1583/.conda/envs/protein/lib/python3.7/site-packages/Bio/PDB/StructureBuilder.py:92: PDBConstructionWarning: WARNING: Chain B is discontinuous at line 11024.\n",
      "  PDBConstructionWarning,\n",
      "/wsu/home/fr/fr15/fr1583/.conda/envs/protein/lib/python3.7/site-packages/Bio/PDB/StructureBuilder.py:92: PDBConstructionWarning: WARNING: Chain A is discontinuous at line 14544.\n",
      "  PDBConstructionWarning,\n",
      "/wsu/home/fr/fr15/fr1583/.conda/envs/protein/lib/python3.7/site-packages/Bio/PDB/StructureBuilder.py:92: PDBConstructionWarning: WARNING: Chain B is discontinuous at line 14746.\n",
      "  PDBConstructionWarning,\n",
      "/wsu/home/fr/fr15/fr1583/.conda/envs/protein/lib/python3.7/site-packages/Bio/PDB/StructureBuilder.py:92: PDBConstructionWarning: WARNING: Chain A is discontinuous at line 18276.\n",
      "  PDBConstructionWarning,\n",
      "/wsu/home/fr/fr15/fr1583/.conda/envs/protein/lib/python3.7/site-packages/Bio/PDB/StructureBuilder.py:92: PDBConstructionWarning: WARNING: Chain B is discontinuous at line 18477.\n",
      "  PDBConstructionWarning,\n",
      "/wsu/home/fr/fr15/fr1583/.conda/envs/protein/lib/python3.7/site-packages/Bio/PDB/StructureBuilder.py:92: PDBConstructionWarning: WARNING: Chain A is discontinuous at line 22008.\n",
      "  PDBConstructionWarning,\n",
      "/wsu/home/fr/fr15/fr1583/.conda/envs/protein/lib/python3.7/site-packages/Bio/PDB/StructureBuilder.py:92: PDBConstructionWarning: WARNING: Chain B is discontinuous at line 22210.\n",
      "  PDBConstructionWarning,\n",
      "/wsu/home/fr/fr15/fr1583/.conda/envs/protein/lib/python3.7/site-packages/Bio/PDB/StructureBuilder.py:92: PDBConstructionWarning: WARNING: Chain A is discontinuous at line 25740.\n",
      "  PDBConstructionWarning,\n",
      "/wsu/home/fr/fr15/fr1583/.conda/envs/protein/lib/python3.7/site-packages/Bio/PDB/StructureBuilder.py:92: PDBConstructionWarning: WARNING: Chain B is discontinuous at line 25944.\n",
      "  PDBConstructionWarning,\n",
      "/wsu/home/fr/fr15/fr1583/.conda/envs/protein/lib/python3.7/site-packages/Bio/PDB/StructureBuilder.py:92: PDBConstructionWarning: WARNING: Chain A is discontinuous at line 29472.\n",
      "  PDBConstructionWarning,\n",
      "/wsu/home/fr/fr15/fr1583/.conda/envs/protein/lib/python3.7/site-packages/Bio/PDB/StructureBuilder.py:92: PDBConstructionWarning: WARNING: Chain B is discontinuous at line 29678.\n",
      "  PDBConstructionWarning,\n",
      "/wsu/home/fr/fr15/fr1583/.conda/envs/protein/lib/python3.7/site-packages/Bio/PDB/StructureBuilder.py:92: PDBConstructionWarning: WARNING: Chain A is discontinuous at line 3348.\n",
      "  PDBConstructionWarning,\n",
      "/wsu/home/fr/fr15/fr1583/.conda/envs/protein/lib/python3.7/site-packages/Bio/PDB/StructureBuilder.py:92: PDBConstructionWarning: WARNING: Chain B is discontinuous at line 3549.\n",
      "  PDBConstructionWarning,\n",
      "/wsu/home/fr/fr15/fr1583/.conda/envs/protein/lib/python3.7/site-packages/Bio/PDB/StructureBuilder.py:92: PDBConstructionWarning: WARNING: Chain A is discontinuous at line 7080.\n",
      "  PDBConstructionWarning,\n",
      "/wsu/home/fr/fr15/fr1583/.conda/envs/protein/lib/python3.7/site-packages/Bio/PDB/StructureBuilder.py:92: PDBConstructionWarning: WARNING: Chain B is discontinuous at line 7286.\n",
      "  PDBConstructionWarning,\n",
      "/wsu/home/fr/fr15/fr1583/.conda/envs/protein/lib/python3.7/site-packages/Bio/PDB/StructureBuilder.py:92: PDBConstructionWarning: WARNING: Chain A is discontinuous at line 10812.\n",
      "  PDBConstructionWarning,\n",
      "/wsu/home/fr/fr15/fr1583/.conda/envs/protein/lib/python3.7/site-packages/Bio/PDB/StructureBuilder.py:92: PDBConstructionWarning: WARNING: Chain B is discontinuous at line 11024.\n",
      "  PDBConstructionWarning,\n",
      "/wsu/home/fr/fr15/fr1583/.conda/envs/protein/lib/python3.7/site-packages/Bio/PDB/StructureBuilder.py:92: PDBConstructionWarning: WARNING: Chain A is discontinuous at line 14544.\n",
      "  PDBConstructionWarning,\n",
      "/wsu/home/fr/fr15/fr1583/.conda/envs/protein/lib/python3.7/site-packages/Bio/PDB/StructureBuilder.py:92: PDBConstructionWarning: WARNING: Chain B is discontinuous at line 14746.\n",
      "  PDBConstructionWarning,\n",
      "/wsu/home/fr/fr15/fr1583/.conda/envs/protein/lib/python3.7/site-packages/Bio/PDB/StructureBuilder.py:92: PDBConstructionWarning: WARNING: Chain A is discontinuous at line 18276.\n",
      "  PDBConstructionWarning,\n",
      "/wsu/home/fr/fr15/fr1583/.conda/envs/protein/lib/python3.7/site-packages/Bio/PDB/StructureBuilder.py:92: PDBConstructionWarning: WARNING: Chain B is discontinuous at line 18477.\n",
      "  PDBConstructionWarning,\n",
      "/wsu/home/fr/fr15/fr1583/.conda/envs/protein/lib/python3.7/site-packages/Bio/PDB/StructureBuilder.py:92: PDBConstructionWarning: WARNING: Chain A is discontinuous at line 22008.\n",
      "  PDBConstructionWarning,\n",
      "/wsu/home/fr/fr15/fr1583/.conda/envs/protein/lib/python3.7/site-packages/Bio/PDB/StructureBuilder.py:92: PDBConstructionWarning: WARNING: Chain B is discontinuous at line 22210.\n",
      "  PDBConstructionWarning,\n",
      "/wsu/home/fr/fr15/fr1583/.conda/envs/protein/lib/python3.7/site-packages/Bio/PDB/StructureBuilder.py:92: PDBConstructionWarning: WARNING: Chain A is discontinuous at line 25740.\n",
      "  PDBConstructionWarning,\n",
      "/wsu/home/fr/fr15/fr1583/.conda/envs/protein/lib/python3.7/site-packages/Bio/PDB/StructureBuilder.py:92: PDBConstructionWarning: WARNING: Chain B is discontinuous at line 25944.\n",
      "  PDBConstructionWarning,\n",
      "/wsu/home/fr/fr15/fr1583/.conda/envs/protein/lib/python3.7/site-packages/Bio/PDB/StructureBuilder.py:92: PDBConstructionWarning: WARNING: Chain A is discontinuous at line 29472.\n",
      "  PDBConstructionWarning,\n",
      "/wsu/home/fr/fr15/fr1583/.conda/envs/protein/lib/python3.7/site-packages/Bio/PDB/StructureBuilder.py:92: PDBConstructionWarning: WARNING: Chain B is discontinuous at line 29678.\n",
      "  PDBConstructionWarning,\n"
     ]
    },
    {
     "name": "stdout",
     "output_type": "stream",
     "text": [
      "Found input variables with inconsistent numbers of samples: [480, 3296]\n",
      "160 2qjl\n",
      "161 2r16\n",
      "162 2r6q\n",
      "163 2rb8\n",
      "164 2re2\n"
     ]
    },
    {
     "name": "stderr",
     "output_type": "stream",
     "text": [
      "/wsu/home/fr/fr15/fr1583/.conda/envs/protein/lib/python3.7/site-packages/Bio/PDB/StructureBuilder.py:92: PDBConstructionWarning: WARNING: Chain A is discontinuous at line 1898.\n",
      "  PDBConstructionWarning,\n",
      "/wsu/home/fr/fr15/fr1583/.conda/envs/protein/lib/python3.7/site-packages/Bio/PDB/StructureBuilder.py:92: PDBConstructionWarning: WARNING: Chain B is discontinuous at line 2061.\n",
      "  PDBConstructionWarning,\n"
     ]
    },
    {
     "name": "stdout",
     "output_type": "stream",
     "text": [
      "165 2rfr\n",
      "166 2v9v\n",
      "167 2ve8\n"
     ]
    },
    {
     "name": "stderr",
     "output_type": "stream",
     "text": [
      "/wsu/home/fr/fr15/fr1583/.conda/envs/protein/lib/python3.7/site-packages/Bio/PDB/StructureBuilder.py:92: PDBConstructionWarning: WARNING: Chain A is discontinuous at line 3972.\n",
      "  PDBConstructionWarning,\n",
      "/wsu/home/fr/fr15/fr1583/.conda/envs/protein/lib/python3.7/site-packages/Bio/PDB/StructureBuilder.py:92: PDBConstructionWarning: WARNING: Chain B is discontinuous at line 4066.\n",
      "  PDBConstructionWarning,\n",
      "/wsu/home/fr/fr15/fr1583/.conda/envs/protein/lib/python3.7/site-packages/Bio/PDB/StructureBuilder.py:92: PDBConstructionWarning: WARNING: Chain C is discontinuous at line 4158.\n",
      "  PDBConstructionWarning,\n",
      "/wsu/home/fr/fr15/fr1583/.conda/envs/protein/lib/python3.7/site-packages/Bio/PDB/StructureBuilder.py:92: PDBConstructionWarning: WARNING: Chain D is discontinuous at line 4247.\n",
      "  PDBConstructionWarning,\n",
      "/wsu/home/fr/fr15/fr1583/.conda/envs/protein/lib/python3.7/site-packages/Bio/PDB/StructureBuilder.py:92: PDBConstructionWarning: WARNING: Chain E is discontinuous at line 4328.\n",
      "  PDBConstructionWarning,\n",
      "/wsu/home/fr/fr15/fr1583/.conda/envs/protein/lib/python3.7/site-packages/Bio/PDB/StructureBuilder.py:92: PDBConstructionWarning: WARNING: Chain F is discontinuous at line 4395.\n",
      "  PDBConstructionWarning,\n",
      "/wsu/home/fr/fr15/fr1583/.conda/envs/protein/lib/python3.7/site-packages/Bio/PDB/StructureBuilder.py:92: PDBConstructionWarning: WARNING: Chain G is discontinuous at line 4462.\n",
      "  PDBConstructionWarning,\n",
      "/wsu/home/fr/fr15/fr1583/.conda/envs/protein/lib/python3.7/site-packages/Bio/PDB/StructureBuilder.py:92: PDBConstructionWarning: WARNING: Chain H is discontinuous at line 4559.\n",
      "  PDBConstructionWarning,\n"
     ]
    },
    {
     "name": "stdout",
     "output_type": "stream",
     "text": [
      "168 2vh7\n",
      "169 2vim\n",
      "170 2vpa\n",
      "171 2vq4\n",
      "172 2vy8\n",
      "173 2vyo\n",
      "174 2w1v\n"
     ]
    },
    {
     "name": "stderr",
     "output_type": "stream",
     "text": [
      "/wsu/home/fr/fr15/fr1583/.conda/envs/protein/lib/python3.7/site-packages/Bio/PDB/StructureBuilder.py:92: PDBConstructionWarning: WARNING: Chain A is discontinuous at line 4273.\n",
      "  PDBConstructionWarning,\n",
      "/wsu/home/fr/fr15/fr1583/.conda/envs/protein/lib/python3.7/site-packages/Bio/PDB/StructureBuilder.py:92: PDBConstructionWarning: WARNING: Chain B is discontinuous at line 4653.\n",
      "  PDBConstructionWarning,\n"
     ]
    },
    {
     "name": "stdout",
     "output_type": "stream",
     "text": [
      "175 2w2a\n",
      "176 2w6a\n"
     ]
    },
    {
     "name": "stderr",
     "output_type": "stream",
     "text": [
      "/wsu/home/fr/fr15/fr1583/.conda/envs/protein/lib/python3.7/site-packages/Bio/PDB/StructureBuilder.py:92: PDBConstructionWarning: WARNING: Chain A is discontinuous at line 2918.\n",
      "  PDBConstructionWarning,\n",
      "/wsu/home/fr/fr15/fr1583/.conda/envs/protein/lib/python3.7/site-packages/Bio/PDB/StructureBuilder.py:92: PDBConstructionWarning: WARNING: Chain B is discontinuous at line 3189.\n",
      "  PDBConstructionWarning,\n",
      "/wsu/home/fr/fr15/fr1583/.conda/envs/protein/lib/python3.7/site-packages/Bio/PDB/StructureBuilder.py:92: PDBConstructionWarning: WARNING: Chain A is discontinuous at line 1040.\n",
      "  PDBConstructionWarning,\n",
      "/wsu/home/fr/fr15/fr1583/.conda/envs/protein/lib/python3.7/site-packages/Bio/PDB/StructureBuilder.py:92: PDBConstructionWarning: WARNING: Chain B is discontinuous at line 1120.\n",
      "  PDBConstructionWarning,\n",
      "/wsu/home/fr/fr15/fr1583/.conda/envs/protein/lib/python3.7/site-packages/Bio/PDB/StructureBuilder.py:92: PDBConstructionWarning: WARNING: Chain A is discontinuous at line 856.\n",
      "  PDBConstructionWarning,\n",
      "/wsu/home/fr/fr15/fr1583/.conda/envs/protein/lib/python3.7/site-packages/Bio/PDB/StructureBuilder.py:92: PDBConstructionWarning: WARNING: Chain B is discontinuous at line 973.\n",
      "  PDBConstructionWarning,\n"
     ]
    },
    {
     "name": "stdout",
     "output_type": "stream",
     "text": [
      "177 2wj5\n",
      "178 2wuj\n",
      "179 2ww7\n"
     ]
    },
    {
     "name": "stderr",
     "output_type": "stream",
     "text": [
      "/wsu/home/fr/fr15/fr1583/.conda/envs/protein/lib/python3.7/site-packages/Bio/PDB/StructureBuilder.py:92: PDBConstructionWarning: WARNING: Chain A is discontinuous at line 3173.\n",
      "  PDBConstructionWarning,\n",
      "/wsu/home/fr/fr15/fr1583/.conda/envs/protein/lib/python3.7/site-packages/Bio/PDB/StructureBuilder.py:92: PDBConstructionWarning: WARNING: Chain B is discontinuous at line 3249.\n",
      "  PDBConstructionWarning,\n",
      "/wsu/home/fr/fr15/fr1583/.conda/envs/protein/lib/python3.7/site-packages/Bio/PDB/StructureBuilder.py:92: PDBConstructionWarning: WARNING: Chain C is discontinuous at line 3340.\n",
      "  PDBConstructionWarning,\n",
      "/wsu/home/fr/fr15/fr1583/.conda/envs/protein/lib/python3.7/site-packages/Bio/PDB/StructureBuilder.py:92: PDBConstructionWarning: WARNING: Chain D is discontinuous at line 3416.\n",
      "  PDBConstructionWarning,\n",
      "/wsu/home/fr/fr15/fr1583/.conda/envs/protein/lib/python3.7/site-packages/Bio/PDB/StructureBuilder.py:92: PDBConstructionWarning: WARNING: Chain E is discontinuous at line 3478.\n",
      "  PDBConstructionWarning,\n",
      "/wsu/home/fr/fr15/fr1583/.conda/envs/protein/lib/python3.7/site-packages/Bio/PDB/StructureBuilder.py:92: PDBConstructionWarning: WARNING: Chain F is discontinuous at line 3550.\n",
      "  PDBConstructionWarning,\n"
     ]
    },
    {
     "name": "stdout",
     "output_type": "stream",
     "text": [
      "180 2wwe\n",
      "181 2x1q\n",
      "182 2x25\n"
     ]
    },
    {
     "name": "stderr",
     "output_type": "stream",
     "text": [
      "/wsu/home/fr/fr15/fr1583/.conda/envs/protein/lib/python3.7/site-packages/Bio/PDB/StructureBuilder.py:92: PDBConstructionWarning: WARNING: Chain A is discontinuous at line 1852.\n",
      "  PDBConstructionWarning,\n",
      "/wsu/home/fr/fr15/fr1583/.conda/envs/protein/lib/python3.7/site-packages/Bio/PDB/StructureBuilder.py:92: PDBConstructionWarning: WARNING: Chain B is discontinuous at line 2084.\n",
      "  PDBConstructionWarning,\n"
     ]
    },
    {
     "name": "stdout",
     "output_type": "stream",
     "text": [
      "183 2x3m\n",
      "184 2x5y\n",
      "185 2x9z\n",
      "186 2xhf\n"
     ]
    },
    {
     "name": "stderr",
     "output_type": "stream",
     "text": [
      "/wsu/home/fr/fr15/fr1583/.conda/envs/protein/lib/python3.7/site-packages/Bio/PDB/StructureBuilder.py:92: PDBConstructionWarning: WARNING: Chain A is discontinuous at line 4871.\n",
      "  PDBConstructionWarning,\n",
      "/wsu/home/fr/fr15/fr1583/.conda/envs/protein/lib/python3.7/site-packages/Bio/PDB/StructureBuilder.py:92: PDBConstructionWarning: WARNING: Chain B is discontinuous at line 5041.\n",
      "  PDBConstructionWarning,\n",
      "/wsu/home/fr/fr15/fr1583/.conda/envs/protein/lib/python3.7/site-packages/Bio/PDB/StructureBuilder.py:92: PDBConstructionWarning: WARNING: Chain A is discontinuous at line 838.\n",
      "  PDBConstructionWarning,\n"
     ]
    },
    {
     "name": "stdout",
     "output_type": "stream",
     "text": [
      "187 2y0t\n",
      "188 2y72\n"
     ]
    },
    {
     "name": "stderr",
     "output_type": "stream",
     "text": [
      "/wsu/home/fr/fr15/fr1583/.conda/envs/protein/lib/python3.7/site-packages/Bio/PDB/StructureBuilder.py:92: PDBConstructionWarning: WARNING: Chain B is discontinuous at line 900.\n",
      "  PDBConstructionWarning,\n",
      "/wsu/home/fr/fr15/fr1583/.conda/envs/protein/lib/python3.7/site-packages/Bio/PDB/StructureBuilder.py:92: PDBConstructionWarning: WARNING: Chain A is discontinuous at line 1323.\n",
      "  PDBConstructionWarning,\n",
      "/wsu/home/fr/fr15/fr1583/.conda/envs/protein/lib/python3.7/site-packages/Bio/PDB/StructureBuilder.py:92: PDBConstructionWarning: WARNING: Chain B is discontinuous at line 1499.\n",
      "  PDBConstructionWarning,\n"
     ]
    },
    {
     "name": "stdout",
     "output_type": "stream",
     "text": [
      "189 2y7l\n",
      "190 2y9f\n"
     ]
    },
    {
     "name": "stderr",
     "output_type": "stream",
     "text": [
      "/wsu/home/fr/fr15/fr1583/.conda/envs/protein/lib/python3.7/site-packages/Bio/PDB/StructureBuilder.py:92: PDBConstructionWarning: WARNING: Chain A is discontinuous at line 2426.\n",
      "  PDBConstructionWarning,\n",
      "/wsu/home/fr/fr15/fr1583/.conda/envs/protein/lib/python3.7/site-packages/Bio/PDB/StructureBuilder.py:92: PDBConstructionWarning: WARNING: Chain B is discontinuous at line 2729.\n",
      "  PDBConstructionWarning,\n"
     ]
    },
    {
     "name": "stdout",
     "output_type": "stream",
     "text": [
      "191 2ylb\n"
     ]
    },
    {
     "name": "stderr",
     "output_type": "stream",
     "text": [
      "/wsu/home/fr/fr15/fr1583/.conda/envs/protein/lib/python3.7/site-packages/Bio/PDB/StructureBuilder.py:92: PDBConstructionWarning: WARNING: Chain A is discontinuous at line 6853.\n",
      "  PDBConstructionWarning,\n",
      "/wsu/home/fr/fr15/fr1583/.conda/envs/protein/lib/python3.7/site-packages/Bio/PDB/StructureBuilder.py:92: PDBConstructionWarning: WARNING: Chain B is discontinuous at line 6921.\n",
      "  PDBConstructionWarning,\n",
      "/wsu/home/fr/fr15/fr1583/.conda/envs/protein/lib/python3.7/site-packages/Bio/PDB/StructureBuilder.py:92: PDBConstructionWarning: WARNING: Chain C is discontinuous at line 6981.\n",
      "  PDBConstructionWarning,\n",
      "/wsu/home/fr/fr15/fr1583/.conda/envs/protein/lib/python3.7/site-packages/Bio/PDB/StructureBuilder.py:92: PDBConstructionWarning: WARNING: Chain D is discontinuous at line 7048.\n",
      "  PDBConstructionWarning,\n",
      "/wsu/home/fr/fr15/fr1583/.conda/envs/protein/lib/python3.7/site-packages/Bio/PDB/StructureBuilder.py:92: PDBConstructionWarning: WARNING: Chain E is discontinuous at line 7113.\n",
      "  PDBConstructionWarning,\n",
      "/wsu/home/fr/fr15/fr1583/.conda/envs/protein/lib/python3.7/site-packages/Bio/PDB/StructureBuilder.py:92: PDBConstructionWarning: WARNING: Chain F is discontinuous at line 7177.\n",
      "  PDBConstructionWarning,\n"
     ]
    },
    {
     "name": "stdout",
     "output_type": "stream",
     "text": [
      "192 2yny\n"
     ]
    },
    {
     "name": "stderr",
     "output_type": "stream",
     "text": [
      "/wsu/home/fr/fr15/fr1583/.conda/envs/protein/lib/python3.7/site-packages/Bio/PDB/StructureBuilder.py:92: PDBConstructionWarning: WARNING: Chain A is discontinuous at line 2464.\n",
      "  PDBConstructionWarning,\n",
      "/wsu/home/fr/fr15/fr1583/.conda/envs/protein/lib/python3.7/site-packages/Bio/PDB/StructureBuilder.py:92: PDBConstructionWarning: WARNING: Chain B is discontinuous at line 2571.\n",
      "  PDBConstructionWarning,\n",
      "/wsu/home/fr/fr15/fr1583/.conda/envs/protein/lib/python3.7/site-packages/Bio/PDB/StructureBuilder.py:92: PDBConstructionWarning: WARNING: Chain C is discontinuous at line 2654.\n",
      "  PDBConstructionWarning,\n",
      "/wsu/home/fr/fr15/fr1583/.conda/envs/protein/lib/python3.7/site-packages/Bio/PDB/StructureBuilder.py:92: PDBConstructionWarning: WARNING: Chain A is discontinuous at line 3031.\n",
      "  PDBConstructionWarning,\n",
      "/wsu/home/fr/fr15/fr1583/.conda/envs/protein/lib/python3.7/site-packages/Bio/PDB/StructureBuilder.py:92: PDBConstructionWarning: WARNING: Chain B is discontinuous at line 3493.\n",
      "  PDBConstructionWarning,\n"
     ]
    },
    {
     "name": "stdout",
     "output_type": "stream",
     "text": [
      "193 2zcm\n",
      "194 2zu1\n",
      "195 3a0m\n"
     ]
    },
    {
     "name": "stderr",
     "output_type": "stream",
     "text": [
      "/wsu/home/fr/fr15/fr1583/.conda/envs/protein/lib/python3.7/site-packages/Bio/PDB/StructureBuilder.py:92: PDBConstructionWarning: WARNING: Chain A is discontinuous at line 2794.\n",
      "  PDBConstructionWarning,\n",
      "/wsu/home/fr/fr15/fr1583/.conda/envs/protein/lib/python3.7/site-packages/Bio/PDB/StructureBuilder.py:92: PDBConstructionWarning: WARNING: Chain B is discontinuous at line 3123.\n",
      "  PDBConstructionWarning,\n",
      "/wsu/home/fr/fr15/fr1583/.conda/envs/protein/lib/python3.7/site-packages/Bio/PDB/StructureBuilder.py:130: PDBConstructionWarning: WARNING: Residue (' ', 14, ' ') redefined at line 827.\n",
      "  PDBConstructionWarning,\n",
      "/wsu/home/fr/fr15/fr1583/.conda/envs/protein/lib/python3.7/site-packages/Bio/PDB/StructureBuilder.py:130: PDBConstructionWarning: WARNING: Residue (' ', 17, ' ') redefined at line 864.\n",
      "  PDBConstructionWarning,\n",
      "/wsu/home/fr/fr15/fr1583/.conda/envs/protein/lib/python3.7/site-packages/Bio/PDB/StructureBuilder.py:92: PDBConstructionWarning: WARNING: Chain A is discontinuous at line 929.\n",
      "  PDBConstructionWarning,\n",
      "/wsu/home/fr/fr15/fr1583/.conda/envs/protein/lib/python3.7/site-packages/Bio/PDB/StructureBuilder.py:92: PDBConstructionWarning: WARNING: Chain B is discontinuous at line 976.\n",
      "  PDBConstructionWarning,\n",
      "/wsu/home/fr/fr15/fr1583/.conda/envs/protein/lib/python3.7/site-packages/Bio/PDB/StructureBuilder.py:92: PDBConstructionWarning: WARNING: Chain C is discontinuous at line 1025.\n",
      "  PDBConstructionWarning,\n",
      "/wsu/home/fr/fr15/fr1583/.conda/envs/protein/lib/python3.7/site-packages/Bio/PDB/StructureBuilder.py:92: PDBConstructionWarning: WARNING: Chain D is discontinuous at line 1081.\n",
      "  PDBConstructionWarning,\n",
      "/wsu/home/fr/fr15/fr1583/.conda/envs/protein/lib/python3.7/site-packages/Bio/PDB/StructureBuilder.py:92: PDBConstructionWarning: WARNING: Chain E is discontinuous at line 1118.\n",
      "  PDBConstructionWarning,\n",
      "/wsu/home/fr/fr15/fr1583/.conda/envs/protein/lib/python3.7/site-packages/Bio/PDB/StructureBuilder.py:92: PDBConstructionWarning: WARNING: Chain F is discontinuous at line 1161.\n",
      "  PDBConstructionWarning,\n",
      "/wsu/home/fr/fr15/fr1583/.conda/envs/protein/lib/python3.7/site-packages/Bio/PDB/StructureBuilder.py:130: PDBConstructionWarning: WARNING: Residue (' ', 14, ' ') redefined at line 827.\n",
      "  PDBConstructionWarning,\n",
      "/wsu/home/fr/fr15/fr1583/.conda/envs/protein/lib/python3.7/site-packages/Bio/PDB/StructureBuilder.py:130: PDBConstructionWarning: WARNING: Residue (' ', 17, ' ') redefined at line 864.\n",
      "  PDBConstructionWarning,\n",
      "/wsu/home/fr/fr15/fr1583/.conda/envs/protein/lib/python3.7/site-packages/Bio/PDB/StructureBuilder.py:92: PDBConstructionWarning: WARNING: Chain A is discontinuous at line 929.\n",
      "  PDBConstructionWarning,\n",
      "/wsu/home/fr/fr15/fr1583/.conda/envs/protein/lib/python3.7/site-packages/Bio/PDB/StructureBuilder.py:92: PDBConstructionWarning: WARNING: Chain B is discontinuous at line 976.\n",
      "  PDBConstructionWarning,\n",
      "/wsu/home/fr/fr15/fr1583/.conda/envs/protein/lib/python3.7/site-packages/Bio/PDB/StructureBuilder.py:92: PDBConstructionWarning: WARNING: Chain C is discontinuous at line 1025.\n",
      "  PDBConstructionWarning,\n",
      "/wsu/home/fr/fr15/fr1583/.conda/envs/protein/lib/python3.7/site-packages/Bio/PDB/StructureBuilder.py:92: PDBConstructionWarning: WARNING: Chain D is discontinuous at line 1081.\n",
      "  PDBConstructionWarning,\n",
      "/wsu/home/fr/fr15/fr1583/.conda/envs/protein/lib/python3.7/site-packages/Bio/PDB/StructureBuilder.py:92: PDBConstructionWarning: WARNING: Chain E is discontinuous at line 1118.\n",
      "  PDBConstructionWarning,\n",
      "/wsu/home/fr/fr15/fr1583/.conda/envs/protein/lib/python3.7/site-packages/Bio/PDB/StructureBuilder.py:92: PDBConstructionWarning: WARNING: Chain F is discontinuous at line 1161.\n",
      "  PDBConstructionWarning,\n"
     ]
    },
    {
     "name": "stdout",
     "output_type": "stream",
     "text": [
      "Found input variables with inconsistent numbers of samples: [148, 150]\n",
      "196 3a7l\n",
      "197 3amc\n"
     ]
    },
    {
     "name": "stderr",
     "output_type": "stream",
     "text": [
      "/wsu/home/fr/fr15/fr1583/.conda/envs/protein/lib/python3.7/site-packages/Bio/PDB/StructureBuilder.py:92: PDBConstructionWarning: WARNING: Chain A is discontinuous at line 5174.\n",
      "  PDBConstructionWarning,\n",
      "/wsu/home/fr/fr15/fr1583/.conda/envs/protein/lib/python3.7/site-packages/Bio/PDB/StructureBuilder.py:92: PDBConstructionWarning: WARNING: Chain B is discontinuous at line 5546.\n",
      "  PDBConstructionWarning,\n",
      "/wsu/home/fr/fr15/fr1583/.conda/envs/protein/lib/python3.7/site-packages/Bio/PDB/StructureBuilder.py:92: PDBConstructionWarning: WARNING: Chain A is discontinuous at line 902.\n",
      "  PDBConstructionWarning,\n",
      "/wsu/home/fr/fr15/fr1583/.conda/envs/protein/lib/python3.7/site-packages/Bio/PDB/StructureBuilder.py:92: PDBConstructionWarning: WARNING: Chain B is discontinuous at line 1028.\n",
      "  PDBConstructionWarning,\n"
     ]
    },
    {
     "name": "stdout",
     "output_type": "stream",
     "text": [
      "198 3aub\n",
      "199 3b5o\n",
      "200 3ba1\n",
      "201 3bed\n",
      "202 3bqx\n"
     ]
    },
    {
     "name": "stderr",
     "output_type": "stream",
     "text": [
      "/wsu/home/fr/fr15/fr1583/.conda/envs/protein/lib/python3.7/site-packages/Bio/PDB/StructureBuilder.py:92: PDBConstructionWarning: WARNING: Chain A is discontinuous at line 2025.\n",
      "  PDBConstructionWarning,\n",
      "/wsu/home/fr/fr15/fr1583/.conda/envs/protein/lib/python3.7/site-packages/Bio/PDB/StructureBuilder.py:92: PDBConstructionWarning: WARNING: Chain B is discontinuous at line 2197.\n",
      "  PDBConstructionWarning,\n"
     ]
    },
    {
     "name": "stdout",
     "output_type": "stream",
     "text": [
      "203 3bzq\n",
      "204 3bzz\n",
      "205 3drf\n"
     ]
    },
    {
     "name": "stderr",
     "output_type": "stream",
     "text": [
      "/wsu/home/fr/fr15/fr1583/.conda/envs/protein/lib/python3.7/site-packages/Bio/PDB/StructureBuilder.py:92: PDBConstructionWarning: WARNING: Chain A is discontinuous at line 799.\n",
      "  PDBConstructionWarning,\n",
      "/wsu/home/fr/fr15/fr1583/.conda/envs/protein/lib/python3.7/site-packages/Bio/PDB/StructureBuilder.py:92: PDBConstructionWarning: WARNING: Chain B is discontinuous at line 821.\n",
      "  PDBConstructionWarning,\n",
      "/wsu/home/fr/fr15/fr1583/.conda/envs/protein/lib/python3.7/site-packages/Bio/PDB/StructureBuilder.py:92: PDBConstructionWarning: WARNING: Chain A is discontinuous at line 4397.\n",
      "  PDBConstructionWarning,\n",
      "/wsu/home/fr/fr15/fr1583/.conda/envs/protein/lib/python3.7/site-packages/Bio/PDB/StructureBuilder.py:92: PDBConstructionWarning: WARNING: Chain B is discontinuous at line 5508.\n",
      "  PDBConstructionWarning,\n"
     ]
    },
    {
     "name": "stdout",
     "output_type": "stream",
     "text": [
      "206 3dwv\n"
     ]
    },
    {
     "name": "stderr",
     "output_type": "stream",
     "text": [
      "/wsu/home/fr/fr15/fr1583/.conda/envs/protein/lib/python3.7/site-packages/Bio/PDB/StructureBuilder.py:92: PDBConstructionWarning: WARNING: Chain A is discontinuous at line 2780.\n",
      "  PDBConstructionWarning,\n",
      "/wsu/home/fr/fr15/fr1583/.conda/envs/protein/lib/python3.7/site-packages/Bio/PDB/StructureBuilder.py:92: PDBConstructionWarning: WARNING: Chain B is discontinuous at line 2951.\n",
      "  PDBConstructionWarning,\n",
      "/wsu/home/fr/fr15/fr1583/.conda/envs/protein/lib/python3.7/site-packages/Bio/PDB/StructureBuilder.py:92: PDBConstructionWarning: WARNING: Chain A is discontinuous at line 2780.\n",
      "  PDBConstructionWarning,\n",
      "/wsu/home/fr/fr15/fr1583/.conda/envs/protein/lib/python3.7/site-packages/Bio/PDB/StructureBuilder.py:92: PDBConstructionWarning: WARNING: Chain B is discontinuous at line 2951.\n",
      "  PDBConstructionWarning,\n"
     ]
    },
    {
     "name": "stdout",
     "output_type": "stream",
     "text": [
      "Found input variables with inconsistent numbers of samples: [325, 326]\n",
      "207 3e5t\n",
      "208 3e7r\n",
      "209 3eur\n",
      "210 3f2z\n",
      "211 3f7e\n"
     ]
    },
    {
     "name": "stderr",
     "output_type": "stream",
     "text": [
      "/wsu/home/fr/fr15/fr1583/.conda/envs/protein/lib/python3.7/site-packages/Bio/PDB/StructureBuilder.py:92: PDBConstructionWarning: WARNING: Chain A is discontinuous at line 2148.\n",
      "  PDBConstructionWarning,\n",
      "/wsu/home/fr/fr15/fr1583/.conda/envs/protein/lib/python3.7/site-packages/Bio/PDB/StructureBuilder.py:92: PDBConstructionWarning: WARNING: Chain B is discontinuous at line 2329.\n",
      "  PDBConstructionWarning,\n",
      "/wsu/home/fr/fr15/fr1583/.conda/envs/protein/lib/python3.7/site-packages/Bio/PDB/StructureBuilder.py:92: PDBConstructionWarning: WARNING: Chain A is discontinuous at line 752.\n",
      "  PDBConstructionWarning,\n",
      "/wsu/home/fr/fr15/fr1583/.conda/envs/protein/lib/python3.7/site-packages/Bio/PDB/StructureBuilder.py:92: PDBConstructionWarning: WARNING: Chain L is discontinuous at line 820.\n",
      "  PDBConstructionWarning,\n"
     ]
    },
    {
     "name": "stdout",
     "output_type": "stream",
     "text": [
      "212 3fcn\n",
      "213 3fe7\n",
      "214 3fke\n"
     ]
    },
    {
     "name": "stderr",
     "output_type": "stream",
     "text": [
      "/wsu/home/fr/fr15/fr1583/.conda/envs/protein/lib/python3.7/site-packages/Bio/PDB/StructureBuilder.py:92: PDBConstructionWarning: WARNING: Chain A is discontinuous at line 1938.\n",
      "  PDBConstructionWarning,\n",
      "/wsu/home/fr/fr15/fr1583/.conda/envs/protein/lib/python3.7/site-packages/Bio/PDB/StructureBuilder.py:92: PDBConstructionWarning: WARNING: Chain B is discontinuous at line 2043.\n",
      "  PDBConstructionWarning,\n",
      "/wsu/home/fr/fr15/fr1583/.conda/envs/protein/lib/python3.7/site-packages/Bio/PDB/StructureBuilder.py:92: PDBConstructionWarning: WARNING: Chain A is discontinuous at line 328.\n",
      "  PDBConstructionWarning,\n",
      "/wsu/home/fr/fr15/fr1583/.conda/envs/protein/lib/python3.7/site-packages/Bio/PDB/StructureBuilder.py:92: PDBConstructionWarning: WARNING: Chain B is discontinuous at line 339.\n",
      "  PDBConstructionWarning,\n",
      "/wsu/home/fr/fr15/fr1583/.conda/envs/protein/lib/python3.7/site-packages/Bio/PDB/StructureBuilder.py:92: PDBConstructionWarning: WARNING: Chain C is discontinuous at line 346.\n",
      "  PDBConstructionWarning,\n",
      "/wsu/home/fr/fr15/fr1583/.conda/envs/protein/lib/python3.7/site-packages/Bio/PDB/StructureBuilder.py:92: PDBConstructionWarning: WARNING: Chain D is discontinuous at line 356.\n",
      "  PDBConstructionWarning,\n",
      "/wsu/home/fr/fr15/fr1583/.conda/envs/protein/lib/python3.7/site-packages/Bio/PDB/StructureBuilder.py:92: PDBConstructionWarning: WARNING: Chain E is discontinuous at line 361.\n",
      "  PDBConstructionWarning,\n",
      "/wsu/home/fr/fr15/fr1583/.conda/envs/protein/lib/python3.7/site-packages/Bio/PDB/StructureBuilder.py:92: PDBConstructionWarning: WARNING: Chain F is discontinuous at line 368.\n",
      "  PDBConstructionWarning,\n",
      "/wsu/home/fr/fr15/fr1583/.conda/envs/protein/lib/python3.7/site-packages/Bio/PDB/StructureBuilder.py:92: PDBConstructionWarning: WARNING: Chain G is discontinuous at line 379.\n",
      "  PDBConstructionWarning,\n",
      "/wsu/home/fr/fr15/fr1583/.conda/envs/protein/lib/python3.7/site-packages/Bio/PDB/StructureBuilder.py:92: PDBConstructionWarning: WARNING: Chain H is discontinuous at line 391.\n",
      "  PDBConstructionWarning,\n"
     ]
    },
    {
     "name": "stdout",
     "output_type": "stream",
     "text": [
      "215 3fmy\n",
      "216 3fod\n",
      "217 3fso\n"
     ]
    },
    {
     "name": "stderr",
     "output_type": "stream",
     "text": [
      "/wsu/home/fr/fr15/fr1583/.conda/envs/protein/lib/python3.7/site-packages/Bio/PDB/StructureBuilder.py:92: PDBConstructionWarning: WARNING: Chain A is discontinuous at line 3803.\n",
      "  PDBConstructionWarning,\n",
      "/wsu/home/fr/fr15/fr1583/.conda/envs/protein/lib/python3.7/site-packages/Bio/PDB/StructureBuilder.py:92: PDBConstructionWarning: WARNING: Chain B is discontinuous at line 3945.\n",
      "  PDBConstructionWarning,\n"
     ]
    },
    {
     "name": "stdout",
     "output_type": "stream",
     "text": [
      "218 3ftd\n",
      "219 3fva\n"
     ]
    },
    {
     "name": "stderr",
     "output_type": "stream",
     "text": [
      "/wsu/home/fr/fr15/fr1583/K/NMAcomp/multiscale.py:54: RuntimeWarning: divide by zero encountered in true_divide\n",
      "  reg.fit(diag_n.T,1/bfactor)\n",
      "/wsu/home/fr/fr15/fr1583/.conda/envs/protein/lib/python3.7/site-packages/Bio/PDB/StructureBuilder.py:92: PDBConstructionWarning: WARNING: Chain A is discontinuous at line 3196.\n",
      "  PDBConstructionWarning,\n",
      "/wsu/home/fr/fr15/fr1583/.conda/envs/protein/lib/python3.7/site-packages/Bio/PDB/StructureBuilder.py:92: PDBConstructionWarning: WARNING: Chain B is discontinuous at line 3356.\n",
      "  PDBConstructionWarning,\n"
     ]
    },
    {
     "name": "stdout",
     "output_type": "stream",
     "text": [
      "Input contains NaN, infinity or a value too large for dtype('float64').\n",
      "220 3g1s\n",
      "221 3gbw\n",
      "222 3ghj\n",
      "223 3hfo\n"
     ]
    },
    {
     "name": "stderr",
     "output_type": "stream",
     "text": [
      "/wsu/home/fr/fr15/fr1583/.conda/envs/protein/lib/python3.7/site-packages/Bio/PDB/StructureBuilder.py:92: PDBConstructionWarning: WARNING: Chain A is discontinuous at line 1630.\n",
      "  PDBConstructionWarning,\n",
      "/wsu/home/fr/fr15/fr1583/.conda/envs/protein/lib/python3.7/site-packages/Bio/PDB/StructureBuilder.py:92: PDBConstructionWarning: WARNING: Chain B is discontinuous at line 1730.\n",
      "  PDBConstructionWarning,\n",
      "/wsu/home/fr/fr15/fr1583/.conda/envs/protein/lib/python3.7/site-packages/Bio/PDB/StructureBuilder.py:92: PDBConstructionWarning: WARNING: Chain C is discontinuous at line 1825.\n",
      "  PDBConstructionWarning,\n"
     ]
    },
    {
     "name": "stdout",
     "output_type": "stream",
     "text": [
      "224 3hhp\n"
     ]
    },
    {
     "name": "stderr",
     "output_type": "stream",
     "text": [
      "/wsu/home/fr/fr15/fr1583/.conda/envs/protein/lib/python3.7/site-packages/Bio/PDB/StructureBuilder.py:92: PDBConstructionWarning: WARNING: Chain A is discontinuous at line 9464.\n",
      "  PDBConstructionWarning,\n",
      "/wsu/home/fr/fr15/fr1583/.conda/envs/protein/lib/python3.7/site-packages/Bio/PDB/StructureBuilder.py:92: PDBConstructionWarning: WARNING: Chain B is discontinuous at line 9583.\n",
      "  PDBConstructionWarning,\n",
      "/wsu/home/fr/fr15/fr1583/.conda/envs/protein/lib/python3.7/site-packages/Bio/PDB/StructureBuilder.py:92: PDBConstructionWarning: WARNING: Chain C is discontinuous at line 9714.\n",
      "  PDBConstructionWarning,\n",
      "/wsu/home/fr/fr15/fr1583/.conda/envs/protein/lib/python3.7/site-packages/Bio/PDB/StructureBuilder.py:92: PDBConstructionWarning: WARNING: Chain D is discontinuous at line 9857.\n",
      "  PDBConstructionWarning,\n"
     ]
    },
    {
     "name": "stdout",
     "output_type": "stream",
     "text": [
      "skipped\n",
      "225 3hny\n",
      "226 3hp4\n",
      "227 3hwu\n",
      "228 3hyd\n",
      "229 3hz8\n",
      "230 3i2v\n",
      "231 3i2z\n",
      "232 3i4o\n"
     ]
    },
    {
     "name": "stderr",
     "output_type": "stream",
     "text": [
      "/wsu/home/fr/fr15/fr1583/.conda/envs/protein/lib/python3.7/site-packages/Bio/PDB/StructureBuilder.py:92: PDBConstructionWarning: WARNING: Chain B is discontinuous at line 1073.\n",
      "  PDBConstructionWarning,\n",
      "/wsu/home/fr/fr15/fr1583/.conda/envs/protein/lib/python3.7/site-packages/Bio/PDB/StructureBuilder.py:92: PDBConstructionWarning: WARNING: Chain A is discontinuous at line 1106.\n",
      "  PDBConstructionWarning,\n",
      "/wsu/home/fr/fr15/fr1583/.conda/envs/protein/lib/python3.7/site-packages/Bio/PDB/StructureBuilder.py:92: PDBConstructionWarning: WARNING: Chain A is discontinuous at line 1255.\n",
      "  PDBConstructionWarning,\n",
      "/wsu/home/fr/fr15/fr1583/.conda/envs/protein/lib/python3.7/site-packages/Bio/PDB/StructureBuilder.py:92: PDBConstructionWarning: WARNING: Chain B is discontinuous at line 1352.\n",
      "  PDBConstructionWarning,\n"
     ]
    },
    {
     "name": "stdout",
     "output_type": "stream",
     "text": [
      "233 3i7m\n",
      "234 3ihs\n"
     ]
    },
    {
     "name": "stderr",
     "output_type": "stream",
     "text": [
      "/wsu/home/fr/fr15/fr1583/.conda/envs/protein/lib/python3.7/site-packages/Bio/PDB/StructureBuilder.py:92: PDBConstructionWarning: WARNING: Chain A is discontinuous at line 1363.\n",
      "  PDBConstructionWarning,\n",
      "/wsu/home/fr/fr15/fr1583/.conda/envs/protein/lib/python3.7/site-packages/Bio/PDB/StructureBuilder.py:92: PDBConstructionWarning: WARNING: Chain B is discontinuous at line 1468.\n",
      "  PDBConstructionWarning,\n",
      "/wsu/home/fr/fr15/fr1583/.conda/envs/protein/lib/python3.7/site-packages/Bio/PDB/StructureBuilder.py:92: PDBConstructionWarning: WARNING: Chain A is discontinuous at line 1286.\n",
      "  PDBConstructionWarning,\n",
      "/wsu/home/fr/fr15/fr1583/.conda/envs/protein/lib/python3.7/site-packages/Bio/PDB/StructureBuilder.py:92: PDBConstructionWarning: WARNING: Chain D is discontinuous at line 1487.\n",
      "  PDBConstructionWarning,\n"
     ]
    },
    {
     "name": "stdout",
     "output_type": "stream",
     "text": [
      "235 3ivv\n"
     ]
    },
    {
     "name": "stderr",
     "output_type": "stream",
     "text": [
      "/wsu/home/fr/fr15/fr1583/.conda/envs/protein/lib/python3.7/site-packages/Bio/PDB/StructureBuilder.py:92: PDBConstructionWarning: WARNING: Chain A is discontinuous at line 1286.\n",
      "  PDBConstructionWarning,\n",
      "/wsu/home/fr/fr15/fr1583/.conda/envs/protein/lib/python3.7/site-packages/Bio/PDB/StructureBuilder.py:92: PDBConstructionWarning: WARNING: Chain D is discontinuous at line 1487.\n",
      "  PDBConstructionWarning,\n"
     ]
    },
    {
     "name": "stdout",
     "output_type": "stream",
     "text": [
      "Found input variables with inconsistent numbers of samples: [149, 150]\n",
      "236 3k6y\n",
      "237 3kbe\n",
      "238 3kgk\n",
      "239 3kzd\n",
      "240 3l41\n"
     ]
    },
    {
     "name": "stderr",
     "output_type": "stream",
     "text": [
      "/wsu/home/fr/fr15/fr1583/.conda/envs/protein/lib/python3.7/site-packages/Bio/PDB/StructureBuilder.py:92: PDBConstructionWarning: WARNING: Chain A is discontinuous at line 1492.\n",
      "  PDBConstructionWarning,\n",
      "/wsu/home/fr/fr15/fr1583/.conda/envs/protein/lib/python3.7/site-packages/Bio/PDB/StructureBuilder.py:92: PDBConstructionWarning: WARNING: Chain B is discontinuous at line 1629.\n",
      "  PDBConstructionWarning,\n",
      "/wsu/home/fr/fr15/fr1583/.conda/envs/protein/lib/python3.7/site-packages/Bio/PDB/StructureBuilder.py:92: PDBConstructionWarning: WARNING: Chain A is discontinuous at line 1745.\n",
      "  PDBConstructionWarning,\n",
      "/wsu/home/fr/fr15/fr1583/.conda/envs/protein/lib/python3.7/site-packages/Bio/PDB/StructureBuilder.py:92: PDBConstructionWarning: WARNING: Chain B is discontinuous at line 2150.\n",
      "  PDBConstructionWarning,\n"
     ]
    },
    {
     "name": "stdout",
     "output_type": "stream",
     "text": [
      "241 3laa\n",
      "242 3lax\n",
      "243 3lg3\n"
     ]
    },
    {
     "name": "stderr",
     "output_type": "stream",
     "text": [
      "/wsu/home/fr/fr15/fr1583/.conda/envs/protein/lib/python3.7/site-packages/Bio/PDB/StructureBuilder.py:92: PDBConstructionWarning: WARNING: Chain A is discontinuous at line 6699.\n",
      "  PDBConstructionWarning,\n",
      "/wsu/home/fr/fr15/fr1583/.conda/envs/protein/lib/python3.7/site-packages/Bio/PDB/StructureBuilder.py:92: PDBConstructionWarning: WARNING: Chain B is discontinuous at line 7316.\n",
      "  PDBConstructionWarning,\n"
     ]
    },
    {
     "name": "stdout",
     "output_type": "stream",
     "text": [
      "244 3lji\n",
      "245 3m3p\n",
      "246 3m8j\n"
     ]
    },
    {
     "name": "stderr",
     "output_type": "stream",
     "text": [
      "/wsu/home/fr/fr15/fr1583/.conda/envs/protein/lib/python3.7/site-packages/Bio/PDB/StructureBuilder.py:92: PDBConstructionWarning: WARNING: Chain A is discontinuous at line 1396.\n",
      "  PDBConstructionWarning,\n",
      "/wsu/home/fr/fr15/fr1583/.conda/envs/protein/lib/python3.7/site-packages/Bio/PDB/StructureBuilder.py:92: PDBConstructionWarning: WARNING: Chain B is discontinuous at line 1463.\n",
      "  PDBConstructionWarning,\n",
      "/wsu/home/fr/fr15/fr1583/.conda/envs/protein/lib/python3.7/site-packages/Bio/PDB/StructureBuilder.py:92: PDBConstructionWarning: WARNING: Chain A is discontinuous at line 1955.\n",
      "  PDBConstructionWarning,\n",
      "/wsu/home/fr/fr15/fr1583/.conda/envs/protein/lib/python3.7/site-packages/Bio/PDB/StructureBuilder.py:92: PDBConstructionWarning: WARNING: Chain B is discontinuous at line 2057.\n",
      "  PDBConstructionWarning,\n"
     ]
    },
    {
     "name": "stdout",
     "output_type": "stream",
     "text": [
      "247 3m9j\n",
      "248 3m9q\n"
     ]
    },
    {
     "name": "stderr",
     "output_type": "stream",
     "text": [
      "/wsu/home/fr/fr15/fr1583/.conda/envs/protein/lib/python3.7/site-packages/Bio/PDB/StructureBuilder.py:92: PDBConstructionWarning: WARNING: Chain A is discontinuous at line 1577.\n",
      "  PDBConstructionWarning,\n",
      "/wsu/home/fr/fr15/fr1583/.conda/envs/protein/lib/python3.7/site-packages/Bio/PDB/StructureBuilder.py:92: PDBConstructionWarning: WARNING: Chain B is discontinuous at line 1849.\n",
      "  PDBConstructionWarning,\n",
      "/wsu/home/fr/fr15/fr1583/.conda/envs/protein/lib/python3.7/site-packages/Bio/PDB/StructureBuilder.py:92: PDBConstructionWarning: WARNING: Chain A is discontinuous at line 1417.\n",
      "  PDBConstructionWarning,\n"
     ]
    },
    {
     "name": "stdout",
     "output_type": "stream",
     "text": [
      "249 3mab\n"
     ]
    },
    {
     "name": "stderr",
     "output_type": "stream",
     "text": [
      "/wsu/home/fr/fr15/fr1583/.conda/envs/protein/lib/python3.7/site-packages/Bio/PDB/StructureBuilder.py:92: PDBConstructionWarning: WARNING: Chain B is discontinuous at line 1519.\n",
      "  PDBConstructionWarning,\n",
      "/wsu/home/fr/fr15/fr1583/.conda/envs/protein/lib/python3.7/site-packages/Bio/PDB/StructureBuilder.py:92: PDBConstructionWarning: WARNING: Chain A is discontinuous at line 91.\n",
      "  PDBConstructionWarning,\n",
      "/wsu/home/fr/fr15/fr1583/.conda/envs/protein/lib/python3.7/site-packages/Bio/PDB/StructureBuilder.py:92: PDBConstructionWarning: WARNING: Chain B is discontinuous at line 97.\n",
      "  PDBConstructionWarning,\n",
      "/wsu/home/fr/fr15/fr1583/.conda/envs/protein/lib/python3.7/site-packages/Bio/PDB/StructureBuilder.py:92: PDBConstructionWarning: WARNING: Chain A is discontinuous at line 93.\n",
      "  PDBConstructionWarning,\n",
      "/wsu/home/fr/fr15/fr1583/.conda/envs/protein/lib/python3.7/site-packages/Bio/PDB/StructureBuilder.py:92: PDBConstructionWarning: WARNING: Chain B is discontinuous at line 96.\n",
      "  PDBConstructionWarning,\n",
      "/wsu/home/fr/fr15/fr1583/.conda/envs/protein/lib/python3.7/site-packages/Bio/PDB/StructureBuilder.py:92: PDBConstructionWarning: WARNING: Chain A is discontinuous at line 1317.\n",
      "  PDBConstructionWarning,\n",
      "/wsu/home/fr/fr15/fr1583/.conda/envs/protein/lib/python3.7/site-packages/Bio/PDB/StructureBuilder.py:92: PDBConstructionWarning: WARNING: Chain B is discontinuous at line 1473.\n",
      "  PDBConstructionWarning,\n"
     ]
    },
    {
     "name": "stdout",
     "output_type": "stream",
     "text": [
      "250 3md4\n",
      "251 3md5\n",
      "252 3mea\n",
      "253 3mgn\n"
     ]
    },
    {
     "name": "stderr",
     "output_type": "stream",
     "text": [
      "/wsu/home/fr/fr15/fr1583/.conda/envs/protein/lib/python3.7/site-packages/Bio/PDB/StructureBuilder.py:92: PDBConstructionWarning: WARNING: Chain A is discontinuous at line 3038.\n",
      "  PDBConstructionWarning,\n",
      "/wsu/home/fr/fr15/fr1583/.conda/envs/protein/lib/python3.7/site-packages/Bio/PDB/StructureBuilder.py:92: PDBConstructionWarning: WARNING: Chain B is discontinuous at line 3101.\n",
      "  PDBConstructionWarning,\n",
      "/wsu/home/fr/fr15/fr1583/.conda/envs/protein/lib/python3.7/site-packages/Bio/PDB/StructureBuilder.py:92: PDBConstructionWarning: WARNING: Chain C is discontinuous at line 3169.\n",
      "  PDBConstructionWarning,\n",
      "/wsu/home/fr/fr15/fr1583/.conda/envs/protein/lib/python3.7/site-packages/Bio/PDB/StructureBuilder.py:92: PDBConstructionWarning: WARNING: Chain D is discontinuous at line 3215.\n",
      "  PDBConstructionWarning,\n",
      "/wsu/home/fr/fr15/fr1583/.conda/envs/protein/lib/python3.7/site-packages/Bio/PDB/StructureBuilder.py:92: PDBConstructionWarning: WARNING: Chain E is discontinuous at line 3267.\n",
      "  PDBConstructionWarning,\n",
      "/wsu/home/fr/fr15/fr1583/.conda/envs/protein/lib/python3.7/site-packages/Bio/PDB/StructureBuilder.py:92: PDBConstructionWarning: WARNING: Chain F is discontinuous at line 3300.\n",
      "  PDBConstructionWarning,\n",
      "/wsu/home/fr/fr15/fr1583/.conda/envs/protein/lib/python3.7/site-packages/Bio/PDB/StructureBuilder.py:92: PDBConstructionWarning: WARNING: Chain G is discontinuous at line 3326.\n",
      "  PDBConstructionWarning,\n",
      "/wsu/home/fr/fr15/fr1583/.conda/envs/protein/lib/python3.7/site-packages/Bio/PDB/StructureBuilder.py:92: PDBConstructionWarning: WARNING: Chain H is discontinuous at line 3332.\n",
      "  PDBConstructionWarning,\n",
      "/wsu/home/fr/fr15/fr1583/.conda/envs/protein/lib/python3.7/site-packages/Bio/PDB/StructureBuilder.py:92: PDBConstructionWarning: WARNING: Chain I is discontinuous at line 3357.\n",
      "  PDBConstructionWarning,\n",
      "/wsu/home/fr/fr15/fr1583/.conda/envs/protein/lib/python3.7/site-packages/Bio/PDB/StructureBuilder.py:92: PDBConstructionWarning: WARNING: Chain J is discontinuous at line 3367.\n",
      "  PDBConstructionWarning,\n",
      "/wsu/home/fr/fr15/fr1583/.conda/envs/protein/lib/python3.7/site-packages/Bio/PDB/StructureBuilder.py:92: PDBConstructionWarning: WARNING: Chain K is discontinuous at line 3373.\n",
      "  PDBConstructionWarning,\n",
      "/wsu/home/fr/fr15/fr1583/.conda/envs/protein/lib/python3.7/site-packages/Bio/PDB/StructureBuilder.py:92: PDBConstructionWarning: WARNING: Chain L is discontinuous at line 3388.\n",
      "  PDBConstructionWarning,\n"
     ]
    },
    {
     "name": "stdout",
     "output_type": "stream",
     "text": [
      "254 3mre\n"
     ]
    },
    {
     "name": "stderr",
     "output_type": "stream",
     "text": [
      "/wsu/home/fr/fr15/fr1583/.conda/envs/protein/lib/python3.7/site-packages/Bio/PDB/StructureBuilder.py:92: PDBConstructionWarning: WARNING: Chain A is discontinuous at line 3678.\n",
      "  PDBConstructionWarning,\n",
      "/wsu/home/fr/fr15/fr1583/.conda/envs/protein/lib/python3.7/site-packages/Bio/PDB/StructureBuilder.py:92: PDBConstructionWarning: WARNING: Chain B is discontinuous at line 4160.\n",
      "  PDBConstructionWarning,\n",
      "/wsu/home/fr/fr15/fr1583/.conda/envs/protein/lib/python3.7/site-packages/Bio/PDB/StructureBuilder.py:92: PDBConstructionWarning: WARNING: Chain P is discontinuous at line 4348.\n",
      "  PDBConstructionWarning,\n"
     ]
    },
    {
     "name": "stdout",
     "output_type": "stream",
     "text": [
      "255 3n11\n",
      "256 3ne0\n",
      "257 3ngg\n"
     ]
    },
    {
     "name": "stderr",
     "output_type": "stream",
     "text": [
      "/wsu/home/fr/fr15/fr1583/.conda/envs/protein/lib/python3.7/site-packages/Bio/PDB/StructureBuilder.py:92: PDBConstructionWarning: WARNING: Chain A is discontinuous at line 732.\n",
      "  PDBConstructionWarning,\n",
      "/wsu/home/fr/fr15/fr1583/.conda/envs/protein/lib/python3.7/site-packages/Bio/PDB/StructureBuilder.py:92: PDBConstructionWarning: WARNING: Chain B is discontinuous at line 797.\n",
      "  PDBConstructionWarning,\n"
     ]
    },
    {
     "name": "stdout",
     "output_type": "stream",
     "text": [
      "258 3npv\n"
     ]
    },
    {
     "name": "stderr",
     "output_type": "stream",
     "text": [
      "/wsu/home/fr/fr15/fr1583/.conda/envs/protein/lib/python3.7/site-packages/Bio/PDB/StructureBuilder.py:92: PDBConstructionWarning: WARNING: Chain B is discontinuous at line 3711.\n",
      "  PDBConstructionWarning,\n",
      "/wsu/home/fr/fr15/fr1583/.conda/envs/protein/lib/python3.7/site-packages/Bio/PDB/StructureBuilder.py:92: PDBConstructionWarning: WARNING: Chain A is discontinuous at line 3856.\n",
      "  PDBConstructionWarning,\n"
     ]
    },
    {
     "name": "stdout",
     "output_type": "stream",
     "text": [
      "259 3nvg\n",
      "260 3nzl\n",
      "261 3o0p\n",
      "262 3o5p\n",
      "263 3obq\n",
      "264 3oqy\n"
     ]
    },
    {
     "name": "stderr",
     "output_type": "stream",
     "text": [
      "/wsu/home/fr/fr15/fr1583/.conda/envs/protein/lib/python3.7/site-packages/Bio/PDB/StructureBuilder.py:92: PDBConstructionWarning: WARNING: Chain A is discontinuous at line 1195.\n",
      "  PDBConstructionWarning,\n",
      "/wsu/home/fr/fr15/fr1583/.conda/envs/protein/lib/python3.7/site-packages/Bio/PDB/StructureBuilder.py:92: PDBConstructionWarning: WARNING: Chain B is discontinuous at line 1384.\n",
      "  PDBConstructionWarning,\n",
      "/wsu/home/fr/fr15/fr1583/.conda/envs/protein/lib/python3.7/site-packages/Bio/PDB/StructureBuilder.py:92: PDBConstructionWarning: WARNING: Chain b is discontinuous at line 1848.\n",
      "  PDBConstructionWarning,\n",
      "/wsu/home/fr/fr15/fr1583/.conda/envs/protein/lib/python3.7/site-packages/Bio/PDB/StructureBuilder.py:92: PDBConstructionWarning: WARNING: Chain B is discontinuous at line 1885.\n",
      "  PDBConstructionWarning,\n",
      "/wsu/home/fr/fr15/fr1583/.conda/envs/protein/lib/python3.7/site-packages/Bio/PDB/StructureBuilder.py:92: PDBConstructionWarning: WARNING: Chain a is discontinuous at line 2033.\n",
      "  PDBConstructionWarning,\n",
      "/wsu/home/fr/fr15/fr1583/.conda/envs/protein/lib/python3.7/site-packages/Bio/PDB/StructureBuilder.py:92: PDBConstructionWarning: WARNING: Chain A is discontinuous at line 2063.\n",
      "  PDBConstructionWarning,\n"
     ]
    },
    {
     "name": "stdout",
     "output_type": "stream",
     "text": [
      "265 3p6j\n",
      "266 3pd7\n"
     ]
    },
    {
     "name": "stderr",
     "output_type": "stream",
     "text": [
      "/wsu/home/fr/fr15/fr1583/.conda/envs/protein/lib/python3.7/site-packages/Bio/PDB/StructureBuilder.py:92: PDBConstructionWarning: WARNING: Chain A is discontinuous at line 3408.\n",
      "  PDBConstructionWarning,\n",
      "/wsu/home/fr/fr15/fr1583/.conda/envs/protein/lib/python3.7/site-packages/Bio/PDB/StructureBuilder.py:92: PDBConstructionWarning: WARNING: Chain B is discontinuous at line 3587.\n",
      "  PDBConstructionWarning,\n",
      "/wsu/home/fr/fr15/fr1583/.conda/envs/protein/lib/python3.7/site-packages/Bio/PDB/StructureBuilder.py:92: PDBConstructionWarning: WARNING: Chain A is discontinuous at line 1342.\n",
      "  PDBConstructionWarning,\n",
      "/wsu/home/fr/fr15/fr1583/.conda/envs/protein/lib/python3.7/site-packages/Bio/PDB/StructureBuilder.py:92: PDBConstructionWarning: WARNING: Chain B is discontinuous at line 1505.\n",
      "  PDBConstructionWarning,\n"
     ]
    },
    {
     "name": "stdout",
     "output_type": "stream",
     "text": [
      "267 3pes\n",
      "268 3pid\n",
      "269 3piw\n",
      "270 3pkv\n",
      "271 3psm\n",
      "272 3ptl\n"
     ]
    },
    {
     "name": "stderr",
     "output_type": "stream",
     "text": [
      "/wsu/home/fr/fr15/fr1583/.conda/envs/protein/lib/python3.7/site-packages/Bio/PDB/StructureBuilder.py:92: PDBConstructionWarning: WARNING: Chain A is discontinuous at line 772.\n",
      "  PDBConstructionWarning,\n",
      "/wsu/home/fr/fr15/fr1583/.conda/envs/protein/lib/python3.7/site-packages/Bio/PDB/StructureBuilder.py:92: PDBConstructionWarning: WARNING: Chain B is discontinuous at line 859.\n",
      "  PDBConstructionWarning,\n",
      "/wsu/home/fr/fr15/fr1583/.conda/envs/protein/lib/python3.7/site-packages/Bio/PDB/StructureBuilder.py:92: PDBConstructionWarning: WARNING: Chain A is discontinuous at line 2101.\n",
      "  PDBConstructionWarning,\n",
      "/wsu/home/fr/fr15/fr1583/.conda/envs/protein/lib/python3.7/site-packages/Bio/PDB/StructureBuilder.py:92: PDBConstructionWarning: WARNING: Chain B is discontinuous at line 2532.\n",
      "  PDBConstructionWarning,\n"
     ]
    },
    {
     "name": "stdout",
     "output_type": "stream",
     "text": [
      "273 3pve\n"
     ]
    },
    {
     "name": "stderr",
     "output_type": "stream",
     "text": [
      "/wsu/home/fr/fr15/fr1583/.conda/envs/protein/lib/python3.7/site-packages/Bio/PDB/StructureBuilder.py:92: PDBConstructionWarning: WARNING: Chain A is discontinuous at line 2656.\n",
      "  PDBConstructionWarning,\n",
      "/wsu/home/fr/fr15/fr1583/.conda/envs/protein/lib/python3.7/site-packages/Bio/PDB/StructureBuilder.py:92: PDBConstructionWarning: WARNING: Chain B is discontinuous at line 2788.\n",
      "  PDBConstructionWarning,\n"
     ]
    },
    {
     "name": "stdout",
     "output_type": "stream",
     "text": [
      "274 3pz9\n",
      "275 3pzz\n",
      "276 3q2x\n",
      "277 3q6l\n",
      "278 3qds\n"
     ]
    },
    {
     "name": "stderr",
     "output_type": "stream",
     "text": [
      "/wsu/home/fr/fr15/fr1583/.conda/envs/protein/lib/python3.7/site-packages/Bio/PDB/StructureBuilder.py:92: PDBConstructionWarning: WARNING: Chain A is discontinuous at line 76.\n",
      "  PDBConstructionWarning,\n",
      "/wsu/home/fr/fr15/fr1583/.conda/envs/protein/lib/python3.7/site-packages/Bio/PDB/StructureBuilder.py:92: PDBConstructionWarning: WARNING: Chain B is discontinuous at line 79.\n",
      "  PDBConstructionWarning,\n",
      "/wsu/home/fr/fr15/fr1583/.conda/envs/protein/lib/python3.7/site-packages/Bio/PDB/StructureBuilder.py:92: PDBConstructionWarning: WARNING: Chain A is discontinuous at line 2240.\n",
      "  PDBConstructionWarning,\n",
      "/wsu/home/fr/fr15/fr1583/.conda/envs/protein/lib/python3.7/site-packages/Bio/PDB/StructureBuilder.py:92: PDBConstructionWarning: WARNING: Chain B is discontinuous at line 2352.\n",
      "  PDBConstructionWarning,\n"
     ]
    },
    {
     "name": "stdout",
     "output_type": "stream",
     "text": [
      "279 3qpa\n",
      "280 3r6d\n",
      "281 3r87\n",
      "282 3rq9\n"
     ]
    },
    {
     "name": "stderr",
     "output_type": "stream",
     "text": [
      "/wsu/home/fr/fr15/fr1583/.conda/envs/protein/lib/python3.7/site-packages/Bio/PDB/StructureBuilder.py:92: PDBConstructionWarning: WARNING: Chain A is discontinuous at line 1363.\n",
      "  PDBConstructionWarning,\n",
      "/wsu/home/fr/fr15/fr1583/.conda/envs/protein/lib/python3.7/site-packages/Bio/PDB/StructureBuilder.py:92: PDBConstructionWarning: WARNING: Chain B is discontinuous at line 1459.\n",
      "  PDBConstructionWarning,\n",
      "/wsu/home/fr/fr15/fr1583/.conda/envs/protein/lib/python3.7/site-packages/Bio/PDB/StructureBuilder.py:92: PDBConstructionWarning: WARNING: Chain A is discontinuous at line 964.\n",
      "  PDBConstructionWarning,\n",
      "/wsu/home/fr/fr15/fr1583/.conda/envs/protein/lib/python3.7/site-packages/Bio/PDB/StructureBuilder.py:92: PDBConstructionWarning: WARNING: Chain B is discontinuous at line 1052.\n",
      "  PDBConstructionWarning,\n"
     ]
    },
    {
     "name": "stdout",
     "output_type": "stream",
     "text": [
      "283 3ry0\n",
      "284 3rzy\n",
      "285 3s0a\n",
      "286 3sd2\n",
      "287 3seb\n",
      "288 3sed\n",
      "Found input variables with inconsistent numbers of samples: [124, 125]\n",
      "289 3so6\n",
      "290 3sr3\n"
     ]
    },
    {
     "name": "stderr",
     "output_type": "stream",
     "text": [
      "/wsu/home/fr/fr15/fr1583/.conda/envs/protein/lib/python3.7/site-packages/Bio/PDB/StructureBuilder.py:92: PDBConstructionWarning: WARNING: Chain A is discontinuous at line 1217.\n",
      "  PDBConstructionWarning,\n",
      "/wsu/home/fr/fr15/fr1583/.conda/envs/protein/lib/python3.7/site-packages/Bio/PDB/StructureBuilder.py:92: PDBConstructionWarning: WARNING: Chain Q is discontinuous at line 1383.\n",
      "  PDBConstructionWarning,\n",
      "/wsu/home/fr/fr15/fr1583/.conda/envs/protein/lib/python3.7/site-packages/Bio/PDB/StructureBuilder.py:92: PDBConstructionWarning: WARNING: Chain A is discontinuous at line 5075.\n",
      "  PDBConstructionWarning,\n",
      "/wsu/home/fr/fr15/fr1583/.conda/envs/protein/lib/python3.7/site-packages/Bio/PDB/StructureBuilder.py:92: PDBConstructionWarning: WARNING: Chain B is discontinuous at line 5427.\n",
      "  PDBConstructionWarning,\n",
      "/wsu/home/fr/fr15/fr1583/.conda/envs/protein/lib/python3.7/site-packages/Bio/PDB/StructureBuilder.py:92: PDBConstructionWarning: WARNING: Chain A is discontinuous at line 1803.\n",
      "  PDBConstructionWarning,\n",
      "/wsu/home/fr/fr15/fr1583/.conda/envs/protein/lib/python3.7/site-packages/Bio/PDB/StructureBuilder.py:92: PDBConstructionWarning: WARNING: Chain B is discontinuous at line 1998.\n",
      "  PDBConstructionWarning,\n"
     ]
    },
    {
     "name": "stdout",
     "output_type": "stream",
     "text": [
      "291 3suk\n",
      "292 3szh\n"
     ]
    },
    {
     "name": "stderr",
     "output_type": "stream",
     "text": [
      "/wsu/home/fr/fr15/fr1583/.conda/envs/protein/lib/python3.7/site-packages/Bio/PDB/StructureBuilder.py:92: PDBConstructionWarning: WARNING: Chain A is discontinuous at line 5510.\n",
      "  PDBConstructionWarning,\n",
      "/wsu/home/fr/fr15/fr1583/.conda/envs/protein/lib/python3.7/site-packages/Bio/PDB/StructureBuilder.py:92: PDBConstructionWarning: WARNING: Chain B is discontinuous at line 5665.\n",
      "  PDBConstructionWarning,\n",
      "/wsu/home/fr/fr15/fr1583/.conda/envs/protein/lib/python3.7/site-packages/Bio/PDB/StructureBuilder.py:92: PDBConstructionWarning: WARNING: Chain C is discontinuous at line 5805.\n",
      "  PDBConstructionWarning,\n",
      "/wsu/home/fr/fr15/fr1583/.conda/envs/protein/lib/python3.7/site-packages/Bio/PDB/StructureBuilder.py:92: PDBConstructionWarning: WARNING: Chain D is discontinuous at line 5941.\n",
      "  PDBConstructionWarning,\n",
      "/wsu/home/fr/fr15/fr1583/.conda/envs/protein/lib/python3.7/site-packages/Bio/PDB/StructureBuilder.py:92: PDBConstructionWarning: WARNING: Chain E is discontinuous at line 6078.\n",
      "  PDBConstructionWarning,\n",
      "/wsu/home/fr/fr15/fr1583/.conda/envs/protein/lib/python3.7/site-packages/Bio/PDB/StructureBuilder.py:92: PDBConstructionWarning: WARNING: Chain F is discontinuous at line 6214.\n",
      "  PDBConstructionWarning,\n"
     ]
    },
    {
     "name": "stdout",
     "output_type": "stream",
     "text": [
      "293 3t0h\n",
      "294 3t3k\n",
      "295 3t47\n"
     ]
    },
    {
     "name": "stderr",
     "output_type": "stream",
     "text": [
      "/wsu/home/fr/fr15/fr1583/.conda/envs/protein/lib/python3.7/site-packages/Bio/PDB/StructureBuilder.py:92: PDBConstructionWarning: WARNING: Chain A is discontinuous at line 2374.\n",
      "  PDBConstructionWarning,\n",
      "/wsu/home/fr/fr15/fr1583/.conda/envs/protein/lib/python3.7/site-packages/Bio/PDB/StructureBuilder.py:92: PDBConstructionWarning: WARNING: Chain B is discontinuous at line 2472.\n",
      "  PDBConstructionWarning,\n"
     ]
    },
    {
     "name": "stdout",
     "output_type": "stream",
     "text": [
      "296 3tdn\n"
     ]
    },
    {
     "name": "stderr",
     "output_type": "stream",
     "text": [
      "/wsu/home/fr/fr15/fr1583/.conda/envs/protein/lib/python3.7/site-packages/Bio/PDB/StructureBuilder.py:92: PDBConstructionWarning: WARNING: Chain A is discontinuous at line 2735.\n",
      "  PDBConstructionWarning,\n",
      "/wsu/home/fr/fr15/fr1583/.conda/envs/protein/lib/python3.7/site-packages/Bio/PDB/StructureBuilder.py:92: PDBConstructionWarning: WARNING: Chain B is discontinuous at line 2819.\n",
      "  PDBConstructionWarning,\n"
     ]
    },
    {
     "name": "stdout",
     "output_type": "stream",
     "text": [
      "297 3tow\n",
      "298 3tua\n",
      "299 3tys\n",
      "300 3u6g\n"
     ]
    },
    {
     "name": "stderr",
     "output_type": "stream",
     "text": [
      "/wsu/home/fr/fr15/fr1583/.conda/envs/protein/lib/python3.7/site-packages/Bio/PDB/StructureBuilder.py:92: PDBConstructionWarning: WARNING: Chain A is discontinuous at line 2011.\n",
      "  PDBConstructionWarning,\n",
      "/wsu/home/fr/fr15/fr1583/.conda/envs/protein/lib/python3.7/site-packages/Bio/PDB/StructureBuilder.py:92: PDBConstructionWarning: WARNING: Chain B is discontinuous at line 2112.\n",
      "  PDBConstructionWarning,\n"
     ]
    },
    {
     "name": "stdout",
     "output_type": "stream",
     "text": [
      "301 3u97\n",
      "302 3uci\n",
      "303 3ur8\n"
     ]
    },
    {
     "name": "stderr",
     "output_type": "stream",
     "text": [
      "/wsu/home/fr/fr15/fr1583/.conda/envs/protein/lib/python3.7/site-packages/Bio/PDB/StructureBuilder.py:92: PDBConstructionWarning: WARNING: Chain A is discontinuous at line 5131.\n",
      "  PDBConstructionWarning,\n",
      "/wsu/home/fr/fr15/fr1583/.conda/envs/protein/lib/python3.7/site-packages/Bio/PDB/StructureBuilder.py:92: PDBConstructionWarning: WARNING: Chain B is discontinuous at line 5559.\n",
      "  PDBConstructionWarning,\n"
     ]
    },
    {
     "name": "stdout",
     "output_type": "stream",
     "text": [
      "304 3us6\n",
      "305 3v1a\n",
      "306 3v75\n",
      "307 3vn0\n"
     ]
    },
    {
     "name": "stderr",
     "output_type": "stream",
     "text": [
      "/wsu/home/fr/fr15/fr1583/.conda/envs/protein/lib/python3.7/site-packages/Bio/PDB/StructureBuilder.py:92: PDBConstructionWarning: WARNING: Chain A is discontinuous at line 1690.\n",
      "  PDBConstructionWarning,\n",
      "/wsu/home/fr/fr15/fr1583/.conda/envs/protein/lib/python3.7/site-packages/Bio/PDB/StructureBuilder.py:92: PDBConstructionWarning: WARNING: Chain C is discontinuous at line 1746.\n",
      "  PDBConstructionWarning,\n",
      "/wsu/home/fr/fr15/fr1583/.conda/envs/protein/lib/python3.7/site-packages/Bio/PDB/StructureBuilder.py:92: PDBConstructionWarning: WARNING: Chain B is discontinuous at line 1814.\n",
      "  PDBConstructionWarning,\n",
      "/wsu/home/fr/fr15/fr1583/.conda/envs/protein/lib/python3.7/site-packages/Bio/PDB/StructureBuilder.py:92: PDBConstructionWarning: WARNING: Chain D is discontinuous at line 1878.\n",
      "  PDBConstructionWarning,\n"
     ]
    },
    {
     "name": "stdout",
     "output_type": "stream",
     "text": [
      "308 3vor\n",
      "309 3vub\n",
      "310 3vvv\n",
      "311 3vz9\n"
     ]
    },
    {
     "name": "stderr",
     "output_type": "stream",
     "text": [
      "/wsu/home/fr/fr15/fr1583/.conda/envs/protein/lib/python3.7/site-packages/Bio/PDB/StructureBuilder.py:92: PDBConstructionWarning: WARNING: Chain B is discontinuous at line 1366.\n",
      "  PDBConstructionWarning,\n",
      "/wsu/home/fr/fr15/fr1583/.conda/envs/protein/lib/python3.7/site-packages/Bio/PDB/StructureBuilder.py:92: PDBConstructionWarning: WARNING: Chain D is discontinuous at line 1527.\n",
      "  PDBConstructionWarning,\n"
     ]
    },
    {
     "name": "stdout",
     "output_type": "stream",
     "text": [
      "312 3w4q\n"
     ]
    },
    {
     "name": "stderr",
     "output_type": "stream",
     "text": [
      "/wsu/home/fr/fr15/fr1583/.conda/envs/protein/lib/python3.7/site-packages/Bio/PDB/StructureBuilder.py:92: PDBConstructionWarning: WARNING: Chain A is discontinuous at line 6039.\n",
      "  PDBConstructionWarning,\n",
      "/wsu/home/fr/fr15/fr1583/.conda/envs/protein/lib/python3.7/site-packages/Bio/PDB/StructureBuilder.py:92: PDBConstructionWarning: WARNING: Chain B is discontinuous at line 6338.\n",
      "  PDBConstructionWarning,\n",
      "/wsu/home/fr/fr15/fr1583/.conda/envs/protein/lib/python3.7/site-packages/Bio/PDB/StructureBuilder.py:92: PDBConstructionWarning: WARNING: Chain C is discontinuous at line 6650.\n",
      "  PDBConstructionWarning,\n",
      "/wsu/home/fr/fr15/fr1583/.conda/envs/protein/lib/python3.7/site-packages/Bio/PDB/StructureBuilder.py:92: PDBConstructionWarning: WARNING: Chain A is discontinuous at line 6039.\n",
      "  PDBConstructionWarning,\n",
      "/wsu/home/fr/fr15/fr1583/.conda/envs/protein/lib/python3.7/site-packages/Bio/PDB/StructureBuilder.py:92: PDBConstructionWarning: WARNING: Chain B is discontinuous at line 6338.\n",
      "  PDBConstructionWarning,\n",
      "/wsu/home/fr/fr15/fr1583/.conda/envs/protein/lib/python3.7/site-packages/Bio/PDB/StructureBuilder.py:92: PDBConstructionWarning: WARNING: Chain C is discontinuous at line 6650.\n",
      "  PDBConstructionWarning,\n"
     ]
    },
    {
     "name": "stdout",
     "output_type": "stream",
     "text": [
      "Found input variables with inconsistent numbers of samples: [773, 774]\n",
      "313 3zbd\n"
     ]
    },
    {
     "name": "stderr",
     "output_type": "stream",
     "text": [
      "/wsu/home/fr/fr15/fr1583/.conda/envs/protein/lib/python3.7/site-packages/Bio/PDB/StructureBuilder.py:92: PDBConstructionWarning: WARNING: Chain A is discontinuous at line 1718.\n",
      "  PDBConstructionWarning,\n",
      "/wsu/home/fr/fr15/fr1583/.conda/envs/protein/lib/python3.7/site-packages/Bio/PDB/StructureBuilder.py:92: PDBConstructionWarning: WARNING: Chain B is discontinuous at line 1839.\n",
      "  PDBConstructionWarning,\n",
      "/wsu/home/fr/fr15/fr1583/.conda/envs/protein/lib/python3.7/site-packages/Bio/PDB/StructureBuilder.py:92: PDBConstructionWarning: WARNING: Chain A is discontinuous at line 1260.\n",
      "  PDBConstructionWarning,\n",
      "/wsu/home/fr/fr15/fr1583/.conda/envs/protein/lib/python3.7/site-packages/Bio/PDB/StructureBuilder.py:92: PDBConstructionWarning: WARNING: Chain B is discontinuous at line 1283.\n",
      "  PDBConstructionWarning,\n"
     ]
    },
    {
     "name": "stdout",
     "output_type": "stream",
     "text": [
      "314 3zit\n",
      "315 3zrx\n"
     ]
    },
    {
     "name": "stderr",
     "output_type": "stream",
     "text": [
      "/wsu/home/fr/fr15/fr1583/.conda/envs/protein/lib/python3.7/site-packages/Bio/PDB/StructureBuilder.py:92: PDBConstructionWarning: WARNING: Chain A is discontinuous at line 1853.\n",
      "  PDBConstructionWarning,\n",
      "/wsu/home/fr/fr15/fr1583/.conda/envs/protein/lib/python3.7/site-packages/Bio/PDB/StructureBuilder.py:92: PDBConstructionWarning: WARNING: Chain B is discontinuous at line 1983.\n",
      "  PDBConstructionWarning,\n"
     ]
    },
    {
     "name": "stdout",
     "output_type": "stream",
     "text": [
      "316 3zsl\n",
      "317 3zzp\n",
      "318 3zzy\n"
     ]
    },
    {
     "name": "stderr",
     "output_type": "stream",
     "text": [
      "/wsu/home/fr/fr15/fr1583/.conda/envs/protein/lib/python3.7/site-packages/Bio/PDB/StructureBuilder.py:92: PDBConstructionWarning: WARNING: Chain A is discontinuous at line 1741.\n",
      "  PDBConstructionWarning,\n",
      "/wsu/home/fr/fr15/fr1583/.conda/envs/protein/lib/python3.7/site-packages/Bio/PDB/StructureBuilder.py:92: PDBConstructionWarning: WARNING: Chain B is discontinuous at line 1846.\n",
      "  PDBConstructionWarning,\n",
      "/wsu/home/fr/fr15/fr1583/.conda/envs/protein/lib/python3.7/site-packages/Bio/PDB/StructureBuilder.py:92: PDBConstructionWarning: WARNING: Chain C is discontinuous at line 1925.\n",
      "  PDBConstructionWarning,\n",
      "/wsu/home/fr/fr15/fr1583/.conda/envs/protein/lib/python3.7/site-packages/Bio/PDB/StructureBuilder.py:92: PDBConstructionWarning: WARNING: Chain D is discontinuous at line 1930.\n",
      "  PDBConstructionWarning,\n"
     ]
    },
    {
     "name": "stdout",
     "output_type": "stream",
     "text": [
      "319 4a02\n",
      "320 4acj\n",
      "321 4ae7\n",
      "322 4am1\n",
      "323 4ann\n",
      "324 4avr\n"
     ]
    },
    {
     "name": "stderr",
     "output_type": "stream",
     "text": [
      "/wsu/home/fr/fr15/fr1583/.conda/envs/protein/lib/python3.7/site-packages/Bio/PDB/StructureBuilder.py:92: PDBConstructionWarning: WARNING: Chain A is discontinuous at line 1455.\n",
      "  PDBConstructionWarning,\n",
      "/wsu/home/fr/fr15/fr1583/.conda/envs/protein/lib/python3.7/site-packages/Bio/PDB/StructureBuilder.py:92: PDBConstructionWarning: WARNING: Chain B is discontinuous at line 1565.\n",
      "  PDBConstructionWarning,\n",
      "/wsu/home/fr/fr15/fr1583/.conda/envs/protein/lib/python3.7/site-packages/Bio/PDB/StructureBuilder.py:92: PDBConstructionWarning: WARNING: Chain A is discontinuous at line 716.\n",
      "  PDBConstructionWarning,\n",
      "/wsu/home/fr/fr15/fr1583/.conda/envs/protein/lib/python3.7/site-packages/Bio/PDB/StructureBuilder.py:92: PDBConstructionWarning: WARNING: Chain B is discontinuous at line 744.\n",
      "  PDBConstructionWarning,\n",
      "/wsu/home/fr/fr15/fr1583/.conda/envs/protein/lib/python3.7/site-packages/Bio/PDB/StructureBuilder.py:92: PDBConstructionWarning: WARNING: Chain C is discontinuous at line 765.\n",
      "  PDBConstructionWarning,\n"
     ]
    },
    {
     "name": "stdout",
     "output_type": "stream",
     "text": [
      "325 4axy\n",
      "326 4b6g\n"
     ]
    },
    {
     "name": "stderr",
     "output_type": "stream",
     "text": [
      "/wsu/home/fr/fr15/fr1583/.conda/envs/protein/lib/python3.7/site-packages/Bio/PDB/StructureBuilder.py:92: PDBConstructionWarning: WARNING: Chain A is discontinuous at line 8842.\n",
      "  PDBConstructionWarning,\n",
      "/wsu/home/fr/fr15/fr1583/.conda/envs/protein/lib/python3.7/site-packages/Bio/PDB/StructureBuilder.py:92: PDBConstructionWarning: WARNING: Chain B is discontinuous at line 9235.\n",
      "  PDBConstructionWarning,\n"
     ]
    },
    {
     "name": "stdout",
     "output_type": "stream",
     "text": [
      "327 4b9g\n"
     ]
    },
    {
     "name": "stderr",
     "output_type": "stream",
     "text": [
      "/wsu/home/fr/fr15/fr1583/.conda/envs/protein/lib/python3.7/site-packages/Bio/PDB/StructureBuilder.py:92: PDBConstructionWarning: WARNING: Chain A is discontinuous at line 4378.\n",
      "  PDBConstructionWarning,\n",
      "/wsu/home/fr/fr15/fr1583/.conda/envs/protein/lib/python3.7/site-packages/Bio/PDB/StructureBuilder.py:92: PDBConstructionWarning: WARNING: Chain B is discontinuous at line 4632.\n",
      "  PDBConstructionWarning,\n"
     ]
    },
    {
     "name": "stdout",
     "output_type": "stream",
     "text": [
      "328 4dd5\n",
      "329 4dkn\n"
     ]
    },
    {
     "name": "stderr",
     "output_type": "stream",
     "text": [
      "/wsu/home/fr/fr15/fr1583/.conda/envs/protein/lib/python3.7/site-packages/Bio/PDB/StructureBuilder.py:92: PDBConstructionWarning: WARNING: Chain A is discontinuous at line 3394.\n",
      "  PDBConstructionWarning,\n",
      "/wsu/home/fr/fr15/fr1583/.conda/envs/protein/lib/python3.7/site-packages/Bio/PDB/StructureBuilder.py:92: PDBConstructionWarning: WARNING: Chain B is discontinuous at line 3649.\n",
      "  PDBConstructionWarning,\n"
     ]
    },
    {
     "name": "stdout",
     "output_type": "stream",
     "text": [
      "330 4dnd\n",
      "331 4dpz\n",
      "Found input variables with inconsistent numbers of samples: [109, 110]\n",
      "332 4dq7\n"
     ]
    },
    {
     "name": "stderr",
     "output_type": "stream",
     "text": [
      "/wsu/home/fr/fr15/fr1583/.conda/envs/protein/lib/python3.7/site-packages/Bio/PDB/StructureBuilder.py:92: PDBConstructionWarning: WARNING: Chain A is discontinuous at line 5214.\n",
      "  PDBConstructionWarning,\n",
      "/wsu/home/fr/fr15/fr1583/.conda/envs/protein/lib/python3.7/site-packages/Bio/PDB/StructureBuilder.py:92: PDBConstructionWarning: WARNING: Chain B is discontinuous at line 5376.\n",
      "  PDBConstructionWarning,\n"
     ]
    },
    {
     "name": "stdout",
     "output_type": "stream",
     "text": [
      "333 4dt4\n",
      "334 4ek3\n",
      "335 4ery\n",
      "336 4es1\n"
     ]
    },
    {
     "name": "stderr",
     "output_type": "stream",
     "text": [
      "/wsu/home/fr/fr15/fr1583/.conda/envs/protein/lib/python3.7/site-packages/Bio/PDB/StructureBuilder.py:92: PDBConstructionWarning: WARNING: Chain A is discontinuous at line 2457.\n",
      "  PDBConstructionWarning,\n",
      "/wsu/home/fr/fr15/fr1583/.conda/envs/protein/lib/python3.7/site-packages/Bio/PDB/StructureBuilder.py:92: PDBConstructionWarning: WARNING: Chain D is discontinuous at line 2961.\n",
      "  PDBConstructionWarning,\n"
     ]
    },
    {
     "name": "stdout",
     "output_type": "stream",
     "text": [
      "337 4eug\n",
      "338 4f01\n"
     ]
    },
    {
     "name": "stderr",
     "output_type": "stream",
     "text": [
      "/wsu/home/fr/fr15/fr1583/.conda/envs/protein/lib/python3.7/site-packages/Bio/PDB/StructureBuilder.py:92: PDBConstructionWarning: WARNING: Chain A is discontinuous at line 3472.\n",
      "  PDBConstructionWarning,\n",
      "/wsu/home/fr/fr15/fr1583/.conda/envs/protein/lib/python3.7/site-packages/Bio/PDB/StructureBuilder.py:92: PDBConstructionWarning: WARNING: Chain B is discontinuous at line 3727.\n",
      "  PDBConstructionWarning,\n"
     ]
    },
    {
     "name": "stdout",
     "output_type": "stream",
     "text": [
      "339 4f3j\n",
      "340 4fr9\n",
      "341 4g14\n",
      "342 4g2e\n",
      "343 4g5x\n"
     ]
    },
    {
     "name": "stderr",
     "output_type": "stream",
     "text": [
      "/wsu/home/fr/fr15/fr1583/.conda/envs/protein/lib/python3.7/site-packages/Bio/PDB/StructureBuilder.py:92: PDBConstructionWarning: WARNING: Chain A is discontinuous at line 4430.\n",
      "  PDBConstructionWarning,\n",
      "/wsu/home/fr/fr15/fr1583/.conda/envs/protein/lib/python3.7/site-packages/Bio/PDB/StructureBuilder.py:92: PDBConstructionWarning: WARNING: Chain B is discontinuous at line 4890.\n",
      "  PDBConstructionWarning,\n"
     ]
    },
    {
     "name": "stdout",
     "output_type": "stream",
     "text": [
      "344 4g6c\n"
     ]
    },
    {
     "name": "stderr",
     "output_type": "stream",
     "text": [
      "/wsu/home/fr/fr15/fr1583/.conda/envs/protein/lib/python3.7/site-packages/Bio/PDB/StructureBuilder.py:92: PDBConstructionWarning: WARNING: Chain A is discontinuous at line 5008.\n",
      "  PDBConstructionWarning,\n",
      "/wsu/home/fr/fr15/fr1583/.conda/envs/protein/lib/python3.7/site-packages/Bio/PDB/StructureBuilder.py:92: PDBConstructionWarning: WARNING: Chain B is discontinuous at line 5343.\n",
      "  PDBConstructionWarning,\n",
      "/wsu/home/fr/fr15/fr1583/.conda/envs/protein/lib/python3.7/site-packages/Bio/PDB/StructureBuilder.py:92: PDBConstructionWarning: WARNING: Chain A is discontinuous at line 1658.\n",
      "  PDBConstructionWarning,\n",
      "/wsu/home/fr/fr15/fr1583/.conda/envs/protein/lib/python3.7/site-packages/Bio/PDB/StructureBuilder.py:92: PDBConstructionWarning: WARNING: Chain B is discontinuous at line 1762.\n",
      "  PDBConstructionWarning,\n"
     ]
    },
    {
     "name": "stdout",
     "output_type": "stream",
     "text": [
      "345 4g7x\n",
      "346 4ga2\n",
      "347 4gmq\n",
      "348 4gs3\n",
      "349 4h4j\n",
      "350 4h89\n",
      "351 4hde\n",
      "352 4hjp\n",
      "353 4hwm\n",
      "354 4il7\n",
      "355 4j11\n"
     ]
    },
    {
     "name": "stderr",
     "output_type": "stream",
     "text": [
      "/wsu/home/fr/fr15/fr1583/.conda/envs/protein/lib/python3.7/site-packages/Bio/PDB/StructureBuilder.py:92: PDBConstructionWarning: WARNING: Chain A is discontinuous at line 2946.\n",
      "  PDBConstructionWarning,\n",
      "/wsu/home/fr/fr15/fr1583/.conda/envs/protein/lib/python3.7/site-packages/Bio/PDB/StructureBuilder.py:92: PDBConstructionWarning: WARNING: Chain B is discontinuous at line 3062.\n",
      "  PDBConstructionWarning,\n",
      "/wsu/home/fr/fr15/fr1583/.conda/envs/protein/lib/python3.7/site-packages/Bio/PDB/StructureBuilder.py:92: PDBConstructionWarning: WARNING: Chain C is discontinuous at line 3200.\n",
      "  PDBConstructionWarning,\n",
      "/wsu/home/fr/fr15/fr1583/.conda/envs/protein/lib/python3.7/site-packages/Bio/PDB/StructureBuilder.py:92: PDBConstructionWarning: WARNING: Chain D is discontinuous at line 3304.\n",
      "  PDBConstructionWarning,\n",
      "/wsu/home/fr/fr15/fr1583/.conda/envs/protein/lib/python3.7/site-packages/Bio/PDB/StructureBuilder.py:92: PDBConstructionWarning: WARNING: Chain A is discontinuous at line 1959.\n",
      "  PDBConstructionWarning,\n",
      "/wsu/home/fr/fr15/fr1583/.conda/envs/protein/lib/python3.7/site-packages/Bio/PDB/StructureBuilder.py:92: PDBConstructionWarning: WARNING: Chain B is discontinuous at line 2070.\n",
      "  PDBConstructionWarning,\n"
     ]
    },
    {
     "name": "stdout",
     "output_type": "stream",
     "text": [
      "356 4j5o\n",
      "357 4j5q\n",
      "358 4j78\n"
     ]
    },
    {
     "name": "stderr",
     "output_type": "stream",
     "text": [
      "/wsu/home/fr/fr15/fr1583/.conda/envs/protein/lib/python3.7/site-packages/Bio/PDB/StructureBuilder.py:92: PDBConstructionWarning: WARNING: Chain A is discontinuous at line 2443.\n",
      "  PDBConstructionWarning,\n",
      "/wsu/home/fr/fr15/fr1583/.conda/envs/protein/lib/python3.7/site-packages/Bio/PDB/StructureBuilder.py:92: PDBConstructionWarning: WARNING: Chain B is discontinuous at line 2774.\n",
      "  PDBConstructionWarning,\n"
     ]
    },
    {
     "name": "stdout",
     "output_type": "stream",
     "text": [
      "359 4jg2\n",
      "360 4jvu\n"
     ]
    },
    {
     "name": "stderr",
     "output_type": "stream",
     "text": [
      "/wsu/home/fr/fr15/fr1583/.conda/envs/protein/lib/python3.7/site-packages/Bio/PDB/StructureBuilder.py:92: PDBConstructionWarning: WARNING: Chain A is discontinuous at line 1615.\n",
      "  PDBConstructionWarning,\n",
      "/wsu/home/fr/fr15/fr1583/.conda/envs/protein/lib/python3.7/site-packages/Bio/PDB/StructureBuilder.py:92: PDBConstructionWarning: WARNING: Chain B is discontinuous at line 1775.\n",
      "  PDBConstructionWarning,\n"
     ]
    },
    {
     "name": "stdout",
     "output_type": "stream",
     "text": [
      "361 4jyp\n"
     ]
    },
    {
     "name": "stderr",
     "output_type": "stream",
     "text": [
      "/wsu/home/fr/fr15/fr1583/.conda/envs/protein/lib/python3.7/site-packages/Bio/PDB/StructureBuilder.py:92: PDBConstructionWarning: WARNING: Chain A is discontinuous at line 4233.\n",
      "  PDBConstructionWarning,\n",
      "/wsu/home/fr/fr15/fr1583/.conda/envs/protein/lib/python3.7/site-packages/Bio/PDB/StructureBuilder.py:92: PDBConstructionWarning: WARNING: Chain B is discontinuous at line 4625.\n",
      "  PDBConstructionWarning,\n"
     ]
    },
    {
     "name": "stdout",
     "output_type": "stream",
     "text": [
      "362 4kef\n",
      "363 5cyt\n",
      "364 6rxn\n"
     ]
    }
   ],
   "source": [
    "model = 'mGNM'\n",
    "kernel = 'lorentz'\n",
    "# with mp.Pool(mp.cpu_count()) as pool:\n",
    "#     pcc_total = pool.starmap(pcc_pool, [(pair,model,kernel) for pair in enumerate(nameset)])\n",
    "\n",
    "\n",
    "pcc_total = calc_save(model,kernel,nameset[:precalc],exclude_long = 1000)\n",
    "pcc_acc2=np.average(pcc_total,axis=0)"
   ]
  },
  {
   "cell_type": "code",
   "execution_count": 29,
   "metadata": {
    "scrolled": true
   },
   "outputs": [
    {
     "data": {
      "image/png": "[encoded data removed]",
      "text/plain": [
       "<Figure size 432x288 with 2 Axes>"
      ]
     },
     "metadata": {
      "needs_background": "light"
     },
     "output_type": "display_data"
    }
   ],
   "source": [
    "\n",
    "plt.imshow(pcc_acc2)\n",
    "plt.colorbar()\n",
    "plt.title(f'{model}, {kernel}')\n",
    "plt.show()"
   ]
  },
  {
   "cell_type": "markdown",
   "metadata": {},
   "source": [
    "### This is a mutiscale NMA test notebook\n"
   ]
  },
  {
   "cell_type": "code",
   "execution_count": 11,
   "metadata": {
    "scrolled": true
   },
   "outputs": [
    {
     "data": {
      "text/plain": [
       "(1, 5)"
      ]
     },
     "execution_count": 11,
     "metadata": {},
     "output_type": "execute_result"
    }
   ],
   "source": [
    "np.unravel_index(np.argmax(pcc_acc2), pcc_acc2.shape)"
   ]
  },
  {
   "cell_type": "code",
   "execution_count": 12,
   "metadata": {},
   "outputs": [
    {
     "data": {
      "text/plain": [
       "0.6202088981900818"
      ]
     },
     "execution_count": 12,
     "metadata": {},
     "output_type": "execute_result"
    }
   ],
   "source": [
    "np.max(pcc_acc2)"
   ]
  },
  {
   "cell_type": "code",
   "execution_count": 13,
   "metadata": {},
   "outputs": [
    {
     "name": "stdout",
     "output_type": "stream",
     "text": [
      "[Errno 17] File exists: './result/mGNM_ilf/'\n",
      "0 1aba\n",
      "1 1agn\n"
     ]
    },
    {
     "name": "stderr",
     "output_type": "stream",
     "text": [
      "/wsu/home/fr/fr15/fr1583/.conda/envs/protein/lib/python3.7/site-packages/Bio/PDB/StructureBuilder.py:92: PDBConstructionWarning: WARNING: Chain A is discontinuous at line 11156.\n",
      "  PDBConstructionWarning,\n",
      "/wsu/home/fr/fr15/fr1583/.conda/envs/protein/lib/python3.7/site-packages/Bio/PDB/StructureBuilder.py:92: PDBConstructionWarning: WARNING: Chain B is discontinuous at line 11215.\n",
      "  PDBConstructionWarning,\n",
      "/wsu/home/fr/fr15/fr1583/.conda/envs/protein/lib/python3.7/site-packages/Bio/PDB/StructureBuilder.py:92: PDBConstructionWarning: WARNING: Chain C is discontinuous at line 11280.\n",
      "  PDBConstructionWarning,\n",
      "/wsu/home/fr/fr15/fr1583/.conda/envs/protein/lib/python3.7/site-packages/Bio/PDB/StructureBuilder.py:92: PDBConstructionWarning: WARNING: Chain D is discontinuous at line 11331.\n",
      "  PDBConstructionWarning,\n",
      "/wsu/home/fr/fr15/fr1583/.conda/envs/protein/lib/python3.7/site-packages/Bio/PDB/StructureBuilder.py:92: PDBConstructionWarning: WARNING: Chain A is discontinuous at line 11388.\n",
      "  PDBConstructionWarning,\n",
      "/wsu/home/fr/fr15/fr1583/.conda/envs/protein/lib/python3.7/site-packages/Bio/PDB/StructureBuilder.py:92: PDBConstructionWarning: WARNING: Chain B is discontinuous at line 11389.\n",
      "  PDBConstructionWarning,\n",
      "/wsu/home/fr/fr15/fr1583/.conda/envs/protein/lib/python3.7/site-packages/Bio/PDB/StructureBuilder.py:92: PDBConstructionWarning: WARNING: Chain C is discontinuous at line 11393.\n",
      "  PDBConstructionWarning,\n",
      "/wsu/home/fr/fr15/fr1583/.conda/envs/protein/lib/python3.7/site-packages/Bio/PDB/StructureBuilder.py:92: PDBConstructionWarning: WARNING: Chain D is discontinuous at line 11394.\n",
      "  PDBConstructionWarning,\n"
     ]
    },
    {
     "name": "stdout",
     "output_type": "stream",
     "text": [
      "skipped\n",
      "2 1aho\n",
      "3 1aie\n",
      "4 1akg\n",
      "5 1atg\n",
      "6 1bgf\n",
      "7 1bx7\n",
      "8 1byi\n",
      "9 1ccr\n",
      "10 1cyo\n",
      "11 1df4\n",
      "12 1e5k\n",
      "13 1es5\n",
      "14 1etl\n",
      "15 1etm\n",
      "16 1etn\n",
      "17 1ew4\n",
      "18 1f8r\n"
     ]
    },
    {
     "name": "stderr",
     "output_type": "stream",
     "text": [
      "/wsu/home/fr/fr15/fr1583/.conda/envs/protein/lib/python3.7/site-packages/Bio/PDB/StructureBuilder.py:92: PDBConstructionWarning: WARNING: Chain A is discontinuous at line 15443.\n",
      "  PDBConstructionWarning,\n",
      "/wsu/home/fr/fr15/fr1583/.conda/envs/protein/lib/python3.7/site-packages/Bio/PDB/StructureBuilder.py:92: PDBConstructionWarning: WARNING: Chain B is discontinuous at line 15523.\n",
      "  PDBConstructionWarning,\n",
      "/wsu/home/fr/fr15/fr1583/.conda/envs/protein/lib/python3.7/site-packages/Bio/PDB/StructureBuilder.py:92: PDBConstructionWarning: WARNING: Chain C is discontinuous at line 15603.\n",
      "  PDBConstructionWarning,\n",
      "/wsu/home/fr/fr15/fr1583/.conda/envs/protein/lib/python3.7/site-packages/Bio/PDB/StructureBuilder.py:92: PDBConstructionWarning: WARNING: Chain D is discontinuous at line 15683.\n",
      "  PDBConstructionWarning,\n",
      "/wsu/home/fr/fr15/fr1583/.conda/envs/protein/lib/python3.7/site-packages/Bio/PDB/StructureBuilder.py:92: PDBConstructionWarning: WARNING: Chain A is discontinuous at line 15763.\n",
      "  PDBConstructionWarning,\n",
      "/wsu/home/fr/fr15/fr1583/.conda/envs/protein/lib/python3.7/site-packages/Bio/PDB/StructureBuilder.py:92: PDBConstructionWarning: WARNING: Chain B is discontinuous at line 16229.\n",
      "  PDBConstructionWarning,\n",
      "/wsu/home/fr/fr15/fr1583/.conda/envs/protein/lib/python3.7/site-packages/Bio/PDB/StructureBuilder.py:92: PDBConstructionWarning: WARNING: Chain C is discontinuous at line 16726.\n",
      "  PDBConstructionWarning,\n",
      "/wsu/home/fr/fr15/fr1583/.conda/envs/protein/lib/python3.7/site-packages/Bio/PDB/StructureBuilder.py:92: PDBConstructionWarning: WARNING: Chain D is discontinuous at line 17187.\n",
      "  PDBConstructionWarning,\n"
     ]
    },
    {
     "name": "stdout",
     "output_type": "stream",
     "text": [
      "skipped\n",
      "19 1ff4\n",
      "20 1fk5\n",
      "21 1gco\n"
     ]
    },
    {
     "name": "stderr",
     "output_type": "stream",
     "text": [
      "/wsu/home/fr/fr15/fr1583/.conda/envs/protein/lib/python3.7/site-packages/Bio/PDB/StructureBuilder.py:92: PDBConstructionWarning: WARNING: Chain A is discontinuous at line 7888.\n",
      "  PDBConstructionWarning,\n",
      "/wsu/home/fr/fr15/fr1583/.conda/envs/protein/lib/python3.7/site-packages/Bio/PDB/StructureBuilder.py:92: PDBConstructionWarning: WARNING: Chain B is discontinuous at line 7932.\n",
      "  PDBConstructionWarning,\n",
      "/wsu/home/fr/fr15/fr1583/.conda/envs/protein/lib/python3.7/site-packages/Bio/PDB/StructureBuilder.py:92: PDBConstructionWarning: WARNING: Chain E is discontinuous at line 7976.\n",
      "  PDBConstructionWarning,\n",
      "/wsu/home/fr/fr15/fr1583/.conda/envs/protein/lib/python3.7/site-packages/Bio/PDB/StructureBuilder.py:92: PDBConstructionWarning: WARNING: Chain F is discontinuous at line 8020.\n",
      "  PDBConstructionWarning,\n",
      "/wsu/home/fr/fr15/fr1583/.conda/envs/protein/lib/python3.7/site-packages/Bio/PDB/StructureBuilder.py:92: PDBConstructionWarning: WARNING: Chain A is discontinuous at line 8064.\n",
      "  PDBConstructionWarning,\n",
      "/wsu/home/fr/fr15/fr1583/.conda/envs/protein/lib/python3.7/site-packages/Bio/PDB/StructureBuilder.py:92: PDBConstructionWarning: WARNING: Chain B is discontinuous at line 8206.\n",
      "  PDBConstructionWarning,\n",
      "/wsu/home/fr/fr15/fr1583/.conda/envs/protein/lib/python3.7/site-packages/Bio/PDB/StructureBuilder.py:92: PDBConstructionWarning: WARNING: Chain E is discontinuous at line 8341.\n",
      "  PDBConstructionWarning,\n",
      "/wsu/home/fr/fr15/fr1583/.conda/envs/protein/lib/python3.7/site-packages/Bio/PDB/StructureBuilder.py:92: PDBConstructionWarning: WARNING: Chain F is discontinuous at line 8486.\n",
      "  PDBConstructionWarning,\n"
     ]
    },
    {
     "name": "stdout",
     "output_type": "stream",
     "text": [
      "skipped\n",
      "22 1gk7\n",
      "23 1gvd\n",
      "24 1gxu\n",
      "25 1h6v\n"
     ]
    },
    {
     "name": "stderr",
     "output_type": "stream",
     "text": [
      "/wsu/home/fr/fr15/fr1583/.conda/envs/protein/lib/python3.7/site-packages/Bio/PDB/StructureBuilder.py:92: PDBConstructionWarning: WARNING: Chain A is discontinuous at line 22514.\n",
      "  PDBConstructionWarning,\n",
      "/wsu/home/fr/fr15/fr1583/.conda/envs/protein/lib/python3.7/site-packages/Bio/PDB/StructureBuilder.py:92: PDBConstructionWarning: WARNING: Chain B is discontinuous at line 22606.\n",
      "  PDBConstructionWarning,\n",
      "/wsu/home/fr/fr15/fr1583/.conda/envs/protein/lib/python3.7/site-packages/Bio/PDB/StructureBuilder.py:92: PDBConstructionWarning: WARNING: Chain C is discontinuous at line 22698.\n",
      "  PDBConstructionWarning,\n",
      "/wsu/home/fr/fr15/fr1583/.conda/envs/protein/lib/python3.7/site-packages/Bio/PDB/StructureBuilder.py:92: PDBConstructionWarning: WARNING: Chain D is discontinuous at line 22790.\n",
      "  PDBConstructionWarning,\n",
      "/wsu/home/fr/fr15/fr1583/.conda/envs/protein/lib/python3.7/site-packages/Bio/PDB/StructureBuilder.py:92: PDBConstructionWarning: WARNING: Chain E is discontinuous at line 22882.\n",
      "  PDBConstructionWarning,\n",
      "/wsu/home/fr/fr15/fr1583/.conda/envs/protein/lib/python3.7/site-packages/Bio/PDB/StructureBuilder.py:92: PDBConstructionWarning: WARNING: Chain F is discontinuous at line 22974.\n",
      "  PDBConstructionWarning,\n",
      "/wsu/home/fr/fr15/fr1583/.conda/envs/protein/lib/python3.7/site-packages/Bio/PDB/StructureBuilder.py:92: PDBConstructionWarning: WARNING: Chain A is discontinuous at line 23066.\n",
      "  PDBConstructionWarning,\n",
      "/wsu/home/fr/fr15/fr1583/.conda/envs/protein/lib/python3.7/site-packages/Bio/PDB/StructureBuilder.py:92: PDBConstructionWarning: WARNING: Chain B is discontinuous at line 23067.\n",
      "  PDBConstructionWarning,\n",
      "/wsu/home/fr/fr15/fr1583/.conda/envs/protein/lib/python3.7/site-packages/Bio/PDB/StructureBuilder.py:92: PDBConstructionWarning: WARNING: Chain C is discontinuous at line 23068.\n",
      "  PDBConstructionWarning,\n",
      "/wsu/home/fr/fr15/fr1583/.conda/envs/protein/lib/python3.7/site-packages/Bio/PDB/StructureBuilder.py:92: PDBConstructionWarning: WARNING: Chain D is discontinuous at line 23071.\n",
      "  PDBConstructionWarning,\n",
      "/wsu/home/fr/fr15/fr1583/.conda/envs/protein/lib/python3.7/site-packages/Bio/PDB/StructureBuilder.py:92: PDBConstructionWarning: WARNING: Chain E is discontinuous at line 23072.\n",
      "  PDBConstructionWarning,\n",
      "/wsu/home/fr/fr15/fr1583/.conda/envs/protein/lib/python3.7/site-packages/Bio/PDB/StructureBuilder.py:92: PDBConstructionWarning: WARNING: Chain F is discontinuous at line 23074.\n",
      "  PDBConstructionWarning,\n"
     ]
    },
    {
     "name": "stdout",
     "output_type": "stream",
     "text": [
      "skipped\n",
      "26 1hje\n",
      "27 1i71\n",
      "28 1idp\n",
      "29 1ifr\n",
      "30 1k8u\n",
      "31 1kmm\n"
     ]
    },
    {
     "name": "stderr",
     "output_type": "stream",
     "text": [
      "/wsu/home/fr/fr15/fr1583/.conda/envs/protein/lib/python3.7/site-packages/Bio/PDB/StructureBuilder.py:92: PDBConstructionWarning: WARNING: Chain A is discontinuous at line 14289.\n",
      "  PDBConstructionWarning,\n",
      "/wsu/home/fr/fr15/fr1583/.conda/envs/protein/lib/python3.7/site-packages/Bio/PDB/StructureBuilder.py:92: PDBConstructionWarning: WARNING: Chain B is discontinuous at line 14329.\n",
      "  PDBConstructionWarning,\n",
      "/wsu/home/fr/fr15/fr1583/.conda/envs/protein/lib/python3.7/site-packages/Bio/PDB/StructureBuilder.py:92: PDBConstructionWarning: WARNING: Chain C is discontinuous at line 14369.\n",
      "  PDBConstructionWarning,\n",
      "/wsu/home/fr/fr15/fr1583/.conda/envs/protein/lib/python3.7/site-packages/Bio/PDB/StructureBuilder.py:92: PDBConstructionWarning: WARNING: Chain D is discontinuous at line 14409.\n",
      "  PDBConstructionWarning,\n",
      "/wsu/home/fr/fr15/fr1583/.conda/envs/protein/lib/python3.7/site-packages/Bio/PDB/StructureBuilder.py:92: PDBConstructionWarning: WARNING: Chain A is discontinuous at line 14449.\n",
      "  PDBConstructionWarning,\n",
      "/wsu/home/fr/fr15/fr1583/.conda/envs/protein/lib/python3.7/site-packages/Bio/PDB/StructureBuilder.py:92: PDBConstructionWarning: WARNING: Chain B is discontinuous at line 14494.\n",
      "  PDBConstructionWarning,\n",
      "/wsu/home/fr/fr15/fr1583/.conda/envs/protein/lib/python3.7/site-packages/Bio/PDB/StructureBuilder.py:92: PDBConstructionWarning: WARNING: Chain C is discontinuous at line 14544.\n",
      "  PDBConstructionWarning,\n",
      "/wsu/home/fr/fr15/fr1583/.conda/envs/protein/lib/python3.7/site-packages/Bio/PDB/StructureBuilder.py:92: PDBConstructionWarning: WARNING: Chain D is discontinuous at line 14599.\n",
      "  PDBConstructionWarning,\n"
     ]
    },
    {
     "name": "stdout",
     "output_type": "stream",
     "text": [
      "skipped\n",
      "32 1kng\n",
      "33 1kr4\n",
      "34 1kyc\n",
      "35 1lr7\n",
      "36 1mf7\n",
      "37 1n7e\n",
      "38 1nkd\n",
      "39 1nko\n"
     ]
    },
    {
     "name": "stderr",
     "output_type": "stream",
     "text": [
      "/wsu/home/fr/fr15/fr1583/K/NMAcomp/multiscale.py:54: RuntimeWarning: divide by zero encountered in true_divide\n",
      "  reg.fit(diag_n.T,1/bfactor)\n"
     ]
    },
    {
     "name": "stdout",
     "output_type": "stream",
     "text": [
      "Input contains NaN, infinity or a value too large for dtype('float64').\n",
      "40 1nls\n",
      "41 1nnx\n",
      "42 1noa\n",
      "43 1not\n",
      "44 1o06\n",
      "45 1o08\n",
      "46 1ob4\n",
      "47 1ob7\n",
      "Found input variables with inconsistent numbers of samples: [16, 17]\n",
      "48 1opd\n",
      "49 1p9i\n",
      "50 1pef\n",
      "51 1pen\n",
      "52 1pmy\n",
      "53 1pz4\n",
      "54 1q9b\n",
      "55 1qau\n",
      "56 1qki\n"
     ]
    },
    {
     "name": "stderr",
     "output_type": "stream",
     "text": [
      "/wsu/home/fr/fr15/fr1583/.conda/envs/protein/lib/python3.7/site-packages/Bio/PDB/StructureBuilder.py:92: PDBConstructionWarning: WARNING: Chain A is discontinuous at line 31154.\n",
      "  PDBConstructionWarning,\n",
      "/wsu/home/fr/fr15/fr1583/.conda/envs/protein/lib/python3.7/site-packages/Bio/PDB/StructureBuilder.py:92: PDBConstructionWarning: WARNING: Chain B is discontinuous at line 31207.\n",
      "  PDBConstructionWarning,\n",
      "/wsu/home/fr/fr15/fr1583/.conda/envs/protein/lib/python3.7/site-packages/Bio/PDB/StructureBuilder.py:92: PDBConstructionWarning: WARNING: Chain C is discontinuous at line 31272.\n",
      "  PDBConstructionWarning,\n",
      "/wsu/home/fr/fr15/fr1583/.conda/envs/protein/lib/python3.7/site-packages/Bio/PDB/StructureBuilder.py:92: PDBConstructionWarning: WARNING: Chain D is discontinuous at line 31331.\n",
      "  PDBConstructionWarning,\n",
      "/wsu/home/fr/fr15/fr1583/.conda/envs/protein/lib/python3.7/site-packages/Bio/PDB/StructureBuilder.py:92: PDBConstructionWarning: WARNING: Chain E is discontinuous at line 31384.\n",
      "  PDBConstructionWarning,\n",
      "/wsu/home/fr/fr15/fr1583/.conda/envs/protein/lib/python3.7/site-packages/Bio/PDB/StructureBuilder.py:92: PDBConstructionWarning: WARNING: Chain F is discontinuous at line 31443.\n",
      "  PDBConstructionWarning,\n",
      "/wsu/home/fr/fr15/fr1583/.conda/envs/protein/lib/python3.7/site-packages/Bio/PDB/StructureBuilder.py:92: PDBConstructionWarning: WARNING: Chain G is discontinuous at line 31496.\n",
      "  PDBConstructionWarning,\n",
      "/wsu/home/fr/fr15/fr1583/.conda/envs/protein/lib/python3.7/site-packages/Bio/PDB/StructureBuilder.py:92: PDBConstructionWarning: WARNING: Chain H is discontinuous at line 31555.\n",
      "  PDBConstructionWarning,\n",
      "/wsu/home/fr/fr15/fr1583/.conda/envs/protein/lib/python3.7/site-packages/Bio/PDB/StructureBuilder.py:92: PDBConstructionWarning: WARNING: Chain A is discontinuous at line 31608.\n",
      "  PDBConstructionWarning,\n",
      "/wsu/home/fr/fr15/fr1583/.conda/envs/protein/lib/python3.7/site-packages/Bio/PDB/StructureBuilder.py:92: PDBConstructionWarning: WARNING: Chain B is discontinuous at line 31621.\n",
      "  PDBConstructionWarning,\n",
      "/wsu/home/fr/fr15/fr1583/.conda/envs/protein/lib/python3.7/site-packages/Bio/PDB/StructureBuilder.py:92: PDBConstructionWarning: WARNING: Chain C is discontinuous at line 31630.\n",
      "  PDBConstructionWarning,\n",
      "/wsu/home/fr/fr15/fr1583/.conda/envs/protein/lib/python3.7/site-packages/Bio/PDB/StructureBuilder.py:92: PDBConstructionWarning: WARNING: Chain D is discontinuous at line 31633.\n",
      "  PDBConstructionWarning,\n",
      "/wsu/home/fr/fr15/fr1583/.conda/envs/protein/lib/python3.7/site-packages/Bio/PDB/StructureBuilder.py:92: PDBConstructionWarning: WARNING: Chain E is discontinuous at line 31641.\n",
      "  PDBConstructionWarning,\n",
      "/wsu/home/fr/fr15/fr1583/.conda/envs/protein/lib/python3.7/site-packages/Bio/PDB/StructureBuilder.py:92: PDBConstructionWarning: WARNING: Chain F is discontinuous at line 31652.\n",
      "  PDBConstructionWarning,\n",
      "/wsu/home/fr/fr15/fr1583/.conda/envs/protein/lib/python3.7/site-packages/Bio/PDB/StructureBuilder.py:92: PDBConstructionWarning: WARNING: Chain H is discontinuous at line 31655.\n",
      "  PDBConstructionWarning,\n"
     ]
    },
    {
     "name": "stdout",
     "output_type": "stream",
     "text": [
      "skipped\n",
      "57 1qto\n",
      "58 1r29\n",
      "59 1r7j\n",
      "60 1rju\n",
      "61 1rro\n",
      "62 1sau\n",
      "63 1tgr\n"
     ]
    },
    {
     "name": "stderr",
     "output_type": "stream",
     "text": [
      "/wsu/home/fr/fr15/fr1583/.conda/envs/protein/lib/python3.7/site-packages/Bio/PDB/StructureBuilder.py:92: PDBConstructionWarning: WARNING: Chain A is discontinuous at line 871.\n",
      "  PDBConstructionWarning,\n",
      "/wsu/home/fr/fr15/fr1583/.conda/envs/protein/lib/python3.7/site-packages/Bio/PDB/StructureBuilder.py:92: PDBConstructionWarning: WARNING: Chain B is discontinuous at line 956.\n",
      "  PDBConstructionWarning,\n"
     ]
    },
    {
     "name": "stdout",
     "output_type": "stream",
     "text": [
      "64 1tzv\n",
      "65 1u06\n",
      "66 1u7i\n"
     ]
    },
    {
     "name": "stderr",
     "output_type": "stream",
     "text": [
      "/wsu/home/fr/fr15/fr1583/.conda/envs/protein/lib/python3.7/site-packages/Bio/PDB/StructureBuilder.py:92: PDBConstructionWarning: WARNING: Chain A is discontinuous at line 2136.\n",
      "  PDBConstructionWarning,\n",
      "/wsu/home/fr/fr15/fr1583/.conda/envs/protein/lib/python3.7/site-packages/Bio/PDB/StructureBuilder.py:92: PDBConstructionWarning: WARNING: Chain B is discontinuous at line 2320.\n",
      "  PDBConstructionWarning,\n"
     ]
    },
    {
     "name": "stdout",
     "output_type": "stream",
     "text": [
      "67 1u9c\n",
      "68 1uha\n",
      "69 1uku\n",
      "70 1ulr\n",
      "71 1uoy\n",
      "72 1use\n",
      "73 1usm\n",
      "74 1utg\n",
      "75 1v05\n",
      "76 1v70\n",
      "77 1vrz\n",
      "78 1w2l\n",
      "79 1wbe\n",
      "80 1whi\n",
      "81 1wly\n",
      "82 1wpa\n",
      "83 1x3o\n",
      "84 1xy1\n",
      "85 1xy2\n",
      "86 1y6x\n",
      "87 1yjo\n",
      "88 1yzm\n",
      "89 1z21\n"
     ]
    },
    {
     "name": "stderr",
     "output_type": "stream",
     "text": [
      "/wsu/home/fr/fr15/fr1583/.conda/envs/protein/lib/python3.7/site-packages/Bio/PDB/StructureBuilder.py:92: PDBConstructionWarning: WARNING: Chain A is discontinuous at line 266.\n",
      "  PDBConstructionWarning,\n",
      "/wsu/home/fr/fr15/fr1583/.conda/envs/protein/lib/python3.7/site-packages/Bio/PDB/StructureBuilder.py:92: PDBConstructionWarning: WARNING: Chain B is discontinuous at line 272.\n",
      "  PDBConstructionWarning,\n"
     ]
    },
    {
     "name": "stdout",
     "output_type": "stream",
     "text": [
      "90 1zce\n",
      "91 1zva\n",
      "92 2a50\n"
     ]
    },
    {
     "name": "stderr",
     "output_type": "stream",
     "text": [
      "/wsu/home/fr/fr15/fr1583/.conda/envs/protein/lib/python3.7/site-packages/Bio/PDB/StructureBuilder.py:92: PDBConstructionWarning: WARNING: Chain A is discontinuous at line 3731.\n",
      "  PDBConstructionWarning,\n",
      "/wsu/home/fr/fr15/fr1583/.conda/envs/protein/lib/python3.7/site-packages/Bio/PDB/StructureBuilder.py:92: PDBConstructionWarning: WARNING: Chain B is discontinuous at line 3840.\n",
      "  PDBConstructionWarning,\n",
      "/wsu/home/fr/fr15/fr1583/.conda/envs/protein/lib/python3.7/site-packages/Bio/PDB/StructureBuilder.py:92: PDBConstructionWarning: WARNING: Chain C is discontinuous at line 4077.\n",
      "  PDBConstructionWarning,\n",
      "/wsu/home/fr/fr15/fr1583/.conda/envs/protein/lib/python3.7/site-packages/Bio/PDB/StructureBuilder.py:92: PDBConstructionWarning: WARNING: Chain D is discontinuous at line 4162.\n",
      "  PDBConstructionWarning,\n"
     ]
    },
    {
     "name": "stdout",
     "output_type": "stream",
     "text": [
      "93 2agk\n",
      "94 2ah1\n"
     ]
    },
    {
     "name": "stderr",
     "output_type": "stream",
     "text": [
      "/wsu/home/fr/fr15/fr1583/.conda/envs/protein/lib/python3.7/site-packages/Bio/PDB/StructureBuilder.py:92: PDBConstructionWarning: WARNING: Chain D is discontinuous at line 7269.\n",
      "  PDBConstructionWarning,\n",
      "/wsu/home/fr/fr15/fr1583/.conda/envs/protein/lib/python3.7/site-packages/Bio/PDB/StructureBuilder.py:92: PDBConstructionWarning: WARNING: Chain H is discontinuous at line 7462.\n",
      "  PDBConstructionWarning,\n",
      "/wsu/home/fr/fr15/fr1583/.conda/envs/protein/lib/python3.7/site-packages/Bio/PDB/StructureBuilder.py:92: PDBConstructionWarning: WARNING: Chain A is discontinuous at line 7664.\n",
      "  PDBConstructionWarning,\n",
      "/wsu/home/fr/fr15/fr1583/.conda/envs/protein/lib/python3.7/site-packages/Bio/PDB/StructureBuilder.py:92: PDBConstructionWarning: WARNING: Chain B is discontinuous at line 8375.\n",
      "  PDBConstructionWarning,\n"
     ]
    },
    {
     "name": "stdout",
     "output_type": "stream",
     "text": [
      "95 2b0a\n",
      "96 2bcm\n"
     ]
    },
    {
     "name": "stderr",
     "output_type": "stream",
     "text": [
      "/wsu/home/fr/fr15/fr1583/.conda/envs/protein/lib/python3.7/site-packages/Bio/PDB/StructureBuilder.py:92: PDBConstructionWarning: WARNING: Chain B is discontinuous at line 3135.\n",
      "  PDBConstructionWarning,\n",
      "/wsu/home/fr/fr15/fr1583/.conda/envs/protein/lib/python3.7/site-packages/Bio/PDB/StructureBuilder.py:92: PDBConstructionWarning: WARNING: Chain A is discontinuous at line 3298.\n",
      "  PDBConstructionWarning,\n",
      "/wsu/home/fr/fr15/fr1583/.conda/envs/protein/lib/python3.7/site-packages/Bio/PDB/StructureBuilder.py:92: PDBConstructionWarning: WARNING: Chain C is discontinuous at line 3452.\n",
      "  PDBConstructionWarning,\n"
     ]
    },
    {
     "name": "stdout",
     "output_type": "stream",
     "text": [
      "97 2bf9\n",
      "98 2brf\n",
      "99 2c71\n",
      "100 2ce0\n",
      "101 2cg7\n",
      "102 2cov\n"
     ]
    },
    {
     "name": "stderr",
     "output_type": "stream",
     "text": [
      "/wsu/home/fr/fr15/fr1583/.conda/envs/protein/lib/python3.7/site-packages/Bio/PDB/StructureBuilder.py:92: PDBConstructionWarning: WARNING: Chain D is discontinuous at line 4366.\n",
      "  PDBConstructionWarning,\n",
      "/wsu/home/fr/fr15/fr1583/.conda/envs/protein/lib/python3.7/site-packages/Bio/PDB/StructureBuilder.py:92: PDBConstructionWarning: WARNING: Chain E is discontinuous at line 4481.\n",
      "  PDBConstructionWarning,\n",
      "/wsu/home/fr/fr15/fr1583/.conda/envs/protein/lib/python3.7/site-packages/Bio/PDB/StructureBuilder.py:92: PDBConstructionWarning: WARNING: Chain F is discontinuous at line 4591.\n",
      "  PDBConstructionWarning,\n",
      "/wsu/home/fr/fr15/fr1583/.conda/envs/protein/lib/python3.7/site-packages/Bio/PDB/StructureBuilder.py:92: PDBConstructionWarning: WARNING: Chain G is discontinuous at line 4676.\n",
      "  PDBConstructionWarning,\n",
      "/wsu/home/fr/fr15/fr1583/.conda/envs/protein/lib/python3.7/site-packages/Bio/PDB/StructureBuilder.py:92: PDBConstructionWarning: WARNING: Chain H is discontinuous at line 4763.\n",
      "  PDBConstructionWarning,\n",
      "/wsu/home/fr/fr15/fr1583/.conda/envs/protein/lib/python3.7/site-packages/Bio/PDB/StructureBuilder.py:92: PDBConstructionWarning: WARNING: Chain I is discontinuous at line 4852.\n",
      "  PDBConstructionWarning,\n"
     ]
    },
    {
     "name": "stdout",
     "output_type": "stream",
     "text": [
      "103 2cws\n",
      "104 2d5w\n"
     ]
    },
    {
     "name": "stderr",
     "output_type": "stream",
     "text": [
      "/wsu/home/fr/fr15/fr1583/.conda/envs/protein/lib/python3.7/site-packages/Bio/PDB/StructureBuilder.py:92: PDBConstructionWarning: WARNING: Chain A is discontinuous at line 9772.\n",
      "  PDBConstructionWarning,\n",
      "/wsu/home/fr/fr15/fr1583/.conda/envs/protein/lib/python3.7/site-packages/Bio/PDB/StructureBuilder.py:92: PDBConstructionWarning: WARNING: Chain B is discontinuous at line 10340.\n",
      "  PDBConstructionWarning,\n",
      "/wsu/home/fr/fr15/fr1583/.conda/envs/protein/lib/python3.7/site-packages/Bio/PDB/StructureBuilder.py:92: PDBConstructionWarning: WARNING: Chain C is discontinuous at line 10839.\n",
      "  PDBConstructionWarning,\n",
      "/wsu/home/fr/fr15/fr1583/.conda/envs/protein/lib/python3.7/site-packages/Bio/PDB/StructureBuilder.py:92: PDBConstructionWarning: WARNING: Chain D is discontinuous at line 10841.\n",
      "  PDBConstructionWarning,\n"
     ]
    },
    {
     "name": "stdout",
     "output_type": "stream",
     "text": [
      "skipped\n",
      "105 2dko\n"
     ]
    },
    {
     "name": "stderr",
     "output_type": "stream",
     "text": [
      "/wsu/home/fr/fr15/fr1583/.conda/envs/protein/lib/python3.7/site-packages/Bio/PDB/StructureBuilder.py:92: PDBConstructionWarning: WARNING: Chain A is discontinuous at line 2092.\n",
      "  PDBConstructionWarning,\n",
      "/wsu/home/fr/fr15/fr1583/.conda/envs/protein/lib/python3.7/site-packages/Bio/PDB/StructureBuilder.py:92: PDBConstructionWarning: WARNING: Chain B is discontinuous at line 2311.\n",
      "  PDBConstructionWarning,\n",
      "/wsu/home/fr/fr15/fr1583/.conda/envs/protein/lib/python3.7/site-packages/Bio/PDB/StructureBuilder.py:92: PDBConstructionWarning: WARNING: Chain I is discontinuous at line 2420.\n",
      "  PDBConstructionWarning,\n"
     ]
    },
    {
     "name": "stdout",
     "output_type": "stream",
     "text": [
      "106 2dpl\n"
     ]
    },
    {
     "name": "stderr",
     "output_type": "stream",
     "text": [
      "/wsu/home/fr/fr15/fr1583/.conda/envs/protein/lib/python3.7/site-packages/Bio/PDB/StructureBuilder.py:92: PDBConstructionWarning: WARNING: Chain A is discontinuous at line 4500.\n",
      "  PDBConstructionWarning,\n",
      "/wsu/home/fr/fr15/fr1583/.conda/envs/protein/lib/python3.7/site-packages/Bio/PDB/StructureBuilder.py:92: PDBConstructionWarning: WARNING: Chain B is discontinuous at line 4993.\n",
      "  PDBConstructionWarning,\n"
     ]
    },
    {
     "name": "stdout",
     "output_type": "stream",
     "text": [
      "107 2dsx\n",
      "108 2e10\n"
     ]
    },
    {
     "name": "stderr",
     "output_type": "stream",
     "text": [
      "/wsu/home/fr/fr15/fr1583/.conda/envs/protein/lib/python3.7/site-packages/Bio/PDB/StructureBuilder.py:92: PDBConstructionWarning: WARNING: Chain A is discontinuous at line 3416.\n",
      "  PDBConstructionWarning,\n",
      "/wsu/home/fr/fr15/fr1583/.conda/envs/protein/lib/python3.7/site-packages/Bio/PDB/StructureBuilder.py:92: PDBConstructionWarning: WARNING: Chain B is discontinuous at line 3697.\n",
      "  PDBConstructionWarning,\n"
     ]
    },
    {
     "name": "stdout",
     "output_type": "stream",
     "text": [
      "109 2e3h\n",
      "110 2eaq\n",
      "111 2ehp\n"
     ]
    },
    {
     "name": "stderr",
     "output_type": "stream",
     "text": [
      "/wsu/home/fr/fr15/fr1583/.conda/envs/protein/lib/python3.7/site-packages/Bio/PDB/StructureBuilder.py:92: PDBConstructionWarning: WARNING: Chain A is discontinuous at line 1891.\n",
      "  PDBConstructionWarning,\n",
      "/wsu/home/fr/fr15/fr1583/.conda/envs/protein/lib/python3.7/site-packages/Bio/PDB/StructureBuilder.py:92: PDBConstructionWarning: WARNING: Chain B is discontinuous at line 1964.\n",
      "  PDBConstructionWarning,\n"
     ]
    },
    {
     "name": "stdout",
     "output_type": "stream",
     "text": [
      "112 2ehs\n",
      "113 2erw\n",
      "114 2etx\n"
     ]
    },
    {
     "name": "stderr",
     "output_type": "stream",
     "text": [
      "/wsu/home/fr/fr15/fr1583/.conda/envs/protein/lib/python3.7/site-packages/Bio/PDB/StructureBuilder.py:92: PDBConstructionWarning: WARNING: Chain A is discontinuous at line 3018.\n",
      "  PDBConstructionWarning,\n",
      "/wsu/home/fr/fr15/fr1583/.conda/envs/protein/lib/python3.7/site-packages/Bio/PDB/StructureBuilder.py:92: PDBConstructionWarning: WARNING: Chain B is discontinuous at line 3222.\n",
      "  PDBConstructionWarning,\n"
     ]
    },
    {
     "name": "stdout",
     "output_type": "stream",
     "text": [
      "115 2fb6\n",
      "116 2fg1\n",
      "117 2fn9\n"
     ]
    },
    {
     "name": "stderr",
     "output_type": "stream",
     "text": [
      "/wsu/home/fr/fr15/fr1583/.conda/envs/protein/lib/python3.7/site-packages/Bio/PDB/StructureBuilder.py:92: PDBConstructionWarning: WARNING: Chain A is discontinuous at line 4362.\n",
      "  PDBConstructionWarning,\n",
      "/wsu/home/fr/fr15/fr1583/.conda/envs/protein/lib/python3.7/site-packages/Bio/PDB/StructureBuilder.py:92: PDBConstructionWarning: WARNING: Chain B is discontinuous at line 4692.\n",
      "  PDBConstructionWarning,\n"
     ]
    },
    {
     "name": "stdout",
     "output_type": "stream",
     "text": [
      "118 2fq3\n",
      "119 2g69\n",
      "120 2g7o\n",
      "121 2g7s\n",
      "122 2gkg\n",
      "123 2gom\n",
      "124 2gxg\n"
     ]
    },
    {
     "name": "stderr",
     "output_type": "stream",
     "text": [
      "/wsu/home/fr/fr15/fr1583/.conda/envs/protein/lib/python3.7/site-packages/Bio/PDB/StructureBuilder.py:92: PDBConstructionWarning: WARNING: Chain A is discontinuous at line 987.\n",
      "  PDBConstructionWarning,\n",
      "/wsu/home/fr/fr15/fr1583/.conda/envs/protein/lib/python3.7/site-packages/Bio/PDB/StructureBuilder.py:92: PDBConstructionWarning: WARNING: Chain B is discontinuous at line 1069.\n",
      "  PDBConstructionWarning,\n"
     ]
    },
    {
     "name": "stdout",
     "output_type": "stream",
     "text": [
      "125 2gzq\n",
      "126 2hqk\n",
      "127 2hyk\n",
      "128 2i24\n",
      "129 2i49\n",
      "130 2ibl\n",
      "131 2igd\n",
      "132 2imf\n",
      "133 2ip6\n",
      "134 2ivy\n",
      "135 2j32\n"
     ]
    },
    {
     "name": "stderr",
     "output_type": "stream",
     "text": [
      "/wsu/home/fr/fr15/fr1583/.conda/envs/protein/lib/python3.7/site-packages/Bio/PDB/StructureBuilder.py:92: PDBConstructionWarning: WARNING: Chain A is discontinuous at line 1971.\n",
      "  PDBConstructionWarning,\n",
      "/wsu/home/fr/fr15/fr1583/.conda/envs/protein/lib/python3.7/site-packages/Bio/PDB/StructureBuilder.py:92: PDBConstructionWarning: WARNING: Chain B is discontinuous at line 2269.\n",
      "  PDBConstructionWarning,\n",
      "/wsu/home/fr/fr15/fr1583/.conda/envs/protein/lib/python3.7/site-packages/Bio/PDB/StructureBuilder.py:92: PDBConstructionWarning: WARNING: Chain A is discontinuous at line 1650.\n",
      "  PDBConstructionWarning,\n",
      "/wsu/home/fr/fr15/fr1583/.conda/envs/protein/lib/python3.7/site-packages/Bio/PDB/StructureBuilder.py:92: PDBConstructionWarning: WARNING: Chain B is discontinuous at line 1722.\n",
      "  PDBConstructionWarning,\n"
     ]
    },
    {
     "name": "stdout",
     "output_type": "stream",
     "text": [
      "136 2j9w\n",
      "137 2jku\n",
      "138 2jli\n",
      "139 2jlj\n",
      "140 2mcm\n",
      "141 2nls\n",
      "142 2nr7\n",
      "143 2nuh\n",
      "144 2o6x\n",
      "145 2oa2\n",
      "146 2oct\n"
     ]
    },
    {
     "name": "stderr",
     "output_type": "stream",
     "text": [
      "/wsu/home/fr/fr15/fr1583/.conda/envs/protein/lib/python3.7/site-packages/Bio/PDB/StructureBuilder.py:92: PDBConstructionWarning: WARNING: Chain A is discontinuous at line 1570.\n",
      "  PDBConstructionWarning,\n",
      "/wsu/home/fr/fr15/fr1583/.conda/envs/protein/lib/python3.7/site-packages/Bio/PDB/StructureBuilder.py:92: PDBConstructionWarning: WARNING: Chain B is discontinuous at line 1656.\n",
      "  PDBConstructionWarning,\n",
      "/wsu/home/fr/fr15/fr1583/.conda/envs/protein/lib/python3.7/site-packages/Bio/PDB/StructureBuilder.py:92: PDBConstructionWarning: WARNING: Chain A is discontinuous at line 1570.\n",
      "  PDBConstructionWarning,\n",
      "/wsu/home/fr/fr15/fr1583/.conda/envs/protein/lib/python3.7/site-packages/Bio/PDB/StructureBuilder.py:92: PDBConstructionWarning: WARNING: Chain B is discontinuous at line 1656.\n",
      "  PDBConstructionWarning,\n",
      "/wsu/home/fr/fr15/fr1583/K/NMAcomp/multiscale.py:54: RuntimeWarning: divide by zero encountered in true_divide\n",
      "  reg.fit(diag_n.T,1/bfactor)\n",
      "/wsu/home/fr/fr15/fr1583/.conda/envs/protein/lib/python3.7/site-packages/Bio/PDB/StructureBuilder.py:92: PDBConstructionWarning: WARNING: Chain A is discontinuous at line 2086.\n",
      "  PDBConstructionWarning,\n",
      "/wsu/home/fr/fr15/fr1583/.conda/envs/protein/lib/python3.7/site-packages/Bio/PDB/StructureBuilder.py:92: PDBConstructionWarning: WARNING: Chain B is discontinuous at line 2146.\n",
      "  PDBConstructionWarning,\n"
     ]
    },
    {
     "name": "stdout",
     "output_type": "stream",
     "text": [
      "Input contains NaN, infinity or a value too large for dtype('float64').\n",
      "147 2ohw\n",
      "148 2okt\n",
      "149 2ol9\n",
      "150 2olx\n",
      "151 2pkt\n",
      "152 2plt\n",
      "153 2pmr\n",
      "154 2pof\n"
     ]
    },
    {
     "name": "stderr",
     "output_type": "stream",
     "text": [
      "/wsu/home/fr/fr15/fr1583/.conda/envs/protein/lib/python3.7/site-packages/Bio/PDB/StructureBuilder.py:92: PDBConstructionWarning: WARNING: Chain A is discontinuous at line 3514.\n",
      "  PDBConstructionWarning,\n",
      "/wsu/home/fr/fr15/fr1583/.conda/envs/protein/lib/python3.7/site-packages/Bio/PDB/StructureBuilder.py:92: PDBConstructionWarning: WARNING: Chain B is discontinuous at line 3676.\n",
      "  PDBConstructionWarning,\n"
     ]
    },
    {
     "name": "stdout",
     "output_type": "stream",
     "text": [
      "155 2ppn\n",
      "156 2psf\n"
     ]
    },
    {
     "name": "stderr",
     "output_type": "stream",
     "text": [
      "/wsu/home/fr/fr15/fr1583/.conda/envs/protein/lib/python3.7/site-packages/Bio/PDB/StructureBuilder.py:92: PDBConstructionWarning: WARNING: Chain A is discontinuous at line 4983.\n",
      "  PDBConstructionWarning,\n",
      "/wsu/home/fr/fr15/fr1583/.conda/envs/protein/lib/python3.7/site-packages/Bio/PDB/StructureBuilder.py:92: PDBConstructionWarning: WARNING: Chain B is discontinuous at line 5408.\n",
      "  PDBConstructionWarning,\n"
     ]
    },
    {
     "name": "stdout",
     "output_type": "stream",
     "text": [
      "157 2pth\n",
      "158 2q4n\n",
      "Found input variables with inconsistent numbers of samples: [181, 1224]\n",
      "159 2q52\n"
     ]
    },
    {
     "name": "stderr",
     "output_type": "stream",
     "text": [
      "/wsu/home/fr/fr15/fr1583/.conda/envs/protein/lib/python3.7/site-packages/Bio/PDB/StructureBuilder.py:92: PDBConstructionWarning: WARNING: Chain A is discontinuous at line 3348.\n",
      "  PDBConstructionWarning,\n",
      "/wsu/home/fr/fr15/fr1583/.conda/envs/protein/lib/python3.7/site-packages/Bio/PDB/StructureBuilder.py:92: PDBConstructionWarning: WARNING: Chain B is discontinuous at line 3549.\n",
      "  PDBConstructionWarning,\n",
      "/wsu/home/fr/fr15/fr1583/.conda/envs/protein/lib/python3.7/site-packages/Bio/PDB/StructureBuilder.py:92: PDBConstructionWarning: WARNING: Chain A is discontinuous at line 7080.\n",
      "  PDBConstructionWarning,\n",
      "/wsu/home/fr/fr15/fr1583/.conda/envs/protein/lib/python3.7/site-packages/Bio/PDB/StructureBuilder.py:92: PDBConstructionWarning: WARNING: Chain B is discontinuous at line 7286.\n",
      "  PDBConstructionWarning,\n",
      "/wsu/home/fr/fr15/fr1583/.conda/envs/protein/lib/python3.7/site-packages/Bio/PDB/StructureBuilder.py:92: PDBConstructionWarning: WARNING: Chain A is discontinuous at line 10812.\n",
      "  PDBConstructionWarning,\n",
      "/wsu/home/fr/fr15/fr1583/.conda/envs/protein/lib/python3.7/site-packages/Bio/PDB/StructureBuilder.py:92: PDBConstructionWarning: WARNING: Chain B is discontinuous at line 11024.\n",
      "  PDBConstructionWarning,\n",
      "/wsu/home/fr/fr15/fr1583/.conda/envs/protein/lib/python3.7/site-packages/Bio/PDB/StructureBuilder.py:92: PDBConstructionWarning: WARNING: Chain A is discontinuous at line 14544.\n",
      "  PDBConstructionWarning,\n",
      "/wsu/home/fr/fr15/fr1583/.conda/envs/protein/lib/python3.7/site-packages/Bio/PDB/StructureBuilder.py:92: PDBConstructionWarning: WARNING: Chain B is discontinuous at line 14746.\n",
      "  PDBConstructionWarning,\n",
      "/wsu/home/fr/fr15/fr1583/.conda/envs/protein/lib/python3.7/site-packages/Bio/PDB/StructureBuilder.py:92: PDBConstructionWarning: WARNING: Chain A is discontinuous at line 18276.\n",
      "  PDBConstructionWarning,\n",
      "/wsu/home/fr/fr15/fr1583/.conda/envs/protein/lib/python3.7/site-packages/Bio/PDB/StructureBuilder.py:92: PDBConstructionWarning: WARNING: Chain B is discontinuous at line 18477.\n",
      "  PDBConstructionWarning,\n",
      "/wsu/home/fr/fr15/fr1583/.conda/envs/protein/lib/python3.7/site-packages/Bio/PDB/StructureBuilder.py:92: PDBConstructionWarning: WARNING: Chain A is discontinuous at line 22008.\n",
      "  PDBConstructionWarning,\n",
      "/wsu/home/fr/fr15/fr1583/.conda/envs/protein/lib/python3.7/site-packages/Bio/PDB/StructureBuilder.py:92: PDBConstructionWarning: WARNING: Chain B is discontinuous at line 22210.\n",
      "  PDBConstructionWarning,\n",
      "/wsu/home/fr/fr15/fr1583/.conda/envs/protein/lib/python3.7/site-packages/Bio/PDB/StructureBuilder.py:92: PDBConstructionWarning: WARNING: Chain A is discontinuous at line 25740.\n",
      "  PDBConstructionWarning,\n",
      "/wsu/home/fr/fr15/fr1583/.conda/envs/protein/lib/python3.7/site-packages/Bio/PDB/StructureBuilder.py:92: PDBConstructionWarning: WARNING: Chain B is discontinuous at line 25944.\n",
      "  PDBConstructionWarning,\n",
      "/wsu/home/fr/fr15/fr1583/.conda/envs/protein/lib/python3.7/site-packages/Bio/PDB/StructureBuilder.py:92: PDBConstructionWarning: WARNING: Chain A is discontinuous at line 29472.\n",
      "  PDBConstructionWarning,\n",
      "/wsu/home/fr/fr15/fr1583/.conda/envs/protein/lib/python3.7/site-packages/Bio/PDB/StructureBuilder.py:92: PDBConstructionWarning: WARNING: Chain B is discontinuous at line 29678.\n",
      "  PDBConstructionWarning,\n",
      "/wsu/home/fr/fr15/fr1583/.conda/envs/protein/lib/python3.7/site-packages/Bio/PDB/StructureBuilder.py:92: PDBConstructionWarning: WARNING: Chain A is discontinuous at line 3348.\n",
      "  PDBConstructionWarning,\n",
      "/wsu/home/fr/fr15/fr1583/.conda/envs/protein/lib/python3.7/site-packages/Bio/PDB/StructureBuilder.py:92: PDBConstructionWarning: WARNING: Chain B is discontinuous at line 3549.\n",
      "  PDBConstructionWarning,\n",
      "/wsu/home/fr/fr15/fr1583/.conda/envs/protein/lib/python3.7/site-packages/Bio/PDB/StructureBuilder.py:92: PDBConstructionWarning: WARNING: Chain A is discontinuous at line 7080.\n",
      "  PDBConstructionWarning,\n",
      "/wsu/home/fr/fr15/fr1583/.conda/envs/protein/lib/python3.7/site-packages/Bio/PDB/StructureBuilder.py:92: PDBConstructionWarning: WARNING: Chain B is discontinuous at line 7286.\n",
      "  PDBConstructionWarning,\n",
      "/wsu/home/fr/fr15/fr1583/.conda/envs/protein/lib/python3.7/site-packages/Bio/PDB/StructureBuilder.py:92: PDBConstructionWarning: WARNING: Chain A is discontinuous at line 10812.\n",
      "  PDBConstructionWarning,\n",
      "/wsu/home/fr/fr15/fr1583/.conda/envs/protein/lib/python3.7/site-packages/Bio/PDB/StructureBuilder.py:92: PDBConstructionWarning: WARNING: Chain B is discontinuous at line 11024.\n",
      "  PDBConstructionWarning,\n",
      "/wsu/home/fr/fr15/fr1583/.conda/envs/protein/lib/python3.7/site-packages/Bio/PDB/StructureBuilder.py:92: PDBConstructionWarning: WARNING: Chain A is discontinuous at line 14544.\n",
      "  PDBConstructionWarning,\n",
      "/wsu/home/fr/fr15/fr1583/.conda/envs/protein/lib/python3.7/site-packages/Bio/PDB/StructureBuilder.py:92: PDBConstructionWarning: WARNING: Chain B is discontinuous at line 14746.\n",
      "  PDBConstructionWarning,\n",
      "/wsu/home/fr/fr15/fr1583/.conda/envs/protein/lib/python3.7/site-packages/Bio/PDB/StructureBuilder.py:92: PDBConstructionWarning: WARNING: Chain A is discontinuous at line 18276.\n",
      "  PDBConstructionWarning,\n",
      "/wsu/home/fr/fr15/fr1583/.conda/envs/protein/lib/python3.7/site-packages/Bio/PDB/StructureBuilder.py:92: PDBConstructionWarning: WARNING: Chain B is discontinuous at line 18477.\n",
      "  PDBConstructionWarning,\n",
      "/wsu/home/fr/fr15/fr1583/.conda/envs/protein/lib/python3.7/site-packages/Bio/PDB/StructureBuilder.py:92: PDBConstructionWarning: WARNING: Chain A is discontinuous at line 22008.\n",
      "  PDBConstructionWarning,\n",
      "/wsu/home/fr/fr15/fr1583/.conda/envs/protein/lib/python3.7/site-packages/Bio/PDB/StructureBuilder.py:92: PDBConstructionWarning: WARNING: Chain B is discontinuous at line 22210.\n",
      "  PDBConstructionWarning,\n",
      "/wsu/home/fr/fr15/fr1583/.conda/envs/protein/lib/python3.7/site-packages/Bio/PDB/StructureBuilder.py:92: PDBConstructionWarning: WARNING: Chain A is discontinuous at line 25740.\n",
      "  PDBConstructionWarning,\n",
      "/wsu/home/fr/fr15/fr1583/.conda/envs/protein/lib/python3.7/site-packages/Bio/PDB/StructureBuilder.py:92: PDBConstructionWarning: WARNING: Chain B is discontinuous at line 25944.\n",
      "  PDBConstructionWarning,\n",
      "/wsu/home/fr/fr15/fr1583/.conda/envs/protein/lib/python3.7/site-packages/Bio/PDB/StructureBuilder.py:92: PDBConstructionWarning: WARNING: Chain A is discontinuous at line 29472.\n",
      "  PDBConstructionWarning,\n",
      "/wsu/home/fr/fr15/fr1583/.conda/envs/protein/lib/python3.7/site-packages/Bio/PDB/StructureBuilder.py:92: PDBConstructionWarning: WARNING: Chain B is discontinuous at line 29678.\n",
      "  PDBConstructionWarning,\n"
     ]
    },
    {
     "name": "stdout",
     "output_type": "stream",
     "text": [
      "Found input variables with inconsistent numbers of samples: [480, 3296]\n",
      "160 2qjl\n",
      "161 2r16\n",
      "162 2r6q\n",
      "163 2rb8\n",
      "164 2re2\n"
     ]
    },
    {
     "name": "stderr",
     "output_type": "stream",
     "text": [
      "/wsu/home/fr/fr15/fr1583/.conda/envs/protein/lib/python3.7/site-packages/Bio/PDB/StructureBuilder.py:92: PDBConstructionWarning: WARNING: Chain A is discontinuous at line 1898.\n",
      "  PDBConstructionWarning,\n",
      "/wsu/home/fr/fr15/fr1583/.conda/envs/protein/lib/python3.7/site-packages/Bio/PDB/StructureBuilder.py:92: PDBConstructionWarning: WARNING: Chain B is discontinuous at line 2061.\n",
      "  PDBConstructionWarning,\n"
     ]
    },
    {
     "name": "stdout",
     "output_type": "stream",
     "text": [
      "165 2rfr\n",
      "166 2v9v\n",
      "167 2ve8\n"
     ]
    },
    {
     "name": "stderr",
     "output_type": "stream",
     "text": [
      "/wsu/home/fr/fr15/fr1583/.conda/envs/protein/lib/python3.7/site-packages/Bio/PDB/StructureBuilder.py:92: PDBConstructionWarning: WARNING: Chain A is discontinuous at line 3972.\n",
      "  PDBConstructionWarning,\n",
      "/wsu/home/fr/fr15/fr1583/.conda/envs/protein/lib/python3.7/site-packages/Bio/PDB/StructureBuilder.py:92: PDBConstructionWarning: WARNING: Chain B is discontinuous at line 4066.\n",
      "  PDBConstructionWarning,\n",
      "/wsu/home/fr/fr15/fr1583/.conda/envs/protein/lib/python3.7/site-packages/Bio/PDB/StructureBuilder.py:92: PDBConstructionWarning: WARNING: Chain C is discontinuous at line 4158.\n",
      "  PDBConstructionWarning,\n",
      "/wsu/home/fr/fr15/fr1583/.conda/envs/protein/lib/python3.7/site-packages/Bio/PDB/StructureBuilder.py:92: PDBConstructionWarning: WARNING: Chain D is discontinuous at line 4247.\n",
      "  PDBConstructionWarning,\n",
      "/wsu/home/fr/fr15/fr1583/.conda/envs/protein/lib/python3.7/site-packages/Bio/PDB/StructureBuilder.py:92: PDBConstructionWarning: WARNING: Chain E is discontinuous at line 4328.\n",
      "  PDBConstructionWarning,\n",
      "/wsu/home/fr/fr15/fr1583/.conda/envs/protein/lib/python3.7/site-packages/Bio/PDB/StructureBuilder.py:92: PDBConstructionWarning: WARNING: Chain F is discontinuous at line 4395.\n",
      "  PDBConstructionWarning,\n",
      "/wsu/home/fr/fr15/fr1583/.conda/envs/protein/lib/python3.7/site-packages/Bio/PDB/StructureBuilder.py:92: PDBConstructionWarning: WARNING: Chain G is discontinuous at line 4462.\n",
      "  PDBConstructionWarning,\n",
      "/wsu/home/fr/fr15/fr1583/.conda/envs/protein/lib/python3.7/site-packages/Bio/PDB/StructureBuilder.py:92: PDBConstructionWarning: WARNING: Chain H is discontinuous at line 4559.\n",
      "  PDBConstructionWarning,\n"
     ]
    },
    {
     "name": "stdout",
     "output_type": "stream",
     "text": [
      "168 2vh7\n",
      "169 2vim\n",
      "170 2vpa\n",
      "171 2vq4\n",
      "172 2vy8\n",
      "173 2vyo\n",
      "174 2w1v\n"
     ]
    },
    {
     "name": "stderr",
     "output_type": "stream",
     "text": [
      "/wsu/home/fr/fr15/fr1583/.conda/envs/protein/lib/python3.7/site-packages/Bio/PDB/StructureBuilder.py:92: PDBConstructionWarning: WARNING: Chain A is discontinuous at line 4273.\n",
      "  PDBConstructionWarning,\n",
      "/wsu/home/fr/fr15/fr1583/.conda/envs/protein/lib/python3.7/site-packages/Bio/PDB/StructureBuilder.py:92: PDBConstructionWarning: WARNING: Chain B is discontinuous at line 4653.\n",
      "  PDBConstructionWarning,\n"
     ]
    },
    {
     "name": "stdout",
     "output_type": "stream",
     "text": [
      "175 2w2a\n",
      "176 2w6a\n"
     ]
    },
    {
     "name": "stderr",
     "output_type": "stream",
     "text": [
      "/wsu/home/fr/fr15/fr1583/.conda/envs/protein/lib/python3.7/site-packages/Bio/PDB/StructureBuilder.py:92: PDBConstructionWarning: WARNING: Chain A is discontinuous at line 2918.\n",
      "  PDBConstructionWarning,\n",
      "/wsu/home/fr/fr15/fr1583/.conda/envs/protein/lib/python3.7/site-packages/Bio/PDB/StructureBuilder.py:92: PDBConstructionWarning: WARNING: Chain B is discontinuous at line 3189.\n",
      "  PDBConstructionWarning,\n",
      "/wsu/home/fr/fr15/fr1583/.conda/envs/protein/lib/python3.7/site-packages/Bio/PDB/StructureBuilder.py:92: PDBConstructionWarning: WARNING: Chain A is discontinuous at line 1040.\n",
      "  PDBConstructionWarning,\n",
      "/wsu/home/fr/fr15/fr1583/.conda/envs/protein/lib/python3.7/site-packages/Bio/PDB/StructureBuilder.py:92: PDBConstructionWarning: WARNING: Chain B is discontinuous at line 1120.\n",
      "  PDBConstructionWarning,\n",
      "/wsu/home/fr/fr15/fr1583/.conda/envs/protein/lib/python3.7/site-packages/Bio/PDB/StructureBuilder.py:92: PDBConstructionWarning: WARNING: Chain A is discontinuous at line 856.\n",
      "  PDBConstructionWarning,\n",
      "/wsu/home/fr/fr15/fr1583/.conda/envs/protein/lib/python3.7/site-packages/Bio/PDB/StructureBuilder.py:92: PDBConstructionWarning: WARNING: Chain B is discontinuous at line 973.\n",
      "  PDBConstructionWarning,\n"
     ]
    },
    {
     "name": "stdout",
     "output_type": "stream",
     "text": [
      "177 2wj5\n",
      "178 2wuj\n",
      "179 2ww7\n"
     ]
    },
    {
     "name": "stderr",
     "output_type": "stream",
     "text": [
      "/wsu/home/fr/fr15/fr1583/.conda/envs/protein/lib/python3.7/site-packages/Bio/PDB/StructureBuilder.py:92: PDBConstructionWarning: WARNING: Chain A is discontinuous at line 3173.\n",
      "  PDBConstructionWarning,\n",
      "/wsu/home/fr/fr15/fr1583/.conda/envs/protein/lib/python3.7/site-packages/Bio/PDB/StructureBuilder.py:92: PDBConstructionWarning: WARNING: Chain B is discontinuous at line 3249.\n",
      "  PDBConstructionWarning,\n",
      "/wsu/home/fr/fr15/fr1583/.conda/envs/protein/lib/python3.7/site-packages/Bio/PDB/StructureBuilder.py:92: PDBConstructionWarning: WARNING: Chain C is discontinuous at line 3340.\n",
      "  PDBConstructionWarning,\n",
      "/wsu/home/fr/fr15/fr1583/.conda/envs/protein/lib/python3.7/site-packages/Bio/PDB/StructureBuilder.py:92: PDBConstructionWarning: WARNING: Chain D is discontinuous at line 3416.\n",
      "  PDBConstructionWarning,\n",
      "/wsu/home/fr/fr15/fr1583/.conda/envs/protein/lib/python3.7/site-packages/Bio/PDB/StructureBuilder.py:92: PDBConstructionWarning: WARNING: Chain E is discontinuous at line 3478.\n",
      "  PDBConstructionWarning,\n",
      "/wsu/home/fr/fr15/fr1583/.conda/envs/protein/lib/python3.7/site-packages/Bio/PDB/StructureBuilder.py:92: PDBConstructionWarning: WARNING: Chain F is discontinuous at line 3550.\n",
      "  PDBConstructionWarning,\n"
     ]
    },
    {
     "name": "stdout",
     "output_type": "stream",
     "text": [
      "180 2wwe\n",
      "181 2x1q\n",
      "182 2x25\n"
     ]
    },
    {
     "name": "stderr",
     "output_type": "stream",
     "text": [
      "/wsu/home/fr/fr15/fr1583/.conda/envs/protein/lib/python3.7/site-packages/Bio/PDB/StructureBuilder.py:92: PDBConstructionWarning: WARNING: Chain A is discontinuous at line 1852.\n",
      "  PDBConstructionWarning,\n",
      "/wsu/home/fr/fr15/fr1583/.conda/envs/protein/lib/python3.7/site-packages/Bio/PDB/StructureBuilder.py:92: PDBConstructionWarning: WARNING: Chain B is discontinuous at line 2084.\n",
      "  PDBConstructionWarning,\n"
     ]
    },
    {
     "name": "stdout",
     "output_type": "stream",
     "text": [
      "183 2x3m\n",
      "184 2x5y\n",
      "185 2x9z\n",
      "186 2xhf\n"
     ]
    },
    {
     "name": "stderr",
     "output_type": "stream",
     "text": [
      "/wsu/home/fr/fr15/fr1583/.conda/envs/protein/lib/python3.7/site-packages/Bio/PDB/StructureBuilder.py:92: PDBConstructionWarning: WARNING: Chain A is discontinuous at line 4871.\n",
      "  PDBConstructionWarning,\n",
      "/wsu/home/fr/fr15/fr1583/.conda/envs/protein/lib/python3.7/site-packages/Bio/PDB/StructureBuilder.py:92: PDBConstructionWarning: WARNING: Chain B is discontinuous at line 5041.\n",
      "  PDBConstructionWarning,\n",
      "/wsu/home/fr/fr15/fr1583/.conda/envs/protein/lib/python3.7/site-packages/Bio/PDB/StructureBuilder.py:92: PDBConstructionWarning: WARNING: Chain A is discontinuous at line 838.\n",
      "  PDBConstructionWarning,\n"
     ]
    },
    {
     "name": "stdout",
     "output_type": "stream",
     "text": [
      "187 2y0t\n",
      "188 2y72\n"
     ]
    },
    {
     "name": "stderr",
     "output_type": "stream",
     "text": [
      "/wsu/home/fr/fr15/fr1583/.conda/envs/protein/lib/python3.7/site-packages/Bio/PDB/StructureBuilder.py:92: PDBConstructionWarning: WARNING: Chain B is discontinuous at line 900.\n",
      "  PDBConstructionWarning,\n",
      "/wsu/home/fr/fr15/fr1583/.conda/envs/protein/lib/python3.7/site-packages/Bio/PDB/StructureBuilder.py:92: PDBConstructionWarning: WARNING: Chain A is discontinuous at line 1323.\n",
      "  PDBConstructionWarning,\n",
      "/wsu/home/fr/fr15/fr1583/.conda/envs/protein/lib/python3.7/site-packages/Bio/PDB/StructureBuilder.py:92: PDBConstructionWarning: WARNING: Chain B is discontinuous at line 1499.\n",
      "  PDBConstructionWarning,\n"
     ]
    },
    {
     "name": "stdout",
     "output_type": "stream",
     "text": [
      "189 2y7l\n",
      "190 2y9f\n"
     ]
    },
    {
     "name": "stderr",
     "output_type": "stream",
     "text": [
      "/wsu/home/fr/fr15/fr1583/.conda/envs/protein/lib/python3.7/site-packages/Bio/PDB/StructureBuilder.py:92: PDBConstructionWarning: WARNING: Chain A is discontinuous at line 2426.\n",
      "  PDBConstructionWarning,\n",
      "/wsu/home/fr/fr15/fr1583/.conda/envs/protein/lib/python3.7/site-packages/Bio/PDB/StructureBuilder.py:92: PDBConstructionWarning: WARNING: Chain B is discontinuous at line 2729.\n",
      "  PDBConstructionWarning,\n"
     ]
    },
    {
     "name": "stdout",
     "output_type": "stream",
     "text": [
      "191 2ylb\n"
     ]
    },
    {
     "name": "stderr",
     "output_type": "stream",
     "text": [
      "/wsu/home/fr/fr15/fr1583/.conda/envs/protein/lib/python3.7/site-packages/Bio/PDB/StructureBuilder.py:92: PDBConstructionWarning: WARNING: Chain A is discontinuous at line 6853.\n",
      "  PDBConstructionWarning,\n",
      "/wsu/home/fr/fr15/fr1583/.conda/envs/protein/lib/python3.7/site-packages/Bio/PDB/StructureBuilder.py:92: PDBConstructionWarning: WARNING: Chain B is discontinuous at line 6921.\n",
      "  PDBConstructionWarning,\n",
      "/wsu/home/fr/fr15/fr1583/.conda/envs/protein/lib/python3.7/site-packages/Bio/PDB/StructureBuilder.py:92: PDBConstructionWarning: WARNING: Chain C is discontinuous at line 6981.\n",
      "  PDBConstructionWarning,\n",
      "/wsu/home/fr/fr15/fr1583/.conda/envs/protein/lib/python3.7/site-packages/Bio/PDB/StructureBuilder.py:92: PDBConstructionWarning: WARNING: Chain D is discontinuous at line 7048.\n",
      "  PDBConstructionWarning,\n",
      "/wsu/home/fr/fr15/fr1583/.conda/envs/protein/lib/python3.7/site-packages/Bio/PDB/StructureBuilder.py:92: PDBConstructionWarning: WARNING: Chain E is discontinuous at line 7113.\n",
      "  PDBConstructionWarning,\n",
      "/wsu/home/fr/fr15/fr1583/.conda/envs/protein/lib/python3.7/site-packages/Bio/PDB/StructureBuilder.py:92: PDBConstructionWarning: WARNING: Chain F is discontinuous at line 7177.\n",
      "  PDBConstructionWarning,\n"
     ]
    },
    {
     "name": "stdout",
     "output_type": "stream",
     "text": [
      "192 2yny\n"
     ]
    },
    {
     "name": "stderr",
     "output_type": "stream",
     "text": [
      "/wsu/home/fr/fr15/fr1583/.conda/envs/protein/lib/python3.7/site-packages/Bio/PDB/StructureBuilder.py:92: PDBConstructionWarning: WARNING: Chain A is discontinuous at line 2464.\n",
      "  PDBConstructionWarning,\n",
      "/wsu/home/fr/fr15/fr1583/.conda/envs/protein/lib/python3.7/site-packages/Bio/PDB/StructureBuilder.py:92: PDBConstructionWarning: WARNING: Chain B is discontinuous at line 2571.\n",
      "  PDBConstructionWarning,\n",
      "/wsu/home/fr/fr15/fr1583/.conda/envs/protein/lib/python3.7/site-packages/Bio/PDB/StructureBuilder.py:92: PDBConstructionWarning: WARNING: Chain C is discontinuous at line 2654.\n",
      "  PDBConstructionWarning,\n",
      "/wsu/home/fr/fr15/fr1583/.conda/envs/protein/lib/python3.7/site-packages/Bio/PDB/StructureBuilder.py:92: PDBConstructionWarning: WARNING: Chain A is discontinuous at line 3031.\n",
      "  PDBConstructionWarning,\n",
      "/wsu/home/fr/fr15/fr1583/.conda/envs/protein/lib/python3.7/site-packages/Bio/PDB/StructureBuilder.py:92: PDBConstructionWarning: WARNING: Chain B is discontinuous at line 3493.\n",
      "  PDBConstructionWarning,\n"
     ]
    },
    {
     "name": "stdout",
     "output_type": "stream",
     "text": [
      "193 2zcm\n",
      "194 2zu1\n",
      "195 3a0m\n"
     ]
    },
    {
     "name": "stderr",
     "output_type": "stream",
     "text": [
      "/wsu/home/fr/fr15/fr1583/.conda/envs/protein/lib/python3.7/site-packages/Bio/PDB/StructureBuilder.py:92: PDBConstructionWarning: WARNING: Chain A is discontinuous at line 2794.\n",
      "  PDBConstructionWarning,\n",
      "/wsu/home/fr/fr15/fr1583/.conda/envs/protein/lib/python3.7/site-packages/Bio/PDB/StructureBuilder.py:92: PDBConstructionWarning: WARNING: Chain B is discontinuous at line 3123.\n",
      "  PDBConstructionWarning,\n",
      "/wsu/home/fr/fr15/fr1583/.conda/envs/protein/lib/python3.7/site-packages/Bio/PDB/StructureBuilder.py:130: PDBConstructionWarning: WARNING: Residue (' ', 14, ' ') redefined at line 827.\n",
      "  PDBConstructionWarning,\n",
      "/wsu/home/fr/fr15/fr1583/.conda/envs/protein/lib/python3.7/site-packages/Bio/PDB/StructureBuilder.py:130: PDBConstructionWarning: WARNING: Residue (' ', 17, ' ') redefined at line 864.\n",
      "  PDBConstructionWarning,\n",
      "/wsu/home/fr/fr15/fr1583/.conda/envs/protein/lib/python3.7/site-packages/Bio/PDB/StructureBuilder.py:92: PDBConstructionWarning: WARNING: Chain A is discontinuous at line 929.\n",
      "  PDBConstructionWarning,\n",
      "/wsu/home/fr/fr15/fr1583/.conda/envs/protein/lib/python3.7/site-packages/Bio/PDB/StructureBuilder.py:92: PDBConstructionWarning: WARNING: Chain B is discontinuous at line 976.\n",
      "  PDBConstructionWarning,\n",
      "/wsu/home/fr/fr15/fr1583/.conda/envs/protein/lib/python3.7/site-packages/Bio/PDB/StructureBuilder.py:92: PDBConstructionWarning: WARNING: Chain C is discontinuous at line 1025.\n",
      "  PDBConstructionWarning,\n",
      "/wsu/home/fr/fr15/fr1583/.conda/envs/protein/lib/python3.7/site-packages/Bio/PDB/StructureBuilder.py:92: PDBConstructionWarning: WARNING: Chain D is discontinuous at line 1081.\n",
      "  PDBConstructionWarning,\n",
      "/wsu/home/fr/fr15/fr1583/.conda/envs/protein/lib/python3.7/site-packages/Bio/PDB/StructureBuilder.py:92: PDBConstructionWarning: WARNING: Chain E is discontinuous at line 1118.\n",
      "  PDBConstructionWarning,\n",
      "/wsu/home/fr/fr15/fr1583/.conda/envs/protein/lib/python3.7/site-packages/Bio/PDB/StructureBuilder.py:92: PDBConstructionWarning: WARNING: Chain F is discontinuous at line 1161.\n",
      "  PDBConstructionWarning,\n",
      "/wsu/home/fr/fr15/fr1583/.conda/envs/protein/lib/python3.7/site-packages/Bio/PDB/StructureBuilder.py:130: PDBConstructionWarning: WARNING: Residue (' ', 14, ' ') redefined at line 827.\n",
      "  PDBConstructionWarning,\n",
      "/wsu/home/fr/fr15/fr1583/.conda/envs/protein/lib/python3.7/site-packages/Bio/PDB/StructureBuilder.py:130: PDBConstructionWarning: WARNING: Residue (' ', 17, ' ') redefined at line 864.\n",
      "  PDBConstructionWarning,\n",
      "/wsu/home/fr/fr15/fr1583/.conda/envs/protein/lib/python3.7/site-packages/Bio/PDB/StructureBuilder.py:92: PDBConstructionWarning: WARNING: Chain A is discontinuous at line 929.\n",
      "  PDBConstructionWarning,\n",
      "/wsu/home/fr/fr15/fr1583/.conda/envs/protein/lib/python3.7/site-packages/Bio/PDB/StructureBuilder.py:92: PDBConstructionWarning: WARNING: Chain B is discontinuous at line 976.\n",
      "  PDBConstructionWarning,\n",
      "/wsu/home/fr/fr15/fr1583/.conda/envs/protein/lib/python3.7/site-packages/Bio/PDB/StructureBuilder.py:92: PDBConstructionWarning: WARNING: Chain C is discontinuous at line 1025.\n",
      "  PDBConstructionWarning,\n",
      "/wsu/home/fr/fr15/fr1583/.conda/envs/protein/lib/python3.7/site-packages/Bio/PDB/StructureBuilder.py:92: PDBConstructionWarning: WARNING: Chain D is discontinuous at line 1081.\n",
      "  PDBConstructionWarning,\n",
      "/wsu/home/fr/fr15/fr1583/.conda/envs/protein/lib/python3.7/site-packages/Bio/PDB/StructureBuilder.py:92: PDBConstructionWarning: WARNING: Chain E is discontinuous at line 1118.\n",
      "  PDBConstructionWarning,\n",
      "/wsu/home/fr/fr15/fr1583/.conda/envs/protein/lib/python3.7/site-packages/Bio/PDB/StructureBuilder.py:92: PDBConstructionWarning: WARNING: Chain F is discontinuous at line 1161.\n",
      "  PDBConstructionWarning,\n"
     ]
    },
    {
     "name": "stdout",
     "output_type": "stream",
     "text": [
      "Found input variables with inconsistent numbers of samples: [148, 150]\n",
      "196 3a7l\n",
      "197 3amc\n"
     ]
    },
    {
     "name": "stderr",
     "output_type": "stream",
     "text": [
      "/wsu/home/fr/fr15/fr1583/.conda/envs/protein/lib/python3.7/site-packages/Bio/PDB/StructureBuilder.py:92: PDBConstructionWarning: WARNING: Chain A is discontinuous at line 5174.\n",
      "  PDBConstructionWarning,\n",
      "/wsu/home/fr/fr15/fr1583/.conda/envs/protein/lib/python3.7/site-packages/Bio/PDB/StructureBuilder.py:92: PDBConstructionWarning: WARNING: Chain B is discontinuous at line 5546.\n",
      "  PDBConstructionWarning,\n",
      "/wsu/home/fr/fr15/fr1583/.conda/envs/protein/lib/python3.7/site-packages/Bio/PDB/StructureBuilder.py:92: PDBConstructionWarning: WARNING: Chain A is discontinuous at line 902.\n",
      "  PDBConstructionWarning,\n",
      "/wsu/home/fr/fr15/fr1583/.conda/envs/protein/lib/python3.7/site-packages/Bio/PDB/StructureBuilder.py:92: PDBConstructionWarning: WARNING: Chain B is discontinuous at line 1028.\n",
      "  PDBConstructionWarning,\n"
     ]
    },
    {
     "name": "stdout",
     "output_type": "stream",
     "text": [
      "198 3aub\n",
      "199 3b5o\n",
      "200 3ba1\n",
      "201 3bed\n",
      "202 3bqx\n"
     ]
    },
    {
     "name": "stderr",
     "output_type": "stream",
     "text": [
      "/wsu/home/fr/fr15/fr1583/.conda/envs/protein/lib/python3.7/site-packages/Bio/PDB/StructureBuilder.py:92: PDBConstructionWarning: WARNING: Chain A is discontinuous at line 2025.\n",
      "  PDBConstructionWarning,\n",
      "/wsu/home/fr/fr15/fr1583/.conda/envs/protein/lib/python3.7/site-packages/Bio/PDB/StructureBuilder.py:92: PDBConstructionWarning: WARNING: Chain B is discontinuous at line 2197.\n",
      "  PDBConstructionWarning,\n"
     ]
    },
    {
     "name": "stdout",
     "output_type": "stream",
     "text": [
      "203 3bzq\n",
      "204 3bzz\n",
      "205 3drf\n"
     ]
    },
    {
     "name": "stderr",
     "output_type": "stream",
     "text": [
      "/wsu/home/fr/fr15/fr1583/.conda/envs/protein/lib/python3.7/site-packages/Bio/PDB/StructureBuilder.py:92: PDBConstructionWarning: WARNING: Chain A is discontinuous at line 799.\n",
      "  PDBConstructionWarning,\n",
      "/wsu/home/fr/fr15/fr1583/.conda/envs/protein/lib/python3.7/site-packages/Bio/PDB/StructureBuilder.py:92: PDBConstructionWarning: WARNING: Chain B is discontinuous at line 821.\n",
      "  PDBConstructionWarning,\n",
      "/wsu/home/fr/fr15/fr1583/.conda/envs/protein/lib/python3.7/site-packages/Bio/PDB/StructureBuilder.py:92: PDBConstructionWarning: WARNING: Chain A is discontinuous at line 4397.\n",
      "  PDBConstructionWarning,\n",
      "/wsu/home/fr/fr15/fr1583/.conda/envs/protein/lib/python3.7/site-packages/Bio/PDB/StructureBuilder.py:92: PDBConstructionWarning: WARNING: Chain B is discontinuous at line 5508.\n",
      "  PDBConstructionWarning,\n"
     ]
    },
    {
     "name": "stdout",
     "output_type": "stream",
     "text": [
      "206 3dwv\n"
     ]
    },
    {
     "name": "stderr",
     "output_type": "stream",
     "text": [
      "/wsu/home/fr/fr15/fr1583/.conda/envs/protein/lib/python3.7/site-packages/Bio/PDB/StructureBuilder.py:92: PDBConstructionWarning: WARNING: Chain A is discontinuous at line 2780.\n",
      "  PDBConstructionWarning,\n",
      "/wsu/home/fr/fr15/fr1583/.conda/envs/protein/lib/python3.7/site-packages/Bio/PDB/StructureBuilder.py:92: PDBConstructionWarning: WARNING: Chain B is discontinuous at line 2951.\n",
      "  PDBConstructionWarning,\n",
      "/wsu/home/fr/fr15/fr1583/.conda/envs/protein/lib/python3.7/site-packages/Bio/PDB/StructureBuilder.py:92: PDBConstructionWarning: WARNING: Chain A is discontinuous at line 2780.\n",
      "  PDBConstructionWarning,\n",
      "/wsu/home/fr/fr15/fr1583/.conda/envs/protein/lib/python3.7/site-packages/Bio/PDB/StructureBuilder.py:92: PDBConstructionWarning: WARNING: Chain B is discontinuous at line 2951.\n",
      "  PDBConstructionWarning,\n"
     ]
    },
    {
     "name": "stdout",
     "output_type": "stream",
     "text": [
      "Found input variables with inconsistent numbers of samples: [325, 326]\n",
      "207 3e5t\n",
      "208 3e7r\n",
      "209 3eur\n",
      "210 3f2z\n",
      "211 3f7e\n"
     ]
    },
    {
     "name": "stderr",
     "output_type": "stream",
     "text": [
      "/wsu/home/fr/fr15/fr1583/.conda/envs/protein/lib/python3.7/site-packages/Bio/PDB/StructureBuilder.py:92: PDBConstructionWarning: WARNING: Chain A is discontinuous at line 2148.\n",
      "  PDBConstructionWarning,\n",
      "/wsu/home/fr/fr15/fr1583/.conda/envs/protein/lib/python3.7/site-packages/Bio/PDB/StructureBuilder.py:92: PDBConstructionWarning: WARNING: Chain B is discontinuous at line 2329.\n",
      "  PDBConstructionWarning,\n",
      "/wsu/home/fr/fr15/fr1583/.conda/envs/protein/lib/python3.7/site-packages/Bio/PDB/StructureBuilder.py:92: PDBConstructionWarning: WARNING: Chain A is discontinuous at line 752.\n",
      "  PDBConstructionWarning,\n",
      "/wsu/home/fr/fr15/fr1583/.conda/envs/protein/lib/python3.7/site-packages/Bio/PDB/StructureBuilder.py:92: PDBConstructionWarning: WARNING: Chain L is discontinuous at line 820.\n",
      "  PDBConstructionWarning,\n"
     ]
    },
    {
     "name": "stdout",
     "output_type": "stream",
     "text": [
      "212 3fcn\n",
      "213 3fe7\n",
      "214 3fke\n"
     ]
    },
    {
     "name": "stderr",
     "output_type": "stream",
     "text": [
      "/wsu/home/fr/fr15/fr1583/.conda/envs/protein/lib/python3.7/site-packages/Bio/PDB/StructureBuilder.py:92: PDBConstructionWarning: WARNING: Chain A is discontinuous at line 1938.\n",
      "  PDBConstructionWarning,\n",
      "/wsu/home/fr/fr15/fr1583/.conda/envs/protein/lib/python3.7/site-packages/Bio/PDB/StructureBuilder.py:92: PDBConstructionWarning: WARNING: Chain B is discontinuous at line 2043.\n",
      "  PDBConstructionWarning,\n",
      "/wsu/home/fr/fr15/fr1583/.conda/envs/protein/lib/python3.7/site-packages/Bio/PDB/StructureBuilder.py:92: PDBConstructionWarning: WARNING: Chain A is discontinuous at line 328.\n",
      "  PDBConstructionWarning,\n",
      "/wsu/home/fr/fr15/fr1583/.conda/envs/protein/lib/python3.7/site-packages/Bio/PDB/StructureBuilder.py:92: PDBConstructionWarning: WARNING: Chain B is discontinuous at line 339.\n",
      "  PDBConstructionWarning,\n",
      "/wsu/home/fr/fr15/fr1583/.conda/envs/protein/lib/python3.7/site-packages/Bio/PDB/StructureBuilder.py:92: PDBConstructionWarning: WARNING: Chain C is discontinuous at line 346.\n",
      "  PDBConstructionWarning,\n",
      "/wsu/home/fr/fr15/fr1583/.conda/envs/protein/lib/python3.7/site-packages/Bio/PDB/StructureBuilder.py:92: PDBConstructionWarning: WARNING: Chain D is discontinuous at line 356.\n",
      "  PDBConstructionWarning,\n",
      "/wsu/home/fr/fr15/fr1583/.conda/envs/protein/lib/python3.7/site-packages/Bio/PDB/StructureBuilder.py:92: PDBConstructionWarning: WARNING: Chain E is discontinuous at line 361.\n",
      "  PDBConstructionWarning,\n",
      "/wsu/home/fr/fr15/fr1583/.conda/envs/protein/lib/python3.7/site-packages/Bio/PDB/StructureBuilder.py:92: PDBConstructionWarning: WARNING: Chain F is discontinuous at line 368.\n",
      "  PDBConstructionWarning,\n",
      "/wsu/home/fr/fr15/fr1583/.conda/envs/protein/lib/python3.7/site-packages/Bio/PDB/StructureBuilder.py:92: PDBConstructionWarning: WARNING: Chain G is discontinuous at line 379.\n",
      "  PDBConstructionWarning,\n",
      "/wsu/home/fr/fr15/fr1583/.conda/envs/protein/lib/python3.7/site-packages/Bio/PDB/StructureBuilder.py:92: PDBConstructionWarning: WARNING: Chain H is discontinuous at line 391.\n",
      "  PDBConstructionWarning,\n"
     ]
    },
    {
     "name": "stdout",
     "output_type": "stream",
     "text": [
      "215 3fmy\n",
      "216 3fod\n",
      "217 3fso\n"
     ]
    },
    {
     "name": "stderr",
     "output_type": "stream",
     "text": [
      "/wsu/home/fr/fr15/fr1583/.conda/envs/protein/lib/python3.7/site-packages/Bio/PDB/StructureBuilder.py:92: PDBConstructionWarning: WARNING: Chain A is discontinuous at line 3803.\n",
      "  PDBConstructionWarning,\n",
      "/wsu/home/fr/fr15/fr1583/.conda/envs/protein/lib/python3.7/site-packages/Bio/PDB/StructureBuilder.py:92: PDBConstructionWarning: WARNING: Chain B is discontinuous at line 3945.\n",
      "  PDBConstructionWarning,\n"
     ]
    },
    {
     "name": "stdout",
     "output_type": "stream",
     "text": [
      "218 3ftd\n",
      "219 3fva\n"
     ]
    },
    {
     "name": "stderr",
     "output_type": "stream",
     "text": [
      "/wsu/home/fr/fr15/fr1583/K/NMAcomp/multiscale.py:54: RuntimeWarning: divide by zero encountered in true_divide\n",
      "  reg.fit(diag_n.T,1/bfactor)\n",
      "/wsu/home/fr/fr15/fr1583/.conda/envs/protein/lib/python3.7/site-packages/Bio/PDB/StructureBuilder.py:92: PDBConstructionWarning: WARNING: Chain A is discontinuous at line 3196.\n",
      "  PDBConstructionWarning,\n",
      "/wsu/home/fr/fr15/fr1583/.conda/envs/protein/lib/python3.7/site-packages/Bio/PDB/StructureBuilder.py:92: PDBConstructionWarning: WARNING: Chain B is discontinuous at line 3356.\n",
      "  PDBConstructionWarning,\n"
     ]
    },
    {
     "name": "stdout",
     "output_type": "stream",
     "text": [
      "Input contains NaN, infinity or a value too large for dtype('float64').\n",
      "220 3g1s\n",
      "221 3gbw\n",
      "222 3ghj\n",
      "223 3hfo\n"
     ]
    },
    {
     "name": "stderr",
     "output_type": "stream",
     "text": [
      "/wsu/home/fr/fr15/fr1583/.conda/envs/protein/lib/python3.7/site-packages/Bio/PDB/StructureBuilder.py:92: PDBConstructionWarning: WARNING: Chain A is discontinuous at line 1630.\n",
      "  PDBConstructionWarning,\n",
      "/wsu/home/fr/fr15/fr1583/.conda/envs/protein/lib/python3.7/site-packages/Bio/PDB/StructureBuilder.py:92: PDBConstructionWarning: WARNING: Chain B is discontinuous at line 1730.\n",
      "  PDBConstructionWarning,\n",
      "/wsu/home/fr/fr15/fr1583/.conda/envs/protein/lib/python3.7/site-packages/Bio/PDB/StructureBuilder.py:92: PDBConstructionWarning: WARNING: Chain C is discontinuous at line 1825.\n",
      "  PDBConstructionWarning,\n"
     ]
    },
    {
     "name": "stdout",
     "output_type": "stream",
     "text": [
      "224 3hhp\n"
     ]
    },
    {
     "name": "stderr",
     "output_type": "stream",
     "text": [
      "/wsu/home/fr/fr15/fr1583/.conda/envs/protein/lib/python3.7/site-packages/Bio/PDB/StructureBuilder.py:92: PDBConstructionWarning: WARNING: Chain A is discontinuous at line 9464.\n",
      "  PDBConstructionWarning,\n",
      "/wsu/home/fr/fr15/fr1583/.conda/envs/protein/lib/python3.7/site-packages/Bio/PDB/StructureBuilder.py:92: PDBConstructionWarning: WARNING: Chain B is discontinuous at line 9583.\n",
      "  PDBConstructionWarning,\n",
      "/wsu/home/fr/fr15/fr1583/.conda/envs/protein/lib/python3.7/site-packages/Bio/PDB/StructureBuilder.py:92: PDBConstructionWarning: WARNING: Chain C is discontinuous at line 9714.\n",
      "  PDBConstructionWarning,\n",
      "/wsu/home/fr/fr15/fr1583/.conda/envs/protein/lib/python3.7/site-packages/Bio/PDB/StructureBuilder.py:92: PDBConstructionWarning: WARNING: Chain D is discontinuous at line 9857.\n",
      "  PDBConstructionWarning,\n"
     ]
    },
    {
     "name": "stdout",
     "output_type": "stream",
     "text": [
      "skipped\n",
      "225 3hny\n",
      "226 3hp4\n",
      "227 3hwu\n",
      "228 3hyd\n",
      "229 3hz8\n",
      "230 3i2v\n",
      "231 3i2z\n",
      "232 3i4o\n"
     ]
    },
    {
     "name": "stderr",
     "output_type": "stream",
     "text": [
      "/wsu/home/fr/fr15/fr1583/.conda/envs/protein/lib/python3.7/site-packages/Bio/PDB/StructureBuilder.py:92: PDBConstructionWarning: WARNING: Chain B is discontinuous at line 1073.\n",
      "  PDBConstructionWarning,\n",
      "/wsu/home/fr/fr15/fr1583/.conda/envs/protein/lib/python3.7/site-packages/Bio/PDB/StructureBuilder.py:92: PDBConstructionWarning: WARNING: Chain A is discontinuous at line 1106.\n",
      "  PDBConstructionWarning,\n",
      "/wsu/home/fr/fr15/fr1583/.conda/envs/protein/lib/python3.7/site-packages/Bio/PDB/StructureBuilder.py:92: PDBConstructionWarning: WARNING: Chain A is discontinuous at line 1255.\n",
      "  PDBConstructionWarning,\n",
      "/wsu/home/fr/fr15/fr1583/.conda/envs/protein/lib/python3.7/site-packages/Bio/PDB/StructureBuilder.py:92: PDBConstructionWarning: WARNING: Chain B is discontinuous at line 1352.\n",
      "  PDBConstructionWarning,\n"
     ]
    },
    {
     "name": "stdout",
     "output_type": "stream",
     "text": [
      "233 3i7m\n",
      "234 3ihs\n"
     ]
    },
    {
     "name": "stderr",
     "output_type": "stream",
     "text": [
      "/wsu/home/fr/fr15/fr1583/.conda/envs/protein/lib/python3.7/site-packages/Bio/PDB/StructureBuilder.py:92: PDBConstructionWarning: WARNING: Chain A is discontinuous at line 1363.\n",
      "  PDBConstructionWarning,\n",
      "/wsu/home/fr/fr15/fr1583/.conda/envs/protein/lib/python3.7/site-packages/Bio/PDB/StructureBuilder.py:92: PDBConstructionWarning: WARNING: Chain B is discontinuous at line 1468.\n",
      "  PDBConstructionWarning,\n",
      "/wsu/home/fr/fr15/fr1583/.conda/envs/protein/lib/python3.7/site-packages/Bio/PDB/StructureBuilder.py:92: PDBConstructionWarning: WARNING: Chain A is discontinuous at line 1286.\n",
      "  PDBConstructionWarning,\n",
      "/wsu/home/fr/fr15/fr1583/.conda/envs/protein/lib/python3.7/site-packages/Bio/PDB/StructureBuilder.py:92: PDBConstructionWarning: WARNING: Chain D is discontinuous at line 1487.\n",
      "  PDBConstructionWarning,\n"
     ]
    },
    {
     "name": "stdout",
     "output_type": "stream",
     "text": [
      "235 3ivv\n"
     ]
    },
    {
     "name": "stderr",
     "output_type": "stream",
     "text": [
      "/wsu/home/fr/fr15/fr1583/.conda/envs/protein/lib/python3.7/site-packages/Bio/PDB/StructureBuilder.py:92: PDBConstructionWarning: WARNING: Chain A is discontinuous at line 1286.\n",
      "  PDBConstructionWarning,\n",
      "/wsu/home/fr/fr15/fr1583/.conda/envs/protein/lib/python3.7/site-packages/Bio/PDB/StructureBuilder.py:92: PDBConstructionWarning: WARNING: Chain D is discontinuous at line 1487.\n",
      "  PDBConstructionWarning,\n"
     ]
    },
    {
     "name": "stdout",
     "output_type": "stream",
     "text": [
      "Found input variables with inconsistent numbers of samples: [149, 150]\n",
      "236 3k6y\n",
      "237 3kbe\n",
      "238 3kgk\n",
      "239 3kzd\n",
      "240 3l41\n"
     ]
    },
    {
     "name": "stderr",
     "output_type": "stream",
     "text": [
      "/wsu/home/fr/fr15/fr1583/.conda/envs/protein/lib/python3.7/site-packages/Bio/PDB/StructureBuilder.py:92: PDBConstructionWarning: WARNING: Chain A is discontinuous at line 1492.\n",
      "  PDBConstructionWarning,\n",
      "/wsu/home/fr/fr15/fr1583/.conda/envs/protein/lib/python3.7/site-packages/Bio/PDB/StructureBuilder.py:92: PDBConstructionWarning: WARNING: Chain B is discontinuous at line 1629.\n",
      "  PDBConstructionWarning,\n",
      "/wsu/home/fr/fr15/fr1583/.conda/envs/protein/lib/python3.7/site-packages/Bio/PDB/StructureBuilder.py:92: PDBConstructionWarning: WARNING: Chain A is discontinuous at line 1745.\n",
      "  PDBConstructionWarning,\n",
      "/wsu/home/fr/fr15/fr1583/.conda/envs/protein/lib/python3.7/site-packages/Bio/PDB/StructureBuilder.py:92: PDBConstructionWarning: WARNING: Chain B is discontinuous at line 2150.\n",
      "  PDBConstructionWarning,\n"
     ]
    },
    {
     "name": "stdout",
     "output_type": "stream",
     "text": [
      "241 3laa\n",
      "242 3lax\n",
      "243 3lg3\n"
     ]
    },
    {
     "name": "stderr",
     "output_type": "stream",
     "text": [
      "/wsu/home/fr/fr15/fr1583/.conda/envs/protein/lib/python3.7/site-packages/Bio/PDB/StructureBuilder.py:92: PDBConstructionWarning: WARNING: Chain A is discontinuous at line 6699.\n",
      "  PDBConstructionWarning,\n",
      "/wsu/home/fr/fr15/fr1583/.conda/envs/protein/lib/python3.7/site-packages/Bio/PDB/StructureBuilder.py:92: PDBConstructionWarning: WARNING: Chain B is discontinuous at line 7316.\n",
      "  PDBConstructionWarning,\n"
     ]
    },
    {
     "name": "stdout",
     "output_type": "stream",
     "text": [
      "244 3lji\n",
      "245 3m3p\n",
      "246 3m8j\n"
     ]
    },
    {
     "name": "stderr",
     "output_type": "stream",
     "text": [
      "/wsu/home/fr/fr15/fr1583/.conda/envs/protein/lib/python3.7/site-packages/Bio/PDB/StructureBuilder.py:92: PDBConstructionWarning: WARNING: Chain A is discontinuous at line 1396.\n",
      "  PDBConstructionWarning,\n",
      "/wsu/home/fr/fr15/fr1583/.conda/envs/protein/lib/python3.7/site-packages/Bio/PDB/StructureBuilder.py:92: PDBConstructionWarning: WARNING: Chain B is discontinuous at line 1463.\n",
      "  PDBConstructionWarning,\n",
      "/wsu/home/fr/fr15/fr1583/.conda/envs/protein/lib/python3.7/site-packages/Bio/PDB/StructureBuilder.py:92: PDBConstructionWarning: WARNING: Chain A is discontinuous at line 1955.\n",
      "  PDBConstructionWarning,\n",
      "/wsu/home/fr/fr15/fr1583/.conda/envs/protein/lib/python3.7/site-packages/Bio/PDB/StructureBuilder.py:92: PDBConstructionWarning: WARNING: Chain B is discontinuous at line 2057.\n",
      "  PDBConstructionWarning,\n"
     ]
    },
    {
     "name": "stdout",
     "output_type": "stream",
     "text": [
      "247 3m9j\n",
      "248 3m9q\n"
     ]
    },
    {
     "name": "stderr",
     "output_type": "stream",
     "text": [
      "/wsu/home/fr/fr15/fr1583/.conda/envs/protein/lib/python3.7/site-packages/Bio/PDB/StructureBuilder.py:92: PDBConstructionWarning: WARNING: Chain A is discontinuous at line 1577.\n",
      "  PDBConstructionWarning,\n",
      "/wsu/home/fr/fr15/fr1583/.conda/envs/protein/lib/python3.7/site-packages/Bio/PDB/StructureBuilder.py:92: PDBConstructionWarning: WARNING: Chain B is discontinuous at line 1849.\n",
      "  PDBConstructionWarning,\n",
      "/wsu/home/fr/fr15/fr1583/.conda/envs/protein/lib/python3.7/site-packages/Bio/PDB/StructureBuilder.py:92: PDBConstructionWarning: WARNING: Chain A is discontinuous at line 1417.\n",
      "  PDBConstructionWarning,\n"
     ]
    },
    {
     "name": "stdout",
     "output_type": "stream",
     "text": [
      "249 3mab\n"
     ]
    },
    {
     "name": "stderr",
     "output_type": "stream",
     "text": [
      "/wsu/home/fr/fr15/fr1583/.conda/envs/protein/lib/python3.7/site-packages/Bio/PDB/StructureBuilder.py:92: PDBConstructionWarning: WARNING: Chain B is discontinuous at line 1519.\n",
      "  PDBConstructionWarning,\n",
      "/wsu/home/fr/fr15/fr1583/.conda/envs/protein/lib/python3.7/site-packages/Bio/PDB/StructureBuilder.py:92: PDBConstructionWarning: WARNING: Chain A is discontinuous at line 91.\n",
      "  PDBConstructionWarning,\n",
      "/wsu/home/fr/fr15/fr1583/.conda/envs/protein/lib/python3.7/site-packages/Bio/PDB/StructureBuilder.py:92: PDBConstructionWarning: WARNING: Chain B is discontinuous at line 97.\n",
      "  PDBConstructionWarning,\n",
      "/wsu/home/fr/fr15/fr1583/.conda/envs/protein/lib/python3.7/site-packages/Bio/PDB/StructureBuilder.py:92: PDBConstructionWarning: WARNING: Chain A is discontinuous at line 93.\n",
      "  PDBConstructionWarning,\n",
      "/wsu/home/fr/fr15/fr1583/.conda/envs/protein/lib/python3.7/site-packages/Bio/PDB/StructureBuilder.py:92: PDBConstructionWarning: WARNING: Chain B is discontinuous at line 96.\n",
      "  PDBConstructionWarning,\n",
      "/wsu/home/fr/fr15/fr1583/.conda/envs/protein/lib/python3.7/site-packages/Bio/PDB/StructureBuilder.py:92: PDBConstructionWarning: WARNING: Chain A is discontinuous at line 1317.\n",
      "  PDBConstructionWarning,\n",
      "/wsu/home/fr/fr15/fr1583/.conda/envs/protein/lib/python3.7/site-packages/Bio/PDB/StructureBuilder.py:92: PDBConstructionWarning: WARNING: Chain B is discontinuous at line 1473.\n",
      "  PDBConstructionWarning,\n"
     ]
    },
    {
     "name": "stdout",
     "output_type": "stream",
     "text": [
      "250 3md4\n",
      "251 3md5\n",
      "252 3mea\n",
      "253 3mgn\n"
     ]
    },
    {
     "name": "stderr",
     "output_type": "stream",
     "text": [
      "/wsu/home/fr/fr15/fr1583/.conda/envs/protein/lib/python3.7/site-packages/Bio/PDB/StructureBuilder.py:92: PDBConstructionWarning: WARNING: Chain A is discontinuous at line 3038.\n",
      "  PDBConstructionWarning,\n",
      "/wsu/home/fr/fr15/fr1583/.conda/envs/protein/lib/python3.7/site-packages/Bio/PDB/StructureBuilder.py:92: PDBConstructionWarning: WARNING: Chain B is discontinuous at line 3101.\n",
      "  PDBConstructionWarning,\n",
      "/wsu/home/fr/fr15/fr1583/.conda/envs/protein/lib/python3.7/site-packages/Bio/PDB/StructureBuilder.py:92: PDBConstructionWarning: WARNING: Chain C is discontinuous at line 3169.\n",
      "  PDBConstructionWarning,\n",
      "/wsu/home/fr/fr15/fr1583/.conda/envs/protein/lib/python3.7/site-packages/Bio/PDB/StructureBuilder.py:92: PDBConstructionWarning: WARNING: Chain D is discontinuous at line 3215.\n",
      "  PDBConstructionWarning,\n",
      "/wsu/home/fr/fr15/fr1583/.conda/envs/protein/lib/python3.7/site-packages/Bio/PDB/StructureBuilder.py:92: PDBConstructionWarning: WARNING: Chain E is discontinuous at line 3267.\n",
      "  PDBConstructionWarning,\n",
      "/wsu/home/fr/fr15/fr1583/.conda/envs/protein/lib/python3.7/site-packages/Bio/PDB/StructureBuilder.py:92: PDBConstructionWarning: WARNING: Chain F is discontinuous at line 3300.\n",
      "  PDBConstructionWarning,\n",
      "/wsu/home/fr/fr15/fr1583/.conda/envs/protein/lib/python3.7/site-packages/Bio/PDB/StructureBuilder.py:92: PDBConstructionWarning: WARNING: Chain G is discontinuous at line 3326.\n",
      "  PDBConstructionWarning,\n",
      "/wsu/home/fr/fr15/fr1583/.conda/envs/protein/lib/python3.7/site-packages/Bio/PDB/StructureBuilder.py:92: PDBConstructionWarning: WARNING: Chain H is discontinuous at line 3332.\n",
      "  PDBConstructionWarning,\n",
      "/wsu/home/fr/fr15/fr1583/.conda/envs/protein/lib/python3.7/site-packages/Bio/PDB/StructureBuilder.py:92: PDBConstructionWarning: WARNING: Chain I is discontinuous at line 3357.\n",
      "  PDBConstructionWarning,\n",
      "/wsu/home/fr/fr15/fr1583/.conda/envs/protein/lib/python3.7/site-packages/Bio/PDB/StructureBuilder.py:92: PDBConstructionWarning: WARNING: Chain J is discontinuous at line 3367.\n",
      "  PDBConstructionWarning,\n",
      "/wsu/home/fr/fr15/fr1583/.conda/envs/protein/lib/python3.7/site-packages/Bio/PDB/StructureBuilder.py:92: PDBConstructionWarning: WARNING: Chain K is discontinuous at line 3373.\n",
      "  PDBConstructionWarning,\n",
      "/wsu/home/fr/fr15/fr1583/.conda/envs/protein/lib/python3.7/site-packages/Bio/PDB/StructureBuilder.py:92: PDBConstructionWarning: WARNING: Chain L is discontinuous at line 3388.\n",
      "  PDBConstructionWarning,\n"
     ]
    },
    {
     "name": "stdout",
     "output_type": "stream",
     "text": [
      "254 3mre\n"
     ]
    },
    {
     "name": "stderr",
     "output_type": "stream",
     "text": [
      "/wsu/home/fr/fr15/fr1583/.conda/envs/protein/lib/python3.7/site-packages/Bio/PDB/StructureBuilder.py:92: PDBConstructionWarning: WARNING: Chain A is discontinuous at line 3678.\n",
      "  PDBConstructionWarning,\n",
      "/wsu/home/fr/fr15/fr1583/.conda/envs/protein/lib/python3.7/site-packages/Bio/PDB/StructureBuilder.py:92: PDBConstructionWarning: WARNING: Chain B is discontinuous at line 4160.\n",
      "  PDBConstructionWarning,\n",
      "/wsu/home/fr/fr15/fr1583/.conda/envs/protein/lib/python3.7/site-packages/Bio/PDB/StructureBuilder.py:92: PDBConstructionWarning: WARNING: Chain P is discontinuous at line 4348.\n",
      "  PDBConstructionWarning,\n"
     ]
    },
    {
     "name": "stdout",
     "output_type": "stream",
     "text": [
      "255 3n11\n",
      "256 3ne0\n",
      "257 3ngg\n"
     ]
    },
    {
     "name": "stderr",
     "output_type": "stream",
     "text": [
      "/wsu/home/fr/fr15/fr1583/.conda/envs/protein/lib/python3.7/site-packages/Bio/PDB/StructureBuilder.py:92: PDBConstructionWarning: WARNING: Chain A is discontinuous at line 732.\n",
      "  PDBConstructionWarning,\n",
      "/wsu/home/fr/fr15/fr1583/.conda/envs/protein/lib/python3.7/site-packages/Bio/PDB/StructureBuilder.py:92: PDBConstructionWarning: WARNING: Chain B is discontinuous at line 797.\n",
      "  PDBConstructionWarning,\n"
     ]
    },
    {
     "name": "stdout",
     "output_type": "stream",
     "text": [
      "258 3npv\n"
     ]
    },
    {
     "name": "stderr",
     "output_type": "stream",
     "text": [
      "/wsu/home/fr/fr15/fr1583/.conda/envs/protein/lib/python3.7/site-packages/Bio/PDB/StructureBuilder.py:92: PDBConstructionWarning: WARNING: Chain B is discontinuous at line 3711.\n",
      "  PDBConstructionWarning,\n",
      "/wsu/home/fr/fr15/fr1583/.conda/envs/protein/lib/python3.7/site-packages/Bio/PDB/StructureBuilder.py:92: PDBConstructionWarning: WARNING: Chain A is discontinuous at line 3856.\n",
      "  PDBConstructionWarning,\n"
     ]
    },
    {
     "name": "stdout",
     "output_type": "stream",
     "text": [
      "259 3nvg\n",
      "260 3nzl\n",
      "261 3o0p\n",
      "262 3o5p\n",
      "263 3obq\n"
     ]
    },
    {
     "name": "stderr",
     "output_type": "stream",
     "text": [
      "/wsu/home/fr/fr15/fr1583/.conda/envs/protein/lib/python3.7/site-packages/Bio/PDB/StructureBuilder.py:92: PDBConstructionWarning: WARNING: Chain A is discontinuous at line 1195.\n",
      "  PDBConstructionWarning,\n",
      "/wsu/home/fr/fr15/fr1583/.conda/envs/protein/lib/python3.7/site-packages/Bio/PDB/StructureBuilder.py:92: PDBConstructionWarning: WARNING: Chain B is discontinuous at line 1384.\n",
      "  PDBConstructionWarning,\n",
      "/wsu/home/fr/fr15/fr1583/.conda/envs/protein/lib/python3.7/site-packages/Bio/PDB/StructureBuilder.py:92: PDBConstructionWarning: WARNING: Chain b is discontinuous at line 1848.\n",
      "  PDBConstructionWarning,\n",
      "/wsu/home/fr/fr15/fr1583/.conda/envs/protein/lib/python3.7/site-packages/Bio/PDB/StructureBuilder.py:92: PDBConstructionWarning: WARNING: Chain B is discontinuous at line 1885.\n",
      "  PDBConstructionWarning,\n",
      "/wsu/home/fr/fr15/fr1583/.conda/envs/protein/lib/python3.7/site-packages/Bio/PDB/StructureBuilder.py:92: PDBConstructionWarning: WARNING: Chain a is discontinuous at line 2033.\n",
      "  PDBConstructionWarning,\n",
      "/wsu/home/fr/fr15/fr1583/.conda/envs/protein/lib/python3.7/site-packages/Bio/PDB/StructureBuilder.py:92: PDBConstructionWarning: WARNING: Chain A is discontinuous at line 2063.\n",
      "  PDBConstructionWarning,\n"
     ]
    },
    {
     "name": "stdout",
     "output_type": "stream",
     "text": [
      "264 3oqy\n",
      "265 3p6j\n",
      "266 3pd7\n"
     ]
    },
    {
     "name": "stderr",
     "output_type": "stream",
     "text": [
      "/wsu/home/fr/fr15/fr1583/.conda/envs/protein/lib/python3.7/site-packages/Bio/PDB/StructureBuilder.py:92: PDBConstructionWarning: WARNING: Chain A is discontinuous at line 3408.\n",
      "  PDBConstructionWarning,\n",
      "/wsu/home/fr/fr15/fr1583/.conda/envs/protein/lib/python3.7/site-packages/Bio/PDB/StructureBuilder.py:92: PDBConstructionWarning: WARNING: Chain B is discontinuous at line 3587.\n",
      "  PDBConstructionWarning,\n",
      "/wsu/home/fr/fr15/fr1583/.conda/envs/protein/lib/python3.7/site-packages/Bio/PDB/StructureBuilder.py:92: PDBConstructionWarning: WARNING: Chain A is discontinuous at line 1342.\n",
      "  PDBConstructionWarning,\n",
      "/wsu/home/fr/fr15/fr1583/.conda/envs/protein/lib/python3.7/site-packages/Bio/PDB/StructureBuilder.py:92: PDBConstructionWarning: WARNING: Chain B is discontinuous at line 1505.\n",
      "  PDBConstructionWarning,\n"
     ]
    },
    {
     "name": "stdout",
     "output_type": "stream",
     "text": [
      "267 3pes\n",
      "268 3pid\n",
      "269 3piw\n",
      "270 3pkv\n",
      "271 3psm\n",
      "272 3ptl\n"
     ]
    },
    {
     "name": "stderr",
     "output_type": "stream",
     "text": [
      "/wsu/home/fr/fr15/fr1583/.conda/envs/protein/lib/python3.7/site-packages/Bio/PDB/StructureBuilder.py:92: PDBConstructionWarning: WARNING: Chain A is discontinuous at line 772.\n",
      "  PDBConstructionWarning,\n",
      "/wsu/home/fr/fr15/fr1583/.conda/envs/protein/lib/python3.7/site-packages/Bio/PDB/StructureBuilder.py:92: PDBConstructionWarning: WARNING: Chain B is discontinuous at line 859.\n",
      "  PDBConstructionWarning,\n",
      "/wsu/home/fr/fr15/fr1583/.conda/envs/protein/lib/python3.7/site-packages/Bio/PDB/StructureBuilder.py:92: PDBConstructionWarning: WARNING: Chain A is discontinuous at line 2101.\n",
      "  PDBConstructionWarning,\n",
      "/wsu/home/fr/fr15/fr1583/.conda/envs/protein/lib/python3.7/site-packages/Bio/PDB/StructureBuilder.py:92: PDBConstructionWarning: WARNING: Chain B is discontinuous at line 2532.\n",
      "  PDBConstructionWarning,\n"
     ]
    },
    {
     "name": "stdout",
     "output_type": "stream",
     "text": [
      "273 3pve\n"
     ]
    },
    {
     "name": "stderr",
     "output_type": "stream",
     "text": [
      "/wsu/home/fr/fr15/fr1583/.conda/envs/protein/lib/python3.7/site-packages/Bio/PDB/StructureBuilder.py:92: PDBConstructionWarning: WARNING: Chain A is discontinuous at line 2656.\n",
      "  PDBConstructionWarning,\n",
      "/wsu/home/fr/fr15/fr1583/.conda/envs/protein/lib/python3.7/site-packages/Bio/PDB/StructureBuilder.py:92: PDBConstructionWarning: WARNING: Chain B is discontinuous at line 2788.\n",
      "  PDBConstructionWarning,\n"
     ]
    },
    {
     "name": "stdout",
     "output_type": "stream",
     "text": [
      "274 3pz9\n",
      "275 3pzz\n",
      "276 3q2x\n",
      "277 3q6l\n",
      "278 3qds\n"
     ]
    },
    {
     "name": "stderr",
     "output_type": "stream",
     "text": [
      "/wsu/home/fr/fr15/fr1583/.conda/envs/protein/lib/python3.7/site-packages/Bio/PDB/StructureBuilder.py:92: PDBConstructionWarning: WARNING: Chain A is discontinuous at line 76.\n",
      "  PDBConstructionWarning,\n",
      "/wsu/home/fr/fr15/fr1583/.conda/envs/protein/lib/python3.7/site-packages/Bio/PDB/StructureBuilder.py:92: PDBConstructionWarning: WARNING: Chain B is discontinuous at line 79.\n",
      "  PDBConstructionWarning,\n",
      "/wsu/home/fr/fr15/fr1583/.conda/envs/protein/lib/python3.7/site-packages/Bio/PDB/StructureBuilder.py:92: PDBConstructionWarning: WARNING: Chain A is discontinuous at line 2240.\n",
      "  PDBConstructionWarning,\n",
      "/wsu/home/fr/fr15/fr1583/.conda/envs/protein/lib/python3.7/site-packages/Bio/PDB/StructureBuilder.py:92: PDBConstructionWarning: WARNING: Chain B is discontinuous at line 2352.\n",
      "  PDBConstructionWarning,\n"
     ]
    },
    {
     "name": "stdout",
     "output_type": "stream",
     "text": [
      "279 3qpa\n",
      "280 3r6d\n",
      "281 3r87\n",
      "282 3rq9\n"
     ]
    },
    {
     "name": "stderr",
     "output_type": "stream",
     "text": [
      "/wsu/home/fr/fr15/fr1583/.conda/envs/protein/lib/python3.7/site-packages/Bio/PDB/StructureBuilder.py:92: PDBConstructionWarning: WARNING: Chain A is discontinuous at line 1363.\n",
      "  PDBConstructionWarning,\n",
      "/wsu/home/fr/fr15/fr1583/.conda/envs/protein/lib/python3.7/site-packages/Bio/PDB/StructureBuilder.py:92: PDBConstructionWarning: WARNING: Chain B is discontinuous at line 1459.\n",
      "  PDBConstructionWarning,\n",
      "/wsu/home/fr/fr15/fr1583/.conda/envs/protein/lib/python3.7/site-packages/Bio/PDB/StructureBuilder.py:92: PDBConstructionWarning: WARNING: Chain A is discontinuous at line 964.\n",
      "  PDBConstructionWarning,\n",
      "/wsu/home/fr/fr15/fr1583/.conda/envs/protein/lib/python3.7/site-packages/Bio/PDB/StructureBuilder.py:92: PDBConstructionWarning: WARNING: Chain B is discontinuous at line 1052.\n",
      "  PDBConstructionWarning,\n"
     ]
    },
    {
     "name": "stdout",
     "output_type": "stream",
     "text": [
      "283 3ry0\n",
      "284 3rzy\n",
      "285 3s0a\n",
      "286 3sd2\n",
      "287 3seb\n",
      "288 3sed\n",
      "Found input variables with inconsistent numbers of samples: [124, 125]\n",
      "289 3so6\n",
      "290 3sr3\n"
     ]
    },
    {
     "name": "stderr",
     "output_type": "stream",
     "text": [
      "/wsu/home/fr/fr15/fr1583/.conda/envs/protein/lib/python3.7/site-packages/Bio/PDB/StructureBuilder.py:92: PDBConstructionWarning: WARNING: Chain A is discontinuous at line 1217.\n",
      "  PDBConstructionWarning,\n",
      "/wsu/home/fr/fr15/fr1583/.conda/envs/protein/lib/python3.7/site-packages/Bio/PDB/StructureBuilder.py:92: PDBConstructionWarning: WARNING: Chain Q is discontinuous at line 1383.\n",
      "  PDBConstructionWarning,\n",
      "/wsu/home/fr/fr15/fr1583/.conda/envs/protein/lib/python3.7/site-packages/Bio/PDB/StructureBuilder.py:92: PDBConstructionWarning: WARNING: Chain A is discontinuous at line 5075.\n",
      "  PDBConstructionWarning,\n",
      "/wsu/home/fr/fr15/fr1583/.conda/envs/protein/lib/python3.7/site-packages/Bio/PDB/StructureBuilder.py:92: PDBConstructionWarning: WARNING: Chain B is discontinuous at line 5427.\n",
      "  PDBConstructionWarning,\n",
      "/wsu/home/fr/fr15/fr1583/.conda/envs/protein/lib/python3.7/site-packages/Bio/PDB/StructureBuilder.py:92: PDBConstructionWarning: WARNING: Chain A is discontinuous at line 1803.\n",
      "  PDBConstructionWarning,\n",
      "/wsu/home/fr/fr15/fr1583/.conda/envs/protein/lib/python3.7/site-packages/Bio/PDB/StructureBuilder.py:92: PDBConstructionWarning: WARNING: Chain B is discontinuous at line 1998.\n",
      "  PDBConstructionWarning,\n"
     ]
    },
    {
     "name": "stdout",
     "output_type": "stream",
     "text": [
      "291 3suk\n",
      "292 3szh\n"
     ]
    },
    {
     "name": "stderr",
     "output_type": "stream",
     "text": [
      "/wsu/home/fr/fr15/fr1583/.conda/envs/protein/lib/python3.7/site-packages/Bio/PDB/StructureBuilder.py:92: PDBConstructionWarning: WARNING: Chain A is discontinuous at line 5510.\n",
      "  PDBConstructionWarning,\n",
      "/wsu/home/fr/fr15/fr1583/.conda/envs/protein/lib/python3.7/site-packages/Bio/PDB/StructureBuilder.py:92: PDBConstructionWarning: WARNING: Chain B is discontinuous at line 5665.\n",
      "  PDBConstructionWarning,\n",
      "/wsu/home/fr/fr15/fr1583/.conda/envs/protein/lib/python3.7/site-packages/Bio/PDB/StructureBuilder.py:92: PDBConstructionWarning: WARNING: Chain C is discontinuous at line 5805.\n",
      "  PDBConstructionWarning,\n",
      "/wsu/home/fr/fr15/fr1583/.conda/envs/protein/lib/python3.7/site-packages/Bio/PDB/StructureBuilder.py:92: PDBConstructionWarning: WARNING: Chain D is discontinuous at line 5941.\n",
      "  PDBConstructionWarning,\n",
      "/wsu/home/fr/fr15/fr1583/.conda/envs/protein/lib/python3.7/site-packages/Bio/PDB/StructureBuilder.py:92: PDBConstructionWarning: WARNING: Chain E is discontinuous at line 6078.\n",
      "  PDBConstructionWarning,\n",
      "/wsu/home/fr/fr15/fr1583/.conda/envs/protein/lib/python3.7/site-packages/Bio/PDB/StructureBuilder.py:92: PDBConstructionWarning: WARNING: Chain F is discontinuous at line 6214.\n",
      "  PDBConstructionWarning,\n"
     ]
    },
    {
     "name": "stdout",
     "output_type": "stream",
     "text": [
      "293 3t0h\n",
      "294 3t3k\n",
      "295 3t47\n"
     ]
    },
    {
     "name": "stderr",
     "output_type": "stream",
     "text": [
      "/wsu/home/fr/fr15/fr1583/.conda/envs/protein/lib/python3.7/site-packages/Bio/PDB/StructureBuilder.py:92: PDBConstructionWarning: WARNING: Chain A is discontinuous at line 2374.\n",
      "  PDBConstructionWarning,\n",
      "/wsu/home/fr/fr15/fr1583/.conda/envs/protein/lib/python3.7/site-packages/Bio/PDB/StructureBuilder.py:92: PDBConstructionWarning: WARNING: Chain B is discontinuous at line 2472.\n",
      "  PDBConstructionWarning,\n"
     ]
    },
    {
     "name": "stdout",
     "output_type": "stream",
     "text": [
      "296 3tdn\n"
     ]
    },
    {
     "name": "stderr",
     "output_type": "stream",
     "text": [
      "/wsu/home/fr/fr15/fr1583/.conda/envs/protein/lib/python3.7/site-packages/Bio/PDB/StructureBuilder.py:92: PDBConstructionWarning: WARNING: Chain A is discontinuous at line 2735.\n",
      "  PDBConstructionWarning,\n",
      "/wsu/home/fr/fr15/fr1583/.conda/envs/protein/lib/python3.7/site-packages/Bio/PDB/StructureBuilder.py:92: PDBConstructionWarning: WARNING: Chain B is discontinuous at line 2819.\n",
      "  PDBConstructionWarning,\n"
     ]
    },
    {
     "name": "stdout",
     "output_type": "stream",
     "text": [
      "297 3tow\n",
      "298 3tua\n",
      "299 3tys\n",
      "300 3u6g\n"
     ]
    },
    {
     "name": "stderr",
     "output_type": "stream",
     "text": [
      "/wsu/home/fr/fr15/fr1583/.conda/envs/protein/lib/python3.7/site-packages/Bio/PDB/StructureBuilder.py:92: PDBConstructionWarning: WARNING: Chain A is discontinuous at line 2011.\n",
      "  PDBConstructionWarning,\n",
      "/wsu/home/fr/fr15/fr1583/.conda/envs/protein/lib/python3.7/site-packages/Bio/PDB/StructureBuilder.py:92: PDBConstructionWarning: WARNING: Chain B is discontinuous at line 2112.\n",
      "  PDBConstructionWarning,\n"
     ]
    },
    {
     "name": "stdout",
     "output_type": "stream",
     "text": [
      "301 3u97\n",
      "302 3uci\n",
      "303 3ur8\n"
     ]
    },
    {
     "name": "stderr",
     "output_type": "stream",
     "text": [
      "/wsu/home/fr/fr15/fr1583/.conda/envs/protein/lib/python3.7/site-packages/Bio/PDB/StructureBuilder.py:92: PDBConstructionWarning: WARNING: Chain A is discontinuous at line 5131.\n",
      "  PDBConstructionWarning,\n",
      "/wsu/home/fr/fr15/fr1583/.conda/envs/protein/lib/python3.7/site-packages/Bio/PDB/StructureBuilder.py:92: PDBConstructionWarning: WARNING: Chain B is discontinuous at line 5559.\n",
      "  PDBConstructionWarning,\n"
     ]
    },
    {
     "name": "stdout",
     "output_type": "stream",
     "text": [
      "304 3us6\n",
      "305 3v1a\n",
      "306 3v75\n",
      "307 3vn0\n"
     ]
    },
    {
     "name": "stderr",
     "output_type": "stream",
     "text": [
      "/wsu/home/fr/fr15/fr1583/.conda/envs/protein/lib/python3.7/site-packages/Bio/PDB/StructureBuilder.py:92: PDBConstructionWarning: WARNING: Chain A is discontinuous at line 1690.\n",
      "  PDBConstructionWarning,\n",
      "/wsu/home/fr/fr15/fr1583/.conda/envs/protein/lib/python3.7/site-packages/Bio/PDB/StructureBuilder.py:92: PDBConstructionWarning: WARNING: Chain C is discontinuous at line 1746.\n",
      "  PDBConstructionWarning,\n",
      "/wsu/home/fr/fr15/fr1583/.conda/envs/protein/lib/python3.7/site-packages/Bio/PDB/StructureBuilder.py:92: PDBConstructionWarning: WARNING: Chain B is discontinuous at line 1814.\n",
      "  PDBConstructionWarning,\n",
      "/wsu/home/fr/fr15/fr1583/.conda/envs/protein/lib/python3.7/site-packages/Bio/PDB/StructureBuilder.py:92: PDBConstructionWarning: WARNING: Chain D is discontinuous at line 1878.\n",
      "  PDBConstructionWarning,\n"
     ]
    },
    {
     "name": "stdout",
     "output_type": "stream",
     "text": [
      "308 3vor\n",
      "309 3vub\n",
      "310 3vvv\n",
      "311 3vz9\n"
     ]
    },
    {
     "name": "stderr",
     "output_type": "stream",
     "text": [
      "/wsu/home/fr/fr15/fr1583/.conda/envs/protein/lib/python3.7/site-packages/Bio/PDB/StructureBuilder.py:92: PDBConstructionWarning: WARNING: Chain B is discontinuous at line 1366.\n",
      "  PDBConstructionWarning,\n",
      "/wsu/home/fr/fr15/fr1583/.conda/envs/protein/lib/python3.7/site-packages/Bio/PDB/StructureBuilder.py:92: PDBConstructionWarning: WARNING: Chain D is discontinuous at line 1527.\n",
      "  PDBConstructionWarning,\n"
     ]
    },
    {
     "name": "stdout",
     "output_type": "stream",
     "text": [
      "312 3w4q\n"
     ]
    },
    {
     "name": "stderr",
     "output_type": "stream",
     "text": [
      "/wsu/home/fr/fr15/fr1583/.conda/envs/protein/lib/python3.7/site-packages/Bio/PDB/StructureBuilder.py:92: PDBConstructionWarning: WARNING: Chain A is discontinuous at line 6039.\n",
      "  PDBConstructionWarning,\n",
      "/wsu/home/fr/fr15/fr1583/.conda/envs/protein/lib/python3.7/site-packages/Bio/PDB/StructureBuilder.py:92: PDBConstructionWarning: WARNING: Chain B is discontinuous at line 6338.\n",
      "  PDBConstructionWarning,\n",
      "/wsu/home/fr/fr15/fr1583/.conda/envs/protein/lib/python3.7/site-packages/Bio/PDB/StructureBuilder.py:92: PDBConstructionWarning: WARNING: Chain C is discontinuous at line 6650.\n",
      "  PDBConstructionWarning,\n",
      "/wsu/home/fr/fr15/fr1583/.conda/envs/protein/lib/python3.7/site-packages/Bio/PDB/StructureBuilder.py:92: PDBConstructionWarning: WARNING: Chain A is discontinuous at line 6039.\n",
      "  PDBConstructionWarning,\n",
      "/wsu/home/fr/fr15/fr1583/.conda/envs/protein/lib/python3.7/site-packages/Bio/PDB/StructureBuilder.py:92: PDBConstructionWarning: WARNING: Chain B is discontinuous at line 6338.\n",
      "  PDBConstructionWarning,\n",
      "/wsu/home/fr/fr15/fr1583/.conda/envs/protein/lib/python3.7/site-packages/Bio/PDB/StructureBuilder.py:92: PDBConstructionWarning: WARNING: Chain C is discontinuous at line 6650.\n",
      "  PDBConstructionWarning,\n"
     ]
    },
    {
     "name": "stdout",
     "output_type": "stream",
     "text": [
      "Found input variables with inconsistent numbers of samples: [773, 774]\n",
      "313 3zbd\n"
     ]
    },
    {
     "name": "stderr",
     "output_type": "stream",
     "text": [
      "/wsu/home/fr/fr15/fr1583/.conda/envs/protein/lib/python3.7/site-packages/Bio/PDB/StructureBuilder.py:92: PDBConstructionWarning: WARNING: Chain A is discontinuous at line 1718.\n",
      "  PDBConstructionWarning,\n",
      "/wsu/home/fr/fr15/fr1583/.conda/envs/protein/lib/python3.7/site-packages/Bio/PDB/StructureBuilder.py:92: PDBConstructionWarning: WARNING: Chain B is discontinuous at line 1839.\n",
      "  PDBConstructionWarning,\n",
      "/wsu/home/fr/fr15/fr1583/.conda/envs/protein/lib/python3.7/site-packages/Bio/PDB/StructureBuilder.py:92: PDBConstructionWarning: WARNING: Chain A is discontinuous at line 1260.\n",
      "  PDBConstructionWarning,\n",
      "/wsu/home/fr/fr15/fr1583/.conda/envs/protein/lib/python3.7/site-packages/Bio/PDB/StructureBuilder.py:92: PDBConstructionWarning: WARNING: Chain B is discontinuous at line 1283.\n",
      "  PDBConstructionWarning,\n"
     ]
    },
    {
     "name": "stdout",
     "output_type": "stream",
     "text": [
      "314 3zit\n",
      "315 3zrx\n"
     ]
    },
    {
     "name": "stderr",
     "output_type": "stream",
     "text": [
      "/wsu/home/fr/fr15/fr1583/.conda/envs/protein/lib/python3.7/site-packages/Bio/PDB/StructureBuilder.py:92: PDBConstructionWarning: WARNING: Chain A is discontinuous at line 1853.\n",
      "  PDBConstructionWarning,\n",
      "/wsu/home/fr/fr15/fr1583/.conda/envs/protein/lib/python3.7/site-packages/Bio/PDB/StructureBuilder.py:92: PDBConstructionWarning: WARNING: Chain B is discontinuous at line 1983.\n",
      "  PDBConstructionWarning,\n"
     ]
    },
    {
     "name": "stdout",
     "output_type": "stream",
     "text": [
      "316 3zsl\n",
      "317 3zzp\n",
      "318 3zzy\n"
     ]
    },
    {
     "name": "stderr",
     "output_type": "stream",
     "text": [
      "/wsu/home/fr/fr15/fr1583/.conda/envs/protein/lib/python3.7/site-packages/Bio/PDB/StructureBuilder.py:92: PDBConstructionWarning: WARNING: Chain A is discontinuous at line 1741.\n",
      "  PDBConstructionWarning,\n",
      "/wsu/home/fr/fr15/fr1583/.conda/envs/protein/lib/python3.7/site-packages/Bio/PDB/StructureBuilder.py:92: PDBConstructionWarning: WARNING: Chain B is discontinuous at line 1846.\n",
      "  PDBConstructionWarning,\n",
      "/wsu/home/fr/fr15/fr1583/.conda/envs/protein/lib/python3.7/site-packages/Bio/PDB/StructureBuilder.py:92: PDBConstructionWarning: WARNING: Chain C is discontinuous at line 1925.\n",
      "  PDBConstructionWarning,\n",
      "/wsu/home/fr/fr15/fr1583/.conda/envs/protein/lib/python3.7/site-packages/Bio/PDB/StructureBuilder.py:92: PDBConstructionWarning: WARNING: Chain D is discontinuous at line 1930.\n",
      "  PDBConstructionWarning,\n"
     ]
    },
    {
     "name": "stdout",
     "output_type": "stream",
     "text": [
      "319 4a02\n",
      "320 4acj\n",
      "321 4ae7\n",
      "322 4am1\n",
      "323 4ann\n",
      "324 4avr\n"
     ]
    },
    {
     "name": "stderr",
     "output_type": "stream",
     "text": [
      "/wsu/home/fr/fr15/fr1583/.conda/envs/protein/lib/python3.7/site-packages/Bio/PDB/StructureBuilder.py:92: PDBConstructionWarning: WARNING: Chain A is discontinuous at line 1455.\n",
      "  PDBConstructionWarning,\n",
      "/wsu/home/fr/fr15/fr1583/.conda/envs/protein/lib/python3.7/site-packages/Bio/PDB/StructureBuilder.py:92: PDBConstructionWarning: WARNING: Chain B is discontinuous at line 1565.\n",
      "  PDBConstructionWarning,\n",
      "/wsu/home/fr/fr15/fr1583/.conda/envs/protein/lib/python3.7/site-packages/Bio/PDB/StructureBuilder.py:92: PDBConstructionWarning: WARNING: Chain A is discontinuous at line 716.\n",
      "  PDBConstructionWarning,\n",
      "/wsu/home/fr/fr15/fr1583/.conda/envs/protein/lib/python3.7/site-packages/Bio/PDB/StructureBuilder.py:92: PDBConstructionWarning: WARNING: Chain B is discontinuous at line 744.\n",
      "  PDBConstructionWarning,\n",
      "/wsu/home/fr/fr15/fr1583/.conda/envs/protein/lib/python3.7/site-packages/Bio/PDB/StructureBuilder.py:92: PDBConstructionWarning: WARNING: Chain C is discontinuous at line 765.\n",
      "  PDBConstructionWarning,\n"
     ]
    },
    {
     "name": "stdout",
     "output_type": "stream",
     "text": [
      "325 4axy\n",
      "326 4b6g\n"
     ]
    },
    {
     "name": "stderr",
     "output_type": "stream",
     "text": [
      "/wsu/home/fr/fr15/fr1583/.conda/envs/protein/lib/python3.7/site-packages/Bio/PDB/StructureBuilder.py:92: PDBConstructionWarning: WARNING: Chain A is discontinuous at line 8842.\n",
      "  PDBConstructionWarning,\n",
      "/wsu/home/fr/fr15/fr1583/.conda/envs/protein/lib/python3.7/site-packages/Bio/PDB/StructureBuilder.py:92: PDBConstructionWarning: WARNING: Chain B is discontinuous at line 9235.\n",
      "  PDBConstructionWarning,\n"
     ]
    },
    {
     "name": "stdout",
     "output_type": "stream",
     "text": [
      "327 4b9g\n"
     ]
    },
    {
     "name": "stderr",
     "output_type": "stream",
     "text": [
      "/wsu/home/fr/fr15/fr1583/.conda/envs/protein/lib/python3.7/site-packages/Bio/PDB/StructureBuilder.py:92: PDBConstructionWarning: WARNING: Chain A is discontinuous at line 4378.\n",
      "  PDBConstructionWarning,\n",
      "/wsu/home/fr/fr15/fr1583/.conda/envs/protein/lib/python3.7/site-packages/Bio/PDB/StructureBuilder.py:92: PDBConstructionWarning: WARNING: Chain B is discontinuous at line 4632.\n",
      "  PDBConstructionWarning,\n"
     ]
    },
    {
     "name": "stdout",
     "output_type": "stream",
     "text": [
      "328 4dd5\n",
      "329 4dkn\n"
     ]
    },
    {
     "name": "stderr",
     "output_type": "stream",
     "text": [
      "/wsu/home/fr/fr15/fr1583/.conda/envs/protein/lib/python3.7/site-packages/Bio/PDB/StructureBuilder.py:92: PDBConstructionWarning: WARNING: Chain A is discontinuous at line 3394.\n",
      "  PDBConstructionWarning,\n",
      "/wsu/home/fr/fr15/fr1583/.conda/envs/protein/lib/python3.7/site-packages/Bio/PDB/StructureBuilder.py:92: PDBConstructionWarning: WARNING: Chain B is discontinuous at line 3649.\n",
      "  PDBConstructionWarning,\n"
     ]
    },
    {
     "name": "stdout",
     "output_type": "stream",
     "text": [
      "330 4dnd\n",
      "331 4dpz\n",
      "Found input variables with inconsistent numbers of samples: [109, 110]\n",
      "332 4dq7\n"
     ]
    },
    {
     "name": "stderr",
     "output_type": "stream",
     "text": [
      "/wsu/home/fr/fr15/fr1583/.conda/envs/protein/lib/python3.7/site-packages/Bio/PDB/StructureBuilder.py:92: PDBConstructionWarning: WARNING: Chain A is discontinuous at line 5214.\n",
      "  PDBConstructionWarning,\n",
      "/wsu/home/fr/fr15/fr1583/.conda/envs/protein/lib/python3.7/site-packages/Bio/PDB/StructureBuilder.py:92: PDBConstructionWarning: WARNING: Chain B is discontinuous at line 5376.\n",
      "  PDBConstructionWarning,\n"
     ]
    },
    {
     "name": "stdout",
     "output_type": "stream",
     "text": [
      "333 4dt4\n",
      "334 4ek3\n",
      "335 4ery\n",
      "336 4es1\n"
     ]
    },
    {
     "name": "stderr",
     "output_type": "stream",
     "text": [
      "/wsu/home/fr/fr15/fr1583/.conda/envs/protein/lib/python3.7/site-packages/Bio/PDB/StructureBuilder.py:92: PDBConstructionWarning: WARNING: Chain A is discontinuous at line 2457.\n",
      "  PDBConstructionWarning,\n",
      "/wsu/home/fr/fr15/fr1583/.conda/envs/protein/lib/python3.7/site-packages/Bio/PDB/StructureBuilder.py:92: PDBConstructionWarning: WARNING: Chain D is discontinuous at line 2961.\n",
      "  PDBConstructionWarning,\n"
     ]
    },
    {
     "name": "stdout",
     "output_type": "stream",
     "text": [
      "337 4eug\n",
      "338 4f01\n"
     ]
    },
    {
     "name": "stderr",
     "output_type": "stream",
     "text": [
      "/wsu/home/fr/fr15/fr1583/.conda/envs/protein/lib/python3.7/site-packages/Bio/PDB/StructureBuilder.py:92: PDBConstructionWarning: WARNING: Chain A is discontinuous at line 3472.\n",
      "  PDBConstructionWarning,\n",
      "/wsu/home/fr/fr15/fr1583/.conda/envs/protein/lib/python3.7/site-packages/Bio/PDB/StructureBuilder.py:92: PDBConstructionWarning: WARNING: Chain B is discontinuous at line 3727.\n",
      "  PDBConstructionWarning,\n"
     ]
    },
    {
     "name": "stdout",
     "output_type": "stream",
     "text": [
      "339 4f3j\n",
      "340 4fr9\n",
      "341 4g14\n",
      "342 4g2e\n",
      "343 4g5x\n"
     ]
    },
    {
     "name": "stderr",
     "output_type": "stream",
     "text": [
      "/wsu/home/fr/fr15/fr1583/.conda/envs/protein/lib/python3.7/site-packages/Bio/PDB/StructureBuilder.py:92: PDBConstructionWarning: WARNING: Chain A is discontinuous at line 4430.\n",
      "  PDBConstructionWarning,\n",
      "/wsu/home/fr/fr15/fr1583/.conda/envs/protein/lib/python3.7/site-packages/Bio/PDB/StructureBuilder.py:92: PDBConstructionWarning: WARNING: Chain B is discontinuous at line 4890.\n",
      "  PDBConstructionWarning,\n"
     ]
    },
    {
     "name": "stdout",
     "output_type": "stream",
     "text": [
      "344 4g6c\n"
     ]
    },
    {
     "name": "stderr",
     "output_type": "stream",
     "text": [
      "/wsu/home/fr/fr15/fr1583/.conda/envs/protein/lib/python3.7/site-packages/Bio/PDB/StructureBuilder.py:92: PDBConstructionWarning: WARNING: Chain A is discontinuous at line 5008.\n",
      "  PDBConstructionWarning,\n",
      "/wsu/home/fr/fr15/fr1583/.conda/envs/protein/lib/python3.7/site-packages/Bio/PDB/StructureBuilder.py:92: PDBConstructionWarning: WARNING: Chain B is discontinuous at line 5343.\n",
      "  PDBConstructionWarning,\n",
      "/wsu/home/fr/fr15/fr1583/.conda/envs/protein/lib/python3.7/site-packages/Bio/PDB/StructureBuilder.py:92: PDBConstructionWarning: WARNING: Chain A is discontinuous at line 1658.\n",
      "  PDBConstructionWarning,\n",
      "/wsu/home/fr/fr15/fr1583/.conda/envs/protein/lib/python3.7/site-packages/Bio/PDB/StructureBuilder.py:92: PDBConstructionWarning: WARNING: Chain B is discontinuous at line 1762.\n",
      "  PDBConstructionWarning,\n"
     ]
    },
    {
     "name": "stdout",
     "output_type": "stream",
     "text": [
      "345 4g7x\n",
      "346 4ga2\n",
      "347 4gmq\n",
      "348 4gs3\n",
      "349 4h4j\n",
      "350 4h89\n",
      "351 4hde\n",
      "352 4hjp\n",
      "353 4hwm\n",
      "354 4il7\n",
      "355 4j11\n"
     ]
    },
    {
     "name": "stderr",
     "output_type": "stream",
     "text": [
      "/wsu/home/fr/fr15/fr1583/.conda/envs/protein/lib/python3.7/site-packages/Bio/PDB/StructureBuilder.py:92: PDBConstructionWarning: WARNING: Chain A is discontinuous at line 2946.\n",
      "  PDBConstructionWarning,\n",
      "/wsu/home/fr/fr15/fr1583/.conda/envs/protein/lib/python3.7/site-packages/Bio/PDB/StructureBuilder.py:92: PDBConstructionWarning: WARNING: Chain B is discontinuous at line 3062.\n",
      "  PDBConstructionWarning,\n",
      "/wsu/home/fr/fr15/fr1583/.conda/envs/protein/lib/python3.7/site-packages/Bio/PDB/StructureBuilder.py:92: PDBConstructionWarning: WARNING: Chain C is discontinuous at line 3200.\n",
      "  PDBConstructionWarning,\n",
      "/wsu/home/fr/fr15/fr1583/.conda/envs/protein/lib/python3.7/site-packages/Bio/PDB/StructureBuilder.py:92: PDBConstructionWarning: WARNING: Chain D is discontinuous at line 3304.\n",
      "  PDBConstructionWarning,\n",
      "/wsu/home/fr/fr15/fr1583/.conda/envs/protein/lib/python3.7/site-packages/Bio/PDB/StructureBuilder.py:92: PDBConstructionWarning: WARNING: Chain A is discontinuous at line 1959.\n",
      "  PDBConstructionWarning,\n",
      "/wsu/home/fr/fr15/fr1583/.conda/envs/protein/lib/python3.7/site-packages/Bio/PDB/StructureBuilder.py:92: PDBConstructionWarning: WARNING: Chain B is discontinuous at line 2070.\n",
      "  PDBConstructionWarning,\n"
     ]
    },
    {
     "name": "stdout",
     "output_type": "stream",
     "text": [
      "356 4j5o\n",
      "357 4j5q\n",
      "358 4j78\n"
     ]
    },
    {
     "name": "stderr",
     "output_type": "stream",
     "text": [
      "/wsu/home/fr/fr15/fr1583/.conda/envs/protein/lib/python3.7/site-packages/Bio/PDB/StructureBuilder.py:92: PDBConstructionWarning: WARNING: Chain A is discontinuous at line 2443.\n",
      "  PDBConstructionWarning,\n",
      "/wsu/home/fr/fr15/fr1583/.conda/envs/protein/lib/python3.7/site-packages/Bio/PDB/StructureBuilder.py:92: PDBConstructionWarning: WARNING: Chain B is discontinuous at line 2774.\n",
      "  PDBConstructionWarning,\n"
     ]
    },
    {
     "name": "stdout",
     "output_type": "stream",
     "text": [
      "359 4jg2\n",
      "360 4jvu\n"
     ]
    },
    {
     "name": "stderr",
     "output_type": "stream",
     "text": [
      "/wsu/home/fr/fr15/fr1583/.conda/envs/protein/lib/python3.7/site-packages/Bio/PDB/StructureBuilder.py:92: PDBConstructionWarning: WARNING: Chain A is discontinuous at line 1615.\n",
      "  PDBConstructionWarning,\n",
      "/wsu/home/fr/fr15/fr1583/.conda/envs/protein/lib/python3.7/site-packages/Bio/PDB/StructureBuilder.py:92: PDBConstructionWarning: WARNING: Chain B is discontinuous at line 1775.\n",
      "  PDBConstructionWarning,\n"
     ]
    },
    {
     "name": "stdout",
     "output_type": "stream",
     "text": [
      "361 4jyp\n"
     ]
    },
    {
     "name": "stderr",
     "output_type": "stream",
     "text": [
      "/wsu/home/fr/fr15/fr1583/.conda/envs/protein/lib/python3.7/site-packages/Bio/PDB/StructureBuilder.py:92: PDBConstructionWarning: WARNING: Chain A is discontinuous at line 4233.\n",
      "  PDBConstructionWarning,\n",
      "/wsu/home/fr/fr15/fr1583/.conda/envs/protein/lib/python3.7/site-packages/Bio/PDB/StructureBuilder.py:92: PDBConstructionWarning: WARNING: Chain B is discontinuous at line 4625.\n",
      "  PDBConstructionWarning,\n"
     ]
    },
    {
     "name": "stdout",
     "output_type": "stream",
     "text": [
      "362 4kef\n",
      "363 5cyt\n",
      "364 6rxn\n"
     ]
    }
   ],
   "source": [
    "model = 'mGNM'\n",
    "kernel = 'ilf'\n",
    "# with mp.Pool(mp.cpu_count()) as pool:\n",
    "#     pcc_total = pool.starmap(pcc_pool, [(pair,model,kernel) for pair in enumerate(nameset)])\n",
    "\n",
    "\n",
    "pcc_total = calc_save(model,kernel,nameset[:precalc],exclude_long = 1000)\n",
    "pcc_acc3=np.average(pcc_total,axis=0)  "
   ]
  },
  {
   "cell_type": "code",
   "execution_count": 14,
   "metadata": {},
   "outputs": [
    {
     "data": {
      "image/png": "[encoded data removed]",
      "text/plain": [
       "<Figure size 432x288 with 2 Axes>"
      ]
     },
     "metadata": {
      "needs_background": "light"
     },
     "output_type": "display_data"
    }
   ],
   "source": [
    "\n",
    "plt.imshow(pcc_acc3)\n",
    "plt.colorbar()\n",
    "plt.title(f'{model}, {kernel}')\n",
    "plt.show()"
   ]
  },
  {
   "cell_type": "code",
   "execution_count": 15,
   "metadata": {},
   "outputs": [
    {
     "data": {
      "text/plain": [
       "(2, 11)"
      ]
     },
     "execution_count": 15,
     "metadata": {},
     "output_type": "execute_result"
    }
   ],
   "source": [
    "np.unravel_index(np.argmax(pcc_acc3), pcc_acc3.shape)"
   ]
  },
  {
   "cell_type": "code",
   "execution_count": 16,
   "metadata": {},
   "outputs": [
    {
     "data": {
      "text/plain": [
       "0.6044919376145885"
      ]
     },
     "execution_count": 16,
     "metadata": {},
     "output_type": "execute_result"
    }
   ],
   "source": [
    "np.max(pcc_acc3)"
   ]
  },
  {
   "cell_type": "code",
   "execution_count": 17,
   "metadata": {},
   "outputs": [
    {
     "name": "stdout",
     "output_type": "stream",
     "text": [
      "[Errno 17] File exists: './result/mANM_lorentz/'\n",
      "0 1aba\n",
      "1 1agn\n"
     ]
    },
    {
     "name": "stderr",
     "output_type": "stream",
     "text": [
      "/wsu/home/fr/fr15/fr1583/.conda/envs/protein/lib/python3.7/site-packages/Bio/PDB/StructureBuilder.py:92: PDBConstructionWarning: WARNING: Chain A is discontinuous at line 11156.\n",
      "  PDBConstructionWarning,\n",
      "/wsu/home/fr/fr15/fr1583/.conda/envs/protein/lib/python3.7/site-packages/Bio/PDB/StructureBuilder.py:92: PDBConstructionWarning: WARNING: Chain B is discontinuous at line 11215.\n",
      "  PDBConstructionWarning,\n",
      "/wsu/home/fr/fr15/fr1583/.conda/envs/protein/lib/python3.7/site-packages/Bio/PDB/StructureBuilder.py:92: PDBConstructionWarning: WARNING: Chain C is discontinuous at line 11280.\n",
      "  PDBConstructionWarning,\n",
      "/wsu/home/fr/fr15/fr1583/.conda/envs/protein/lib/python3.7/site-packages/Bio/PDB/StructureBuilder.py:92: PDBConstructionWarning: WARNING: Chain D is discontinuous at line 11331.\n",
      "  PDBConstructionWarning,\n",
      "/wsu/home/fr/fr15/fr1583/.conda/envs/protein/lib/python3.7/site-packages/Bio/PDB/StructureBuilder.py:92: PDBConstructionWarning: WARNING: Chain A is discontinuous at line 11388.\n",
      "  PDBConstructionWarning,\n",
      "/wsu/home/fr/fr15/fr1583/.conda/envs/protein/lib/python3.7/site-packages/Bio/PDB/StructureBuilder.py:92: PDBConstructionWarning: WARNING: Chain B is discontinuous at line 11389.\n",
      "  PDBConstructionWarning,\n",
      "/wsu/home/fr/fr15/fr1583/.conda/envs/protein/lib/python3.7/site-packages/Bio/PDB/StructureBuilder.py:92: PDBConstructionWarning: WARNING: Chain C is discontinuous at line 11393.\n",
      "  PDBConstructionWarning,\n",
      "/wsu/home/fr/fr15/fr1583/.conda/envs/protein/lib/python3.7/site-packages/Bio/PDB/StructureBuilder.py:92: PDBConstructionWarning: WARNING: Chain D is discontinuous at line 11394.\n",
      "  PDBConstructionWarning,\n"
     ]
    },
    {
     "name": "stdout",
     "output_type": "stream",
     "text": [
      "skipped\n",
      "2 1aho\n",
      "3 1aie\n",
      "4 1akg\n",
      "5 1atg\n",
      "6 1bgf\n",
      "7 1bx7\n",
      "8 1byi\n",
      "9 1ccr\n",
      "10 1cyo\n",
      "11 1df4\n",
      "12 1e5k\n",
      "13 1es5\n",
      "14 1etl\n",
      "15 1etm\n",
      "16 1etn\n",
      "17 1ew4\n",
      "18 1f8r\n"
     ]
    },
    {
     "name": "stderr",
     "output_type": "stream",
     "text": [
      "/wsu/home/fr/fr15/fr1583/.conda/envs/protein/lib/python3.7/site-packages/Bio/PDB/StructureBuilder.py:92: PDBConstructionWarning: WARNING: Chain A is discontinuous at line 15443.\n",
      "  PDBConstructionWarning,\n",
      "/wsu/home/fr/fr15/fr1583/.conda/envs/protein/lib/python3.7/site-packages/Bio/PDB/StructureBuilder.py:92: PDBConstructionWarning: WARNING: Chain B is discontinuous at line 15523.\n",
      "  PDBConstructionWarning,\n",
      "/wsu/home/fr/fr15/fr1583/.conda/envs/protein/lib/python3.7/site-packages/Bio/PDB/StructureBuilder.py:92: PDBConstructionWarning: WARNING: Chain C is discontinuous at line 15603.\n",
      "  PDBConstructionWarning,\n",
      "/wsu/home/fr/fr15/fr1583/.conda/envs/protein/lib/python3.7/site-packages/Bio/PDB/StructureBuilder.py:92: PDBConstructionWarning: WARNING: Chain D is discontinuous at line 15683.\n",
      "  PDBConstructionWarning,\n",
      "/wsu/home/fr/fr15/fr1583/.conda/envs/protein/lib/python3.7/site-packages/Bio/PDB/StructureBuilder.py:92: PDBConstructionWarning: WARNING: Chain A is discontinuous at line 15763.\n",
      "  PDBConstructionWarning,\n",
      "/wsu/home/fr/fr15/fr1583/.conda/envs/protein/lib/python3.7/site-packages/Bio/PDB/StructureBuilder.py:92: PDBConstructionWarning: WARNING: Chain B is discontinuous at line 16229.\n",
      "  PDBConstructionWarning,\n",
      "/wsu/home/fr/fr15/fr1583/.conda/envs/protein/lib/python3.7/site-packages/Bio/PDB/StructureBuilder.py:92: PDBConstructionWarning: WARNING: Chain C is discontinuous at line 16726.\n",
      "  PDBConstructionWarning,\n",
      "/wsu/home/fr/fr15/fr1583/.conda/envs/protein/lib/python3.7/site-packages/Bio/PDB/StructureBuilder.py:92: PDBConstructionWarning: WARNING: Chain D is discontinuous at line 17187.\n",
      "  PDBConstructionWarning,\n"
     ]
    },
    {
     "name": "stdout",
     "output_type": "stream",
     "text": [
      "skipped\n",
      "19 1ff4\n",
      "20 1fk5\n",
      "21 1gco\n"
     ]
    },
    {
     "name": "stderr",
     "output_type": "stream",
     "text": [
      "/wsu/home/fr/fr15/fr1583/.conda/envs/protein/lib/python3.7/site-packages/Bio/PDB/StructureBuilder.py:92: PDBConstructionWarning: WARNING: Chain A is discontinuous at line 7888.\n",
      "  PDBConstructionWarning,\n",
      "/wsu/home/fr/fr15/fr1583/.conda/envs/protein/lib/python3.7/site-packages/Bio/PDB/StructureBuilder.py:92: PDBConstructionWarning: WARNING: Chain B is discontinuous at line 7932.\n",
      "  PDBConstructionWarning,\n",
      "/wsu/home/fr/fr15/fr1583/.conda/envs/protein/lib/python3.7/site-packages/Bio/PDB/StructureBuilder.py:92: PDBConstructionWarning: WARNING: Chain E is discontinuous at line 7976.\n",
      "  PDBConstructionWarning,\n",
      "/wsu/home/fr/fr15/fr1583/.conda/envs/protein/lib/python3.7/site-packages/Bio/PDB/StructureBuilder.py:92: PDBConstructionWarning: WARNING: Chain F is discontinuous at line 8020.\n",
      "  PDBConstructionWarning,\n",
      "/wsu/home/fr/fr15/fr1583/.conda/envs/protein/lib/python3.7/site-packages/Bio/PDB/StructureBuilder.py:92: PDBConstructionWarning: WARNING: Chain A is discontinuous at line 8064.\n",
      "  PDBConstructionWarning,\n",
      "/wsu/home/fr/fr15/fr1583/.conda/envs/protein/lib/python3.7/site-packages/Bio/PDB/StructureBuilder.py:92: PDBConstructionWarning: WARNING: Chain B is discontinuous at line 8206.\n",
      "  PDBConstructionWarning,\n",
      "/wsu/home/fr/fr15/fr1583/.conda/envs/protein/lib/python3.7/site-packages/Bio/PDB/StructureBuilder.py:92: PDBConstructionWarning: WARNING: Chain E is discontinuous at line 8341.\n",
      "  PDBConstructionWarning,\n",
      "/wsu/home/fr/fr15/fr1583/.conda/envs/protein/lib/python3.7/site-packages/Bio/PDB/StructureBuilder.py:92: PDBConstructionWarning: WARNING: Chain F is discontinuous at line 8486.\n",
      "  PDBConstructionWarning,\n"
     ]
    },
    {
     "name": "stdout",
     "output_type": "stream",
     "text": [
      "skipped\n",
      "22 1gk7\n",
      "23 1gvd\n",
      "24 1gxu\n",
      "25 1h6v\n"
     ]
    },
    {
     "name": "stderr",
     "output_type": "stream",
     "text": [
      "/wsu/home/fr/fr15/fr1583/.conda/envs/protein/lib/python3.7/site-packages/Bio/PDB/StructureBuilder.py:92: PDBConstructionWarning: WARNING: Chain A is discontinuous at line 22514.\n",
      "  PDBConstructionWarning,\n",
      "/wsu/home/fr/fr15/fr1583/.conda/envs/protein/lib/python3.7/site-packages/Bio/PDB/StructureBuilder.py:92: PDBConstructionWarning: WARNING: Chain B is discontinuous at line 22606.\n",
      "  PDBConstructionWarning,\n",
      "/wsu/home/fr/fr15/fr1583/.conda/envs/protein/lib/python3.7/site-packages/Bio/PDB/StructureBuilder.py:92: PDBConstructionWarning: WARNING: Chain C is discontinuous at line 22698.\n",
      "  PDBConstructionWarning,\n",
      "/wsu/home/fr/fr15/fr1583/.conda/envs/protein/lib/python3.7/site-packages/Bio/PDB/StructureBuilder.py:92: PDBConstructionWarning: WARNING: Chain D is discontinuous at line 22790.\n",
      "  PDBConstructionWarning,\n",
      "/wsu/home/fr/fr15/fr1583/.conda/envs/protein/lib/python3.7/site-packages/Bio/PDB/StructureBuilder.py:92: PDBConstructionWarning: WARNING: Chain E is discontinuous at line 22882.\n",
      "  PDBConstructionWarning,\n",
      "/wsu/home/fr/fr15/fr1583/.conda/envs/protein/lib/python3.7/site-packages/Bio/PDB/StructureBuilder.py:92: PDBConstructionWarning: WARNING: Chain F is discontinuous at line 22974.\n",
      "  PDBConstructionWarning,\n",
      "/wsu/home/fr/fr15/fr1583/.conda/envs/protein/lib/python3.7/site-packages/Bio/PDB/StructureBuilder.py:92: PDBConstructionWarning: WARNING: Chain A is discontinuous at line 23066.\n",
      "  PDBConstructionWarning,\n",
      "/wsu/home/fr/fr15/fr1583/.conda/envs/protein/lib/python3.7/site-packages/Bio/PDB/StructureBuilder.py:92: PDBConstructionWarning: WARNING: Chain B is discontinuous at line 23067.\n",
      "  PDBConstructionWarning,\n",
      "/wsu/home/fr/fr15/fr1583/.conda/envs/protein/lib/python3.7/site-packages/Bio/PDB/StructureBuilder.py:92: PDBConstructionWarning: WARNING: Chain C is discontinuous at line 23068.\n",
      "  PDBConstructionWarning,\n",
      "/wsu/home/fr/fr15/fr1583/.conda/envs/protein/lib/python3.7/site-packages/Bio/PDB/StructureBuilder.py:92: PDBConstructionWarning: WARNING: Chain D is discontinuous at line 23071.\n",
      "  PDBConstructionWarning,\n",
      "/wsu/home/fr/fr15/fr1583/.conda/envs/protein/lib/python3.7/site-packages/Bio/PDB/StructureBuilder.py:92: PDBConstructionWarning: WARNING: Chain E is discontinuous at line 23072.\n",
      "  PDBConstructionWarning,\n",
      "/wsu/home/fr/fr15/fr1583/.conda/envs/protein/lib/python3.7/site-packages/Bio/PDB/StructureBuilder.py:92: PDBConstructionWarning: WARNING: Chain F is discontinuous at line 23074.\n",
      "  PDBConstructionWarning,\n"
     ]
    },
    {
     "name": "stdout",
     "output_type": "stream",
     "text": [
      "skipped\n",
      "26 1hje\n",
      "27 1i71\n",
      "28 1idp\n",
      "29 1ifr\n",
      "30 1k8u\n",
      "31 1kmm\n"
     ]
    },
    {
     "name": "stderr",
     "output_type": "stream",
     "text": [
      "/wsu/home/fr/fr15/fr1583/.conda/envs/protein/lib/python3.7/site-packages/Bio/PDB/StructureBuilder.py:92: PDBConstructionWarning: WARNING: Chain A is discontinuous at line 14289.\n",
      "  PDBConstructionWarning,\n",
      "/wsu/home/fr/fr15/fr1583/.conda/envs/protein/lib/python3.7/site-packages/Bio/PDB/StructureBuilder.py:92: PDBConstructionWarning: WARNING: Chain B is discontinuous at line 14329.\n",
      "  PDBConstructionWarning,\n",
      "/wsu/home/fr/fr15/fr1583/.conda/envs/protein/lib/python3.7/site-packages/Bio/PDB/StructureBuilder.py:92: PDBConstructionWarning: WARNING: Chain C is discontinuous at line 14369.\n",
      "  PDBConstructionWarning,\n",
      "/wsu/home/fr/fr15/fr1583/.conda/envs/protein/lib/python3.7/site-packages/Bio/PDB/StructureBuilder.py:92: PDBConstructionWarning: WARNING: Chain D is discontinuous at line 14409.\n",
      "  PDBConstructionWarning,\n",
      "/wsu/home/fr/fr15/fr1583/.conda/envs/protein/lib/python3.7/site-packages/Bio/PDB/StructureBuilder.py:92: PDBConstructionWarning: WARNING: Chain A is discontinuous at line 14449.\n",
      "  PDBConstructionWarning,\n",
      "/wsu/home/fr/fr15/fr1583/.conda/envs/protein/lib/python3.7/site-packages/Bio/PDB/StructureBuilder.py:92: PDBConstructionWarning: WARNING: Chain B is discontinuous at line 14494.\n",
      "  PDBConstructionWarning,\n",
      "/wsu/home/fr/fr15/fr1583/.conda/envs/protein/lib/python3.7/site-packages/Bio/PDB/StructureBuilder.py:92: PDBConstructionWarning: WARNING: Chain C is discontinuous at line 14544.\n",
      "  PDBConstructionWarning,\n",
      "/wsu/home/fr/fr15/fr1583/.conda/envs/protein/lib/python3.7/site-packages/Bio/PDB/StructureBuilder.py:92: PDBConstructionWarning: WARNING: Chain D is discontinuous at line 14599.\n",
      "  PDBConstructionWarning,\n"
     ]
    },
    {
     "name": "stdout",
     "output_type": "stream",
     "text": [
      "skipped\n",
      "32 1kng\n",
      "33 1kr4\n",
      "34 1kyc\n",
      "35 1lr7\n",
      "36 1mf7\n",
      "37 1n7e\n",
      "38 1nkd\n",
      "39 1nko\n"
     ]
    },
    {
     "name": "stderr",
     "output_type": "stream",
     "text": [
      "/wsu/home/fr/fr15/fr1583/K/NMAcomp/multiscale.py:88: RuntimeWarning: divide by zero encountered in true_divide\n",
      "  reg.fit(mu_n.T,1/bfactor)\n"
     ]
    },
    {
     "name": "stdout",
     "output_type": "stream",
     "text": [
      "Input contains NaN, infinity or a value too large for dtype('float64').\n",
      "40 1nls\n",
      "41 1nnx\n",
      "42 1noa\n",
      "43 1not\n",
      "44 1o06\n",
      "45 1o08\n",
      "46 1ob4\n",
      "47 1ob7\n",
      "Found input variables with inconsistent numbers of samples: [16, 17]\n",
      "48 1opd\n",
      "49 1p9i\n",
      "50 1pef\n",
      "51 1pen\n",
      "52 1pmy\n",
      "53 1pz4\n",
      "54 1q9b\n",
      "55 1qau\n",
      "56 1qki\n"
     ]
    },
    {
     "name": "stderr",
     "output_type": "stream",
     "text": [
      "/wsu/home/fr/fr15/fr1583/.conda/envs/protein/lib/python3.7/site-packages/Bio/PDB/StructureBuilder.py:92: PDBConstructionWarning: WARNING: Chain A is discontinuous at line 31154.\n",
      "  PDBConstructionWarning,\n",
      "/wsu/home/fr/fr15/fr1583/.conda/envs/protein/lib/python3.7/site-packages/Bio/PDB/StructureBuilder.py:92: PDBConstructionWarning: WARNING: Chain B is discontinuous at line 31207.\n",
      "  PDBConstructionWarning,\n",
      "/wsu/home/fr/fr15/fr1583/.conda/envs/protein/lib/python3.7/site-packages/Bio/PDB/StructureBuilder.py:92: PDBConstructionWarning: WARNING: Chain C is discontinuous at line 31272.\n",
      "  PDBConstructionWarning,\n",
      "/wsu/home/fr/fr15/fr1583/.conda/envs/protein/lib/python3.7/site-packages/Bio/PDB/StructureBuilder.py:92: PDBConstructionWarning: WARNING: Chain D is discontinuous at line 31331.\n",
      "  PDBConstructionWarning,\n",
      "/wsu/home/fr/fr15/fr1583/.conda/envs/protein/lib/python3.7/site-packages/Bio/PDB/StructureBuilder.py:92: PDBConstructionWarning: WARNING: Chain E is discontinuous at line 31384.\n",
      "  PDBConstructionWarning,\n",
      "/wsu/home/fr/fr15/fr1583/.conda/envs/protein/lib/python3.7/site-packages/Bio/PDB/StructureBuilder.py:92: PDBConstructionWarning: WARNING: Chain F is discontinuous at line 31443.\n",
      "  PDBConstructionWarning,\n",
      "/wsu/home/fr/fr15/fr1583/.conda/envs/protein/lib/python3.7/site-packages/Bio/PDB/StructureBuilder.py:92: PDBConstructionWarning: WARNING: Chain G is discontinuous at line 31496.\n",
      "  PDBConstructionWarning,\n",
      "/wsu/home/fr/fr15/fr1583/.conda/envs/protein/lib/python3.7/site-packages/Bio/PDB/StructureBuilder.py:92: PDBConstructionWarning: WARNING: Chain H is discontinuous at line 31555.\n",
      "  PDBConstructionWarning,\n",
      "/wsu/home/fr/fr15/fr1583/.conda/envs/protein/lib/python3.7/site-packages/Bio/PDB/StructureBuilder.py:92: PDBConstructionWarning: WARNING: Chain A is discontinuous at line 31608.\n",
      "  PDBConstructionWarning,\n",
      "/wsu/home/fr/fr15/fr1583/.conda/envs/protein/lib/python3.7/site-packages/Bio/PDB/StructureBuilder.py:92: PDBConstructionWarning: WARNING: Chain B is discontinuous at line 31621.\n",
      "  PDBConstructionWarning,\n",
      "/wsu/home/fr/fr15/fr1583/.conda/envs/protein/lib/python3.7/site-packages/Bio/PDB/StructureBuilder.py:92: PDBConstructionWarning: WARNING: Chain C is discontinuous at line 31630.\n",
      "  PDBConstructionWarning,\n",
      "/wsu/home/fr/fr15/fr1583/.conda/envs/protein/lib/python3.7/site-packages/Bio/PDB/StructureBuilder.py:92: PDBConstructionWarning: WARNING: Chain D is discontinuous at line 31633.\n",
      "  PDBConstructionWarning,\n",
      "/wsu/home/fr/fr15/fr1583/.conda/envs/protein/lib/python3.7/site-packages/Bio/PDB/StructureBuilder.py:92: PDBConstructionWarning: WARNING: Chain E is discontinuous at line 31641.\n",
      "  PDBConstructionWarning,\n",
      "/wsu/home/fr/fr15/fr1583/.conda/envs/protein/lib/python3.7/site-packages/Bio/PDB/StructureBuilder.py:92: PDBConstructionWarning: WARNING: Chain F is discontinuous at line 31652.\n",
      "  PDBConstructionWarning,\n",
      "/wsu/home/fr/fr15/fr1583/.conda/envs/protein/lib/python3.7/site-packages/Bio/PDB/StructureBuilder.py:92: PDBConstructionWarning: WARNING: Chain H is discontinuous at line 31655.\n",
      "  PDBConstructionWarning,\n"
     ]
    },
    {
     "name": "stdout",
     "output_type": "stream",
     "text": [
      "skipped\n",
      "57 1qto\n",
      "58 1r29\n",
      "59 1r7j\n",
      "60 1rju\n",
      "61 1rro\n",
      "62 1sau\n",
      "63 1tgr\n"
     ]
    },
    {
     "name": "stderr",
     "output_type": "stream",
     "text": [
      "/wsu/home/fr/fr15/fr1583/.conda/envs/protein/lib/python3.7/site-packages/Bio/PDB/StructureBuilder.py:92: PDBConstructionWarning: WARNING: Chain A is discontinuous at line 871.\n",
      "  PDBConstructionWarning,\n",
      "/wsu/home/fr/fr15/fr1583/.conda/envs/protein/lib/python3.7/site-packages/Bio/PDB/StructureBuilder.py:92: PDBConstructionWarning: WARNING: Chain B is discontinuous at line 956.\n",
      "  PDBConstructionWarning,\n"
     ]
    },
    {
     "name": "stdout",
     "output_type": "stream",
     "text": [
      "64 1tzv\n",
      "65 1u06\n",
      "66 1u7i\n"
     ]
    },
    {
     "name": "stderr",
     "output_type": "stream",
     "text": [
      "/wsu/home/fr/fr15/fr1583/.conda/envs/protein/lib/python3.7/site-packages/Bio/PDB/StructureBuilder.py:92: PDBConstructionWarning: WARNING: Chain A is discontinuous at line 2136.\n",
      "  PDBConstructionWarning,\n",
      "/wsu/home/fr/fr15/fr1583/.conda/envs/protein/lib/python3.7/site-packages/Bio/PDB/StructureBuilder.py:92: PDBConstructionWarning: WARNING: Chain B is discontinuous at line 2320.\n",
      "  PDBConstructionWarning,\n"
     ]
    },
    {
     "name": "stdout",
     "output_type": "stream",
     "text": [
      "67 1u9c\n",
      "68 1uha\n",
      "69 1uku\n",
      "70 1ulr\n",
      "71 1uoy\n",
      "72 1use\n",
      "73 1usm\n",
      "74 1utg\n",
      "75 1v05\n",
      "76 1v70\n",
      "77 1vrz\n",
      "78 1w2l\n",
      "79 1wbe\n",
      "80 1whi\n",
      "81 1wly\n",
      "82 1wpa\n",
      "83 1x3o\n",
      "84 1xy1\n",
      "85 1xy2\n",
      "86 1y6x\n"
     ]
    },
    {
     "name": "stderr",
     "output_type": "stream",
     "text": [
      "/wsu/home/fr/fr15/fr1583/.conda/envs/protein/lib/python3.7/site-packages/Bio/PDB/StructureBuilder.py:92: PDBConstructionWarning: WARNING: Chain A is discontinuous at line 266.\n",
      "  PDBConstructionWarning,\n",
      "/wsu/home/fr/fr15/fr1583/.conda/envs/protein/lib/python3.7/site-packages/Bio/PDB/StructureBuilder.py:92: PDBConstructionWarning: WARNING: Chain B is discontinuous at line 272.\n",
      "  PDBConstructionWarning,\n"
     ]
    },
    {
     "name": "stdout",
     "output_type": "stream",
     "text": [
      "87 1yjo\n",
      "88 1yzm\n",
      "89 1z21\n",
      "90 1zce\n",
      "91 1zva\n",
      "92 2a50\n"
     ]
    },
    {
     "name": "stderr",
     "output_type": "stream",
     "text": [
      "/wsu/home/fr/fr15/fr1583/.conda/envs/protein/lib/python3.7/site-packages/Bio/PDB/StructureBuilder.py:92: PDBConstructionWarning: WARNING: Chain A is discontinuous at line 3731.\n",
      "  PDBConstructionWarning,\n",
      "/wsu/home/fr/fr15/fr1583/.conda/envs/protein/lib/python3.7/site-packages/Bio/PDB/StructureBuilder.py:92: PDBConstructionWarning: WARNING: Chain B is discontinuous at line 3840.\n",
      "  PDBConstructionWarning,\n",
      "/wsu/home/fr/fr15/fr1583/.conda/envs/protein/lib/python3.7/site-packages/Bio/PDB/StructureBuilder.py:92: PDBConstructionWarning: WARNING: Chain C is discontinuous at line 4077.\n",
      "  PDBConstructionWarning,\n",
      "/wsu/home/fr/fr15/fr1583/.conda/envs/protein/lib/python3.7/site-packages/Bio/PDB/StructureBuilder.py:92: PDBConstructionWarning: WARNING: Chain D is discontinuous at line 4162.\n",
      "  PDBConstructionWarning,\n"
     ]
    },
    {
     "name": "stdout",
     "output_type": "stream",
     "text": [
      "93 2agk\n",
      "94 2ah1\n"
     ]
    },
    {
     "name": "stderr",
     "output_type": "stream",
     "text": [
      "/wsu/home/fr/fr15/fr1583/.conda/envs/protein/lib/python3.7/site-packages/Bio/PDB/StructureBuilder.py:92: PDBConstructionWarning: WARNING: Chain D is discontinuous at line 7269.\n",
      "  PDBConstructionWarning,\n",
      "/wsu/home/fr/fr15/fr1583/.conda/envs/protein/lib/python3.7/site-packages/Bio/PDB/StructureBuilder.py:92: PDBConstructionWarning: WARNING: Chain H is discontinuous at line 7462.\n",
      "  PDBConstructionWarning,\n",
      "/wsu/home/fr/fr15/fr1583/.conda/envs/protein/lib/python3.7/site-packages/Bio/PDB/StructureBuilder.py:92: PDBConstructionWarning: WARNING: Chain A is discontinuous at line 7664.\n",
      "  PDBConstructionWarning,\n",
      "/wsu/home/fr/fr15/fr1583/.conda/envs/protein/lib/python3.7/site-packages/Bio/PDB/StructureBuilder.py:92: PDBConstructionWarning: WARNING: Chain B is discontinuous at line 8375.\n",
      "  PDBConstructionWarning,\n"
     ]
    },
    {
     "name": "stdout",
     "output_type": "stream",
     "text": [
      "95 2b0a\n",
      "96 2bcm\n"
     ]
    },
    {
     "name": "stderr",
     "output_type": "stream",
     "text": [
      "/wsu/home/fr/fr15/fr1583/.conda/envs/protein/lib/python3.7/site-packages/Bio/PDB/StructureBuilder.py:92: PDBConstructionWarning: WARNING: Chain B is discontinuous at line 3135.\n",
      "  PDBConstructionWarning,\n",
      "/wsu/home/fr/fr15/fr1583/.conda/envs/protein/lib/python3.7/site-packages/Bio/PDB/StructureBuilder.py:92: PDBConstructionWarning: WARNING: Chain A is discontinuous at line 3298.\n",
      "  PDBConstructionWarning,\n",
      "/wsu/home/fr/fr15/fr1583/.conda/envs/protein/lib/python3.7/site-packages/Bio/PDB/StructureBuilder.py:92: PDBConstructionWarning: WARNING: Chain C is discontinuous at line 3452.\n",
      "  PDBConstructionWarning,\n"
     ]
    },
    {
     "name": "stdout",
     "output_type": "stream",
     "text": [
      "97 2bf9\n",
      "98 2brf\n",
      "99 2c71\n",
      "100 2ce0\n",
      "101 2cg7\n",
      "102 2cov\n"
     ]
    },
    {
     "name": "stderr",
     "output_type": "stream",
     "text": [
      "/wsu/home/fr/fr15/fr1583/.conda/envs/protein/lib/python3.7/site-packages/Bio/PDB/StructureBuilder.py:92: PDBConstructionWarning: WARNING: Chain D is discontinuous at line 4366.\n",
      "  PDBConstructionWarning,\n",
      "/wsu/home/fr/fr15/fr1583/.conda/envs/protein/lib/python3.7/site-packages/Bio/PDB/StructureBuilder.py:92: PDBConstructionWarning: WARNING: Chain E is discontinuous at line 4481.\n",
      "  PDBConstructionWarning,\n",
      "/wsu/home/fr/fr15/fr1583/.conda/envs/protein/lib/python3.7/site-packages/Bio/PDB/StructureBuilder.py:92: PDBConstructionWarning: WARNING: Chain F is discontinuous at line 4591.\n",
      "  PDBConstructionWarning,\n",
      "/wsu/home/fr/fr15/fr1583/.conda/envs/protein/lib/python3.7/site-packages/Bio/PDB/StructureBuilder.py:92: PDBConstructionWarning: WARNING: Chain G is discontinuous at line 4676.\n",
      "  PDBConstructionWarning,\n",
      "/wsu/home/fr/fr15/fr1583/.conda/envs/protein/lib/python3.7/site-packages/Bio/PDB/StructureBuilder.py:92: PDBConstructionWarning: WARNING: Chain H is discontinuous at line 4763.\n",
      "  PDBConstructionWarning,\n",
      "/wsu/home/fr/fr15/fr1583/.conda/envs/protein/lib/python3.7/site-packages/Bio/PDB/StructureBuilder.py:92: PDBConstructionWarning: WARNING: Chain I is discontinuous at line 4852.\n",
      "  PDBConstructionWarning,\n"
     ]
    },
    {
     "name": "stdout",
     "output_type": "stream",
     "text": [
      "103 2cws\n",
      "104 2d5w\n"
     ]
    },
    {
     "name": "stderr",
     "output_type": "stream",
     "text": [
      "/wsu/home/fr/fr15/fr1583/.conda/envs/protein/lib/python3.7/site-packages/Bio/PDB/StructureBuilder.py:92: PDBConstructionWarning: WARNING: Chain A is discontinuous at line 9772.\n",
      "  PDBConstructionWarning,\n",
      "/wsu/home/fr/fr15/fr1583/.conda/envs/protein/lib/python3.7/site-packages/Bio/PDB/StructureBuilder.py:92: PDBConstructionWarning: WARNING: Chain B is discontinuous at line 10340.\n",
      "  PDBConstructionWarning,\n",
      "/wsu/home/fr/fr15/fr1583/.conda/envs/protein/lib/python3.7/site-packages/Bio/PDB/StructureBuilder.py:92: PDBConstructionWarning: WARNING: Chain C is discontinuous at line 10839.\n",
      "  PDBConstructionWarning,\n",
      "/wsu/home/fr/fr15/fr1583/.conda/envs/protein/lib/python3.7/site-packages/Bio/PDB/StructureBuilder.py:92: PDBConstructionWarning: WARNING: Chain D is discontinuous at line 10841.\n",
      "  PDBConstructionWarning,\n"
     ]
    },
    {
     "name": "stdout",
     "output_type": "stream",
     "text": [
      "skipped\n",
      "105 2dko\n"
     ]
    },
    {
     "name": "stderr",
     "output_type": "stream",
     "text": [
      "/wsu/home/fr/fr15/fr1583/.conda/envs/protein/lib/python3.7/site-packages/Bio/PDB/StructureBuilder.py:92: PDBConstructionWarning: WARNING: Chain A is discontinuous at line 2092.\n",
      "  PDBConstructionWarning,\n",
      "/wsu/home/fr/fr15/fr1583/.conda/envs/protein/lib/python3.7/site-packages/Bio/PDB/StructureBuilder.py:92: PDBConstructionWarning: WARNING: Chain B is discontinuous at line 2311.\n",
      "  PDBConstructionWarning,\n",
      "/wsu/home/fr/fr15/fr1583/.conda/envs/protein/lib/python3.7/site-packages/Bio/PDB/StructureBuilder.py:92: PDBConstructionWarning: WARNING: Chain I is discontinuous at line 2420.\n",
      "  PDBConstructionWarning,\n"
     ]
    },
    {
     "name": "stdout",
     "output_type": "stream",
     "text": [
      "106 2dpl\n"
     ]
    },
    {
     "name": "stderr",
     "output_type": "stream",
     "text": [
      "/wsu/home/fr/fr15/fr1583/.conda/envs/protein/lib/python3.7/site-packages/Bio/PDB/StructureBuilder.py:92: PDBConstructionWarning: WARNING: Chain A is discontinuous at line 4500.\n",
      "  PDBConstructionWarning,\n",
      "/wsu/home/fr/fr15/fr1583/.conda/envs/protein/lib/python3.7/site-packages/Bio/PDB/StructureBuilder.py:92: PDBConstructionWarning: WARNING: Chain B is discontinuous at line 4993.\n",
      "  PDBConstructionWarning,\n"
     ]
    },
    {
     "name": "stdout",
     "output_type": "stream",
     "text": [
      "107 2dsx\n",
      "108 2e10\n"
     ]
    },
    {
     "name": "stderr",
     "output_type": "stream",
     "text": [
      "/wsu/home/fr/fr15/fr1583/.conda/envs/protein/lib/python3.7/site-packages/Bio/PDB/StructureBuilder.py:92: PDBConstructionWarning: WARNING: Chain A is discontinuous at line 3416.\n",
      "  PDBConstructionWarning,\n",
      "/wsu/home/fr/fr15/fr1583/.conda/envs/protein/lib/python3.7/site-packages/Bio/PDB/StructureBuilder.py:92: PDBConstructionWarning: WARNING: Chain B is discontinuous at line 3697.\n",
      "  PDBConstructionWarning,\n"
     ]
    },
    {
     "name": "stdout",
     "output_type": "stream",
     "text": [
      "109 2e3h\n",
      "110 2eaq\n",
      "111 2ehp\n"
     ]
    },
    {
     "name": "stderr",
     "output_type": "stream",
     "text": [
      "/wsu/home/fr/fr15/fr1583/.conda/envs/protein/lib/python3.7/site-packages/Bio/PDB/StructureBuilder.py:92: PDBConstructionWarning: WARNING: Chain A is discontinuous at line 1891.\n",
      "  PDBConstructionWarning,\n",
      "/wsu/home/fr/fr15/fr1583/.conda/envs/protein/lib/python3.7/site-packages/Bio/PDB/StructureBuilder.py:92: PDBConstructionWarning: WARNING: Chain B is discontinuous at line 1964.\n",
      "  PDBConstructionWarning,\n"
     ]
    },
    {
     "name": "stdout",
     "output_type": "stream",
     "text": [
      "112 2ehs\n",
      "113 2erw\n",
      "114 2etx\n"
     ]
    },
    {
     "name": "stderr",
     "output_type": "stream",
     "text": [
      "/wsu/home/fr/fr15/fr1583/.conda/envs/protein/lib/python3.7/site-packages/Bio/PDB/StructureBuilder.py:92: PDBConstructionWarning: WARNING: Chain A is discontinuous at line 3018.\n",
      "  PDBConstructionWarning,\n",
      "/wsu/home/fr/fr15/fr1583/.conda/envs/protein/lib/python3.7/site-packages/Bio/PDB/StructureBuilder.py:92: PDBConstructionWarning: WARNING: Chain B is discontinuous at line 3222.\n",
      "  PDBConstructionWarning,\n"
     ]
    },
    {
     "name": "stdout",
     "output_type": "stream",
     "text": [
      "115 2fb6\n",
      "116 2fg1\n",
      "117 2fn9\n"
     ]
    },
    {
     "name": "stderr",
     "output_type": "stream",
     "text": [
      "/wsu/home/fr/fr15/fr1583/.conda/envs/protein/lib/python3.7/site-packages/Bio/PDB/StructureBuilder.py:92: PDBConstructionWarning: WARNING: Chain A is discontinuous at line 4362.\n",
      "  PDBConstructionWarning,\n",
      "/wsu/home/fr/fr15/fr1583/.conda/envs/protein/lib/python3.7/site-packages/Bio/PDB/StructureBuilder.py:92: PDBConstructionWarning: WARNING: Chain B is discontinuous at line 4692.\n",
      "  PDBConstructionWarning,\n"
     ]
    },
    {
     "name": "stdout",
     "output_type": "stream",
     "text": [
      "118 2fq3\n",
      "119 2g69\n",
      "120 2g7o\n",
      "121 2g7s\n",
      "122 2gkg\n",
      "123 2gom\n",
      "124 2gxg\n"
     ]
    },
    {
     "name": "stderr",
     "output_type": "stream",
     "text": [
      "/wsu/home/fr/fr15/fr1583/.conda/envs/protein/lib/python3.7/site-packages/Bio/PDB/StructureBuilder.py:92: PDBConstructionWarning: WARNING: Chain A is discontinuous at line 987.\n",
      "  PDBConstructionWarning,\n",
      "/wsu/home/fr/fr15/fr1583/.conda/envs/protein/lib/python3.7/site-packages/Bio/PDB/StructureBuilder.py:92: PDBConstructionWarning: WARNING: Chain B is discontinuous at line 1069.\n",
      "  PDBConstructionWarning,\n"
     ]
    },
    {
     "name": "stdout",
     "output_type": "stream",
     "text": [
      "125 2gzq\n",
      "126 2hqk\n",
      "127 2hyk\n",
      "128 2i24\n",
      "129 2i49\n",
      "130 2ibl\n",
      "131 2igd\n",
      "132 2imf\n",
      "133 2ip6\n",
      "134 2ivy\n",
      "135 2j32\n"
     ]
    },
    {
     "name": "stderr",
     "output_type": "stream",
     "text": [
      "/wsu/home/fr/fr15/fr1583/.conda/envs/protein/lib/python3.7/site-packages/Bio/PDB/StructureBuilder.py:92: PDBConstructionWarning: WARNING: Chain A is discontinuous at line 1971.\n",
      "  PDBConstructionWarning,\n",
      "/wsu/home/fr/fr15/fr1583/.conda/envs/protein/lib/python3.7/site-packages/Bio/PDB/StructureBuilder.py:92: PDBConstructionWarning: WARNING: Chain B is discontinuous at line 2269.\n",
      "  PDBConstructionWarning,\n",
      "/wsu/home/fr/fr15/fr1583/.conda/envs/protein/lib/python3.7/site-packages/Bio/PDB/StructureBuilder.py:92: PDBConstructionWarning: WARNING: Chain A is discontinuous at line 1650.\n",
      "  PDBConstructionWarning,\n",
      "/wsu/home/fr/fr15/fr1583/.conda/envs/protein/lib/python3.7/site-packages/Bio/PDB/StructureBuilder.py:92: PDBConstructionWarning: WARNING: Chain B is discontinuous at line 1722.\n",
      "  PDBConstructionWarning,\n"
     ]
    },
    {
     "name": "stdout",
     "output_type": "stream",
     "text": [
      "136 2j9w\n",
      "137 2jku\n",
      "138 2jli\n",
      "139 2jlj\n",
      "140 2mcm\n",
      "141 2nls\n",
      "142 2nr7\n",
      "143 2nuh\n",
      "144 2o6x\n",
      "145 2oa2\n",
      "146 2oct\n"
     ]
    },
    {
     "name": "stderr",
     "output_type": "stream",
     "text": [
      "/wsu/home/fr/fr15/fr1583/.conda/envs/protein/lib/python3.7/site-packages/Bio/PDB/StructureBuilder.py:92: PDBConstructionWarning: WARNING: Chain A is discontinuous at line 1570.\n",
      "  PDBConstructionWarning,\n",
      "/wsu/home/fr/fr15/fr1583/.conda/envs/protein/lib/python3.7/site-packages/Bio/PDB/StructureBuilder.py:92: PDBConstructionWarning: WARNING: Chain B is discontinuous at line 1656.\n",
      "  PDBConstructionWarning,\n",
      "/wsu/home/fr/fr15/fr1583/.conda/envs/protein/lib/python3.7/site-packages/Bio/PDB/StructureBuilder.py:92: PDBConstructionWarning: WARNING: Chain A is discontinuous at line 1570.\n",
      "  PDBConstructionWarning,\n",
      "/wsu/home/fr/fr15/fr1583/.conda/envs/protein/lib/python3.7/site-packages/Bio/PDB/StructureBuilder.py:92: PDBConstructionWarning: WARNING: Chain B is discontinuous at line 1656.\n",
      "  PDBConstructionWarning,\n",
      "/wsu/home/fr/fr15/fr1583/K/NMAcomp/multiscale.py:88: RuntimeWarning: divide by zero encountered in true_divide\n",
      "  reg.fit(mu_n.T,1/bfactor)\n",
      "/wsu/home/fr/fr15/fr1583/.conda/envs/protein/lib/python3.7/site-packages/Bio/PDB/StructureBuilder.py:92: PDBConstructionWarning: WARNING: Chain A is discontinuous at line 2086.\n",
      "  PDBConstructionWarning,\n",
      "/wsu/home/fr/fr15/fr1583/.conda/envs/protein/lib/python3.7/site-packages/Bio/PDB/StructureBuilder.py:92: PDBConstructionWarning: WARNING: Chain B is discontinuous at line 2146.\n",
      "  PDBConstructionWarning,\n"
     ]
    },
    {
     "name": "stdout",
     "output_type": "stream",
     "text": [
      "Input contains NaN, infinity or a value too large for dtype('float64').\n",
      "147 2ohw\n",
      "148 2okt\n",
      "149 2ol9\n",
      "150 2olx\n",
      "151 2pkt\n",
      "152 2plt\n",
      "153 2pmr\n",
      "154 2pof\n"
     ]
    },
    {
     "name": "stderr",
     "output_type": "stream",
     "text": [
      "/wsu/home/fr/fr15/fr1583/.conda/envs/protein/lib/python3.7/site-packages/Bio/PDB/StructureBuilder.py:92: PDBConstructionWarning: WARNING: Chain A is discontinuous at line 3514.\n",
      "  PDBConstructionWarning,\n",
      "/wsu/home/fr/fr15/fr1583/.conda/envs/protein/lib/python3.7/site-packages/Bio/PDB/StructureBuilder.py:92: PDBConstructionWarning: WARNING: Chain B is discontinuous at line 3676.\n",
      "  PDBConstructionWarning,\n"
     ]
    },
    {
     "name": "stdout",
     "output_type": "stream",
     "text": [
      "155 2ppn\n",
      "156 2psf\n"
     ]
    },
    {
     "name": "stderr",
     "output_type": "stream",
     "text": [
      "/wsu/home/fr/fr15/fr1583/.conda/envs/protein/lib/python3.7/site-packages/Bio/PDB/StructureBuilder.py:92: PDBConstructionWarning: WARNING: Chain A is discontinuous at line 4983.\n",
      "  PDBConstructionWarning,\n",
      "/wsu/home/fr/fr15/fr1583/.conda/envs/protein/lib/python3.7/site-packages/Bio/PDB/StructureBuilder.py:92: PDBConstructionWarning: WARNING: Chain B is discontinuous at line 5408.\n",
      "  PDBConstructionWarning,\n"
     ]
    },
    {
     "name": "stdout",
     "output_type": "stream",
     "text": [
      "157 2pth\n",
      "158 2q4n\n",
      "Found input variables with inconsistent numbers of samples: [181, 1224]\n",
      "159 2q52\n"
     ]
    },
    {
     "name": "stderr",
     "output_type": "stream",
     "text": [
      "/wsu/home/fr/fr15/fr1583/.conda/envs/protein/lib/python3.7/site-packages/Bio/PDB/StructureBuilder.py:92: PDBConstructionWarning: WARNING: Chain A is discontinuous at line 3348.\n",
      "  PDBConstructionWarning,\n",
      "/wsu/home/fr/fr15/fr1583/.conda/envs/protein/lib/python3.7/site-packages/Bio/PDB/StructureBuilder.py:92: PDBConstructionWarning: WARNING: Chain B is discontinuous at line 3549.\n",
      "  PDBConstructionWarning,\n",
      "/wsu/home/fr/fr15/fr1583/.conda/envs/protein/lib/python3.7/site-packages/Bio/PDB/StructureBuilder.py:92: PDBConstructionWarning: WARNING: Chain A is discontinuous at line 7080.\n",
      "  PDBConstructionWarning,\n",
      "/wsu/home/fr/fr15/fr1583/.conda/envs/protein/lib/python3.7/site-packages/Bio/PDB/StructureBuilder.py:92: PDBConstructionWarning: WARNING: Chain B is discontinuous at line 7286.\n",
      "  PDBConstructionWarning,\n",
      "/wsu/home/fr/fr15/fr1583/.conda/envs/protein/lib/python3.7/site-packages/Bio/PDB/StructureBuilder.py:92: PDBConstructionWarning: WARNING: Chain A is discontinuous at line 10812.\n",
      "  PDBConstructionWarning,\n",
      "/wsu/home/fr/fr15/fr1583/.conda/envs/protein/lib/python3.7/site-packages/Bio/PDB/StructureBuilder.py:92: PDBConstructionWarning: WARNING: Chain B is discontinuous at line 11024.\n",
      "  PDBConstructionWarning,\n",
      "/wsu/home/fr/fr15/fr1583/.conda/envs/protein/lib/python3.7/site-packages/Bio/PDB/StructureBuilder.py:92: PDBConstructionWarning: WARNING: Chain A is discontinuous at line 14544.\n",
      "  PDBConstructionWarning,\n",
      "/wsu/home/fr/fr15/fr1583/.conda/envs/protein/lib/python3.7/site-packages/Bio/PDB/StructureBuilder.py:92: PDBConstructionWarning: WARNING: Chain B is discontinuous at line 14746.\n",
      "  PDBConstructionWarning,\n",
      "/wsu/home/fr/fr15/fr1583/.conda/envs/protein/lib/python3.7/site-packages/Bio/PDB/StructureBuilder.py:92: PDBConstructionWarning: WARNING: Chain A is discontinuous at line 18276.\n",
      "  PDBConstructionWarning,\n",
      "/wsu/home/fr/fr15/fr1583/.conda/envs/protein/lib/python3.7/site-packages/Bio/PDB/StructureBuilder.py:92: PDBConstructionWarning: WARNING: Chain B is discontinuous at line 18477.\n",
      "  PDBConstructionWarning,\n",
      "/wsu/home/fr/fr15/fr1583/.conda/envs/protein/lib/python3.7/site-packages/Bio/PDB/StructureBuilder.py:92: PDBConstructionWarning: WARNING: Chain A is discontinuous at line 22008.\n",
      "  PDBConstructionWarning,\n",
      "/wsu/home/fr/fr15/fr1583/.conda/envs/protein/lib/python3.7/site-packages/Bio/PDB/StructureBuilder.py:92: PDBConstructionWarning: WARNING: Chain B is discontinuous at line 22210.\n",
      "  PDBConstructionWarning,\n",
      "/wsu/home/fr/fr15/fr1583/.conda/envs/protein/lib/python3.7/site-packages/Bio/PDB/StructureBuilder.py:92: PDBConstructionWarning: WARNING: Chain A is discontinuous at line 25740.\n",
      "  PDBConstructionWarning,\n",
      "/wsu/home/fr/fr15/fr1583/.conda/envs/protein/lib/python3.7/site-packages/Bio/PDB/StructureBuilder.py:92: PDBConstructionWarning: WARNING: Chain B is discontinuous at line 25944.\n",
      "  PDBConstructionWarning,\n",
      "/wsu/home/fr/fr15/fr1583/.conda/envs/protein/lib/python3.7/site-packages/Bio/PDB/StructureBuilder.py:92: PDBConstructionWarning: WARNING: Chain A is discontinuous at line 29472.\n",
      "  PDBConstructionWarning,\n",
      "/wsu/home/fr/fr15/fr1583/.conda/envs/protein/lib/python3.7/site-packages/Bio/PDB/StructureBuilder.py:92: PDBConstructionWarning: WARNING: Chain B is discontinuous at line 29678.\n",
      "  PDBConstructionWarning,\n",
      "/wsu/home/fr/fr15/fr1583/.conda/envs/protein/lib/python3.7/site-packages/Bio/PDB/StructureBuilder.py:92: PDBConstructionWarning: WARNING: Chain A is discontinuous at line 3348.\n",
      "  PDBConstructionWarning,\n",
      "/wsu/home/fr/fr15/fr1583/.conda/envs/protein/lib/python3.7/site-packages/Bio/PDB/StructureBuilder.py:92: PDBConstructionWarning: WARNING: Chain B is discontinuous at line 3549.\n",
      "  PDBConstructionWarning,\n",
      "/wsu/home/fr/fr15/fr1583/.conda/envs/protein/lib/python3.7/site-packages/Bio/PDB/StructureBuilder.py:92: PDBConstructionWarning: WARNING: Chain A is discontinuous at line 7080.\n",
      "  PDBConstructionWarning,\n",
      "/wsu/home/fr/fr15/fr1583/.conda/envs/protein/lib/python3.7/site-packages/Bio/PDB/StructureBuilder.py:92: PDBConstructionWarning: WARNING: Chain B is discontinuous at line 7286.\n",
      "  PDBConstructionWarning,\n",
      "/wsu/home/fr/fr15/fr1583/.conda/envs/protein/lib/python3.7/site-packages/Bio/PDB/StructureBuilder.py:92: PDBConstructionWarning: WARNING: Chain A is discontinuous at line 10812.\n",
      "  PDBConstructionWarning,\n",
      "/wsu/home/fr/fr15/fr1583/.conda/envs/protein/lib/python3.7/site-packages/Bio/PDB/StructureBuilder.py:92: PDBConstructionWarning: WARNING: Chain B is discontinuous at line 11024.\n",
      "  PDBConstructionWarning,\n",
      "/wsu/home/fr/fr15/fr1583/.conda/envs/protein/lib/python3.7/site-packages/Bio/PDB/StructureBuilder.py:92: PDBConstructionWarning: WARNING: Chain A is discontinuous at line 14544.\n",
      "  PDBConstructionWarning,\n",
      "/wsu/home/fr/fr15/fr1583/.conda/envs/protein/lib/python3.7/site-packages/Bio/PDB/StructureBuilder.py:92: PDBConstructionWarning: WARNING: Chain B is discontinuous at line 14746.\n",
      "  PDBConstructionWarning,\n",
      "/wsu/home/fr/fr15/fr1583/.conda/envs/protein/lib/python3.7/site-packages/Bio/PDB/StructureBuilder.py:92: PDBConstructionWarning: WARNING: Chain A is discontinuous at line 18276.\n",
      "  PDBConstructionWarning,\n",
      "/wsu/home/fr/fr15/fr1583/.conda/envs/protein/lib/python3.7/site-packages/Bio/PDB/StructureBuilder.py:92: PDBConstructionWarning: WARNING: Chain B is discontinuous at line 18477.\n",
      "  PDBConstructionWarning,\n",
      "/wsu/home/fr/fr15/fr1583/.conda/envs/protein/lib/python3.7/site-packages/Bio/PDB/StructureBuilder.py:92: PDBConstructionWarning: WARNING: Chain A is discontinuous at line 22008.\n",
      "  PDBConstructionWarning,\n",
      "/wsu/home/fr/fr15/fr1583/.conda/envs/protein/lib/python3.7/site-packages/Bio/PDB/StructureBuilder.py:92: PDBConstructionWarning: WARNING: Chain B is discontinuous at line 22210.\n",
      "  PDBConstructionWarning,\n",
      "/wsu/home/fr/fr15/fr1583/.conda/envs/protein/lib/python3.7/site-packages/Bio/PDB/StructureBuilder.py:92: PDBConstructionWarning: WARNING: Chain A is discontinuous at line 25740.\n",
      "  PDBConstructionWarning,\n",
      "/wsu/home/fr/fr15/fr1583/.conda/envs/protein/lib/python3.7/site-packages/Bio/PDB/StructureBuilder.py:92: PDBConstructionWarning: WARNING: Chain B is discontinuous at line 25944.\n",
      "  PDBConstructionWarning,\n",
      "/wsu/home/fr/fr15/fr1583/.conda/envs/protein/lib/python3.7/site-packages/Bio/PDB/StructureBuilder.py:92: PDBConstructionWarning: WARNING: Chain A is discontinuous at line 29472.\n",
      "  PDBConstructionWarning,\n",
      "/wsu/home/fr/fr15/fr1583/.conda/envs/protein/lib/python3.7/site-packages/Bio/PDB/StructureBuilder.py:92: PDBConstructionWarning: WARNING: Chain B is discontinuous at line 29678.\n",
      "  PDBConstructionWarning,\n"
     ]
    },
    {
     "name": "stdout",
     "output_type": "stream",
     "text": [
      "Found input variables with inconsistent numbers of samples: [480, 3296]\n",
      "160 2qjl\n",
      "161 2r16\n",
      "162 2r6q\n",
      "163 2rb8\n",
      "164 2re2\n"
     ]
    },
    {
     "name": "stderr",
     "output_type": "stream",
     "text": [
      "/wsu/home/fr/fr15/fr1583/.conda/envs/protein/lib/python3.7/site-packages/Bio/PDB/StructureBuilder.py:92: PDBConstructionWarning: WARNING: Chain A is discontinuous at line 1898.\n",
      "  PDBConstructionWarning,\n",
      "/wsu/home/fr/fr15/fr1583/.conda/envs/protein/lib/python3.7/site-packages/Bio/PDB/StructureBuilder.py:92: PDBConstructionWarning: WARNING: Chain B is discontinuous at line 2061.\n",
      "  PDBConstructionWarning,\n"
     ]
    },
    {
     "name": "stdout",
     "output_type": "stream",
     "text": [
      "165 2rfr\n",
      "166 2v9v\n",
      "167 2ve8\n"
     ]
    },
    {
     "name": "stderr",
     "output_type": "stream",
     "text": [
      "/wsu/home/fr/fr15/fr1583/.conda/envs/protein/lib/python3.7/site-packages/Bio/PDB/StructureBuilder.py:92: PDBConstructionWarning: WARNING: Chain A is discontinuous at line 3972.\n",
      "  PDBConstructionWarning,\n",
      "/wsu/home/fr/fr15/fr1583/.conda/envs/protein/lib/python3.7/site-packages/Bio/PDB/StructureBuilder.py:92: PDBConstructionWarning: WARNING: Chain B is discontinuous at line 4066.\n",
      "  PDBConstructionWarning,\n",
      "/wsu/home/fr/fr15/fr1583/.conda/envs/protein/lib/python3.7/site-packages/Bio/PDB/StructureBuilder.py:92: PDBConstructionWarning: WARNING: Chain C is discontinuous at line 4158.\n",
      "  PDBConstructionWarning,\n",
      "/wsu/home/fr/fr15/fr1583/.conda/envs/protein/lib/python3.7/site-packages/Bio/PDB/StructureBuilder.py:92: PDBConstructionWarning: WARNING: Chain D is discontinuous at line 4247.\n",
      "  PDBConstructionWarning,\n",
      "/wsu/home/fr/fr15/fr1583/.conda/envs/protein/lib/python3.7/site-packages/Bio/PDB/StructureBuilder.py:92: PDBConstructionWarning: WARNING: Chain E is discontinuous at line 4328.\n",
      "  PDBConstructionWarning,\n",
      "/wsu/home/fr/fr15/fr1583/.conda/envs/protein/lib/python3.7/site-packages/Bio/PDB/StructureBuilder.py:92: PDBConstructionWarning: WARNING: Chain F is discontinuous at line 4395.\n",
      "  PDBConstructionWarning,\n",
      "/wsu/home/fr/fr15/fr1583/.conda/envs/protein/lib/python3.7/site-packages/Bio/PDB/StructureBuilder.py:92: PDBConstructionWarning: WARNING: Chain G is discontinuous at line 4462.\n",
      "  PDBConstructionWarning,\n",
      "/wsu/home/fr/fr15/fr1583/.conda/envs/protein/lib/python3.7/site-packages/Bio/PDB/StructureBuilder.py:92: PDBConstructionWarning: WARNING: Chain H is discontinuous at line 4559.\n",
      "  PDBConstructionWarning,\n"
     ]
    },
    {
     "name": "stdout",
     "output_type": "stream",
     "text": [
      "168 2vh7\n",
      "169 2vim\n",
      "170 2vpa\n",
      "171 2vq4\n",
      "172 2vy8\n",
      "173 2vyo\n",
      "174 2w1v\n"
     ]
    },
    {
     "name": "stderr",
     "output_type": "stream",
     "text": [
      "/wsu/home/fr/fr15/fr1583/.conda/envs/protein/lib/python3.7/site-packages/Bio/PDB/StructureBuilder.py:92: PDBConstructionWarning: WARNING: Chain A is discontinuous at line 4273.\n",
      "  PDBConstructionWarning,\n",
      "/wsu/home/fr/fr15/fr1583/.conda/envs/protein/lib/python3.7/site-packages/Bio/PDB/StructureBuilder.py:92: PDBConstructionWarning: WARNING: Chain B is discontinuous at line 4653.\n",
      "  PDBConstructionWarning,\n"
     ]
    },
    {
     "name": "stdout",
     "output_type": "stream",
     "text": [
      "175 2w2a\n",
      "176 2w6a\n"
     ]
    },
    {
     "name": "stderr",
     "output_type": "stream",
     "text": [
      "/wsu/home/fr/fr15/fr1583/.conda/envs/protein/lib/python3.7/site-packages/Bio/PDB/StructureBuilder.py:92: PDBConstructionWarning: WARNING: Chain A is discontinuous at line 2918.\n",
      "  PDBConstructionWarning,\n",
      "/wsu/home/fr/fr15/fr1583/.conda/envs/protein/lib/python3.7/site-packages/Bio/PDB/StructureBuilder.py:92: PDBConstructionWarning: WARNING: Chain B is discontinuous at line 3189.\n",
      "  PDBConstructionWarning,\n",
      "/wsu/home/fr/fr15/fr1583/.conda/envs/protein/lib/python3.7/site-packages/Bio/PDB/StructureBuilder.py:92: PDBConstructionWarning: WARNING: Chain A is discontinuous at line 1040.\n",
      "  PDBConstructionWarning,\n",
      "/wsu/home/fr/fr15/fr1583/.conda/envs/protein/lib/python3.7/site-packages/Bio/PDB/StructureBuilder.py:92: PDBConstructionWarning: WARNING: Chain B is discontinuous at line 1120.\n",
      "  PDBConstructionWarning,\n"
     ]
    },
    {
     "name": "stdout",
     "output_type": "stream",
     "text": [
      "177 2wj5\n",
      "178 2wuj\n"
     ]
    },
    {
     "name": "stderr",
     "output_type": "stream",
     "text": [
      "/wsu/home/fr/fr15/fr1583/.conda/envs/protein/lib/python3.7/site-packages/Bio/PDB/StructureBuilder.py:92: PDBConstructionWarning: WARNING: Chain A is discontinuous at line 856.\n",
      "  PDBConstructionWarning,\n",
      "/wsu/home/fr/fr15/fr1583/.conda/envs/protein/lib/python3.7/site-packages/Bio/PDB/StructureBuilder.py:92: PDBConstructionWarning: WARNING: Chain B is discontinuous at line 973.\n",
      "  PDBConstructionWarning,\n"
     ]
    },
    {
     "name": "stdout",
     "output_type": "stream",
     "text": [
      "179 2ww7\n"
     ]
    },
    {
     "name": "stderr",
     "output_type": "stream",
     "text": [
      "/wsu/home/fr/fr15/fr1583/.conda/envs/protein/lib/python3.7/site-packages/Bio/PDB/StructureBuilder.py:92: PDBConstructionWarning: WARNING: Chain A is discontinuous at line 3173.\n",
      "  PDBConstructionWarning,\n",
      "/wsu/home/fr/fr15/fr1583/.conda/envs/protein/lib/python3.7/site-packages/Bio/PDB/StructureBuilder.py:92: PDBConstructionWarning: WARNING: Chain B is discontinuous at line 3249.\n",
      "  PDBConstructionWarning,\n",
      "/wsu/home/fr/fr15/fr1583/.conda/envs/protein/lib/python3.7/site-packages/Bio/PDB/StructureBuilder.py:92: PDBConstructionWarning: WARNING: Chain C is discontinuous at line 3340.\n",
      "  PDBConstructionWarning,\n",
      "/wsu/home/fr/fr15/fr1583/.conda/envs/protein/lib/python3.7/site-packages/Bio/PDB/StructureBuilder.py:92: PDBConstructionWarning: WARNING: Chain D is discontinuous at line 3416.\n",
      "  PDBConstructionWarning,\n",
      "/wsu/home/fr/fr15/fr1583/.conda/envs/protein/lib/python3.7/site-packages/Bio/PDB/StructureBuilder.py:92: PDBConstructionWarning: WARNING: Chain E is discontinuous at line 3478.\n",
      "  PDBConstructionWarning,\n",
      "/wsu/home/fr/fr15/fr1583/.conda/envs/protein/lib/python3.7/site-packages/Bio/PDB/StructureBuilder.py:92: PDBConstructionWarning: WARNING: Chain F is discontinuous at line 3550.\n",
      "  PDBConstructionWarning,\n"
     ]
    },
    {
     "name": "stdout",
     "output_type": "stream",
     "text": [
      "180 2wwe\n",
      "181 2x1q\n",
      "182 2x25\n"
     ]
    },
    {
     "name": "stderr",
     "output_type": "stream",
     "text": [
      "/wsu/home/fr/fr15/fr1583/.conda/envs/protein/lib/python3.7/site-packages/Bio/PDB/StructureBuilder.py:92: PDBConstructionWarning: WARNING: Chain A is discontinuous at line 1852.\n",
      "  PDBConstructionWarning,\n",
      "/wsu/home/fr/fr15/fr1583/.conda/envs/protein/lib/python3.7/site-packages/Bio/PDB/StructureBuilder.py:92: PDBConstructionWarning: WARNING: Chain B is discontinuous at line 2084.\n",
      "  PDBConstructionWarning,\n"
     ]
    },
    {
     "name": "stdout",
     "output_type": "stream",
     "text": [
      "183 2x3m\n",
      "184 2x5y\n",
      "185 2x9z\n",
      "186 2xhf\n"
     ]
    },
    {
     "name": "stderr",
     "output_type": "stream",
     "text": [
      "/wsu/home/fr/fr15/fr1583/.conda/envs/protein/lib/python3.7/site-packages/Bio/PDB/StructureBuilder.py:92: PDBConstructionWarning: WARNING: Chain A is discontinuous at line 4871.\n",
      "  PDBConstructionWarning,\n",
      "/wsu/home/fr/fr15/fr1583/.conda/envs/protein/lib/python3.7/site-packages/Bio/PDB/StructureBuilder.py:92: PDBConstructionWarning: WARNING: Chain B is discontinuous at line 5041.\n",
      "  PDBConstructionWarning,\n",
      "/wsu/home/fr/fr15/fr1583/.conda/envs/protein/lib/python3.7/site-packages/Bio/PDB/StructureBuilder.py:92: PDBConstructionWarning: WARNING: Chain A is discontinuous at line 838.\n",
      "  PDBConstructionWarning,\n",
      "/wsu/home/fr/fr15/fr1583/.conda/envs/protein/lib/python3.7/site-packages/Bio/PDB/StructureBuilder.py:92: PDBConstructionWarning: WARNING: Chain B is discontinuous at line 900.\n",
      "  PDBConstructionWarning,\n"
     ]
    },
    {
     "name": "stdout",
     "output_type": "stream",
     "text": [
      "187 2y0t\n",
      "188 2y72\n"
     ]
    },
    {
     "name": "stderr",
     "output_type": "stream",
     "text": [
      "/wsu/home/fr/fr15/fr1583/.conda/envs/protein/lib/python3.7/site-packages/Bio/PDB/StructureBuilder.py:92: PDBConstructionWarning: WARNING: Chain A is discontinuous at line 1323.\n",
      "  PDBConstructionWarning,\n",
      "/wsu/home/fr/fr15/fr1583/.conda/envs/protein/lib/python3.7/site-packages/Bio/PDB/StructureBuilder.py:92: PDBConstructionWarning: WARNING: Chain B is discontinuous at line 1499.\n",
      "  PDBConstructionWarning,\n"
     ]
    },
    {
     "name": "stdout",
     "output_type": "stream",
     "text": [
      "189 2y7l\n"
     ]
    },
    {
     "name": "stderr",
     "output_type": "stream",
     "text": [
      "/wsu/home/fr/fr15/fr1583/.conda/envs/protein/lib/python3.7/site-packages/Bio/PDB/StructureBuilder.py:92: PDBConstructionWarning: WARNING: Chain A is discontinuous at line 2426.\n",
      "  PDBConstructionWarning,\n",
      "/wsu/home/fr/fr15/fr1583/.conda/envs/protein/lib/python3.7/site-packages/Bio/PDB/StructureBuilder.py:92: PDBConstructionWarning: WARNING: Chain B is discontinuous at line 2729.\n",
      "  PDBConstructionWarning,\n"
     ]
    },
    {
     "name": "stdout",
     "output_type": "stream",
     "text": [
      "190 2y9f\n",
      "191 2ylb\n"
     ]
    },
    {
     "name": "stderr",
     "output_type": "stream",
     "text": [
      "/wsu/home/fr/fr15/fr1583/.conda/envs/protein/lib/python3.7/site-packages/Bio/PDB/StructureBuilder.py:92: PDBConstructionWarning: WARNING: Chain A is discontinuous at line 6853.\n",
      "  PDBConstructionWarning,\n",
      "/wsu/home/fr/fr15/fr1583/.conda/envs/protein/lib/python3.7/site-packages/Bio/PDB/StructureBuilder.py:92: PDBConstructionWarning: WARNING: Chain B is discontinuous at line 6921.\n",
      "  PDBConstructionWarning,\n",
      "/wsu/home/fr/fr15/fr1583/.conda/envs/protein/lib/python3.7/site-packages/Bio/PDB/StructureBuilder.py:92: PDBConstructionWarning: WARNING: Chain C is discontinuous at line 6981.\n",
      "  PDBConstructionWarning,\n",
      "/wsu/home/fr/fr15/fr1583/.conda/envs/protein/lib/python3.7/site-packages/Bio/PDB/StructureBuilder.py:92: PDBConstructionWarning: WARNING: Chain D is discontinuous at line 7048.\n",
      "  PDBConstructionWarning,\n",
      "/wsu/home/fr/fr15/fr1583/.conda/envs/protein/lib/python3.7/site-packages/Bio/PDB/StructureBuilder.py:92: PDBConstructionWarning: WARNING: Chain E is discontinuous at line 7113.\n",
      "  PDBConstructionWarning,\n",
      "/wsu/home/fr/fr15/fr1583/.conda/envs/protein/lib/python3.7/site-packages/Bio/PDB/StructureBuilder.py:92: PDBConstructionWarning: WARNING: Chain F is discontinuous at line 7177.\n",
      "  PDBConstructionWarning,\n"
     ]
    },
    {
     "name": "stdout",
     "output_type": "stream",
     "text": [
      "192 2yny\n"
     ]
    },
    {
     "name": "stderr",
     "output_type": "stream",
     "text": [
      "/wsu/home/fr/fr15/fr1583/.conda/envs/protein/lib/python3.7/site-packages/Bio/PDB/StructureBuilder.py:92: PDBConstructionWarning: WARNING: Chain A is discontinuous at line 2464.\n",
      "  PDBConstructionWarning,\n",
      "/wsu/home/fr/fr15/fr1583/.conda/envs/protein/lib/python3.7/site-packages/Bio/PDB/StructureBuilder.py:92: PDBConstructionWarning: WARNING: Chain B is discontinuous at line 2571.\n",
      "  PDBConstructionWarning,\n",
      "/wsu/home/fr/fr15/fr1583/.conda/envs/protein/lib/python3.7/site-packages/Bio/PDB/StructureBuilder.py:92: PDBConstructionWarning: WARNING: Chain C is discontinuous at line 2654.\n",
      "  PDBConstructionWarning,\n",
      "/wsu/home/fr/fr15/fr1583/.conda/envs/protein/lib/python3.7/site-packages/Bio/PDB/StructureBuilder.py:92: PDBConstructionWarning: WARNING: Chain A is discontinuous at line 3031.\n",
      "  PDBConstructionWarning,\n",
      "/wsu/home/fr/fr15/fr1583/.conda/envs/protein/lib/python3.7/site-packages/Bio/PDB/StructureBuilder.py:92: PDBConstructionWarning: WARNING: Chain B is discontinuous at line 3493.\n",
      "  PDBConstructionWarning,\n"
     ]
    },
    {
     "name": "stdout",
     "output_type": "stream",
     "text": [
      "193 2zcm\n",
      "194 2zu1\n",
      "195 3a0m\n"
     ]
    },
    {
     "name": "stderr",
     "output_type": "stream",
     "text": [
      "/wsu/home/fr/fr15/fr1583/.conda/envs/protein/lib/python3.7/site-packages/Bio/PDB/StructureBuilder.py:92: PDBConstructionWarning: WARNING: Chain A is discontinuous at line 2794.\n",
      "  PDBConstructionWarning,\n",
      "/wsu/home/fr/fr15/fr1583/.conda/envs/protein/lib/python3.7/site-packages/Bio/PDB/StructureBuilder.py:92: PDBConstructionWarning: WARNING: Chain B is discontinuous at line 3123.\n",
      "  PDBConstructionWarning,\n",
      "/wsu/home/fr/fr15/fr1583/.conda/envs/protein/lib/python3.7/site-packages/Bio/PDB/StructureBuilder.py:130: PDBConstructionWarning: WARNING: Residue (' ', 14, ' ') redefined at line 827.\n",
      "  PDBConstructionWarning,\n",
      "/wsu/home/fr/fr15/fr1583/.conda/envs/protein/lib/python3.7/site-packages/Bio/PDB/StructureBuilder.py:130: PDBConstructionWarning: WARNING: Residue (' ', 17, ' ') redefined at line 864.\n",
      "  PDBConstructionWarning,\n",
      "/wsu/home/fr/fr15/fr1583/.conda/envs/protein/lib/python3.7/site-packages/Bio/PDB/StructureBuilder.py:92: PDBConstructionWarning: WARNING: Chain A is discontinuous at line 929.\n",
      "  PDBConstructionWarning,\n",
      "/wsu/home/fr/fr15/fr1583/.conda/envs/protein/lib/python3.7/site-packages/Bio/PDB/StructureBuilder.py:92: PDBConstructionWarning: WARNING: Chain B is discontinuous at line 976.\n",
      "  PDBConstructionWarning,\n",
      "/wsu/home/fr/fr15/fr1583/.conda/envs/protein/lib/python3.7/site-packages/Bio/PDB/StructureBuilder.py:92: PDBConstructionWarning: WARNING: Chain C is discontinuous at line 1025.\n",
      "  PDBConstructionWarning,\n",
      "/wsu/home/fr/fr15/fr1583/.conda/envs/protein/lib/python3.7/site-packages/Bio/PDB/StructureBuilder.py:92: PDBConstructionWarning: WARNING: Chain D is discontinuous at line 1081.\n",
      "  PDBConstructionWarning,\n",
      "/wsu/home/fr/fr15/fr1583/.conda/envs/protein/lib/python3.7/site-packages/Bio/PDB/StructureBuilder.py:92: PDBConstructionWarning: WARNING: Chain E is discontinuous at line 1118.\n",
      "  PDBConstructionWarning,\n",
      "/wsu/home/fr/fr15/fr1583/.conda/envs/protein/lib/python3.7/site-packages/Bio/PDB/StructureBuilder.py:92: PDBConstructionWarning: WARNING: Chain F is discontinuous at line 1161.\n",
      "  PDBConstructionWarning,\n",
      "/wsu/home/fr/fr15/fr1583/.conda/envs/protein/lib/python3.7/site-packages/Bio/PDB/StructureBuilder.py:130: PDBConstructionWarning: WARNING: Residue (' ', 14, ' ') redefined at line 827.\n",
      "  PDBConstructionWarning,\n",
      "/wsu/home/fr/fr15/fr1583/.conda/envs/protein/lib/python3.7/site-packages/Bio/PDB/StructureBuilder.py:130: PDBConstructionWarning: WARNING: Residue (' ', 17, ' ') redefined at line 864.\n",
      "  PDBConstructionWarning,\n",
      "/wsu/home/fr/fr15/fr1583/.conda/envs/protein/lib/python3.7/site-packages/Bio/PDB/StructureBuilder.py:92: PDBConstructionWarning: WARNING: Chain A is discontinuous at line 929.\n",
      "  PDBConstructionWarning,\n",
      "/wsu/home/fr/fr15/fr1583/.conda/envs/protein/lib/python3.7/site-packages/Bio/PDB/StructureBuilder.py:92: PDBConstructionWarning: WARNING: Chain B is discontinuous at line 976.\n",
      "  PDBConstructionWarning,\n",
      "/wsu/home/fr/fr15/fr1583/.conda/envs/protein/lib/python3.7/site-packages/Bio/PDB/StructureBuilder.py:92: PDBConstructionWarning: WARNING: Chain C is discontinuous at line 1025.\n",
      "  PDBConstructionWarning,\n",
      "/wsu/home/fr/fr15/fr1583/.conda/envs/protein/lib/python3.7/site-packages/Bio/PDB/StructureBuilder.py:92: PDBConstructionWarning: WARNING: Chain D is discontinuous at line 1081.\n",
      "  PDBConstructionWarning,\n",
      "/wsu/home/fr/fr15/fr1583/.conda/envs/protein/lib/python3.7/site-packages/Bio/PDB/StructureBuilder.py:92: PDBConstructionWarning: WARNING: Chain E is discontinuous at line 1118.\n",
      "  PDBConstructionWarning,\n",
      "/wsu/home/fr/fr15/fr1583/.conda/envs/protein/lib/python3.7/site-packages/Bio/PDB/StructureBuilder.py:92: PDBConstructionWarning: WARNING: Chain F is discontinuous at line 1161.\n",
      "  PDBConstructionWarning,\n"
     ]
    },
    {
     "name": "stdout",
     "output_type": "stream",
     "text": [
      "Found input variables with inconsistent numbers of samples: [148, 150]\n",
      "196 3a7l\n",
      "197 3amc\n"
     ]
    },
    {
     "name": "stderr",
     "output_type": "stream",
     "text": [
      "/wsu/home/fr/fr15/fr1583/.conda/envs/protein/lib/python3.7/site-packages/Bio/PDB/StructureBuilder.py:92: PDBConstructionWarning: WARNING: Chain A is discontinuous at line 5174.\n",
      "  PDBConstructionWarning,\n",
      "/wsu/home/fr/fr15/fr1583/.conda/envs/protein/lib/python3.7/site-packages/Bio/PDB/StructureBuilder.py:92: PDBConstructionWarning: WARNING: Chain B is discontinuous at line 5546.\n",
      "  PDBConstructionWarning,\n",
      "/wsu/home/fr/fr15/fr1583/.conda/envs/protein/lib/python3.7/site-packages/Bio/PDB/StructureBuilder.py:92: PDBConstructionWarning: WARNING: Chain A is discontinuous at line 902.\n",
      "  PDBConstructionWarning,\n",
      "/wsu/home/fr/fr15/fr1583/.conda/envs/protein/lib/python3.7/site-packages/Bio/PDB/StructureBuilder.py:92: PDBConstructionWarning: WARNING: Chain B is discontinuous at line 1028.\n",
      "  PDBConstructionWarning,\n"
     ]
    },
    {
     "name": "stdout",
     "output_type": "stream",
     "text": [
      "198 3aub\n",
      "199 3b5o\n",
      "200 3ba1\n",
      "201 3bed\n",
      "202 3bqx\n"
     ]
    },
    {
     "name": "stderr",
     "output_type": "stream",
     "text": [
      "/wsu/home/fr/fr15/fr1583/.conda/envs/protein/lib/python3.7/site-packages/Bio/PDB/StructureBuilder.py:92: PDBConstructionWarning: WARNING: Chain A is discontinuous at line 2025.\n",
      "  PDBConstructionWarning,\n",
      "/wsu/home/fr/fr15/fr1583/.conda/envs/protein/lib/python3.7/site-packages/Bio/PDB/StructureBuilder.py:92: PDBConstructionWarning: WARNING: Chain B is discontinuous at line 2197.\n",
      "  PDBConstructionWarning,\n"
     ]
    },
    {
     "name": "stdout",
     "output_type": "stream",
     "text": [
      "203 3bzq\n",
      "204 3bzz\n",
      "205 3drf\n"
     ]
    },
    {
     "name": "stderr",
     "output_type": "stream",
     "text": [
      "/wsu/home/fr/fr15/fr1583/.conda/envs/protein/lib/python3.7/site-packages/Bio/PDB/StructureBuilder.py:92: PDBConstructionWarning: WARNING: Chain A is discontinuous at line 799.\n",
      "  PDBConstructionWarning,\n",
      "/wsu/home/fr/fr15/fr1583/.conda/envs/protein/lib/python3.7/site-packages/Bio/PDB/StructureBuilder.py:92: PDBConstructionWarning: WARNING: Chain B is discontinuous at line 821.\n",
      "  PDBConstructionWarning,\n",
      "/wsu/home/fr/fr15/fr1583/.conda/envs/protein/lib/python3.7/site-packages/Bio/PDB/StructureBuilder.py:92: PDBConstructionWarning: WARNING: Chain A is discontinuous at line 4397.\n",
      "  PDBConstructionWarning,\n",
      "/wsu/home/fr/fr15/fr1583/.conda/envs/protein/lib/python3.7/site-packages/Bio/PDB/StructureBuilder.py:92: PDBConstructionWarning: WARNING: Chain B is discontinuous at line 5508.\n",
      "  PDBConstructionWarning,\n"
     ]
    },
    {
     "name": "stdout",
     "output_type": "stream",
     "text": [
      "206 3dwv\n"
     ]
    },
    {
     "name": "stderr",
     "output_type": "stream",
     "text": [
      "/wsu/home/fr/fr15/fr1583/.conda/envs/protein/lib/python3.7/site-packages/Bio/PDB/StructureBuilder.py:92: PDBConstructionWarning: WARNING: Chain A is discontinuous at line 2780.\n",
      "  PDBConstructionWarning,\n",
      "/wsu/home/fr/fr15/fr1583/.conda/envs/protein/lib/python3.7/site-packages/Bio/PDB/StructureBuilder.py:92: PDBConstructionWarning: WARNING: Chain B is discontinuous at line 2951.\n",
      "  PDBConstructionWarning,\n",
      "/wsu/home/fr/fr15/fr1583/.conda/envs/protein/lib/python3.7/site-packages/Bio/PDB/StructureBuilder.py:92: PDBConstructionWarning: WARNING: Chain A is discontinuous at line 2780.\n",
      "  PDBConstructionWarning,\n",
      "/wsu/home/fr/fr15/fr1583/.conda/envs/protein/lib/python3.7/site-packages/Bio/PDB/StructureBuilder.py:92: PDBConstructionWarning: WARNING: Chain B is discontinuous at line 2951.\n",
      "  PDBConstructionWarning,\n"
     ]
    },
    {
     "name": "stdout",
     "output_type": "stream",
     "text": [
      "Found input variables with inconsistent numbers of samples: [325, 326]\n",
      "207 3e5t\n",
      "208 3e7r\n",
      "209 3eur\n",
      "210 3f2z\n",
      "211 3f7e\n",
      "212 3fcn\n"
     ]
    },
    {
     "name": "stderr",
     "output_type": "stream",
     "text": [
      "/wsu/home/fr/fr15/fr1583/.conda/envs/protein/lib/python3.7/site-packages/Bio/PDB/StructureBuilder.py:92: PDBConstructionWarning: WARNING: Chain A is discontinuous at line 2148.\n",
      "  PDBConstructionWarning,\n",
      "/wsu/home/fr/fr15/fr1583/.conda/envs/protein/lib/python3.7/site-packages/Bio/PDB/StructureBuilder.py:92: PDBConstructionWarning: WARNING: Chain B is discontinuous at line 2329.\n",
      "  PDBConstructionWarning,\n",
      "/wsu/home/fr/fr15/fr1583/.conda/envs/protein/lib/python3.7/site-packages/Bio/PDB/StructureBuilder.py:92: PDBConstructionWarning: WARNING: Chain A is discontinuous at line 752.\n",
      "  PDBConstructionWarning,\n",
      "/wsu/home/fr/fr15/fr1583/.conda/envs/protein/lib/python3.7/site-packages/Bio/PDB/StructureBuilder.py:92: PDBConstructionWarning: WARNING: Chain L is discontinuous at line 820.\n",
      "  PDBConstructionWarning,\n"
     ]
    },
    {
     "name": "stdout",
     "output_type": "stream",
     "text": [
      "213 3fe7\n",
      "214 3fke\n"
     ]
    },
    {
     "name": "stderr",
     "output_type": "stream",
     "text": [
      "/wsu/home/fr/fr15/fr1583/.conda/envs/protein/lib/python3.7/site-packages/Bio/PDB/StructureBuilder.py:92: PDBConstructionWarning: WARNING: Chain A is discontinuous at line 1938.\n",
      "  PDBConstructionWarning,\n",
      "/wsu/home/fr/fr15/fr1583/.conda/envs/protein/lib/python3.7/site-packages/Bio/PDB/StructureBuilder.py:92: PDBConstructionWarning: WARNING: Chain B is discontinuous at line 2043.\n",
      "  PDBConstructionWarning,\n",
      "/wsu/home/fr/fr15/fr1583/.conda/envs/protein/lib/python3.7/site-packages/Bio/PDB/StructureBuilder.py:92: PDBConstructionWarning: WARNING: Chain A is discontinuous at line 328.\n",
      "  PDBConstructionWarning,\n",
      "/wsu/home/fr/fr15/fr1583/.conda/envs/protein/lib/python3.7/site-packages/Bio/PDB/StructureBuilder.py:92: PDBConstructionWarning: WARNING: Chain B is discontinuous at line 339.\n",
      "  PDBConstructionWarning,\n",
      "/wsu/home/fr/fr15/fr1583/.conda/envs/protein/lib/python3.7/site-packages/Bio/PDB/StructureBuilder.py:92: PDBConstructionWarning: WARNING: Chain C is discontinuous at line 346.\n",
      "  PDBConstructionWarning,\n",
      "/wsu/home/fr/fr15/fr1583/.conda/envs/protein/lib/python3.7/site-packages/Bio/PDB/StructureBuilder.py:92: PDBConstructionWarning: WARNING: Chain D is discontinuous at line 356.\n",
      "  PDBConstructionWarning,\n",
      "/wsu/home/fr/fr15/fr1583/.conda/envs/protein/lib/python3.7/site-packages/Bio/PDB/StructureBuilder.py:92: PDBConstructionWarning: WARNING: Chain E is discontinuous at line 361.\n",
      "  PDBConstructionWarning,\n",
      "/wsu/home/fr/fr15/fr1583/.conda/envs/protein/lib/python3.7/site-packages/Bio/PDB/StructureBuilder.py:92: PDBConstructionWarning: WARNING: Chain F is discontinuous at line 368.\n",
      "  PDBConstructionWarning,\n",
      "/wsu/home/fr/fr15/fr1583/.conda/envs/protein/lib/python3.7/site-packages/Bio/PDB/StructureBuilder.py:92: PDBConstructionWarning: WARNING: Chain G is discontinuous at line 379.\n",
      "  PDBConstructionWarning,\n",
      "/wsu/home/fr/fr15/fr1583/.conda/envs/protein/lib/python3.7/site-packages/Bio/PDB/StructureBuilder.py:92: PDBConstructionWarning: WARNING: Chain H is discontinuous at line 391.\n",
      "  PDBConstructionWarning,\n"
     ]
    },
    {
     "name": "stdout",
     "output_type": "stream",
     "text": [
      "215 3fmy\n",
      "216 3fod\n",
      "217 3fso\n"
     ]
    },
    {
     "name": "stderr",
     "output_type": "stream",
     "text": [
      "/wsu/home/fr/fr15/fr1583/.conda/envs/protein/lib/python3.7/site-packages/Bio/PDB/StructureBuilder.py:92: PDBConstructionWarning: WARNING: Chain A is discontinuous at line 3803.\n",
      "  PDBConstructionWarning,\n",
      "/wsu/home/fr/fr15/fr1583/.conda/envs/protein/lib/python3.7/site-packages/Bio/PDB/StructureBuilder.py:92: PDBConstructionWarning: WARNING: Chain B is discontinuous at line 3945.\n",
      "  PDBConstructionWarning,\n"
     ]
    },
    {
     "name": "stdout",
     "output_type": "stream",
     "text": [
      "218 3ftd\n",
      "219 3fva\n"
     ]
    },
    {
     "name": "stderr",
     "output_type": "stream",
     "text": [
      "/wsu/home/fr/fr15/fr1583/K/NMAcomp/multiscale.py:88: RuntimeWarning: divide by zero encountered in true_divide\n",
      "  reg.fit(mu_n.T,1/bfactor)\n",
      "/wsu/home/fr/fr15/fr1583/.conda/envs/protein/lib/python3.7/site-packages/Bio/PDB/StructureBuilder.py:92: PDBConstructionWarning: WARNING: Chain A is discontinuous at line 3196.\n",
      "  PDBConstructionWarning,\n",
      "/wsu/home/fr/fr15/fr1583/.conda/envs/protein/lib/python3.7/site-packages/Bio/PDB/StructureBuilder.py:92: PDBConstructionWarning: WARNING: Chain B is discontinuous at line 3356.\n",
      "  PDBConstructionWarning,\n"
     ]
    },
    {
     "name": "stdout",
     "output_type": "stream",
     "text": [
      "Input contains NaN, infinity or a value too large for dtype('float64').\n",
      "220 3g1s\n",
      "221 3gbw\n",
      "222 3ghj\n",
      "223 3hfo\n"
     ]
    },
    {
     "name": "stderr",
     "output_type": "stream",
     "text": [
      "/wsu/home/fr/fr15/fr1583/.conda/envs/protein/lib/python3.7/site-packages/Bio/PDB/StructureBuilder.py:92: PDBConstructionWarning: WARNING: Chain A is discontinuous at line 1630.\n",
      "  PDBConstructionWarning,\n",
      "/wsu/home/fr/fr15/fr1583/.conda/envs/protein/lib/python3.7/site-packages/Bio/PDB/StructureBuilder.py:92: PDBConstructionWarning: WARNING: Chain B is discontinuous at line 1730.\n",
      "  PDBConstructionWarning,\n",
      "/wsu/home/fr/fr15/fr1583/.conda/envs/protein/lib/python3.7/site-packages/Bio/PDB/StructureBuilder.py:92: PDBConstructionWarning: WARNING: Chain C is discontinuous at line 1825.\n",
      "  PDBConstructionWarning,\n"
     ]
    },
    {
     "name": "stdout",
     "output_type": "stream",
     "text": [
      "224 3hhp\n"
     ]
    },
    {
     "name": "stderr",
     "output_type": "stream",
     "text": [
      "/wsu/home/fr/fr15/fr1583/.conda/envs/protein/lib/python3.7/site-packages/Bio/PDB/StructureBuilder.py:92: PDBConstructionWarning: WARNING: Chain A is discontinuous at line 9464.\n",
      "  PDBConstructionWarning,\n",
      "/wsu/home/fr/fr15/fr1583/.conda/envs/protein/lib/python3.7/site-packages/Bio/PDB/StructureBuilder.py:92: PDBConstructionWarning: WARNING: Chain B is discontinuous at line 9583.\n",
      "  PDBConstructionWarning,\n",
      "/wsu/home/fr/fr15/fr1583/.conda/envs/protein/lib/python3.7/site-packages/Bio/PDB/StructureBuilder.py:92: PDBConstructionWarning: WARNING: Chain C is discontinuous at line 9714.\n",
      "  PDBConstructionWarning,\n",
      "/wsu/home/fr/fr15/fr1583/.conda/envs/protein/lib/python3.7/site-packages/Bio/PDB/StructureBuilder.py:92: PDBConstructionWarning: WARNING: Chain D is discontinuous at line 9857.\n",
      "  PDBConstructionWarning,\n"
     ]
    },
    {
     "name": "stdout",
     "output_type": "stream",
     "text": [
      "skipped\n",
      "225 3hny\n",
      "226 3hp4\n",
      "227 3hwu\n",
      "228 3hyd\n",
      "229 3hz8\n",
      "230 3i2v\n",
      "231 3i2z\n",
      "232 3i4o\n"
     ]
    },
    {
     "name": "stderr",
     "output_type": "stream",
     "text": [
      "/wsu/home/fr/fr15/fr1583/.conda/envs/protein/lib/python3.7/site-packages/Bio/PDB/StructureBuilder.py:92: PDBConstructionWarning: WARNING: Chain B is discontinuous at line 1073.\n",
      "  PDBConstructionWarning,\n",
      "/wsu/home/fr/fr15/fr1583/.conda/envs/protein/lib/python3.7/site-packages/Bio/PDB/StructureBuilder.py:92: PDBConstructionWarning: WARNING: Chain A is discontinuous at line 1106.\n",
      "  PDBConstructionWarning,\n",
      "/wsu/home/fr/fr15/fr1583/.conda/envs/protein/lib/python3.7/site-packages/Bio/PDB/StructureBuilder.py:92: PDBConstructionWarning: WARNING: Chain A is discontinuous at line 1255.\n",
      "  PDBConstructionWarning,\n",
      "/wsu/home/fr/fr15/fr1583/.conda/envs/protein/lib/python3.7/site-packages/Bio/PDB/StructureBuilder.py:92: PDBConstructionWarning: WARNING: Chain B is discontinuous at line 1352.\n",
      "  PDBConstructionWarning,\n"
     ]
    },
    {
     "name": "stdout",
     "output_type": "stream",
     "text": [
      "233 3i7m\n",
      "234 3ihs\n"
     ]
    },
    {
     "name": "stderr",
     "output_type": "stream",
     "text": [
      "/wsu/home/fr/fr15/fr1583/.conda/envs/protein/lib/python3.7/site-packages/Bio/PDB/StructureBuilder.py:92: PDBConstructionWarning: WARNING: Chain A is discontinuous at line 1363.\n",
      "  PDBConstructionWarning,\n",
      "/wsu/home/fr/fr15/fr1583/.conda/envs/protein/lib/python3.7/site-packages/Bio/PDB/StructureBuilder.py:92: PDBConstructionWarning: WARNING: Chain B is discontinuous at line 1468.\n",
      "  PDBConstructionWarning,\n",
      "/wsu/home/fr/fr15/fr1583/.conda/envs/protein/lib/python3.7/site-packages/Bio/PDB/StructureBuilder.py:92: PDBConstructionWarning: WARNING: Chain A is discontinuous at line 1286.\n",
      "  PDBConstructionWarning,\n",
      "/wsu/home/fr/fr15/fr1583/.conda/envs/protein/lib/python3.7/site-packages/Bio/PDB/StructureBuilder.py:92: PDBConstructionWarning: WARNING: Chain D is discontinuous at line 1487.\n",
      "  PDBConstructionWarning,\n"
     ]
    },
    {
     "name": "stdout",
     "output_type": "stream",
     "text": [
      "235 3ivv\n"
     ]
    },
    {
     "name": "stderr",
     "output_type": "stream",
     "text": [
      "/wsu/home/fr/fr15/fr1583/.conda/envs/protein/lib/python3.7/site-packages/Bio/PDB/StructureBuilder.py:92: PDBConstructionWarning: WARNING: Chain A is discontinuous at line 1286.\n",
      "  PDBConstructionWarning,\n",
      "/wsu/home/fr/fr15/fr1583/.conda/envs/protein/lib/python3.7/site-packages/Bio/PDB/StructureBuilder.py:92: PDBConstructionWarning: WARNING: Chain D is discontinuous at line 1487.\n",
      "  PDBConstructionWarning,\n"
     ]
    },
    {
     "name": "stdout",
     "output_type": "stream",
     "text": [
      "Found input variables with inconsistent numbers of samples: [149, 150]\n",
      "236 3k6y\n",
      "237 3kbe\n",
      "238 3kgk\n",
      "239 3kzd\n",
      "240 3l41\n"
     ]
    },
    {
     "name": "stderr",
     "output_type": "stream",
     "text": [
      "/wsu/home/fr/fr15/fr1583/.conda/envs/protein/lib/python3.7/site-packages/Bio/PDB/StructureBuilder.py:92: PDBConstructionWarning: WARNING: Chain A is discontinuous at line 1492.\n",
      "  PDBConstructionWarning,\n",
      "/wsu/home/fr/fr15/fr1583/.conda/envs/protein/lib/python3.7/site-packages/Bio/PDB/StructureBuilder.py:92: PDBConstructionWarning: WARNING: Chain B is discontinuous at line 1629.\n",
      "  PDBConstructionWarning,\n",
      "/wsu/home/fr/fr15/fr1583/.conda/envs/protein/lib/python3.7/site-packages/Bio/PDB/StructureBuilder.py:92: PDBConstructionWarning: WARNING: Chain A is discontinuous at line 1745.\n",
      "  PDBConstructionWarning,\n",
      "/wsu/home/fr/fr15/fr1583/.conda/envs/protein/lib/python3.7/site-packages/Bio/PDB/StructureBuilder.py:92: PDBConstructionWarning: WARNING: Chain B is discontinuous at line 2150.\n",
      "  PDBConstructionWarning,\n"
     ]
    },
    {
     "name": "stdout",
     "output_type": "stream",
     "text": [
      "241 3laa\n",
      "242 3lax\n",
      "243 3lg3\n"
     ]
    },
    {
     "name": "stderr",
     "output_type": "stream",
     "text": [
      "/wsu/home/fr/fr15/fr1583/.conda/envs/protein/lib/python3.7/site-packages/Bio/PDB/StructureBuilder.py:92: PDBConstructionWarning: WARNING: Chain A is discontinuous at line 6699.\n",
      "  PDBConstructionWarning,\n",
      "/wsu/home/fr/fr15/fr1583/.conda/envs/protein/lib/python3.7/site-packages/Bio/PDB/StructureBuilder.py:92: PDBConstructionWarning: WARNING: Chain B is discontinuous at line 7316.\n",
      "  PDBConstructionWarning,\n"
     ]
    },
    {
     "name": "stdout",
     "output_type": "stream",
     "text": [
      "244 3lji\n",
      "245 3m3p\n",
      "246 3m8j\n",
      "247 3m9j\n"
     ]
    },
    {
     "name": "stderr",
     "output_type": "stream",
     "text": [
      "/wsu/home/fr/fr15/fr1583/.conda/envs/protein/lib/python3.7/site-packages/Bio/PDB/StructureBuilder.py:92: PDBConstructionWarning: WARNING: Chain A is discontinuous at line 1396.\n",
      "  PDBConstructionWarning,\n",
      "/wsu/home/fr/fr15/fr1583/.conda/envs/protein/lib/python3.7/site-packages/Bio/PDB/StructureBuilder.py:92: PDBConstructionWarning: WARNING: Chain B is discontinuous at line 1463.\n",
      "  PDBConstructionWarning,\n",
      "/wsu/home/fr/fr15/fr1583/.conda/envs/protein/lib/python3.7/site-packages/Bio/PDB/StructureBuilder.py:92: PDBConstructionWarning: WARNING: Chain A is discontinuous at line 1955.\n",
      "  PDBConstructionWarning,\n",
      "/wsu/home/fr/fr15/fr1583/.conda/envs/protein/lib/python3.7/site-packages/Bio/PDB/StructureBuilder.py:92: PDBConstructionWarning: WARNING: Chain B is discontinuous at line 2057.\n",
      "  PDBConstructionWarning,\n"
     ]
    },
    {
     "name": "stdout",
     "output_type": "stream",
     "text": [
      "248 3m9q\n",
      "249 3mab\n"
     ]
    },
    {
     "name": "stderr",
     "output_type": "stream",
     "text": [
      "/wsu/home/fr/fr15/fr1583/.conda/envs/protein/lib/python3.7/site-packages/Bio/PDB/StructureBuilder.py:92: PDBConstructionWarning: WARNING: Chain A is discontinuous at line 1577.\n",
      "  PDBConstructionWarning,\n",
      "/wsu/home/fr/fr15/fr1583/.conda/envs/protein/lib/python3.7/site-packages/Bio/PDB/StructureBuilder.py:92: PDBConstructionWarning: WARNING: Chain B is discontinuous at line 1849.\n",
      "  PDBConstructionWarning,\n",
      "/wsu/home/fr/fr15/fr1583/.conda/envs/protein/lib/python3.7/site-packages/Bio/PDB/StructureBuilder.py:92: PDBConstructionWarning: WARNING: Chain A is discontinuous at line 1417.\n",
      "  PDBConstructionWarning,\n",
      "/wsu/home/fr/fr15/fr1583/.conda/envs/protein/lib/python3.7/site-packages/Bio/PDB/StructureBuilder.py:92: PDBConstructionWarning: WARNING: Chain B is discontinuous at line 1519.\n",
      "  PDBConstructionWarning,\n",
      "/wsu/home/fr/fr15/fr1583/.conda/envs/protein/lib/python3.7/site-packages/Bio/PDB/StructureBuilder.py:92: PDBConstructionWarning: WARNING: Chain A is discontinuous at line 91.\n",
      "  PDBConstructionWarning,\n",
      "/wsu/home/fr/fr15/fr1583/.conda/envs/protein/lib/python3.7/site-packages/Bio/PDB/StructureBuilder.py:92: PDBConstructionWarning: WARNING: Chain B is discontinuous at line 97.\n",
      "  PDBConstructionWarning,\n",
      "/wsu/home/fr/fr15/fr1583/.conda/envs/protein/lib/python3.7/site-packages/Bio/PDB/StructureBuilder.py:92: PDBConstructionWarning: WARNING: Chain A is discontinuous at line 93.\n",
      "  PDBConstructionWarning,\n",
      "/wsu/home/fr/fr15/fr1583/.conda/envs/protein/lib/python3.7/site-packages/Bio/PDB/StructureBuilder.py:92: PDBConstructionWarning: WARNING: Chain B is discontinuous at line 96.\n",
      "  PDBConstructionWarning,\n"
     ]
    },
    {
     "name": "stdout",
     "output_type": "stream",
     "text": [
      "250 3md4\n",
      "251 3md5\n",
      "252 3mea\n",
      "253 3mgn\n"
     ]
    },
    {
     "name": "stderr",
     "output_type": "stream",
     "text": [
      "/wsu/home/fr/fr15/fr1583/.conda/envs/protein/lib/python3.7/site-packages/Bio/PDB/StructureBuilder.py:92: PDBConstructionWarning: WARNING: Chain A is discontinuous at line 1317.\n",
      "  PDBConstructionWarning,\n",
      "/wsu/home/fr/fr15/fr1583/.conda/envs/protein/lib/python3.7/site-packages/Bio/PDB/StructureBuilder.py:92: PDBConstructionWarning: WARNING: Chain B is discontinuous at line 1473.\n",
      "  PDBConstructionWarning,\n",
      "/wsu/home/fr/fr15/fr1583/.conda/envs/protein/lib/python3.7/site-packages/Bio/PDB/StructureBuilder.py:92: PDBConstructionWarning: WARNING: Chain A is discontinuous at line 3038.\n",
      "  PDBConstructionWarning,\n",
      "/wsu/home/fr/fr15/fr1583/.conda/envs/protein/lib/python3.7/site-packages/Bio/PDB/StructureBuilder.py:92: PDBConstructionWarning: WARNING: Chain B is discontinuous at line 3101.\n",
      "  PDBConstructionWarning,\n",
      "/wsu/home/fr/fr15/fr1583/.conda/envs/protein/lib/python3.7/site-packages/Bio/PDB/StructureBuilder.py:92: PDBConstructionWarning: WARNING: Chain C is discontinuous at line 3169.\n",
      "  PDBConstructionWarning,\n",
      "/wsu/home/fr/fr15/fr1583/.conda/envs/protein/lib/python3.7/site-packages/Bio/PDB/StructureBuilder.py:92: PDBConstructionWarning: WARNING: Chain D is discontinuous at line 3215.\n",
      "  PDBConstructionWarning,\n",
      "/wsu/home/fr/fr15/fr1583/.conda/envs/protein/lib/python3.7/site-packages/Bio/PDB/StructureBuilder.py:92: PDBConstructionWarning: WARNING: Chain E is discontinuous at line 3267.\n",
      "  PDBConstructionWarning,\n",
      "/wsu/home/fr/fr15/fr1583/.conda/envs/protein/lib/python3.7/site-packages/Bio/PDB/StructureBuilder.py:92: PDBConstructionWarning: WARNING: Chain F is discontinuous at line 3300.\n",
      "  PDBConstructionWarning,\n",
      "/wsu/home/fr/fr15/fr1583/.conda/envs/protein/lib/python3.7/site-packages/Bio/PDB/StructureBuilder.py:92: PDBConstructionWarning: WARNING: Chain G is discontinuous at line 3326.\n",
      "  PDBConstructionWarning,\n",
      "/wsu/home/fr/fr15/fr1583/.conda/envs/protein/lib/python3.7/site-packages/Bio/PDB/StructureBuilder.py:92: PDBConstructionWarning: WARNING: Chain H is discontinuous at line 3332.\n",
      "  PDBConstructionWarning,\n",
      "/wsu/home/fr/fr15/fr1583/.conda/envs/protein/lib/python3.7/site-packages/Bio/PDB/StructureBuilder.py:92: PDBConstructionWarning: WARNING: Chain I is discontinuous at line 3357.\n",
      "  PDBConstructionWarning,\n",
      "/wsu/home/fr/fr15/fr1583/.conda/envs/protein/lib/python3.7/site-packages/Bio/PDB/StructureBuilder.py:92: PDBConstructionWarning: WARNING: Chain J is discontinuous at line 3367.\n",
      "  PDBConstructionWarning,\n",
      "/wsu/home/fr/fr15/fr1583/.conda/envs/protein/lib/python3.7/site-packages/Bio/PDB/StructureBuilder.py:92: PDBConstructionWarning: WARNING: Chain K is discontinuous at line 3373.\n",
      "  PDBConstructionWarning,\n",
      "/wsu/home/fr/fr15/fr1583/.conda/envs/protein/lib/python3.7/site-packages/Bio/PDB/StructureBuilder.py:92: PDBConstructionWarning: WARNING: Chain L is discontinuous at line 3388.\n",
      "  PDBConstructionWarning,\n"
     ]
    },
    {
     "name": "stdout",
     "output_type": "stream",
     "text": [
      "254 3mre\n"
     ]
    },
    {
     "name": "stderr",
     "output_type": "stream",
     "text": [
      "/wsu/home/fr/fr15/fr1583/.conda/envs/protein/lib/python3.7/site-packages/Bio/PDB/StructureBuilder.py:92: PDBConstructionWarning: WARNING: Chain A is discontinuous at line 3678.\n",
      "  PDBConstructionWarning,\n",
      "/wsu/home/fr/fr15/fr1583/.conda/envs/protein/lib/python3.7/site-packages/Bio/PDB/StructureBuilder.py:92: PDBConstructionWarning: WARNING: Chain B is discontinuous at line 4160.\n",
      "  PDBConstructionWarning,\n",
      "/wsu/home/fr/fr15/fr1583/.conda/envs/protein/lib/python3.7/site-packages/Bio/PDB/StructureBuilder.py:92: PDBConstructionWarning: WARNING: Chain P is discontinuous at line 4348.\n",
      "  PDBConstructionWarning,\n"
     ]
    },
    {
     "name": "stdout",
     "output_type": "stream",
     "text": [
      "255 3n11\n",
      "256 3ne0\n",
      "257 3ngg\n",
      "258 3npv\n"
     ]
    },
    {
     "name": "stderr",
     "output_type": "stream",
     "text": [
      "/wsu/home/fr/fr15/fr1583/.conda/envs/protein/lib/python3.7/site-packages/Bio/PDB/StructureBuilder.py:92: PDBConstructionWarning: WARNING: Chain A is discontinuous at line 732.\n",
      "  PDBConstructionWarning,\n",
      "/wsu/home/fr/fr15/fr1583/.conda/envs/protein/lib/python3.7/site-packages/Bio/PDB/StructureBuilder.py:92: PDBConstructionWarning: WARNING: Chain B is discontinuous at line 797.\n",
      "  PDBConstructionWarning,\n",
      "/wsu/home/fr/fr15/fr1583/.conda/envs/protein/lib/python3.7/site-packages/Bio/PDB/StructureBuilder.py:92: PDBConstructionWarning: WARNING: Chain B is discontinuous at line 3711.\n",
      "  PDBConstructionWarning,\n",
      "/wsu/home/fr/fr15/fr1583/.conda/envs/protein/lib/python3.7/site-packages/Bio/PDB/StructureBuilder.py:92: PDBConstructionWarning: WARNING: Chain A is discontinuous at line 3856.\n",
      "  PDBConstructionWarning,\n"
     ]
    },
    {
     "name": "stdout",
     "output_type": "stream",
     "text": [
      "259 3nvg\n",
      "260 3nzl\n",
      "261 3o0p\n",
      "262 3o5p\n",
      "263 3obq\n",
      "264 3oqy\n"
     ]
    },
    {
     "name": "stderr",
     "output_type": "stream",
     "text": [
      "/wsu/home/fr/fr15/fr1583/.conda/envs/protein/lib/python3.7/site-packages/Bio/PDB/StructureBuilder.py:92: PDBConstructionWarning: WARNING: Chain A is discontinuous at line 1195.\n",
      "  PDBConstructionWarning,\n",
      "/wsu/home/fr/fr15/fr1583/.conda/envs/protein/lib/python3.7/site-packages/Bio/PDB/StructureBuilder.py:92: PDBConstructionWarning: WARNING: Chain B is discontinuous at line 1384.\n",
      "  PDBConstructionWarning,\n",
      "/wsu/home/fr/fr15/fr1583/.conda/envs/protein/lib/python3.7/site-packages/Bio/PDB/StructureBuilder.py:92: PDBConstructionWarning: WARNING: Chain b is discontinuous at line 1848.\n",
      "  PDBConstructionWarning,\n",
      "/wsu/home/fr/fr15/fr1583/.conda/envs/protein/lib/python3.7/site-packages/Bio/PDB/StructureBuilder.py:92: PDBConstructionWarning: WARNING: Chain B is discontinuous at line 1885.\n",
      "  PDBConstructionWarning,\n",
      "/wsu/home/fr/fr15/fr1583/.conda/envs/protein/lib/python3.7/site-packages/Bio/PDB/StructureBuilder.py:92: PDBConstructionWarning: WARNING: Chain a is discontinuous at line 2033.\n",
      "  PDBConstructionWarning,\n",
      "/wsu/home/fr/fr15/fr1583/.conda/envs/protein/lib/python3.7/site-packages/Bio/PDB/StructureBuilder.py:92: PDBConstructionWarning: WARNING: Chain A is discontinuous at line 2063.\n",
      "  PDBConstructionWarning,\n"
     ]
    },
    {
     "name": "stdout",
     "output_type": "stream",
     "text": [
      "265 3p6j\n",
      "266 3pd7\n"
     ]
    },
    {
     "name": "stderr",
     "output_type": "stream",
     "text": [
      "/wsu/home/fr/fr15/fr1583/.conda/envs/protein/lib/python3.7/site-packages/Bio/PDB/StructureBuilder.py:92: PDBConstructionWarning: WARNING: Chain A is discontinuous at line 3408.\n",
      "  PDBConstructionWarning,\n",
      "/wsu/home/fr/fr15/fr1583/.conda/envs/protein/lib/python3.7/site-packages/Bio/PDB/StructureBuilder.py:92: PDBConstructionWarning: WARNING: Chain B is discontinuous at line 3587.\n",
      "  PDBConstructionWarning,\n",
      "/wsu/home/fr/fr15/fr1583/.conda/envs/protein/lib/python3.7/site-packages/Bio/PDB/StructureBuilder.py:92: PDBConstructionWarning: WARNING: Chain A is discontinuous at line 1342.\n",
      "  PDBConstructionWarning,\n",
      "/wsu/home/fr/fr15/fr1583/.conda/envs/protein/lib/python3.7/site-packages/Bio/PDB/StructureBuilder.py:92: PDBConstructionWarning: WARNING: Chain B is discontinuous at line 1505.\n",
      "  PDBConstructionWarning,\n"
     ]
    },
    {
     "name": "stdout",
     "output_type": "stream",
     "text": [
      "267 3pes\n",
      "268 3pid\n",
      "269 3piw\n",
      "270 3pkv\n",
      "271 3psm\n",
      "272 3ptl\n"
     ]
    },
    {
     "name": "stderr",
     "output_type": "stream",
     "text": [
      "/wsu/home/fr/fr15/fr1583/.conda/envs/protein/lib/python3.7/site-packages/Bio/PDB/StructureBuilder.py:92: PDBConstructionWarning: WARNING: Chain A is discontinuous at line 772.\n",
      "  PDBConstructionWarning,\n",
      "/wsu/home/fr/fr15/fr1583/.conda/envs/protein/lib/python3.7/site-packages/Bio/PDB/StructureBuilder.py:92: PDBConstructionWarning: WARNING: Chain B is discontinuous at line 859.\n",
      "  PDBConstructionWarning,\n",
      "/wsu/home/fr/fr15/fr1583/.conda/envs/protein/lib/python3.7/site-packages/Bio/PDB/StructureBuilder.py:92: PDBConstructionWarning: WARNING: Chain A is discontinuous at line 2101.\n",
      "  PDBConstructionWarning,\n",
      "/wsu/home/fr/fr15/fr1583/.conda/envs/protein/lib/python3.7/site-packages/Bio/PDB/StructureBuilder.py:92: PDBConstructionWarning: WARNING: Chain B is discontinuous at line 2532.\n",
      "  PDBConstructionWarning,\n"
     ]
    },
    {
     "name": "stdout",
     "output_type": "stream",
     "text": [
      "273 3pve\n",
      "274 3pz9\n"
     ]
    },
    {
     "name": "stderr",
     "output_type": "stream",
     "text": [
      "/wsu/home/fr/fr15/fr1583/.conda/envs/protein/lib/python3.7/site-packages/Bio/PDB/StructureBuilder.py:92: PDBConstructionWarning: WARNING: Chain A is discontinuous at line 2656.\n",
      "  PDBConstructionWarning,\n",
      "/wsu/home/fr/fr15/fr1583/.conda/envs/protein/lib/python3.7/site-packages/Bio/PDB/StructureBuilder.py:92: PDBConstructionWarning: WARNING: Chain B is discontinuous at line 2788.\n",
      "  PDBConstructionWarning,\n"
     ]
    },
    {
     "name": "stdout",
     "output_type": "stream",
     "text": [
      "275 3pzz\n",
      "276 3q2x\n",
      "277 3q6l\n",
      "278 3qds\n"
     ]
    },
    {
     "name": "stderr",
     "output_type": "stream",
     "text": [
      "/wsu/home/fr/fr15/fr1583/.conda/envs/protein/lib/python3.7/site-packages/Bio/PDB/StructureBuilder.py:92: PDBConstructionWarning: WARNING: Chain A is discontinuous at line 76.\n",
      "  PDBConstructionWarning,\n",
      "/wsu/home/fr/fr15/fr1583/.conda/envs/protein/lib/python3.7/site-packages/Bio/PDB/StructureBuilder.py:92: PDBConstructionWarning: WARNING: Chain B is discontinuous at line 79.\n",
      "  PDBConstructionWarning,\n",
      "/wsu/home/fr/fr15/fr1583/.conda/envs/protein/lib/python3.7/site-packages/Bio/PDB/StructureBuilder.py:92: PDBConstructionWarning: WARNING: Chain A is discontinuous at line 2240.\n",
      "  PDBConstructionWarning,\n",
      "/wsu/home/fr/fr15/fr1583/.conda/envs/protein/lib/python3.7/site-packages/Bio/PDB/StructureBuilder.py:92: PDBConstructionWarning: WARNING: Chain B is discontinuous at line 2352.\n",
      "  PDBConstructionWarning,\n"
     ]
    },
    {
     "name": "stdout",
     "output_type": "stream",
     "text": [
      "279 3qpa\n",
      "280 3r6d\n",
      "281 3r87\n",
      "282 3rq9\n",
      "283 3ry0\n",
      "284 3rzy\n"
     ]
    },
    {
     "name": "stderr",
     "output_type": "stream",
     "text": [
      "/wsu/home/fr/fr15/fr1583/.conda/envs/protein/lib/python3.7/site-packages/Bio/PDB/StructureBuilder.py:92: PDBConstructionWarning: WARNING: Chain A is discontinuous at line 1363.\n",
      "  PDBConstructionWarning,\n",
      "/wsu/home/fr/fr15/fr1583/.conda/envs/protein/lib/python3.7/site-packages/Bio/PDB/StructureBuilder.py:92: PDBConstructionWarning: WARNING: Chain B is discontinuous at line 1459.\n",
      "  PDBConstructionWarning,\n",
      "/wsu/home/fr/fr15/fr1583/.conda/envs/protein/lib/python3.7/site-packages/Bio/PDB/StructureBuilder.py:92: PDBConstructionWarning: WARNING: Chain A is discontinuous at line 964.\n",
      "  PDBConstructionWarning,\n",
      "/wsu/home/fr/fr15/fr1583/.conda/envs/protein/lib/python3.7/site-packages/Bio/PDB/StructureBuilder.py:92: PDBConstructionWarning: WARNING: Chain B is discontinuous at line 1052.\n",
      "  PDBConstructionWarning,\n"
     ]
    },
    {
     "name": "stdout",
     "output_type": "stream",
     "text": [
      "285 3s0a\n",
      "286 3sd2\n",
      "287 3seb\n",
      "288 3sed\n",
      "Found input variables with inconsistent numbers of samples: [124, 125]\n",
      "289 3so6\n"
     ]
    },
    {
     "name": "stderr",
     "output_type": "stream",
     "text": [
      "/wsu/home/fr/fr15/fr1583/.conda/envs/protein/lib/python3.7/site-packages/Bio/PDB/StructureBuilder.py:92: PDBConstructionWarning: WARNING: Chain A is discontinuous at line 1217.\n",
      "  PDBConstructionWarning,\n",
      "/wsu/home/fr/fr15/fr1583/.conda/envs/protein/lib/python3.7/site-packages/Bio/PDB/StructureBuilder.py:92: PDBConstructionWarning: WARNING: Chain Q is discontinuous at line 1383.\n",
      "  PDBConstructionWarning,\n"
     ]
    },
    {
     "name": "stdout",
     "output_type": "stream",
     "text": [
      "290 3sr3\n"
     ]
    },
    {
     "name": "stderr",
     "output_type": "stream",
     "text": [
      "/wsu/home/fr/fr15/fr1583/.conda/envs/protein/lib/python3.7/site-packages/Bio/PDB/StructureBuilder.py:92: PDBConstructionWarning: WARNING: Chain A is discontinuous at line 5075.\n",
      "  PDBConstructionWarning,\n",
      "/wsu/home/fr/fr15/fr1583/.conda/envs/protein/lib/python3.7/site-packages/Bio/PDB/StructureBuilder.py:92: PDBConstructionWarning: WARNING: Chain B is discontinuous at line 5427.\n",
      "  PDBConstructionWarning,\n"
     ]
    },
    {
     "name": "stdout",
     "output_type": "stream",
     "text": [
      "291 3suk\n",
      "292 3szh\n"
     ]
    },
    {
     "name": "stderr",
     "output_type": "stream",
     "text": [
      "/wsu/home/fr/fr15/fr1583/.conda/envs/protein/lib/python3.7/site-packages/Bio/PDB/StructureBuilder.py:92: PDBConstructionWarning: WARNING: Chain A is discontinuous at line 1803.\n",
      "  PDBConstructionWarning,\n",
      "/wsu/home/fr/fr15/fr1583/.conda/envs/protein/lib/python3.7/site-packages/Bio/PDB/StructureBuilder.py:92: PDBConstructionWarning: WARNING: Chain B is discontinuous at line 1998.\n",
      "  PDBConstructionWarning,\n",
      "/wsu/home/fr/fr15/fr1583/.conda/envs/protein/lib/python3.7/site-packages/Bio/PDB/StructureBuilder.py:92: PDBConstructionWarning: WARNING: Chain A is discontinuous at line 5510.\n",
      "  PDBConstructionWarning,\n",
      "/wsu/home/fr/fr15/fr1583/.conda/envs/protein/lib/python3.7/site-packages/Bio/PDB/StructureBuilder.py:92: PDBConstructionWarning: WARNING: Chain B is discontinuous at line 5665.\n",
      "  PDBConstructionWarning,\n",
      "/wsu/home/fr/fr15/fr1583/.conda/envs/protein/lib/python3.7/site-packages/Bio/PDB/StructureBuilder.py:92: PDBConstructionWarning: WARNING: Chain C is discontinuous at line 5805.\n",
      "  PDBConstructionWarning,\n",
      "/wsu/home/fr/fr15/fr1583/.conda/envs/protein/lib/python3.7/site-packages/Bio/PDB/StructureBuilder.py:92: PDBConstructionWarning: WARNING: Chain D is discontinuous at line 5941.\n",
      "  PDBConstructionWarning,\n",
      "/wsu/home/fr/fr15/fr1583/.conda/envs/protein/lib/python3.7/site-packages/Bio/PDB/StructureBuilder.py:92: PDBConstructionWarning: WARNING: Chain E is discontinuous at line 6078.\n",
      "  PDBConstructionWarning,\n",
      "/wsu/home/fr/fr15/fr1583/.conda/envs/protein/lib/python3.7/site-packages/Bio/PDB/StructureBuilder.py:92: PDBConstructionWarning: WARNING: Chain F is discontinuous at line 6214.\n",
      "  PDBConstructionWarning,\n"
     ]
    },
    {
     "name": "stdout",
     "output_type": "stream",
     "text": [
      "293 3t0h\n",
      "294 3t3k\n",
      "295 3t47\n"
     ]
    },
    {
     "name": "stderr",
     "output_type": "stream",
     "text": [
      "/wsu/home/fr/fr15/fr1583/.conda/envs/protein/lib/python3.7/site-packages/Bio/PDB/StructureBuilder.py:92: PDBConstructionWarning: WARNING: Chain A is discontinuous at line 2374.\n",
      "  PDBConstructionWarning,\n",
      "/wsu/home/fr/fr15/fr1583/.conda/envs/protein/lib/python3.7/site-packages/Bio/PDB/StructureBuilder.py:92: PDBConstructionWarning: WARNING: Chain B is discontinuous at line 2472.\n",
      "  PDBConstructionWarning,\n"
     ]
    },
    {
     "name": "stdout",
     "output_type": "stream",
     "text": [
      "296 3tdn\n"
     ]
    },
    {
     "name": "stderr",
     "output_type": "stream",
     "text": [
      "/wsu/home/fr/fr15/fr1583/.conda/envs/protein/lib/python3.7/site-packages/Bio/PDB/StructureBuilder.py:92: PDBConstructionWarning: WARNING: Chain A is discontinuous at line 2735.\n",
      "  PDBConstructionWarning,\n",
      "/wsu/home/fr/fr15/fr1583/.conda/envs/protein/lib/python3.7/site-packages/Bio/PDB/StructureBuilder.py:92: PDBConstructionWarning: WARNING: Chain B is discontinuous at line 2819.\n",
      "  PDBConstructionWarning,\n"
     ]
    },
    {
     "name": "stdout",
     "output_type": "stream",
     "text": [
      "297 3tow\n",
      "298 3tua\n",
      "299 3tys\n",
      "300 3u6g\n"
     ]
    },
    {
     "name": "stderr",
     "output_type": "stream",
     "text": [
      "/wsu/home/fr/fr15/fr1583/.conda/envs/protein/lib/python3.7/site-packages/Bio/PDB/StructureBuilder.py:92: PDBConstructionWarning: WARNING: Chain A is discontinuous at line 2011.\n",
      "  PDBConstructionWarning,\n",
      "/wsu/home/fr/fr15/fr1583/.conda/envs/protein/lib/python3.7/site-packages/Bio/PDB/StructureBuilder.py:92: PDBConstructionWarning: WARNING: Chain B is discontinuous at line 2112.\n",
      "  PDBConstructionWarning,\n"
     ]
    },
    {
     "name": "stdout",
     "output_type": "stream",
     "text": [
      "301 3u97\n",
      "302 3uci\n",
      "303 3ur8\n"
     ]
    },
    {
     "name": "stderr",
     "output_type": "stream",
     "text": [
      "/wsu/home/fr/fr15/fr1583/.conda/envs/protein/lib/python3.7/site-packages/Bio/PDB/StructureBuilder.py:92: PDBConstructionWarning: WARNING: Chain A is discontinuous at line 5131.\n",
      "  PDBConstructionWarning,\n",
      "/wsu/home/fr/fr15/fr1583/.conda/envs/protein/lib/python3.7/site-packages/Bio/PDB/StructureBuilder.py:92: PDBConstructionWarning: WARNING: Chain B is discontinuous at line 5559.\n",
      "  PDBConstructionWarning,\n"
     ]
    },
    {
     "name": "stdout",
     "output_type": "stream",
     "text": [
      "304 3us6\n",
      "305 3v1a\n",
      "306 3v75\n",
      "307 3vn0\n",
      "308 3vor\n"
     ]
    },
    {
     "name": "stderr",
     "output_type": "stream",
     "text": [
      "/wsu/home/fr/fr15/fr1583/.conda/envs/protein/lib/python3.7/site-packages/Bio/PDB/StructureBuilder.py:92: PDBConstructionWarning: WARNING: Chain A is discontinuous at line 1690.\n",
      "  PDBConstructionWarning,\n",
      "/wsu/home/fr/fr15/fr1583/.conda/envs/protein/lib/python3.7/site-packages/Bio/PDB/StructureBuilder.py:92: PDBConstructionWarning: WARNING: Chain C is discontinuous at line 1746.\n",
      "  PDBConstructionWarning,\n",
      "/wsu/home/fr/fr15/fr1583/.conda/envs/protein/lib/python3.7/site-packages/Bio/PDB/StructureBuilder.py:92: PDBConstructionWarning: WARNING: Chain B is discontinuous at line 1814.\n",
      "  PDBConstructionWarning,\n",
      "/wsu/home/fr/fr15/fr1583/.conda/envs/protein/lib/python3.7/site-packages/Bio/PDB/StructureBuilder.py:92: PDBConstructionWarning: WARNING: Chain D is discontinuous at line 1878.\n",
      "  PDBConstructionWarning,\n"
     ]
    },
    {
     "name": "stdout",
     "output_type": "stream",
     "text": [
      "309 3vub\n",
      "310 3vvv\n",
      "311 3vz9\n"
     ]
    },
    {
     "name": "stderr",
     "output_type": "stream",
     "text": [
      "/wsu/home/fr/fr15/fr1583/.conda/envs/protein/lib/python3.7/site-packages/Bio/PDB/StructureBuilder.py:92: PDBConstructionWarning: WARNING: Chain B is discontinuous at line 1366.\n",
      "  PDBConstructionWarning,\n",
      "/wsu/home/fr/fr15/fr1583/.conda/envs/protein/lib/python3.7/site-packages/Bio/PDB/StructureBuilder.py:92: PDBConstructionWarning: WARNING: Chain D is discontinuous at line 1527.\n",
      "  PDBConstructionWarning,\n"
     ]
    },
    {
     "name": "stdout",
     "output_type": "stream",
     "text": [
      "312 3w4q\n"
     ]
    },
    {
     "name": "stderr",
     "output_type": "stream",
     "text": [
      "/wsu/home/fr/fr15/fr1583/.conda/envs/protein/lib/python3.7/site-packages/Bio/PDB/StructureBuilder.py:92: PDBConstructionWarning: WARNING: Chain A is discontinuous at line 6039.\n",
      "  PDBConstructionWarning,\n",
      "/wsu/home/fr/fr15/fr1583/.conda/envs/protein/lib/python3.7/site-packages/Bio/PDB/StructureBuilder.py:92: PDBConstructionWarning: WARNING: Chain B is discontinuous at line 6338.\n",
      "  PDBConstructionWarning,\n",
      "/wsu/home/fr/fr15/fr1583/.conda/envs/protein/lib/python3.7/site-packages/Bio/PDB/StructureBuilder.py:92: PDBConstructionWarning: WARNING: Chain C is discontinuous at line 6650.\n",
      "  PDBConstructionWarning,\n",
      "/wsu/home/fr/fr15/fr1583/.conda/envs/protein/lib/python3.7/site-packages/Bio/PDB/StructureBuilder.py:92: PDBConstructionWarning: WARNING: Chain A is discontinuous at line 6039.\n",
      "  PDBConstructionWarning,\n",
      "/wsu/home/fr/fr15/fr1583/.conda/envs/protein/lib/python3.7/site-packages/Bio/PDB/StructureBuilder.py:92: PDBConstructionWarning: WARNING: Chain B is discontinuous at line 6338.\n",
      "  PDBConstructionWarning,\n",
      "/wsu/home/fr/fr15/fr1583/.conda/envs/protein/lib/python3.7/site-packages/Bio/PDB/StructureBuilder.py:92: PDBConstructionWarning: WARNING: Chain C is discontinuous at line 6650.\n",
      "  PDBConstructionWarning,\n"
     ]
    },
    {
     "name": "stdout",
     "output_type": "stream",
     "text": [
      "Found input variables with inconsistent numbers of samples: [773, 774]\n",
      "313 3zbd\n"
     ]
    },
    {
     "name": "stderr",
     "output_type": "stream",
     "text": [
      "/wsu/home/fr/fr15/fr1583/.conda/envs/protein/lib/python3.7/site-packages/Bio/PDB/StructureBuilder.py:92: PDBConstructionWarning: WARNING: Chain A is discontinuous at line 1718.\n",
      "  PDBConstructionWarning,\n",
      "/wsu/home/fr/fr15/fr1583/.conda/envs/protein/lib/python3.7/site-packages/Bio/PDB/StructureBuilder.py:92: PDBConstructionWarning: WARNING: Chain B is discontinuous at line 1839.\n",
      "  PDBConstructionWarning,\n",
      "/wsu/home/fr/fr15/fr1583/.conda/envs/protein/lib/python3.7/site-packages/Bio/PDB/StructureBuilder.py:92: PDBConstructionWarning: WARNING: Chain A is discontinuous at line 1260.\n",
      "  PDBConstructionWarning,\n",
      "/wsu/home/fr/fr15/fr1583/.conda/envs/protein/lib/python3.7/site-packages/Bio/PDB/StructureBuilder.py:92: PDBConstructionWarning: WARNING: Chain B is discontinuous at line 1283.\n",
      "  PDBConstructionWarning,\n"
     ]
    },
    {
     "name": "stdout",
     "output_type": "stream",
     "text": [
      "314 3zit\n",
      "315 3zrx\n",
      "316 3zsl\n"
     ]
    },
    {
     "name": "stderr",
     "output_type": "stream",
     "text": [
      "/wsu/home/fr/fr15/fr1583/.conda/envs/protein/lib/python3.7/site-packages/Bio/PDB/StructureBuilder.py:92: PDBConstructionWarning: WARNING: Chain A is discontinuous at line 1853.\n",
      "  PDBConstructionWarning,\n",
      "/wsu/home/fr/fr15/fr1583/.conda/envs/protein/lib/python3.7/site-packages/Bio/PDB/StructureBuilder.py:92: PDBConstructionWarning: WARNING: Chain B is discontinuous at line 1983.\n",
      "  PDBConstructionWarning,\n"
     ]
    },
    {
     "name": "stdout",
     "output_type": "stream",
     "text": [
      "317 3zzp\n",
      "318 3zzy\n",
      "319 4a02\n"
     ]
    },
    {
     "name": "stderr",
     "output_type": "stream",
     "text": [
      "/wsu/home/fr/fr15/fr1583/.conda/envs/protein/lib/python3.7/site-packages/Bio/PDB/StructureBuilder.py:92: PDBConstructionWarning: WARNING: Chain A is discontinuous at line 1741.\n",
      "  PDBConstructionWarning,\n",
      "/wsu/home/fr/fr15/fr1583/.conda/envs/protein/lib/python3.7/site-packages/Bio/PDB/StructureBuilder.py:92: PDBConstructionWarning: WARNING: Chain B is discontinuous at line 1846.\n",
      "  PDBConstructionWarning,\n",
      "/wsu/home/fr/fr15/fr1583/.conda/envs/protein/lib/python3.7/site-packages/Bio/PDB/StructureBuilder.py:92: PDBConstructionWarning: WARNING: Chain C is discontinuous at line 1925.\n",
      "  PDBConstructionWarning,\n",
      "/wsu/home/fr/fr15/fr1583/.conda/envs/protein/lib/python3.7/site-packages/Bio/PDB/StructureBuilder.py:92: PDBConstructionWarning: WARNING: Chain D is discontinuous at line 1930.\n",
      "  PDBConstructionWarning,\n"
     ]
    },
    {
     "name": "stdout",
     "output_type": "stream",
     "text": [
      "320 4acj\n",
      "321 4ae7\n",
      "322 4am1\n",
      "323 4ann\n",
      "324 4avr\n"
     ]
    },
    {
     "name": "stderr",
     "output_type": "stream",
     "text": [
      "/wsu/home/fr/fr15/fr1583/.conda/envs/protein/lib/python3.7/site-packages/Bio/PDB/StructureBuilder.py:92: PDBConstructionWarning: WARNING: Chain A is discontinuous at line 1455.\n",
      "  PDBConstructionWarning,\n",
      "/wsu/home/fr/fr15/fr1583/.conda/envs/protein/lib/python3.7/site-packages/Bio/PDB/StructureBuilder.py:92: PDBConstructionWarning: WARNING: Chain B is discontinuous at line 1565.\n",
      "  PDBConstructionWarning,\n",
      "/wsu/home/fr/fr15/fr1583/.conda/envs/protein/lib/python3.7/site-packages/Bio/PDB/StructureBuilder.py:92: PDBConstructionWarning: WARNING: Chain A is discontinuous at line 716.\n",
      "  PDBConstructionWarning,\n",
      "/wsu/home/fr/fr15/fr1583/.conda/envs/protein/lib/python3.7/site-packages/Bio/PDB/StructureBuilder.py:92: PDBConstructionWarning: WARNING: Chain B is discontinuous at line 744.\n",
      "  PDBConstructionWarning,\n",
      "/wsu/home/fr/fr15/fr1583/.conda/envs/protein/lib/python3.7/site-packages/Bio/PDB/StructureBuilder.py:92: PDBConstructionWarning: WARNING: Chain C is discontinuous at line 765.\n",
      "  PDBConstructionWarning,\n"
     ]
    },
    {
     "name": "stdout",
     "output_type": "stream",
     "text": [
      "325 4axy\n",
      "326 4b6g\n"
     ]
    },
    {
     "name": "stderr",
     "output_type": "stream",
     "text": [
      "/wsu/home/fr/fr15/fr1583/.conda/envs/protein/lib/python3.7/site-packages/Bio/PDB/StructureBuilder.py:92: PDBConstructionWarning: WARNING: Chain A is discontinuous at line 8842.\n",
      "  PDBConstructionWarning,\n",
      "/wsu/home/fr/fr15/fr1583/.conda/envs/protein/lib/python3.7/site-packages/Bio/PDB/StructureBuilder.py:92: PDBConstructionWarning: WARNING: Chain B is discontinuous at line 9235.\n",
      "  PDBConstructionWarning,\n"
     ]
    },
    {
     "name": "stdout",
     "output_type": "stream",
     "text": [
      "327 4b9g\n"
     ]
    },
    {
     "name": "stderr",
     "output_type": "stream",
     "text": [
      "/wsu/home/fr/fr15/fr1583/.conda/envs/protein/lib/python3.7/site-packages/Bio/PDB/StructureBuilder.py:92: PDBConstructionWarning: WARNING: Chain A is discontinuous at line 4378.\n",
      "  PDBConstructionWarning,\n",
      "/wsu/home/fr/fr15/fr1583/.conda/envs/protein/lib/python3.7/site-packages/Bio/PDB/StructureBuilder.py:92: PDBConstructionWarning: WARNING: Chain B is discontinuous at line 4632.\n",
      "  PDBConstructionWarning,\n"
     ]
    },
    {
     "name": "stdout",
     "output_type": "stream",
     "text": [
      "328 4dd5\n",
      "329 4dkn\n"
     ]
    },
    {
     "name": "stderr",
     "output_type": "stream",
     "text": [
      "/wsu/home/fr/fr15/fr1583/.conda/envs/protein/lib/python3.7/site-packages/Bio/PDB/StructureBuilder.py:92: PDBConstructionWarning: WARNING: Chain A is discontinuous at line 3394.\n",
      "  PDBConstructionWarning,\n",
      "/wsu/home/fr/fr15/fr1583/.conda/envs/protein/lib/python3.7/site-packages/Bio/PDB/StructureBuilder.py:92: PDBConstructionWarning: WARNING: Chain B is discontinuous at line 3649.\n",
      "  PDBConstructionWarning,\n"
     ]
    },
    {
     "name": "stdout",
     "output_type": "stream",
     "text": [
      "330 4dnd\n",
      "331 4dpz\n",
      "Found input variables with inconsistent numbers of samples: [109, 110]\n",
      "332 4dq7\n"
     ]
    },
    {
     "name": "stderr",
     "output_type": "stream",
     "text": [
      "/wsu/home/fr/fr15/fr1583/.conda/envs/protein/lib/python3.7/site-packages/Bio/PDB/StructureBuilder.py:92: PDBConstructionWarning: WARNING: Chain A is discontinuous at line 5214.\n",
      "  PDBConstructionWarning,\n",
      "/wsu/home/fr/fr15/fr1583/.conda/envs/protein/lib/python3.7/site-packages/Bio/PDB/StructureBuilder.py:92: PDBConstructionWarning: WARNING: Chain B is discontinuous at line 5376.\n",
      "  PDBConstructionWarning,\n"
     ]
    },
    {
     "name": "stdout",
     "output_type": "stream",
     "text": [
      "333 4dt4\n",
      "334 4ek3\n",
      "335 4ery\n",
      "336 4es1\n"
     ]
    },
    {
     "name": "stderr",
     "output_type": "stream",
     "text": [
      "/wsu/home/fr/fr15/fr1583/.conda/envs/protein/lib/python3.7/site-packages/Bio/PDB/StructureBuilder.py:92: PDBConstructionWarning: WARNING: Chain A is discontinuous at line 2457.\n",
      "  PDBConstructionWarning,\n",
      "/wsu/home/fr/fr15/fr1583/.conda/envs/protein/lib/python3.7/site-packages/Bio/PDB/StructureBuilder.py:92: PDBConstructionWarning: WARNING: Chain D is discontinuous at line 2961.\n",
      "  PDBConstructionWarning,\n"
     ]
    },
    {
     "name": "stdout",
     "output_type": "stream",
     "text": [
      "337 4eug\n",
      "338 4f01\n"
     ]
    },
    {
     "name": "stderr",
     "output_type": "stream",
     "text": [
      "/wsu/home/fr/fr15/fr1583/.conda/envs/protein/lib/python3.7/site-packages/Bio/PDB/StructureBuilder.py:92: PDBConstructionWarning: WARNING: Chain A is discontinuous at line 3472.\n",
      "  PDBConstructionWarning,\n",
      "/wsu/home/fr/fr15/fr1583/.conda/envs/protein/lib/python3.7/site-packages/Bio/PDB/StructureBuilder.py:92: PDBConstructionWarning: WARNING: Chain B is discontinuous at line 3727.\n",
      "  PDBConstructionWarning,\n"
     ]
    },
    {
     "name": "stdout",
     "output_type": "stream",
     "text": [
      "339 4f3j\n",
      "340 4fr9\n",
      "341 4g14\n",
      "342 4g2e\n",
      "343 4g5x\n"
     ]
    },
    {
     "name": "stderr",
     "output_type": "stream",
     "text": [
      "/wsu/home/fr/fr15/fr1583/.conda/envs/protein/lib/python3.7/site-packages/Bio/PDB/StructureBuilder.py:92: PDBConstructionWarning: WARNING: Chain A is discontinuous at line 4430.\n",
      "  PDBConstructionWarning,\n",
      "/wsu/home/fr/fr15/fr1583/.conda/envs/protein/lib/python3.7/site-packages/Bio/PDB/StructureBuilder.py:92: PDBConstructionWarning: WARNING: Chain B is discontinuous at line 4890.\n",
      "  PDBConstructionWarning,\n"
     ]
    },
    {
     "name": "stdout",
     "output_type": "stream",
     "text": [
      "344 4g6c\n"
     ]
    },
    {
     "name": "stderr",
     "output_type": "stream",
     "text": [
      "/wsu/home/fr/fr15/fr1583/.conda/envs/protein/lib/python3.7/site-packages/Bio/PDB/StructureBuilder.py:92: PDBConstructionWarning: WARNING: Chain A is discontinuous at line 5008.\n",
      "  PDBConstructionWarning,\n",
      "/wsu/home/fr/fr15/fr1583/.conda/envs/protein/lib/python3.7/site-packages/Bio/PDB/StructureBuilder.py:92: PDBConstructionWarning: WARNING: Chain B is discontinuous at line 5343.\n",
      "  PDBConstructionWarning,\n",
      "/wsu/home/fr/fr15/fr1583/.conda/envs/protein/lib/python3.7/site-packages/Bio/PDB/StructureBuilder.py:92: PDBConstructionWarning: WARNING: Chain A is discontinuous at line 1658.\n",
      "  PDBConstructionWarning,\n",
      "/wsu/home/fr/fr15/fr1583/.conda/envs/protein/lib/python3.7/site-packages/Bio/PDB/StructureBuilder.py:92: PDBConstructionWarning: WARNING: Chain B is discontinuous at line 1762.\n",
      "  PDBConstructionWarning,\n"
     ]
    },
    {
     "name": "stdout",
     "output_type": "stream",
     "text": [
      "345 4g7x\n",
      "346 4ga2\n",
      "347 4gmq\n",
      "348 4gs3\n",
      "349 4h4j\n",
      "350 4h89\n",
      "351 4hde\n",
      "352 4hjp\n",
      "353 4hwm\n",
      "354 4il7\n",
      "355 4j11\n"
     ]
    },
    {
     "name": "stderr",
     "output_type": "stream",
     "text": [
      "/wsu/home/fr/fr15/fr1583/.conda/envs/protein/lib/python3.7/site-packages/Bio/PDB/StructureBuilder.py:92: PDBConstructionWarning: WARNING: Chain A is discontinuous at line 2946.\n",
      "  PDBConstructionWarning,\n",
      "/wsu/home/fr/fr15/fr1583/.conda/envs/protein/lib/python3.7/site-packages/Bio/PDB/StructureBuilder.py:92: PDBConstructionWarning: WARNING: Chain B is discontinuous at line 3062.\n",
      "  PDBConstructionWarning,\n",
      "/wsu/home/fr/fr15/fr1583/.conda/envs/protein/lib/python3.7/site-packages/Bio/PDB/StructureBuilder.py:92: PDBConstructionWarning: WARNING: Chain C is discontinuous at line 3200.\n",
      "  PDBConstructionWarning,\n",
      "/wsu/home/fr/fr15/fr1583/.conda/envs/protein/lib/python3.7/site-packages/Bio/PDB/StructureBuilder.py:92: PDBConstructionWarning: WARNING: Chain D is discontinuous at line 3304.\n",
      "  PDBConstructionWarning,\n",
      "/wsu/home/fr/fr15/fr1583/.conda/envs/protein/lib/python3.7/site-packages/Bio/PDB/StructureBuilder.py:92: PDBConstructionWarning: WARNING: Chain A is discontinuous at line 1959.\n",
      "  PDBConstructionWarning,\n",
      "/wsu/home/fr/fr15/fr1583/.conda/envs/protein/lib/python3.7/site-packages/Bio/PDB/StructureBuilder.py:92: PDBConstructionWarning: WARNING: Chain B is discontinuous at line 2070.\n",
      "  PDBConstructionWarning,\n"
     ]
    },
    {
     "name": "stdout",
     "output_type": "stream",
     "text": [
      "356 4j5o\n",
      "357 4j5q\n",
      "358 4j78\n"
     ]
    },
    {
     "name": "stderr",
     "output_type": "stream",
     "text": [
      "/wsu/home/fr/fr15/fr1583/.conda/envs/protein/lib/python3.7/site-packages/Bio/PDB/StructureBuilder.py:92: PDBConstructionWarning: WARNING: Chain A is discontinuous at line 2443.\n",
      "  PDBConstructionWarning,\n",
      "/wsu/home/fr/fr15/fr1583/.conda/envs/protein/lib/python3.7/site-packages/Bio/PDB/StructureBuilder.py:92: PDBConstructionWarning: WARNING: Chain B is discontinuous at line 2774.\n",
      "  PDBConstructionWarning,\n"
     ]
    },
    {
     "name": "stdout",
     "output_type": "stream",
     "text": [
      "359 4jg2\n",
      "360 4jvu\n"
     ]
    },
    {
     "name": "stderr",
     "output_type": "stream",
     "text": [
      "/wsu/home/fr/fr15/fr1583/.conda/envs/protein/lib/python3.7/site-packages/Bio/PDB/StructureBuilder.py:92: PDBConstructionWarning: WARNING: Chain A is discontinuous at line 1615.\n",
      "  PDBConstructionWarning,\n",
      "/wsu/home/fr/fr15/fr1583/.conda/envs/protein/lib/python3.7/site-packages/Bio/PDB/StructureBuilder.py:92: PDBConstructionWarning: WARNING: Chain B is discontinuous at line 1775.\n",
      "  PDBConstructionWarning,\n"
     ]
    },
    {
     "name": "stdout",
     "output_type": "stream",
     "text": [
      "361 4jyp\n"
     ]
    },
    {
     "name": "stderr",
     "output_type": "stream",
     "text": [
      "/wsu/home/fr/fr15/fr1583/.conda/envs/protein/lib/python3.7/site-packages/Bio/PDB/StructureBuilder.py:92: PDBConstructionWarning: WARNING: Chain A is discontinuous at line 4233.\n",
      "  PDBConstructionWarning,\n",
      "/wsu/home/fr/fr15/fr1583/.conda/envs/protein/lib/python3.7/site-packages/Bio/PDB/StructureBuilder.py:92: PDBConstructionWarning: WARNING: Chain B is discontinuous at line 4625.\n",
      "  PDBConstructionWarning,\n"
     ]
    },
    {
     "name": "stdout",
     "output_type": "stream",
     "text": [
      "362 4kef\n",
      "363 5cyt\n",
      "364 6rxn\n"
     ]
    }
   ],
   "source": [
    "model = 'mANM'\n",
    "kernel = 'lorentz'\n",
    "# with mp.Pool(mp.cpu_count()) as pool:\n",
    "#     pcc_total = pool.starmap(pcc_pool, [(pair,model,kernel) for pair in enumerate(nameset)])\n",
    "\n",
    "\n",
    "pcc_total = calc_save(model,kernel,nameset[:precalc],exclude_long = 1000)\n",
    "pcc_acc4=np.average(pcc_total,axis=0)  "
   ]
  },
  {
   "cell_type": "code",
   "execution_count": 18,
   "metadata": {},
   "outputs": [
    {
     "data": {
      "image/png": "[encoded data removed]",
      "text/plain": [
       "<Figure size 432x288 with 2 Axes>"
      ]
     },
     "metadata": {
      "needs_background": "light"
     },
     "output_type": "display_data"
    }
   ],
   "source": [
    "\n",
    "plt.imshow(pcc_acc4)\n",
    "plt.colorbar()\n",
    "plt.title(f'{model}, {kernel}')\n",
    "plt.show()"
   ]
  },
  {
   "cell_type": "code",
   "execution_count": 19,
   "metadata": {},
   "outputs": [
    {
     "data": {
      "text/plain": [
       "(0, 0)"
      ]
     },
     "execution_count": 19,
     "metadata": {},
     "output_type": "execute_result"
    }
   ],
   "source": [
    "np.unravel_index(np.argmax(pcc_acc4), pcc_acc4.shape)"
   ]
  },
  {
   "cell_type": "code",
   "execution_count": 20,
   "metadata": {},
   "outputs": [
    {
     "data": {
      "text/plain": [
       "0.5494124792868652"
      ]
     },
     "execution_count": 20,
     "metadata": {},
     "output_type": "execute_result"
    }
   ],
   "source": [
    "np.max(pcc_acc4)"
   ]
  },
  {
   "cell_type": "code",
   "execution_count": 21,
   "metadata": {},
   "outputs": [
    {
     "name": "stdout",
     "output_type": "stream",
     "text": [
      "[Errno 17] File exists: './result/mANM_exponential/'\n",
      "0 1aba\n",
      "1 1agn\n"
     ]
    },
    {
     "name": "stderr",
     "output_type": "stream",
     "text": [
      "/wsu/home/fr/fr15/fr1583/.conda/envs/protein/lib/python3.7/site-packages/Bio/PDB/StructureBuilder.py:92: PDBConstructionWarning: WARNING: Chain A is discontinuous at line 11156.\n",
      "  PDBConstructionWarning,\n",
      "/wsu/home/fr/fr15/fr1583/.conda/envs/protein/lib/python3.7/site-packages/Bio/PDB/StructureBuilder.py:92: PDBConstructionWarning: WARNING: Chain B is discontinuous at line 11215.\n",
      "  PDBConstructionWarning,\n",
      "/wsu/home/fr/fr15/fr1583/.conda/envs/protein/lib/python3.7/site-packages/Bio/PDB/StructureBuilder.py:92: PDBConstructionWarning: WARNING: Chain C is discontinuous at line 11280.\n",
      "  PDBConstructionWarning,\n",
      "/wsu/home/fr/fr15/fr1583/.conda/envs/protein/lib/python3.7/site-packages/Bio/PDB/StructureBuilder.py:92: PDBConstructionWarning: WARNING: Chain D is discontinuous at line 11331.\n",
      "  PDBConstructionWarning,\n",
      "/wsu/home/fr/fr15/fr1583/.conda/envs/protein/lib/python3.7/site-packages/Bio/PDB/StructureBuilder.py:92: PDBConstructionWarning: WARNING: Chain A is discontinuous at line 11388.\n",
      "  PDBConstructionWarning,\n",
      "/wsu/home/fr/fr15/fr1583/.conda/envs/protein/lib/python3.7/site-packages/Bio/PDB/StructureBuilder.py:92: PDBConstructionWarning: WARNING: Chain B is discontinuous at line 11389.\n",
      "  PDBConstructionWarning,\n",
      "/wsu/home/fr/fr15/fr1583/.conda/envs/protein/lib/python3.7/site-packages/Bio/PDB/StructureBuilder.py:92: PDBConstructionWarning: WARNING: Chain C is discontinuous at line 11393.\n",
      "  PDBConstructionWarning,\n",
      "/wsu/home/fr/fr15/fr1583/.conda/envs/protein/lib/python3.7/site-packages/Bio/PDB/StructureBuilder.py:92: PDBConstructionWarning: WARNING: Chain D is discontinuous at line 11394.\n",
      "  PDBConstructionWarning,\n"
     ]
    },
    {
     "name": "stdout",
     "output_type": "stream",
     "text": [
      "skipped\n",
      "2 1aho\n",
      "3 1aie\n",
      "4 1akg\n",
      "5 1atg\n",
      "6 1bgf\n",
      "7 1bx7\n",
      "8 1byi\n",
      "9 1ccr\n",
      "10 1cyo\n",
      "11 1df4\n",
      "12 1e5k\n",
      "13 1es5\n",
      "14 1etl\n",
      "15 1etm\n",
      "16 1etn\n",
      "17 1ew4\n",
      "18 1f8r\n"
     ]
    },
    {
     "name": "stderr",
     "output_type": "stream",
     "text": [
      "/wsu/home/fr/fr15/fr1583/.conda/envs/protein/lib/python3.7/site-packages/Bio/PDB/StructureBuilder.py:92: PDBConstructionWarning: WARNING: Chain A is discontinuous at line 15443.\n",
      "  PDBConstructionWarning,\n",
      "/wsu/home/fr/fr15/fr1583/.conda/envs/protein/lib/python3.7/site-packages/Bio/PDB/StructureBuilder.py:92: PDBConstructionWarning: WARNING: Chain B is discontinuous at line 15523.\n",
      "  PDBConstructionWarning,\n",
      "/wsu/home/fr/fr15/fr1583/.conda/envs/protein/lib/python3.7/site-packages/Bio/PDB/StructureBuilder.py:92: PDBConstructionWarning: WARNING: Chain C is discontinuous at line 15603.\n",
      "  PDBConstructionWarning,\n",
      "/wsu/home/fr/fr15/fr1583/.conda/envs/protein/lib/python3.7/site-packages/Bio/PDB/StructureBuilder.py:92: PDBConstructionWarning: WARNING: Chain D is discontinuous at line 15683.\n",
      "  PDBConstructionWarning,\n",
      "/wsu/home/fr/fr15/fr1583/.conda/envs/protein/lib/python3.7/site-packages/Bio/PDB/StructureBuilder.py:92: PDBConstructionWarning: WARNING: Chain A is discontinuous at line 15763.\n",
      "  PDBConstructionWarning,\n",
      "/wsu/home/fr/fr15/fr1583/.conda/envs/protein/lib/python3.7/site-packages/Bio/PDB/StructureBuilder.py:92: PDBConstructionWarning: WARNING: Chain B is discontinuous at line 16229.\n",
      "  PDBConstructionWarning,\n",
      "/wsu/home/fr/fr15/fr1583/.conda/envs/protein/lib/python3.7/site-packages/Bio/PDB/StructureBuilder.py:92: PDBConstructionWarning: WARNING: Chain C is discontinuous at line 16726.\n",
      "  PDBConstructionWarning,\n",
      "/wsu/home/fr/fr15/fr1583/.conda/envs/protein/lib/python3.7/site-packages/Bio/PDB/StructureBuilder.py:92: PDBConstructionWarning: WARNING: Chain D is discontinuous at line 17187.\n",
      "  PDBConstructionWarning,\n"
     ]
    },
    {
     "name": "stdout",
     "output_type": "stream",
     "text": [
      "skipped\n",
      "19 1ff4\n",
      "20 1fk5\n",
      "21 1gco\n"
     ]
    },
    {
     "name": "stderr",
     "output_type": "stream",
     "text": [
      "/wsu/home/fr/fr15/fr1583/.conda/envs/protein/lib/python3.7/site-packages/Bio/PDB/StructureBuilder.py:92: PDBConstructionWarning: WARNING: Chain A is discontinuous at line 7888.\n",
      "  PDBConstructionWarning,\n",
      "/wsu/home/fr/fr15/fr1583/.conda/envs/protein/lib/python3.7/site-packages/Bio/PDB/StructureBuilder.py:92: PDBConstructionWarning: WARNING: Chain B is discontinuous at line 7932.\n",
      "  PDBConstructionWarning,\n",
      "/wsu/home/fr/fr15/fr1583/.conda/envs/protein/lib/python3.7/site-packages/Bio/PDB/StructureBuilder.py:92: PDBConstructionWarning: WARNING: Chain E is discontinuous at line 7976.\n",
      "  PDBConstructionWarning,\n",
      "/wsu/home/fr/fr15/fr1583/.conda/envs/protein/lib/python3.7/site-packages/Bio/PDB/StructureBuilder.py:92: PDBConstructionWarning: WARNING: Chain F is discontinuous at line 8020.\n",
      "  PDBConstructionWarning,\n",
      "/wsu/home/fr/fr15/fr1583/.conda/envs/protein/lib/python3.7/site-packages/Bio/PDB/StructureBuilder.py:92: PDBConstructionWarning: WARNING: Chain A is discontinuous at line 8064.\n",
      "  PDBConstructionWarning,\n",
      "/wsu/home/fr/fr15/fr1583/.conda/envs/protein/lib/python3.7/site-packages/Bio/PDB/StructureBuilder.py:92: PDBConstructionWarning: WARNING: Chain B is discontinuous at line 8206.\n",
      "  PDBConstructionWarning,\n",
      "/wsu/home/fr/fr15/fr1583/.conda/envs/protein/lib/python3.7/site-packages/Bio/PDB/StructureBuilder.py:92: PDBConstructionWarning: WARNING: Chain E is discontinuous at line 8341.\n",
      "  PDBConstructionWarning,\n",
      "/wsu/home/fr/fr15/fr1583/.conda/envs/protein/lib/python3.7/site-packages/Bio/PDB/StructureBuilder.py:92: PDBConstructionWarning: WARNING: Chain F is discontinuous at line 8486.\n",
      "  PDBConstructionWarning,\n"
     ]
    },
    {
     "name": "stdout",
     "output_type": "stream",
     "text": [
      "skipped\n",
      "22 1gk7\n",
      "23 1gvd\n",
      "24 1gxu\n",
      "25 1h6v\n"
     ]
    },
    {
     "name": "stderr",
     "output_type": "stream",
     "text": [
      "/wsu/home/fr/fr15/fr1583/.conda/envs/protein/lib/python3.7/site-packages/Bio/PDB/StructureBuilder.py:92: PDBConstructionWarning: WARNING: Chain A is discontinuous at line 22514.\n",
      "  PDBConstructionWarning,\n",
      "/wsu/home/fr/fr15/fr1583/.conda/envs/protein/lib/python3.7/site-packages/Bio/PDB/StructureBuilder.py:92: PDBConstructionWarning: WARNING: Chain B is discontinuous at line 22606.\n",
      "  PDBConstructionWarning,\n",
      "/wsu/home/fr/fr15/fr1583/.conda/envs/protein/lib/python3.7/site-packages/Bio/PDB/StructureBuilder.py:92: PDBConstructionWarning: WARNING: Chain C is discontinuous at line 22698.\n",
      "  PDBConstructionWarning,\n",
      "/wsu/home/fr/fr15/fr1583/.conda/envs/protein/lib/python3.7/site-packages/Bio/PDB/StructureBuilder.py:92: PDBConstructionWarning: WARNING: Chain D is discontinuous at line 22790.\n",
      "  PDBConstructionWarning,\n",
      "/wsu/home/fr/fr15/fr1583/.conda/envs/protein/lib/python3.7/site-packages/Bio/PDB/StructureBuilder.py:92: PDBConstructionWarning: WARNING: Chain E is discontinuous at line 22882.\n",
      "  PDBConstructionWarning,\n",
      "/wsu/home/fr/fr15/fr1583/.conda/envs/protein/lib/python3.7/site-packages/Bio/PDB/StructureBuilder.py:92: PDBConstructionWarning: WARNING: Chain F is discontinuous at line 22974.\n",
      "  PDBConstructionWarning,\n",
      "/wsu/home/fr/fr15/fr1583/.conda/envs/protein/lib/python3.7/site-packages/Bio/PDB/StructureBuilder.py:92: PDBConstructionWarning: WARNING: Chain A is discontinuous at line 23066.\n",
      "  PDBConstructionWarning,\n",
      "/wsu/home/fr/fr15/fr1583/.conda/envs/protein/lib/python3.7/site-packages/Bio/PDB/StructureBuilder.py:92: PDBConstructionWarning: WARNING: Chain B is discontinuous at line 23067.\n",
      "  PDBConstructionWarning,\n",
      "/wsu/home/fr/fr15/fr1583/.conda/envs/protein/lib/python3.7/site-packages/Bio/PDB/StructureBuilder.py:92: PDBConstructionWarning: WARNING: Chain C is discontinuous at line 23068.\n",
      "  PDBConstructionWarning,\n",
      "/wsu/home/fr/fr15/fr1583/.conda/envs/protein/lib/python3.7/site-packages/Bio/PDB/StructureBuilder.py:92: PDBConstructionWarning: WARNING: Chain D is discontinuous at line 23071.\n",
      "  PDBConstructionWarning,\n",
      "/wsu/home/fr/fr15/fr1583/.conda/envs/protein/lib/python3.7/site-packages/Bio/PDB/StructureBuilder.py:92: PDBConstructionWarning: WARNING: Chain E is discontinuous at line 23072.\n",
      "  PDBConstructionWarning,\n",
      "/wsu/home/fr/fr15/fr1583/.conda/envs/protein/lib/python3.7/site-packages/Bio/PDB/StructureBuilder.py:92: PDBConstructionWarning: WARNING: Chain F is discontinuous at line 23074.\n",
      "  PDBConstructionWarning,\n"
     ]
    },
    {
     "name": "stdout",
     "output_type": "stream",
     "text": [
      "skipped\n",
      "26 1hje\n",
      "27 1i71\n",
      "28 1idp\n",
      "29 1ifr\n",
      "30 1k8u\n",
      "31 1kmm\n"
     ]
    },
    {
     "name": "stderr",
     "output_type": "stream",
     "text": [
      "/wsu/home/fr/fr15/fr1583/.conda/envs/protein/lib/python3.7/site-packages/Bio/PDB/StructureBuilder.py:92: PDBConstructionWarning: WARNING: Chain A is discontinuous at line 14289.\n",
      "  PDBConstructionWarning,\n",
      "/wsu/home/fr/fr15/fr1583/.conda/envs/protein/lib/python3.7/site-packages/Bio/PDB/StructureBuilder.py:92: PDBConstructionWarning: WARNING: Chain B is discontinuous at line 14329.\n",
      "  PDBConstructionWarning,\n",
      "/wsu/home/fr/fr15/fr1583/.conda/envs/protein/lib/python3.7/site-packages/Bio/PDB/StructureBuilder.py:92: PDBConstructionWarning: WARNING: Chain C is discontinuous at line 14369.\n",
      "  PDBConstructionWarning,\n",
      "/wsu/home/fr/fr15/fr1583/.conda/envs/protein/lib/python3.7/site-packages/Bio/PDB/StructureBuilder.py:92: PDBConstructionWarning: WARNING: Chain D is discontinuous at line 14409.\n",
      "  PDBConstructionWarning,\n",
      "/wsu/home/fr/fr15/fr1583/.conda/envs/protein/lib/python3.7/site-packages/Bio/PDB/StructureBuilder.py:92: PDBConstructionWarning: WARNING: Chain A is discontinuous at line 14449.\n",
      "  PDBConstructionWarning,\n",
      "/wsu/home/fr/fr15/fr1583/.conda/envs/protein/lib/python3.7/site-packages/Bio/PDB/StructureBuilder.py:92: PDBConstructionWarning: WARNING: Chain B is discontinuous at line 14494.\n",
      "  PDBConstructionWarning,\n",
      "/wsu/home/fr/fr15/fr1583/.conda/envs/protein/lib/python3.7/site-packages/Bio/PDB/StructureBuilder.py:92: PDBConstructionWarning: WARNING: Chain C is discontinuous at line 14544.\n",
      "  PDBConstructionWarning,\n",
      "/wsu/home/fr/fr15/fr1583/.conda/envs/protein/lib/python3.7/site-packages/Bio/PDB/StructureBuilder.py:92: PDBConstructionWarning: WARNING: Chain D is discontinuous at line 14599.\n",
      "  PDBConstructionWarning,\n"
     ]
    },
    {
     "name": "stdout",
     "output_type": "stream",
     "text": [
      "skipped\n",
      "32 1kng\n",
      "33 1kr4\n",
      "34 1kyc\n",
      "35 1lr7\n",
      "36 1mf7\n",
      "37 1n7e\n",
      "38 1nkd\n",
      "39 1nko\n"
     ]
    },
    {
     "name": "stderr",
     "output_type": "stream",
     "text": [
      "/wsu/home/fr/fr15/fr1583/K/NMAcomp/multiscale.py:88: RuntimeWarning: divide by zero encountered in true_divide\n",
      "  reg.fit(mu_n.T,1/bfactor)\n"
     ]
    },
    {
     "name": "stdout",
     "output_type": "stream",
     "text": [
      "Input contains NaN, infinity or a value too large for dtype('float64').\n",
      "40 1nls\n",
      "41 1nnx\n",
      "42 1noa\n",
      "43 1not\n",
      "44 1o06\n",
      "45 1o08\n",
      "46 1ob4\n",
      "47 1ob7\n",
      "Found input variables with inconsistent numbers of samples: [16, 17]\n",
      "48 1opd\n",
      "49 1p9i\n",
      "50 1pef\n",
      "51 1pen\n",
      "52 1pmy\n",
      "53 1pz4\n",
      "54 1q9b\n",
      "55 1qau\n",
      "56 1qki\n"
     ]
    },
    {
     "name": "stderr",
     "output_type": "stream",
     "text": [
      "/wsu/home/fr/fr15/fr1583/.conda/envs/protein/lib/python3.7/site-packages/Bio/PDB/StructureBuilder.py:92: PDBConstructionWarning: WARNING: Chain A is discontinuous at line 31154.\n",
      "  PDBConstructionWarning,\n",
      "/wsu/home/fr/fr15/fr1583/.conda/envs/protein/lib/python3.7/site-packages/Bio/PDB/StructureBuilder.py:92: PDBConstructionWarning: WARNING: Chain B is discontinuous at line 31207.\n",
      "  PDBConstructionWarning,\n",
      "/wsu/home/fr/fr15/fr1583/.conda/envs/protein/lib/python3.7/site-packages/Bio/PDB/StructureBuilder.py:92: PDBConstructionWarning: WARNING: Chain C is discontinuous at line 31272.\n",
      "  PDBConstructionWarning,\n",
      "/wsu/home/fr/fr15/fr1583/.conda/envs/protein/lib/python3.7/site-packages/Bio/PDB/StructureBuilder.py:92: PDBConstructionWarning: WARNING: Chain D is discontinuous at line 31331.\n",
      "  PDBConstructionWarning,\n",
      "/wsu/home/fr/fr15/fr1583/.conda/envs/protein/lib/python3.7/site-packages/Bio/PDB/StructureBuilder.py:92: PDBConstructionWarning: WARNING: Chain E is discontinuous at line 31384.\n",
      "  PDBConstructionWarning,\n",
      "/wsu/home/fr/fr15/fr1583/.conda/envs/protein/lib/python3.7/site-packages/Bio/PDB/StructureBuilder.py:92: PDBConstructionWarning: WARNING: Chain F is discontinuous at line 31443.\n",
      "  PDBConstructionWarning,\n",
      "/wsu/home/fr/fr15/fr1583/.conda/envs/protein/lib/python3.7/site-packages/Bio/PDB/StructureBuilder.py:92: PDBConstructionWarning: WARNING: Chain G is discontinuous at line 31496.\n",
      "  PDBConstructionWarning,\n",
      "/wsu/home/fr/fr15/fr1583/.conda/envs/protein/lib/python3.7/site-packages/Bio/PDB/StructureBuilder.py:92: PDBConstructionWarning: WARNING: Chain H is discontinuous at line 31555.\n",
      "  PDBConstructionWarning,\n",
      "/wsu/home/fr/fr15/fr1583/.conda/envs/protein/lib/python3.7/site-packages/Bio/PDB/StructureBuilder.py:92: PDBConstructionWarning: WARNING: Chain A is discontinuous at line 31608.\n",
      "  PDBConstructionWarning,\n",
      "/wsu/home/fr/fr15/fr1583/.conda/envs/protein/lib/python3.7/site-packages/Bio/PDB/StructureBuilder.py:92: PDBConstructionWarning: WARNING: Chain B is discontinuous at line 31621.\n",
      "  PDBConstructionWarning,\n",
      "/wsu/home/fr/fr15/fr1583/.conda/envs/protein/lib/python3.7/site-packages/Bio/PDB/StructureBuilder.py:92: PDBConstructionWarning: WARNING: Chain C is discontinuous at line 31630.\n",
      "  PDBConstructionWarning,\n",
      "/wsu/home/fr/fr15/fr1583/.conda/envs/protein/lib/python3.7/site-packages/Bio/PDB/StructureBuilder.py:92: PDBConstructionWarning: WARNING: Chain D is discontinuous at line 31633.\n",
      "  PDBConstructionWarning,\n",
      "/wsu/home/fr/fr15/fr1583/.conda/envs/protein/lib/python3.7/site-packages/Bio/PDB/StructureBuilder.py:92: PDBConstructionWarning: WARNING: Chain E is discontinuous at line 31641.\n",
      "  PDBConstructionWarning,\n",
      "/wsu/home/fr/fr15/fr1583/.conda/envs/protein/lib/python3.7/site-packages/Bio/PDB/StructureBuilder.py:92: PDBConstructionWarning: WARNING: Chain F is discontinuous at line 31652.\n",
      "  PDBConstructionWarning,\n",
      "/wsu/home/fr/fr15/fr1583/.conda/envs/protein/lib/python3.7/site-packages/Bio/PDB/StructureBuilder.py:92: PDBConstructionWarning: WARNING: Chain H is discontinuous at line 31655.\n",
      "  PDBConstructionWarning,\n"
     ]
    },
    {
     "name": "stdout",
     "output_type": "stream",
     "text": [
      "skipped\n",
      "57 1qto\n",
      "58 1r29\n",
      "59 1r7j\n",
      "60 1rju\n",
      "61 1rro\n",
      "62 1sau\n",
      "63 1tgr\n"
     ]
    },
    {
     "name": "stderr",
     "output_type": "stream",
     "text": [
      "/wsu/home/fr/fr15/fr1583/.conda/envs/protein/lib/python3.7/site-packages/Bio/PDB/StructureBuilder.py:92: PDBConstructionWarning: WARNING: Chain A is discontinuous at line 871.\n",
      "  PDBConstructionWarning,\n",
      "/wsu/home/fr/fr15/fr1583/.conda/envs/protein/lib/python3.7/site-packages/Bio/PDB/StructureBuilder.py:92: PDBConstructionWarning: WARNING: Chain B is discontinuous at line 956.\n",
      "  PDBConstructionWarning,\n"
     ]
    },
    {
     "name": "stdout",
     "output_type": "stream",
     "text": [
      "64 1tzv\n",
      "65 1u06\n",
      "66 1u7i\n"
     ]
    },
    {
     "name": "stderr",
     "output_type": "stream",
     "text": [
      "/wsu/home/fr/fr15/fr1583/.conda/envs/protein/lib/python3.7/site-packages/Bio/PDB/StructureBuilder.py:92: PDBConstructionWarning: WARNING: Chain A is discontinuous at line 2136.\n",
      "  PDBConstructionWarning,\n",
      "/wsu/home/fr/fr15/fr1583/.conda/envs/protein/lib/python3.7/site-packages/Bio/PDB/StructureBuilder.py:92: PDBConstructionWarning: WARNING: Chain B is discontinuous at line 2320.\n",
      "  PDBConstructionWarning,\n"
     ]
    },
    {
     "name": "stdout",
     "output_type": "stream",
     "text": [
      "67 1u9c\n",
      "68 1uha\n",
      "69 1uku\n",
      "70 1ulr\n",
      "71 1uoy\n",
      "72 1use\n",
      "73 1usm\n",
      "74 1utg\n",
      "75 1v05\n",
      "76 1v70\n",
      "77 1vrz\n",
      "78 1w2l\n",
      "79 1wbe\n",
      "80 1whi\n",
      "81 1wly\n",
      "82 1wpa\n",
      "83 1x3o\n",
      "84 1xy1\n",
      "85 1xy2\n",
      "86 1y6x\n"
     ]
    },
    {
     "name": "stderr",
     "output_type": "stream",
     "text": [
      "/wsu/home/fr/fr15/fr1583/.conda/envs/protein/lib/python3.7/site-packages/Bio/PDB/StructureBuilder.py:92: PDBConstructionWarning: WARNING: Chain A is discontinuous at line 266.\n",
      "  PDBConstructionWarning,\n",
      "/wsu/home/fr/fr15/fr1583/.conda/envs/protein/lib/python3.7/site-packages/Bio/PDB/StructureBuilder.py:92: PDBConstructionWarning: WARNING: Chain B is discontinuous at line 272.\n",
      "  PDBConstructionWarning,\n"
     ]
    },
    {
     "name": "stdout",
     "output_type": "stream",
     "text": [
      "87 1yjo\n",
      "88 1yzm\n",
      "89 1z21\n",
      "90 1zce\n",
      "91 1zva\n",
      "92 2a50\n"
     ]
    },
    {
     "name": "stderr",
     "output_type": "stream",
     "text": [
      "/wsu/home/fr/fr15/fr1583/.conda/envs/protein/lib/python3.7/site-packages/Bio/PDB/StructureBuilder.py:92: PDBConstructionWarning: WARNING: Chain A is discontinuous at line 3731.\n",
      "  PDBConstructionWarning,\n",
      "/wsu/home/fr/fr15/fr1583/.conda/envs/protein/lib/python3.7/site-packages/Bio/PDB/StructureBuilder.py:92: PDBConstructionWarning: WARNING: Chain B is discontinuous at line 3840.\n",
      "  PDBConstructionWarning,\n",
      "/wsu/home/fr/fr15/fr1583/.conda/envs/protein/lib/python3.7/site-packages/Bio/PDB/StructureBuilder.py:92: PDBConstructionWarning: WARNING: Chain C is discontinuous at line 4077.\n",
      "  PDBConstructionWarning,\n",
      "/wsu/home/fr/fr15/fr1583/.conda/envs/protein/lib/python3.7/site-packages/Bio/PDB/StructureBuilder.py:92: PDBConstructionWarning: WARNING: Chain D is discontinuous at line 4162.\n",
      "  PDBConstructionWarning,\n"
     ]
    },
    {
     "name": "stdout",
     "output_type": "stream",
     "text": [
      "93 2agk\n",
      "94 2ah1\n"
     ]
    },
    {
     "name": "stderr",
     "output_type": "stream",
     "text": [
      "/wsu/home/fr/fr15/fr1583/.conda/envs/protein/lib/python3.7/site-packages/Bio/PDB/StructureBuilder.py:92: PDBConstructionWarning: WARNING: Chain D is discontinuous at line 7269.\n",
      "  PDBConstructionWarning,\n",
      "/wsu/home/fr/fr15/fr1583/.conda/envs/protein/lib/python3.7/site-packages/Bio/PDB/StructureBuilder.py:92: PDBConstructionWarning: WARNING: Chain H is discontinuous at line 7462.\n",
      "  PDBConstructionWarning,\n",
      "/wsu/home/fr/fr15/fr1583/.conda/envs/protein/lib/python3.7/site-packages/Bio/PDB/StructureBuilder.py:92: PDBConstructionWarning: WARNING: Chain A is discontinuous at line 7664.\n",
      "  PDBConstructionWarning,\n",
      "/wsu/home/fr/fr15/fr1583/.conda/envs/protein/lib/python3.7/site-packages/Bio/PDB/StructureBuilder.py:92: PDBConstructionWarning: WARNING: Chain B is discontinuous at line 8375.\n",
      "  PDBConstructionWarning,\n"
     ]
    },
    {
     "name": "stdout",
     "output_type": "stream",
     "text": [
      "95 2b0a\n",
      "96 2bcm\n"
     ]
    },
    {
     "name": "stderr",
     "output_type": "stream",
     "text": [
      "/wsu/home/fr/fr15/fr1583/.conda/envs/protein/lib/python3.7/site-packages/Bio/PDB/StructureBuilder.py:92: PDBConstructionWarning: WARNING: Chain B is discontinuous at line 3135.\n",
      "  PDBConstructionWarning,\n",
      "/wsu/home/fr/fr15/fr1583/.conda/envs/protein/lib/python3.7/site-packages/Bio/PDB/StructureBuilder.py:92: PDBConstructionWarning: WARNING: Chain A is discontinuous at line 3298.\n",
      "  PDBConstructionWarning,\n",
      "/wsu/home/fr/fr15/fr1583/.conda/envs/protein/lib/python3.7/site-packages/Bio/PDB/StructureBuilder.py:92: PDBConstructionWarning: WARNING: Chain C is discontinuous at line 3452.\n",
      "  PDBConstructionWarning,\n"
     ]
    },
    {
     "name": "stdout",
     "output_type": "stream",
     "text": [
      "97 2bf9\n",
      "98 2brf\n",
      "99 2c71\n",
      "100 2ce0\n",
      "101 2cg7\n",
      "102 2cov\n"
     ]
    },
    {
     "name": "stderr",
     "output_type": "stream",
     "text": [
      "/wsu/home/fr/fr15/fr1583/.conda/envs/protein/lib/python3.7/site-packages/Bio/PDB/StructureBuilder.py:92: PDBConstructionWarning: WARNING: Chain D is discontinuous at line 4366.\n",
      "  PDBConstructionWarning,\n",
      "/wsu/home/fr/fr15/fr1583/.conda/envs/protein/lib/python3.7/site-packages/Bio/PDB/StructureBuilder.py:92: PDBConstructionWarning: WARNING: Chain E is discontinuous at line 4481.\n",
      "  PDBConstructionWarning,\n",
      "/wsu/home/fr/fr15/fr1583/.conda/envs/protein/lib/python3.7/site-packages/Bio/PDB/StructureBuilder.py:92: PDBConstructionWarning: WARNING: Chain F is discontinuous at line 4591.\n",
      "  PDBConstructionWarning,\n",
      "/wsu/home/fr/fr15/fr1583/.conda/envs/protein/lib/python3.7/site-packages/Bio/PDB/StructureBuilder.py:92: PDBConstructionWarning: WARNING: Chain G is discontinuous at line 4676.\n",
      "  PDBConstructionWarning,\n",
      "/wsu/home/fr/fr15/fr1583/.conda/envs/protein/lib/python3.7/site-packages/Bio/PDB/StructureBuilder.py:92: PDBConstructionWarning: WARNING: Chain H is discontinuous at line 4763.\n",
      "  PDBConstructionWarning,\n",
      "/wsu/home/fr/fr15/fr1583/.conda/envs/protein/lib/python3.7/site-packages/Bio/PDB/StructureBuilder.py:92: PDBConstructionWarning: WARNING: Chain I is discontinuous at line 4852.\n",
      "  PDBConstructionWarning,\n"
     ]
    },
    {
     "name": "stdout",
     "output_type": "stream",
     "text": [
      "103 2cws\n",
      "104 2d5w\n"
     ]
    },
    {
     "name": "stderr",
     "output_type": "stream",
     "text": [
      "/wsu/home/fr/fr15/fr1583/.conda/envs/protein/lib/python3.7/site-packages/Bio/PDB/StructureBuilder.py:92: PDBConstructionWarning: WARNING: Chain A is discontinuous at line 9772.\n",
      "  PDBConstructionWarning,\n",
      "/wsu/home/fr/fr15/fr1583/.conda/envs/protein/lib/python3.7/site-packages/Bio/PDB/StructureBuilder.py:92: PDBConstructionWarning: WARNING: Chain B is discontinuous at line 10340.\n",
      "  PDBConstructionWarning,\n",
      "/wsu/home/fr/fr15/fr1583/.conda/envs/protein/lib/python3.7/site-packages/Bio/PDB/StructureBuilder.py:92: PDBConstructionWarning: WARNING: Chain C is discontinuous at line 10839.\n",
      "  PDBConstructionWarning,\n",
      "/wsu/home/fr/fr15/fr1583/.conda/envs/protein/lib/python3.7/site-packages/Bio/PDB/StructureBuilder.py:92: PDBConstructionWarning: WARNING: Chain D is discontinuous at line 10841.\n",
      "  PDBConstructionWarning,\n"
     ]
    },
    {
     "name": "stdout",
     "output_type": "stream",
     "text": [
      "skipped\n",
      "105 2dko\n",
      "106 2dpl\n"
     ]
    },
    {
     "name": "stderr",
     "output_type": "stream",
     "text": [
      "/wsu/home/fr/fr15/fr1583/.conda/envs/protein/lib/python3.7/site-packages/Bio/PDB/StructureBuilder.py:92: PDBConstructionWarning: WARNING: Chain A is discontinuous at line 2092.\n",
      "  PDBConstructionWarning,\n",
      "/wsu/home/fr/fr15/fr1583/.conda/envs/protein/lib/python3.7/site-packages/Bio/PDB/StructureBuilder.py:92: PDBConstructionWarning: WARNING: Chain B is discontinuous at line 2311.\n",
      "  PDBConstructionWarning,\n",
      "/wsu/home/fr/fr15/fr1583/.conda/envs/protein/lib/python3.7/site-packages/Bio/PDB/StructureBuilder.py:92: PDBConstructionWarning: WARNING: Chain I is discontinuous at line 2420.\n",
      "  PDBConstructionWarning,\n",
      "/wsu/home/fr/fr15/fr1583/.conda/envs/protein/lib/python3.7/site-packages/Bio/PDB/StructureBuilder.py:92: PDBConstructionWarning: WARNING: Chain A is discontinuous at line 4500.\n",
      "  PDBConstructionWarning,\n",
      "/wsu/home/fr/fr15/fr1583/.conda/envs/protein/lib/python3.7/site-packages/Bio/PDB/StructureBuilder.py:92: PDBConstructionWarning: WARNING: Chain B is discontinuous at line 4993.\n",
      "  PDBConstructionWarning,\n"
     ]
    },
    {
     "name": "stdout",
     "output_type": "stream",
     "text": [
      "107 2dsx\n",
      "108 2e10\n"
     ]
    },
    {
     "name": "stderr",
     "output_type": "stream",
     "text": [
      "/wsu/home/fr/fr15/fr1583/.conda/envs/protein/lib/python3.7/site-packages/Bio/PDB/StructureBuilder.py:92: PDBConstructionWarning: WARNING: Chain A is discontinuous at line 3416.\n",
      "  PDBConstructionWarning,\n",
      "/wsu/home/fr/fr15/fr1583/.conda/envs/protein/lib/python3.7/site-packages/Bio/PDB/StructureBuilder.py:92: PDBConstructionWarning: WARNING: Chain B is discontinuous at line 3697.\n",
      "  PDBConstructionWarning,\n"
     ]
    },
    {
     "name": "stdout",
     "output_type": "stream",
     "text": [
      "109 2e3h\n",
      "110 2eaq\n",
      "111 2ehp\n"
     ]
    },
    {
     "name": "stderr",
     "output_type": "stream",
     "text": [
      "/wsu/home/fr/fr15/fr1583/.conda/envs/protein/lib/python3.7/site-packages/Bio/PDB/StructureBuilder.py:92: PDBConstructionWarning: WARNING: Chain A is discontinuous at line 1891.\n",
      "  PDBConstructionWarning,\n",
      "/wsu/home/fr/fr15/fr1583/.conda/envs/protein/lib/python3.7/site-packages/Bio/PDB/StructureBuilder.py:92: PDBConstructionWarning: WARNING: Chain B is discontinuous at line 1964.\n",
      "  PDBConstructionWarning,\n"
     ]
    },
    {
     "name": "stdout",
     "output_type": "stream",
     "text": [
      "112 2ehs\n",
      "113 2erw\n",
      "114 2etx\n"
     ]
    },
    {
     "name": "stderr",
     "output_type": "stream",
     "text": [
      "/wsu/home/fr/fr15/fr1583/.conda/envs/protein/lib/python3.7/site-packages/Bio/PDB/StructureBuilder.py:92: PDBConstructionWarning: WARNING: Chain A is discontinuous at line 3018.\n",
      "  PDBConstructionWarning,\n",
      "/wsu/home/fr/fr15/fr1583/.conda/envs/protein/lib/python3.7/site-packages/Bio/PDB/StructureBuilder.py:92: PDBConstructionWarning: WARNING: Chain B is discontinuous at line 3222.\n",
      "  PDBConstructionWarning,\n"
     ]
    },
    {
     "name": "stdout",
     "output_type": "stream",
     "text": [
      "115 2fb6\n",
      "116 2fg1\n",
      "117 2fn9\n"
     ]
    },
    {
     "name": "stderr",
     "output_type": "stream",
     "text": [
      "/wsu/home/fr/fr15/fr1583/.conda/envs/protein/lib/python3.7/site-packages/Bio/PDB/StructureBuilder.py:92: PDBConstructionWarning: WARNING: Chain A is discontinuous at line 4362.\n",
      "  PDBConstructionWarning,\n",
      "/wsu/home/fr/fr15/fr1583/.conda/envs/protein/lib/python3.7/site-packages/Bio/PDB/StructureBuilder.py:92: PDBConstructionWarning: WARNING: Chain B is discontinuous at line 4692.\n",
      "  PDBConstructionWarning,\n"
     ]
    },
    {
     "name": "stdout",
     "output_type": "stream",
     "text": [
      "118 2fq3\n",
      "119 2g69\n",
      "120 2g7o\n",
      "121 2g7s\n",
      "122 2gkg\n",
      "123 2gom\n",
      "124 2gxg\n",
      "125 2gzq\n"
     ]
    },
    {
     "name": "stderr",
     "output_type": "stream",
     "text": [
      "/wsu/home/fr/fr15/fr1583/.conda/envs/protein/lib/python3.7/site-packages/Bio/PDB/StructureBuilder.py:92: PDBConstructionWarning: WARNING: Chain A is discontinuous at line 987.\n",
      "  PDBConstructionWarning,\n",
      "/wsu/home/fr/fr15/fr1583/.conda/envs/protein/lib/python3.7/site-packages/Bio/PDB/StructureBuilder.py:92: PDBConstructionWarning: WARNING: Chain B is discontinuous at line 1069.\n",
      "  PDBConstructionWarning,\n"
     ]
    },
    {
     "name": "stdout",
     "output_type": "stream",
     "text": [
      "126 2hqk\n",
      "127 2hyk\n",
      "128 2i24\n",
      "129 2i49\n",
      "130 2ibl\n",
      "131 2igd\n",
      "132 2imf\n",
      "133 2ip6\n",
      "134 2ivy\n",
      "135 2j32\n"
     ]
    },
    {
     "name": "stderr",
     "output_type": "stream",
     "text": [
      "/wsu/home/fr/fr15/fr1583/.conda/envs/protein/lib/python3.7/site-packages/Bio/PDB/StructureBuilder.py:92: PDBConstructionWarning: WARNING: Chain A is discontinuous at line 1971.\n",
      "  PDBConstructionWarning,\n",
      "/wsu/home/fr/fr15/fr1583/.conda/envs/protein/lib/python3.7/site-packages/Bio/PDB/StructureBuilder.py:92: PDBConstructionWarning: WARNING: Chain B is discontinuous at line 2269.\n",
      "  PDBConstructionWarning,\n",
      "/wsu/home/fr/fr15/fr1583/.conda/envs/protein/lib/python3.7/site-packages/Bio/PDB/StructureBuilder.py:92: PDBConstructionWarning: WARNING: Chain A is discontinuous at line 1650.\n",
      "  PDBConstructionWarning,\n",
      "/wsu/home/fr/fr15/fr1583/.conda/envs/protein/lib/python3.7/site-packages/Bio/PDB/StructureBuilder.py:92: PDBConstructionWarning: WARNING: Chain B is discontinuous at line 1722.\n",
      "  PDBConstructionWarning,\n"
     ]
    },
    {
     "name": "stdout",
     "output_type": "stream",
     "text": [
      "136 2j9w\n",
      "137 2jku\n",
      "138 2jli\n",
      "139 2jlj\n",
      "140 2mcm\n",
      "141 2nls\n",
      "142 2nr7\n",
      "143 2nuh\n",
      "144 2o6x\n",
      "145 2oa2\n",
      "146 2oct\n"
     ]
    },
    {
     "name": "stderr",
     "output_type": "stream",
     "text": [
      "/wsu/home/fr/fr15/fr1583/.conda/envs/protein/lib/python3.7/site-packages/Bio/PDB/StructureBuilder.py:92: PDBConstructionWarning: WARNING: Chain A is discontinuous at line 1570.\n",
      "  PDBConstructionWarning,\n",
      "/wsu/home/fr/fr15/fr1583/.conda/envs/protein/lib/python3.7/site-packages/Bio/PDB/StructureBuilder.py:92: PDBConstructionWarning: WARNING: Chain B is discontinuous at line 1656.\n",
      "  PDBConstructionWarning,\n",
      "/wsu/home/fr/fr15/fr1583/.conda/envs/protein/lib/python3.7/site-packages/Bio/PDB/StructureBuilder.py:92: PDBConstructionWarning: WARNING: Chain A is discontinuous at line 1570.\n",
      "  PDBConstructionWarning,\n",
      "/wsu/home/fr/fr15/fr1583/.conda/envs/protein/lib/python3.7/site-packages/Bio/PDB/StructureBuilder.py:92: PDBConstructionWarning: WARNING: Chain B is discontinuous at line 1656.\n",
      "  PDBConstructionWarning,\n",
      "/wsu/home/fr/fr15/fr1583/K/NMAcomp/multiscale.py:88: RuntimeWarning: divide by zero encountered in true_divide\n",
      "  reg.fit(mu_n.T,1/bfactor)\n",
      "/wsu/home/fr/fr15/fr1583/.conda/envs/protein/lib/python3.7/site-packages/Bio/PDB/StructureBuilder.py:92: PDBConstructionWarning: WARNING: Chain A is discontinuous at line 2086.\n",
      "  PDBConstructionWarning,\n",
      "/wsu/home/fr/fr15/fr1583/.conda/envs/protein/lib/python3.7/site-packages/Bio/PDB/StructureBuilder.py:92: PDBConstructionWarning: WARNING: Chain B is discontinuous at line 2146.\n",
      "  PDBConstructionWarning,\n"
     ]
    },
    {
     "name": "stdout",
     "output_type": "stream",
     "text": [
      "Input contains NaN, infinity or a value too large for dtype('float64').\n",
      "147 2ohw\n",
      "148 2okt\n",
      "149 2ol9\n",
      "150 2olx\n",
      "151 2pkt\n",
      "152 2plt\n",
      "153 2pmr\n",
      "154 2pof\n"
     ]
    },
    {
     "name": "stderr",
     "output_type": "stream",
     "text": [
      "/wsu/home/fr/fr15/fr1583/.conda/envs/protein/lib/python3.7/site-packages/Bio/PDB/StructureBuilder.py:92: PDBConstructionWarning: WARNING: Chain A is discontinuous at line 3514.\n",
      "  PDBConstructionWarning,\n",
      "/wsu/home/fr/fr15/fr1583/.conda/envs/protein/lib/python3.7/site-packages/Bio/PDB/StructureBuilder.py:92: PDBConstructionWarning: WARNING: Chain B is discontinuous at line 3676.\n",
      "  PDBConstructionWarning,\n"
     ]
    },
    {
     "name": "stdout",
     "output_type": "stream",
     "text": [
      "155 2ppn\n",
      "156 2psf\n"
     ]
    },
    {
     "name": "stderr",
     "output_type": "stream",
     "text": [
      "/wsu/home/fr/fr15/fr1583/.conda/envs/protein/lib/python3.7/site-packages/Bio/PDB/StructureBuilder.py:92: PDBConstructionWarning: WARNING: Chain A is discontinuous at line 4983.\n",
      "  PDBConstructionWarning,\n",
      "/wsu/home/fr/fr15/fr1583/.conda/envs/protein/lib/python3.7/site-packages/Bio/PDB/StructureBuilder.py:92: PDBConstructionWarning: WARNING: Chain B is discontinuous at line 5408.\n",
      "  PDBConstructionWarning,\n"
     ]
    },
    {
     "name": "stdout",
     "output_type": "stream",
     "text": [
      "157 2pth\n",
      "158 2q4n\n",
      "Found input variables with inconsistent numbers of samples: [181, 1224]\n",
      "159 2q52\n"
     ]
    },
    {
     "name": "stderr",
     "output_type": "stream",
     "text": [
      "/wsu/home/fr/fr15/fr1583/.conda/envs/protein/lib/python3.7/site-packages/Bio/PDB/StructureBuilder.py:92: PDBConstructionWarning: WARNING: Chain A is discontinuous at line 3348.\n",
      "  PDBConstructionWarning,\n",
      "/wsu/home/fr/fr15/fr1583/.conda/envs/protein/lib/python3.7/site-packages/Bio/PDB/StructureBuilder.py:92: PDBConstructionWarning: WARNING: Chain B is discontinuous at line 3549.\n",
      "  PDBConstructionWarning,\n",
      "/wsu/home/fr/fr15/fr1583/.conda/envs/protein/lib/python3.7/site-packages/Bio/PDB/StructureBuilder.py:92: PDBConstructionWarning: WARNING: Chain A is discontinuous at line 7080.\n",
      "  PDBConstructionWarning,\n",
      "/wsu/home/fr/fr15/fr1583/.conda/envs/protein/lib/python3.7/site-packages/Bio/PDB/StructureBuilder.py:92: PDBConstructionWarning: WARNING: Chain B is discontinuous at line 7286.\n",
      "  PDBConstructionWarning,\n",
      "/wsu/home/fr/fr15/fr1583/.conda/envs/protein/lib/python3.7/site-packages/Bio/PDB/StructureBuilder.py:92: PDBConstructionWarning: WARNING: Chain A is discontinuous at line 10812.\n",
      "  PDBConstructionWarning,\n",
      "/wsu/home/fr/fr15/fr1583/.conda/envs/protein/lib/python3.7/site-packages/Bio/PDB/StructureBuilder.py:92: PDBConstructionWarning: WARNING: Chain B is discontinuous at line 11024.\n",
      "  PDBConstructionWarning,\n",
      "/wsu/home/fr/fr15/fr1583/.conda/envs/protein/lib/python3.7/site-packages/Bio/PDB/StructureBuilder.py:92: PDBConstructionWarning: WARNING: Chain A is discontinuous at line 14544.\n",
      "  PDBConstructionWarning,\n",
      "/wsu/home/fr/fr15/fr1583/.conda/envs/protein/lib/python3.7/site-packages/Bio/PDB/StructureBuilder.py:92: PDBConstructionWarning: WARNING: Chain B is discontinuous at line 14746.\n",
      "  PDBConstructionWarning,\n",
      "/wsu/home/fr/fr15/fr1583/.conda/envs/protein/lib/python3.7/site-packages/Bio/PDB/StructureBuilder.py:92: PDBConstructionWarning: WARNING: Chain A is discontinuous at line 18276.\n",
      "  PDBConstructionWarning,\n",
      "/wsu/home/fr/fr15/fr1583/.conda/envs/protein/lib/python3.7/site-packages/Bio/PDB/StructureBuilder.py:92: PDBConstructionWarning: WARNING: Chain B is discontinuous at line 18477.\n",
      "  PDBConstructionWarning,\n",
      "/wsu/home/fr/fr15/fr1583/.conda/envs/protein/lib/python3.7/site-packages/Bio/PDB/StructureBuilder.py:92: PDBConstructionWarning: WARNING: Chain A is discontinuous at line 22008.\n",
      "  PDBConstructionWarning,\n",
      "/wsu/home/fr/fr15/fr1583/.conda/envs/protein/lib/python3.7/site-packages/Bio/PDB/StructureBuilder.py:92: PDBConstructionWarning: WARNING: Chain B is discontinuous at line 22210.\n",
      "  PDBConstructionWarning,\n",
      "/wsu/home/fr/fr15/fr1583/.conda/envs/protein/lib/python3.7/site-packages/Bio/PDB/StructureBuilder.py:92: PDBConstructionWarning: WARNING: Chain A is discontinuous at line 25740.\n",
      "  PDBConstructionWarning,\n",
      "/wsu/home/fr/fr15/fr1583/.conda/envs/protein/lib/python3.7/site-packages/Bio/PDB/StructureBuilder.py:92: PDBConstructionWarning: WARNING: Chain B is discontinuous at line 25944.\n",
      "  PDBConstructionWarning,\n",
      "/wsu/home/fr/fr15/fr1583/.conda/envs/protein/lib/python3.7/site-packages/Bio/PDB/StructureBuilder.py:92: PDBConstructionWarning: WARNING: Chain A is discontinuous at line 29472.\n",
      "  PDBConstructionWarning,\n",
      "/wsu/home/fr/fr15/fr1583/.conda/envs/protein/lib/python3.7/site-packages/Bio/PDB/StructureBuilder.py:92: PDBConstructionWarning: WARNING: Chain B is discontinuous at line 29678.\n",
      "  PDBConstructionWarning,\n",
      "/wsu/home/fr/fr15/fr1583/.conda/envs/protein/lib/python3.7/site-packages/Bio/PDB/StructureBuilder.py:92: PDBConstructionWarning: WARNING: Chain A is discontinuous at line 3348.\n",
      "  PDBConstructionWarning,\n",
      "/wsu/home/fr/fr15/fr1583/.conda/envs/protein/lib/python3.7/site-packages/Bio/PDB/StructureBuilder.py:92: PDBConstructionWarning: WARNING: Chain B is discontinuous at line 3549.\n",
      "  PDBConstructionWarning,\n",
      "/wsu/home/fr/fr15/fr1583/.conda/envs/protein/lib/python3.7/site-packages/Bio/PDB/StructureBuilder.py:92: PDBConstructionWarning: WARNING: Chain A is discontinuous at line 7080.\n",
      "  PDBConstructionWarning,\n",
      "/wsu/home/fr/fr15/fr1583/.conda/envs/protein/lib/python3.7/site-packages/Bio/PDB/StructureBuilder.py:92: PDBConstructionWarning: WARNING: Chain B is discontinuous at line 7286.\n",
      "  PDBConstructionWarning,\n",
      "/wsu/home/fr/fr15/fr1583/.conda/envs/protein/lib/python3.7/site-packages/Bio/PDB/StructureBuilder.py:92: PDBConstructionWarning: WARNING: Chain A is discontinuous at line 10812.\n",
      "  PDBConstructionWarning,\n",
      "/wsu/home/fr/fr15/fr1583/.conda/envs/protein/lib/python3.7/site-packages/Bio/PDB/StructureBuilder.py:92: PDBConstructionWarning: WARNING: Chain B is discontinuous at line 11024.\n",
      "  PDBConstructionWarning,\n",
      "/wsu/home/fr/fr15/fr1583/.conda/envs/protein/lib/python3.7/site-packages/Bio/PDB/StructureBuilder.py:92: PDBConstructionWarning: WARNING: Chain A is discontinuous at line 14544.\n",
      "  PDBConstructionWarning,\n",
      "/wsu/home/fr/fr15/fr1583/.conda/envs/protein/lib/python3.7/site-packages/Bio/PDB/StructureBuilder.py:92: PDBConstructionWarning: WARNING: Chain B is discontinuous at line 14746.\n",
      "  PDBConstructionWarning,\n",
      "/wsu/home/fr/fr15/fr1583/.conda/envs/protein/lib/python3.7/site-packages/Bio/PDB/StructureBuilder.py:92: PDBConstructionWarning: WARNING: Chain A is discontinuous at line 18276.\n",
      "  PDBConstructionWarning,\n",
      "/wsu/home/fr/fr15/fr1583/.conda/envs/protein/lib/python3.7/site-packages/Bio/PDB/StructureBuilder.py:92: PDBConstructionWarning: WARNING: Chain B is discontinuous at line 18477.\n",
      "  PDBConstructionWarning,\n",
      "/wsu/home/fr/fr15/fr1583/.conda/envs/protein/lib/python3.7/site-packages/Bio/PDB/StructureBuilder.py:92: PDBConstructionWarning: WARNING: Chain A is discontinuous at line 22008.\n",
      "  PDBConstructionWarning,\n",
      "/wsu/home/fr/fr15/fr1583/.conda/envs/protein/lib/python3.7/site-packages/Bio/PDB/StructureBuilder.py:92: PDBConstructionWarning: WARNING: Chain B is discontinuous at line 22210.\n",
      "  PDBConstructionWarning,\n",
      "/wsu/home/fr/fr15/fr1583/.conda/envs/protein/lib/python3.7/site-packages/Bio/PDB/StructureBuilder.py:92: PDBConstructionWarning: WARNING: Chain A is discontinuous at line 25740.\n",
      "  PDBConstructionWarning,\n",
      "/wsu/home/fr/fr15/fr1583/.conda/envs/protein/lib/python3.7/site-packages/Bio/PDB/StructureBuilder.py:92: PDBConstructionWarning: WARNING: Chain B is discontinuous at line 25944.\n",
      "  PDBConstructionWarning,\n",
      "/wsu/home/fr/fr15/fr1583/.conda/envs/protein/lib/python3.7/site-packages/Bio/PDB/StructureBuilder.py:92: PDBConstructionWarning: WARNING: Chain A is discontinuous at line 29472.\n",
      "  PDBConstructionWarning,\n",
      "/wsu/home/fr/fr15/fr1583/.conda/envs/protein/lib/python3.7/site-packages/Bio/PDB/StructureBuilder.py:92: PDBConstructionWarning: WARNING: Chain B is discontinuous at line 29678.\n",
      "  PDBConstructionWarning,\n"
     ]
    },
    {
     "name": "stdout",
     "output_type": "stream",
     "text": [
      "Found input variables with inconsistent numbers of samples: [480, 3296]\n",
      "160 2qjl\n",
      "161 2r16\n",
      "162 2r6q\n",
      "163 2rb8\n",
      "164 2re2\n"
     ]
    },
    {
     "name": "stderr",
     "output_type": "stream",
     "text": [
      "/wsu/home/fr/fr15/fr1583/.conda/envs/protein/lib/python3.7/site-packages/Bio/PDB/StructureBuilder.py:92: PDBConstructionWarning: WARNING: Chain A is discontinuous at line 1898.\n",
      "  PDBConstructionWarning,\n",
      "/wsu/home/fr/fr15/fr1583/.conda/envs/protein/lib/python3.7/site-packages/Bio/PDB/StructureBuilder.py:92: PDBConstructionWarning: WARNING: Chain B is discontinuous at line 2061.\n",
      "  PDBConstructionWarning,\n"
     ]
    },
    {
     "name": "stdout",
     "output_type": "stream",
     "text": [
      "165 2rfr\n",
      "166 2v9v\n",
      "167 2ve8\n"
     ]
    },
    {
     "name": "stderr",
     "output_type": "stream",
     "text": [
      "/wsu/home/fr/fr15/fr1583/.conda/envs/protein/lib/python3.7/site-packages/Bio/PDB/StructureBuilder.py:92: PDBConstructionWarning: WARNING: Chain A is discontinuous at line 3972.\n",
      "  PDBConstructionWarning,\n",
      "/wsu/home/fr/fr15/fr1583/.conda/envs/protein/lib/python3.7/site-packages/Bio/PDB/StructureBuilder.py:92: PDBConstructionWarning: WARNING: Chain B is discontinuous at line 4066.\n",
      "  PDBConstructionWarning,\n",
      "/wsu/home/fr/fr15/fr1583/.conda/envs/protein/lib/python3.7/site-packages/Bio/PDB/StructureBuilder.py:92: PDBConstructionWarning: WARNING: Chain C is discontinuous at line 4158.\n",
      "  PDBConstructionWarning,\n",
      "/wsu/home/fr/fr15/fr1583/.conda/envs/protein/lib/python3.7/site-packages/Bio/PDB/StructureBuilder.py:92: PDBConstructionWarning: WARNING: Chain D is discontinuous at line 4247.\n",
      "  PDBConstructionWarning,\n",
      "/wsu/home/fr/fr15/fr1583/.conda/envs/protein/lib/python3.7/site-packages/Bio/PDB/StructureBuilder.py:92: PDBConstructionWarning: WARNING: Chain E is discontinuous at line 4328.\n",
      "  PDBConstructionWarning,\n",
      "/wsu/home/fr/fr15/fr1583/.conda/envs/protein/lib/python3.7/site-packages/Bio/PDB/StructureBuilder.py:92: PDBConstructionWarning: WARNING: Chain F is discontinuous at line 4395.\n",
      "  PDBConstructionWarning,\n",
      "/wsu/home/fr/fr15/fr1583/.conda/envs/protein/lib/python3.7/site-packages/Bio/PDB/StructureBuilder.py:92: PDBConstructionWarning: WARNING: Chain G is discontinuous at line 4462.\n",
      "  PDBConstructionWarning,\n",
      "/wsu/home/fr/fr15/fr1583/.conda/envs/protein/lib/python3.7/site-packages/Bio/PDB/StructureBuilder.py:92: PDBConstructionWarning: WARNING: Chain H is discontinuous at line 4559.\n",
      "  PDBConstructionWarning,\n"
     ]
    },
    {
     "name": "stdout",
     "output_type": "stream",
     "text": [
      "168 2vh7\n",
      "169 2vim\n",
      "170 2vpa\n",
      "171 2vq4\n",
      "172 2vy8\n",
      "173 2vyo\n",
      "174 2w1v\n"
     ]
    },
    {
     "name": "stderr",
     "output_type": "stream",
     "text": [
      "/wsu/home/fr/fr15/fr1583/.conda/envs/protein/lib/python3.7/site-packages/Bio/PDB/StructureBuilder.py:92: PDBConstructionWarning: WARNING: Chain A is discontinuous at line 4273.\n",
      "  PDBConstructionWarning,\n",
      "/wsu/home/fr/fr15/fr1583/.conda/envs/protein/lib/python3.7/site-packages/Bio/PDB/StructureBuilder.py:92: PDBConstructionWarning: WARNING: Chain B is discontinuous at line 4653.\n",
      "  PDBConstructionWarning,\n"
     ]
    },
    {
     "name": "stdout",
     "output_type": "stream",
     "text": [
      "175 2w2a\n"
     ]
    },
    {
     "name": "stderr",
     "output_type": "stream",
     "text": [
      "/wsu/home/fr/fr15/fr1583/.conda/envs/protein/lib/python3.7/site-packages/Bio/PDB/StructureBuilder.py:92: PDBConstructionWarning: WARNING: Chain A is discontinuous at line 2918.\n",
      "  PDBConstructionWarning,\n",
      "/wsu/home/fr/fr15/fr1583/.conda/envs/protein/lib/python3.7/site-packages/Bio/PDB/StructureBuilder.py:92: PDBConstructionWarning: WARNING: Chain B is discontinuous at line 3189.\n",
      "  PDBConstructionWarning,\n",
      "/wsu/home/fr/fr15/fr1583/.conda/envs/protein/lib/python3.7/site-packages/Bio/PDB/StructureBuilder.py:92: PDBConstructionWarning: WARNING: Chain A is discontinuous at line 1040.\n",
      "  PDBConstructionWarning,\n",
      "/wsu/home/fr/fr15/fr1583/.conda/envs/protein/lib/python3.7/site-packages/Bio/PDB/StructureBuilder.py:92: PDBConstructionWarning: WARNING: Chain B is discontinuous at line 1120.\n",
      "  PDBConstructionWarning,\n"
     ]
    },
    {
     "name": "stdout",
     "output_type": "stream",
     "text": [
      "176 2w6a\n",
      "177 2wj5\n",
      "178 2wuj\n"
     ]
    },
    {
     "name": "stderr",
     "output_type": "stream",
     "text": [
      "/wsu/home/fr/fr15/fr1583/.conda/envs/protein/lib/python3.7/site-packages/Bio/PDB/StructureBuilder.py:92: PDBConstructionWarning: WARNING: Chain A is discontinuous at line 856.\n",
      "  PDBConstructionWarning,\n",
      "/wsu/home/fr/fr15/fr1583/.conda/envs/protein/lib/python3.7/site-packages/Bio/PDB/StructureBuilder.py:92: PDBConstructionWarning: WARNING: Chain B is discontinuous at line 973.\n",
      "  PDBConstructionWarning,\n"
     ]
    },
    {
     "name": "stdout",
     "output_type": "stream",
     "text": [
      "179 2ww7\n"
     ]
    },
    {
     "name": "stderr",
     "output_type": "stream",
     "text": [
      "/wsu/home/fr/fr15/fr1583/.conda/envs/protein/lib/python3.7/site-packages/Bio/PDB/StructureBuilder.py:92: PDBConstructionWarning: WARNING: Chain A is discontinuous at line 3173.\n",
      "  PDBConstructionWarning,\n",
      "/wsu/home/fr/fr15/fr1583/.conda/envs/protein/lib/python3.7/site-packages/Bio/PDB/StructureBuilder.py:92: PDBConstructionWarning: WARNING: Chain B is discontinuous at line 3249.\n",
      "  PDBConstructionWarning,\n",
      "/wsu/home/fr/fr15/fr1583/.conda/envs/protein/lib/python3.7/site-packages/Bio/PDB/StructureBuilder.py:92: PDBConstructionWarning: WARNING: Chain C is discontinuous at line 3340.\n",
      "  PDBConstructionWarning,\n",
      "/wsu/home/fr/fr15/fr1583/.conda/envs/protein/lib/python3.7/site-packages/Bio/PDB/StructureBuilder.py:92: PDBConstructionWarning: WARNING: Chain D is discontinuous at line 3416.\n",
      "  PDBConstructionWarning,\n",
      "/wsu/home/fr/fr15/fr1583/.conda/envs/protein/lib/python3.7/site-packages/Bio/PDB/StructureBuilder.py:92: PDBConstructionWarning: WARNING: Chain E is discontinuous at line 3478.\n",
      "  PDBConstructionWarning,\n",
      "/wsu/home/fr/fr15/fr1583/.conda/envs/protein/lib/python3.7/site-packages/Bio/PDB/StructureBuilder.py:92: PDBConstructionWarning: WARNING: Chain F is discontinuous at line 3550.\n",
      "  PDBConstructionWarning,\n"
     ]
    },
    {
     "name": "stdout",
     "output_type": "stream",
     "text": [
      "180 2wwe\n",
      "181 2x1q\n"
     ]
    },
    {
     "name": "stderr",
     "output_type": "stream",
     "text": [
      "/wsu/home/fr/fr15/fr1583/.conda/envs/protein/lib/python3.7/site-packages/Bio/PDB/StructureBuilder.py:92: PDBConstructionWarning: WARNING: Chain A is discontinuous at line 1852.\n",
      "  PDBConstructionWarning,\n",
      "/wsu/home/fr/fr15/fr1583/.conda/envs/protein/lib/python3.7/site-packages/Bio/PDB/StructureBuilder.py:92: PDBConstructionWarning: WARNING: Chain B is discontinuous at line 2084.\n",
      "  PDBConstructionWarning,\n"
     ]
    },
    {
     "name": "stdout",
     "output_type": "stream",
     "text": [
      "182 2x25\n",
      "183 2x3m\n",
      "184 2x5y\n",
      "185 2x9z\n",
      "186 2xhf\n"
     ]
    },
    {
     "name": "stderr",
     "output_type": "stream",
     "text": [
      "/wsu/home/fr/fr15/fr1583/.conda/envs/protein/lib/python3.7/site-packages/Bio/PDB/StructureBuilder.py:92: PDBConstructionWarning: WARNING: Chain A is discontinuous at line 4871.\n",
      "  PDBConstructionWarning,\n",
      "/wsu/home/fr/fr15/fr1583/.conda/envs/protein/lib/python3.7/site-packages/Bio/PDB/StructureBuilder.py:92: PDBConstructionWarning: WARNING: Chain B is discontinuous at line 5041.\n",
      "  PDBConstructionWarning,\n",
      "/wsu/home/fr/fr15/fr1583/.conda/envs/protein/lib/python3.7/site-packages/Bio/PDB/StructureBuilder.py:92: PDBConstructionWarning: WARNING: Chain A is discontinuous at line 838.\n",
      "  PDBConstructionWarning,\n",
      "/wsu/home/fr/fr15/fr1583/.conda/envs/protein/lib/python3.7/site-packages/Bio/PDB/StructureBuilder.py:92: PDBConstructionWarning: WARNING: Chain B is discontinuous at line 900.\n",
      "  PDBConstructionWarning,\n"
     ]
    },
    {
     "name": "stdout",
     "output_type": "stream",
     "text": [
      "187 2y0t\n",
      "188 2y72\n"
     ]
    },
    {
     "name": "stderr",
     "output_type": "stream",
     "text": [
      "/wsu/home/fr/fr15/fr1583/.conda/envs/protein/lib/python3.7/site-packages/Bio/PDB/StructureBuilder.py:92: PDBConstructionWarning: WARNING: Chain A is discontinuous at line 1323.\n",
      "  PDBConstructionWarning,\n",
      "/wsu/home/fr/fr15/fr1583/.conda/envs/protein/lib/python3.7/site-packages/Bio/PDB/StructureBuilder.py:92: PDBConstructionWarning: WARNING: Chain B is discontinuous at line 1499.\n",
      "  PDBConstructionWarning,\n",
      "/wsu/home/fr/fr15/fr1583/.conda/envs/protein/lib/python3.7/site-packages/Bio/PDB/StructureBuilder.py:92: PDBConstructionWarning: WARNING: Chain A is discontinuous at line 2426.\n",
      "  PDBConstructionWarning,\n",
      "/wsu/home/fr/fr15/fr1583/.conda/envs/protein/lib/python3.7/site-packages/Bio/PDB/StructureBuilder.py:92: PDBConstructionWarning: WARNING: Chain B is discontinuous at line 2729.\n",
      "  PDBConstructionWarning,\n"
     ]
    },
    {
     "name": "stdout",
     "output_type": "stream",
     "text": [
      "189 2y7l\n",
      "190 2y9f\n",
      "191 2ylb\n"
     ]
    },
    {
     "name": "stderr",
     "output_type": "stream",
     "text": [
      "/wsu/home/fr/fr15/fr1583/.conda/envs/protein/lib/python3.7/site-packages/Bio/PDB/StructureBuilder.py:92: PDBConstructionWarning: WARNING: Chain A is discontinuous at line 6853.\n",
      "  PDBConstructionWarning,\n",
      "/wsu/home/fr/fr15/fr1583/.conda/envs/protein/lib/python3.7/site-packages/Bio/PDB/StructureBuilder.py:92: PDBConstructionWarning: WARNING: Chain B is discontinuous at line 6921.\n",
      "  PDBConstructionWarning,\n",
      "/wsu/home/fr/fr15/fr1583/.conda/envs/protein/lib/python3.7/site-packages/Bio/PDB/StructureBuilder.py:92: PDBConstructionWarning: WARNING: Chain C is discontinuous at line 6981.\n",
      "  PDBConstructionWarning,\n",
      "/wsu/home/fr/fr15/fr1583/.conda/envs/protein/lib/python3.7/site-packages/Bio/PDB/StructureBuilder.py:92: PDBConstructionWarning: WARNING: Chain D is discontinuous at line 7048.\n",
      "  PDBConstructionWarning,\n",
      "/wsu/home/fr/fr15/fr1583/.conda/envs/protein/lib/python3.7/site-packages/Bio/PDB/StructureBuilder.py:92: PDBConstructionWarning: WARNING: Chain E is discontinuous at line 7113.\n",
      "  PDBConstructionWarning,\n",
      "/wsu/home/fr/fr15/fr1583/.conda/envs/protein/lib/python3.7/site-packages/Bio/PDB/StructureBuilder.py:92: PDBConstructionWarning: WARNING: Chain F is discontinuous at line 7177.\n",
      "  PDBConstructionWarning,\n"
     ]
    },
    {
     "name": "stdout",
     "output_type": "stream",
     "text": [
      "192 2yny\n"
     ]
    },
    {
     "name": "stderr",
     "output_type": "stream",
     "text": [
      "/wsu/home/fr/fr15/fr1583/.conda/envs/protein/lib/python3.7/site-packages/Bio/PDB/StructureBuilder.py:92: PDBConstructionWarning: WARNING: Chain A is discontinuous at line 2464.\n",
      "  PDBConstructionWarning,\n",
      "/wsu/home/fr/fr15/fr1583/.conda/envs/protein/lib/python3.7/site-packages/Bio/PDB/StructureBuilder.py:92: PDBConstructionWarning: WARNING: Chain B is discontinuous at line 2571.\n",
      "  PDBConstructionWarning,\n",
      "/wsu/home/fr/fr15/fr1583/.conda/envs/protein/lib/python3.7/site-packages/Bio/PDB/StructureBuilder.py:92: PDBConstructionWarning: WARNING: Chain C is discontinuous at line 2654.\n",
      "  PDBConstructionWarning,\n",
      "/wsu/home/fr/fr15/fr1583/.conda/envs/protein/lib/python3.7/site-packages/Bio/PDB/StructureBuilder.py:92: PDBConstructionWarning: WARNING: Chain A is discontinuous at line 3031.\n",
      "  PDBConstructionWarning,\n",
      "/wsu/home/fr/fr15/fr1583/.conda/envs/protein/lib/python3.7/site-packages/Bio/PDB/StructureBuilder.py:92: PDBConstructionWarning: WARNING: Chain B is discontinuous at line 3493.\n",
      "  PDBConstructionWarning,\n"
     ]
    },
    {
     "name": "stdout",
     "output_type": "stream",
     "text": [
      "193 2zcm\n",
      "194 2zu1\n"
     ]
    },
    {
     "name": "stderr",
     "output_type": "stream",
     "text": [
      "/wsu/home/fr/fr15/fr1583/.conda/envs/protein/lib/python3.7/site-packages/Bio/PDB/StructureBuilder.py:92: PDBConstructionWarning: WARNING: Chain A is discontinuous at line 2794.\n",
      "  PDBConstructionWarning,\n",
      "/wsu/home/fr/fr15/fr1583/.conda/envs/protein/lib/python3.7/site-packages/Bio/PDB/StructureBuilder.py:92: PDBConstructionWarning: WARNING: Chain B is discontinuous at line 3123.\n",
      "  PDBConstructionWarning,\n",
      "/wsu/home/fr/fr15/fr1583/.conda/envs/protein/lib/python3.7/site-packages/Bio/PDB/StructureBuilder.py:130: PDBConstructionWarning: WARNING: Residue (' ', 14, ' ') redefined at line 827.\n",
      "  PDBConstructionWarning,\n",
      "/wsu/home/fr/fr15/fr1583/.conda/envs/protein/lib/python3.7/site-packages/Bio/PDB/StructureBuilder.py:130: PDBConstructionWarning: WARNING: Residue (' ', 17, ' ') redefined at line 864.\n",
      "  PDBConstructionWarning,\n",
      "/wsu/home/fr/fr15/fr1583/.conda/envs/protein/lib/python3.7/site-packages/Bio/PDB/StructureBuilder.py:92: PDBConstructionWarning: WARNING: Chain A is discontinuous at line 929.\n",
      "  PDBConstructionWarning,\n",
      "/wsu/home/fr/fr15/fr1583/.conda/envs/protein/lib/python3.7/site-packages/Bio/PDB/StructureBuilder.py:92: PDBConstructionWarning: WARNING: Chain B is discontinuous at line 976.\n",
      "  PDBConstructionWarning,\n",
      "/wsu/home/fr/fr15/fr1583/.conda/envs/protein/lib/python3.7/site-packages/Bio/PDB/StructureBuilder.py:92: PDBConstructionWarning: WARNING: Chain C is discontinuous at line 1025.\n",
      "  PDBConstructionWarning,\n",
      "/wsu/home/fr/fr15/fr1583/.conda/envs/protein/lib/python3.7/site-packages/Bio/PDB/StructureBuilder.py:92: PDBConstructionWarning: WARNING: Chain D is discontinuous at line 1081.\n",
      "  PDBConstructionWarning,\n",
      "/wsu/home/fr/fr15/fr1583/.conda/envs/protein/lib/python3.7/site-packages/Bio/PDB/StructureBuilder.py:92: PDBConstructionWarning: WARNING: Chain E is discontinuous at line 1118.\n",
      "  PDBConstructionWarning,\n",
      "/wsu/home/fr/fr15/fr1583/.conda/envs/protein/lib/python3.7/site-packages/Bio/PDB/StructureBuilder.py:92: PDBConstructionWarning: WARNING: Chain F is discontinuous at line 1161.\n",
      "  PDBConstructionWarning,\n"
     ]
    },
    {
     "name": "stdout",
     "output_type": "stream",
     "text": [
      "195 3a0m\n"
     ]
    },
    {
     "name": "stderr",
     "output_type": "stream",
     "text": [
      "/wsu/home/fr/fr15/fr1583/.conda/envs/protein/lib/python3.7/site-packages/Bio/PDB/StructureBuilder.py:130: PDBConstructionWarning: WARNING: Residue (' ', 14, ' ') redefined at line 827.\n",
      "  PDBConstructionWarning,\n",
      "/wsu/home/fr/fr15/fr1583/.conda/envs/protein/lib/python3.7/site-packages/Bio/PDB/StructureBuilder.py:130: PDBConstructionWarning: WARNING: Residue (' ', 17, ' ') redefined at line 864.\n",
      "  PDBConstructionWarning,\n",
      "/wsu/home/fr/fr15/fr1583/.conda/envs/protein/lib/python3.7/site-packages/Bio/PDB/StructureBuilder.py:92: PDBConstructionWarning: WARNING: Chain A is discontinuous at line 929.\n",
      "  PDBConstructionWarning,\n",
      "/wsu/home/fr/fr15/fr1583/.conda/envs/protein/lib/python3.7/site-packages/Bio/PDB/StructureBuilder.py:92: PDBConstructionWarning: WARNING: Chain B is discontinuous at line 976.\n",
      "  PDBConstructionWarning,\n",
      "/wsu/home/fr/fr15/fr1583/.conda/envs/protein/lib/python3.7/site-packages/Bio/PDB/StructureBuilder.py:92: PDBConstructionWarning: WARNING: Chain C is discontinuous at line 1025.\n",
      "  PDBConstructionWarning,\n",
      "/wsu/home/fr/fr15/fr1583/.conda/envs/protein/lib/python3.7/site-packages/Bio/PDB/StructureBuilder.py:92: PDBConstructionWarning: WARNING: Chain D is discontinuous at line 1081.\n",
      "  PDBConstructionWarning,\n",
      "/wsu/home/fr/fr15/fr1583/.conda/envs/protein/lib/python3.7/site-packages/Bio/PDB/StructureBuilder.py:92: PDBConstructionWarning: WARNING: Chain E is discontinuous at line 1118.\n",
      "  PDBConstructionWarning,\n",
      "/wsu/home/fr/fr15/fr1583/.conda/envs/protein/lib/python3.7/site-packages/Bio/PDB/StructureBuilder.py:92: PDBConstructionWarning: WARNING: Chain F is discontinuous at line 1161.\n",
      "  PDBConstructionWarning,\n"
     ]
    },
    {
     "name": "stdout",
     "output_type": "stream",
     "text": [
      "Found input variables with inconsistent numbers of samples: [148, 150]\n",
      "196 3a7l\n",
      "197 3amc\n"
     ]
    },
    {
     "name": "stderr",
     "output_type": "stream",
     "text": [
      "/wsu/home/fr/fr15/fr1583/.conda/envs/protein/lib/python3.7/site-packages/Bio/PDB/StructureBuilder.py:92: PDBConstructionWarning: WARNING: Chain A is discontinuous at line 5174.\n",
      "  PDBConstructionWarning,\n",
      "/wsu/home/fr/fr15/fr1583/.conda/envs/protein/lib/python3.7/site-packages/Bio/PDB/StructureBuilder.py:92: PDBConstructionWarning: WARNING: Chain B is discontinuous at line 5546.\n",
      "  PDBConstructionWarning,\n"
     ]
    },
    {
     "name": "stdout",
     "output_type": "stream",
     "text": [
      "198 3aub\n"
     ]
    },
    {
     "name": "stderr",
     "output_type": "stream",
     "text": [
      "/wsu/home/fr/fr15/fr1583/.conda/envs/protein/lib/python3.7/site-packages/Bio/PDB/StructureBuilder.py:92: PDBConstructionWarning: WARNING: Chain A is discontinuous at line 902.\n",
      "  PDBConstructionWarning,\n",
      "/wsu/home/fr/fr15/fr1583/.conda/envs/protein/lib/python3.7/site-packages/Bio/PDB/StructureBuilder.py:92: PDBConstructionWarning: WARNING: Chain B is discontinuous at line 1028.\n",
      "  PDBConstructionWarning,\n"
     ]
    },
    {
     "name": "stdout",
     "output_type": "stream",
     "text": [
      "199 3b5o\n",
      "200 3ba1\n",
      "201 3bed\n",
      "202 3bqx\n"
     ]
    },
    {
     "name": "stderr",
     "output_type": "stream",
     "text": [
      "/wsu/home/fr/fr15/fr1583/.conda/envs/protein/lib/python3.7/site-packages/Bio/PDB/StructureBuilder.py:92: PDBConstructionWarning: WARNING: Chain A is discontinuous at line 2025.\n",
      "  PDBConstructionWarning,\n",
      "/wsu/home/fr/fr15/fr1583/.conda/envs/protein/lib/python3.7/site-packages/Bio/PDB/StructureBuilder.py:92: PDBConstructionWarning: WARNING: Chain B is discontinuous at line 2197.\n",
      "  PDBConstructionWarning,\n"
     ]
    },
    {
     "name": "stdout",
     "output_type": "stream",
     "text": [
      "203 3bzq\n",
      "204 3bzz\n",
      "205 3drf\n"
     ]
    },
    {
     "name": "stderr",
     "output_type": "stream",
     "text": [
      "/wsu/home/fr/fr15/fr1583/.conda/envs/protein/lib/python3.7/site-packages/Bio/PDB/StructureBuilder.py:92: PDBConstructionWarning: WARNING: Chain A is discontinuous at line 799.\n",
      "  PDBConstructionWarning,\n",
      "/wsu/home/fr/fr15/fr1583/.conda/envs/protein/lib/python3.7/site-packages/Bio/PDB/StructureBuilder.py:92: PDBConstructionWarning: WARNING: Chain B is discontinuous at line 821.\n",
      "  PDBConstructionWarning,\n",
      "/wsu/home/fr/fr15/fr1583/.conda/envs/protein/lib/python3.7/site-packages/Bio/PDB/StructureBuilder.py:92: PDBConstructionWarning: WARNING: Chain A is discontinuous at line 4397.\n",
      "  PDBConstructionWarning,\n",
      "/wsu/home/fr/fr15/fr1583/.conda/envs/protein/lib/python3.7/site-packages/Bio/PDB/StructureBuilder.py:92: PDBConstructionWarning: WARNING: Chain B is discontinuous at line 5508.\n",
      "  PDBConstructionWarning,\n"
     ]
    },
    {
     "name": "stdout",
     "output_type": "stream",
     "text": [
      "206 3dwv\n"
     ]
    },
    {
     "name": "stderr",
     "output_type": "stream",
     "text": [
      "/wsu/home/fr/fr15/fr1583/.conda/envs/protein/lib/python3.7/site-packages/Bio/PDB/StructureBuilder.py:92: PDBConstructionWarning: WARNING: Chain A is discontinuous at line 2780.\n",
      "  PDBConstructionWarning,\n",
      "/wsu/home/fr/fr15/fr1583/.conda/envs/protein/lib/python3.7/site-packages/Bio/PDB/StructureBuilder.py:92: PDBConstructionWarning: WARNING: Chain B is discontinuous at line 2951.\n",
      "  PDBConstructionWarning,\n",
      "/wsu/home/fr/fr15/fr1583/.conda/envs/protein/lib/python3.7/site-packages/Bio/PDB/StructureBuilder.py:92: PDBConstructionWarning: WARNING: Chain A is discontinuous at line 2780.\n",
      "  PDBConstructionWarning,\n",
      "/wsu/home/fr/fr15/fr1583/.conda/envs/protein/lib/python3.7/site-packages/Bio/PDB/StructureBuilder.py:92: PDBConstructionWarning: WARNING: Chain B is discontinuous at line 2951.\n",
      "  PDBConstructionWarning,\n"
     ]
    },
    {
     "name": "stdout",
     "output_type": "stream",
     "text": [
      "Found input variables with inconsistent numbers of samples: [325, 326]\n",
      "207 3e5t\n",
      "208 3e7r\n",
      "209 3eur\n",
      "210 3f2z\n",
      "211 3f7e\n",
      "212 3fcn\n"
     ]
    },
    {
     "name": "stderr",
     "output_type": "stream",
     "text": [
      "/wsu/home/fr/fr15/fr1583/.conda/envs/protein/lib/python3.7/site-packages/Bio/PDB/StructureBuilder.py:92: PDBConstructionWarning: WARNING: Chain A is discontinuous at line 2148.\n",
      "  PDBConstructionWarning,\n",
      "/wsu/home/fr/fr15/fr1583/.conda/envs/protein/lib/python3.7/site-packages/Bio/PDB/StructureBuilder.py:92: PDBConstructionWarning: WARNING: Chain B is discontinuous at line 2329.\n",
      "  PDBConstructionWarning,\n",
      "/wsu/home/fr/fr15/fr1583/.conda/envs/protein/lib/python3.7/site-packages/Bio/PDB/StructureBuilder.py:92: PDBConstructionWarning: WARNING: Chain A is discontinuous at line 752.\n",
      "  PDBConstructionWarning,\n",
      "/wsu/home/fr/fr15/fr1583/.conda/envs/protein/lib/python3.7/site-packages/Bio/PDB/StructureBuilder.py:92: PDBConstructionWarning: WARNING: Chain L is discontinuous at line 820.\n",
      "  PDBConstructionWarning,\n"
     ]
    },
    {
     "name": "stdout",
     "output_type": "stream",
     "text": [
      "213 3fe7\n",
      "214 3fke\n"
     ]
    },
    {
     "name": "stderr",
     "output_type": "stream",
     "text": [
      "/wsu/home/fr/fr15/fr1583/.conda/envs/protein/lib/python3.7/site-packages/Bio/PDB/StructureBuilder.py:92: PDBConstructionWarning: WARNING: Chain A is discontinuous at line 1938.\n",
      "  PDBConstructionWarning,\n",
      "/wsu/home/fr/fr15/fr1583/.conda/envs/protein/lib/python3.7/site-packages/Bio/PDB/StructureBuilder.py:92: PDBConstructionWarning: WARNING: Chain B is discontinuous at line 2043.\n",
      "  PDBConstructionWarning,\n",
      "/wsu/home/fr/fr15/fr1583/.conda/envs/protein/lib/python3.7/site-packages/Bio/PDB/StructureBuilder.py:92: PDBConstructionWarning: WARNING: Chain A is discontinuous at line 328.\n",
      "  PDBConstructionWarning,\n",
      "/wsu/home/fr/fr15/fr1583/.conda/envs/protein/lib/python3.7/site-packages/Bio/PDB/StructureBuilder.py:92: PDBConstructionWarning: WARNING: Chain B is discontinuous at line 339.\n",
      "  PDBConstructionWarning,\n",
      "/wsu/home/fr/fr15/fr1583/.conda/envs/protein/lib/python3.7/site-packages/Bio/PDB/StructureBuilder.py:92: PDBConstructionWarning: WARNING: Chain C is discontinuous at line 346.\n",
      "  PDBConstructionWarning,\n",
      "/wsu/home/fr/fr15/fr1583/.conda/envs/protein/lib/python3.7/site-packages/Bio/PDB/StructureBuilder.py:92: PDBConstructionWarning: WARNING: Chain D is discontinuous at line 356.\n",
      "  PDBConstructionWarning,\n",
      "/wsu/home/fr/fr15/fr1583/.conda/envs/protein/lib/python3.7/site-packages/Bio/PDB/StructureBuilder.py:92: PDBConstructionWarning: WARNING: Chain E is discontinuous at line 361.\n",
      "  PDBConstructionWarning,\n",
      "/wsu/home/fr/fr15/fr1583/.conda/envs/protein/lib/python3.7/site-packages/Bio/PDB/StructureBuilder.py:92: PDBConstructionWarning: WARNING: Chain F is discontinuous at line 368.\n",
      "  PDBConstructionWarning,\n",
      "/wsu/home/fr/fr15/fr1583/.conda/envs/protein/lib/python3.7/site-packages/Bio/PDB/StructureBuilder.py:92: PDBConstructionWarning: WARNING: Chain G is discontinuous at line 379.\n",
      "  PDBConstructionWarning,\n",
      "/wsu/home/fr/fr15/fr1583/.conda/envs/protein/lib/python3.7/site-packages/Bio/PDB/StructureBuilder.py:92: PDBConstructionWarning: WARNING: Chain H is discontinuous at line 391.\n",
      "  PDBConstructionWarning,\n"
     ]
    },
    {
     "name": "stdout",
     "output_type": "stream",
     "text": [
      "215 3fmy\n",
      "216 3fod\n",
      "217 3fso\n"
     ]
    },
    {
     "name": "stderr",
     "output_type": "stream",
     "text": [
      "/wsu/home/fr/fr15/fr1583/.conda/envs/protein/lib/python3.7/site-packages/Bio/PDB/StructureBuilder.py:92: PDBConstructionWarning: WARNING: Chain A is discontinuous at line 3803.\n",
      "  PDBConstructionWarning,\n",
      "/wsu/home/fr/fr15/fr1583/.conda/envs/protein/lib/python3.7/site-packages/Bio/PDB/StructureBuilder.py:92: PDBConstructionWarning: WARNING: Chain B is discontinuous at line 3945.\n",
      "  PDBConstructionWarning,\n"
     ]
    },
    {
     "name": "stdout",
     "output_type": "stream",
     "text": [
      "218 3ftd\n",
      "219 3fva\n"
     ]
    },
    {
     "name": "stderr",
     "output_type": "stream",
     "text": [
      "/wsu/home/fr/fr15/fr1583/K/NMAcomp/multiscale.py:88: RuntimeWarning: divide by zero encountered in true_divide\n",
      "  reg.fit(mu_n.T,1/bfactor)\n",
      "/wsu/home/fr/fr15/fr1583/.conda/envs/protein/lib/python3.7/site-packages/Bio/PDB/StructureBuilder.py:92: PDBConstructionWarning: WARNING: Chain A is discontinuous at line 3196.\n",
      "  PDBConstructionWarning,\n"
     ]
    },
    {
     "name": "stdout",
     "output_type": "stream",
     "text": [
      "Input contains NaN, infinity or a value too large for dtype('float64').\n",
      "220 3g1s\n"
     ]
    },
    {
     "name": "stderr",
     "output_type": "stream",
     "text": [
      "/wsu/home/fr/fr15/fr1583/.conda/envs/protein/lib/python3.7/site-packages/Bio/PDB/StructureBuilder.py:92: PDBConstructionWarning: WARNING: Chain B is discontinuous at line 3356.\n",
      "  PDBConstructionWarning,\n"
     ]
    },
    {
     "name": "stdout",
     "output_type": "stream",
     "text": [
      "221 3gbw\n",
      "222 3ghj\n",
      "223 3hfo\n",
      "224 3hhp\n"
     ]
    },
    {
     "name": "stderr",
     "output_type": "stream",
     "text": [
      "/wsu/home/fr/fr15/fr1583/.conda/envs/protein/lib/python3.7/site-packages/Bio/PDB/StructureBuilder.py:92: PDBConstructionWarning: WARNING: Chain A is discontinuous at line 1630.\n",
      "  PDBConstructionWarning,\n",
      "/wsu/home/fr/fr15/fr1583/.conda/envs/protein/lib/python3.7/site-packages/Bio/PDB/StructureBuilder.py:92: PDBConstructionWarning: WARNING: Chain B is discontinuous at line 1730.\n",
      "  PDBConstructionWarning,\n",
      "/wsu/home/fr/fr15/fr1583/.conda/envs/protein/lib/python3.7/site-packages/Bio/PDB/StructureBuilder.py:92: PDBConstructionWarning: WARNING: Chain C is discontinuous at line 1825.\n",
      "  PDBConstructionWarning,\n",
      "/wsu/home/fr/fr15/fr1583/.conda/envs/protein/lib/python3.7/site-packages/Bio/PDB/StructureBuilder.py:92: PDBConstructionWarning: WARNING: Chain A is discontinuous at line 9464.\n",
      "  PDBConstructionWarning,\n",
      "/wsu/home/fr/fr15/fr1583/.conda/envs/protein/lib/python3.7/site-packages/Bio/PDB/StructureBuilder.py:92: PDBConstructionWarning: WARNING: Chain B is discontinuous at line 9583.\n",
      "  PDBConstructionWarning,\n",
      "/wsu/home/fr/fr15/fr1583/.conda/envs/protein/lib/python3.7/site-packages/Bio/PDB/StructureBuilder.py:92: PDBConstructionWarning: WARNING: Chain C is discontinuous at line 9714.\n",
      "  PDBConstructionWarning,\n",
      "/wsu/home/fr/fr15/fr1583/.conda/envs/protein/lib/python3.7/site-packages/Bio/PDB/StructureBuilder.py:92: PDBConstructionWarning: WARNING: Chain D is discontinuous at line 9857.\n",
      "  PDBConstructionWarning,\n"
     ]
    },
    {
     "name": "stdout",
     "output_type": "stream",
     "text": [
      "skipped\n",
      "225 3hny\n",
      "226 3hp4\n",
      "227 3hwu\n",
      "228 3hyd\n",
      "229 3hz8\n",
      "230 3i2v\n",
      "231 3i2z\n",
      "232 3i4o\n"
     ]
    },
    {
     "name": "stderr",
     "output_type": "stream",
     "text": [
      "/wsu/home/fr/fr15/fr1583/.conda/envs/protein/lib/python3.7/site-packages/Bio/PDB/StructureBuilder.py:92: PDBConstructionWarning: WARNING: Chain B is discontinuous at line 1073.\n",
      "  PDBConstructionWarning,\n",
      "/wsu/home/fr/fr15/fr1583/.conda/envs/protein/lib/python3.7/site-packages/Bio/PDB/StructureBuilder.py:92: PDBConstructionWarning: WARNING: Chain A is discontinuous at line 1106.\n",
      "  PDBConstructionWarning,\n",
      "/wsu/home/fr/fr15/fr1583/.conda/envs/protein/lib/python3.7/site-packages/Bio/PDB/StructureBuilder.py:92: PDBConstructionWarning: WARNING: Chain A is discontinuous at line 1255.\n",
      "  PDBConstructionWarning,\n",
      "/wsu/home/fr/fr15/fr1583/.conda/envs/protein/lib/python3.7/site-packages/Bio/PDB/StructureBuilder.py:92: PDBConstructionWarning: WARNING: Chain B is discontinuous at line 1352.\n",
      "  PDBConstructionWarning,\n",
      "/wsu/home/fr/fr15/fr1583/.conda/envs/protein/lib/python3.7/site-packages/Bio/PDB/StructureBuilder.py:92: PDBConstructionWarning: WARNING: Chain A is discontinuous at line 1363.\n",
      "  PDBConstructionWarning,\n",
      "/wsu/home/fr/fr15/fr1583/.conda/envs/protein/lib/python3.7/site-packages/Bio/PDB/StructureBuilder.py:92: PDBConstructionWarning: WARNING: Chain B is discontinuous at line 1468.\n",
      "  PDBConstructionWarning,\n"
     ]
    },
    {
     "name": "stdout",
     "output_type": "stream",
     "text": [
      "233 3i7m\n",
      "234 3ihs\n",
      "235 3ivv\n"
     ]
    },
    {
     "name": "stderr",
     "output_type": "stream",
     "text": [
      "/wsu/home/fr/fr15/fr1583/.conda/envs/protein/lib/python3.7/site-packages/Bio/PDB/StructureBuilder.py:92: PDBConstructionWarning: WARNING: Chain A is discontinuous at line 1286.\n",
      "  PDBConstructionWarning,\n",
      "/wsu/home/fr/fr15/fr1583/.conda/envs/protein/lib/python3.7/site-packages/Bio/PDB/StructureBuilder.py:92: PDBConstructionWarning: WARNING: Chain D is discontinuous at line 1487.\n",
      "  PDBConstructionWarning,\n",
      "/wsu/home/fr/fr15/fr1583/.conda/envs/protein/lib/python3.7/site-packages/Bio/PDB/StructureBuilder.py:92: PDBConstructionWarning: WARNING: Chain A is discontinuous at line 1286.\n",
      "  PDBConstructionWarning,\n",
      "/wsu/home/fr/fr15/fr1583/.conda/envs/protein/lib/python3.7/site-packages/Bio/PDB/StructureBuilder.py:92: PDBConstructionWarning: WARNING: Chain D is discontinuous at line 1487.\n",
      "  PDBConstructionWarning,\n"
     ]
    },
    {
     "name": "stdout",
     "output_type": "stream",
     "text": [
      "Found input variables with inconsistent numbers of samples: [149, 150]\n",
      "236 3k6y\n",
      "237 3kbe\n",
      "238 3kgk\n"
     ]
    },
    {
     "name": "stderr",
     "output_type": "stream",
     "text": [
      "/wsu/home/fr/fr15/fr1583/.conda/envs/protein/lib/python3.7/site-packages/Bio/PDB/StructureBuilder.py:92: PDBConstructionWarning: WARNING: Chain A is discontinuous at line 1492.\n",
      "  PDBConstructionWarning,\n",
      "/wsu/home/fr/fr15/fr1583/.conda/envs/protein/lib/python3.7/site-packages/Bio/PDB/StructureBuilder.py:92: PDBConstructionWarning: WARNING: Chain B is discontinuous at line 1629.\n",
      "  PDBConstructionWarning,\n"
     ]
    },
    {
     "name": "stdout",
     "output_type": "stream",
     "text": [
      "239 3kzd\n",
      "240 3l41\n"
     ]
    },
    {
     "name": "stderr",
     "output_type": "stream",
     "text": [
      "/wsu/home/fr/fr15/fr1583/.conda/envs/protein/lib/python3.7/site-packages/Bio/PDB/StructureBuilder.py:92: PDBConstructionWarning: WARNING: Chain A is discontinuous at line 1745.\n",
      "  PDBConstructionWarning,\n",
      "/wsu/home/fr/fr15/fr1583/.conda/envs/protein/lib/python3.7/site-packages/Bio/PDB/StructureBuilder.py:92: PDBConstructionWarning: WARNING: Chain B is discontinuous at line 2150.\n",
      "  PDBConstructionWarning,\n"
     ]
    },
    {
     "name": "stdout",
     "output_type": "stream",
     "text": [
      "241 3laa\n",
      "242 3lax\n",
      "243 3lg3\n"
     ]
    },
    {
     "name": "stderr",
     "output_type": "stream",
     "text": [
      "/wsu/home/fr/fr15/fr1583/.conda/envs/protein/lib/python3.7/site-packages/Bio/PDB/StructureBuilder.py:92: PDBConstructionWarning: WARNING: Chain A is discontinuous at line 6699.\n",
      "  PDBConstructionWarning,\n",
      "/wsu/home/fr/fr15/fr1583/.conda/envs/protein/lib/python3.7/site-packages/Bio/PDB/StructureBuilder.py:92: PDBConstructionWarning: WARNING: Chain B is discontinuous at line 7316.\n",
      "  PDBConstructionWarning,\n"
     ]
    },
    {
     "name": "stdout",
     "output_type": "stream",
     "text": [
      "244 3lji\n",
      "245 3m3p\n",
      "246 3m8j\n",
      "247 3m9j\n"
     ]
    },
    {
     "name": "stderr",
     "output_type": "stream",
     "text": [
      "/wsu/home/fr/fr15/fr1583/.conda/envs/protein/lib/python3.7/site-packages/Bio/PDB/StructureBuilder.py:92: PDBConstructionWarning: WARNING: Chain A is discontinuous at line 1396.\n",
      "  PDBConstructionWarning,\n",
      "/wsu/home/fr/fr15/fr1583/.conda/envs/protein/lib/python3.7/site-packages/Bio/PDB/StructureBuilder.py:92: PDBConstructionWarning: WARNING: Chain B is discontinuous at line 1463.\n",
      "  PDBConstructionWarning,\n",
      "/wsu/home/fr/fr15/fr1583/.conda/envs/protein/lib/python3.7/site-packages/Bio/PDB/StructureBuilder.py:92: PDBConstructionWarning: WARNING: Chain A is discontinuous at line 1955.\n",
      "  PDBConstructionWarning,\n",
      "/wsu/home/fr/fr15/fr1583/.conda/envs/protein/lib/python3.7/site-packages/Bio/PDB/StructureBuilder.py:92: PDBConstructionWarning: WARNING: Chain B is discontinuous at line 2057.\n",
      "  PDBConstructionWarning,\n"
     ]
    },
    {
     "name": "stdout",
     "output_type": "stream",
     "text": [
      "248 3m9q\n"
     ]
    },
    {
     "name": "stderr",
     "output_type": "stream",
     "text": [
      "/wsu/home/fr/fr15/fr1583/.conda/envs/protein/lib/python3.7/site-packages/Bio/PDB/StructureBuilder.py:92: PDBConstructionWarning: WARNING: Chain A is discontinuous at line 1577.\n",
      "  PDBConstructionWarning,\n",
      "/wsu/home/fr/fr15/fr1583/.conda/envs/protein/lib/python3.7/site-packages/Bio/PDB/StructureBuilder.py:92: PDBConstructionWarning: WARNING: Chain B is discontinuous at line 1849.\n",
      "  PDBConstructionWarning,\n",
      "/wsu/home/fr/fr15/fr1583/.conda/envs/protein/lib/python3.7/site-packages/Bio/PDB/StructureBuilder.py:92: PDBConstructionWarning: WARNING: Chain A is discontinuous at line 1417.\n",
      "  PDBConstructionWarning,\n",
      "/wsu/home/fr/fr15/fr1583/.conda/envs/protein/lib/python3.7/site-packages/Bio/PDB/StructureBuilder.py:92: PDBConstructionWarning: WARNING: Chain B is discontinuous at line 1519.\n",
      "  PDBConstructionWarning,\n",
      "/wsu/home/fr/fr15/fr1583/.conda/envs/protein/lib/python3.7/site-packages/Bio/PDB/StructureBuilder.py:92: PDBConstructionWarning: WARNING: Chain A is discontinuous at line 91.\n",
      "  PDBConstructionWarning,\n",
      "/wsu/home/fr/fr15/fr1583/.conda/envs/protein/lib/python3.7/site-packages/Bio/PDB/StructureBuilder.py:92: PDBConstructionWarning: WARNING: Chain B is discontinuous at line 97.\n",
      "  PDBConstructionWarning,\n",
      "/wsu/home/fr/fr15/fr1583/.conda/envs/protein/lib/python3.7/site-packages/Bio/PDB/StructureBuilder.py:92: PDBConstructionWarning: WARNING: Chain A is discontinuous at line 93.\n",
      "  PDBConstructionWarning,\n",
      "/wsu/home/fr/fr15/fr1583/.conda/envs/protein/lib/python3.7/site-packages/Bio/PDB/StructureBuilder.py:92: PDBConstructionWarning: WARNING: Chain B is discontinuous at line 96.\n",
      "  PDBConstructionWarning,\n"
     ]
    },
    {
     "name": "stdout",
     "output_type": "stream",
     "text": [
      "249 3mab\n",
      "250 3md4\n",
      "251 3md5\n",
      "252 3mea\n"
     ]
    },
    {
     "name": "stderr",
     "output_type": "stream",
     "text": [
      "/wsu/home/fr/fr15/fr1583/.conda/envs/protein/lib/python3.7/site-packages/Bio/PDB/StructureBuilder.py:92: PDBConstructionWarning: WARNING: Chain A is discontinuous at line 1317.\n",
      "  PDBConstructionWarning,\n",
      "/wsu/home/fr/fr15/fr1583/.conda/envs/protein/lib/python3.7/site-packages/Bio/PDB/StructureBuilder.py:92: PDBConstructionWarning: WARNING: Chain B is discontinuous at line 1473.\n",
      "  PDBConstructionWarning,\n",
      "/wsu/home/fr/fr15/fr1583/.conda/envs/protein/lib/python3.7/site-packages/Bio/PDB/StructureBuilder.py:92: PDBConstructionWarning: WARNING: Chain A is discontinuous at line 3038.\n",
      "  PDBConstructionWarning,\n",
      "/wsu/home/fr/fr15/fr1583/.conda/envs/protein/lib/python3.7/site-packages/Bio/PDB/StructureBuilder.py:92: PDBConstructionWarning: WARNING: Chain B is discontinuous at line 3101.\n",
      "  PDBConstructionWarning,\n",
      "/wsu/home/fr/fr15/fr1583/.conda/envs/protein/lib/python3.7/site-packages/Bio/PDB/StructureBuilder.py:92: PDBConstructionWarning: WARNING: Chain C is discontinuous at line 3169.\n",
      "  PDBConstructionWarning,\n",
      "/wsu/home/fr/fr15/fr1583/.conda/envs/protein/lib/python3.7/site-packages/Bio/PDB/StructureBuilder.py:92: PDBConstructionWarning: WARNING: Chain D is discontinuous at line 3215.\n",
      "  PDBConstructionWarning,\n",
      "/wsu/home/fr/fr15/fr1583/.conda/envs/protein/lib/python3.7/site-packages/Bio/PDB/StructureBuilder.py:92: PDBConstructionWarning: WARNING: Chain E is discontinuous at line 3267.\n",
      "  PDBConstructionWarning,\n",
      "/wsu/home/fr/fr15/fr1583/.conda/envs/protein/lib/python3.7/site-packages/Bio/PDB/StructureBuilder.py:92: PDBConstructionWarning: WARNING: Chain F is discontinuous at line 3300.\n",
      "  PDBConstructionWarning,\n",
      "/wsu/home/fr/fr15/fr1583/.conda/envs/protein/lib/python3.7/site-packages/Bio/PDB/StructureBuilder.py:92: PDBConstructionWarning: WARNING: Chain G is discontinuous at line 3326.\n",
      "  PDBConstructionWarning,\n",
      "/wsu/home/fr/fr15/fr1583/.conda/envs/protein/lib/python3.7/site-packages/Bio/PDB/StructureBuilder.py:92: PDBConstructionWarning: WARNING: Chain H is discontinuous at line 3332.\n",
      "  PDBConstructionWarning,\n",
      "/wsu/home/fr/fr15/fr1583/.conda/envs/protein/lib/python3.7/site-packages/Bio/PDB/StructureBuilder.py:92: PDBConstructionWarning: WARNING: Chain I is discontinuous at line 3357.\n",
      "  PDBConstructionWarning,\n",
      "/wsu/home/fr/fr15/fr1583/.conda/envs/protein/lib/python3.7/site-packages/Bio/PDB/StructureBuilder.py:92: PDBConstructionWarning: WARNING: Chain J is discontinuous at line 3367.\n",
      "  PDBConstructionWarning,\n",
      "/wsu/home/fr/fr15/fr1583/.conda/envs/protein/lib/python3.7/site-packages/Bio/PDB/StructureBuilder.py:92: PDBConstructionWarning: WARNING: Chain K is discontinuous at line 3373.\n",
      "  PDBConstructionWarning,\n",
      "/wsu/home/fr/fr15/fr1583/.conda/envs/protein/lib/python3.7/site-packages/Bio/PDB/StructureBuilder.py:92: PDBConstructionWarning: WARNING: Chain L is discontinuous at line 3388.\n",
      "  PDBConstructionWarning,\n"
     ]
    },
    {
     "name": "stdout",
     "output_type": "stream",
     "text": [
      "253 3mgn\n",
      "254 3mre\n"
     ]
    },
    {
     "name": "stderr",
     "output_type": "stream",
     "text": [
      "/wsu/home/fr/fr15/fr1583/.conda/envs/protein/lib/python3.7/site-packages/Bio/PDB/StructureBuilder.py:92: PDBConstructionWarning: WARNING: Chain A is discontinuous at line 3678.\n",
      "  PDBConstructionWarning,\n",
      "/wsu/home/fr/fr15/fr1583/.conda/envs/protein/lib/python3.7/site-packages/Bio/PDB/StructureBuilder.py:92: PDBConstructionWarning: WARNING: Chain B is discontinuous at line 4160.\n",
      "  PDBConstructionWarning,\n",
      "/wsu/home/fr/fr15/fr1583/.conda/envs/protein/lib/python3.7/site-packages/Bio/PDB/StructureBuilder.py:92: PDBConstructionWarning: WARNING: Chain P is discontinuous at line 4348.\n",
      "  PDBConstructionWarning,\n"
     ]
    },
    {
     "name": "stdout",
     "output_type": "stream",
     "text": [
      "255 3n11\n",
      "256 3ne0\n",
      "257 3ngg\n",
      "258 3npv\n"
     ]
    },
    {
     "name": "stderr",
     "output_type": "stream",
     "text": [
      "/wsu/home/fr/fr15/fr1583/.conda/envs/protein/lib/python3.7/site-packages/Bio/PDB/StructureBuilder.py:92: PDBConstructionWarning: WARNING: Chain A is discontinuous at line 732.\n",
      "  PDBConstructionWarning,\n",
      "/wsu/home/fr/fr15/fr1583/.conda/envs/protein/lib/python3.7/site-packages/Bio/PDB/StructureBuilder.py:92: PDBConstructionWarning: WARNING: Chain B is discontinuous at line 797.\n",
      "  PDBConstructionWarning,\n",
      "/wsu/home/fr/fr15/fr1583/.conda/envs/protein/lib/python3.7/site-packages/Bio/PDB/StructureBuilder.py:92: PDBConstructionWarning: WARNING: Chain B is discontinuous at line 3711.\n",
      "  PDBConstructionWarning,\n",
      "/wsu/home/fr/fr15/fr1583/.conda/envs/protein/lib/python3.7/site-packages/Bio/PDB/StructureBuilder.py:92: PDBConstructionWarning: WARNING: Chain A is discontinuous at line 3856.\n",
      "  PDBConstructionWarning,\n"
     ]
    },
    {
     "name": "stdout",
     "output_type": "stream",
     "text": [
      "259 3nvg\n",
      "260 3nzl\n",
      "261 3o0p\n",
      "262 3o5p\n",
      "263 3obq\n",
      "264 3oqy\n"
     ]
    },
    {
     "name": "stderr",
     "output_type": "stream",
     "text": [
      "/wsu/home/fr/fr15/fr1583/.conda/envs/protein/lib/python3.7/site-packages/Bio/PDB/StructureBuilder.py:92: PDBConstructionWarning: WARNING: Chain A is discontinuous at line 1195.\n",
      "  PDBConstructionWarning,\n",
      "/wsu/home/fr/fr15/fr1583/.conda/envs/protein/lib/python3.7/site-packages/Bio/PDB/StructureBuilder.py:92: PDBConstructionWarning: WARNING: Chain B is discontinuous at line 1384.\n",
      "  PDBConstructionWarning,\n",
      "/wsu/home/fr/fr15/fr1583/.conda/envs/protein/lib/python3.7/site-packages/Bio/PDB/StructureBuilder.py:92: PDBConstructionWarning: WARNING: Chain b is discontinuous at line 1848.\n",
      "  PDBConstructionWarning,\n",
      "/wsu/home/fr/fr15/fr1583/.conda/envs/protein/lib/python3.7/site-packages/Bio/PDB/StructureBuilder.py:92: PDBConstructionWarning: WARNING: Chain B is discontinuous at line 1885.\n",
      "  PDBConstructionWarning,\n",
      "/wsu/home/fr/fr15/fr1583/.conda/envs/protein/lib/python3.7/site-packages/Bio/PDB/StructureBuilder.py:92: PDBConstructionWarning: WARNING: Chain a is discontinuous at line 2033.\n",
      "  PDBConstructionWarning,\n",
      "/wsu/home/fr/fr15/fr1583/.conda/envs/protein/lib/python3.7/site-packages/Bio/PDB/StructureBuilder.py:92: PDBConstructionWarning: WARNING: Chain A is discontinuous at line 2063.\n",
      "  PDBConstructionWarning,\n"
     ]
    },
    {
     "name": "stdout",
     "output_type": "stream",
     "text": [
      "265 3p6j\n",
      "266 3pd7\n"
     ]
    },
    {
     "name": "stderr",
     "output_type": "stream",
     "text": [
      "/wsu/home/fr/fr15/fr1583/.conda/envs/protein/lib/python3.7/site-packages/Bio/PDB/StructureBuilder.py:92: PDBConstructionWarning: WARNING: Chain A is discontinuous at line 3408.\n",
      "  PDBConstructionWarning,\n",
      "/wsu/home/fr/fr15/fr1583/.conda/envs/protein/lib/python3.7/site-packages/Bio/PDB/StructureBuilder.py:92: PDBConstructionWarning: WARNING: Chain B is discontinuous at line 3587.\n",
      "  PDBConstructionWarning,\n"
     ]
    },
    {
     "name": "stdout",
     "output_type": "stream",
     "text": [
      "267 3pes\n"
     ]
    },
    {
     "name": "stderr",
     "output_type": "stream",
     "text": [
      "/wsu/home/fr/fr15/fr1583/.conda/envs/protein/lib/python3.7/site-packages/Bio/PDB/StructureBuilder.py:92: PDBConstructionWarning: WARNING: Chain A is discontinuous at line 1342.\n",
      "  PDBConstructionWarning,\n",
      "/wsu/home/fr/fr15/fr1583/.conda/envs/protein/lib/python3.7/site-packages/Bio/PDB/StructureBuilder.py:92: PDBConstructionWarning: WARNING: Chain B is discontinuous at line 1505.\n",
      "  PDBConstructionWarning,\n"
     ]
    },
    {
     "name": "stdout",
     "output_type": "stream",
     "text": [
      "268 3pid\n",
      "269 3piw\n",
      "270 3pkv\n",
      "271 3psm\n",
      "272 3ptl\n"
     ]
    },
    {
     "name": "stderr",
     "output_type": "stream",
     "text": [
      "/wsu/home/fr/fr15/fr1583/.conda/envs/protein/lib/python3.7/site-packages/Bio/PDB/StructureBuilder.py:92: PDBConstructionWarning: WARNING: Chain A is discontinuous at line 772.\n",
      "  PDBConstructionWarning,\n",
      "/wsu/home/fr/fr15/fr1583/.conda/envs/protein/lib/python3.7/site-packages/Bio/PDB/StructureBuilder.py:92: PDBConstructionWarning: WARNING: Chain B is discontinuous at line 859.\n",
      "  PDBConstructionWarning,\n",
      "/wsu/home/fr/fr15/fr1583/.conda/envs/protein/lib/python3.7/site-packages/Bio/PDB/StructureBuilder.py:92: PDBConstructionWarning: WARNING: Chain A is discontinuous at line 2101.\n",
      "  PDBConstructionWarning,\n",
      "/wsu/home/fr/fr15/fr1583/.conda/envs/protein/lib/python3.7/site-packages/Bio/PDB/StructureBuilder.py:92: PDBConstructionWarning: WARNING: Chain B is discontinuous at line 2532.\n",
      "  PDBConstructionWarning,\n",
      "/wsu/home/fr/fr15/fr1583/.conda/envs/protein/lib/python3.7/site-packages/Bio/PDB/StructureBuilder.py:92: PDBConstructionWarning: WARNING: Chain A is discontinuous at line 2656.\n",
      "  PDBConstructionWarning,\n",
      "/wsu/home/fr/fr15/fr1583/.conda/envs/protein/lib/python3.7/site-packages/Bio/PDB/StructureBuilder.py:92: PDBConstructionWarning: WARNING: Chain B is discontinuous at line 2788.\n",
      "  PDBConstructionWarning,\n"
     ]
    },
    {
     "name": "stdout",
     "output_type": "stream",
     "text": [
      "273 3pve\n",
      "274 3pz9\n",
      "275 3pzz\n",
      "276 3q2x\n",
      "277 3q6l\n",
      "278 3qds\n"
     ]
    },
    {
     "name": "stderr",
     "output_type": "stream",
     "text": [
      "/wsu/home/fr/fr15/fr1583/.conda/envs/protein/lib/python3.7/site-packages/Bio/PDB/StructureBuilder.py:92: PDBConstructionWarning: WARNING: Chain A is discontinuous at line 76.\n",
      "  PDBConstructionWarning,\n",
      "/wsu/home/fr/fr15/fr1583/.conda/envs/protein/lib/python3.7/site-packages/Bio/PDB/StructureBuilder.py:92: PDBConstructionWarning: WARNING: Chain B is discontinuous at line 79.\n",
      "  PDBConstructionWarning,\n",
      "/wsu/home/fr/fr15/fr1583/.conda/envs/protein/lib/python3.7/site-packages/Bio/PDB/StructureBuilder.py:92: PDBConstructionWarning: WARNING: Chain A is discontinuous at line 2240.\n",
      "  PDBConstructionWarning,\n",
      "/wsu/home/fr/fr15/fr1583/.conda/envs/protein/lib/python3.7/site-packages/Bio/PDB/StructureBuilder.py:92: PDBConstructionWarning: WARNING: Chain B is discontinuous at line 2352.\n",
      "  PDBConstructionWarning,\n"
     ]
    },
    {
     "name": "stdout",
     "output_type": "stream",
     "text": [
      "279 3qpa\n",
      "280 3r6d\n",
      "281 3r87\n",
      "282 3rq9\n"
     ]
    },
    {
     "name": "stderr",
     "output_type": "stream",
     "text": [
      "/wsu/home/fr/fr15/fr1583/.conda/envs/protein/lib/python3.7/site-packages/Bio/PDB/StructureBuilder.py:92: PDBConstructionWarning: WARNING: Chain A is discontinuous at line 1363.\n",
      "  PDBConstructionWarning,\n",
      "/wsu/home/fr/fr15/fr1583/.conda/envs/protein/lib/python3.7/site-packages/Bio/PDB/StructureBuilder.py:92: PDBConstructionWarning: WARNING: Chain B is discontinuous at line 1459.\n",
      "  PDBConstructionWarning,\n",
      "/wsu/home/fr/fr15/fr1583/.conda/envs/protein/lib/python3.7/site-packages/Bio/PDB/StructureBuilder.py:92: PDBConstructionWarning: WARNING: Chain A is discontinuous at line 964.\n",
      "  PDBConstructionWarning,\n",
      "/wsu/home/fr/fr15/fr1583/.conda/envs/protein/lib/python3.7/site-packages/Bio/PDB/StructureBuilder.py:92: PDBConstructionWarning: WARNING: Chain B is discontinuous at line 1052.\n",
      "  PDBConstructionWarning,\n"
     ]
    },
    {
     "name": "stdout",
     "output_type": "stream",
     "text": [
      "283 3ry0\n",
      "284 3rzy\n",
      "285 3s0a\n",
      "286 3sd2\n",
      "287 3seb\n",
      "288 3sed\n",
      "Found input variables with inconsistent numbers of samples: [124, 125]\n",
      "289 3so6\n",
      "290 3sr3\n"
     ]
    },
    {
     "name": "stderr",
     "output_type": "stream",
     "text": [
      "/wsu/home/fr/fr15/fr1583/.conda/envs/protein/lib/python3.7/site-packages/Bio/PDB/StructureBuilder.py:92: PDBConstructionWarning: WARNING: Chain A is discontinuous at line 1217.\n",
      "  PDBConstructionWarning,\n",
      "/wsu/home/fr/fr15/fr1583/.conda/envs/protein/lib/python3.7/site-packages/Bio/PDB/StructureBuilder.py:92: PDBConstructionWarning: WARNING: Chain Q is discontinuous at line 1383.\n",
      "  PDBConstructionWarning,\n",
      "/wsu/home/fr/fr15/fr1583/.conda/envs/protein/lib/python3.7/site-packages/Bio/PDB/StructureBuilder.py:92: PDBConstructionWarning: WARNING: Chain A is discontinuous at line 5075.\n",
      "  PDBConstructionWarning,\n",
      "/wsu/home/fr/fr15/fr1583/.conda/envs/protein/lib/python3.7/site-packages/Bio/PDB/StructureBuilder.py:92: PDBConstructionWarning: WARNING: Chain B is discontinuous at line 5427.\n",
      "  PDBConstructionWarning,\n"
     ]
    },
    {
     "name": "stdout",
     "output_type": "stream",
     "text": [
      "291 3suk\n"
     ]
    },
    {
     "name": "stderr",
     "output_type": "stream",
     "text": [
      "/wsu/home/fr/fr15/fr1583/.conda/envs/protein/lib/python3.7/site-packages/Bio/PDB/StructureBuilder.py:92: PDBConstructionWarning: WARNING: Chain A is discontinuous at line 1803.\n",
      "  PDBConstructionWarning,\n",
      "/wsu/home/fr/fr15/fr1583/.conda/envs/protein/lib/python3.7/site-packages/Bio/PDB/StructureBuilder.py:92: PDBConstructionWarning: WARNING: Chain B is discontinuous at line 1998.\n",
      "  PDBConstructionWarning,\n"
     ]
    },
    {
     "name": "stdout",
     "output_type": "stream",
     "text": [
      "292 3szh\n"
     ]
    },
    {
     "name": "stderr",
     "output_type": "stream",
     "text": [
      "/wsu/home/fr/fr15/fr1583/.conda/envs/protein/lib/python3.7/site-packages/Bio/PDB/StructureBuilder.py:92: PDBConstructionWarning: WARNING: Chain A is discontinuous at line 5510.\n",
      "  PDBConstructionWarning,\n",
      "/wsu/home/fr/fr15/fr1583/.conda/envs/protein/lib/python3.7/site-packages/Bio/PDB/StructureBuilder.py:92: PDBConstructionWarning: WARNING: Chain B is discontinuous at line 5665.\n",
      "  PDBConstructionWarning,\n",
      "/wsu/home/fr/fr15/fr1583/.conda/envs/protein/lib/python3.7/site-packages/Bio/PDB/StructureBuilder.py:92: PDBConstructionWarning: WARNING: Chain C is discontinuous at line 5805.\n",
      "  PDBConstructionWarning,\n",
      "/wsu/home/fr/fr15/fr1583/.conda/envs/protein/lib/python3.7/site-packages/Bio/PDB/StructureBuilder.py:92: PDBConstructionWarning: WARNING: Chain D is discontinuous at line 5941.\n",
      "  PDBConstructionWarning,\n",
      "/wsu/home/fr/fr15/fr1583/.conda/envs/protein/lib/python3.7/site-packages/Bio/PDB/StructureBuilder.py:92: PDBConstructionWarning: WARNING: Chain E is discontinuous at line 6078.\n",
      "  PDBConstructionWarning,\n",
      "/wsu/home/fr/fr15/fr1583/.conda/envs/protein/lib/python3.7/site-packages/Bio/PDB/StructureBuilder.py:92: PDBConstructionWarning: WARNING: Chain F is discontinuous at line 6214.\n",
      "  PDBConstructionWarning,\n"
     ]
    },
    {
     "name": "stdout",
     "output_type": "stream",
     "text": [
      "293 3t0h\n",
      "294 3t3k\n",
      "295 3t47\n"
     ]
    },
    {
     "name": "stderr",
     "output_type": "stream",
     "text": [
      "/wsu/home/fr/fr15/fr1583/.conda/envs/protein/lib/python3.7/site-packages/Bio/PDB/StructureBuilder.py:92: PDBConstructionWarning: WARNING: Chain A is discontinuous at line 2374.\n",
      "  PDBConstructionWarning,\n",
      "/wsu/home/fr/fr15/fr1583/.conda/envs/protein/lib/python3.7/site-packages/Bio/PDB/StructureBuilder.py:92: PDBConstructionWarning: WARNING: Chain B is discontinuous at line 2472.\n",
      "  PDBConstructionWarning,\n"
     ]
    },
    {
     "name": "stdout",
     "output_type": "stream",
     "text": [
      "296 3tdn\n"
     ]
    },
    {
     "name": "stderr",
     "output_type": "stream",
     "text": [
      "/wsu/home/fr/fr15/fr1583/.conda/envs/protein/lib/python3.7/site-packages/Bio/PDB/StructureBuilder.py:92: PDBConstructionWarning: WARNING: Chain A is discontinuous at line 2735.\n",
      "  PDBConstructionWarning,\n",
      "/wsu/home/fr/fr15/fr1583/.conda/envs/protein/lib/python3.7/site-packages/Bio/PDB/StructureBuilder.py:92: PDBConstructionWarning: WARNING: Chain B is discontinuous at line 2819.\n",
      "  PDBConstructionWarning,\n"
     ]
    },
    {
     "name": "stdout",
     "output_type": "stream",
     "text": [
      "297 3tow\n",
      "298 3tua\n",
      "299 3tys\n",
      "300 3u6g\n"
     ]
    },
    {
     "name": "stderr",
     "output_type": "stream",
     "text": [
      "/wsu/home/fr/fr15/fr1583/.conda/envs/protein/lib/python3.7/site-packages/Bio/PDB/StructureBuilder.py:92: PDBConstructionWarning: WARNING: Chain A is discontinuous at line 2011.\n",
      "  PDBConstructionWarning,\n",
      "/wsu/home/fr/fr15/fr1583/.conda/envs/protein/lib/python3.7/site-packages/Bio/PDB/StructureBuilder.py:92: PDBConstructionWarning: WARNING: Chain B is discontinuous at line 2112.\n",
      "  PDBConstructionWarning,\n"
     ]
    },
    {
     "name": "stdout",
     "output_type": "stream",
     "text": [
      "301 3u97\n",
      "302 3uci\n",
      "303 3ur8\n"
     ]
    },
    {
     "name": "stderr",
     "output_type": "stream",
     "text": [
      "/wsu/home/fr/fr15/fr1583/.conda/envs/protein/lib/python3.7/site-packages/Bio/PDB/StructureBuilder.py:92: PDBConstructionWarning: WARNING: Chain A is discontinuous at line 5131.\n",
      "  PDBConstructionWarning,\n",
      "/wsu/home/fr/fr15/fr1583/.conda/envs/protein/lib/python3.7/site-packages/Bio/PDB/StructureBuilder.py:92: PDBConstructionWarning: WARNING: Chain B is discontinuous at line 5559.\n",
      "  PDBConstructionWarning,\n"
     ]
    },
    {
     "name": "stdout",
     "output_type": "stream",
     "text": [
      "304 3us6\n",
      "305 3v1a\n",
      "306 3v75\n",
      "307 3vn0\n",
      "308 3vor\n"
     ]
    },
    {
     "name": "stderr",
     "output_type": "stream",
     "text": [
      "/wsu/home/fr/fr15/fr1583/.conda/envs/protein/lib/python3.7/site-packages/Bio/PDB/StructureBuilder.py:92: PDBConstructionWarning: WARNING: Chain A is discontinuous at line 1690.\n",
      "  PDBConstructionWarning,\n",
      "/wsu/home/fr/fr15/fr1583/.conda/envs/protein/lib/python3.7/site-packages/Bio/PDB/StructureBuilder.py:92: PDBConstructionWarning: WARNING: Chain C is discontinuous at line 1746.\n",
      "  PDBConstructionWarning,\n",
      "/wsu/home/fr/fr15/fr1583/.conda/envs/protein/lib/python3.7/site-packages/Bio/PDB/StructureBuilder.py:92: PDBConstructionWarning: WARNING: Chain B is discontinuous at line 1814.\n",
      "  PDBConstructionWarning,\n",
      "/wsu/home/fr/fr15/fr1583/.conda/envs/protein/lib/python3.7/site-packages/Bio/PDB/StructureBuilder.py:92: PDBConstructionWarning: WARNING: Chain D is discontinuous at line 1878.\n",
      "  PDBConstructionWarning,\n"
     ]
    },
    {
     "name": "stdout",
     "output_type": "stream",
     "text": [
      "309 3vub\n",
      "310 3vvv\n",
      "311 3vz9\n"
     ]
    },
    {
     "name": "stderr",
     "output_type": "stream",
     "text": [
      "/wsu/home/fr/fr15/fr1583/.conda/envs/protein/lib/python3.7/site-packages/Bio/PDB/StructureBuilder.py:92: PDBConstructionWarning: WARNING: Chain B is discontinuous at line 1366.\n",
      "  PDBConstructionWarning,\n",
      "/wsu/home/fr/fr15/fr1583/.conda/envs/protein/lib/python3.7/site-packages/Bio/PDB/StructureBuilder.py:92: PDBConstructionWarning: WARNING: Chain D is discontinuous at line 1527.\n",
      "  PDBConstructionWarning,\n"
     ]
    },
    {
     "name": "stdout",
     "output_type": "stream",
     "text": [
      "312 3w4q\n"
     ]
    },
    {
     "name": "stderr",
     "output_type": "stream",
     "text": [
      "/wsu/home/fr/fr15/fr1583/.conda/envs/protein/lib/python3.7/site-packages/Bio/PDB/StructureBuilder.py:92: PDBConstructionWarning: WARNING: Chain A is discontinuous at line 6039.\n",
      "  PDBConstructionWarning,\n",
      "/wsu/home/fr/fr15/fr1583/.conda/envs/protein/lib/python3.7/site-packages/Bio/PDB/StructureBuilder.py:92: PDBConstructionWarning: WARNING: Chain B is discontinuous at line 6338.\n",
      "  PDBConstructionWarning,\n",
      "/wsu/home/fr/fr15/fr1583/.conda/envs/protein/lib/python3.7/site-packages/Bio/PDB/StructureBuilder.py:92: PDBConstructionWarning: WARNING: Chain C is discontinuous at line 6650.\n",
      "  PDBConstructionWarning,\n",
      "/wsu/home/fr/fr15/fr1583/.conda/envs/protein/lib/python3.7/site-packages/Bio/PDB/StructureBuilder.py:92: PDBConstructionWarning: WARNING: Chain A is discontinuous at line 6039.\n",
      "  PDBConstructionWarning,\n",
      "/wsu/home/fr/fr15/fr1583/.conda/envs/protein/lib/python3.7/site-packages/Bio/PDB/StructureBuilder.py:92: PDBConstructionWarning: WARNING: Chain B is discontinuous at line 6338.\n",
      "  PDBConstructionWarning,\n",
      "/wsu/home/fr/fr15/fr1583/.conda/envs/protein/lib/python3.7/site-packages/Bio/PDB/StructureBuilder.py:92: PDBConstructionWarning: WARNING: Chain C is discontinuous at line 6650.\n",
      "  PDBConstructionWarning,\n"
     ]
    },
    {
     "name": "stdout",
     "output_type": "stream",
     "text": [
      "Found input variables with inconsistent numbers of samples: [773, 774]\n",
      "313 3zbd\n"
     ]
    },
    {
     "name": "stderr",
     "output_type": "stream",
     "text": [
      "/wsu/home/fr/fr15/fr1583/.conda/envs/protein/lib/python3.7/site-packages/Bio/PDB/StructureBuilder.py:92: PDBConstructionWarning: WARNING: Chain A is discontinuous at line 1718.\n",
      "  PDBConstructionWarning,\n",
      "/wsu/home/fr/fr15/fr1583/.conda/envs/protein/lib/python3.7/site-packages/Bio/PDB/StructureBuilder.py:92: PDBConstructionWarning: WARNING: Chain B is discontinuous at line 1839.\n",
      "  PDBConstructionWarning,\n",
      "/wsu/home/fr/fr15/fr1583/.conda/envs/protein/lib/python3.7/site-packages/Bio/PDB/StructureBuilder.py:92: PDBConstructionWarning: WARNING: Chain A is discontinuous at line 1260.\n",
      "  PDBConstructionWarning,\n",
      "/wsu/home/fr/fr15/fr1583/.conda/envs/protein/lib/python3.7/site-packages/Bio/PDB/StructureBuilder.py:92: PDBConstructionWarning: WARNING: Chain B is discontinuous at line 1283.\n",
      "  PDBConstructionWarning,\n"
     ]
    },
    {
     "name": "stdout",
     "output_type": "stream",
     "text": [
      "314 3zit\n",
      "315 3zrx\n"
     ]
    },
    {
     "name": "stderr",
     "output_type": "stream",
     "text": [
      "/wsu/home/fr/fr15/fr1583/.conda/envs/protein/lib/python3.7/site-packages/Bio/PDB/StructureBuilder.py:92: PDBConstructionWarning: WARNING: Chain A is discontinuous at line 1853.\n",
      "  PDBConstructionWarning,\n",
      "/wsu/home/fr/fr15/fr1583/.conda/envs/protein/lib/python3.7/site-packages/Bio/PDB/StructureBuilder.py:92: PDBConstructionWarning: WARNING: Chain B is discontinuous at line 1983.\n",
      "  PDBConstructionWarning,\n"
     ]
    },
    {
     "name": "stdout",
     "output_type": "stream",
     "text": [
      "316 3zsl\n",
      "317 3zzp\n",
      "318 3zzy\n"
     ]
    },
    {
     "name": "stderr",
     "output_type": "stream",
     "text": [
      "/wsu/home/fr/fr15/fr1583/.conda/envs/protein/lib/python3.7/site-packages/Bio/PDB/StructureBuilder.py:92: PDBConstructionWarning: WARNING: Chain A is discontinuous at line 1741.\n",
      "  PDBConstructionWarning,\n",
      "/wsu/home/fr/fr15/fr1583/.conda/envs/protein/lib/python3.7/site-packages/Bio/PDB/StructureBuilder.py:92: PDBConstructionWarning: WARNING: Chain B is discontinuous at line 1846.\n",
      "  PDBConstructionWarning,\n",
      "/wsu/home/fr/fr15/fr1583/.conda/envs/protein/lib/python3.7/site-packages/Bio/PDB/StructureBuilder.py:92: PDBConstructionWarning: WARNING: Chain C is discontinuous at line 1925.\n",
      "  PDBConstructionWarning,\n",
      "/wsu/home/fr/fr15/fr1583/.conda/envs/protein/lib/python3.7/site-packages/Bio/PDB/StructureBuilder.py:92: PDBConstructionWarning: WARNING: Chain D is discontinuous at line 1930.\n",
      "  PDBConstructionWarning,\n"
     ]
    },
    {
     "name": "stdout",
     "output_type": "stream",
     "text": [
      "319 4a02\n",
      "320 4acj\n",
      "321 4ae7\n",
      "322 4am1\n",
      "323 4ann\n",
      "324 4avr\n"
     ]
    },
    {
     "name": "stderr",
     "output_type": "stream",
     "text": [
      "/wsu/home/fr/fr15/fr1583/.conda/envs/protein/lib/python3.7/site-packages/Bio/PDB/StructureBuilder.py:92: PDBConstructionWarning: WARNING: Chain A is discontinuous at line 1455.\n",
      "  PDBConstructionWarning,\n",
      "/wsu/home/fr/fr15/fr1583/.conda/envs/protein/lib/python3.7/site-packages/Bio/PDB/StructureBuilder.py:92: PDBConstructionWarning: WARNING: Chain B is discontinuous at line 1565.\n",
      "  PDBConstructionWarning,\n",
      "/wsu/home/fr/fr15/fr1583/.conda/envs/protein/lib/python3.7/site-packages/Bio/PDB/StructureBuilder.py:92: PDBConstructionWarning: WARNING: Chain A is discontinuous at line 716.\n",
      "  PDBConstructionWarning,\n",
      "/wsu/home/fr/fr15/fr1583/.conda/envs/protein/lib/python3.7/site-packages/Bio/PDB/StructureBuilder.py:92: PDBConstructionWarning: WARNING: Chain B is discontinuous at line 744.\n",
      "  PDBConstructionWarning,\n",
      "/wsu/home/fr/fr15/fr1583/.conda/envs/protein/lib/python3.7/site-packages/Bio/PDB/StructureBuilder.py:92: PDBConstructionWarning: WARNING: Chain C is discontinuous at line 765.\n",
      "  PDBConstructionWarning,\n"
     ]
    },
    {
     "name": "stdout",
     "output_type": "stream",
     "text": [
      "325 4axy\n",
      "326 4b6g\n"
     ]
    },
    {
     "name": "stderr",
     "output_type": "stream",
     "text": [
      "/wsu/home/fr/fr15/fr1583/.conda/envs/protein/lib/python3.7/site-packages/Bio/PDB/StructureBuilder.py:92: PDBConstructionWarning: WARNING: Chain A is discontinuous at line 8842.\n",
      "  PDBConstructionWarning,\n",
      "/wsu/home/fr/fr15/fr1583/.conda/envs/protein/lib/python3.7/site-packages/Bio/PDB/StructureBuilder.py:92: PDBConstructionWarning: WARNING: Chain B is discontinuous at line 9235.\n",
      "  PDBConstructionWarning,\n"
     ]
    },
    {
     "name": "stdout",
     "output_type": "stream",
     "text": [
      "327 4b9g\n"
     ]
    },
    {
     "name": "stderr",
     "output_type": "stream",
     "text": [
      "/wsu/home/fr/fr15/fr1583/.conda/envs/protein/lib/python3.7/site-packages/Bio/PDB/StructureBuilder.py:92: PDBConstructionWarning: WARNING: Chain A is discontinuous at line 4378.\n",
      "  PDBConstructionWarning,\n",
      "/wsu/home/fr/fr15/fr1583/.conda/envs/protein/lib/python3.7/site-packages/Bio/PDB/StructureBuilder.py:92: PDBConstructionWarning: WARNING: Chain B is discontinuous at line 4632.\n",
      "  PDBConstructionWarning,\n"
     ]
    },
    {
     "name": "stdout",
     "output_type": "stream",
     "text": [
      "328 4dd5\n",
      "329 4dkn\n"
     ]
    },
    {
     "name": "stderr",
     "output_type": "stream",
     "text": [
      "/wsu/home/fr/fr15/fr1583/.conda/envs/protein/lib/python3.7/site-packages/Bio/PDB/StructureBuilder.py:92: PDBConstructionWarning: WARNING: Chain A is discontinuous at line 3394.\n",
      "  PDBConstructionWarning,\n",
      "/wsu/home/fr/fr15/fr1583/.conda/envs/protein/lib/python3.7/site-packages/Bio/PDB/StructureBuilder.py:92: PDBConstructionWarning: WARNING: Chain B is discontinuous at line 3649.\n",
      "  PDBConstructionWarning,\n"
     ]
    },
    {
     "name": "stdout",
     "output_type": "stream",
     "text": [
      "330 4dnd\n",
      "331 4dpz\n",
      "Found input variables with inconsistent numbers of samples: [109, 110]\n",
      "332 4dq7\n"
     ]
    },
    {
     "name": "stderr",
     "output_type": "stream",
     "text": [
      "/wsu/home/fr/fr15/fr1583/.conda/envs/protein/lib/python3.7/site-packages/Bio/PDB/StructureBuilder.py:92: PDBConstructionWarning: WARNING: Chain A is discontinuous at line 5214.\n",
      "  PDBConstructionWarning,\n",
      "/wsu/home/fr/fr15/fr1583/.conda/envs/protein/lib/python3.7/site-packages/Bio/PDB/StructureBuilder.py:92: PDBConstructionWarning: WARNING: Chain B is discontinuous at line 5376.\n",
      "  PDBConstructionWarning,\n"
     ]
    },
    {
     "name": "stdout",
     "output_type": "stream",
     "text": [
      "333 4dt4\n",
      "334 4ek3\n",
      "335 4ery\n",
      "336 4es1\n"
     ]
    },
    {
     "name": "stderr",
     "output_type": "stream",
     "text": [
      "/wsu/home/fr/fr15/fr1583/.conda/envs/protein/lib/python3.7/site-packages/Bio/PDB/StructureBuilder.py:92: PDBConstructionWarning: WARNING: Chain A is discontinuous at line 2457.\n",
      "  PDBConstructionWarning,\n",
      "/wsu/home/fr/fr15/fr1583/.conda/envs/protein/lib/python3.7/site-packages/Bio/PDB/StructureBuilder.py:92: PDBConstructionWarning: WARNING: Chain D is discontinuous at line 2961.\n",
      "  PDBConstructionWarning,\n"
     ]
    },
    {
     "name": "stdout",
     "output_type": "stream",
     "text": [
      "337 4eug\n",
      "338 4f01\n"
     ]
    },
    {
     "name": "stderr",
     "output_type": "stream",
     "text": [
      "/wsu/home/fr/fr15/fr1583/.conda/envs/protein/lib/python3.7/site-packages/Bio/PDB/StructureBuilder.py:92: PDBConstructionWarning: WARNING: Chain A is discontinuous at line 3472.\n",
      "  PDBConstructionWarning,\n",
      "/wsu/home/fr/fr15/fr1583/.conda/envs/protein/lib/python3.7/site-packages/Bio/PDB/StructureBuilder.py:92: PDBConstructionWarning: WARNING: Chain B is discontinuous at line 3727.\n",
      "  PDBConstructionWarning,\n"
     ]
    },
    {
     "name": "stdout",
     "output_type": "stream",
     "text": [
      "339 4f3j\n",
      "340 4fr9\n",
      "341 4g14\n",
      "342 4g2e\n",
      "343 4g5x\n"
     ]
    },
    {
     "name": "stderr",
     "output_type": "stream",
     "text": [
      "/wsu/home/fr/fr15/fr1583/.conda/envs/protein/lib/python3.7/site-packages/Bio/PDB/StructureBuilder.py:92: PDBConstructionWarning: WARNING: Chain A is discontinuous at line 4430.\n",
      "  PDBConstructionWarning,\n",
      "/wsu/home/fr/fr15/fr1583/.conda/envs/protein/lib/python3.7/site-packages/Bio/PDB/StructureBuilder.py:92: PDBConstructionWarning: WARNING: Chain B is discontinuous at line 4890.\n",
      "  PDBConstructionWarning,\n"
     ]
    },
    {
     "name": "stdout",
     "output_type": "stream",
     "text": [
      "344 4g6c\n"
     ]
    },
    {
     "name": "stderr",
     "output_type": "stream",
     "text": [
      "/wsu/home/fr/fr15/fr1583/.conda/envs/protein/lib/python3.7/site-packages/Bio/PDB/StructureBuilder.py:92: PDBConstructionWarning: WARNING: Chain A is discontinuous at line 5008.\n",
      "  PDBConstructionWarning,\n",
      "/wsu/home/fr/fr15/fr1583/.conda/envs/protein/lib/python3.7/site-packages/Bio/PDB/StructureBuilder.py:92: PDBConstructionWarning: WARNING: Chain B is discontinuous at line 5343.\n",
      "  PDBConstructionWarning,\n"
     ]
    },
    {
     "name": "stdout",
     "output_type": "stream",
     "text": [
      "345 4g7x\n",
      "346 4ga2\n"
     ]
    },
    {
     "name": "stderr",
     "output_type": "stream",
     "text": [
      "/wsu/home/fr/fr15/fr1583/.conda/envs/protein/lib/python3.7/site-packages/Bio/PDB/StructureBuilder.py:92: PDBConstructionWarning: WARNING: Chain A is discontinuous at line 1658.\n",
      "  PDBConstructionWarning,\n",
      "/wsu/home/fr/fr15/fr1583/.conda/envs/protein/lib/python3.7/site-packages/Bio/PDB/StructureBuilder.py:92: PDBConstructionWarning: WARNING: Chain B is discontinuous at line 1762.\n",
      "  PDBConstructionWarning,\n"
     ]
    },
    {
     "name": "stdout",
     "output_type": "stream",
     "text": [
      "347 4gmq\n",
      "348 4gs3\n",
      "349 4h4j\n",
      "350 4h89\n",
      "351 4hde\n",
      "352 4hjp\n",
      "353 4hwm\n",
      "354 4il7\n",
      "355 4j11\n"
     ]
    },
    {
     "name": "stderr",
     "output_type": "stream",
     "text": [
      "/wsu/home/fr/fr15/fr1583/.conda/envs/protein/lib/python3.7/site-packages/Bio/PDB/StructureBuilder.py:92: PDBConstructionWarning: WARNING: Chain A is discontinuous at line 2946.\n",
      "  PDBConstructionWarning,\n",
      "/wsu/home/fr/fr15/fr1583/.conda/envs/protein/lib/python3.7/site-packages/Bio/PDB/StructureBuilder.py:92: PDBConstructionWarning: WARNING: Chain B is discontinuous at line 3062.\n",
      "  PDBConstructionWarning,\n",
      "/wsu/home/fr/fr15/fr1583/.conda/envs/protein/lib/python3.7/site-packages/Bio/PDB/StructureBuilder.py:92: PDBConstructionWarning: WARNING: Chain C is discontinuous at line 3200.\n",
      "  PDBConstructionWarning,\n",
      "/wsu/home/fr/fr15/fr1583/.conda/envs/protein/lib/python3.7/site-packages/Bio/PDB/StructureBuilder.py:92: PDBConstructionWarning: WARNING: Chain D is discontinuous at line 3304.\n",
      "  PDBConstructionWarning,\n",
      "/wsu/home/fr/fr15/fr1583/.conda/envs/protein/lib/python3.7/site-packages/Bio/PDB/StructureBuilder.py:92: PDBConstructionWarning: WARNING: Chain A is discontinuous at line 1959.\n",
      "  PDBConstructionWarning,\n",
      "/wsu/home/fr/fr15/fr1583/.conda/envs/protein/lib/python3.7/site-packages/Bio/PDB/StructureBuilder.py:92: PDBConstructionWarning: WARNING: Chain B is discontinuous at line 2070.\n",
      "  PDBConstructionWarning,\n"
     ]
    },
    {
     "name": "stdout",
     "output_type": "stream",
     "text": [
      "356 4j5o\n",
      "357 4j5q\n",
      "358 4j78\n"
     ]
    },
    {
     "name": "stderr",
     "output_type": "stream",
     "text": [
      "/wsu/home/fr/fr15/fr1583/.conda/envs/protein/lib/python3.7/site-packages/Bio/PDB/StructureBuilder.py:92: PDBConstructionWarning: WARNING: Chain A is discontinuous at line 2443.\n",
      "  PDBConstructionWarning,\n",
      "/wsu/home/fr/fr15/fr1583/.conda/envs/protein/lib/python3.7/site-packages/Bio/PDB/StructureBuilder.py:92: PDBConstructionWarning: WARNING: Chain B is discontinuous at line 2774.\n",
      "  PDBConstructionWarning,\n"
     ]
    },
    {
     "name": "stdout",
     "output_type": "stream",
     "text": [
      "359 4jg2\n",
      "360 4jvu\n"
     ]
    },
    {
     "name": "stderr",
     "output_type": "stream",
     "text": [
      "/wsu/home/fr/fr15/fr1583/.conda/envs/protein/lib/python3.7/site-packages/Bio/PDB/StructureBuilder.py:92: PDBConstructionWarning: WARNING: Chain A is discontinuous at line 1615.\n",
      "  PDBConstructionWarning,\n",
      "/wsu/home/fr/fr15/fr1583/.conda/envs/protein/lib/python3.7/site-packages/Bio/PDB/StructureBuilder.py:92: PDBConstructionWarning: WARNING: Chain B is discontinuous at line 1775.\n",
      "  PDBConstructionWarning,\n"
     ]
    },
    {
     "name": "stdout",
     "output_type": "stream",
     "text": [
      "361 4jyp\n"
     ]
    },
    {
     "name": "stderr",
     "output_type": "stream",
     "text": [
      "/wsu/home/fr/fr15/fr1583/.conda/envs/protein/lib/python3.7/site-packages/Bio/PDB/StructureBuilder.py:92: PDBConstructionWarning: WARNING: Chain A is discontinuous at line 4233.\n",
      "  PDBConstructionWarning,\n",
      "/wsu/home/fr/fr15/fr1583/.conda/envs/protein/lib/python3.7/site-packages/Bio/PDB/StructureBuilder.py:92: PDBConstructionWarning: WARNING: Chain B is discontinuous at line 4625.\n",
      "  PDBConstructionWarning,\n"
     ]
    },
    {
     "name": "stdout",
     "output_type": "stream",
     "text": [
      "362 4kef\n",
      "363 5cyt\n",
      "364 6rxn\n"
     ]
    }
   ],
   "source": [
    "model = 'mANM'\n",
    "kernel = 'exponential'\n",
    "# with mp.Pool(mp.cpu_count()) as pool:\n",
    "#     pcc_total = pool.starmap(pcc_pool, [(pair,model,kernel) for pair in enumerate(nameset)])\n",
    "\n",
    "\n",
    "pcc_total = calc_save(model,kernel,nameset[:precalc],exclude_long = 1000)\n",
    "pcc_acc5=np.average(pcc_total,axis=0)  "
   ]
  },
  {
   "cell_type": "code",
   "execution_count": 22,
   "metadata": {},
   "outputs": [
    {
     "data": {
      "image/png": "[encoded data removed]",
      "text/plain": [
       "<Figure size 432x288 with 2 Axes>"
      ]
     },
     "metadata": {
      "needs_background": "light"
     },
     "output_type": "display_data"
    }
   ],
   "source": [
    "\n",
    "plt.imshow(pcc_acc5)\n",
    "plt.colorbar()\n",
    "plt.title(f'{model}, {kernel}')\n",
    "plt.show()"
   ]
  },
  {
   "cell_type": "code",
   "execution_count": 23,
   "metadata": {},
   "outputs": [
    {
     "data": {
      "text/plain": [
       "(5, 29)"
      ]
     },
     "execution_count": 23,
     "metadata": {},
     "output_type": "execute_result"
    }
   ],
   "source": [
    "np.unravel_index(np.argmax(pcc_acc5), pcc_acc5.shape)"
   ]
  },
  {
   "cell_type": "code",
   "execution_count": 24,
   "metadata": {},
   "outputs": [
    {
     "data": {
      "text/plain": [
       "0.5469510058390205"
      ]
     },
     "execution_count": 24,
     "metadata": {},
     "output_type": "execute_result"
    }
   ],
   "source": [
    "np.max(pcc_acc5)"
   ]
  },
  {
   "cell_type": "code",
   "execution_count": 25,
   "metadata": {},
   "outputs": [
    {
     "name": "stdout",
     "output_type": "stream",
     "text": [
      "[Errno 17] File exists: './result/mANM_ilf/'\n",
      "0 1aba\n",
      "1 1agn\n"
     ]
    },
    {
     "name": "stderr",
     "output_type": "stream",
     "text": [
      "/wsu/home/fr/fr15/fr1583/.conda/envs/protein/lib/python3.7/site-packages/Bio/PDB/StructureBuilder.py:92: PDBConstructionWarning: WARNING: Chain A is discontinuous at line 11156.\n",
      "  PDBConstructionWarning,\n",
      "/wsu/home/fr/fr15/fr1583/.conda/envs/protein/lib/python3.7/site-packages/Bio/PDB/StructureBuilder.py:92: PDBConstructionWarning: WARNING: Chain B is discontinuous at line 11215.\n",
      "  PDBConstructionWarning,\n",
      "/wsu/home/fr/fr15/fr1583/.conda/envs/protein/lib/python3.7/site-packages/Bio/PDB/StructureBuilder.py:92: PDBConstructionWarning: WARNING: Chain C is discontinuous at line 11280.\n",
      "  PDBConstructionWarning,\n",
      "/wsu/home/fr/fr15/fr1583/.conda/envs/protein/lib/python3.7/site-packages/Bio/PDB/StructureBuilder.py:92: PDBConstructionWarning: WARNING: Chain D is discontinuous at line 11331.\n",
      "  PDBConstructionWarning,\n",
      "/wsu/home/fr/fr15/fr1583/.conda/envs/protein/lib/python3.7/site-packages/Bio/PDB/StructureBuilder.py:92: PDBConstructionWarning: WARNING: Chain A is discontinuous at line 11388.\n",
      "  PDBConstructionWarning,\n",
      "/wsu/home/fr/fr15/fr1583/.conda/envs/protein/lib/python3.7/site-packages/Bio/PDB/StructureBuilder.py:92: PDBConstructionWarning: WARNING: Chain B is discontinuous at line 11389.\n",
      "  PDBConstructionWarning,\n",
      "/wsu/home/fr/fr15/fr1583/.conda/envs/protein/lib/python3.7/site-packages/Bio/PDB/StructureBuilder.py:92: PDBConstructionWarning: WARNING: Chain C is discontinuous at line 11393.\n",
      "  PDBConstructionWarning,\n",
      "/wsu/home/fr/fr15/fr1583/.conda/envs/protein/lib/python3.7/site-packages/Bio/PDB/StructureBuilder.py:92: PDBConstructionWarning: WARNING: Chain D is discontinuous at line 11394.\n",
      "  PDBConstructionWarning,\n"
     ]
    },
    {
     "name": "stdout",
     "output_type": "stream",
     "text": [
      "skipped\n",
      "2 1aho\n",
      "3 1aie\n",
      "4 1akg\n",
      "5 1atg\n",
      "6 1bgf\n",
      "7 1bx7\n",
      "8 1byi\n",
      "9 1ccr\n",
      "10 1cyo\n",
      "11 1df4\n",
      "12 1e5k\n",
      "13 1es5\n",
      "14 1etl\n",
      "15 1etm\n",
      "16 1etn\n",
      "17 1ew4\n",
      "18 1f8r\n"
     ]
    },
    {
     "name": "stderr",
     "output_type": "stream",
     "text": [
      "/wsu/home/fr/fr15/fr1583/.conda/envs/protein/lib/python3.7/site-packages/Bio/PDB/StructureBuilder.py:92: PDBConstructionWarning: WARNING: Chain A is discontinuous at line 15443.\n",
      "  PDBConstructionWarning,\n",
      "/wsu/home/fr/fr15/fr1583/.conda/envs/protein/lib/python3.7/site-packages/Bio/PDB/StructureBuilder.py:92: PDBConstructionWarning: WARNING: Chain B is discontinuous at line 15523.\n",
      "  PDBConstructionWarning,\n",
      "/wsu/home/fr/fr15/fr1583/.conda/envs/protein/lib/python3.7/site-packages/Bio/PDB/StructureBuilder.py:92: PDBConstructionWarning: WARNING: Chain C is discontinuous at line 15603.\n",
      "  PDBConstructionWarning,\n",
      "/wsu/home/fr/fr15/fr1583/.conda/envs/protein/lib/python3.7/site-packages/Bio/PDB/StructureBuilder.py:92: PDBConstructionWarning: WARNING: Chain D is discontinuous at line 15683.\n",
      "  PDBConstructionWarning,\n",
      "/wsu/home/fr/fr15/fr1583/.conda/envs/protein/lib/python3.7/site-packages/Bio/PDB/StructureBuilder.py:92: PDBConstructionWarning: WARNING: Chain A is discontinuous at line 15763.\n",
      "  PDBConstructionWarning,\n",
      "/wsu/home/fr/fr15/fr1583/.conda/envs/protein/lib/python3.7/site-packages/Bio/PDB/StructureBuilder.py:92: PDBConstructionWarning: WARNING: Chain B is discontinuous at line 16229.\n",
      "  PDBConstructionWarning,\n",
      "/wsu/home/fr/fr15/fr1583/.conda/envs/protein/lib/python3.7/site-packages/Bio/PDB/StructureBuilder.py:92: PDBConstructionWarning: WARNING: Chain C is discontinuous at line 16726.\n",
      "  PDBConstructionWarning,\n",
      "/wsu/home/fr/fr15/fr1583/.conda/envs/protein/lib/python3.7/site-packages/Bio/PDB/StructureBuilder.py:92: PDBConstructionWarning: WARNING: Chain D is discontinuous at line 17187.\n",
      "  PDBConstructionWarning,\n"
     ]
    },
    {
     "name": "stdout",
     "output_type": "stream",
     "text": [
      "skipped\n",
      "19 1ff4\n",
      "20 1fk5\n",
      "21 1gco\n"
     ]
    },
    {
     "name": "stderr",
     "output_type": "stream",
     "text": [
      "/wsu/home/fr/fr15/fr1583/.conda/envs/protein/lib/python3.7/site-packages/Bio/PDB/StructureBuilder.py:92: PDBConstructionWarning: WARNING: Chain A is discontinuous at line 7888.\n",
      "  PDBConstructionWarning,\n",
      "/wsu/home/fr/fr15/fr1583/.conda/envs/protein/lib/python3.7/site-packages/Bio/PDB/StructureBuilder.py:92: PDBConstructionWarning: WARNING: Chain B is discontinuous at line 7932.\n",
      "  PDBConstructionWarning,\n",
      "/wsu/home/fr/fr15/fr1583/.conda/envs/protein/lib/python3.7/site-packages/Bio/PDB/StructureBuilder.py:92: PDBConstructionWarning: WARNING: Chain E is discontinuous at line 7976.\n",
      "  PDBConstructionWarning,\n",
      "/wsu/home/fr/fr15/fr1583/.conda/envs/protein/lib/python3.7/site-packages/Bio/PDB/StructureBuilder.py:92: PDBConstructionWarning: WARNING: Chain F is discontinuous at line 8020.\n",
      "  PDBConstructionWarning,\n",
      "/wsu/home/fr/fr15/fr1583/.conda/envs/protein/lib/python3.7/site-packages/Bio/PDB/StructureBuilder.py:92: PDBConstructionWarning: WARNING: Chain A is discontinuous at line 8064.\n",
      "  PDBConstructionWarning,\n",
      "/wsu/home/fr/fr15/fr1583/.conda/envs/protein/lib/python3.7/site-packages/Bio/PDB/StructureBuilder.py:92: PDBConstructionWarning: WARNING: Chain B is discontinuous at line 8206.\n",
      "  PDBConstructionWarning,\n",
      "/wsu/home/fr/fr15/fr1583/.conda/envs/protein/lib/python3.7/site-packages/Bio/PDB/StructureBuilder.py:92: PDBConstructionWarning: WARNING: Chain E is discontinuous at line 8341.\n",
      "  PDBConstructionWarning,\n",
      "/wsu/home/fr/fr15/fr1583/.conda/envs/protein/lib/python3.7/site-packages/Bio/PDB/StructureBuilder.py:92: PDBConstructionWarning: WARNING: Chain F is discontinuous at line 8486.\n",
      "  PDBConstructionWarning,\n"
     ]
    },
    {
     "name": "stdout",
     "output_type": "stream",
     "text": [
      "skipped\n",
      "22 1gk7\n",
      "23 1gvd\n",
      "24 1gxu\n",
      "25 1h6v\n"
     ]
    },
    {
     "name": "stderr",
     "output_type": "stream",
     "text": [
      "/wsu/home/fr/fr15/fr1583/.conda/envs/protein/lib/python3.7/site-packages/Bio/PDB/StructureBuilder.py:92: PDBConstructionWarning: WARNING: Chain A is discontinuous at line 22514.\n",
      "  PDBConstructionWarning,\n",
      "/wsu/home/fr/fr15/fr1583/.conda/envs/protein/lib/python3.7/site-packages/Bio/PDB/StructureBuilder.py:92: PDBConstructionWarning: WARNING: Chain B is discontinuous at line 22606.\n",
      "  PDBConstructionWarning,\n",
      "/wsu/home/fr/fr15/fr1583/.conda/envs/protein/lib/python3.7/site-packages/Bio/PDB/StructureBuilder.py:92: PDBConstructionWarning: WARNING: Chain C is discontinuous at line 22698.\n",
      "  PDBConstructionWarning,\n",
      "/wsu/home/fr/fr15/fr1583/.conda/envs/protein/lib/python3.7/site-packages/Bio/PDB/StructureBuilder.py:92: PDBConstructionWarning: WARNING: Chain D is discontinuous at line 22790.\n",
      "  PDBConstructionWarning,\n",
      "/wsu/home/fr/fr15/fr1583/.conda/envs/protein/lib/python3.7/site-packages/Bio/PDB/StructureBuilder.py:92: PDBConstructionWarning: WARNING: Chain E is discontinuous at line 22882.\n",
      "  PDBConstructionWarning,\n",
      "/wsu/home/fr/fr15/fr1583/.conda/envs/protein/lib/python3.7/site-packages/Bio/PDB/StructureBuilder.py:92: PDBConstructionWarning: WARNING: Chain F is discontinuous at line 22974.\n",
      "  PDBConstructionWarning,\n",
      "/wsu/home/fr/fr15/fr1583/.conda/envs/protein/lib/python3.7/site-packages/Bio/PDB/StructureBuilder.py:92: PDBConstructionWarning: WARNING: Chain A is discontinuous at line 23066.\n",
      "  PDBConstructionWarning,\n",
      "/wsu/home/fr/fr15/fr1583/.conda/envs/protein/lib/python3.7/site-packages/Bio/PDB/StructureBuilder.py:92: PDBConstructionWarning: WARNING: Chain B is discontinuous at line 23067.\n",
      "  PDBConstructionWarning,\n",
      "/wsu/home/fr/fr15/fr1583/.conda/envs/protein/lib/python3.7/site-packages/Bio/PDB/StructureBuilder.py:92: PDBConstructionWarning: WARNING: Chain C is discontinuous at line 23068.\n",
      "  PDBConstructionWarning,\n",
      "/wsu/home/fr/fr15/fr1583/.conda/envs/protein/lib/python3.7/site-packages/Bio/PDB/StructureBuilder.py:92: PDBConstructionWarning: WARNING: Chain D is discontinuous at line 23071.\n",
      "  PDBConstructionWarning,\n",
      "/wsu/home/fr/fr15/fr1583/.conda/envs/protein/lib/python3.7/site-packages/Bio/PDB/StructureBuilder.py:92: PDBConstructionWarning: WARNING: Chain E is discontinuous at line 23072.\n",
      "  PDBConstructionWarning,\n",
      "/wsu/home/fr/fr15/fr1583/.conda/envs/protein/lib/python3.7/site-packages/Bio/PDB/StructureBuilder.py:92: PDBConstructionWarning: WARNING: Chain F is discontinuous at line 23074.\n",
      "  PDBConstructionWarning,\n"
     ]
    },
    {
     "name": "stdout",
     "output_type": "stream",
     "text": [
      "skipped\n",
      "26 1hje\n",
      "27 1i71\n",
      "28 1idp\n",
      "29 1ifr\n",
      "30 1k8u\n",
      "31 1kmm\n"
     ]
    },
    {
     "name": "stderr",
     "output_type": "stream",
     "text": [
      "/wsu/home/fr/fr15/fr1583/.conda/envs/protein/lib/python3.7/site-packages/Bio/PDB/StructureBuilder.py:92: PDBConstructionWarning: WARNING: Chain A is discontinuous at line 14289.\n",
      "  PDBConstructionWarning,\n",
      "/wsu/home/fr/fr15/fr1583/.conda/envs/protein/lib/python3.7/site-packages/Bio/PDB/StructureBuilder.py:92: PDBConstructionWarning: WARNING: Chain B is discontinuous at line 14329.\n",
      "  PDBConstructionWarning,\n",
      "/wsu/home/fr/fr15/fr1583/.conda/envs/protein/lib/python3.7/site-packages/Bio/PDB/StructureBuilder.py:92: PDBConstructionWarning: WARNING: Chain C is discontinuous at line 14369.\n",
      "  PDBConstructionWarning,\n",
      "/wsu/home/fr/fr15/fr1583/.conda/envs/protein/lib/python3.7/site-packages/Bio/PDB/StructureBuilder.py:92: PDBConstructionWarning: WARNING: Chain D is discontinuous at line 14409.\n",
      "  PDBConstructionWarning,\n",
      "/wsu/home/fr/fr15/fr1583/.conda/envs/protein/lib/python3.7/site-packages/Bio/PDB/StructureBuilder.py:92: PDBConstructionWarning: WARNING: Chain A is discontinuous at line 14449.\n",
      "  PDBConstructionWarning,\n",
      "/wsu/home/fr/fr15/fr1583/.conda/envs/protein/lib/python3.7/site-packages/Bio/PDB/StructureBuilder.py:92: PDBConstructionWarning: WARNING: Chain B is discontinuous at line 14494.\n",
      "  PDBConstructionWarning,\n",
      "/wsu/home/fr/fr15/fr1583/.conda/envs/protein/lib/python3.7/site-packages/Bio/PDB/StructureBuilder.py:92: PDBConstructionWarning: WARNING: Chain C is discontinuous at line 14544.\n",
      "  PDBConstructionWarning,\n",
      "/wsu/home/fr/fr15/fr1583/.conda/envs/protein/lib/python3.7/site-packages/Bio/PDB/StructureBuilder.py:92: PDBConstructionWarning: WARNING: Chain D is discontinuous at line 14599.\n",
      "  PDBConstructionWarning,\n"
     ]
    },
    {
     "name": "stdout",
     "output_type": "stream",
     "text": [
      "skipped\n",
      "32 1kng\n",
      "33 1kr4\n",
      "34 1kyc\n",
      "35 1lr7\n",
      "36 1mf7\n",
      "37 1n7e\n",
      "38 1nkd\n",
      "39 1nko\n"
     ]
    },
    {
     "name": "stderr",
     "output_type": "stream",
     "text": [
      "/wsu/home/fr/fr15/fr1583/K/NMAcomp/multiscale.py:88: RuntimeWarning: divide by zero encountered in true_divide\n",
      "  reg.fit(mu_n.T,1/bfactor)\n"
     ]
    },
    {
     "name": "stdout",
     "output_type": "stream",
     "text": [
      "Input contains NaN, infinity or a value too large for dtype('float64').\n",
      "40 1nls\n",
      "41 1nnx\n",
      "42 1noa\n",
      "43 1not\n",
      "44 1o06\n",
      "45 1o08\n",
      "46 1ob4\n",
      "47 1ob7\n",
      "Found input variables with inconsistent numbers of samples: [16, 17]\n",
      "48 1opd\n",
      "49 1p9i\n",
      "50 1pef\n",
      "51 1pen\n",
      "52 1pmy\n",
      "53 1pz4\n",
      "54 1q9b\n",
      "55 1qau\n",
      "56 1qki\n"
     ]
    },
    {
     "name": "stderr",
     "output_type": "stream",
     "text": [
      "/wsu/home/fr/fr15/fr1583/.conda/envs/protein/lib/python3.7/site-packages/Bio/PDB/StructureBuilder.py:92: PDBConstructionWarning: WARNING: Chain A is discontinuous at line 31154.\n",
      "  PDBConstructionWarning,\n",
      "/wsu/home/fr/fr15/fr1583/.conda/envs/protein/lib/python3.7/site-packages/Bio/PDB/StructureBuilder.py:92: PDBConstructionWarning: WARNING: Chain B is discontinuous at line 31207.\n",
      "  PDBConstructionWarning,\n",
      "/wsu/home/fr/fr15/fr1583/.conda/envs/protein/lib/python3.7/site-packages/Bio/PDB/StructureBuilder.py:92: PDBConstructionWarning: WARNING: Chain C is discontinuous at line 31272.\n",
      "  PDBConstructionWarning,\n",
      "/wsu/home/fr/fr15/fr1583/.conda/envs/protein/lib/python3.7/site-packages/Bio/PDB/StructureBuilder.py:92: PDBConstructionWarning: WARNING: Chain D is discontinuous at line 31331.\n",
      "  PDBConstructionWarning,\n",
      "/wsu/home/fr/fr15/fr1583/.conda/envs/protein/lib/python3.7/site-packages/Bio/PDB/StructureBuilder.py:92: PDBConstructionWarning: WARNING: Chain E is discontinuous at line 31384.\n",
      "  PDBConstructionWarning,\n",
      "/wsu/home/fr/fr15/fr1583/.conda/envs/protein/lib/python3.7/site-packages/Bio/PDB/StructureBuilder.py:92: PDBConstructionWarning: WARNING: Chain F is discontinuous at line 31443.\n",
      "  PDBConstructionWarning,\n",
      "/wsu/home/fr/fr15/fr1583/.conda/envs/protein/lib/python3.7/site-packages/Bio/PDB/StructureBuilder.py:92: PDBConstructionWarning: WARNING: Chain G is discontinuous at line 31496.\n",
      "  PDBConstructionWarning,\n",
      "/wsu/home/fr/fr15/fr1583/.conda/envs/protein/lib/python3.7/site-packages/Bio/PDB/StructureBuilder.py:92: PDBConstructionWarning: WARNING: Chain H is discontinuous at line 31555.\n",
      "  PDBConstructionWarning,\n",
      "/wsu/home/fr/fr15/fr1583/.conda/envs/protein/lib/python3.7/site-packages/Bio/PDB/StructureBuilder.py:92: PDBConstructionWarning: WARNING: Chain A is discontinuous at line 31608.\n",
      "  PDBConstructionWarning,\n",
      "/wsu/home/fr/fr15/fr1583/.conda/envs/protein/lib/python3.7/site-packages/Bio/PDB/StructureBuilder.py:92: PDBConstructionWarning: WARNING: Chain B is discontinuous at line 31621.\n",
      "  PDBConstructionWarning,\n",
      "/wsu/home/fr/fr15/fr1583/.conda/envs/protein/lib/python3.7/site-packages/Bio/PDB/StructureBuilder.py:92: PDBConstructionWarning: WARNING: Chain C is discontinuous at line 31630.\n",
      "  PDBConstructionWarning,\n",
      "/wsu/home/fr/fr15/fr1583/.conda/envs/protein/lib/python3.7/site-packages/Bio/PDB/StructureBuilder.py:92: PDBConstructionWarning: WARNING: Chain D is discontinuous at line 31633.\n",
      "  PDBConstructionWarning,\n",
      "/wsu/home/fr/fr15/fr1583/.conda/envs/protein/lib/python3.7/site-packages/Bio/PDB/StructureBuilder.py:92: PDBConstructionWarning: WARNING: Chain E is discontinuous at line 31641.\n",
      "  PDBConstructionWarning,\n",
      "/wsu/home/fr/fr15/fr1583/.conda/envs/protein/lib/python3.7/site-packages/Bio/PDB/StructureBuilder.py:92: PDBConstructionWarning: WARNING: Chain F is discontinuous at line 31652.\n",
      "  PDBConstructionWarning,\n",
      "/wsu/home/fr/fr15/fr1583/.conda/envs/protein/lib/python3.7/site-packages/Bio/PDB/StructureBuilder.py:92: PDBConstructionWarning: WARNING: Chain H is discontinuous at line 31655.\n",
      "  PDBConstructionWarning,\n"
     ]
    },
    {
     "name": "stdout",
     "output_type": "stream",
     "text": [
      "skipped\n",
      "57 1qto\n",
      "58 1r29\n",
      "59 1r7j\n",
      "60 1rju\n",
      "61 1rro\n",
      "62 1sau\n",
      "63 1tgr\n"
     ]
    },
    {
     "name": "stderr",
     "output_type": "stream",
     "text": [
      "/wsu/home/fr/fr15/fr1583/.conda/envs/protein/lib/python3.7/site-packages/Bio/PDB/StructureBuilder.py:92: PDBConstructionWarning: WARNING: Chain A is discontinuous at line 871.\n",
      "  PDBConstructionWarning,\n",
      "/wsu/home/fr/fr15/fr1583/.conda/envs/protein/lib/python3.7/site-packages/Bio/PDB/StructureBuilder.py:92: PDBConstructionWarning: WARNING: Chain B is discontinuous at line 956.\n",
      "  PDBConstructionWarning,\n"
     ]
    },
    {
     "name": "stdout",
     "output_type": "stream",
     "text": [
      "64 1tzv\n",
      "65 1u06\n",
      "66 1u7i\n"
     ]
    },
    {
     "name": "stderr",
     "output_type": "stream",
     "text": [
      "/wsu/home/fr/fr15/fr1583/.conda/envs/protein/lib/python3.7/site-packages/Bio/PDB/StructureBuilder.py:92: PDBConstructionWarning: WARNING: Chain A is discontinuous at line 2136.\n",
      "  PDBConstructionWarning,\n",
      "/wsu/home/fr/fr15/fr1583/.conda/envs/protein/lib/python3.7/site-packages/Bio/PDB/StructureBuilder.py:92: PDBConstructionWarning: WARNING: Chain B is discontinuous at line 2320.\n",
      "  PDBConstructionWarning,\n"
     ]
    },
    {
     "name": "stdout",
     "output_type": "stream",
     "text": [
      "67 1u9c\n",
      "68 1uha\n",
      "69 1uku\n",
      "70 1ulr\n",
      "71 1uoy\n",
      "72 1use\n",
      "73 1usm\n",
      "74 1utg\n",
      "75 1v05\n",
      "76 1v70\n",
      "77 1vrz\n",
      "78 1w2l\n",
      "79 1wbe\n",
      "80 1whi\n",
      "81 1wly\n",
      "82 1wpa\n",
      "83 1x3o\n",
      "84 1xy1\n",
      "85 1xy2\n",
      "86 1y6x\n",
      "87 1yjo\n",
      "88 1yzm\n",
      "89 1z21\n"
     ]
    },
    {
     "name": "stderr",
     "output_type": "stream",
     "text": [
      "/wsu/home/fr/fr15/fr1583/.conda/envs/protein/lib/python3.7/site-packages/Bio/PDB/StructureBuilder.py:92: PDBConstructionWarning: WARNING: Chain A is discontinuous at line 266.\n",
      "  PDBConstructionWarning,\n",
      "/wsu/home/fr/fr15/fr1583/.conda/envs/protein/lib/python3.7/site-packages/Bio/PDB/StructureBuilder.py:92: PDBConstructionWarning: WARNING: Chain B is discontinuous at line 272.\n",
      "  PDBConstructionWarning,\n"
     ]
    },
    {
     "name": "stdout",
     "output_type": "stream",
     "text": [
      "90 1zce\n",
      "91 1zva\n",
      "92 2a50\n"
     ]
    },
    {
     "name": "stderr",
     "output_type": "stream",
     "text": [
      "/wsu/home/fr/fr15/fr1583/.conda/envs/protein/lib/python3.7/site-packages/Bio/PDB/StructureBuilder.py:92: PDBConstructionWarning: WARNING: Chain A is discontinuous at line 3731.\n",
      "  PDBConstructionWarning,\n",
      "/wsu/home/fr/fr15/fr1583/.conda/envs/protein/lib/python3.7/site-packages/Bio/PDB/StructureBuilder.py:92: PDBConstructionWarning: WARNING: Chain B is discontinuous at line 3840.\n",
      "  PDBConstructionWarning,\n",
      "/wsu/home/fr/fr15/fr1583/.conda/envs/protein/lib/python3.7/site-packages/Bio/PDB/StructureBuilder.py:92: PDBConstructionWarning: WARNING: Chain C is discontinuous at line 4077.\n",
      "  PDBConstructionWarning,\n",
      "/wsu/home/fr/fr15/fr1583/.conda/envs/protein/lib/python3.7/site-packages/Bio/PDB/StructureBuilder.py:92: PDBConstructionWarning: WARNING: Chain D is discontinuous at line 4162.\n",
      "  PDBConstructionWarning,\n"
     ]
    },
    {
     "name": "stdout",
     "output_type": "stream",
     "text": [
      "93 2agk\n",
      "94 2ah1\n"
     ]
    },
    {
     "name": "stderr",
     "output_type": "stream",
     "text": [
      "/wsu/home/fr/fr15/fr1583/.conda/envs/protein/lib/python3.7/site-packages/Bio/PDB/StructureBuilder.py:92: PDBConstructionWarning: WARNING: Chain D is discontinuous at line 7269.\n",
      "  PDBConstructionWarning,\n",
      "/wsu/home/fr/fr15/fr1583/.conda/envs/protein/lib/python3.7/site-packages/Bio/PDB/StructureBuilder.py:92: PDBConstructionWarning: WARNING: Chain H is discontinuous at line 7462.\n",
      "  PDBConstructionWarning,\n",
      "/wsu/home/fr/fr15/fr1583/.conda/envs/protein/lib/python3.7/site-packages/Bio/PDB/StructureBuilder.py:92: PDBConstructionWarning: WARNING: Chain A is discontinuous at line 7664.\n",
      "  PDBConstructionWarning,\n",
      "/wsu/home/fr/fr15/fr1583/.conda/envs/protein/lib/python3.7/site-packages/Bio/PDB/StructureBuilder.py:92: PDBConstructionWarning: WARNING: Chain B is discontinuous at line 8375.\n",
      "  PDBConstructionWarning,\n"
     ]
    },
    {
     "name": "stdout",
     "output_type": "stream",
     "text": [
      "95 2b0a\n",
      "96 2bcm\n"
     ]
    },
    {
     "name": "stderr",
     "output_type": "stream",
     "text": [
      "/wsu/home/fr/fr15/fr1583/.conda/envs/protein/lib/python3.7/site-packages/Bio/PDB/StructureBuilder.py:92: PDBConstructionWarning: WARNING: Chain B is discontinuous at line 3135.\n",
      "  PDBConstructionWarning,\n",
      "/wsu/home/fr/fr15/fr1583/.conda/envs/protein/lib/python3.7/site-packages/Bio/PDB/StructureBuilder.py:92: PDBConstructionWarning: WARNING: Chain A is discontinuous at line 3298.\n",
      "  PDBConstructionWarning,\n",
      "/wsu/home/fr/fr15/fr1583/.conda/envs/protein/lib/python3.7/site-packages/Bio/PDB/StructureBuilder.py:92: PDBConstructionWarning: WARNING: Chain C is discontinuous at line 3452.\n",
      "  PDBConstructionWarning,\n"
     ]
    },
    {
     "name": "stdout",
     "output_type": "stream",
     "text": [
      "97 2bf9\n",
      "98 2brf\n",
      "99 2c71\n",
      "100 2ce0\n",
      "101 2cg7\n",
      "102 2cov\n"
     ]
    },
    {
     "name": "stderr",
     "output_type": "stream",
     "text": [
      "/wsu/home/fr/fr15/fr1583/.conda/envs/protein/lib/python3.7/site-packages/Bio/PDB/StructureBuilder.py:92: PDBConstructionWarning: WARNING: Chain D is discontinuous at line 4366.\n",
      "  PDBConstructionWarning,\n",
      "/wsu/home/fr/fr15/fr1583/.conda/envs/protein/lib/python3.7/site-packages/Bio/PDB/StructureBuilder.py:92: PDBConstructionWarning: WARNING: Chain E is discontinuous at line 4481.\n",
      "  PDBConstructionWarning,\n",
      "/wsu/home/fr/fr15/fr1583/.conda/envs/protein/lib/python3.7/site-packages/Bio/PDB/StructureBuilder.py:92: PDBConstructionWarning: WARNING: Chain F is discontinuous at line 4591.\n",
      "  PDBConstructionWarning,\n",
      "/wsu/home/fr/fr15/fr1583/.conda/envs/protein/lib/python3.7/site-packages/Bio/PDB/StructureBuilder.py:92: PDBConstructionWarning: WARNING: Chain G is discontinuous at line 4676.\n",
      "  PDBConstructionWarning,\n",
      "/wsu/home/fr/fr15/fr1583/.conda/envs/protein/lib/python3.7/site-packages/Bio/PDB/StructureBuilder.py:92: PDBConstructionWarning: WARNING: Chain H is discontinuous at line 4763.\n",
      "  PDBConstructionWarning,\n",
      "/wsu/home/fr/fr15/fr1583/.conda/envs/protein/lib/python3.7/site-packages/Bio/PDB/StructureBuilder.py:92: PDBConstructionWarning: WARNING: Chain I is discontinuous at line 4852.\n",
      "  PDBConstructionWarning,\n"
     ]
    },
    {
     "name": "stdout",
     "output_type": "stream",
     "text": [
      "103 2cws\n",
      "104 2d5w\n"
     ]
    },
    {
     "name": "stderr",
     "output_type": "stream",
     "text": [
      "/wsu/home/fr/fr15/fr1583/.conda/envs/protein/lib/python3.7/site-packages/Bio/PDB/StructureBuilder.py:92: PDBConstructionWarning: WARNING: Chain A is discontinuous at line 9772.\n",
      "  PDBConstructionWarning,\n",
      "/wsu/home/fr/fr15/fr1583/.conda/envs/protein/lib/python3.7/site-packages/Bio/PDB/StructureBuilder.py:92: PDBConstructionWarning: WARNING: Chain B is discontinuous at line 10340.\n",
      "  PDBConstructionWarning,\n",
      "/wsu/home/fr/fr15/fr1583/.conda/envs/protein/lib/python3.7/site-packages/Bio/PDB/StructureBuilder.py:92: PDBConstructionWarning: WARNING: Chain C is discontinuous at line 10839.\n",
      "  PDBConstructionWarning,\n",
      "/wsu/home/fr/fr15/fr1583/.conda/envs/protein/lib/python3.7/site-packages/Bio/PDB/StructureBuilder.py:92: PDBConstructionWarning: WARNING: Chain D is discontinuous at line 10841.\n",
      "  PDBConstructionWarning,\n"
     ]
    },
    {
     "name": "stdout",
     "output_type": "stream",
     "text": [
      "skipped\n",
      "105 2dko\n",
      "106 2dpl\n"
     ]
    },
    {
     "name": "stderr",
     "output_type": "stream",
     "text": [
      "/wsu/home/fr/fr15/fr1583/.conda/envs/protein/lib/python3.7/site-packages/Bio/PDB/StructureBuilder.py:92: PDBConstructionWarning: WARNING: Chain A is discontinuous at line 2092.\n",
      "  PDBConstructionWarning,\n",
      "/wsu/home/fr/fr15/fr1583/.conda/envs/protein/lib/python3.7/site-packages/Bio/PDB/StructureBuilder.py:92: PDBConstructionWarning: WARNING: Chain B is discontinuous at line 2311.\n",
      "  PDBConstructionWarning,\n",
      "/wsu/home/fr/fr15/fr1583/.conda/envs/protein/lib/python3.7/site-packages/Bio/PDB/StructureBuilder.py:92: PDBConstructionWarning: WARNING: Chain I is discontinuous at line 2420.\n",
      "  PDBConstructionWarning,\n",
      "/wsu/home/fr/fr15/fr1583/.conda/envs/protein/lib/python3.7/site-packages/Bio/PDB/StructureBuilder.py:92: PDBConstructionWarning: WARNING: Chain A is discontinuous at line 4500.\n",
      "  PDBConstructionWarning,\n",
      "/wsu/home/fr/fr15/fr1583/.conda/envs/protein/lib/python3.7/site-packages/Bio/PDB/StructureBuilder.py:92: PDBConstructionWarning: WARNING: Chain B is discontinuous at line 4993.\n",
      "  PDBConstructionWarning,\n"
     ]
    },
    {
     "name": "stdout",
     "output_type": "stream",
     "text": [
      "107 2dsx\n",
      "108 2e10\n"
     ]
    },
    {
     "name": "stderr",
     "output_type": "stream",
     "text": [
      "/wsu/home/fr/fr15/fr1583/.conda/envs/protein/lib/python3.7/site-packages/Bio/PDB/StructureBuilder.py:92: PDBConstructionWarning: WARNING: Chain A is discontinuous at line 3416.\n",
      "  PDBConstructionWarning,\n",
      "/wsu/home/fr/fr15/fr1583/.conda/envs/protein/lib/python3.7/site-packages/Bio/PDB/StructureBuilder.py:92: PDBConstructionWarning: WARNING: Chain B is discontinuous at line 3697.\n",
      "  PDBConstructionWarning,\n"
     ]
    },
    {
     "name": "stdout",
     "output_type": "stream",
     "text": [
      "109 2e3h\n",
      "110 2eaq\n",
      "111 2ehp\n"
     ]
    },
    {
     "name": "stderr",
     "output_type": "stream",
     "text": [
      "/wsu/home/fr/fr15/fr1583/.conda/envs/protein/lib/python3.7/site-packages/Bio/PDB/StructureBuilder.py:92: PDBConstructionWarning: WARNING: Chain A is discontinuous at line 1891.\n",
      "  PDBConstructionWarning,\n",
      "/wsu/home/fr/fr15/fr1583/.conda/envs/protein/lib/python3.7/site-packages/Bio/PDB/StructureBuilder.py:92: PDBConstructionWarning: WARNING: Chain B is discontinuous at line 1964.\n",
      "  PDBConstructionWarning,\n"
     ]
    },
    {
     "name": "stdout",
     "output_type": "stream",
     "text": [
      "112 2ehs\n",
      "113 2erw\n",
      "114 2etx\n"
     ]
    },
    {
     "name": "stderr",
     "output_type": "stream",
     "text": [
      "/wsu/home/fr/fr15/fr1583/.conda/envs/protein/lib/python3.7/site-packages/Bio/PDB/StructureBuilder.py:92: PDBConstructionWarning: WARNING: Chain A is discontinuous at line 3018.\n",
      "  PDBConstructionWarning,\n",
      "/wsu/home/fr/fr15/fr1583/.conda/envs/protein/lib/python3.7/site-packages/Bio/PDB/StructureBuilder.py:92: PDBConstructionWarning: WARNING: Chain B is discontinuous at line 3222.\n",
      "  PDBConstructionWarning,\n"
     ]
    },
    {
     "name": "stdout",
     "output_type": "stream",
     "text": [
      "115 2fb6\n",
      "116 2fg1\n",
      "117 2fn9\n"
     ]
    },
    {
     "name": "stderr",
     "output_type": "stream",
     "text": [
      "/wsu/home/fr/fr15/fr1583/.conda/envs/protein/lib/python3.7/site-packages/Bio/PDB/StructureBuilder.py:92: PDBConstructionWarning: WARNING: Chain A is discontinuous at line 4362.\n",
      "  PDBConstructionWarning,\n",
      "/wsu/home/fr/fr15/fr1583/.conda/envs/protein/lib/python3.7/site-packages/Bio/PDB/StructureBuilder.py:92: PDBConstructionWarning: WARNING: Chain B is discontinuous at line 4692.\n",
      "  PDBConstructionWarning,\n"
     ]
    },
    {
     "name": "stdout",
     "output_type": "stream",
     "text": [
      "118 2fq3\n",
      "119 2g69\n",
      "120 2g7o\n",
      "121 2g7s\n",
      "122 2gkg\n",
      "123 2gom\n",
      "124 2gxg\n",
      "125 2gzq\n"
     ]
    },
    {
     "name": "stderr",
     "output_type": "stream",
     "text": [
      "/wsu/home/fr/fr15/fr1583/.conda/envs/protein/lib/python3.7/site-packages/Bio/PDB/StructureBuilder.py:92: PDBConstructionWarning: WARNING: Chain A is discontinuous at line 987.\n",
      "  PDBConstructionWarning,\n",
      "/wsu/home/fr/fr15/fr1583/.conda/envs/protein/lib/python3.7/site-packages/Bio/PDB/StructureBuilder.py:92: PDBConstructionWarning: WARNING: Chain B is discontinuous at line 1069.\n",
      "  PDBConstructionWarning,\n"
     ]
    },
    {
     "name": "stdout",
     "output_type": "stream",
     "text": [
      "126 2hqk\n",
      "127 2hyk\n",
      "128 2i24\n",
      "129 2i49\n",
      "130 2ibl\n",
      "131 2igd\n",
      "132 2imf\n",
      "133 2ip6\n",
      "134 2ivy\n",
      "135 2j32\n"
     ]
    },
    {
     "name": "stderr",
     "output_type": "stream",
     "text": [
      "/wsu/home/fr/fr15/fr1583/.conda/envs/protein/lib/python3.7/site-packages/Bio/PDB/StructureBuilder.py:92: PDBConstructionWarning: WARNING: Chain A is discontinuous at line 1971.\n",
      "  PDBConstructionWarning,\n",
      "/wsu/home/fr/fr15/fr1583/.conda/envs/protein/lib/python3.7/site-packages/Bio/PDB/StructureBuilder.py:92: PDBConstructionWarning: WARNING: Chain B is discontinuous at line 2269.\n",
      "  PDBConstructionWarning,\n",
      "/wsu/home/fr/fr15/fr1583/.conda/envs/protein/lib/python3.7/site-packages/Bio/PDB/StructureBuilder.py:92: PDBConstructionWarning: WARNING: Chain A is discontinuous at line 1650.\n",
      "  PDBConstructionWarning,\n",
      "/wsu/home/fr/fr15/fr1583/.conda/envs/protein/lib/python3.7/site-packages/Bio/PDB/StructureBuilder.py:92: PDBConstructionWarning: WARNING: Chain B is discontinuous at line 1722.\n",
      "  PDBConstructionWarning,\n"
     ]
    },
    {
     "name": "stdout",
     "output_type": "stream",
     "text": [
      "136 2j9w\n",
      "137 2jku\n",
      "138 2jli\n",
      "139 2jlj\n",
      "140 2mcm\n",
      "141 2nls\n",
      "142 2nr7\n",
      "143 2nuh\n",
      "144 2o6x\n",
      "145 2oa2\n",
      "146 2oct\n"
     ]
    },
    {
     "name": "stderr",
     "output_type": "stream",
     "text": [
      "/wsu/home/fr/fr15/fr1583/.conda/envs/protein/lib/python3.7/site-packages/Bio/PDB/StructureBuilder.py:92: PDBConstructionWarning: WARNING: Chain A is discontinuous at line 1570.\n",
      "  PDBConstructionWarning,\n",
      "/wsu/home/fr/fr15/fr1583/.conda/envs/protein/lib/python3.7/site-packages/Bio/PDB/StructureBuilder.py:92: PDBConstructionWarning: WARNING: Chain B is discontinuous at line 1656.\n",
      "  PDBConstructionWarning,\n",
      "/wsu/home/fr/fr15/fr1583/.conda/envs/protein/lib/python3.7/site-packages/Bio/PDB/StructureBuilder.py:92: PDBConstructionWarning: WARNING: Chain A is discontinuous at line 1570.\n",
      "  PDBConstructionWarning,\n",
      "/wsu/home/fr/fr15/fr1583/.conda/envs/protein/lib/python3.7/site-packages/Bio/PDB/StructureBuilder.py:92: PDBConstructionWarning: WARNING: Chain B is discontinuous at line 1656.\n",
      "  PDBConstructionWarning,\n",
      "/wsu/home/fr/fr15/fr1583/K/NMAcomp/multiscale.py:88: RuntimeWarning: divide by zero encountered in true_divide\n",
      "  reg.fit(mu_n.T,1/bfactor)\n",
      "/wsu/home/fr/fr15/fr1583/.conda/envs/protein/lib/python3.7/site-packages/Bio/PDB/StructureBuilder.py:92: PDBConstructionWarning: WARNING: Chain A is discontinuous at line 2086.\n",
      "  PDBConstructionWarning,\n",
      "/wsu/home/fr/fr15/fr1583/.conda/envs/protein/lib/python3.7/site-packages/Bio/PDB/StructureBuilder.py:92: PDBConstructionWarning: WARNING: Chain B is discontinuous at line 2146.\n",
      "  PDBConstructionWarning,\n"
     ]
    },
    {
     "name": "stdout",
     "output_type": "stream",
     "text": [
      "Input contains NaN, infinity or a value too large for dtype('float64').\n",
      "147 2ohw\n",
      "148 2okt\n",
      "149 2ol9\n",
      "150 2olx\n",
      "151 2pkt\n",
      "152 2plt\n",
      "153 2pmr\n",
      "154 2pof\n"
     ]
    },
    {
     "name": "stderr",
     "output_type": "stream",
     "text": [
      "/wsu/home/fr/fr15/fr1583/.conda/envs/protein/lib/python3.7/site-packages/Bio/PDB/StructureBuilder.py:92: PDBConstructionWarning: WARNING: Chain A is discontinuous at line 3514.\n",
      "  PDBConstructionWarning,\n",
      "/wsu/home/fr/fr15/fr1583/.conda/envs/protein/lib/python3.7/site-packages/Bio/PDB/StructureBuilder.py:92: PDBConstructionWarning: WARNING: Chain B is discontinuous at line 3676.\n",
      "  PDBConstructionWarning,\n"
     ]
    },
    {
     "name": "stdout",
     "output_type": "stream",
     "text": [
      "155 2ppn\n",
      "156 2psf\n"
     ]
    },
    {
     "name": "stderr",
     "output_type": "stream",
     "text": [
      "/wsu/home/fr/fr15/fr1583/.conda/envs/protein/lib/python3.7/site-packages/Bio/PDB/StructureBuilder.py:92: PDBConstructionWarning: WARNING: Chain A is discontinuous at line 4983.\n",
      "  PDBConstructionWarning,\n",
      "/wsu/home/fr/fr15/fr1583/.conda/envs/protein/lib/python3.7/site-packages/Bio/PDB/StructureBuilder.py:92: PDBConstructionWarning: WARNING: Chain B is discontinuous at line 5408.\n",
      "  PDBConstructionWarning,\n"
     ]
    },
    {
     "name": "stdout",
     "output_type": "stream",
     "text": [
      "157 2pth\n",
      "158 2q4n\n",
      "Found input variables with inconsistent numbers of samples: [181, 1224]\n",
      "159 2q52\n"
     ]
    },
    {
     "name": "stderr",
     "output_type": "stream",
     "text": [
      "/wsu/home/fr/fr15/fr1583/.conda/envs/protein/lib/python3.7/site-packages/Bio/PDB/StructureBuilder.py:92: PDBConstructionWarning: WARNING: Chain A is discontinuous at line 3348.\n",
      "  PDBConstructionWarning,\n",
      "/wsu/home/fr/fr15/fr1583/.conda/envs/protein/lib/python3.7/site-packages/Bio/PDB/StructureBuilder.py:92: PDBConstructionWarning: WARNING: Chain B is discontinuous at line 3549.\n",
      "  PDBConstructionWarning,\n",
      "/wsu/home/fr/fr15/fr1583/.conda/envs/protein/lib/python3.7/site-packages/Bio/PDB/StructureBuilder.py:92: PDBConstructionWarning: WARNING: Chain A is discontinuous at line 7080.\n",
      "  PDBConstructionWarning,\n",
      "/wsu/home/fr/fr15/fr1583/.conda/envs/protein/lib/python3.7/site-packages/Bio/PDB/StructureBuilder.py:92: PDBConstructionWarning: WARNING: Chain B is discontinuous at line 7286.\n",
      "  PDBConstructionWarning,\n",
      "/wsu/home/fr/fr15/fr1583/.conda/envs/protein/lib/python3.7/site-packages/Bio/PDB/StructureBuilder.py:92: PDBConstructionWarning: WARNING: Chain A is discontinuous at line 10812.\n",
      "  PDBConstructionWarning,\n",
      "/wsu/home/fr/fr15/fr1583/.conda/envs/protein/lib/python3.7/site-packages/Bio/PDB/StructureBuilder.py:92: PDBConstructionWarning: WARNING: Chain B is discontinuous at line 11024.\n",
      "  PDBConstructionWarning,\n",
      "/wsu/home/fr/fr15/fr1583/.conda/envs/protein/lib/python3.7/site-packages/Bio/PDB/StructureBuilder.py:92: PDBConstructionWarning: WARNING: Chain A is discontinuous at line 14544.\n",
      "  PDBConstructionWarning,\n",
      "/wsu/home/fr/fr15/fr1583/.conda/envs/protein/lib/python3.7/site-packages/Bio/PDB/StructureBuilder.py:92: PDBConstructionWarning: WARNING: Chain B is discontinuous at line 14746.\n",
      "  PDBConstructionWarning,\n",
      "/wsu/home/fr/fr15/fr1583/.conda/envs/protein/lib/python3.7/site-packages/Bio/PDB/StructureBuilder.py:92: PDBConstructionWarning: WARNING: Chain A is discontinuous at line 18276.\n",
      "  PDBConstructionWarning,\n",
      "/wsu/home/fr/fr15/fr1583/.conda/envs/protein/lib/python3.7/site-packages/Bio/PDB/StructureBuilder.py:92: PDBConstructionWarning: WARNING: Chain B is discontinuous at line 18477.\n",
      "  PDBConstructionWarning,\n",
      "/wsu/home/fr/fr15/fr1583/.conda/envs/protein/lib/python3.7/site-packages/Bio/PDB/StructureBuilder.py:92: PDBConstructionWarning: WARNING: Chain A is discontinuous at line 22008.\n",
      "  PDBConstructionWarning,\n",
      "/wsu/home/fr/fr15/fr1583/.conda/envs/protein/lib/python3.7/site-packages/Bio/PDB/StructureBuilder.py:92: PDBConstructionWarning: WARNING: Chain B is discontinuous at line 22210.\n",
      "  PDBConstructionWarning,\n",
      "/wsu/home/fr/fr15/fr1583/.conda/envs/protein/lib/python3.7/site-packages/Bio/PDB/StructureBuilder.py:92: PDBConstructionWarning: WARNING: Chain A is discontinuous at line 25740.\n",
      "  PDBConstructionWarning,\n",
      "/wsu/home/fr/fr15/fr1583/.conda/envs/protein/lib/python3.7/site-packages/Bio/PDB/StructureBuilder.py:92: PDBConstructionWarning: WARNING: Chain B is discontinuous at line 25944.\n",
      "  PDBConstructionWarning,\n",
      "/wsu/home/fr/fr15/fr1583/.conda/envs/protein/lib/python3.7/site-packages/Bio/PDB/StructureBuilder.py:92: PDBConstructionWarning: WARNING: Chain A is discontinuous at line 29472.\n",
      "  PDBConstructionWarning,\n",
      "/wsu/home/fr/fr15/fr1583/.conda/envs/protein/lib/python3.7/site-packages/Bio/PDB/StructureBuilder.py:92: PDBConstructionWarning: WARNING: Chain B is discontinuous at line 29678.\n",
      "  PDBConstructionWarning,\n",
      "/wsu/home/fr/fr15/fr1583/.conda/envs/protein/lib/python3.7/site-packages/Bio/PDB/StructureBuilder.py:92: PDBConstructionWarning: WARNING: Chain A is discontinuous at line 3348.\n",
      "  PDBConstructionWarning,\n",
      "/wsu/home/fr/fr15/fr1583/.conda/envs/protein/lib/python3.7/site-packages/Bio/PDB/StructureBuilder.py:92: PDBConstructionWarning: WARNING: Chain B is discontinuous at line 3549.\n",
      "  PDBConstructionWarning,\n",
      "/wsu/home/fr/fr15/fr1583/.conda/envs/protein/lib/python3.7/site-packages/Bio/PDB/StructureBuilder.py:92: PDBConstructionWarning: WARNING: Chain A is discontinuous at line 7080.\n",
      "  PDBConstructionWarning,\n",
      "/wsu/home/fr/fr15/fr1583/.conda/envs/protein/lib/python3.7/site-packages/Bio/PDB/StructureBuilder.py:92: PDBConstructionWarning: WARNING: Chain B is discontinuous at line 7286.\n",
      "  PDBConstructionWarning,\n",
      "/wsu/home/fr/fr15/fr1583/.conda/envs/protein/lib/python3.7/site-packages/Bio/PDB/StructureBuilder.py:92: PDBConstructionWarning: WARNING: Chain A is discontinuous at line 10812.\n",
      "  PDBConstructionWarning,\n",
      "/wsu/home/fr/fr15/fr1583/.conda/envs/protein/lib/python3.7/site-packages/Bio/PDB/StructureBuilder.py:92: PDBConstructionWarning: WARNING: Chain B is discontinuous at line 11024.\n",
      "  PDBConstructionWarning,\n",
      "/wsu/home/fr/fr15/fr1583/.conda/envs/protein/lib/python3.7/site-packages/Bio/PDB/StructureBuilder.py:92: PDBConstructionWarning: WARNING: Chain A is discontinuous at line 14544.\n",
      "  PDBConstructionWarning,\n",
      "/wsu/home/fr/fr15/fr1583/.conda/envs/protein/lib/python3.7/site-packages/Bio/PDB/StructureBuilder.py:92: PDBConstructionWarning: WARNING: Chain B is discontinuous at line 14746.\n",
      "  PDBConstructionWarning,\n",
      "/wsu/home/fr/fr15/fr1583/.conda/envs/protein/lib/python3.7/site-packages/Bio/PDB/StructureBuilder.py:92: PDBConstructionWarning: WARNING: Chain A is discontinuous at line 18276.\n",
      "  PDBConstructionWarning,\n",
      "/wsu/home/fr/fr15/fr1583/.conda/envs/protein/lib/python3.7/site-packages/Bio/PDB/StructureBuilder.py:92: PDBConstructionWarning: WARNING: Chain B is discontinuous at line 18477.\n",
      "  PDBConstructionWarning,\n",
      "/wsu/home/fr/fr15/fr1583/.conda/envs/protein/lib/python3.7/site-packages/Bio/PDB/StructureBuilder.py:92: PDBConstructionWarning: WARNING: Chain A is discontinuous at line 22008.\n",
      "  PDBConstructionWarning,\n",
      "/wsu/home/fr/fr15/fr1583/.conda/envs/protein/lib/python3.7/site-packages/Bio/PDB/StructureBuilder.py:92: PDBConstructionWarning: WARNING: Chain B is discontinuous at line 22210.\n",
      "  PDBConstructionWarning,\n",
      "/wsu/home/fr/fr15/fr1583/.conda/envs/protein/lib/python3.7/site-packages/Bio/PDB/StructureBuilder.py:92: PDBConstructionWarning: WARNING: Chain A is discontinuous at line 25740.\n",
      "  PDBConstructionWarning,\n",
      "/wsu/home/fr/fr15/fr1583/.conda/envs/protein/lib/python3.7/site-packages/Bio/PDB/StructureBuilder.py:92: PDBConstructionWarning: WARNING: Chain B is discontinuous at line 25944.\n",
      "  PDBConstructionWarning,\n",
      "/wsu/home/fr/fr15/fr1583/.conda/envs/protein/lib/python3.7/site-packages/Bio/PDB/StructureBuilder.py:92: PDBConstructionWarning: WARNING: Chain A is discontinuous at line 29472.\n",
      "  PDBConstructionWarning,\n",
      "/wsu/home/fr/fr15/fr1583/.conda/envs/protein/lib/python3.7/site-packages/Bio/PDB/StructureBuilder.py:92: PDBConstructionWarning: WARNING: Chain B is discontinuous at line 29678.\n",
      "  PDBConstructionWarning,\n"
     ]
    },
    {
     "name": "stdout",
     "output_type": "stream",
     "text": [
      "Found input variables with inconsistent numbers of samples: [480, 3296]\n",
      "160 2qjl\n",
      "161 2r16\n",
      "162 2r6q\n",
      "163 2rb8\n",
      "164 2re2\n"
     ]
    },
    {
     "name": "stderr",
     "output_type": "stream",
     "text": [
      "/wsu/home/fr/fr15/fr1583/.conda/envs/protein/lib/python3.7/site-packages/Bio/PDB/StructureBuilder.py:92: PDBConstructionWarning: WARNING: Chain A is discontinuous at line 1898.\n",
      "  PDBConstructionWarning,\n",
      "/wsu/home/fr/fr15/fr1583/.conda/envs/protein/lib/python3.7/site-packages/Bio/PDB/StructureBuilder.py:92: PDBConstructionWarning: WARNING: Chain B is discontinuous at line 2061.\n",
      "  PDBConstructionWarning,\n"
     ]
    },
    {
     "name": "stdout",
     "output_type": "stream",
     "text": [
      "165 2rfr\n",
      "166 2v9v\n",
      "167 2ve8\n"
     ]
    },
    {
     "name": "stderr",
     "output_type": "stream",
     "text": [
      "/wsu/home/fr/fr15/fr1583/.conda/envs/protein/lib/python3.7/site-packages/Bio/PDB/StructureBuilder.py:92: PDBConstructionWarning: WARNING: Chain A is discontinuous at line 3972.\n",
      "  PDBConstructionWarning,\n",
      "/wsu/home/fr/fr15/fr1583/.conda/envs/protein/lib/python3.7/site-packages/Bio/PDB/StructureBuilder.py:92: PDBConstructionWarning: WARNING: Chain B is discontinuous at line 4066.\n",
      "  PDBConstructionWarning,\n",
      "/wsu/home/fr/fr15/fr1583/.conda/envs/protein/lib/python3.7/site-packages/Bio/PDB/StructureBuilder.py:92: PDBConstructionWarning: WARNING: Chain C is discontinuous at line 4158.\n",
      "  PDBConstructionWarning,\n",
      "/wsu/home/fr/fr15/fr1583/.conda/envs/protein/lib/python3.7/site-packages/Bio/PDB/StructureBuilder.py:92: PDBConstructionWarning: WARNING: Chain D is discontinuous at line 4247.\n",
      "  PDBConstructionWarning,\n",
      "/wsu/home/fr/fr15/fr1583/.conda/envs/protein/lib/python3.7/site-packages/Bio/PDB/StructureBuilder.py:92: PDBConstructionWarning: WARNING: Chain E is discontinuous at line 4328.\n",
      "  PDBConstructionWarning,\n",
      "/wsu/home/fr/fr15/fr1583/.conda/envs/protein/lib/python3.7/site-packages/Bio/PDB/StructureBuilder.py:92: PDBConstructionWarning: WARNING: Chain F is discontinuous at line 4395.\n",
      "  PDBConstructionWarning,\n",
      "/wsu/home/fr/fr15/fr1583/.conda/envs/protein/lib/python3.7/site-packages/Bio/PDB/StructureBuilder.py:92: PDBConstructionWarning: WARNING: Chain G is discontinuous at line 4462.\n",
      "  PDBConstructionWarning,\n",
      "/wsu/home/fr/fr15/fr1583/.conda/envs/protein/lib/python3.7/site-packages/Bio/PDB/StructureBuilder.py:92: PDBConstructionWarning: WARNING: Chain H is discontinuous at line 4559.\n",
      "  PDBConstructionWarning,\n"
     ]
    },
    {
     "name": "stdout",
     "output_type": "stream",
     "text": [
      "168 2vh7\n",
      "169 2vim\n",
      "170 2vpa\n",
      "171 2vq4\n",
      "172 2vy8\n",
      "173 2vyo\n",
      "174 2w1v\n"
     ]
    },
    {
     "name": "stderr",
     "output_type": "stream",
     "text": [
      "/wsu/home/fr/fr15/fr1583/.conda/envs/protein/lib/python3.7/site-packages/Bio/PDB/StructureBuilder.py:92: PDBConstructionWarning: WARNING: Chain A is discontinuous at line 4273.\n",
      "  PDBConstructionWarning,\n",
      "/wsu/home/fr/fr15/fr1583/.conda/envs/protein/lib/python3.7/site-packages/Bio/PDB/StructureBuilder.py:92: PDBConstructionWarning: WARNING: Chain B is discontinuous at line 4653.\n",
      "  PDBConstructionWarning,\n"
     ]
    },
    {
     "name": "stdout",
     "output_type": "stream",
     "text": [
      "175 2w2a\n",
      "176 2w6a\n"
     ]
    },
    {
     "name": "stderr",
     "output_type": "stream",
     "text": [
      "/wsu/home/fr/fr15/fr1583/.conda/envs/protein/lib/python3.7/site-packages/Bio/PDB/StructureBuilder.py:92: PDBConstructionWarning: WARNING: Chain A is discontinuous at line 2918.\n",
      "  PDBConstructionWarning,\n",
      "/wsu/home/fr/fr15/fr1583/.conda/envs/protein/lib/python3.7/site-packages/Bio/PDB/StructureBuilder.py:92: PDBConstructionWarning: WARNING: Chain B is discontinuous at line 3189.\n",
      "  PDBConstructionWarning,\n",
      "/wsu/home/fr/fr15/fr1583/.conda/envs/protein/lib/python3.7/site-packages/Bio/PDB/StructureBuilder.py:92: PDBConstructionWarning: WARNING: Chain A is discontinuous at line 1040.\n",
      "  PDBConstructionWarning,\n",
      "/wsu/home/fr/fr15/fr1583/.conda/envs/protein/lib/python3.7/site-packages/Bio/PDB/StructureBuilder.py:92: PDBConstructionWarning: WARNING: Chain B is discontinuous at line 1120.\n",
      "  PDBConstructionWarning,\n"
     ]
    },
    {
     "name": "stdout",
     "output_type": "stream",
     "text": [
      "177 2wj5\n",
      "178 2wuj\n",
      "179 2ww7\n"
     ]
    },
    {
     "name": "stderr",
     "output_type": "stream",
     "text": [
      "/wsu/home/fr/fr15/fr1583/.conda/envs/protein/lib/python3.7/site-packages/Bio/PDB/StructureBuilder.py:92: PDBConstructionWarning: WARNING: Chain A is discontinuous at line 856.\n",
      "  PDBConstructionWarning,\n",
      "/wsu/home/fr/fr15/fr1583/.conda/envs/protein/lib/python3.7/site-packages/Bio/PDB/StructureBuilder.py:92: PDBConstructionWarning: WARNING: Chain B is discontinuous at line 973.\n",
      "  PDBConstructionWarning,\n",
      "/wsu/home/fr/fr15/fr1583/.conda/envs/protein/lib/python3.7/site-packages/Bio/PDB/StructureBuilder.py:92: PDBConstructionWarning: WARNING: Chain A is discontinuous at line 3173.\n",
      "  PDBConstructionWarning,\n",
      "/wsu/home/fr/fr15/fr1583/.conda/envs/protein/lib/python3.7/site-packages/Bio/PDB/StructureBuilder.py:92: PDBConstructionWarning: WARNING: Chain B is discontinuous at line 3249.\n",
      "  PDBConstructionWarning,\n",
      "/wsu/home/fr/fr15/fr1583/.conda/envs/protein/lib/python3.7/site-packages/Bio/PDB/StructureBuilder.py:92: PDBConstructionWarning: WARNING: Chain C is discontinuous at line 3340.\n",
      "  PDBConstructionWarning,\n",
      "/wsu/home/fr/fr15/fr1583/.conda/envs/protein/lib/python3.7/site-packages/Bio/PDB/StructureBuilder.py:92: PDBConstructionWarning: WARNING: Chain D is discontinuous at line 3416.\n",
      "  PDBConstructionWarning,\n",
      "/wsu/home/fr/fr15/fr1583/.conda/envs/protein/lib/python3.7/site-packages/Bio/PDB/StructureBuilder.py:92: PDBConstructionWarning: WARNING: Chain E is discontinuous at line 3478.\n",
      "  PDBConstructionWarning,\n",
      "/wsu/home/fr/fr15/fr1583/.conda/envs/protein/lib/python3.7/site-packages/Bio/PDB/StructureBuilder.py:92: PDBConstructionWarning: WARNING: Chain F is discontinuous at line 3550.\n",
      "  PDBConstructionWarning,\n"
     ]
    },
    {
     "name": "stdout",
     "output_type": "stream",
     "text": [
      "180 2wwe\n",
      "181 2x1q\n"
     ]
    },
    {
     "name": "stderr",
     "output_type": "stream",
     "text": [
      "/wsu/home/fr/fr15/fr1583/.conda/envs/protein/lib/python3.7/site-packages/Bio/PDB/StructureBuilder.py:92: PDBConstructionWarning: WARNING: Chain A is discontinuous at line 1852.\n",
      "  PDBConstructionWarning,\n",
      "/wsu/home/fr/fr15/fr1583/.conda/envs/protein/lib/python3.7/site-packages/Bio/PDB/StructureBuilder.py:92: PDBConstructionWarning: WARNING: Chain B is discontinuous at line 2084.\n",
      "  PDBConstructionWarning,\n"
     ]
    },
    {
     "name": "stdout",
     "output_type": "stream",
     "text": [
      "182 2x25\n",
      "183 2x3m\n",
      "184 2x5y\n",
      "185 2x9z\n",
      "186 2xhf\n"
     ]
    },
    {
     "name": "stderr",
     "output_type": "stream",
     "text": [
      "/wsu/home/fr/fr15/fr1583/.conda/envs/protein/lib/python3.7/site-packages/Bio/PDB/StructureBuilder.py:92: PDBConstructionWarning: WARNING: Chain A is discontinuous at line 4871.\n",
      "  PDBConstructionWarning,\n",
      "/wsu/home/fr/fr15/fr1583/.conda/envs/protein/lib/python3.7/site-packages/Bio/PDB/StructureBuilder.py:92: PDBConstructionWarning: WARNING: Chain B is discontinuous at line 5041.\n",
      "  PDBConstructionWarning,\n",
      "/wsu/home/fr/fr15/fr1583/.conda/envs/protein/lib/python3.7/site-packages/Bio/PDB/StructureBuilder.py:92: PDBConstructionWarning: WARNING: Chain A is discontinuous at line 838.\n",
      "  PDBConstructionWarning,\n",
      "/wsu/home/fr/fr15/fr1583/.conda/envs/protein/lib/python3.7/site-packages/Bio/PDB/StructureBuilder.py:92: PDBConstructionWarning: WARNING: Chain B is discontinuous at line 900.\n",
      "  PDBConstructionWarning,\n"
     ]
    },
    {
     "name": "stdout",
     "output_type": "stream",
     "text": [
      "187 2y0t\n",
      "188 2y72\n"
     ]
    },
    {
     "name": "stderr",
     "output_type": "stream",
     "text": [
      "/wsu/home/fr/fr15/fr1583/.conda/envs/protein/lib/python3.7/site-packages/Bio/PDB/StructureBuilder.py:92: PDBConstructionWarning: WARNING: Chain A is discontinuous at line 1323.\n",
      "  PDBConstructionWarning,\n",
      "/wsu/home/fr/fr15/fr1583/.conda/envs/protein/lib/python3.7/site-packages/Bio/PDB/StructureBuilder.py:92: PDBConstructionWarning: WARNING: Chain B is discontinuous at line 1499.\n",
      "  PDBConstructionWarning,\n",
      "/wsu/home/fr/fr15/fr1583/.conda/envs/protein/lib/python3.7/site-packages/Bio/PDB/StructureBuilder.py:92: PDBConstructionWarning: WARNING: Chain A is discontinuous at line 2426.\n",
      "  PDBConstructionWarning,\n"
     ]
    },
    {
     "name": "stdout",
     "output_type": "stream",
     "text": [
      "189 2y7l\n"
     ]
    },
    {
     "name": "stderr",
     "output_type": "stream",
     "text": [
      "/wsu/home/fr/fr15/fr1583/.conda/envs/protein/lib/python3.7/site-packages/Bio/PDB/StructureBuilder.py:92: PDBConstructionWarning: WARNING: Chain B is discontinuous at line 2729.\n",
      "  PDBConstructionWarning,\n"
     ]
    },
    {
     "name": "stdout",
     "output_type": "stream",
     "text": [
      "190 2y9f\n",
      "191 2ylb\n"
     ]
    },
    {
     "name": "stderr",
     "output_type": "stream",
     "text": [
      "/wsu/home/fr/fr15/fr1583/.conda/envs/protein/lib/python3.7/site-packages/Bio/PDB/StructureBuilder.py:92: PDBConstructionWarning: WARNING: Chain A is discontinuous at line 6853.\n",
      "  PDBConstructionWarning,\n",
      "/wsu/home/fr/fr15/fr1583/.conda/envs/protein/lib/python3.7/site-packages/Bio/PDB/StructureBuilder.py:92: PDBConstructionWarning: WARNING: Chain B is discontinuous at line 6921.\n",
      "  PDBConstructionWarning,\n",
      "/wsu/home/fr/fr15/fr1583/.conda/envs/protein/lib/python3.7/site-packages/Bio/PDB/StructureBuilder.py:92: PDBConstructionWarning: WARNING: Chain C is discontinuous at line 6981.\n",
      "  PDBConstructionWarning,\n",
      "/wsu/home/fr/fr15/fr1583/.conda/envs/protein/lib/python3.7/site-packages/Bio/PDB/StructureBuilder.py:92: PDBConstructionWarning: WARNING: Chain D is discontinuous at line 7048.\n",
      "  PDBConstructionWarning,\n",
      "/wsu/home/fr/fr15/fr1583/.conda/envs/protein/lib/python3.7/site-packages/Bio/PDB/StructureBuilder.py:92: PDBConstructionWarning: WARNING: Chain E is discontinuous at line 7113.\n",
      "  PDBConstructionWarning,\n",
      "/wsu/home/fr/fr15/fr1583/.conda/envs/protein/lib/python3.7/site-packages/Bio/PDB/StructureBuilder.py:92: PDBConstructionWarning: WARNING: Chain F is discontinuous at line 7177.\n",
      "  PDBConstructionWarning,\n"
     ]
    },
    {
     "name": "stdout",
     "output_type": "stream",
     "text": [
      "192 2yny\n"
     ]
    },
    {
     "name": "stderr",
     "output_type": "stream",
     "text": [
      "/wsu/home/fr/fr15/fr1583/.conda/envs/protein/lib/python3.7/site-packages/Bio/PDB/StructureBuilder.py:92: PDBConstructionWarning: WARNING: Chain A is discontinuous at line 2464.\n",
      "  PDBConstructionWarning,\n",
      "/wsu/home/fr/fr15/fr1583/.conda/envs/protein/lib/python3.7/site-packages/Bio/PDB/StructureBuilder.py:92: PDBConstructionWarning: WARNING: Chain B is discontinuous at line 2571.\n",
      "  PDBConstructionWarning,\n",
      "/wsu/home/fr/fr15/fr1583/.conda/envs/protein/lib/python3.7/site-packages/Bio/PDB/StructureBuilder.py:92: PDBConstructionWarning: WARNING: Chain C is discontinuous at line 2654.\n",
      "  PDBConstructionWarning,\n"
     ]
    },
    {
     "name": "stdout",
     "output_type": "stream",
     "text": [
      "193 2zcm\n"
     ]
    },
    {
     "name": "stderr",
     "output_type": "stream",
     "text": [
      "/wsu/home/fr/fr15/fr1583/.conda/envs/protein/lib/python3.7/site-packages/Bio/PDB/StructureBuilder.py:92: PDBConstructionWarning: WARNING: Chain A is discontinuous at line 3031.\n",
      "  PDBConstructionWarning,\n",
      "/wsu/home/fr/fr15/fr1583/.conda/envs/protein/lib/python3.7/site-packages/Bio/PDB/StructureBuilder.py:92: PDBConstructionWarning: WARNING: Chain B is discontinuous at line 3493.\n",
      "  PDBConstructionWarning,\n"
     ]
    },
    {
     "name": "stdout",
     "output_type": "stream",
     "text": [
      "194 2zu1\n",
      "195 3a0m\n"
     ]
    },
    {
     "name": "stderr",
     "output_type": "stream",
     "text": [
      "/wsu/home/fr/fr15/fr1583/.conda/envs/protein/lib/python3.7/site-packages/Bio/PDB/StructureBuilder.py:92: PDBConstructionWarning: WARNING: Chain A is discontinuous at line 2794.\n",
      "  PDBConstructionWarning,\n",
      "/wsu/home/fr/fr15/fr1583/.conda/envs/protein/lib/python3.7/site-packages/Bio/PDB/StructureBuilder.py:92: PDBConstructionWarning: WARNING: Chain B is discontinuous at line 3123.\n",
      "  PDBConstructionWarning,\n",
      "/wsu/home/fr/fr15/fr1583/.conda/envs/protein/lib/python3.7/site-packages/Bio/PDB/StructureBuilder.py:130: PDBConstructionWarning: WARNING: Residue (' ', 14, ' ') redefined at line 827.\n",
      "  PDBConstructionWarning,\n",
      "/wsu/home/fr/fr15/fr1583/.conda/envs/protein/lib/python3.7/site-packages/Bio/PDB/StructureBuilder.py:130: PDBConstructionWarning: WARNING: Residue (' ', 17, ' ') redefined at line 864.\n",
      "  PDBConstructionWarning,\n",
      "/wsu/home/fr/fr15/fr1583/.conda/envs/protein/lib/python3.7/site-packages/Bio/PDB/StructureBuilder.py:92: PDBConstructionWarning: WARNING: Chain A is discontinuous at line 929.\n",
      "  PDBConstructionWarning,\n",
      "/wsu/home/fr/fr15/fr1583/.conda/envs/protein/lib/python3.7/site-packages/Bio/PDB/StructureBuilder.py:92: PDBConstructionWarning: WARNING: Chain B is discontinuous at line 976.\n",
      "  PDBConstructionWarning,\n",
      "/wsu/home/fr/fr15/fr1583/.conda/envs/protein/lib/python3.7/site-packages/Bio/PDB/StructureBuilder.py:92: PDBConstructionWarning: WARNING: Chain C is discontinuous at line 1025.\n",
      "  PDBConstructionWarning,\n",
      "/wsu/home/fr/fr15/fr1583/.conda/envs/protein/lib/python3.7/site-packages/Bio/PDB/StructureBuilder.py:92: PDBConstructionWarning: WARNING: Chain D is discontinuous at line 1081.\n",
      "  PDBConstructionWarning,\n",
      "/wsu/home/fr/fr15/fr1583/.conda/envs/protein/lib/python3.7/site-packages/Bio/PDB/StructureBuilder.py:92: PDBConstructionWarning: WARNING: Chain E is discontinuous at line 1118.\n",
      "  PDBConstructionWarning,\n",
      "/wsu/home/fr/fr15/fr1583/.conda/envs/protein/lib/python3.7/site-packages/Bio/PDB/StructureBuilder.py:92: PDBConstructionWarning: WARNING: Chain F is discontinuous at line 1161.\n",
      "  PDBConstructionWarning,\n",
      "/wsu/home/fr/fr15/fr1583/.conda/envs/protein/lib/python3.7/site-packages/Bio/PDB/StructureBuilder.py:130: PDBConstructionWarning: WARNING: Residue (' ', 14, ' ') redefined at line 827.\n",
      "  PDBConstructionWarning,\n",
      "/wsu/home/fr/fr15/fr1583/.conda/envs/protein/lib/python3.7/site-packages/Bio/PDB/StructureBuilder.py:130: PDBConstructionWarning: WARNING: Residue (' ', 17, ' ') redefined at line 864.\n",
      "  PDBConstructionWarning,\n",
      "/wsu/home/fr/fr15/fr1583/.conda/envs/protein/lib/python3.7/site-packages/Bio/PDB/StructureBuilder.py:92: PDBConstructionWarning: WARNING: Chain A is discontinuous at line 929.\n",
      "  PDBConstructionWarning,\n",
      "/wsu/home/fr/fr15/fr1583/.conda/envs/protein/lib/python3.7/site-packages/Bio/PDB/StructureBuilder.py:92: PDBConstructionWarning: WARNING: Chain B is discontinuous at line 976.\n",
      "  PDBConstructionWarning,\n",
      "/wsu/home/fr/fr15/fr1583/.conda/envs/protein/lib/python3.7/site-packages/Bio/PDB/StructureBuilder.py:92: PDBConstructionWarning: WARNING: Chain C is discontinuous at line 1025.\n",
      "  PDBConstructionWarning,\n",
      "/wsu/home/fr/fr15/fr1583/.conda/envs/protein/lib/python3.7/site-packages/Bio/PDB/StructureBuilder.py:92: PDBConstructionWarning: WARNING: Chain D is discontinuous at line 1081.\n",
      "  PDBConstructionWarning,\n",
      "/wsu/home/fr/fr15/fr1583/.conda/envs/protein/lib/python3.7/site-packages/Bio/PDB/StructureBuilder.py:92: PDBConstructionWarning: WARNING: Chain E is discontinuous at line 1118.\n",
      "  PDBConstructionWarning,\n",
      "/wsu/home/fr/fr15/fr1583/.conda/envs/protein/lib/python3.7/site-packages/Bio/PDB/StructureBuilder.py:92: PDBConstructionWarning: WARNING: Chain F is discontinuous at line 1161.\n",
      "  PDBConstructionWarning,\n"
     ]
    },
    {
     "name": "stdout",
     "output_type": "stream",
     "text": [
      "Found input variables with inconsistent numbers of samples: [148, 150]\n",
      "196 3a7l\n",
      "197 3amc\n"
     ]
    },
    {
     "name": "stderr",
     "output_type": "stream",
     "text": [
      "/wsu/home/fr/fr15/fr1583/.conda/envs/protein/lib/python3.7/site-packages/Bio/PDB/StructureBuilder.py:92: PDBConstructionWarning: WARNING: Chain A is discontinuous at line 5174.\n",
      "  PDBConstructionWarning,\n",
      "/wsu/home/fr/fr15/fr1583/.conda/envs/protein/lib/python3.7/site-packages/Bio/PDB/StructureBuilder.py:92: PDBConstructionWarning: WARNING: Chain B is discontinuous at line 5546.\n",
      "  PDBConstructionWarning,\n",
      "/wsu/home/fr/fr15/fr1583/.conda/envs/protein/lib/python3.7/site-packages/Bio/PDB/StructureBuilder.py:92: PDBConstructionWarning: WARNING: Chain A is discontinuous at line 902.\n",
      "  PDBConstructionWarning,\n",
      "/wsu/home/fr/fr15/fr1583/.conda/envs/protein/lib/python3.7/site-packages/Bio/PDB/StructureBuilder.py:92: PDBConstructionWarning: WARNING: Chain B is discontinuous at line 1028.\n",
      "  PDBConstructionWarning,\n"
     ]
    },
    {
     "name": "stdout",
     "output_type": "stream",
     "text": [
      "198 3aub\n",
      "199 3b5o\n",
      "200 3ba1\n",
      "201 3bed\n"
     ]
    },
    {
     "name": "stderr",
     "output_type": "stream",
     "text": [
      "/wsu/home/fr/fr15/fr1583/.conda/envs/protein/lib/python3.7/site-packages/Bio/PDB/StructureBuilder.py:92: PDBConstructionWarning: WARNING: Chain A is discontinuous at line 2025.\n",
      "  PDBConstructionWarning,\n",
      "/wsu/home/fr/fr15/fr1583/.conda/envs/protein/lib/python3.7/site-packages/Bio/PDB/StructureBuilder.py:92: PDBConstructionWarning: WARNING: Chain B is discontinuous at line 2197.\n",
      "  PDBConstructionWarning,\n"
     ]
    },
    {
     "name": "stdout",
     "output_type": "stream",
     "text": [
      "202 3bqx\n",
      "203 3bzq\n",
      "204 3bzz\n",
      "205 3drf\n"
     ]
    },
    {
     "name": "stderr",
     "output_type": "stream",
     "text": [
      "/wsu/home/fr/fr15/fr1583/.conda/envs/protein/lib/python3.7/site-packages/Bio/PDB/StructureBuilder.py:92: PDBConstructionWarning: WARNING: Chain A is discontinuous at line 799.\n",
      "  PDBConstructionWarning,\n",
      "/wsu/home/fr/fr15/fr1583/.conda/envs/protein/lib/python3.7/site-packages/Bio/PDB/StructureBuilder.py:92: PDBConstructionWarning: WARNING: Chain B is discontinuous at line 821.\n",
      "  PDBConstructionWarning,\n",
      "/wsu/home/fr/fr15/fr1583/.conda/envs/protein/lib/python3.7/site-packages/Bio/PDB/StructureBuilder.py:92: PDBConstructionWarning: WARNING: Chain A is discontinuous at line 4397.\n",
      "  PDBConstructionWarning,\n",
      "/wsu/home/fr/fr15/fr1583/.conda/envs/protein/lib/python3.7/site-packages/Bio/PDB/StructureBuilder.py:92: PDBConstructionWarning: WARNING: Chain B is discontinuous at line 5508.\n",
      "  PDBConstructionWarning,\n"
     ]
    },
    {
     "name": "stdout",
     "output_type": "stream",
     "text": [
      "206 3dwv\n"
     ]
    },
    {
     "name": "stderr",
     "output_type": "stream",
     "text": [
      "/wsu/home/fr/fr15/fr1583/.conda/envs/protein/lib/python3.7/site-packages/Bio/PDB/StructureBuilder.py:92: PDBConstructionWarning: WARNING: Chain A is discontinuous at line 2780.\n",
      "  PDBConstructionWarning,\n",
      "/wsu/home/fr/fr15/fr1583/.conda/envs/protein/lib/python3.7/site-packages/Bio/PDB/StructureBuilder.py:92: PDBConstructionWarning: WARNING: Chain B is discontinuous at line 2951.\n",
      "  PDBConstructionWarning,\n",
      "/wsu/home/fr/fr15/fr1583/.conda/envs/protein/lib/python3.7/site-packages/Bio/PDB/StructureBuilder.py:92: PDBConstructionWarning: WARNING: Chain A is discontinuous at line 2780.\n",
      "  PDBConstructionWarning,\n",
      "/wsu/home/fr/fr15/fr1583/.conda/envs/protein/lib/python3.7/site-packages/Bio/PDB/StructureBuilder.py:92: PDBConstructionWarning: WARNING: Chain B is discontinuous at line 2951.\n",
      "  PDBConstructionWarning,\n"
     ]
    },
    {
     "name": "stdout",
     "output_type": "stream",
     "text": [
      "Found input variables with inconsistent numbers of samples: [325, 326]\n",
      "207 3e5t\n",
      "208 3e7r\n",
      "209 3eur\n",
      "210 3f2z\n",
      "211 3f7e\n"
     ]
    },
    {
     "name": "stderr",
     "output_type": "stream",
     "text": [
      "/wsu/home/fr/fr15/fr1583/.conda/envs/protein/lib/python3.7/site-packages/Bio/PDB/StructureBuilder.py:92: PDBConstructionWarning: WARNING: Chain A is discontinuous at line 2148.\n",
      "  PDBConstructionWarning,\n",
      "/wsu/home/fr/fr15/fr1583/.conda/envs/protein/lib/python3.7/site-packages/Bio/PDB/StructureBuilder.py:92: PDBConstructionWarning: WARNING: Chain B is discontinuous at line 2329.\n",
      "  PDBConstructionWarning,\n",
      "/wsu/home/fr/fr15/fr1583/.conda/envs/protein/lib/python3.7/site-packages/Bio/PDB/StructureBuilder.py:92: PDBConstructionWarning: WARNING: Chain A is discontinuous at line 752.\n",
      "  PDBConstructionWarning,\n",
      "/wsu/home/fr/fr15/fr1583/.conda/envs/protein/lib/python3.7/site-packages/Bio/PDB/StructureBuilder.py:92: PDBConstructionWarning: WARNING: Chain L is discontinuous at line 820.\n",
      "  PDBConstructionWarning,\n"
     ]
    },
    {
     "name": "stdout",
     "output_type": "stream",
     "text": [
      "212 3fcn\n",
      "213 3fe7\n",
      "214 3fke\n"
     ]
    },
    {
     "name": "stderr",
     "output_type": "stream",
     "text": [
      "/wsu/home/fr/fr15/fr1583/.conda/envs/protein/lib/python3.7/site-packages/Bio/PDB/StructureBuilder.py:92: PDBConstructionWarning: WARNING: Chain A is discontinuous at line 1938.\n",
      "  PDBConstructionWarning,\n",
      "/wsu/home/fr/fr15/fr1583/.conda/envs/protein/lib/python3.7/site-packages/Bio/PDB/StructureBuilder.py:92: PDBConstructionWarning: WARNING: Chain B is discontinuous at line 2043.\n",
      "  PDBConstructionWarning,\n",
      "/wsu/home/fr/fr15/fr1583/.conda/envs/protein/lib/python3.7/site-packages/Bio/PDB/StructureBuilder.py:92: PDBConstructionWarning: WARNING: Chain A is discontinuous at line 328.\n",
      "  PDBConstructionWarning,\n",
      "/wsu/home/fr/fr15/fr1583/.conda/envs/protein/lib/python3.7/site-packages/Bio/PDB/StructureBuilder.py:92: PDBConstructionWarning: WARNING: Chain B is discontinuous at line 339.\n",
      "  PDBConstructionWarning,\n",
      "/wsu/home/fr/fr15/fr1583/.conda/envs/protein/lib/python3.7/site-packages/Bio/PDB/StructureBuilder.py:92: PDBConstructionWarning: WARNING: Chain C is discontinuous at line 346.\n",
      "  PDBConstructionWarning,\n",
      "/wsu/home/fr/fr15/fr1583/.conda/envs/protein/lib/python3.7/site-packages/Bio/PDB/StructureBuilder.py:92: PDBConstructionWarning: WARNING: Chain D is discontinuous at line 356.\n",
      "  PDBConstructionWarning,\n",
      "/wsu/home/fr/fr15/fr1583/.conda/envs/protein/lib/python3.7/site-packages/Bio/PDB/StructureBuilder.py:92: PDBConstructionWarning: WARNING: Chain E is discontinuous at line 361.\n",
      "  PDBConstructionWarning,\n",
      "/wsu/home/fr/fr15/fr1583/.conda/envs/protein/lib/python3.7/site-packages/Bio/PDB/StructureBuilder.py:92: PDBConstructionWarning: WARNING: Chain F is discontinuous at line 368.\n",
      "  PDBConstructionWarning,\n",
      "/wsu/home/fr/fr15/fr1583/.conda/envs/protein/lib/python3.7/site-packages/Bio/PDB/StructureBuilder.py:92: PDBConstructionWarning: WARNING: Chain G is discontinuous at line 379.\n",
      "  PDBConstructionWarning,\n",
      "/wsu/home/fr/fr15/fr1583/.conda/envs/protein/lib/python3.7/site-packages/Bio/PDB/StructureBuilder.py:92: PDBConstructionWarning: WARNING: Chain H is discontinuous at line 391.\n",
      "  PDBConstructionWarning,\n"
     ]
    },
    {
     "name": "stdout",
     "output_type": "stream",
     "text": [
      "215 3fmy\n",
      "216 3fod\n",
      "217 3fso\n"
     ]
    },
    {
     "name": "stderr",
     "output_type": "stream",
     "text": [
      "/wsu/home/fr/fr15/fr1583/.conda/envs/protein/lib/python3.7/site-packages/Bio/PDB/StructureBuilder.py:92: PDBConstructionWarning: WARNING: Chain A is discontinuous at line 3803.\n",
      "  PDBConstructionWarning,\n",
      "/wsu/home/fr/fr15/fr1583/.conda/envs/protein/lib/python3.7/site-packages/Bio/PDB/StructureBuilder.py:92: PDBConstructionWarning: WARNING: Chain B is discontinuous at line 3945.\n",
      "  PDBConstructionWarning,\n"
     ]
    },
    {
     "name": "stdout",
     "output_type": "stream",
     "text": [
      "218 3ftd\n",
      "219 3fva\n"
     ]
    },
    {
     "name": "stderr",
     "output_type": "stream",
     "text": [
      "/wsu/home/fr/fr15/fr1583/K/NMAcomp/multiscale.py:88: RuntimeWarning: divide by zero encountered in true_divide\n",
      "  reg.fit(mu_n.T,1/bfactor)\n",
      "/wsu/home/fr/fr15/fr1583/.conda/envs/protein/lib/python3.7/site-packages/Bio/PDB/StructureBuilder.py:92: PDBConstructionWarning: WARNING: Chain A is discontinuous at line 3196.\n",
      "  PDBConstructionWarning,\n",
      "/wsu/home/fr/fr15/fr1583/.conda/envs/protein/lib/python3.7/site-packages/Bio/PDB/StructureBuilder.py:92: PDBConstructionWarning: WARNING: Chain B is discontinuous at line 3356.\n",
      "  PDBConstructionWarning,\n"
     ]
    },
    {
     "name": "stdout",
     "output_type": "stream",
     "text": [
      "Input contains NaN, infinity or a value too large for dtype('float64').\n",
      "220 3g1s\n",
      "221 3gbw\n",
      "222 3ghj\n",
      "223 3hfo\n"
     ]
    },
    {
     "name": "stderr",
     "output_type": "stream",
     "text": [
      "/wsu/home/fr/fr15/fr1583/.conda/envs/protein/lib/python3.7/site-packages/Bio/PDB/StructureBuilder.py:92: PDBConstructionWarning: WARNING: Chain A is discontinuous at line 1630.\n",
      "  PDBConstructionWarning,\n",
      "/wsu/home/fr/fr15/fr1583/.conda/envs/protein/lib/python3.7/site-packages/Bio/PDB/StructureBuilder.py:92: PDBConstructionWarning: WARNING: Chain B is discontinuous at line 1730.\n",
      "  PDBConstructionWarning,\n",
      "/wsu/home/fr/fr15/fr1583/.conda/envs/protein/lib/python3.7/site-packages/Bio/PDB/StructureBuilder.py:92: PDBConstructionWarning: WARNING: Chain C is discontinuous at line 1825.\n",
      "  PDBConstructionWarning,\n"
     ]
    },
    {
     "name": "stdout",
     "output_type": "stream",
     "text": [
      "224 3hhp\n"
     ]
    },
    {
     "name": "stderr",
     "output_type": "stream",
     "text": [
      "/wsu/home/fr/fr15/fr1583/.conda/envs/protein/lib/python3.7/site-packages/Bio/PDB/StructureBuilder.py:92: PDBConstructionWarning: WARNING: Chain A is discontinuous at line 9464.\n",
      "  PDBConstructionWarning,\n",
      "/wsu/home/fr/fr15/fr1583/.conda/envs/protein/lib/python3.7/site-packages/Bio/PDB/StructureBuilder.py:92: PDBConstructionWarning: WARNING: Chain B is discontinuous at line 9583.\n",
      "  PDBConstructionWarning,\n",
      "/wsu/home/fr/fr15/fr1583/.conda/envs/protein/lib/python3.7/site-packages/Bio/PDB/StructureBuilder.py:92: PDBConstructionWarning: WARNING: Chain C is discontinuous at line 9714.\n",
      "  PDBConstructionWarning,\n",
      "/wsu/home/fr/fr15/fr1583/.conda/envs/protein/lib/python3.7/site-packages/Bio/PDB/StructureBuilder.py:92: PDBConstructionWarning: WARNING: Chain D is discontinuous at line 9857.\n",
      "  PDBConstructionWarning,\n"
     ]
    },
    {
     "name": "stdout",
     "output_type": "stream",
     "text": [
      "skipped\n",
      "225 3hny\n",
      "226 3hp4\n",
      "227 3hwu\n",
      "228 3hyd\n",
      "229 3hz8\n",
      "230 3i2v\n",
      "231 3i2z\n",
      "232 3i4o\n"
     ]
    },
    {
     "name": "stderr",
     "output_type": "stream",
     "text": [
      "/wsu/home/fr/fr15/fr1583/.conda/envs/protein/lib/python3.7/site-packages/Bio/PDB/StructureBuilder.py:92: PDBConstructionWarning: WARNING: Chain B is discontinuous at line 1073.\n",
      "  PDBConstructionWarning,\n",
      "/wsu/home/fr/fr15/fr1583/.conda/envs/protein/lib/python3.7/site-packages/Bio/PDB/StructureBuilder.py:92: PDBConstructionWarning: WARNING: Chain A is discontinuous at line 1106.\n",
      "  PDBConstructionWarning,\n",
      "/wsu/home/fr/fr15/fr1583/.conda/envs/protein/lib/python3.7/site-packages/Bio/PDB/StructureBuilder.py:92: PDBConstructionWarning: WARNING: Chain A is discontinuous at line 1255.\n",
      "  PDBConstructionWarning,\n",
      "/wsu/home/fr/fr15/fr1583/.conda/envs/protein/lib/python3.7/site-packages/Bio/PDB/StructureBuilder.py:92: PDBConstructionWarning: WARNING: Chain B is discontinuous at line 1352.\n",
      "  PDBConstructionWarning,\n"
     ]
    },
    {
     "name": "stdout",
     "output_type": "stream",
     "text": [
      "233 3i7m\n",
      "234 3ihs\n"
     ]
    },
    {
     "name": "stderr",
     "output_type": "stream",
     "text": [
      "/wsu/home/fr/fr15/fr1583/.conda/envs/protein/lib/python3.7/site-packages/Bio/PDB/StructureBuilder.py:92: PDBConstructionWarning: WARNING: Chain A is discontinuous at line 1363.\n",
      "  PDBConstructionWarning,\n",
      "/wsu/home/fr/fr15/fr1583/.conda/envs/protein/lib/python3.7/site-packages/Bio/PDB/StructureBuilder.py:92: PDBConstructionWarning: WARNING: Chain B is discontinuous at line 1468.\n",
      "  PDBConstructionWarning,\n",
      "/wsu/home/fr/fr15/fr1583/.conda/envs/protein/lib/python3.7/site-packages/Bio/PDB/StructureBuilder.py:92: PDBConstructionWarning: WARNING: Chain A is discontinuous at line 1286.\n",
      "  PDBConstructionWarning,\n",
      "/wsu/home/fr/fr15/fr1583/.conda/envs/protein/lib/python3.7/site-packages/Bio/PDB/StructureBuilder.py:92: PDBConstructionWarning: WARNING: Chain D is discontinuous at line 1487.\n",
      "  PDBConstructionWarning,\n"
     ]
    },
    {
     "name": "stdout",
     "output_type": "stream",
     "text": [
      "235 3ivv\n"
     ]
    },
    {
     "name": "stderr",
     "output_type": "stream",
     "text": [
      "/wsu/home/fr/fr15/fr1583/.conda/envs/protein/lib/python3.7/site-packages/Bio/PDB/StructureBuilder.py:92: PDBConstructionWarning: WARNING: Chain A is discontinuous at line 1286.\n",
      "  PDBConstructionWarning,\n",
      "/wsu/home/fr/fr15/fr1583/.conda/envs/protein/lib/python3.7/site-packages/Bio/PDB/StructureBuilder.py:92: PDBConstructionWarning: WARNING: Chain D is discontinuous at line 1487.\n",
      "  PDBConstructionWarning,\n"
     ]
    },
    {
     "name": "stdout",
     "output_type": "stream",
     "text": [
      "Found input variables with inconsistent numbers of samples: [149, 150]\n",
      "236 3k6y\n",
      "237 3kbe\n",
      "238 3kgk\n",
      "239 3kzd\n",
      "240 3l41\n"
     ]
    },
    {
     "name": "stderr",
     "output_type": "stream",
     "text": [
      "/wsu/home/fr/fr15/fr1583/.conda/envs/protein/lib/python3.7/site-packages/Bio/PDB/StructureBuilder.py:92: PDBConstructionWarning: WARNING: Chain A is discontinuous at line 1492.\n",
      "  PDBConstructionWarning,\n",
      "/wsu/home/fr/fr15/fr1583/.conda/envs/protein/lib/python3.7/site-packages/Bio/PDB/StructureBuilder.py:92: PDBConstructionWarning: WARNING: Chain B is discontinuous at line 1629.\n",
      "  PDBConstructionWarning,\n",
      "/wsu/home/fr/fr15/fr1583/.conda/envs/protein/lib/python3.7/site-packages/Bio/PDB/StructureBuilder.py:92: PDBConstructionWarning: WARNING: Chain A is discontinuous at line 1745.\n",
      "  PDBConstructionWarning,\n",
      "/wsu/home/fr/fr15/fr1583/.conda/envs/protein/lib/python3.7/site-packages/Bio/PDB/StructureBuilder.py:92: PDBConstructionWarning: WARNING: Chain B is discontinuous at line 2150.\n",
      "  PDBConstructionWarning,\n"
     ]
    },
    {
     "name": "stdout",
     "output_type": "stream",
     "text": [
      "241 3laa\n",
      "242 3lax\n",
      "243 3lg3\n"
     ]
    },
    {
     "name": "stderr",
     "output_type": "stream",
     "text": [
      "/wsu/home/fr/fr15/fr1583/.conda/envs/protein/lib/python3.7/site-packages/Bio/PDB/StructureBuilder.py:92: PDBConstructionWarning: WARNING: Chain A is discontinuous at line 6699.\n",
      "  PDBConstructionWarning,\n",
      "/wsu/home/fr/fr15/fr1583/.conda/envs/protein/lib/python3.7/site-packages/Bio/PDB/StructureBuilder.py:92: PDBConstructionWarning: WARNING: Chain B is discontinuous at line 7316.\n",
      "  PDBConstructionWarning,\n"
     ]
    },
    {
     "name": "stdout",
     "output_type": "stream",
     "text": [
      "244 3lji\n",
      "245 3m3p\n",
      "246 3m8j\n",
      "247 3m9j\n"
     ]
    },
    {
     "name": "stderr",
     "output_type": "stream",
     "text": [
      "/wsu/home/fr/fr15/fr1583/.conda/envs/protein/lib/python3.7/site-packages/Bio/PDB/StructureBuilder.py:92: PDBConstructionWarning: WARNING: Chain A is discontinuous at line 1396.\n",
      "  PDBConstructionWarning,\n",
      "/wsu/home/fr/fr15/fr1583/.conda/envs/protein/lib/python3.7/site-packages/Bio/PDB/StructureBuilder.py:92: PDBConstructionWarning: WARNING: Chain B is discontinuous at line 1463.\n",
      "  PDBConstructionWarning,\n",
      "/wsu/home/fr/fr15/fr1583/.conda/envs/protein/lib/python3.7/site-packages/Bio/PDB/StructureBuilder.py:92: PDBConstructionWarning: WARNING: Chain A is discontinuous at line 1955.\n",
      "  PDBConstructionWarning,\n",
      "/wsu/home/fr/fr15/fr1583/.conda/envs/protein/lib/python3.7/site-packages/Bio/PDB/StructureBuilder.py:92: PDBConstructionWarning: WARNING: Chain B is discontinuous at line 2057.\n",
      "  PDBConstructionWarning,\n"
     ]
    },
    {
     "name": "stdout",
     "output_type": "stream",
     "text": [
      "248 3m9q\n",
      "249 3mab\n"
     ]
    },
    {
     "name": "stderr",
     "output_type": "stream",
     "text": [
      "/wsu/home/fr/fr15/fr1583/.conda/envs/protein/lib/python3.7/site-packages/Bio/PDB/StructureBuilder.py:92: PDBConstructionWarning: WARNING: Chain A is discontinuous at line 1577.\n",
      "  PDBConstructionWarning,\n",
      "/wsu/home/fr/fr15/fr1583/.conda/envs/protein/lib/python3.7/site-packages/Bio/PDB/StructureBuilder.py:92: PDBConstructionWarning: WARNING: Chain B is discontinuous at line 1849.\n",
      "  PDBConstructionWarning,\n",
      "/wsu/home/fr/fr15/fr1583/.conda/envs/protein/lib/python3.7/site-packages/Bio/PDB/StructureBuilder.py:92: PDBConstructionWarning: WARNING: Chain A is discontinuous at line 1417.\n",
      "  PDBConstructionWarning,\n",
      "/wsu/home/fr/fr15/fr1583/.conda/envs/protein/lib/python3.7/site-packages/Bio/PDB/StructureBuilder.py:92: PDBConstructionWarning: WARNING: Chain B is discontinuous at line 1519.\n",
      "  PDBConstructionWarning,\n",
      "/wsu/home/fr/fr15/fr1583/.conda/envs/protein/lib/python3.7/site-packages/Bio/PDB/StructureBuilder.py:92: PDBConstructionWarning: WARNING: Chain A is discontinuous at line 91.\n",
      "  PDBConstructionWarning,\n",
      "/wsu/home/fr/fr15/fr1583/.conda/envs/protein/lib/python3.7/site-packages/Bio/PDB/StructureBuilder.py:92: PDBConstructionWarning: WARNING: Chain B is discontinuous at line 97.\n",
      "  PDBConstructionWarning,\n",
      "/wsu/home/fr/fr15/fr1583/.conda/envs/protein/lib/python3.7/site-packages/Bio/PDB/StructureBuilder.py:92: PDBConstructionWarning: WARNING: Chain A is discontinuous at line 93.\n",
      "  PDBConstructionWarning,\n",
      "/wsu/home/fr/fr15/fr1583/.conda/envs/protein/lib/python3.7/site-packages/Bio/PDB/StructureBuilder.py:92: PDBConstructionWarning: WARNING: Chain B is discontinuous at line 96.\n",
      "  PDBConstructionWarning,\n"
     ]
    },
    {
     "name": "stdout",
     "output_type": "stream",
     "text": [
      "250 3md4\n",
      "251 3md5\n",
      "252 3mea\n",
      "253 3mgn\n"
     ]
    },
    {
     "name": "stderr",
     "output_type": "stream",
     "text": [
      "/wsu/home/fr/fr15/fr1583/.conda/envs/protein/lib/python3.7/site-packages/Bio/PDB/StructureBuilder.py:92: PDBConstructionWarning: WARNING: Chain A is discontinuous at line 1317.\n",
      "  PDBConstructionWarning,\n",
      "/wsu/home/fr/fr15/fr1583/.conda/envs/protein/lib/python3.7/site-packages/Bio/PDB/StructureBuilder.py:92: PDBConstructionWarning: WARNING: Chain B is discontinuous at line 1473.\n",
      "  PDBConstructionWarning,\n",
      "/wsu/home/fr/fr15/fr1583/.conda/envs/protein/lib/python3.7/site-packages/Bio/PDB/StructureBuilder.py:92: PDBConstructionWarning: WARNING: Chain A is discontinuous at line 3038.\n",
      "  PDBConstructionWarning,\n",
      "/wsu/home/fr/fr15/fr1583/.conda/envs/protein/lib/python3.7/site-packages/Bio/PDB/StructureBuilder.py:92: PDBConstructionWarning: WARNING: Chain B is discontinuous at line 3101.\n",
      "  PDBConstructionWarning,\n",
      "/wsu/home/fr/fr15/fr1583/.conda/envs/protein/lib/python3.7/site-packages/Bio/PDB/StructureBuilder.py:92: PDBConstructionWarning: WARNING: Chain C is discontinuous at line 3169.\n",
      "  PDBConstructionWarning,\n",
      "/wsu/home/fr/fr15/fr1583/.conda/envs/protein/lib/python3.7/site-packages/Bio/PDB/StructureBuilder.py:92: PDBConstructionWarning: WARNING: Chain D is discontinuous at line 3215.\n",
      "  PDBConstructionWarning,\n",
      "/wsu/home/fr/fr15/fr1583/.conda/envs/protein/lib/python3.7/site-packages/Bio/PDB/StructureBuilder.py:92: PDBConstructionWarning: WARNING: Chain E is discontinuous at line 3267.\n",
      "  PDBConstructionWarning,\n",
      "/wsu/home/fr/fr15/fr1583/.conda/envs/protein/lib/python3.7/site-packages/Bio/PDB/StructureBuilder.py:92: PDBConstructionWarning: WARNING: Chain F is discontinuous at line 3300.\n",
      "  PDBConstructionWarning,\n",
      "/wsu/home/fr/fr15/fr1583/.conda/envs/protein/lib/python3.7/site-packages/Bio/PDB/StructureBuilder.py:92: PDBConstructionWarning: WARNING: Chain G is discontinuous at line 3326.\n",
      "  PDBConstructionWarning,\n",
      "/wsu/home/fr/fr15/fr1583/.conda/envs/protein/lib/python3.7/site-packages/Bio/PDB/StructureBuilder.py:92: PDBConstructionWarning: WARNING: Chain H is discontinuous at line 3332.\n",
      "  PDBConstructionWarning,\n",
      "/wsu/home/fr/fr15/fr1583/.conda/envs/protein/lib/python3.7/site-packages/Bio/PDB/StructureBuilder.py:92: PDBConstructionWarning: WARNING: Chain I is discontinuous at line 3357.\n",
      "  PDBConstructionWarning,\n",
      "/wsu/home/fr/fr15/fr1583/.conda/envs/protein/lib/python3.7/site-packages/Bio/PDB/StructureBuilder.py:92: PDBConstructionWarning: WARNING: Chain J is discontinuous at line 3367.\n",
      "  PDBConstructionWarning,\n",
      "/wsu/home/fr/fr15/fr1583/.conda/envs/protein/lib/python3.7/site-packages/Bio/PDB/StructureBuilder.py:92: PDBConstructionWarning: WARNING: Chain K is discontinuous at line 3373.\n",
      "  PDBConstructionWarning,\n",
      "/wsu/home/fr/fr15/fr1583/.conda/envs/protein/lib/python3.7/site-packages/Bio/PDB/StructureBuilder.py:92: PDBConstructionWarning: WARNING: Chain L is discontinuous at line 3388.\n",
      "  PDBConstructionWarning,\n"
     ]
    },
    {
     "name": "stdout",
     "output_type": "stream",
     "text": [
      "254 3mre\n"
     ]
    },
    {
     "name": "stderr",
     "output_type": "stream",
     "text": [
      "/wsu/home/fr/fr15/fr1583/.conda/envs/protein/lib/python3.7/site-packages/Bio/PDB/StructureBuilder.py:92: PDBConstructionWarning: WARNING: Chain A is discontinuous at line 3678.\n",
      "  PDBConstructionWarning,\n",
      "/wsu/home/fr/fr15/fr1583/.conda/envs/protein/lib/python3.7/site-packages/Bio/PDB/StructureBuilder.py:92: PDBConstructionWarning: WARNING: Chain B is discontinuous at line 4160.\n",
      "  PDBConstructionWarning,\n",
      "/wsu/home/fr/fr15/fr1583/.conda/envs/protein/lib/python3.7/site-packages/Bio/PDB/StructureBuilder.py:92: PDBConstructionWarning: WARNING: Chain P is discontinuous at line 4348.\n",
      "  PDBConstructionWarning,\n"
     ]
    },
    {
     "name": "stdout",
     "output_type": "stream",
     "text": [
      "255 3n11\n",
      "256 3ne0\n",
      "257 3ngg\n",
      "258 3npv\n"
     ]
    },
    {
     "name": "stderr",
     "output_type": "stream",
     "text": [
      "/wsu/home/fr/fr15/fr1583/.conda/envs/protein/lib/python3.7/site-packages/Bio/PDB/StructureBuilder.py:92: PDBConstructionWarning: WARNING: Chain A is discontinuous at line 732.\n",
      "  PDBConstructionWarning,\n",
      "/wsu/home/fr/fr15/fr1583/.conda/envs/protein/lib/python3.7/site-packages/Bio/PDB/StructureBuilder.py:92: PDBConstructionWarning: WARNING: Chain B is discontinuous at line 797.\n",
      "  PDBConstructionWarning,\n",
      "/wsu/home/fr/fr15/fr1583/.conda/envs/protein/lib/python3.7/site-packages/Bio/PDB/StructureBuilder.py:92: PDBConstructionWarning: WARNING: Chain B is discontinuous at line 3711.\n",
      "  PDBConstructionWarning,\n",
      "/wsu/home/fr/fr15/fr1583/.conda/envs/protein/lib/python3.7/site-packages/Bio/PDB/StructureBuilder.py:92: PDBConstructionWarning: WARNING: Chain A is discontinuous at line 3856.\n",
      "  PDBConstructionWarning,\n"
     ]
    },
    {
     "name": "stdout",
     "output_type": "stream",
     "text": [
      "259 3nvg\n",
      "260 3nzl\n",
      "261 3o0p\n",
      "262 3o5p\n",
      "263 3obq\n",
      "264 3oqy\n"
     ]
    },
    {
     "name": "stderr",
     "output_type": "stream",
     "text": [
      "/wsu/home/fr/fr15/fr1583/.conda/envs/protein/lib/python3.7/site-packages/Bio/PDB/StructureBuilder.py:92: PDBConstructionWarning: WARNING: Chain A is discontinuous at line 1195.\n",
      "  PDBConstructionWarning,\n",
      "/wsu/home/fr/fr15/fr1583/.conda/envs/protein/lib/python3.7/site-packages/Bio/PDB/StructureBuilder.py:92: PDBConstructionWarning: WARNING: Chain B is discontinuous at line 1384.\n",
      "  PDBConstructionWarning,\n",
      "/wsu/home/fr/fr15/fr1583/.conda/envs/protein/lib/python3.7/site-packages/Bio/PDB/StructureBuilder.py:92: PDBConstructionWarning: WARNING: Chain b is discontinuous at line 1848.\n",
      "  PDBConstructionWarning,\n",
      "/wsu/home/fr/fr15/fr1583/.conda/envs/protein/lib/python3.7/site-packages/Bio/PDB/StructureBuilder.py:92: PDBConstructionWarning: WARNING: Chain B is discontinuous at line 1885.\n",
      "  PDBConstructionWarning,\n",
      "/wsu/home/fr/fr15/fr1583/.conda/envs/protein/lib/python3.7/site-packages/Bio/PDB/StructureBuilder.py:92: PDBConstructionWarning: WARNING: Chain a is discontinuous at line 2033.\n",
      "  PDBConstructionWarning,\n",
      "/wsu/home/fr/fr15/fr1583/.conda/envs/protein/lib/python3.7/site-packages/Bio/PDB/StructureBuilder.py:92: PDBConstructionWarning: WARNING: Chain A is discontinuous at line 2063.\n",
      "  PDBConstructionWarning,\n"
     ]
    },
    {
     "name": "stdout",
     "output_type": "stream",
     "text": [
      "265 3p6j\n",
      "266 3pd7\n"
     ]
    },
    {
     "name": "stderr",
     "output_type": "stream",
     "text": [
      "/wsu/home/fr/fr15/fr1583/.conda/envs/protein/lib/python3.7/site-packages/Bio/PDB/StructureBuilder.py:92: PDBConstructionWarning: WARNING: Chain A is discontinuous at line 3408.\n",
      "  PDBConstructionWarning,\n",
      "/wsu/home/fr/fr15/fr1583/.conda/envs/protein/lib/python3.7/site-packages/Bio/PDB/StructureBuilder.py:92: PDBConstructionWarning: WARNING: Chain B is discontinuous at line 3587.\n",
      "  PDBConstructionWarning,\n",
      "/wsu/home/fr/fr15/fr1583/.conda/envs/protein/lib/python3.7/site-packages/Bio/PDB/StructureBuilder.py:92: PDBConstructionWarning: WARNING: Chain A is discontinuous at line 1342.\n",
      "  PDBConstructionWarning,\n",
      "/wsu/home/fr/fr15/fr1583/.conda/envs/protein/lib/python3.7/site-packages/Bio/PDB/StructureBuilder.py:92: PDBConstructionWarning: WARNING: Chain B is discontinuous at line 1505.\n",
      "  PDBConstructionWarning,\n"
     ]
    },
    {
     "name": "stdout",
     "output_type": "stream",
     "text": [
      "267 3pes\n",
      "268 3pid\n",
      "269 3piw\n",
      "270 3pkv\n",
      "271 3psm\n",
      "272 3ptl\n"
     ]
    },
    {
     "name": "stderr",
     "output_type": "stream",
     "text": [
      "/wsu/home/fr/fr15/fr1583/.conda/envs/protein/lib/python3.7/site-packages/Bio/PDB/StructureBuilder.py:92: PDBConstructionWarning: WARNING: Chain A is discontinuous at line 772.\n",
      "  PDBConstructionWarning,\n",
      "/wsu/home/fr/fr15/fr1583/.conda/envs/protein/lib/python3.7/site-packages/Bio/PDB/StructureBuilder.py:92: PDBConstructionWarning: WARNING: Chain B is discontinuous at line 859.\n",
      "  PDBConstructionWarning,\n",
      "/wsu/home/fr/fr15/fr1583/.conda/envs/protein/lib/python3.7/site-packages/Bio/PDB/StructureBuilder.py:92: PDBConstructionWarning: WARNING: Chain A is discontinuous at line 2101.\n",
      "  PDBConstructionWarning,\n",
      "/wsu/home/fr/fr15/fr1583/.conda/envs/protein/lib/python3.7/site-packages/Bio/PDB/StructureBuilder.py:92: PDBConstructionWarning: WARNING: Chain B is discontinuous at line 2532.\n",
      "  PDBConstructionWarning,\n"
     ]
    },
    {
     "name": "stdout",
     "output_type": "stream",
     "text": [
      "273 3pve\n",
      "274 3pz9\n"
     ]
    },
    {
     "name": "stderr",
     "output_type": "stream",
     "text": [
      "/wsu/home/fr/fr15/fr1583/.conda/envs/protein/lib/python3.7/site-packages/Bio/PDB/StructureBuilder.py:92: PDBConstructionWarning: WARNING: Chain A is discontinuous at line 2656.\n",
      "  PDBConstructionWarning,\n",
      "/wsu/home/fr/fr15/fr1583/.conda/envs/protein/lib/python3.7/site-packages/Bio/PDB/StructureBuilder.py:92: PDBConstructionWarning: WARNING: Chain B is discontinuous at line 2788.\n",
      "  PDBConstructionWarning,\n"
     ]
    },
    {
     "name": "stdout",
     "output_type": "stream",
     "text": [
      "275 3pzz\n",
      "276 3q2x\n",
      "277 3q6l\n"
     ]
    },
    {
     "name": "stderr",
     "output_type": "stream",
     "text": [
      "/wsu/home/fr/fr15/fr1583/.conda/envs/protein/lib/python3.7/site-packages/Bio/PDB/StructureBuilder.py:92: PDBConstructionWarning: WARNING: Chain A is discontinuous at line 76.\n",
      "  PDBConstructionWarning,\n",
      "/wsu/home/fr/fr15/fr1583/.conda/envs/protein/lib/python3.7/site-packages/Bio/PDB/StructureBuilder.py:92: PDBConstructionWarning: WARNING: Chain B is discontinuous at line 79.\n",
      "  PDBConstructionWarning,\n"
     ]
    },
    {
     "name": "stdout",
     "output_type": "stream",
     "text": [
      "278 3qds\n",
      "279 3qpa\n"
     ]
    },
    {
     "name": "stderr",
     "output_type": "stream",
     "text": [
      "/wsu/home/fr/fr15/fr1583/.conda/envs/protein/lib/python3.7/site-packages/Bio/PDB/StructureBuilder.py:92: PDBConstructionWarning: WARNING: Chain A is discontinuous at line 2240.\n",
      "  PDBConstructionWarning,\n",
      "/wsu/home/fr/fr15/fr1583/.conda/envs/protein/lib/python3.7/site-packages/Bio/PDB/StructureBuilder.py:92: PDBConstructionWarning: WARNING: Chain B is discontinuous at line 2352.\n",
      "  PDBConstructionWarning,\n"
     ]
    },
    {
     "name": "stdout",
     "output_type": "stream",
     "text": [
      "280 3r6d\n",
      "281 3r87\n",
      "282 3rq9\n"
     ]
    },
    {
     "name": "stderr",
     "output_type": "stream",
     "text": [
      "/wsu/home/fr/fr15/fr1583/.conda/envs/protein/lib/python3.7/site-packages/Bio/PDB/StructureBuilder.py:92: PDBConstructionWarning: WARNING: Chain A is discontinuous at line 1363.\n",
      "  PDBConstructionWarning,\n",
      "/wsu/home/fr/fr15/fr1583/.conda/envs/protein/lib/python3.7/site-packages/Bio/PDB/StructureBuilder.py:92: PDBConstructionWarning: WARNING: Chain B is discontinuous at line 1459.\n",
      "  PDBConstructionWarning,\n",
      "/wsu/home/fr/fr15/fr1583/.conda/envs/protein/lib/python3.7/site-packages/Bio/PDB/StructureBuilder.py:92: PDBConstructionWarning: WARNING: Chain A is discontinuous at line 964.\n",
      "  PDBConstructionWarning,\n",
      "/wsu/home/fr/fr15/fr1583/.conda/envs/protein/lib/python3.7/site-packages/Bio/PDB/StructureBuilder.py:92: PDBConstructionWarning: WARNING: Chain B is discontinuous at line 1052.\n",
      "  PDBConstructionWarning,\n"
     ]
    },
    {
     "name": "stdout",
     "output_type": "stream",
     "text": [
      "283 3ry0\n",
      "284 3rzy\n",
      "285 3s0a\n",
      "286 3sd2\n",
      "287 3seb\n",
      "288 3sed\n",
      "Found input variables with inconsistent numbers of samples: [124, 125]\n",
      "289 3so6\n",
      "290 3sr3\n"
     ]
    },
    {
     "name": "stderr",
     "output_type": "stream",
     "text": [
      "/wsu/home/fr/fr15/fr1583/.conda/envs/protein/lib/python3.7/site-packages/Bio/PDB/StructureBuilder.py:92: PDBConstructionWarning: WARNING: Chain A is discontinuous at line 1217.\n",
      "  PDBConstructionWarning,\n",
      "/wsu/home/fr/fr15/fr1583/.conda/envs/protein/lib/python3.7/site-packages/Bio/PDB/StructureBuilder.py:92: PDBConstructionWarning: WARNING: Chain Q is discontinuous at line 1383.\n",
      "  PDBConstructionWarning,\n",
      "/wsu/home/fr/fr15/fr1583/.conda/envs/protein/lib/python3.7/site-packages/Bio/PDB/StructureBuilder.py:92: PDBConstructionWarning: WARNING: Chain A is discontinuous at line 5075.\n",
      "  PDBConstructionWarning,\n",
      "/wsu/home/fr/fr15/fr1583/.conda/envs/protein/lib/python3.7/site-packages/Bio/PDB/StructureBuilder.py:92: PDBConstructionWarning: WARNING: Chain B is discontinuous at line 5427.\n",
      "  PDBConstructionWarning,\n",
      "/wsu/home/fr/fr15/fr1583/.conda/envs/protein/lib/python3.7/site-packages/Bio/PDB/StructureBuilder.py:92: PDBConstructionWarning: WARNING: Chain A is discontinuous at line 1803.\n",
      "  PDBConstructionWarning,\n",
      "/wsu/home/fr/fr15/fr1583/.conda/envs/protein/lib/python3.7/site-packages/Bio/PDB/StructureBuilder.py:92: PDBConstructionWarning: WARNING: Chain B is discontinuous at line 1998.\n",
      "  PDBConstructionWarning,\n"
     ]
    },
    {
     "name": "stdout",
     "output_type": "stream",
     "text": [
      "291 3suk\n",
      "292 3szh\n"
     ]
    },
    {
     "name": "stderr",
     "output_type": "stream",
     "text": [
      "/wsu/home/fr/fr15/fr1583/.conda/envs/protein/lib/python3.7/site-packages/Bio/PDB/StructureBuilder.py:92: PDBConstructionWarning: WARNING: Chain A is discontinuous at line 5510.\n",
      "  PDBConstructionWarning,\n",
      "/wsu/home/fr/fr15/fr1583/.conda/envs/protein/lib/python3.7/site-packages/Bio/PDB/StructureBuilder.py:92: PDBConstructionWarning: WARNING: Chain B is discontinuous at line 5665.\n",
      "  PDBConstructionWarning,\n",
      "/wsu/home/fr/fr15/fr1583/.conda/envs/protein/lib/python3.7/site-packages/Bio/PDB/StructureBuilder.py:92: PDBConstructionWarning: WARNING: Chain C is discontinuous at line 5805.\n",
      "  PDBConstructionWarning,\n",
      "/wsu/home/fr/fr15/fr1583/.conda/envs/protein/lib/python3.7/site-packages/Bio/PDB/StructureBuilder.py:92: PDBConstructionWarning: WARNING: Chain D is discontinuous at line 5941.\n",
      "  PDBConstructionWarning,\n",
      "/wsu/home/fr/fr15/fr1583/.conda/envs/protein/lib/python3.7/site-packages/Bio/PDB/StructureBuilder.py:92: PDBConstructionWarning: WARNING: Chain E is discontinuous at line 6078.\n",
      "  PDBConstructionWarning,\n",
      "/wsu/home/fr/fr15/fr1583/.conda/envs/protein/lib/python3.7/site-packages/Bio/PDB/StructureBuilder.py:92: PDBConstructionWarning: WARNING: Chain F is discontinuous at line 6214.\n",
      "  PDBConstructionWarning,\n"
     ]
    },
    {
     "name": "stdout",
     "output_type": "stream",
     "text": [
      "293 3t0h\n",
      "294 3t3k\n",
      "295 3t47\n"
     ]
    },
    {
     "name": "stderr",
     "output_type": "stream",
     "text": [
      "/wsu/home/fr/fr15/fr1583/.conda/envs/protein/lib/python3.7/site-packages/Bio/PDB/StructureBuilder.py:92: PDBConstructionWarning: WARNING: Chain A is discontinuous at line 2374.\n",
      "  PDBConstructionWarning,\n",
      "/wsu/home/fr/fr15/fr1583/.conda/envs/protein/lib/python3.7/site-packages/Bio/PDB/StructureBuilder.py:92: PDBConstructionWarning: WARNING: Chain B is discontinuous at line 2472.\n",
      "  PDBConstructionWarning,\n"
     ]
    },
    {
     "name": "stdout",
     "output_type": "stream",
     "text": [
      "296 3tdn\n"
     ]
    },
    {
     "name": "stderr",
     "output_type": "stream",
     "text": [
      "/wsu/home/fr/fr15/fr1583/.conda/envs/protein/lib/python3.7/site-packages/Bio/PDB/StructureBuilder.py:92: PDBConstructionWarning: WARNING: Chain A is discontinuous at line 2735.\n",
      "  PDBConstructionWarning,\n",
      "/wsu/home/fr/fr15/fr1583/.conda/envs/protein/lib/python3.7/site-packages/Bio/PDB/StructureBuilder.py:92: PDBConstructionWarning: WARNING: Chain B is discontinuous at line 2819.\n",
      "  PDBConstructionWarning,\n"
     ]
    },
    {
     "name": "stdout",
     "output_type": "stream",
     "text": [
      "297 3tow\n",
      "298 3tua\n",
      "299 3tys\n",
      "300 3u6g\n"
     ]
    },
    {
     "name": "stderr",
     "output_type": "stream",
     "text": [
      "/wsu/home/fr/fr15/fr1583/.conda/envs/protein/lib/python3.7/site-packages/Bio/PDB/StructureBuilder.py:92: PDBConstructionWarning: WARNING: Chain A is discontinuous at line 2011.\n",
      "  PDBConstructionWarning,\n",
      "/wsu/home/fr/fr15/fr1583/.conda/envs/protein/lib/python3.7/site-packages/Bio/PDB/StructureBuilder.py:92: PDBConstructionWarning: WARNING: Chain B is discontinuous at line 2112.\n",
      "  PDBConstructionWarning,\n"
     ]
    },
    {
     "name": "stdout",
     "output_type": "stream",
     "text": [
      "301 3u97\n",
      "302 3uci\n",
      "303 3ur8\n"
     ]
    },
    {
     "name": "stderr",
     "output_type": "stream",
     "text": [
      "/wsu/home/fr/fr15/fr1583/.conda/envs/protein/lib/python3.7/site-packages/Bio/PDB/StructureBuilder.py:92: PDBConstructionWarning: WARNING: Chain A is discontinuous at line 5131.\n",
      "  PDBConstructionWarning,\n",
      "/wsu/home/fr/fr15/fr1583/.conda/envs/protein/lib/python3.7/site-packages/Bio/PDB/StructureBuilder.py:92: PDBConstructionWarning: WARNING: Chain B is discontinuous at line 5559.\n",
      "  PDBConstructionWarning,\n"
     ]
    },
    {
     "name": "stdout",
     "output_type": "stream",
     "text": [
      "304 3us6\n",
      "305 3v1a\n",
      "306 3v75\n",
      "307 3vn0\n",
      "308 3vor\n"
     ]
    },
    {
     "name": "stderr",
     "output_type": "stream",
     "text": [
      "/wsu/home/fr/fr15/fr1583/.conda/envs/protein/lib/python3.7/site-packages/Bio/PDB/StructureBuilder.py:92: PDBConstructionWarning: WARNING: Chain A is discontinuous at line 1690.\n",
      "  PDBConstructionWarning,\n",
      "/wsu/home/fr/fr15/fr1583/.conda/envs/protein/lib/python3.7/site-packages/Bio/PDB/StructureBuilder.py:92: PDBConstructionWarning: WARNING: Chain C is discontinuous at line 1746.\n",
      "  PDBConstructionWarning,\n",
      "/wsu/home/fr/fr15/fr1583/.conda/envs/protein/lib/python3.7/site-packages/Bio/PDB/StructureBuilder.py:92: PDBConstructionWarning: WARNING: Chain B is discontinuous at line 1814.\n",
      "  PDBConstructionWarning,\n",
      "/wsu/home/fr/fr15/fr1583/.conda/envs/protein/lib/python3.7/site-packages/Bio/PDB/StructureBuilder.py:92: PDBConstructionWarning: WARNING: Chain D is discontinuous at line 1878.\n",
      "  PDBConstructionWarning,\n"
     ]
    },
    {
     "name": "stdout",
     "output_type": "stream",
     "text": [
      "309 3vub\n",
      "310 3vvv\n",
      "311 3vz9\n",
      "312 3w4q\n"
     ]
    },
    {
     "name": "stderr",
     "output_type": "stream",
     "text": [
      "/wsu/home/fr/fr15/fr1583/.conda/envs/protein/lib/python3.7/site-packages/Bio/PDB/StructureBuilder.py:92: PDBConstructionWarning: WARNING: Chain B is discontinuous at line 1366.\n",
      "  PDBConstructionWarning,\n",
      "/wsu/home/fr/fr15/fr1583/.conda/envs/protein/lib/python3.7/site-packages/Bio/PDB/StructureBuilder.py:92: PDBConstructionWarning: WARNING: Chain D is discontinuous at line 1527.\n",
      "  PDBConstructionWarning,\n",
      "/wsu/home/fr/fr15/fr1583/.conda/envs/protein/lib/python3.7/site-packages/Bio/PDB/StructureBuilder.py:92: PDBConstructionWarning: WARNING: Chain A is discontinuous at line 6039.\n",
      "  PDBConstructionWarning,\n",
      "/wsu/home/fr/fr15/fr1583/.conda/envs/protein/lib/python3.7/site-packages/Bio/PDB/StructureBuilder.py:92: PDBConstructionWarning: WARNING: Chain B is discontinuous at line 6338.\n",
      "  PDBConstructionWarning,\n",
      "/wsu/home/fr/fr15/fr1583/.conda/envs/protein/lib/python3.7/site-packages/Bio/PDB/StructureBuilder.py:92: PDBConstructionWarning: WARNING: Chain C is discontinuous at line 6650.\n",
      "  PDBConstructionWarning,\n",
      "/wsu/home/fr/fr15/fr1583/.conda/envs/protein/lib/python3.7/site-packages/Bio/PDB/StructureBuilder.py:92: PDBConstructionWarning: WARNING: Chain A is discontinuous at line 6039.\n",
      "  PDBConstructionWarning,\n",
      "/wsu/home/fr/fr15/fr1583/.conda/envs/protein/lib/python3.7/site-packages/Bio/PDB/StructureBuilder.py:92: PDBConstructionWarning: WARNING: Chain B is discontinuous at line 6338.\n",
      "  PDBConstructionWarning,\n",
      "/wsu/home/fr/fr15/fr1583/.conda/envs/protein/lib/python3.7/site-packages/Bio/PDB/StructureBuilder.py:92: PDBConstructionWarning: WARNING: Chain C is discontinuous at line 6650.\n",
      "  PDBConstructionWarning,\n"
     ]
    },
    {
     "name": "stdout",
     "output_type": "stream",
     "text": [
      "Found input variables with inconsistent numbers of samples: [773, 774]\n",
      "313 3zbd\n"
     ]
    },
    {
     "name": "stderr",
     "output_type": "stream",
     "text": [
      "/wsu/home/fr/fr15/fr1583/.conda/envs/protein/lib/python3.7/site-packages/Bio/PDB/StructureBuilder.py:92: PDBConstructionWarning: WARNING: Chain A is discontinuous at line 1718.\n",
      "  PDBConstructionWarning,\n",
      "/wsu/home/fr/fr15/fr1583/.conda/envs/protein/lib/python3.7/site-packages/Bio/PDB/StructureBuilder.py:92: PDBConstructionWarning: WARNING: Chain B is discontinuous at line 1839.\n",
      "  PDBConstructionWarning,\n",
      "/wsu/home/fr/fr15/fr1583/.conda/envs/protein/lib/python3.7/site-packages/Bio/PDB/StructureBuilder.py:92: PDBConstructionWarning: WARNING: Chain A is discontinuous at line 1260.\n",
      "  PDBConstructionWarning,\n",
      "/wsu/home/fr/fr15/fr1583/.conda/envs/protein/lib/python3.7/site-packages/Bio/PDB/StructureBuilder.py:92: PDBConstructionWarning: WARNING: Chain B is discontinuous at line 1283.\n",
      "  PDBConstructionWarning,\n"
     ]
    },
    {
     "name": "stdout",
     "output_type": "stream",
     "text": [
      "314 3zit\n",
      "315 3zrx\n"
     ]
    },
    {
     "name": "stderr",
     "output_type": "stream",
     "text": [
      "/wsu/home/fr/fr15/fr1583/.conda/envs/protein/lib/python3.7/site-packages/Bio/PDB/StructureBuilder.py:92: PDBConstructionWarning: WARNING: Chain A is discontinuous at line 1853.\n",
      "  PDBConstructionWarning,\n",
      "/wsu/home/fr/fr15/fr1583/.conda/envs/protein/lib/python3.7/site-packages/Bio/PDB/StructureBuilder.py:92: PDBConstructionWarning: WARNING: Chain B is discontinuous at line 1983.\n",
      "  PDBConstructionWarning,\n"
     ]
    },
    {
     "name": "stdout",
     "output_type": "stream",
     "text": [
      "316 3zsl\n",
      "317 3zzp\n",
      "318 3zzy\n",
      "319 4a02\n"
     ]
    },
    {
     "name": "stderr",
     "output_type": "stream",
     "text": [
      "/wsu/home/fr/fr15/fr1583/.conda/envs/protein/lib/python3.7/site-packages/Bio/PDB/StructureBuilder.py:92: PDBConstructionWarning: WARNING: Chain A is discontinuous at line 1741.\n",
      "  PDBConstructionWarning,\n",
      "/wsu/home/fr/fr15/fr1583/.conda/envs/protein/lib/python3.7/site-packages/Bio/PDB/StructureBuilder.py:92: PDBConstructionWarning: WARNING: Chain B is discontinuous at line 1846.\n",
      "  PDBConstructionWarning,\n",
      "/wsu/home/fr/fr15/fr1583/.conda/envs/protein/lib/python3.7/site-packages/Bio/PDB/StructureBuilder.py:92: PDBConstructionWarning: WARNING: Chain C is discontinuous at line 1925.\n",
      "  PDBConstructionWarning,\n",
      "/wsu/home/fr/fr15/fr1583/.conda/envs/protein/lib/python3.7/site-packages/Bio/PDB/StructureBuilder.py:92: PDBConstructionWarning: WARNING: Chain D is discontinuous at line 1930.\n",
      "  PDBConstructionWarning,\n"
     ]
    },
    {
     "name": "stdout",
     "output_type": "stream",
     "text": [
      "320 4acj\n",
      "321 4ae7\n",
      "322 4am1\n",
      "323 4ann\n",
      "324 4avr\n",
      "325 4axy\n",
      "326 4b6g\n"
     ]
    },
    {
     "name": "stderr",
     "output_type": "stream",
     "text": [
      "/wsu/home/fr/fr15/fr1583/.conda/envs/protein/lib/python3.7/site-packages/Bio/PDB/StructureBuilder.py:92: PDBConstructionWarning: WARNING: Chain A is discontinuous at line 1455.\n",
      "  PDBConstructionWarning,\n",
      "/wsu/home/fr/fr15/fr1583/.conda/envs/protein/lib/python3.7/site-packages/Bio/PDB/StructureBuilder.py:92: PDBConstructionWarning: WARNING: Chain B is discontinuous at line 1565.\n",
      "  PDBConstructionWarning,\n",
      "/wsu/home/fr/fr15/fr1583/.conda/envs/protein/lib/python3.7/site-packages/Bio/PDB/StructureBuilder.py:92: PDBConstructionWarning: WARNING: Chain A is discontinuous at line 716.\n",
      "  PDBConstructionWarning,\n",
      "/wsu/home/fr/fr15/fr1583/.conda/envs/protein/lib/python3.7/site-packages/Bio/PDB/StructureBuilder.py:92: PDBConstructionWarning: WARNING: Chain B is discontinuous at line 744.\n",
      "  PDBConstructionWarning,\n",
      "/wsu/home/fr/fr15/fr1583/.conda/envs/protein/lib/python3.7/site-packages/Bio/PDB/StructureBuilder.py:92: PDBConstructionWarning: WARNING: Chain C is discontinuous at line 765.\n",
      "  PDBConstructionWarning,\n",
      "/wsu/home/fr/fr15/fr1583/.conda/envs/protein/lib/python3.7/site-packages/Bio/PDB/StructureBuilder.py:92: PDBConstructionWarning: WARNING: Chain A is discontinuous at line 8842.\n",
      "  PDBConstructionWarning,\n",
      "/wsu/home/fr/fr15/fr1583/.conda/envs/protein/lib/python3.7/site-packages/Bio/PDB/StructureBuilder.py:92: PDBConstructionWarning: WARNING: Chain B is discontinuous at line 9235.\n",
      "  PDBConstructionWarning,\n"
     ]
    },
    {
     "name": "stdout",
     "output_type": "stream",
     "text": [
      "327 4b9g\n"
     ]
    },
    {
     "name": "stderr",
     "output_type": "stream",
     "text": [
      "/wsu/home/fr/fr15/fr1583/.conda/envs/protein/lib/python3.7/site-packages/Bio/PDB/StructureBuilder.py:92: PDBConstructionWarning: WARNING: Chain A is discontinuous at line 4378.\n",
      "  PDBConstructionWarning,\n",
      "/wsu/home/fr/fr15/fr1583/.conda/envs/protein/lib/python3.7/site-packages/Bio/PDB/StructureBuilder.py:92: PDBConstructionWarning: WARNING: Chain B is discontinuous at line 4632.\n",
      "  PDBConstructionWarning,\n"
     ]
    },
    {
     "name": "stdout",
     "output_type": "stream",
     "text": [
      "328 4dd5\n",
      "329 4dkn\n"
     ]
    },
    {
     "name": "stderr",
     "output_type": "stream",
     "text": [
      "/wsu/home/fr/fr15/fr1583/.conda/envs/protein/lib/python3.7/site-packages/Bio/PDB/StructureBuilder.py:92: PDBConstructionWarning: WARNING: Chain A is discontinuous at line 3394.\n",
      "  PDBConstructionWarning,\n",
      "/wsu/home/fr/fr15/fr1583/.conda/envs/protein/lib/python3.7/site-packages/Bio/PDB/StructureBuilder.py:92: PDBConstructionWarning: WARNING: Chain B is discontinuous at line 3649.\n",
      "  PDBConstructionWarning,\n"
     ]
    },
    {
     "name": "stdout",
     "output_type": "stream",
     "text": [
      "330 4dnd\n",
      "331 4dpz\n",
      "Found input variables with inconsistent numbers of samples: [109, 110]\n",
      "332 4dq7\n"
     ]
    },
    {
     "name": "stderr",
     "output_type": "stream",
     "text": [
      "/wsu/home/fr/fr15/fr1583/.conda/envs/protein/lib/python3.7/site-packages/Bio/PDB/StructureBuilder.py:92: PDBConstructionWarning: WARNING: Chain A is discontinuous at line 5214.\n",
      "  PDBConstructionWarning,\n",
      "/wsu/home/fr/fr15/fr1583/.conda/envs/protein/lib/python3.7/site-packages/Bio/PDB/StructureBuilder.py:92: PDBConstructionWarning: WARNING: Chain B is discontinuous at line 5376.\n",
      "  PDBConstructionWarning,\n"
     ]
    },
    {
     "name": "stdout",
     "output_type": "stream",
     "text": [
      "333 4dt4\n",
      "334 4ek3\n",
      "335 4ery\n"
     ]
    },
    {
     "name": "stderr",
     "output_type": "stream",
     "text": [
      "/wsu/home/fr/fr15/fr1583/.conda/envs/protein/lib/python3.7/site-packages/Bio/PDB/StructureBuilder.py:92: PDBConstructionWarning: WARNING: Chain A is discontinuous at line 2457.\n",
      "  PDBConstructionWarning,\n",
      "/wsu/home/fr/fr15/fr1583/.conda/envs/protein/lib/python3.7/site-packages/Bio/PDB/StructureBuilder.py:92: PDBConstructionWarning: WARNING: Chain D is discontinuous at line 2961.\n",
      "  PDBConstructionWarning,\n"
     ]
    },
    {
     "name": "stdout",
     "output_type": "stream",
     "text": [
      "336 4es1\n",
      "337 4eug\n",
      "338 4f01\n"
     ]
    },
    {
     "name": "stderr",
     "output_type": "stream",
     "text": [
      "/wsu/home/fr/fr15/fr1583/.conda/envs/protein/lib/python3.7/site-packages/Bio/PDB/StructureBuilder.py:92: PDBConstructionWarning: WARNING: Chain A is discontinuous at line 3472.\n",
      "  PDBConstructionWarning,\n",
      "/wsu/home/fr/fr15/fr1583/.conda/envs/protein/lib/python3.7/site-packages/Bio/PDB/StructureBuilder.py:92: PDBConstructionWarning: WARNING: Chain B is discontinuous at line 3727.\n",
      "  PDBConstructionWarning,\n"
     ]
    },
    {
     "name": "stdout",
     "output_type": "stream",
     "text": [
      "339 4f3j\n",
      "340 4fr9\n",
      "341 4g14\n",
      "342 4g2e\n",
      "343 4g5x\n"
     ]
    },
    {
     "name": "stderr",
     "output_type": "stream",
     "text": [
      "/wsu/home/fr/fr15/fr1583/.conda/envs/protein/lib/python3.7/site-packages/Bio/PDB/StructureBuilder.py:92: PDBConstructionWarning: WARNING: Chain A is discontinuous at line 4430.\n",
      "  PDBConstructionWarning,\n",
      "/wsu/home/fr/fr15/fr1583/.conda/envs/protein/lib/python3.7/site-packages/Bio/PDB/StructureBuilder.py:92: PDBConstructionWarning: WARNING: Chain B is discontinuous at line 4890.\n",
      "  PDBConstructionWarning,\n"
     ]
    },
    {
     "name": "stdout",
     "output_type": "stream",
     "text": [
      "344 4g6c\n"
     ]
    },
    {
     "name": "stderr",
     "output_type": "stream",
     "text": [
      "/wsu/home/fr/fr15/fr1583/.conda/envs/protein/lib/python3.7/site-packages/Bio/PDB/StructureBuilder.py:92: PDBConstructionWarning: WARNING: Chain A is discontinuous at line 5008.\n",
      "  PDBConstructionWarning,\n",
      "/wsu/home/fr/fr15/fr1583/.conda/envs/protein/lib/python3.7/site-packages/Bio/PDB/StructureBuilder.py:92: PDBConstructionWarning: WARNING: Chain B is discontinuous at line 5343.\n",
      "  PDBConstructionWarning,\n",
      "/wsu/home/fr/fr15/fr1583/.conda/envs/protein/lib/python3.7/site-packages/Bio/PDB/StructureBuilder.py:92: PDBConstructionWarning: WARNING: Chain A is discontinuous at line 1658.\n",
      "  PDBConstructionWarning,\n",
      "/wsu/home/fr/fr15/fr1583/.conda/envs/protein/lib/python3.7/site-packages/Bio/PDB/StructureBuilder.py:92: PDBConstructionWarning: WARNING: Chain B is discontinuous at line 1762.\n",
      "  PDBConstructionWarning,\n"
     ]
    },
    {
     "name": "stdout",
     "output_type": "stream",
     "text": [
      "345 4g7x\n",
      "346 4ga2\n",
      "347 4gmq\n",
      "348 4gs3\n",
      "349 4h4j\n",
      "350 4h89\n",
      "351 4hde\n",
      "352 4hjp\n",
      "353 4hwm\n",
      "354 4il7\n",
      "355 4j11\n"
     ]
    },
    {
     "name": "stderr",
     "output_type": "stream",
     "text": [
      "/wsu/home/fr/fr15/fr1583/.conda/envs/protein/lib/python3.7/site-packages/Bio/PDB/StructureBuilder.py:92: PDBConstructionWarning: WARNING: Chain A is discontinuous at line 2946.\n",
      "  PDBConstructionWarning,\n",
      "/wsu/home/fr/fr15/fr1583/.conda/envs/protein/lib/python3.7/site-packages/Bio/PDB/StructureBuilder.py:92: PDBConstructionWarning: WARNING: Chain B is discontinuous at line 3062.\n",
      "  PDBConstructionWarning,\n",
      "/wsu/home/fr/fr15/fr1583/.conda/envs/protein/lib/python3.7/site-packages/Bio/PDB/StructureBuilder.py:92: PDBConstructionWarning: WARNING: Chain C is discontinuous at line 3200.\n",
      "  PDBConstructionWarning,\n",
      "/wsu/home/fr/fr15/fr1583/.conda/envs/protein/lib/python3.7/site-packages/Bio/PDB/StructureBuilder.py:92: PDBConstructionWarning: WARNING: Chain D is discontinuous at line 3304.\n",
      "  PDBConstructionWarning,\n"
     ]
    },
    {
     "name": "stdout",
     "output_type": "stream",
     "text": [
      "356 4j5o\n"
     ]
    },
    {
     "name": "stderr",
     "output_type": "stream",
     "text": [
      "/wsu/home/fr/fr15/fr1583/.conda/envs/protein/lib/python3.7/site-packages/Bio/PDB/StructureBuilder.py:92: PDBConstructionWarning: WARNING: Chain A is discontinuous at line 1959.\n",
      "  PDBConstructionWarning,\n",
      "/wsu/home/fr/fr15/fr1583/.conda/envs/protein/lib/python3.7/site-packages/Bio/PDB/StructureBuilder.py:92: PDBConstructionWarning: WARNING: Chain B is discontinuous at line 2070.\n",
      "  PDBConstructionWarning,\n"
     ]
    },
    {
     "name": "stdout",
     "output_type": "stream",
     "text": [
      "357 4j5q\n",
      "358 4j78\n"
     ]
    },
    {
     "name": "stderr",
     "output_type": "stream",
     "text": [
      "/wsu/home/fr/fr15/fr1583/.conda/envs/protein/lib/python3.7/site-packages/Bio/PDB/StructureBuilder.py:92: PDBConstructionWarning: WARNING: Chain A is discontinuous at line 2443.\n",
      "  PDBConstructionWarning,\n",
      "/wsu/home/fr/fr15/fr1583/.conda/envs/protein/lib/python3.7/site-packages/Bio/PDB/StructureBuilder.py:92: PDBConstructionWarning: WARNING: Chain B is discontinuous at line 2774.\n",
      "  PDBConstructionWarning,\n"
     ]
    },
    {
     "name": "stdout",
     "output_type": "stream",
     "text": [
      "359 4jg2\n",
      "360 4jvu\n"
     ]
    },
    {
     "name": "stderr",
     "output_type": "stream",
     "text": [
      "/wsu/home/fr/fr15/fr1583/.conda/envs/protein/lib/python3.7/site-packages/Bio/PDB/StructureBuilder.py:92: PDBConstructionWarning: WARNING: Chain A is discontinuous at line 1615.\n",
      "  PDBConstructionWarning,\n",
      "/wsu/home/fr/fr15/fr1583/.conda/envs/protein/lib/python3.7/site-packages/Bio/PDB/StructureBuilder.py:92: PDBConstructionWarning: WARNING: Chain B is discontinuous at line 1775.\n",
      "  PDBConstructionWarning,\n"
     ]
    },
    {
     "name": "stdout",
     "output_type": "stream",
     "text": [
      "361 4jyp\n"
     ]
    },
    {
     "name": "stderr",
     "output_type": "stream",
     "text": [
      "/wsu/home/fr/fr15/fr1583/.conda/envs/protein/lib/python3.7/site-packages/Bio/PDB/StructureBuilder.py:92: PDBConstructionWarning: WARNING: Chain A is discontinuous at line 4233.\n",
      "  PDBConstructionWarning,\n",
      "/wsu/home/fr/fr15/fr1583/.conda/envs/protein/lib/python3.7/site-packages/Bio/PDB/StructureBuilder.py:92: PDBConstructionWarning: WARNING: Chain B is discontinuous at line 4625.\n",
      "  PDBConstructionWarning,\n"
     ]
    },
    {
     "name": "stdout",
     "output_type": "stream",
     "text": [
      "362 4kef\n",
      "363 5cyt\n",
      "364 6rxn\n"
     ]
    }
   ],
   "source": [
    "model = 'mANM'\n",
    "kernel = 'ilf'\n",
    "# with mp.Pool(mp.cpu_count()) as pool:\n",
    "#     pcc_total = pool.starmap(pcc_pool, [(pair,model,kernel) for pair in enumerate(nameset)])\n",
    "\n",
    "\n",
    "pcc_total = calc_save(model,kernel,nameset[:precalc],exclude_long = 1000)\n",
    "pcc_acc6=np.average(pcc_total,axis=0)  \n"
   ]
  },
  {
   "cell_type": "code",
   "execution_count": 26,
   "metadata": {},
   "outputs": [
    {
     "data": {
      "image/png": "[encoded data removed]",
      "text/plain": [
       "<Figure size 432x288 with 2 Axes>"
      ]
     },
     "metadata": {
      "needs_background": "light"
     },
     "output_type": "display_data"
    }
   ],
   "source": [
    "plt.imshow(pcc_acc6)\n",
    "plt.colorbar()\n",
    "plt.title(f'{model}, {kernel}')\n",
    "plt.show()"
   ]
  },
  {
   "cell_type": "code",
   "execution_count": 27,
   "metadata": {},
   "outputs": [
    {
     "data": {
      "text/plain": [
       "(2, 28)"
      ]
     },
     "execution_count": 27,
     "metadata": {},
     "output_type": "execute_result"
    }
   ],
   "source": [
    "np.unravel_index(np.argmax(pcc_acc6), pcc_acc6.shape)"
   ]
  },
  {
   "cell_type": "code",
   "execution_count": 28,
   "metadata": {},
   "outputs": [
    {
     "data": {
      "text/plain": [
       "0.5243221824084151"
      ]
     },
     "execution_count": 28,
     "metadata": {},
     "output_type": "execute_result"
    }
   ],
   "source": [
    "np.max(pcc_acc6)"
   ]
  },
  {
   "cell_type": "code",
   "execution_count": null,
   "metadata": {},
   "outputs": [],
   "source": []
  },
  {
   "cell_type": "code",
   "execution_count": null,
   "metadata": {},
   "outputs": [],
   "source": []
  }
 ],
 "metadata": {
  "kernelspec": {
   "display_name": "Python(protein)",
   "language": "python",
   "name": "protein"
  },
  "language_info": {
   "codemirror_mode": {
    "name": "ipython",
    "version": 3
   },
   "file_extension": ".py",
   "mimetype": "text/x-python",
   "name": "python",
   "nbconvert_exporter": "python",
   "pygments_lexer": "ipython3",
   "version": "3.7.11"
  }
 },
 "nbformat": 4,
 "nbformat_minor": 5
}
